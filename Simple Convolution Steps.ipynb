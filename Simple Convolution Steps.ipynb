{
 "cells": [
  {
   "cell_type": "markdown",
   "metadata": {},
   "source": [
    "Imports"
   ]
  },
  {
   "cell_type": "code",
   "execution_count": null,
   "metadata": {
    "scrolled": false
   },
   "outputs": [],
   "source": [
    "import numpy as np\n",
    "from scipy import signal\n",
    "import skimage.measure"
   ]
  },
  {
   "cell_type": "markdown",
   "metadata": {},
   "source": [
    "Functions"
   ]
  },
  {
   "cell_type": "code",
   "execution_count": null,
   "metadata": {},
   "outputs": [],
   "source": [
    "def ReLU(x):\n",
    "    return np.maximum(0, x)\n",
    "\n",
    "def Sigmoid(x):\n",
    "    return 1.0 / (1.0 + np.exp(-x))\n",
    "\n",
    "def Softmax(x):\n",
    "    x  = np.subtract(x, np.max(x))        # prevent overflow\n",
    "    ex = np.exp(x)\n",
    "    \n",
    "    return ex / np.sum(ex)"
   ]
  },
  {
   "cell_type": "markdown",
   "metadata": {},
   "source": [
    "Padding"
   ]
  },
  {
   "cell_type": "code",
   "execution_count": null,
   "metadata": {},
   "outputs": [],
   "source": [
    "X  = np.array([[1, 1, 1, 3],\n",
    "               [4, 6, 4, 8],\n",
    "               [30, 0, 1, 5],\n",
    "               [0, 2, 2, 4]])\n",
    "output = np.pad(X, (1, 1), 'constant', constant_values=(0, 0))\n",
    "print(output)"
   ]
  },
  {
   "cell_type": "markdown",
   "metadata": {},
   "source": [
    "Convolution"
   ]
  },
  {
   "cell_type": "code",
   "execution_count": null,
   "metadata": {},
   "outputs": [],
   "source": [
    "X  = np.array([[1, 1, 1, 3],\n",
    "               [4, 6, 4, 8],\n",
    "               [30, 0, 1, 5],\n",
    "               [0, 2, 2, 4]])\n",
    "filter = np.eye(2) #2x2 identity matrix\n",
    "output = signal.convolve2d(X, filter, 'valid') #No padding. 'same' to pad\n",
    "print(output)"
   ]
  },
  {
   "cell_type": "markdown",
   "metadata": {},
   "source": [
    "Max Pooling"
   ]
  },
  {
   "cell_type": "code",
   "execution_count": null,
   "metadata": {},
   "outputs": [],
   "source": [
    "X  = np.array([[1, 1, 1, 3],\n",
    "               [4, 6, 4, 8],\n",
    "               [30, 0, 1, 5],\n",
    "               [0, 2, 2, 4]])\n",
    "\n",
    "skimage.measure.block_reduce(X, (2, 2), np.max)"
   ]
  },
  {
   "cell_type": "markdown",
   "metadata": {},
   "source": [
    "Average Pooling"
   ]
  },
  {
   "cell_type": "code",
   "execution_count": null,
   "metadata": {},
   "outputs": [],
   "source": [
    "X  = np.array([[1, 1, 1, 3],\n",
    "               [4, 6, 4, 8],\n",
    "               [30, 0, 1, 5],\n",
    "               [0, 2, 2, 4]])\n",
    "\n",
    "skimage.measure.block_reduce(X, (2, 2), np.average)"
   ]
  },
  {
   "cell_type": "markdown",
   "metadata": {},
   "source": [
    "Activation Layer (ReLU Layer)"
   ]
  },
  {
   "cell_type": "code",
   "execution_count": null,
   "metadata": {},
   "outputs": [],
   "source": [
    "X  = np.array([[-1, 1, 1, 3],\n",
    "               [4, -6, 4, 8],\n",
    "               [-30, 0, 1, -5],\n",
    "               [0, 2, -2, 4]])\n",
    "\n",
    "output = ReLU(X)\n",
    "print(output)"
   ]
  },
  {
   "cell_type": "code",
   "execution_count": null,
   "metadata": {},
   "outputs": [],
   "source": []
  }
 ],
 "metadata": {
  "kernelspec": {
   "display_name": "Python 3",
   "language": "python",
   "name": "python3"
  },
  "language_info": {
   "codemirror_mode": {
    "name": "ipython",
    "version": 3
   },
   "file_extension": ".py",
   "mimetype": "text/x-python",
   "name": "python",
   "nbconvert_exporter": "python",
   "pygments_lexer": "ipython3",
   "version": "3.6.6"
  }
 },
 "nbformat": 4,
 "nbformat_minor": 2
}
