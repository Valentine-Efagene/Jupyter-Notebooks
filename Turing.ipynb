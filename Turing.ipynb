{
 "cells": [
  {
   "cell_type": "code",
   "execution_count": 2,
   "id": "e970c2ca-bf20-419b-9e1b-7e5ba3204946",
   "metadata": {},
   "outputs": [
    {
     "name": "stdout",
     "output_type": "stream",
     "text": [
      "30\n"
     ]
    }
   ],
   "source": [
    "def calPoints(ops) -> int:\n",
    "    result = []\n",
    "\n",
    "    for op in ops:\n",
    "        if op == \"D\":\n",
    "            result.append(result[-1] * 2)\n",
    "        elif op == \"C\":\n",
    "            result.pop()\n",
    "        elif op == \"+\":\n",
    "            result.append(result[-1] + result[-2])\n",
    "        else:\n",
    "            result.append(int(op))\n",
    "\n",
    "    return sum(result)\n",
    "    # return None if result == [] else sum(result)\n",
    "\n",
    "\n",
    "ops = [\"5\", \"2\", \"C\", \"D\", \"+\"]\n",
    "print(calPoints(ops))"
   ]
  },
  {
   "cell_type": "code",
   "execution_count": null,
   "id": "1de0c3d7-1094-40ef-8a86-ca0a5575b3d9",
   "metadata": {},
   "outputs": [],
   "source": [
    "def "
   ]
  }
 ],
 "metadata": {
  "kernelspec": {
   "display_name": "Python 3 (ipykernel)",
   "language": "python",
   "name": "python3"
  },
  "language_info": {
   "codemirror_mode": {
    "name": "ipython",
    "version": 3
   },
   "file_extension": ".py",
   "mimetype": "text/x-python",
   "name": "python",
   "nbconvert_exporter": "python",
   "pygments_lexer": "ipython3",
   "version": "3.9.6"
  }
 },
 "nbformat": 4,
 "nbformat_minor": 5
}
