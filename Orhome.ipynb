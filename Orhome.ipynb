{
 "cells": [
  {
   "cell_type": "markdown",
   "metadata": {},
   "source": [
    "### 5bi Kinetic Theory Explanation of Boyle's Law"
   ]
  },
  {
   "cell_type": "markdown",
   "metadata": {},
   "source": [
    "Boyle’s Law states that at constant temperature, the absolute pressure and volume of a given mass of confined gas are inversely proportional.\n",
    "\n",
    "$P_1V_1=P_2V_2$\n",
    "\n",
    "At a given temperature, the pressure of a container is determined by the number of times gas molecules strike the container walls. If the gas is compressed to a smaller volume, then the same number of molecules will strike against a smaller surface area; the number of collisions against the container will increase, and, by extension, the pressure will increase as well. Increasing the kinetic energy of the particles will increase the pressure of the gas."
   ]
  },
  {
   "cell_type": "markdown",
   "metadata": {},
   "source": [
    "### 3bii Accuracy vs Precision"
   ]
  },
  {
   "cell_type": "markdown",
   "metadata": {},
   "source": [
    "In measurement of a set, accuracy is closeness of the measurements to a specific value, while precision is the closeness of the measurements to each other."
   ]
  },
  {
   "cell_type": "markdown",
   "metadata": {},
   "source": [
    "#### Precise"
   ]
  },
  {
   "cell_type": "markdown",
   "metadata": {},
   "source": [
    "Water boils at 100°C at 1atm, but the values obtained are 98.1[]. This means that the accuracy is off by at most 100 - 98.1, i.e. 1.9°C. On the other hand, the precision is off by at most 0.09 (assuming the maximum is 98.9, and the minimum is 98.0).\n",
    "\n",
    "The above analysis clearly shows that the data are relatively precise, but not accurate."
   ]
  },
  {
   "cell_type": "markdown",
   "metadata": {},
   "source": [
    "### 3bii Sources of Error"
   ]
  },
  {
   "cell_type": "markdown",
   "metadata": {},
   "source": [
    "* Callibration error: Poorly calibrated equipment. For example, the thermometer or barometer may be poorly calibrated.\n",
    "* Measurement device limitations: The grade of the equipment used may not be high enough to get very accurate values.\n",
    "* Observational error: For example, parallax in reading the thermometer or barometer. The observer may have consistently viewed the readings from a wrong angle.\n",
    "* Theoretical Error: Due to simplification of the model system or approximations in the equations describing it. For example, if your theory says that the temperature of the surrounding will not affect the readings taken when it actually does, then this factor will introduce a source of error."
   ]
  },
  {
   "cell_type": "markdown",
   "metadata": {},
   "source": [
    "### 5bii RMS"
   ]
  },
  {
   "cell_type": "markdown",
   "metadata": {},
   "source": [
    "$v_{rms} \\propto \\sqrt{T}$  \n",
    "\n",
    "$\\Rightarrow v_{rms} = k \\sqrt{T}$  \n",
    "\n",
    "$\\Rightarrow k = \\frac{v_{rms}}{\\sqrt{T}}$  \n",
    "\n",
    "$\\Rightarrow k = \\frac{v_{rms2}}{\\sqrt{T2}} = \\frac{v_{rms1}}{\\sqrt{T1}}$  \n",
    "\n",
    "$\\Rightarrow \\frac{v_{rms2}}{v_{rms1}} = \\frac{\\sqrt{T2}}{\\sqrt{T1}}$\n",
    "\n",
    "$20°C = (273 + 20)K = 293K$    \n",
    "\n",
    "$40°C = (273 + 40)K = 313K$\n",
    "\n",
    "$\\frac{v_{rms2}}{v_{rms1}} = \\sqrt{\\frac{T_2}{T_1}} = \\sqrt{\\frac{313}{293}} = 1.0336$"
   ]
  },
  {
   "cell_type": "markdown",
   "metadata": {},
   "source": [
    "### 5biii Charles' Law"
   ]
  },
  {
   "cell_type": "markdown",
   "metadata": {},
   "source": [
    "$\\frac{V_2}{T_2} = \\frac{V_1}{T_1}$"
   ]
  },
  {
   "cell_type": "markdown",
   "metadata": {},
   "source": [
    "$V_1 = 500$  \n",
    "$T_1 = 273 + 27 = 300K$\n",
    "\n",
    "$T_2 = 273 + 127 = 400$  \n",
    "$V_2 = ?$\n",
    "\n",
    "$V_2 = \\frac{V_1}{T_1} \\times T_2$\n",
    "$V_2 = \\frac{500}{300} \\times 400$\n",
    "\n",
    "$\\therefore V_2 = 666.67cm^3$"
   ]
  },
  {
   "cell_type": "code",
   "execution_count": null,
   "metadata": {},
   "outputs": [],
   "source": []
  }
 ],
 "metadata": {
  "kernelspec": {
   "display_name": "Python 3",
   "language": "python",
   "name": "python3"
  },
  "language_info": {
   "codemirror_mode": {
    "name": "ipython",
    "version": 3
   },
   "file_extension": ".py",
   "mimetype": "text/x-python",
   "name": "python",
   "nbconvert_exporter": "python",
   "pygments_lexer": "ipython3",
   "version": "3.8.6rc1"
  }
 },
 "nbformat": 4,
 "nbformat_minor": 4
}
