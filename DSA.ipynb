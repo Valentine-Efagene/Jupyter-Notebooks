{
 "cells": [
  {
   "cell_type": "markdown",
   "id": "6f944d3a",
   "metadata": {},
   "source": [
    "Merge Sort"
   ]
  },
  {
   "cell_type": "code",
   "execution_count": 18,
   "id": "5a1d86ad",
   "metadata": {},
   "outputs": [],
   "source": [
    "def merge(L, R):\n",
    "    A = [0] * (len(L) + len(R))\n",
    "    i = j = 0\n",
    "\n",
    "    for k in range(len(A)):\n",
    "        if i < len(L) and j < len(R):\n",
    "            if L[i] <= R[j]:\n",
    "                A[k] = L[i]\n",
    "                i += 1\n",
    "            else:\n",
    "                A[k] = R[j]\n",
    "                j += 1    \n",
    "        elif j < len(R):\n",
    "            A[k] = R[j]\n",
    "            j += 1\n",
    "        elif i < len(L):\n",
    "            A[k] = L[i]\n",
    "            i += 1\n",
    "\n",
    "    return A"
   ]
  },
  {
   "cell_type": "code",
   "execution_count": 19,
   "id": "905fb95f",
   "metadata": {},
   "outputs": [],
   "source": [
    "def mergeSort(A):\n",
    "    if len(A) == 1:\n",
    "        return A\n",
    "\n",
    "    q = len(A)//2\n",
    "    L = mergeSort(A[:q])\n",
    "    R = mergeSort(A[q:])\n",
    "    A = merge(L, R)\n",
    "    return A"
   ]
  },
  {
   "cell_type": "code",
   "execution_count": 20,
   "id": "6b261ee6",
   "metadata": {},
   "outputs": [],
   "source": [
    "A = [1, 2, 3, 7, 6, 5, 4, 4, 34, 34, 34, 34,\n",
    "     3, 231, 3, 2, 5, 65, 32, 32, 5, 45, 45, 3]"
   ]
  },
  {
   "cell_type": "code",
   "execution_count": 21,
   "id": "0c147150",
   "metadata": {},
   "outputs": [
    {
     "data": {
      "text/plain": [
       "[1,\n",
       " 2,\n",
       " 2,\n",
       " 3,\n",
       " 3,\n",
       " 3,\n",
       " 3,\n",
       " 4,\n",
       " 4,\n",
       " 5,\n",
       " 5,\n",
       " 5,\n",
       " 6,\n",
       " 7,\n",
       " 32,\n",
       " 32,\n",
       " 34,\n",
       " 34,\n",
       " 34,\n",
       " 34,\n",
       " 45,\n",
       " 45,\n",
       " 65,\n",
       " 231]"
      ]
     },
     "execution_count": 21,
     "metadata": {},
     "output_type": "execute_result"
    }
   ],
   "source": [
    "mergeSort(A)"
   ]
  },
  {
   "cell_type": "markdown",
   "id": "bc1d5198",
   "metadata": {},
   "source": [
    "Kadane's Algorithm"
   ]
  },
  {
   "cell_type": "markdown",
   "id": "f3528ff4",
   "metadata": {},
   "source": [
    "Maximum Sub-array Sum"
   ]
  },
  {
   "cell_type": "code",
   "execution_count": 17,
   "id": "25a63fbb",
   "metadata": {},
   "outputs": [],
   "source": [
    "def maximumSubarraySum(arr):\n",
    "    n = len(arr)\n",
    "    maxSum = -float('inf')\n",
    "    currSum = 0\n",
    "\n",
    "    for i in range(0, n):\n",
    "        currSum = currSum + arr[i]\n",
    "        if(currSum > maxSum):\n",
    "            maxSum = currSum\n",
    "        if(currSum < 0):\n",
    "            currSum = 0\n",
    "      \n",
    "    return maxSum"
   ]
  },
  {
   "cell_type": "code",
   "execution_count": 18,
   "id": "f16e740b",
   "metadata": {},
   "outputs": [
    {
     "data": {
      "text/plain": [
       "8"
      ]
     },
     "execution_count": 18,
     "metadata": {},
     "output_type": "execute_result"
    }
   ],
   "source": [
    "maximumSubarraySum([-3, -4, 5, -1, 2, -4, 6, -1])"
   ]
  },
  {
   "cell_type": "markdown",
   "id": "0f0a749c",
   "metadata": {},
   "source": [
    "Maximum Subarray"
   ]
  },
  {
   "cell_type": "code",
   "execution_count": 19,
   "id": "d1ada7fe",
   "metadata": {},
   "outputs": [],
   "source": [
    "def maximumSubarray(arr):\n",
    "    n = len(arr)\n",
    "    maxSum = -float('inf')\n",
    "    currSum = 0\n",
    "\n",
    "    for i in range(0, n):\n",
    "        currSum = currSum + arr[i]\n",
    "        if(currSum > maxSum):\n",
    "            if (currSum - arr[i] == 0):\n",
    "                start = i\n",
    "            \n",
    "            maxSum = currSum\n",
    "            end = i\n",
    "        if(currSum < 0):\n",
    "            currSum = 0\n",
    "      \n",
    "    return arr[start : end]"
   ]
  },
  {
   "cell_type": "code",
   "execution_count": 20,
   "id": "ea4a2aca",
   "metadata": {},
   "outputs": [
    {
     "data": {
      "text/plain": [
       "[5, -1, 2, -4]"
      ]
     },
     "execution_count": 20,
     "metadata": {},
     "output_type": "execute_result"
    }
   ],
   "source": [
    "maximumSubarray([-3, -4, 5, -1, 2, -4, 6, -1])"
   ]
  },
  {
   "cell_type": "markdown",
   "id": "39f2b09d",
   "metadata": {},
   "source": [
    "Weighted Job Scheduling in O(nlogn) Time"
   ]
  },
  {
   "cell_type": "code",
   "execution_count": 2,
   "id": "d894e761",
   "metadata": {},
   "outputs": [
    {
     "name": "stdout",
     "output_type": "stream",
     "text": [
      "Optimal profit is\n",
      "250\n"
     ]
    }
   ],
   "source": [
    "# Python program for weighted job scheduling using Dynamic\n",
    "# Programming and Binary Search\n",
    "\n",
    "# Class to represent a job\n",
    "class Job:\n",
    "    def __init__(self, start, finish, profit):\n",
    "        self.start = start\n",
    "        self.finish = finish\n",
    "        self.profit = profit\n",
    "\n",
    "\n",
    "# A Binary Search based function to find the latest job\n",
    "# (before current job) that doesn't conflict with current\n",
    "# job. \"index\" is index of the current job. This function\n",
    "# returns -1 if all jobs before index conflict with it.\n",
    "# The array jobs[] is sorted in increasing order of finish\n",
    "# time.\n",
    "def binarySearch(job, start_index):\n",
    "\n",
    "    # Initialize 'lo' and 'hi' for Binary Search\n",
    "    lo = 0\n",
    "    hi = start_index - 1\n",
    "\n",
    "    # Perform binary Search iteratively\n",
    "    while lo <= hi:\n",
    "        mid = (lo + hi) // 2\n",
    "        if job[mid].finish <= job[start_index].start:\n",
    "            if job[mid + 1].finish <= job[start_index].start:\n",
    "                lo = mid + 1\n",
    "            else:\n",
    "                return mid\n",
    "        else:\n",
    "            hi = mid - 1\n",
    "    return -1\n",
    "\n",
    "# The main function that returns the maximum possible\n",
    "# profit from given array of jobs\n",
    "def schedule(job):\n",
    "    \n",
    "    # Sort jobs according to finish time\n",
    "    job = sorted(job, key = lambda j: j.finish)\n",
    "\n",
    "    # Create an array to store solutions of subproblems. table[i]\n",
    "    # stores the profit for jobs till arr[i] (including arr[i])\n",
    "    n = len(job)\n",
    "    table = [0 for _ in range(n)]\n",
    "\n",
    "    table[0] = job[0].profit;\n",
    "\n",
    "    # Fill entries in table[] using recursive property\n",
    "    for i in range(1, n):\n",
    "\n",
    "        # Find profit including the current job\n",
    "        inclProf = job[i].profit\n",
    "        l = binarySearch(job, i)\n",
    "        if (l != -1):\n",
    "            inclProf += table[l];\n",
    "\n",
    "        # Store maximum of including and excluding\n",
    "        table[i] = max(inclProf, table[i - 1])\n",
    "\n",
    "    return table[n-1]\n",
    "\n",
    "# Driver code to test above function\n",
    "job = [Job(1, 2, 50), Job(3, 5, 20),\n",
    "    Job(6, 19, 100), Job(2, 100, 200)]\n",
    "print(\"Optimal profit is\"),\n",
    "print(schedule(job))"
   ]
  },
  {
   "cell_type": "markdown",
   "id": "7ee19016",
   "metadata": {},
   "source": [
    "Huffman Encoding"
   ]
  },
  {
   "cell_type": "code",
   "execution_count": 52,
   "id": "a5b91a40",
   "metadata": {},
   "outputs": [
    {
     "name": "stdout",
     "output_type": "stream",
     "text": [
      "f -> 0\n",
      "c -> 100\n",
      "d -> 101\n",
      "a -> 1100\n",
      "b -> 1101\n",
      "e -> 111\n"
     ]
    }
   ],
   "source": [
    "# A Huffman Tree Node\n",
    "class Node:\n",
    "    def __init__(self, freq, symbol, left=None, right=None):\n",
    "        # frequency of symbol\n",
    "        self.freq = freq\n",
    "\n",
    "        # symbol name (character)\n",
    "        self.symbol = symbol\n",
    "\n",
    "        # node left of current node\n",
    "        self.left = left\n",
    "\n",
    "        # node right of current node\n",
    "        self.right = right\n",
    "\n",
    "        # tree direction (0/1)\n",
    "        self.huff = ''\n",
    "\n",
    "# utility function to print huffman\n",
    "# codes for all symbols in the newly\n",
    "# created Huffman tree\n",
    "\n",
    "\n",
    "def printNodes(node, val=''):\n",
    "    # huffman code for current node\n",
    "    newVal = val + str(node.huff)\n",
    "\n",
    "    # if node is not an edge node\n",
    "    # then traverse inside it\n",
    "    if(node.left):\n",
    "        printNodes(node.left, newVal)\n",
    "    if(node.right):\n",
    "        printNodes(node.right, newVal)\n",
    "\n",
    "        # if node is edge node then\n",
    "        # display its huffman code\n",
    "    if(not node.left and not node.right):\n",
    "        print(f\"{node.symbol} -> {newVal}\")\n",
    "\n",
    "\n",
    "# characters for huffman tree\n",
    "chars = ['a', 'b', 'c', 'd', 'e', 'f']\n",
    "\n",
    "# frequency of characters\n",
    "freq = [ 5, 9, 12, 13, 16, 45]\n",
    "\n",
    "# list containing unused nodes\n",
    "nodes = []\n",
    "\n",
    "# converting characters and frequencies\n",
    "# into huffman tree nodes\n",
    "for x in range(len(chars)):\n",
    "    nodes.append(node(freq[x], chars[x]))\n",
    "\n",
    "while len(nodes) > 1:\n",
    "    # sort all the nodes in ascending order\n",
    "    # based on theri frequency\n",
    "    nodes = sorted(nodes, key=lambda x: x.freq)\n",
    "\n",
    "    # pick 2 smallest nodes\n",
    "    left = nodes[0]\n",
    "    right = nodes[1]\n",
    "\n",
    "    # assign directional value to these nodes\n",
    "    left.huff = 0\n",
    "    right.huff = 1\n",
    "\n",
    "    # combine the 2 smallest nodes to create\n",
    "    # new node as their parent\n",
    "    newNode = Node(left.freq+right.freq, left.symbol+right.symbol, left, right)\n",
    "\n",
    "    # remove the 2 nodes and add their\n",
    "    # parent as new node among others\n",
    "    nodes.remove(left)\n",
    "    nodes.remove(right)\n",
    "    nodes.append(newNode)\n",
    "\n",
    "# Huffman Tree is ready!\n",
    "printNodes(nodes[0])\n"
   ]
  },
  {
   "cell_type": "markdown",
   "id": "caa64b47",
   "metadata": {},
   "source": [
    "Lexicographical Order"
   ]
  },
  {
   "cell_type": "markdown",
   "id": "b5c8081c",
   "metadata": {},
   "source": [
    "## Fibonacci"
   ]
  },
  {
   "cell_type": "code",
   "execution_count": 76,
   "id": "fd68e983",
   "metadata": {},
   "outputs": [
    {
     "data": {
      "text/plain": [
       "12586269025"
      ]
     },
     "execution_count": 76,
     "metadata": {},
     "output_type": "execute_result"
    }
   ],
   "source": [
    "def fib(n, memo = {}):\n",
    "    '''\n",
    "    Arguments:\n",
    "        n (int): Fibonacci index\n",
    "        memo (dictionary): A hashmap for memoization\n",
    "    '''\n",
    "    if (n in memo.keys()):\n",
    "        return memo[n]\n",
    "    if (n <= 2):\n",
    "        return 1\n",
    "    temp = fib(n - 1) + fib(n - 2)\n",
    "    memo[n] = temp\n",
    "    return temp\n",
    "\n",
    "fib(50)"
   ]
  },
  {
   "cell_type": "code",
   "execution_count": 6,
   "id": "5d87bf61",
   "metadata": {},
   "outputs": [
    {
     "data": {
      "text/plain": [
       "5"
      ]
     },
     "execution_count": 6,
     "metadata": {},
     "output_type": "execute_result"
    }
   ],
   "source": [
    "from collections import defaultdict\n",
    "\n",
    "def solution(A):\n",
    "    entries = defaultdict(lambda: 0)\n",
    "    for a in A:\n",
    "        if (a > 0):\n",
    "            entries[a] = 1\n",
    "        \n",
    "    i = 1\n",
    "    while(True):\n",
    "        if (entries[i] == 0):\n",
    "            return i\n",
    "        i+=1\n",
    "\n",
    "solution([-1, 0, -2, 1, 3, 6, 4, 1, 2])"
   ]
  },
  {
   "cell_type": "code",
   "execution_count": null,
   "id": "9f85e29e-2d09-4117-ba8d-99153ea92649",
   "metadata": {},
   "outputs": [],
   "source": []
  }
 ],
 "metadata": {
  "kernelspec": {
   "display_name": "Python 3 (ipykernel)",
   "language": "python",
   "name": "python3"
  },
  "language_info": {
   "codemirror_mode": {
    "name": "ipython",
    "version": 3
   },
   "file_extension": ".py",
   "mimetype": "text/x-python",
   "name": "python",
   "nbconvert_exporter": "python",
   "pygments_lexer": "ipython3",
   "version": "3.9.6"
  }
 },
 "nbformat": 4,
 "nbformat_minor": 5
}
