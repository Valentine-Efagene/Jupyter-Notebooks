{
 "cells": [
  {
   "cell_type": "markdown",
   "metadata": {},
   "source": [
    "## TRANSFORMERLESS POWER SUPPLY"
   ]
  },
  {
   "cell_type": "code",
   "execution_count": 12,
   "metadata": {},
   "outputs": [],
   "source": [
    "from IPython.display import display_latex\n",
    "\n",
    "# Usage: display_full_latex('u_x')\n",
    "def display_full_latex(idx):\n",
    "    if(isinstance(idx, str)):\n",
    "        eqn = '\\\\[' + idx + '\\\\]'\n",
    "        display_latex(eqn, raw=True)\n",
    "    else:\n",
    "        eqn = '\\\\[' + latex(idx) + '\\\\]'\n",
    "        display_latex(eqn, raw=True)\n",
    "    return"
   ]
  },
  {
   "cell_type": "code",
   "execution_count": 21,
   "metadata": {},
   "outputs": [],
   "source": [
    "eqn = 'X_c = \\\\frac{ V_{rms}\\\\sqrt{2} - V_{ref} }{I_{out}}'"
   ]
  },
  {
   "cell_type": "code",
   "execution_count": 22,
   "metadata": {},
   "outputs": [
    {
     "data": {
      "text/latex": [
       "\\[X_c = \\frac{ V_{rms}\\sqrt{2} - V_{ref} }{I_{out}}\\]"
      ]
     },
     "metadata": {},
     "output_type": "display_data"
    }
   ],
   "source": [
    "display_full_latex(eqn)"
   ]
  },
  {
   "cell_type": "markdown",
   "metadata": {},
   "source": [
    "Where <br>\n",
    "V<sub>ref</sub> is the required imput voltage at the input node of the rectifier, and <br>\n",
    "I<sub>ref</sub> is the desired current."
   ]
  },
  {
   "cell_type": "code",
   "execution_count": null,
   "metadata": {},
   "outputs": [],
   "source": []
  }
 ],
 "metadata": {
  "kernelspec": {
   "display_name": "Python 3",
   "language": "python",
   "name": "python3"
  },
  "language_info": {
   "codemirror_mode": {
    "name": "ipython",
    "version": 3
   },
   "file_extension": ".py",
   "mimetype": "text/x-python",
   "name": "python",
   "nbconvert_exporter": "python",
   "pygments_lexer": "ipython3",
   "version": "3.6.6"
  }
 },
 "nbformat": 4,
 "nbformat_minor": 2
}
