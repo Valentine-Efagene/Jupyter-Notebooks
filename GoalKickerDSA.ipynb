{
 "cells": [
  {
   "cell_type": "markdown",
   "id": "44ea9ed1",
   "metadata": {},
   "source": [
    "## Chapter 1"
   ]
  },
  {
   "cell_type": "markdown",
   "id": "c4470c84",
   "metadata": {},
   "source": [
    "Fizz Buzz"
   ]
  },
  {
   "cell_type": "code",
   "execution_count": 16,
   "id": "b8895fcd",
   "metadata": {},
   "outputs": [],
   "source": [
    "number = [1,2,3,4,5,6,7,8,9,10,11,12,13,14,15]"
   ]
  },
  {
   "cell_type": "code",
   "execution_count": 18,
   "id": "d165d86e",
   "metadata": {
    "scrolled": false
   },
   "outputs": [
    {
     "name": "stdout",
     "output_type": "stream",
     "text": [
      "1\n",
      "2\n",
      "3 fizz\n",
      "4\n",
      "5 buzz\n",
      "6 fizz\n",
      "7\n",
      "8\n",
      "9 fizz\n",
      "10 buzz\n",
      "11\n",
      "12 fizz\n",
      "13\n",
      "14\n",
      "15 fizz buzz\n"
     ]
    }
   ],
   "source": [
    "for num in number:\n",
    "    if num % 15 == 0:\n",
    "        print(num, 'fizz buzz')\n",
    "    elif num % 3 == 0:\n",
    "        print(num, 'fizz')\n",
    "    elif num % 5 == 0:\n",
    "        print(num, 'buzz')\n",
    "    else:\n",
    "        print(num)"
   ]
  },
  {
   "cell_type": "markdown",
   "id": "7dbb8bc1",
   "metadata": {},
   "source": [
    "## Chapter 3"
   ]
  },
  {
   "cell_type": "markdown",
   "id": "262b1b32",
   "metadata": {},
   "source": [
    "Binary Search"
   ]
  },
  {
   "cell_type": "code",
   "execution_count": 40,
   "id": "d7637744",
   "metadata": {},
   "outputs": [
    {
     "name": "stdout",
     "output_type": "stream",
     "text": [
      "3 4\n",
      "5 6\n",
      "4 5\n"
     ]
    },
    {
     "data": {
      "text/plain": [
       "4"
      ]
     },
     "execution_count": 40,
     "metadata": {},
     "output_type": "execute_result"
    }
   ],
   "source": [
    "def binarySearch(arr, item, size):\n",
    "    low = 0\n",
    "    high = size - 1\n",
    "    \n",
    "    while low <= high:\n",
    "        mid = low + (high - low) // 2\n",
    "        print(mid, arr[mid])\n",
    "        \n",
    "        if arr[mid] == item:\n",
    "            return mid\n",
    "        elif arr[mid] < item:\n",
    "            low = mid + 1\n",
    "        else:\n",
    "            high = mid - 1\n",
    "            \n",
    "arr = sorted([1, 2, 3, 4, 5, 6, 7])\n",
    "binarySearch(arr, 5, len(arr))"
   ]
  },
  {
   "cell_type": "code",
   "execution_count": 46,
   "id": "3a090b9a",
   "metadata": {},
   "outputs": [
    {
     "data": {
      "text/plain": [
       "3"
      ]
     },
     "execution_count": 46,
     "metadata": {},
     "output_type": "execute_result"
    }
   ],
   "source": [
    "def dichotomy(L, n):\n",
    "    '''\n",
    "    Find the index of the location containing 0\n",
    "    Args:\n",
    "        L: Sorted list\n",
    "        n: Length of L\n",
    "    Returns\n",
    "        int\n",
    "    '''    \n",
    "    a = 0\n",
    "    b = n - 1\n",
    "    while True:\n",
    "        h = (a + b) // 2\n",
    "        if L[h] == 0:\n",
    "            return h\n",
    "        elif L[h] > 0:\n",
    "            b = h\n",
    "        elif L[h] < 0:\n",
    "            a = h\n",
    "\n",
    "arr = [-5, -2, -1, 0, 1, 2, 4]\n",
    "dichotomy(arr, len(arr))"
   ]
  },
  {
   "cell_type": "markdown",
   "id": "8fac007b",
   "metadata": {},
   "source": [
    "The runtime is O(logn)"
   ]
  },
  {
   "cell_type": "markdown",
   "id": "f088b419",
   "metadata": {},
   "source": [
    "## CHAPTER 4"
   ]
  },
  {
   "cell_type": "code",
   "execution_count": 154,
   "id": "663cff88",
   "metadata": {},
   "outputs": [],
   "source": [
    "class Node:\n",
    "    def __init__(self, data, left, right ):\n",
    "        self.right = right\n",
    "        self.left = left\n",
    "        self.data = data\n",
    "        \n",
    "def printtree_r(node, depth):\n",
    "    while(node):\n",
    "        if node.child:\n",
    "            for i in range(depth * 3):\n",
    "                print(' ')\n",
    "            print('\\n')\n",
    "            printtree_r(node.child, depth + 1)\n",
    "            for i in range(depth * 3):\n",
    "                print(' ')\n",
    "            print('\\n')\n",
    "            for i in range(depth * 3):\n",
    "                print(' ')\n",
    "            print(\"{0}\\n\", node.data)\n",
    "            node = node.next\n",
    "            \n",
    "def printtree(root):\n",
    "    printtree_r(root, 0)"
   ]
  },
  {
   "cell_type": "markdown",
   "id": "1bcfb8bd",
   "metadata": {},
   "source": [
    "Check Equality of Two Binary Trees"
   ]
  },
  {
   "cell_type": "code",
   "execution_count": 83,
   "id": "97217d5b",
   "metadata": {},
   "outputs": [],
   "source": [
    "def sameTree(root1, root2):\n",
    "    if root1 == None and root2 == None:\n",
    "        return True\n",
    "    if root1 == None or root2 == None:\n",
    "        return False\n",
    "    \n",
    "    if root1.data == root2.data and sameTree(root1.left, root2.left) and sameTree(root1.right, root2.right):\n",
    "        return True\n",
    "    else:\n",
    "        return False"
   ]
  },
  {
   "cell_type": "code",
   "execution_count": 86,
   "id": "c16ec3a6",
   "metadata": {},
   "outputs": [
    {
     "data": {
      "text/plain": [
       "False"
      ]
     },
     "execution_count": 86,
     "metadata": {},
     "output_type": "execute_result"
    }
   ],
   "source": [
    "n2 = Node(2, None, None)\n",
    "n1 = Node(1, None, None)\n",
    "n0 = Node(0, n1, n2)\n",
    "sameTree(n1, n0)"
   ]
  },
  {
   "cell_type": "markdown",
   "id": "185e8ac9",
   "metadata": {},
   "source": [
    "## CHAPTER 5"
   ]
  },
  {
   "cell_type": "code",
   "execution_count": 141,
   "id": "7def084a",
   "metadata": {},
   "outputs": [],
   "source": [
    "class Node:\n",
    "    def __init__(self, data):\n",
    "        self.left = None\n",
    "        self.right = None\n",
    "        self.data = data\n",
    "        \n",
    "def insert(root, node):\n",
    "    if root is None:\n",
    "        root = node\n",
    "    else:\n",
    "        if node.data <= root.data:\n",
    "            if root.left is None:\n",
    "                root.left = node\n",
    "            else:\n",
    "                insert(root.left, node)\n",
    "        else:\n",
    "            if root.right is None:\n",
    "                root.right = node\n",
    "            else:\n",
    "                insert(root.right, node)\n",
    "                \n",
    "def in_order_print(root):\n",
    "    if root:\n",
    "        in_order_print(root.left)\n",
    "        print(root.data)\n",
    "        in_order_print(root.right)\n",
    "    \n",
    "def in_order_walk(root):\n",
    "    if root:\n",
    "        yield from in_order_walk(root.left)\n",
    "        yield root.data\n",
    "        yield from in_order_walk(root.right)\n",
    "    \n",
    "def pre_order_walk(root):\n",
    "    if root:\n",
    "        yield root.data\n",
    "        yield from pre_order_walk(root.left)\n",
    "        yield from pre_order_walk(root.right)\n",
    "    \n",
    "def pre_order_print(root):\n",
    "    if root:\n",
    "        print(root.data)\n",
    "        pre_order_print(root.left)\n",
    "        pre_order_print(root.right)\n",
    "\n",
    "def delete(root, data):\n",
    "    '''\n",
    "    Complexity: O(h), where h is the height of the tree\n",
    "    '''\n",
    "    if not root:\n",
    "        return root\n",
    "    if data <= root.data:\n",
    "        root.left = delete(root.left, data)\n",
    "    elif data > root.data:\n",
    "        root.right = delete(root.right, data)\n",
    "    else:\n",
    "        if not (root.left or root.right):\n",
    "            del root\n",
    "        elif not root.right:\n",
    "            temp = root\n",
    "            root = root.left\n",
    "            del temp\n",
    "        elif not root.right:\n",
    "            temp = root.right\n",
    "            root = root.right\n",
    "            del temp\n",
    "        else:\n",
    "            temp = root.right\n",
    "            while temp.left:\n",
    "                temp = temp.left\n",
    "            root.data = temp.data\n",
    "            root.right = delete(root.right, temp.data)\n",
    "    return root\n",
    "def lowerCommonAncestor(root, node1, node2):\n",
    "    if not root:\n",
    "        return None\n",
    "    if node.data == root.data or node2.data == root.data:\n",
    "        return root\n",
    "    elif (node.data <= root.data and node2.data > root.data) or (node2.data <= root.data and node1.data > root.data):\n",
    "        return root\n",
    "    elif root.data > max(node1.data, node2.data):\n",
    "        return lowestCommonAncestor(root.left, node1, node2)\n",
    "    else:\n",
    "        return lowestCommonAncestor(root.right, node1, node2)"
   ]
  },
  {
   "cell_type": "code",
   "execution_count": 142,
   "id": "f57ed3fd",
   "metadata": {},
   "outputs": [
    {
     "name": "stdout",
     "output_type": "stream",
     "text": [
      "0\n",
      "1\n",
      "2\n",
      "3\n"
     ]
    }
   ],
   "source": [
    "n2 = Node(2)\n",
    "n1 = Node(1)\n",
    "n3 = Node(3)\n",
    "n0 = Node(0)\n",
    "insert(n0, n1)\n",
    "insert(n0, n3)\n",
    "insert(n0, n2)\n",
    "#pre_order_print(n0)\n",
    "in_order_print(n0)"
   ]
  },
  {
   "cell_type": "code",
   "execution_count": 143,
   "id": "d5c47dee",
   "metadata": {},
   "outputs": [
    {
     "name": "stdout",
     "output_type": "stream",
     "text": [
      "0\n",
      "1\n",
      "2\n",
      "3\n"
     ]
    }
   ],
   "source": [
    "for i in in_order_walk(n0):\n",
    "    print(i)"
   ]
  },
  {
   "cell_type": "markdown",
   "id": "fe8c4b10",
   "metadata": {},
   "source": [
    "## CHAPTER 6"
   ]
  },
  {
   "cell_type": "markdown",
   "id": "cb086e4d",
   "metadata": {},
   "source": [
    "Check if a tree is a BST"
   ]
  },
  {
   "cell_type": "markdown",
   "id": "b4102160",
   "metadata": {},
   "source": [
    "## CHAPTER 17"
   ]
  },
  {
   "cell_type": "markdown",
   "id": "cb5de85e",
   "metadata": {},
   "source": [
    "Huffman Coding"
   ]
  },
  {
   "cell_type": "code",
   "execution_count": 19,
   "id": "a565f182",
   "metadata": {},
   "outputs": [],
   "source": [
    "from queue import PriorityQueue\n",
    "\n",
    "class Node:\n",
    "    def __init__(self, frequency, left=None, right=None ):\n",
    "        '''\n",
    "        Arguments:\n",
    "            frequency (int): Frequency of the node\n",
    "            left (Node): Left child\n",
    "            right (Node): Right child\n",
    "        '''\n",
    "        self.right = right\n",
    "        self.left = left\n",
    "        self.frequency = frequency\n",
    "        \n",
    "    def __add__(self, other):\n",
    "        '''\n",
    "        https://www.programiz.com/python-programming/operator-overloading\n",
    "        '''\n",
    "        if self.frequency and other.frequency:\n",
    "            return Node(self.frequency + other.frequency)\n",
    "    def __lt__(self, other):\n",
    "        return self.frequency < other.frequency\n",
    "    def __gt__(self, other):\n",
    "        return self.frequency > other.frequency\n",
    "    def __le__(self, other):\n",
    "        return self.frequency <= other.frequency\n",
    "    def __ge__(self, other):\n",
    "        return self.frequency >= other.frequency\n",
    "    def __str__(self):\n",
    "        return str(self.frequency)\n",
    "    def in_order_walk(self):\n",
    "        if self.left:\n",
    "            yield from self.left.in_order_walk()\n",
    "        yield self.frequency\n",
    "        if self.right:\n",
    "            yield from self.right.in_order_walk()\n",
    "    def in_order_print(self):\n",
    "        if self.left:\n",
    "            self.left.in_order_print()\n",
    "        print(self.frequency)\n",
    "        if self.right:\n",
    "            self.right.in_order_print()\n",
    "    def get_code(self, frequency):\n",
    "        if self.frequency > frequency:\n",
    "            print(0)\n",
    "            if self.left:\n",
    "                self.left.get_code(frequency)\n",
    "        elif self.frequency < frequency:\n",
    "            print(1)\n",
    "            if self.right:\n",
    "                self.right.get_code(frequency)\n",
    "\n",
    "def huffman(c):\n",
    "    n = len(c)\n",
    "    q = PriorityQueue()\n",
    "    for char in c:\n",
    "        q.put(Node(char))\n",
    "    while q.qsize() > 1:\n",
    "        l = q.get()\n",
    "        r = q.get()\n",
    "        z = Node(l.frequency + r.frequency)\n",
    "        z.left = l\n",
    "        z.right = r\n",
    "        q.put(z)\n",
    "    return q\n",
    "\n",
    "c = {45: 'a', 13: 'b', 12: 'c', 16: 'd', 9: 'e', 5: 'f'}\n",
    "freq = list(c.keys())\n",
    "head = huffman(freq).get()"
   ]
  },
  {
   "cell_type": "code",
   "execution_count": 10,
   "id": "cd7596ca",
   "metadata": {},
   "outputs": [
    {
     "name": "stdout",
     "output_type": "stream",
     "text": [
      "45\n",
      "100\n",
      "12\n",
      "25\n",
      "13\n",
      "55\n",
      "5\n",
      "14\n",
      "9\n",
      "30\n",
      "16\n"
     ]
    }
   ],
   "source": [
    "for i in head.in_order_walk():\n",
    "    print(i)"
   ]
  },
  {
   "cell_type": "code",
   "execution_count": 12,
   "id": "7d012f2a",
   "metadata": {},
   "outputs": [
    {
     "name": "stdout",
     "output_type": "stream",
     "text": [
      "0\n",
      "0\n"
     ]
    }
   ],
   "source": [
    "head.get_code(16)"
   ]
  },
  {
   "cell_type": "code",
   "execution_count": 27,
   "id": "624ba0e3",
   "metadata": {},
   "outputs": [],
   "source": [
    "def huffmanDecompression(root, s):\n",
    "    n = len(s)\n",
    "    for i in range(n):\n",
    "        current = root\n",
    "        while current.left and current.right:\n",
    "            if s[i] == '0':\n",
    "                current = current.left\n",
    "            else:\n",
    "                current = current.right\n",
    "            i+=1\n",
    "        print(c[current.frequency])\n",
    "    return current.frequency"
   ]
  },
  {
   "cell_type": "code",
   "execution_count": 28,
   "id": "fd2fb936",
   "metadata": {},
   "outputs": [
    {
     "name": "stdout",
     "output_type": "stream",
     "text": [
      "a\n",
      "b\n",
      "a\n",
      "f\n",
      "c\n",
      "a\n",
      "a\n"
     ]
    },
    {
     "data": {
      "text/plain": [
       "45"
      ]
     },
     "execution_count": 28,
     "metadata": {},
     "output_type": "execute_result"
    }
   ],
   "source": [
    "huffmanDecompression(head, '0101100')"
   ]
  },
  {
   "cell_type": "markdown",
   "id": "10bc41e0",
   "metadata": {},
   "source": [
    "Edit Distance"
   ]
  },
  {
   "cell_type": "code",
   "execution_count": 17,
   "id": "b6b97331",
   "metadata": {},
   "outputs": [
    {
     "data": {
      "text/plain": [
       "[[0, 1, 2, 3, 4],\n",
       " [1, 1, 2, 3, 4],\n",
       " [2, 2, 1, 2, 3],\n",
       " [3, 3, 2, 1, 2],\n",
       " [4, 3, 3, 2, 2],\n",
       " [5, 4, 4, 3, 3]]"
      ]
     },
     "execution_count": 17,
     "metadata": {},
     "output_type": "execute_result"
    }
   ],
   "source": [
    "def edit_distance(str1, str2):\n",
    "    rows = len(str1) + 1\n",
    "    cols = len(str2) + 1\n",
    "    #dp = [[0] * cols] * rows # This is very dangerous, because it actually duplicates operations, and you won't know\n",
    "    dp = [[0 for j in range(cols)] for i in range(rows)]\n",
    "    \n",
    "    for i in range(rows):\n",
    "        for j in range(cols):\n",
    "            if i == 0:\n",
    "                dp[i][j] = j\n",
    "            elif j == 0:\n",
    "                dp[i][j] = i\n",
    "            elif str1[i - 1] == str2[j - 1]:\n",
    "                dp[i][j] = dp[i - 1][j - 1]\n",
    "            else:\n",
    "                dp[i][j] = 1 + min(dp[i - 1][j], min(dp[i][j - 1], dp[i - 1][j - 1]))\n",
    "    #return dp[rows - 1][cols - 1]\n",
    "    return dp\n",
    "    \n",
    "str1 = 'march'\n",
    "str2 = 'cart'\n",
    "edit_distance(str1, str2)"
   ]
  },
  {
   "cell_type": "markdown",
   "id": "0834f2c7",
   "metadata": {},
   "source": [
    "Weighted Activity Selection"
   ]
  },
  {
   "cell_type": "code",
   "execution_count": 8,
   "id": "8e25eef6",
   "metadata": {},
   "outputs": [],
   "source": [
    "class Job:\n",
    "    def __init__(self, start, end, profit):\n",
    "        self.start = start\n",
    "        self.end = end\n",
    "        self.profit = profit\n",
    "    def __lt__(self, other):\n",
    "        return self.end < other.end\n",
    "    def __gt__(self, other):\n",
    "        return self.end > other.end\n",
    "    def __eq__(self, other):\n",
    "        return self.end == other.end"
   ]
  },
  {
   "cell_type": "code",
   "execution_count": 9,
   "id": "5b12bc1b",
   "metadata": {},
   "outputs": [
    {
     "data": {
      "text/plain": [
       "6"
      ]
     },
     "execution_count": 9,
     "metadata": {},
     "output_type": "execute_result"
    }
   ],
   "source": [
    "s = [1, 2, 4, 6, 5, 7]\n",
    "e = [3, 5, 6, 7, 8, 9]\n",
    "p = [5, 6, 5, 4, 11, 2]\n",
    "\n",
    "jobs = []\n",
    "\n",
    "for i in range(len(s)):\n",
    "    jobs.append(Job(s[i], e[i], p[i]))\n",
    "len(jobs)"
   ]
  },
  {
   "cell_type": "code",
   "execution_count": 10,
   "id": "0b03df6e",
   "metadata": {},
   "outputs": [],
   "source": [
    "def weighted_activity_selection(jobs):\n",
    "    accumulated_profits = []\n",
    "    \n",
    "    for job in jobs:\n",
    "        accumulated_profits.append(job.profit)\n",
    "    print(accumulated_profits)\n",
    "    \n",
    "    for i in range(1, len(jobs)):\n",
    "        for j in range(i - 1):\n",
    "            if jobs[j].end <= jobs[i].start:\n",
    "                accumulated_profits[i] = max(accumulated_profits[j] + jobs[i].profit, accumulated_profits[i])\n",
    "                print(accumulated_profits)\n",
    "    \n",
    "    return max(accumulated_profits)"
   ]
  },
  {
   "cell_type": "code",
   "execution_count": 11,
   "id": "5c3ff7a2",
   "metadata": {},
   "outputs": [
    {
     "name": "stdout",
     "output_type": "stream",
     "text": [
      "[5, 6, 5, 4, 11, 2]\n",
      "[5, 6, 10, 4, 11, 2]\n",
      "[5, 6, 10, 9, 11, 2]\n",
      "[5, 6, 10, 10, 11, 2]\n",
      "[5, 6, 10, 10, 16, 2]\n",
      "[5, 6, 10, 10, 17, 2]\n",
      "[5, 6, 10, 10, 17, 7]\n",
      "[5, 6, 10, 10, 17, 8]\n",
      "[5, 6, 10, 10, 17, 12]\n",
      "[5, 6, 10, 10, 17, 12]\n"
     ]
    },
    {
     "data": {
      "text/plain": [
       "17"
      ]
     },
     "execution_count": 11,
     "metadata": {},
     "output_type": "execute_result"
    }
   ],
   "source": [
    "weighted_activity_selection(jobs)"
   ]
  },
  {
   "cell_type": "code",
   "execution_count": null,
   "id": "e0721268",
   "metadata": {},
   "outputs": [],
   "source": []
  },
  {
   "cell_type": "code",
   "execution_count": null,
   "id": "4bc3d3ca",
   "metadata": {},
   "outputs": [],
   "source": []
  }
 ],
 "metadata": {
  "kernelspec": {
   "display_name": "Python 3 (ipykernel)",
   "language": "python",
   "name": "python3"
  },
  "language_info": {
   "codemirror_mode": {
    "name": "ipython",
    "version": 3
   },
   "file_extension": ".py",
   "mimetype": "text/x-python",
   "name": "python",
   "nbconvert_exporter": "python",
   "pygments_lexer": "ipython3",
   "version": "3.9.6"
  }
 },
 "nbformat": 4,
 "nbformat_minor": 5
}
