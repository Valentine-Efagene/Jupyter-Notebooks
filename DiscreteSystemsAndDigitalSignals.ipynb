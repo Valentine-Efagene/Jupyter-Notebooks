{
 "cells": [
  {
   "cell_type": "markdown",
   "metadata": {},
   "source": [
    "## 20 Sept 2019"
   ]
  },
  {
   "cell_type": "markdown",
   "metadata": {},
   "source": [
    "<strong>RULES</strong><br>\n",
    "<strong>Date:</strong> Level 2 heading ## <br>\n",
    "<strong>Example Heading:</strong> Level 3 heading ###<br>\n",
    "<strong>Method Heading:</strong> Level 4 heading ####"
   ]
  },
  {
   "cell_type": "markdown",
   "metadata": {},
   "source": [
    "### References"
   ]
  },
  {
   "cell_type": "markdown",
   "metadata": {},
   "source": [
    "1. [Taan_S_Elali]_Discrete_Systems_and_Digital_Signal(z-lib.org)"
   ]
  },
  {
   "cell_type": "markdown",
   "metadata": {},
   "source": [
    "### Imports"
   ]
  },
  {
   "cell_type": "code",
   "execution_count": 1,
   "metadata": {},
   "outputs": [],
   "source": [
    "import numpy as np\n",
    "from sympy import oo\n",
    "import math\n",
    "import sympy as sp\n",
    "import matplotlib.pyplot as plt\n",
    "import matplotlib as mpl\n",
    "from mpl_toolkits.mplot3d import Axes3D\n",
    "from IPython.display import display\n",
    "from IPython.display import display_latex\n",
    "from sympy import latex\n",
    "import math\n",
    "from scipy import signal"
   ]
  },
  {
   "cell_type": "code",
   "execution_count": 5,
   "metadata": {},
   "outputs": [
    {
     "name": "stdout",
     "output_type": "stream",
     "text": [
      "[[0.60116104]\n",
      " [0.47047282]\n",
      " [0.04545857]\n",
      " [0.70974624]\n",
      " [0.66800762]\n",
      " [0.043059  ]\n",
      " [0.77922235]\n",
      " [0.00712108]\n",
      " [0.83599835]\n",
      " [0.86126798]]\n",
      "\n",
      "\n",
      "[1. 1. 1. 1. 1.]\n",
      "\n",
      "\n",
      "[[0.39883896 0.39883896 0.39883896 0.39883896 0.39883896]\n",
      " [0.52952718 0.52952718 0.52952718 0.52952718 0.52952718]\n",
      " [0.95454143 0.95454143 0.95454143 0.95454143 0.95454143]\n",
      " [0.29025376 0.29025376 0.29025376 0.29025376 0.29025376]\n",
      " [0.33199238 0.33199238 0.33199238 0.33199238 0.33199238]\n",
      " [0.956941   0.956941   0.956941   0.956941   0.956941  ]\n",
      " [0.22077765 0.22077765 0.22077765 0.22077765 0.22077765]\n",
      " [0.99287892 0.99287892 0.99287892 0.99287892 0.99287892]\n",
      " [0.16400165 0.16400165 0.16400165 0.16400165 0.16400165]\n",
      " [0.13873202 0.13873202 0.13873202 0.13873202 0.13873202]]\n"
     ]
    }
   ],
   "source": [
    "a = np.random.rand(10, 1)\n",
    "b = np.ones((5))\n",
    "c = b - a\n",
    "print(a)\n",
    "print(\"\\n\")\n",
    "print(b)\n",
    "print(\"\\n\")\n",
    "print(c)"
   ]
  },
  {
   "cell_type": "code",
   "execution_count": 11,
   "metadata": {},
   "outputs": [
    {
     "name": "stdout",
     "output_type": "stream",
     "text": [
      "[[0.39883896197922675, 0.39883896197922675, 0.39883896197922675, 0.39883896197922675, 0.39883896197922675], [0.5295271753729867, 0.5295271753729867, 0.5295271753729867, 0.5295271753729867, 0.5295271753729867], [0.9545414315964785, 0.9545414315964785, 0.9545414315964785, 0.9545414315964785, 0.9545414315964785], [0.29025375850202206, 0.29025375850202206, 0.29025375850202206, 0.29025375850202206, 0.29025375850202206], [0.3319923831106444, 0.3319923831106444, 0.3319923831106444, 0.3319923831106444, 0.3319923831106444], [0.9569409978273109, 0.9569409978273109, 0.9569409978273109, 0.9569409978273109, 0.9569409978273109], [0.2207776539403341, 0.2207776539403341, 0.2207776539403341, 0.2207776539403341, 0.2207776539403341], [0.9928789247289878, 0.9928789247289878, 0.9928789247289878, 0.9928789247289878, 0.9928789247289878], [0.16400165267719025, 0.16400165267719025, 0.16400165267719025, 0.16400165267719025, 0.16400165267719025], [0.13873201867525842, 0.13873201867525842, 0.13873201867525842, 0.13873201867525842, 0.13873201867525842]]\n"
     ]
    }
   ],
   "source": [
    "print([[b[i] - a[j][0] for i in range(len(b))] for j in range(a.shape[0])])"
   ]
  },
  {
   "cell_type": "code",
   "execution_count": 16,
   "metadata": {},
   "outputs": [
    {
     "data": {
      "text/plain": [
       "array([[1., 1., 1.],\n",
       "       [2., 2., 2.],\n",
       "       [3., 3., 3.]])"
      ]
     },
     "execution_count": 16,
     "metadata": {},
     "output_type": "execute_result"
    }
   ],
   "source": [
    "np.ones((3, 3)) * np.array([[i] for i in range(1, 4)])"
   ]
  },
  {
   "cell_type": "code",
   "execution_count": null,
   "metadata": {},
   "outputs": [],
   "source": []
  },
  {
   "cell_type": "code",
   "execution_count": null,
   "metadata": {},
   "outputs": [],
   "source": []
  },
  {
   "cell_type": "code",
   "execution_count": null,
   "metadata": {},
   "outputs": [],
   "source": []
  },
  {
   "cell_type": "code",
   "execution_count": 13,
   "metadata": {},
   "outputs": [
    {
     "data": {
      "text/plain": [
       "array([[0],\n",
       "       [1],\n",
       "       [2]])"
      ]
     },
     "execution_count": 13,
     "metadata": {},
     "output_type": "execute_result"
    }
   ],
   "source": [
    "np.array([[i] for i in range(3)])"
   ]
  },
  {
   "cell_type": "code",
   "execution_count": null,
   "metadata": {},
   "outputs": [],
   "source": []
  },
  {
   "cell_type": "markdown",
   "metadata": {},
   "source": [
    "### [1] Example 3.8"
   ]
  },
  {
   "cell_type": "code",
   "execution_count": 42,
   "metadata": {},
   "outputs": [
    {
     "data": {
      "text/latex": [
       "\\[f(n) = 0.5^{n} \\theta\\left(n\\right)\\]"
      ]
     },
     "metadata": {},
     "output_type": "display_data"
    },
    {
     "data": {
      "text/latex": [
       "\\[X(\\theta) = \\frac{e^{\\theta}}{e^{\\theta} - 0.5}\\]"
      ]
     },
     "metadata": {},
     "output_type": "display_data"
    },
    {
     "data": {
      "text/plain": [
       "Text(0, 0.5, 'Magnitude')"
      ]
     },
     "execution_count": 42,
     "metadata": {},
     "output_type": "execute_result"
    },
    {
     "data": {
      "image/png": "[encoded data removed]",
      "text/plain": [
       "<Figure size 432x288 with 1 Axes>"
      ]
     },
     "metadata": {
      "needs_background": "light"
     },
     "output_type": "display_data"
    }
   ],
   "source": [
    "n = sp.Symbol('n')\n",
    "f1 = 0.5 ** n\n",
    "f = f1 * sp.Heaviside(n)\n",
    "# or\n",
    "#f = sp.Piecewise((0, n < 0), (f1, n >= 0))\n",
    "n = 20\n",
    "display_equation('f(n)', f)\n",
    "q = sum_of_GP(1, 0.5 * sp.exp(-theta))\n",
    "display_equation('X(\\\\theta)', q)\n",
    "\n",
    "t = np.arange(0, n, 1)\n",
    "f = np.power(0.5, t)\n",
    "plt.stem(t, f)\n",
    "plt.xlabel('t')\n",
    "plt.ylabel('Magnitude')\n"
   ]
  },
  {
   "cell_type": "code",
   "execution_count": null,
   "metadata": {},
   "outputs": [],
   "source": []
  }
 ],
 "metadata": {
  "kernelspec": {
   "display_name": "Python 3",
   "language": "python",
   "name": "python3"
  },
  "language_info": {
   "codemirror_mode": {
    "name": "ipython",
    "version": 3
   },
   "file_extension": ".py",
   "mimetype": "text/x-python",
   "name": "python",
   "nbconvert_exporter": "python",
   "pygments_lexer": "ipython3",
   "version": "3.6.6"
  }
 },
 "nbformat": 4,
 "nbformat_minor": 2
}
