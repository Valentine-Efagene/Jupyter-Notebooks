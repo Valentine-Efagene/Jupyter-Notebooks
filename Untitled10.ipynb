{
 "cells": [
  {
   "cell_type": "markdown",
   "id": "1bade57e",
   "metadata": {},
   "source": [
    "#### References\n",
    "1. https://machinelearningmastery.com/monte-carlo-sampling-for-probability/"
   ]
  },
  {
   "cell_type": "code",
   "execution_count": null,
   "id": "2ee95642",
   "metadata": {},
   "outputs": [],
   "source": []
  }
 ],
 "metadata": {
  "kernelspec": {
   "display_name": "Python 3 (ipykernel)",
   "language": "python",
   "name": "python3"
  },
  "language_info": {
   "codemirror_mode": {
    "name": "ipython",
    "version": 3
   },
   "file_extension": ".py",
   "mimetype": "text/x-python",
   "name": "python",
   "nbconvert_exporter": "python",
   "pygments_lexer": "ipython3",
   "version": "3.9.6"
  }
 },
 "nbformat": 4,
 "nbformat_minor": 5
}
