{
 "cells": [
  {
   "cell_type": "markdown",
   "id": "f05b03f7",
   "metadata": {},
   "source": [
    "1. https://www.geeksforgeeks.org/maximum-sum-such-that-no-two-elements-are-adjacent/"
   ]
  },
  {
   "cell_type": "markdown",
   "id": "e80023c0",
   "metadata": {},
   "source": [
    "Maximum Array"
   ]
  },
  {
   "cell_type": "markdown",
   "id": "d9ffab62",
   "metadata": {},
   "source": [
    "Algorithm:  \n",
    "Loop for all elements in arr[] and maintain two sums incl and excl where incl = Max sum including the previous element and excl = Max sum excluding the previous element.\n",
    "Max sum excluding the current element will be max(incl, excl) and max sum including the current element will be excl + current element (Note that only excl is considered because elements cannot be adjacent).\n",
    "At the end of the loop return max of incl and excl."
   ]
  },
  {
   "cell_type": "code",
   "execution_count": 2,
   "id": "3a5ab2e2",
   "metadata": {},
   "outputs": [
    {
     "name": "stdout",
     "output_type": "stream",
     "text": [
      "8\n"
     ]
    }
   ],
   "source": [
    "# Function to return max sum such that\n",
    "# no two elements are adjacent\n",
    "def find_max_sum(arr):\n",
    "    incl = 0\n",
    "    excl = 0\n",
    "\n",
    "    for i in arr:\n",
    "        # Current max excluding i (No ternary in Python)\n",
    "        new_excl = excl if excl>incl else incl\n",
    "\n",
    "        # Current max including i\n",
    "        incl = excl + i\n",
    "        excl = new_excl\n",
    "\n",
    "    # return max of incl and excl\n",
    "    return (excl if excl>incl else incl)\n",
    "\n",
    "# Driver program to test above function\n",
    "#arr = [5, 5, 10, 100, 10, 5]\n",
    "arr = [-2, 1, 3, -4, 5]\n",
    "print (find_max_sum(arr))\n",
    "\n",
    "# This code is contributed by Kalai Selvan\n"
   ]
  },
  {
   "cell_type": "markdown",
   "id": "4cda526e",
   "metadata": {},
   "source": [
    "Jumping on the Clouds:\n",
    "I chose to develop a sort of tutoise and hare algorithm."
   ]
  },
  {
   "cell_type": "code",
   "execution_count": 12,
   "id": "7d561dbb",
   "metadata": {},
   "outputs": [
    {
     "data": {
      "text/plain": [
       "3"
      ]
     },
     "execution_count": 12,
     "metadata": {},
     "output_type": "execute_result"
    }
   ],
   "source": [
    "def jump(clouds):\n",
    "    n = 1\n",
    "    turtoise = 0\n",
    "    hare = 0\n",
    "    \n",
    "    while True:\n",
    "        turtoise += 1\n",
    "        hare += 2\n",
    "        \n",
    "        if hare >= len(clouds) - 1:\n",
    "            break;\n",
    "        \n",
    "        if clouds[hare] == 0:\n",
    "            n += 1\n",
    "            turtoise = hare\n",
    "        elif clouds[turtoise] == 0:\n",
    "            n += 1\n",
    "            hare = turtoise\n",
    "            \n",
    "    return n\n",
    "\n",
    "#jump([0, 1, 0, 0, 0, 1, 0])\n",
    "#jump([0, 0, 1, 0, 0, 1, 0])\n",
    "jump([0, 0, 0, 1, 0, 0])"
   ]
  },
  {
   "cell_type": "markdown",
   "id": "c1bc7048",
   "metadata": {},
   "source": [
    "Left Rotate"
   ]
  },
  {
   "cell_type": "code",
   "execution_count": 17,
   "id": "3ed28dd4",
   "metadata": {},
   "outputs": [
    {
     "data": {
      "text/plain": [
       "[5, 1, 2, 3, 4]"
      ]
     },
     "execution_count": 17,
     "metadata": {},
     "output_type": "execute_result"
    }
   ],
   "source": [
    "def rotLeft(a, d):\n",
    "    n = len(a)\n",
    "    mod = d % n\n",
    "    res = [0 for i in range(n)]\n",
    "    for i in range(n):\n",
    "        res[i] = a[(mod + i) % n]\n",
    "    return res\n",
    "\n",
    "a = [1, 2, 3, 4, 5]\n",
    "d = 4\n",
    "rotLeft(a, d)"
   ]
  },
  {
   "cell_type": "markdown",
   "id": "771bdcdc-4451-463b-92fa-dfd006150a1f",
   "metadata": {},
   "source": [
    "New Year Chaos"
   ]
  },
  {
   "cell_type": "code",
   "execution_count": 1,
   "id": "20a10187-6cc5-4aac-a5ae-7e4c3fe65614",
   "metadata": {},
   "outputs": [],
   "source": [
    "def minimumBribes(Q):\n",
    "    #\n",
    "    # initialize the number of moves\n",
    "    moves = 0 \n",
    "    #\n",
    "    # decrease Q by 1 to make index-matching more intuitive\n",
    "    # so that our values go from 0 to N-1, just like our\n",
    "    # indices.  (Not necessary but makes it easier to\n",
    "    # understand.)\n",
    "    Q = [P-1 for P in Q]\n",
    "    #\n",
    "    # Loop through each person (P) in the queue (Q)\n",
    "    for i,P in enumerate(Q):\n",
    "        # i is the current position of P, while P is the\n",
    "        # original position of P.\n",
    "        #\n",
    "        # First check if any P is more than two ahead of \n",
    "        # its original position\n",
    "        if P - i > 2:\n",
    "            print(\"Too chaotic\")\n",
    "            return\n",
    "        #\n",
    "        # From here on out, we don't care if P has moved\n",
    "        # forwards, it is better to count how many times\n",
    "        # P has RECEIVED a bribe, by looking at who is\n",
    "        # ahead of P.  P's original position is the value\n",
    "        # of P.\n",
    "        # Anyone who bribed P cannot get to higher than\n",
    "        # one position in front if P's original position,\n",
    "        # so we need to look from one position in front\n",
    "        # of P's original position to one in front of P's\n",
    "        # current position, and see how many of those \n",
    "        # positions in Q contain a number large than P.\n",
    "        # In other words we will look from P-1 to i-1,\n",
    "        # which in Python is range(P-1,i-1+1), or simply\n",
    "        # range(P-1,i).  To make sure we don't try an\n",
    "        # index less than zero, replace P-1 with\n",
    "        # max(P-1,0)\n",
    "        for j in range(max(P-1,0),i):\n",
    "            if Q[j] > P:\n",
    "                moves += 1\n",
    "    print(moves)"
   ]
  },
  {
   "cell_type": "code",
   "execution_count": 27,
   "id": "b0bc6953-cc24-445c-b37b-36e4fa1f0367",
   "metadata": {},
   "outputs": [
    {
     "name": "stdout",
     "output_type": "stream",
     "text": [
      "[1, 2, 0, -3]\n",
      "4\n"
     ]
    }
   ],
   "source": [
    "def minimumBribes(q):\n",
    "    ans = 0\n",
    "    \n",
    "    for i in range(len(q)):\n",
    "        if q[i] - (i + 1) > 2: # Original value at i is i + 1, because of zero indexing\n",
    "            print(\"Too chaotic\")\n",
    "            return\n",
    "        # The -2 is because whoever bribed you got one position ahead of you, \n",
    "        # and then if you were his first bribe, he only had 1 more person to bribe, \n",
    "        # so in essence, nobody who bribed you can get more than 2 positions ahead \n",
    "        # of you\n",
    "        for j in range(max(0, q[i] - 2), i): \n",
    "            if q[j] > q[i]:\n",
    "                ans += 1\n",
    "    print(ans)\n",
    "\n",
    "#q = [4, 1, 2, 3]\n",
    "#q = [1, 2, 3, 5, 4, 6, 7, 8]\n",
    "q = [2, 4, 3, 1]\n",
    "k = [q[i + 1] - q[i] for i in range(len(q) - 1)]\n",
    "print([q[i] - (i + 1) for i in range(len(q))])\n",
    "#print(k)\n",
    "minimumBribes(q)"
   ]
  },
  {
   "cell_type": "code",
   "execution_count": 32,
   "id": "61f59097-c47c-4b6a-823c-fda1b263ea4c",
   "metadata": {},
   "outputs": [
    {
     "name": "stdout",
     "output_type": "stream",
     "text": [
      "2 3 2\n",
      "3 1 3\n",
      "4 4 4\n"
     ]
    },
    {
     "data": {
      "text/plain": [
       "3"
      ]
     },
     "execution_count": 32,
     "metadata": {},
     "output_type": "execute_result"
    }
   ],
   "source": [
    "def minimumSwaps(arr):\n",
    "    swap=0\n",
    "    for i in range (len(arr)):\n",
    "        if(arr[i]!=(i+1)):\n",
    "            t=i;\n",
    "            while(arr[t]!=(i+1)):\n",
    "                t+=1\n",
    "            print(arr[t], arr.index(i + 1), i + 1)\n",
    "            #temp=arr[t]\n",
    "            arr[t]=arr[i]\n",
    "            #arr[i]=temp\n",
    "            swap+=1\n",
    "    return swap\n",
    "#minimumSwaps([7, 1, 3, 2, 4, 5, 6])\n",
    "minimumSwaps([1, 3, 5, 2, 4, 6, 7])"
   ]
  },
  {
   "cell_type": "code",
   "execution_count": 34,
   "id": "71b0fa9f-afb5-4d92-bec8-8292d7e58943",
   "metadata": {},
   "outputs": [
    {
     "data": {
      "text/plain": [
       "3"
      ]
     },
     "execution_count": 34,
     "metadata": {},
     "output_type": "execute_result"
    }
   ],
   "source": [
    "def minimumSwaps(arr): \n",
    "    a = dict(enumerate(arr,1))\n",
    "    b = {v:k for k,v in a.items()}\n",
    "    count = 0\n",
    "    for i in a:\n",
    "        x = a[i]\n",
    "        if x!=i:\n",
    "            y = b[i]\n",
    "            a[y] = x\n",
    "            b[x] = y\n",
    "            count+=1\n",
    "    return count\n",
    "        \n",
    "#minimumSwaps([7, 1, 3, 2, 4, 5, 6])\n",
    "minimumSwaps([1, 3, 5, 2, 4, 6, 7])"
   ]
  },
  {
   "cell_type": "code",
   "execution_count": 49,
   "id": "a8a819d3-d987-435e-9972-d6570a87fdfb",
   "metadata": {},
   "outputs": [
    {
     "data": {
      "text/plain": [
       "3"
      ]
     },
     "execution_count": 49,
     "metadata": {},
     "output_type": "execute_result"
    }
   ],
   "source": [
    "def minimumSwaps(arr):\n",
    "    temp = [0] * (len(arr) + 1)\n",
    "    for pos, val in enumerate(arr):\n",
    "        temp[val] = pos\n",
    "    swaps = 0\n",
    "    for i in range(len(arr)):\n",
    "        if arr[i] != i+1:\n",
    "            swaps += 1\n",
    "            t = arr[i]\n",
    "            arr[temp[i+1]] = t\n",
    "            temp[t] = temp[i+1]\n",
    "    return swaps\n",
    "\n",
    "#minimumSwaps([7, 1, 3, 2, 4, 5, 6])\n",
    "minimumSwaps([1, 3, 5, 2, 4, 6, 7])"
   ]
  },
  {
   "cell_type": "code",
   "execution_count": 24,
   "id": "e77d61dd-c55b-47ef-8d30-11996fa02de8",
   "metadata": {},
   "outputs": [
    {
     "data": {
      "text/plain": [
       "7"
      ]
     },
     "execution_count": 24,
     "metadata": {},
     "output_type": "execute_result"
    }
   ],
   "source": [
    "# Developed myself, then found as solution in discussion\n",
    "def repeatedString(s, n):\n",
    "    k = len(s)\n",
    "    rem = n % k\n",
    "    return s[:rem].count('a') + (n // k) * s.count('a')\n",
    "    \n",
    "#s = \"abcac\"\n",
    "s = 'aba'\n",
    "n = 10\n",
    "repeatedString(s, n)"
   ]
  },
  {
   "cell_type": "markdown",
   "id": "dfec3c43-ba66-423a-9e21-bee58b59c1d8",
   "metadata": {},
   "source": [
    "Bubble Sort"
   ]
  },
  {
   "cell_type": "code",
   "execution_count": 1,
   "id": "eabc1990-a526-47fc-9ed1-343250bdbff6",
   "metadata": {},
   "outputs": [
    {
     "ename": "SyntaxError",
     "evalue": "invalid syntax (Temp/ipykernel_19296/1639155557.py, line 1)",
     "output_type": "error",
     "traceback": [
      "\u001b[1;36m  File \u001b[1;32m\"C:\\Users\\VALENT~1\\AppData\\Local\\Temp/ipykernel_19296/1639155557.py\"\u001b[1;36m, line \u001b[1;32m1\u001b[0m\n\u001b[1;33m    for (int i = 0; i < n; i++) {\u001b[0m\n\u001b[1;37m             ^\u001b[0m\n\u001b[1;31mSyntaxError\u001b[0m\u001b[1;31m:\u001b[0m invalid syntax\n"
     ]
    }
   ],
   "source": [
    "for (int i = 0; i < n; i++) {\n",
    "    \n",
    "    for (int j = 0; j < n - 1; j++) {\n",
    "        // Swap adjacent elements if they are in decreasing order\n",
    "        if (a[j] > a[j + 1]) {\n",
    "            swap(a[j], a[j + 1]);\n",
    "        }\n",
    "    }\n",
    "    \n",
    "}"
   ]
  },
  {
   "cell_type": "code",
   "execution_count": 2,
   "id": "bcbfe0f1-e8fc-45f0-919e-b725bd02c59a",
   "metadata": {},
   "outputs": [],
   "source": [
    "def abbreviation(a, b):\n",
    "    A = [[None for j in range(len(b))] for i in range(len(a))]\n",
    "    # construct base cases\n",
    "    # for our base case it's only going to be true if it's all lower case\n",
    "    # and one of them is equal to B[0]\n",
    "    # or there's only been one upper case letter and it's equal to b[j]\n",
    "    # upper_encountered means that we encountered that upper case letter\n",
    "    j = 0\n",
    "    if a[0].upper() == b[0]:\n",
    "        A[0][0] = True\n",
    "    upper_encountered = a[0].isupper()\n",
    "    for i in range(1,len(a)):\n",
    "        if a[i].isupper() and upper_encountered:\n",
    "            A[i][j] = False\n",
    "        elif a[i].isupper() and not upper_encountered and a[i] == b[j]:\n",
    "            A[i][j] = True\n",
    "            upper_encountered = True\n",
    "        elif a[i].isupper() and not upper_encountered and a[i] != b[j]:\n",
    "            A[i][j] = False\n",
    "            upper_encountered = True\n",
    "        elif a[i].islower() and a[i].upper() == b[j] and not upper_encountered:\n",
    "            A[i][j] = True\n",
    "        # a[i].islower()\n",
    "        else:\n",
    "            A[i][j] = A[i-1][j]\n",
    "    # since a[i] is only length 1 anything in A[0][1:] will be False\n",
    "    i = 0\n",
    "    for j in range(1,len(b)):\n",
    "        A[i][j] = False\n",
    "    # now find the solution\n",
    "    for i in range(1, len(a)):\n",
    "        for j in range(1, len(b)):\n",
    "            if a[i].upper() == b[j] and a[i].islower():\n",
    "                A[i][j] = A[i-1][j-1] or A[i-1][j]\n",
    "            elif a[i].upper() == b[j] and a[i].isupper():\n",
    "                A[i][j] = A[i-1][j-1]\n",
    "            elif a[i].upper() != b[j] and a[i].islower():\n",
    "                A[i][j] = A[i-1][j]\n",
    "            else:\n",
    "                A[i][j] = False\n",
    "    if A[len(a)-1][len(b)-1]:\n",
    "        return \"YES\"\n",
    "    return \"NO\""
   ]
  },
  {
   "cell_type": "code",
   "execution_count": 3,
   "id": "44717c13-eb3c-4565-8202-e4c1d6581834",
   "metadata": {},
   "outputs": [
    {
     "data": {
      "text/plain": [
       "'YES'"
      ]
     },
     "execution_count": 3,
     "metadata": {},
     "output_type": "execute_result"
    }
   ],
   "source": [
    "abbreviation('BFZZVHdQYHQEMNEFFRFJTQmNWHFVXRXlGTFNBqWQmyOWYWSTDSTMJRYHjBNTEWADLgHVgGIRGKFQSeCXNFNaIFAXOiQORUDROaNoJPXWZXIAABZKSZYFTDDTRGZXVZZNWNRHMvSTGEQCYAJSFvbqivjuqvuzafvwwifnrlcxgbjmigkms', 'BFZZVHQYHQEMNEFFRFJTQNWHFVXRXGTFNBWQOWYWSTDSTMJRYHBNTEWADLHVGIRGKFQSCXNFNIFAXOQORUDRONJPXWZXIAABZKSZYFTDDTRGZXVZZNWNRHMSTGEQCYAJSF')"
   ]
  },
  {
   "cell_type": "code",
   "execution_count": null,
   "id": "7d0f4f58-5c49-4439-bc99-75bee6fa94dd",
   "metadata": {},
   "outputs": [],
   "source": []
  }
 ],
 "metadata": {
  "kernelspec": {
   "display_name": "Python 3 (ipykernel)",
   "language": "python",
   "name": "python3"
  },
  "language_info": {
   "codemirror_mode": {
    "name": "ipython",
    "version": 3
   },
   "file_extension": ".py",
   "mimetype": "text/x-python",
   "name": "python",
   "nbconvert_exporter": "python",
   "pygments_lexer": "ipython3",
   "version": "3.9.6"
  }
 },
 "nbformat": 4,
 "nbformat_minor": 5
}
