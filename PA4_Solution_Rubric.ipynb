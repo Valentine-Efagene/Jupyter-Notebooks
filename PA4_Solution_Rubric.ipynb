{
 "cells": [
  {
   "cell_type": "markdown",
   "metadata": {
    "id": "xqiGsdfL3EOF"
   },
   "source": [
    "# Programming Assignment 4: Low Rank Matrix Approximation\n",
    "\n",
    "<p>\n",
    "    \n",
    "\n",
    "<font size=\"3\">\n",
    "\n",
    "In this assignment, we will use low-rank approximation of matrices (Lecture 11), which is useful for finding hidden relationships that might not be apparent from high-dimensional data.\n",
    "\n",
    "\n",
    "</font>"
   ]
  },
  {
   "cell_type": "markdown",
   "metadata": {
    "id": "iBRYY2cU3EOL"
   },
   "source": [
    "<hr style=\"border:3px solid blue\"> </hr>\n",
    "\n",
    "$$\n",
    "\\def\\M{\\mathsf{M}}\n",
    "\\def\\A{\\mathsf{A}}\n",
    "\\def\\B{\\mathsf{B}}\n",
    "\\def\\Mhat{\\hat{\\mathsf{M}}}\n",
    "\\def\\O{\\mathcal{O}}\n",
    "\\def\\OO{\\mathsf{O}}\n",
    "\\def\\a{\\mathbf{a}}\n",
    "\\def\\b{\\mathbf{b}}\n",
    "\\def\\1{\\mathbf{1}}\n",
    "\\def\\reals{\\mathbb{R}}\n",
    "$$\n",
    "## Formal definition and notation\n",
    "\n",
    "<p>\n",
    "\n",
    "<font size=\"3\"> \n",
    "    \n",
    "In this assignment you will be required to approximate a partially observed (typically) large matrix using a product of low rank matrices. Let us recap the ingredients of low rank matrix approximation: <p>\n",
    "\n",
    "- Observed matrix $\\M$ of size ${m\\times n}$ with real valued entries and missing values <p>\n",
    "    \n",
    "- Low rank matrices $\\A$ of size ${m\\times k}$ and $\\B$ of size $k \\times n$ <p>\n",
    "    \n",
    "- We would like to find $\\A,\\B$ such that $ \\M \\approx \\A \\B $. We will denote $\\Mhat = \\A\\B$ <p>\n",
    "    \n",
    "We are going to measure the goodness of approximation using the squared error at entries $(i,j)$ for which we know the value of $\\M_{ij}$ (entries where the matrix is observed, denoted as $\\O = \\{(i,j) \\mbox{ s.t. } \\M_{ij} \\mbox{ observed}\\}$). Therefore the loss is,\n",
    "$$\n",
    " \\mathcal{L} = \\frac{1}{|\\O|} \\sum_{(i,j)\\in\\O} \\! \\big(\\M_{ij} -  \\Mhat_{ij}\\big)^2 ~~ (\\star) ~.\n",
    "$$"
   ]
  },
  {
   "cell_type": "markdown",
   "metadata": {},
   "source": [
    "<font color='red'>ACT1: 10 points</font>"
   ]
  },
  {
   "cell_type": "code",
   "execution_count": 1,
   "metadata": {
    "scrolled": true
   },
   "outputs": [],
   "source": [
    "import matplotlib.pyplot as plt\n",
    "import numpy as np\n",
    "\n",
    "# ACT1: Implement average squared loss function. No loops please.\n",
    "# Given M, M_approx, O return the average squared loss over the observed entries.\n",
    "# M is an m x n 2-D numpy array containing the observed entries (with\n",
    "#   arbitrary values in the unobserved entries)\n",
    "# M_approx is an m x n 2-D numpy array representing the low-dimensional approximation\n",
    "# O is an m x n 2-D numpy array containing 0 if the entry is unobserved and\n",
    "#   1 if the entry is observed in M. O tells you which entries in M were observed\n",
    "def loss(M, M_approx, O):\n",
    "    return np.sum(O * (M - M_approx)**2) / np.sum(O) # 10 points"
   ]
  },
  {
   "cell_type": "markdown",
   "metadata": {
    "id": "qjtvCa_n3EOM"
   },
   "source": [
    "<hr style=\"border:3px solid blue\"> </hr>\n",
    "\n",
    "\n",
    "## Normalization of M\n",
    "\n",
    "As the initial prediction of $\\Mhat$ would likely to have entries following a standard normal distribution and  we use the squared error as the sole loss, it would be a good practice for us to do normalization for $\\M$ prior to the learning process. This means that we will preprocess matrix $\\M$ so that the average over its observed entries would be $0$ and the empirical distribution of its entries would resemble a standard normal distribution.   \n",
    "\n",
    "Mathematically speaking, let us normalize $\\M$ such that,\n",
    "$$\\sum_{(i,j)\\in\\O} M_{ij} = 0 ~ \\mbox{ and } ~ \\frac{1}{|\\O|} \\sum_{(i,j)\\in\\O} M^2_{ij} = 1 ~ .$$\n",
    "This can be achieve by finding two scalar $a$ and $s$ such that after the transformation,\n",
    "$\\M \\mapsto (\\M - a) / s$ the matrix is normalized.\n",
    "\n",
    "Specifically, $a$ and $s$ are the mean and standard deviation of the observed entries in $\\M$:\n",
    "$$a = \\frac{1}{|\\O|}\\sum_{(i,j)\\in\\O}M_{ij} ~~ \\mbox{ and } ~~ s = \\sqrt{\\frac{1}{|\\O|} \\sum_{(i,j)\\in\\O} (M_{ij} - a)^2}$$"
   ]
  },
  {
   "cell_type": "markdown",
   "metadata": {},
   "source": [
    "<font color='red'>ACT2: 15 points</font>"
   ]
  },
  {
   "cell_type": "code",
   "execution_count": 2,
   "metadata": {
    "colab": {
     "base_uri": "https://localhost:8080/"
    },
    "id": "xykP9YUf3EON",
    "outputId": "9e42050e-f167-4a0a-822c-d8a0e4811862"
   },
   "outputs": [
    {
     "name": "stdout",
     "output_type": "stream",
     "text": [
      "Function normalize_matrix is working fine!\n"
     ]
    }
   ],
   "source": [
    "# ACT2: return the normalized version of M. No loops please.\n",
    "# M and O are in the same format as in ACT1\n",
    "def normalize_matrix(M, O):\n",
    "    a = np.sum(M * O) / np.sum(O)\n",
    "    M -= a # 7 points for zeroing the bias \n",
    "    b = np.sqrt(np.sum(M**2 * O) / np.sum(O))\n",
    "    M /= b # 8 points for normalizing the scale\n",
    "    return M\n",
    "\n",
    "# The following functions checks if your implementation of normalize_matrix is correct\n",
    "# There's no need to understand it\n",
    "def check_normalization():\n",
    "    M = np.random.rand(10, 3)\n",
    "    O = (np.random.rand(10, 3) > 0.5) + 0\n",
    "    Mn = normalize_matrix(M, O)\n",
    "    \n",
    "    if abs(np.sum(Mn * O)) < 1e-6 and abs(np.sum(Mn**2 * O) / np.sum(O) - 1) < 1e-6:\n",
    "        print(\"Function {} is working fine!\".format('normalize_matrix'))\n",
    "    \n",
    "check_normalization()"
   ]
  },
  {
   "cell_type": "markdown",
   "metadata": {
    "id": "GOJxyaxF3EOO"
   },
   "source": [
    "<hr style=\"border:3px solid blue\"> </hr>\n",
    "\n",
    "\n",
    "## Low Rank Matrix Approximation (LORMA) \n",
    "\n",
    "We are now ready to build a low rank approximation (abbreviated as *LORMA*) of the form,\n",
    "$$\n",
    "\\M \\approx \\Mhat = \\A \\B  ~ .\n",
    "$$\n",
    "For brevitiy we refer to this model as *LORMA*. Note that once we established the approximating matrix $\\A$ we can reuse the same function **loss** from above."
   ]
  },
  {
   "cell_type": "markdown",
   "metadata": {},
   "source": [
    "<font color='red'>ACT3: 10 points</font>"
   ]
  },
  {
   "cell_type": "code",
   "execution_count": 3,
   "metadata": {
    "id": "ZsARTYV_3EOO"
   },
   "outputs": [],
   "source": [
    "# ACT3: implement lorma's prediction. Do not use loops in your implementation.\n",
    "# A is a m x k numpy 2-D array\n",
    "# B is a k x n numpy 2-D array\n",
    "# A and B are the low-rank matrices used to calculate M_approx\n",
    "def lorma(A, B):\n",
    "    return A @ B # 10 points"
   ]
  },
  {
   "cell_type": "markdown",
   "metadata": {
    "id": "Do9TSqr73EOO"
   },
   "source": [
    "## Gradient of LORMA\n",
    "\n",
    "Next we need to implement the gradient of the LORMA model. The gradient should have the same structure as the parameters of our LORMA model, which are A (shape m $\\times$ k) and B (shape k $\\times$ n). \n",
    "\n",
    "To get the gradient to A, we apply chain rule for matrix differentiation as: \n",
    "$$\n",
    "\\frac{d\\mathcal{L}}{d\\A} = \\frac{d\\mathcal{L}}{d\\Mhat} \\cdot \\frac{d\\Mhat}{d\\A}\n",
    "$$\n",
    "where $\\frac{d\\mathcal{L}}{d\\Mhat}$ returns a matrix of a shape of m $\\times$ n with its entries:\n",
    "$$\n",
    "(\\frac{d\\mathcal{L}}{d\\Mhat})_{ij} = \n",
    "                \\begin{cases}\n",
    "                \\frac{2}{|\\mathcal{O}|}(\\Mhat_{ij} - \\M_{ij}) & \\text{if} (i,j)\\in \\mathcal{O} \\\\\n",
    "                0 & \\text{otherwise}\n",
    "                \\end{cases}\n",
    "$$\n",
    "and \n",
    "$$\n",
    "\\frac{d\\Mhat}{d\\A} = \\B^T\n",
    "$$\n",
    "returns a matrix of shape n $\\times$ k. Note \"$\\cdot$\" denotes the matrix multiplication.\n",
    "\n",
    "\n",
    "Likewise, to get the gradient with respect to B, we have \n",
    "$$\n",
    "\\frac{d\\mathcal{L}}{d\\B} = \\frac{d\\Mhat}{d\\B}  \\cdot  \\frac{d\\mathcal{L}}{d\\Mhat} ~~~~~~\\text{where}~~~~~  \\frac{d\\Mhat}{d\\B} = \\A^T\n",
    "$$"
   ]
  },
  {
   "cell_type": "markdown",
   "metadata": {},
   "source": [
    "<font color='red'>ACT4: 20 points</font>"
   ]
  },
  {
   "cell_type": "code",
   "execution_count": 4,
   "metadata": {
    "id": "eOaQP_A93EOP"
   },
   "outputs": [],
   "source": [
    "# ACT4: implement lorma gradient. Do not use loops in your implementation.\n",
    "\n",
    "# Given M, O, A, B return the average squared loss over the observed entries.\n",
    "# M is an m x n 2-D numpy array containing the observed entries (with\n",
    "#   arbitrary values in the unobserved entries)\n",
    "# O is an m x n 2-D numpy array containing 0 if the entry is unobserved and\n",
    "#   1 if the entry is observed in M. O tells you which entries in M were observed\n",
    "# You would need to return two matrices as the gradients: dA & dB. dA has m x k, and dB has shape k x n.\n",
    "\n",
    "def lorma_grad(M, O, A, B):\n",
    "    M_approx = lorma(A, B) # 5 points for calling lorma\n",
    "    delta = 2 * (M_approx - M) * O / (np.sum(O)) # 5 points for finding dL/dM\n",
    "    dA = (delta @ B.T) # 5 points for dL/dA\n",
    "    dB = (A.T @ delta) # 5 points for dL/dB\n",
    "    return dA, dB"
   ]
  },
  {
   "cell_type": "markdown",
   "metadata": {
    "id": "s0iDekOW3EOP"
   },
   "source": [
    "## Initialization of LORMA\n",
    "\n",
    "<p>\n",
    "\n",
    "<font size=3>\n",
    "    \n",
    "Before we start learning using GD, we need to setup an initial state of $\\A$ and $\\B$ for estimating $\\Mhat$. Recall that we normalized $\\M$ such that,\n",
    "$$\\sum_{(i,j)\\in\\O} M_{ij} = 0 ~ \\mbox{ and } ~ \\frac{1}{|\\O|} \\sum_{(i,j)\\in\\O} M^2_{ij} = 1 ~ .$$\n",
    "We would like to make sure that the similar properties hold for $\\Mhat$. \n",
    "<br><br>\n",
    "\n",
    "More spcefically, we adopt random initialzation of the entries in $\\A$ and $\\B$ followed by a normalization process to make $\\Mhat$ staisfying the following properties:  \n",
    "1. Zero mean, i.e., $\\sum_{(i,j)\\in\\O} \\Mhat_{ij} = 0$:\n",
    "    \n",
    "  We can write $\\Mhat_{ij} = \\a_i \\cdot \\b_j$ where $\\a_i$ and $\\b_j$ are the i'th row & j'th column of $\\A$ and $\\B$ respectively. Since $\\A$ and $\\B$ are completely random the probability that $\\a_i\\cdot\\b_j$ is small is pretty high so we can assume that $\\sum_{i,j} \\Mhat_{ij} = \\sum_{i,j} \\a_i \\cdot \\b_j \\approx 0$. \n",
    "\n",
    "\n",
    "2. Less than or equal to unit variance, i.e., $\\frac{1}{mn} \\sum_{i,j} \\Mhat_{ij}^2  \\leq 1 ~ .$:    \n",
    "    \n",
    "  It suffices to have $|\\Mhat_{ij}|\\leq 1$ to satisfy the above condition. \n",
    "  Let us normalize each $\\a_i$ and $\\b_j$ so they have a unit norm:\n",
    "$$\n",
    "    \\a_i \\mapsto \\frac{\\a_i}{\\|\\a_i\\|} ~ \\mbox{ and } ~ \n",
    "    \\b_j \\mapsto \\frac{\\b_j}{\\|\\b_j\\|} ~ .\n",
    "$$\n",
    "Once the norm of all vectors $\\a_1,\\ldots,\\a_k,\\b_1,\\ldots,\\b_k$ is $1$ the inner products $\\a_i\\cdot\\b_j$ are in $[-1,1]$, which is essentially equivalent to $|\\Mhat_{ij}|\\leq 1$. This property is known as Cauchy's inequality which is typically preseted as,\n",
    "$|\\a\\cdot\\b| \\leq \\|\\a\\| \\|\\b\\|$. \n",
    "\n",
    "</font>"
   ]
  },
  {
   "cell_type": "markdown",
   "metadata": {},
   "source": [
    "<font color='red'>ACT5a: 5 points</font> <p>\n",
    "<font color='red'>ACT5b: 10 points</font> <p>"
   ]
  },
  {
   "cell_type": "code",
   "execution_count": 5,
   "metadata": {
    "id": "6GB6Kidl3EOQ"
   },
   "outputs": [],
   "source": [
    "# ACT5: implement initialization in accordance to the guidlines above. Do not use loops in your implementation.\n",
    "# m, n, and k refer to the shapes of A and B\n",
    "def lorma_init(m, n, k):\n",
    "    # ACT5a: intialize A, B using a zero-mean unit-variance Gaussian per entry\n",
    "    A = np.random.randn(m, k)\n",
    "    B = np.random.randn(k, n) # 5 points for A,B initialization\n",
    "    # ACT5b: normalize the tow of A and columns of B\n",
    "    A = A / np.sqrt(np.sum(A * A, axis=1, keepdims=True))\n",
    "    B = B / np.sqrt(np.sum(B * B, axis=0, keepdims=True)) # 10 points for A & B normalization\n",
    "    return A, B\n",
    "\n",
    "def check_lorma_init():\n",
    "    A, B = lorma_init(10, 7, 3)\n",
    "    assert(np.linalg.norm(np.diag(A @ A.T) - np.ones(10), 1) < 1e-6)\n",
    "    assert(np.linalg.norm(np.diag(B.T @ B) - np.ones(7), 1) < 1e-6)\n",
    "    return\n",
    "\n",
    "check_lorma_init()"
   ]
  },
  {
   "cell_type": "markdown",
   "metadata": {
    "id": "kWkNr_MY3EOQ"
   },
   "source": [
    "<hr style=\"border:3px solid blue\"> </hr>\n",
    "\n",
    "\n",
    "## Finally, it is time to use gradient descent (GD) to learn a LORMA model\n",
    "\n",
    "\n",
    "<font size=3>\n",
    "    \n",
    "Details for implementation:\n",
    "- We provide the way parsing of params should be performed\n",
    "- The first step is to create A & B by calling lorma_init\n",
    "- Next create a list called apperr which will record the approximation error after each update.\n",
    "  Do so by calling LORMA's loss function. You can initialize apperr with the initial loss."
   ]
  },
  {
   "cell_type": "markdown",
   "metadata": {},
   "source": [
    "## Main Loop Implementation:\n",
    "\n",
    "<font size=3>\n",
    "\n",
    "- Call lorma_grad with O to get new gradients dA & dB for A and B\n",
    "- Perform gradient step with the externally provide list of learning rate eta\n",
    "- Every 10 epochs do:\n",
    "    - Calculate loss and append it to apperr\n",
    "    - Print most recent current loss:*print((iter + 1), ': ', apperr[-1].round(4))*"
   ]
  },
  {
   "cell_type": "markdown",
   "metadata": {},
   "source": [
    "<font color='red'>ACT6: 20 points</font>"
   ]
  },
  {
   "cell_type": "code",
   "execution_count": 6,
   "metadata": {
    "id": "xUj1YKCB3EOR"
   },
   "outputs": [],
   "source": [
    "### ACT6: implement GD for LORMA model\n",
    "# k is an integer stating the rank of your LORMA model\n",
    "# epochs is an integer stating the number of epochs to run\n",
    "# eta is a list of floats, with the learning rate for each epoch\n",
    "#   len(eta) = epochs\n",
    "\n",
    "def lorma_learn(M, O, params):\n",
    "    k, epochs, eta = params\n",
    "    ### ACT6: implement SGD for LORMA model\n",
    "    m, n = M.shape\n",
    "    A, B = lorma_init(m, n, k)\n",
    "    apperr = [loss(M, lorma(A, B), O)] # 5 points for initial set up\n",
    "    for e in range(epochs):\n",
    "        dA, dB = lorma_grad(M, O, A, B) # 5 points for calling gradient function\n",
    "        A, B = A - eta[e] * dA, B - eta[e] * dB # 5 points for updates\n",
    "        if (e + 1) % (epochs // 10) == 0:\n",
    "            apperr.append(loss(M, lorma(A, B), O))\n",
    "            print((e + 1), ': ', apperr[-1].round(4)) # 5 points for printing out loss \n",
    "    return A, B, apperr"
   ]
  },
  {
   "cell_type": "code",
   "execution_count": 7,
   "metadata": {
    "colab": {
     "base_uri": "https://localhost:8080/",
     "height": 435
    },
    "id": "xxzhMGRT3EOR",
    "outputId": "140dcc86-ea77-4079-db24-6389b8b290e6"
   },
   "outputs": [
    {
     "name": "stdout",
     "output_type": "stream",
     "text": [
      "10 :  0.1885\n",
      "20 :  0.1168\n",
      "30 :  0.0851\n",
      "40 :  0.0669\n",
      "50 :  0.0555\n",
      "60 :  0.0479\n",
      "70 :  0.0426\n",
      "80 :  0.0387\n",
      "90 :  0.0359\n",
      "100 :  0.0337\n"
     ]
    },
    {
     "data": {
      "image/png": "[encoded data removed]",
      "text/plain": [
       "<Figure size 432x288 with 1 Axes>"
      ]
     },
     "metadata": {
      "needs_background": "light"
     },
     "output_type": "display_data"
    }
   ],
   "source": [
    "m, n, k = 100, 40, 5\n",
    "rand_seed = 10\n",
    "np.random.seed(rand_seed)\n",
    "\n",
    "def check_lorma_learn():\n",
    "    from numpy.random import binomial, randn, uniform\n",
    "    mockA, mockB = uniform(1, 2, (m, k)), uniform(-2, -1, (k, n))\n",
    "    M = mockA @ mockB + 0.01 * np.random.randn(m, n)\n",
    "    O = binomial(1, 0.5, size=M.shape)\n",
    "    epochs = 100\n",
    "    eta = 2.0 * np.ones(epochs)\n",
    "    params = k, epochs, eta\n",
    "    A, B, l = lorma_learn(M, O, params)\n",
    "    plt.plot(l , '-o')\n",
    "    return M, A, B\n",
    "\n",
    "M, A, B = check_lorma_learn()"
   ]
  },
  {
   "cell_type": "markdown",
   "metadata": {
    "id": "6izUxmor3EOR"
   },
   "source": [
    "### Visualizing the data matrix and it low-rank approximation\n",
    "\n",
    "For reference let us also visualize a random matrix from the same distribution used for initialization. "
   ]
  },
  {
   "cell_type": "code",
   "execution_count": 8,
   "metadata": {
    "colab": {
     "base_uri": "https://localhost:8080/",
     "height": 457
    },
    "id": "eZRAlJSt3EOS",
    "outputId": "06394720-1e5a-411c-8bea-dd83f9e02529"
   },
   "outputs": [
    {
     "data": {
      "image/png": "[encoded data removed]",
      "text/plain": [
       "<Figure size 720x4320 with 3 Axes>"
      ]
     },
     "metadata": {
      "needs_background": "light"
     },
     "output_type": "display_data"
    }
   ],
   "source": [
    "def show_mat(X, str, ind):\n",
    "    plt.subplot(1,3,ind)\n",
    "    plt.imshow(X, cmap='hot')\n",
    "    plt.axis('off')\n",
    "    plt.title(str)\n",
    "\n",
    "Ar, Br = lorma_init(m, n, k)\n",
    "fig = plt.figure(figsize=(10,60))\n",
    "show_mat(M, 'Original Matrix', 1)\n",
    "show_mat(lorma(A, B), 'Low Rank Approximation', 2)\n",
    "show_mat(lorma(Ar, Br), 'Initial Matrix', 3)"
   ]
  },
  {
   "cell_type": "markdown",
   "metadata": {
    "id": "gF3gm5_v3EOS"
   },
   "source": [
    "<hr style=\"border:3px solid blue\"> </hr>\n",
    "\n",
    "\n",
    "## Movie Recommendation\n",
    "\n",
    "In movie recommendation, you are given data about users and their movie preferences, and you have to recommend movies that the users have not seen, and will like. In lecture you learnt about  the [Netflix Prize](https://www.netflixprize.com) which awarded 1 million dollars to a team that  significantly improved their in-house movie recommendation system. An interesting tidbit: the team which finished second in 2008 comprised of three Princeton undergraduates! [[Article]](https://www.cs.princeton.edu/news/article/princeton-undergraduates-challenge-1000000-netflix-prize)\n",
    "    \n",
    "We will be using a smaller dataset called [MovieLens](https://grouplens.org/datasets/movielens/)."
   ]
  },
  {
   "cell_type": "code",
   "execution_count": 9,
   "metadata": {
    "id": "RfDXPJ_33EOS"
   },
   "outputs": [],
   "source": [
    "\"\"\"\n",
    "In this code cell, we will first download the MovieLens data.\n",
    "We will then convert the data into a matrix form instead of a list form.\n",
    "\n",
    "The matrix will have people as rows and movies (or Movie IDs) as columns.\n",
    "\n",
    "We will also download the movie names corresponding to the movie IDs.\n",
    "\"\"\"\n",
    "\n",
    "# Imports for loading and splitting data\n",
    "from sklearn.model_selection import train_test_split\n",
    "import pandas as pd\n",
    "\n",
    "# Load the MovieLens dataset\n",
    "# Rows are users and columns are different movies\n",
    "\n",
    "# Load the data from GitHub\n",
    "movie_ratings_path = 'https://raw.githubusercontent.com/ameet-1997/Machine-Learning/master/MovieLens/ratings.csv'\n",
    "movielens_raw = pd.read_csv(movie_ratings_path)\n",
    "\n",
    "# Process the data to get it in the right format\n",
    "# The data consists of rows - (userID, movie_ID, rating, timestamp)\n",
    "# We want to convert it to a matrix where the rows are users and the columns are movies\n",
    "# We will fill missing values with -1, a value that is not present in the dataset\n",
    "missing_value = -1\n",
    "movielens_data = movielens_raw.pivot(index = 'userId', columns ='movieId', values = 'rating').fillna(missing_value).to_numpy()\n",
    "\n",
    "# Create the observed matrix O. It should be boolean matrix with True for observed entries and false otherwise\n",
    "movielens_observed = (movielens_data != -1) + 0\n",
    "\n",
    "# We'll convert the boolean matrix to an integer matrix\n",
    "movielens_observed = movielens_observed.astype(int)\n",
    "\n",
    "# Let's create a copy of the data because we'll need it later\n",
    "movielens_data_copy = movielens_data.copy()\n",
    "\n",
    "\n",
    "# Load the movie names\n",
    "# The data consists of rows which are movie IDs\n",
    "movie_names_path = 'https://raw.githubusercontent.com/ameet-1997/Machine-Learning/master/MovieLens/movies.csv'\n",
    "movie_names = pd.read_csv(movie_names_path)"
   ]
  },
  {
   "cell_type": "code",
   "execution_count": null,
   "metadata": {
    "colab": {
     "base_uri": "https://localhost:8080/",
     "height": 435
    },
    "id": "xnY5exfV3EOS",
    "outputId": "c2a3a50d-303c-4448-c1b9-01c287ae5653"
   },
   "outputs": [
    {
     "name": "stdout",
     "output_type": "stream",
     "text": [
      "200 :  0.8195\n"
     ]
    }
   ],
   "source": [
    "\"\"\"\n",
    "We'll run LORMA on the MovieLens data\n",
    "\"\"\"\n",
    "\n",
    "rand_seed = 10\n",
    "np.random.seed(rand_seed)\n",
    "\n",
    "# Normalize the MovieLens train data\n",
    "movielens_normalized = normalize_matrix(movielens_data, movielens_observed)\n",
    "# Define the parameters for LORMA\n",
    "low_rank = 40\n",
    "# For debugging run for 100 epochs then switch back to the parameters below\n",
    "epochs = 2000\n",
    "eta = 10.0 * np.ones(epochs)\n",
    "params = low_rank, epochs, eta\n",
    "\n",
    "# Run LORMA\n",
    "A, B, losses = lorma_learn(movielens_normalized, movielens_observed, params)\n",
    "\n",
    "# Plot the losses to make sure they are decreasing\n",
    "_ = plt.plot(losses , '-o')"
   ]
  },
  {
   "cell_type": "code",
   "execution_count": null,
   "metadata": {
    "colab": {
     "base_uri": "https://localhost:8080/"
    },
    "id": "B-GJ5PSU3EOT",
    "outputId": "a494234f-d250-4620-b7da-ff009fdaf541"
   },
   "outputs": [],
   "source": [
    "\"\"\"\n",
    "We'll pick three users and see what movies they liked before, and what movies your model predicted.\n",
    "Hopefully there is some correlation!\n",
    "\n",
    "In this cell we first print out some movies that they have liked\n",
    "\"\"\"\n",
    "\n",
    "# Pick three users to recommend movies to\n",
    "users = [1,13, 111]\n",
    "\n",
    "# Let's see their tastes. Print the top-p movies they have rated highly\n",
    "p = 10\n",
    "for user in users:\n",
    "    print(\"\\nUser {} liked the following:\\n\".format(user))\n",
    "    \n",
    "    # Sort the movies for this user in descending order based on the rating\n",
    "    movie_order = np.argsort(-movielens_data[user])\n",
    "    top_p = movie_order[:p]\n",
    "    \n",
    "    # Print the movies\n",
    "    for movie in top_p:\n",
    "        print(\"\\t{:<50} rated {:.1f}  genres {:<30}\".format(movie_names.iloc[movie]['title'], movielens_data_copy[user, movie], movie_names.iloc[movie]['genres']))"
   ]
  },
  {
   "cell_type": "code",
   "execution_count": null,
   "metadata": {
    "colab": {
     "base_uri": "https://localhost:8080/"
    },
    "id": "kHLaC4ZY3EOT",
    "outputId": "a957ee86-d474-4773-dbe2-d0f81be42797"
   },
   "outputs": [],
   "source": [
    "\"\"\"\n",
    "User 1 seems to like Comedy and Horror\n",
    "User 13 seems to like Drama and Romance\n",
    "User 111 seems to like Sci-Fi and Adventure\n",
    "\n",
    "Now let's make our predictions on the test data and see what movies we can recommend\n",
    "\n",
    "\"\"\"\n",
    "\n",
    "for user in users:\n",
    "    print(\"\\nRecommend the following movies to User {}\\n\".format(user))\n",
    "    \n",
    "    # Predict the rating for these movies by performing a matrix multiplication between the user and movie vectors\n",
    "    predicted_ratings = A[user,:] @ B\n",
    "    \n",
    "    # If the movie review was observed in the matrix, set it to (-infinity) so that we don't predict it\n",
    "    # We want to predict only from a set of movies which the user has not seen\n",
    "    predicted_ratings[movielens_observed[user]] = -np.inf\n",
    "    \n",
    "    # Choose the top_p movies\n",
    "    predicted_movie_order = np.argsort(-predicted_ratings)\n",
    "    top_p = predicted_movie_order[:p]\n",
    "    \n",
    "    # Print the recommended movies\n",
    "    for movie in top_p:\n",
    "        print(\"\\t{:<60} genres {:<30}\".format(movie_names.iloc[movie]['title'][:60], movie_names.iloc[movie]['genres']))"
   ]
  },
  {
   "cell_type": "markdown",
   "metadata": {},
   "source": [
    "<font color='red'>ACT7: 10 points</font>"
   ]
  },
  {
   "cell_type": "markdown",
   "metadata": {},
   "source": [
    "### ACT7: Answer the following question in the cell below and make the \"cell type\" as markdown\n",
    "\n",
    "Do you see any correlation between the movies they liked and the predicted movies?\n",
    "\n",
    "p.s.: The correlation is not strong, but try to see if there is some pattern!"
   ]
  },
  {
   "cell_type": "markdown",
   "metadata": {
    "id": "AoELP2H73EOT"
   },
   "source": [
    "### ACT7 Solution :\n",
    "\n",
    "- User 1 gets recommended Comedy as expected\n",
    "- User 13 gets recommended Drama\n",
    "- User 111 gets recomended Sci-FI\n",
    "\n",
    "missing discussion of one user will result in 3 points deduction, if no discussion for any user, then 0 point."
   ]
  },
  {
   "cell_type": "code",
   "execution_count": null,
   "metadata": {},
   "outputs": [],
   "source": []
  }
 ],
 "metadata": {
  "colab": {
   "name": "PA4_Solution_Rubric.ipynb",
   "provenance": []
  },
  "kernelspec": {
   "display_name": "Python 3 (ipykernel)",
   "language": "python",
   "name": "python3"
  },
  "language_info": {
   "codemirror_mode": {
    "name": "ipython",
    "version": 3
   },
   "file_extension": ".py",
   "mimetype": "text/x-python",
   "name": "python",
   "nbconvert_exporter": "python",
   "pygments_lexer": "ipython3",
   "version": "3.9.6"
  }
 },
 "nbformat": 4,
 "nbformat_minor": 4
}
