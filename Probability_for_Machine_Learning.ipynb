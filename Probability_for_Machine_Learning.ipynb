{
 "cells": [
  {
   "cell_type": "code",
   "execution_count": 16,
   "metadata": {},
   "outputs": [],
   "source": [
    "import numpy as np\n",
    "from matplotlib import pyplot\n",
    "from math import log2\n",
    "from math import log\n",
    "from numpy import mean"
   ]
  },
  {
   "cell_type": "code",
   "execution_count": 17,
   "metadata": {},
   "outputs": [
    {
     "data": {
      "text/plain": [
       "2.279028485862769"
      ]
     },
     "execution_count": 17,
     "metadata": {},
     "output_type": "execute_result"
    }
   ],
   "source": [
    "# calculate cross-entropy in bits\n",
    "def cross_entropy_bits(p, q):\n",
    "    return -sum([p[i]*log2(q[i]) for i in range(len(p))])\n",
    "\n",
    "# define data\n",
    "p = [0.10, 0.40, 0.50]\n",
    "q = [0.80, 0.15, 0.05]\n",
    "ce_pq = cross_entropy(p, q)\n",
    "ce_pq"
   ]
  },
  {
   "cell_type": "code",
   "execution_count": 18,
   "metadata": {},
   "outputs": [],
   "source": [
    "# calculate cross-entropy in nats\n",
    "def cross_entropy(p, q):\n",
    "    return -sum([p[i]*log(q[i]) for i in range(len(p))])"
   ]
  },
  {
   "cell_type": "code",
   "execution_count": 19,
   "metadata": {},
   "outputs": [
    {
     "name": "stdout",
     "output_type": "stream",
     "text": [
      ">[y=1.0, yhat=0.8] ce: 0.223 nats\n",
      ">[y=1.0, yhat=0.9] ce: 0.105 nats\n",
      ">[y=1.0, yhat=0.9] ce: 0.105 nats\n",
      ">[y=1.0, yhat=0.6] ce: 0.511 nats\n",
      ">[y=1.0, yhat=0.8] ce: 0.223 nats\n",
      ">[y=0.0, yhat=0.1] ce: 0.105 nats\n",
      ">[y=0.0, yhat=0.4] ce: 0.511 nats\n",
      ">[y=0.0, yhat=0.2] ce: 0.223 nats\n",
      ">[y=0.0, yhat=0.1] ce: 0.105 nats\n",
      ">[y=0.0, yhat=0.3] ce: 0.357 nats\n",
      "Average Cross Entropy: 0.247 nats\n"
     ]
    }
   ],
   "source": [
    "# define classification data\n",
    "p = [1, 1, 1, 1, 1, 0, 0, 0, 0, 0]\n",
    "q = [0.8, 0.9, 0.9, 0.6, 0.8, 0.1, 0.4, 0.2, 0.1, 0.3]\n",
    "# calculate cross entropy for each example\n",
    "results = list()\n",
    "\n",
    "for i in range(len(p)):\n",
    "    # create the distribution for each event {0, 1}\n",
    "    expected = [1.0 - p[i], p[i]]\n",
    "    predicted = [1.0 - q[i], q[i]]\n",
    "    # calculate cross entropy for the two events\n",
    "    ce = cross_entropy(expected, predicted)\n",
    "    print('>[y=%.1f, yhat=%.1f] ce: %.3f nats' % (p[i], q[i], ce))\n",
    "    results.append(ce)\n",
    "    \n",
    "# calculate the average cross entropy\n",
    "mean_ce = mean(results)\n",
    "print('Average Cross Entropy: %.3f nats' % mean_ce)"
   ]
  },
  {
   "cell_type": "code",
   "execution_count": null,
   "metadata": {},
   "outputs": [],
   "source": []
  },
  {
   "cell_type": "code",
   "execution_count": 27,
   "metadata": {},
   "outputs": [
    {
     "name": "stdout",
     "output_type": "stream",
     "text": [
      "i = 0, y = [0.0, 1.0], yhat=[0.2, 0.8]\n",
      "i = 1, y = [0.0, 1.0], yhat=[0.1, 0.9]\n",
      "i = 2, y = [0.0, 1.0], yhat=[0.1, 0.9]\n",
      "i = 3, y = [0.0, 1.0], yhat=[0.4, 0.6]\n",
      "i = 4, y = [0.0, 1.0], yhat=[0.2, 0.8]\n",
      "i = 5, y = [1.0, 0.0], yhat=[0.9, 0.1]\n",
      "i = 6, y = [1.0, 0.0], yhat=[0.6, 0.4]\n",
      "i = 7, y = [1.0, 0.0], yhat=[0.8, 0.2]\n",
      "i = 8, y = [1.0, 0.0], yhat=[0.9, 0.1]\n",
      "i = 9, y = [1.0, 0.0], yhat=[0.7, 0.3]\n"
     ]
    }
   ],
   "source": [
    "p = [1, 1, 1, 1, 1, 0, 0, 0, 0, 0]\n",
    "q = [0.8, 0.9, 0.9, 0.6, 0.8, 0.1, 0.4, 0.2, 0.1, 0.3]\n",
    "\n",
    "for i in range(len(p)):\n",
    "    # create the distribution for each event {0, 1}\n",
    "    expected = [1.0 - p[i], p[i]]\n",
    "    predicted = [1.0 - q[i], q[i]]\n",
    "    #print('i = %d, y=%.1f, yhat=%.1f]' % (i, p[i], q[i]))\n",
    "    print('i = %d, y = [%.1f, %.1f], yhat=[%.1f, %.1f]' % (i, expected[0], expected[1], predicted[0], predicted[1]))"
   ]
  },
  {
   "cell_type": "code",
   "execution_count": null,
   "metadata": {},
   "outputs": [],
   "source": []
  }
 ],
 "metadata": {
  "kernelspec": {
   "display_name": "Python 3",
   "language": "python",
   "name": "python3"
  },
  "language_info": {
   "codemirror_mode": {
    "name": "ipython",
    "version": 3
   },
   "file_extension": ".py",
   "mimetype": "text/x-python",
   "name": "python",
   "nbconvert_exporter": "python",
   "pygments_lexer": "ipython3",
   "version": "3.8.6rc1"
  }
 },
 "nbformat": 4,
 "nbformat_minor": 4
}
