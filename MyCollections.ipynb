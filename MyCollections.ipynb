{
 "cells": [
  {
   "cell_type": "markdown",
   "metadata": {},
   "source": [
    "## GRAPH"
   ]
  },
  {
   "cell_type": "markdown",
   "metadata": {},
   "source": [
    "### Linked Directed Graph"
   ]
  },
  {
   "cell_type": "code",
   "execution_count": null,
   "metadata": {},
   "outputs": [],
   "source": [
    "class LinkedDirectedGraph(AbstractCollection):\n",
    "    def __init__(self, sourceCollection = None):\n",
    "        self.edgeCount = 0\n",
    "        self.vertices = dict() # Dictionary of vertices\n",
    "        AbstractCollection.__init__(self, sourceCollection)\n",
    "    \n",
    "    def addVertex(self, label):\n",
    "        \"\"\"Adds a vertex with the given label to the graph.\"\"\"\n",
    "        self.vertices[label] = LinkedVertex(label)\n",
    "        self.size += 1\n",
    "\n",
    "    def removeVertex(self, label):\n",
    "        \"\"\"Returns True if the vertex was removed, or False\n",
    "        otherwise.\"\"\"\n",
    "        removedVertex = self.vertices.pop(label, None)\n",
    "        if removedVertex is None:\n",
    "            return False\n",
    "        # Examine all other vertices to remove edges\n",
    "        # directed at the removed vertex\n",
    "        for vertex in self.getVertices():\n",
    "            if vertex.removeEdgeTo(removedVertex):\n",
    "                self.edgeCount -= 1\n",
    "        # Examine all edges from the removed vertex to others\n",
    "        for edge in removedVertex.incidentEdges():\n",
    "            self.edgeCount -= 1\n",
    "        self.size -= 1\n",
    "        return True\n",
    "\n",
    "    def addEdge(self, fromLabel, toLabel, weight):\n",
    "        \"\"\"Connects the vertices with an edge with the given weight.\"\"\"\n",
    "        fromVertex = self.getVertex(fromLabel)\n",
    "        toVertex = self.getVertex(toLabel)\n",
    "        fromVertex.addEdgeTo(toVertex, weight)\n",
    "        self.edgeCount += 1\n",
    "\n",
    "    def getEdge(self, fromLabel, toLabel):\n",
    "        \"\"\"Returns the edge connecting the two vertices, or None if\n",
    "        no edge exists.\"\"\"\n",
    "        fromVertex = self.getVertex(fromLabel)\n",
    "        toVertex = self.getVertex(toLabel)\n",
    "        return fromVertex.getEdgeTo(toVertex)\n",
    "\n",
    "    def removeEdge(self, fromLabel, toLabel):\n",
    "        \"\"\"Returns True if the edge was removed, or False otherwise.\"\"\"\n",
    "        fromVertex = self.getVertex(fromLabel)\n",
    "        toVertex = self.getVertex(toLabel)\n",
    "        edgeRemovedFlg = fromVertex.removeEdgeTo(toVertex)\n",
    "        if edgeRemovedFlg:\n",
    "            self.edgeCount -= 1\n",
    "        return edgeRemovedFlg\n",
    "\n",
    "    def edges(self):\n",
    "        \"\"\"Supports iteration over the edges in the graph.\"\"\"\n",
    "        result = set()\n",
    "        for vertex in self.getVertices():\n",
    "            edges = vertex.incidentEdges()\n",
    "            result = result.union(set(edges))\n",
    "        return iter(result)"
   ]
  },
  {
   "cell_type": "markdown",
   "metadata": {},
   "source": [
    "### Linked Vertex"
   ]
  },
  {
   "cell_type": "code",
   "execution_count": null,
   "metadata": {},
   "outputs": [],
   "source": [
    "class LinkedVertex(object):\n",
    "    def __init__(self, label):\n",
    "        self.label = label\n",
    "        self.edgeList = list()\n",
    "        self.mark = False\n",
    "\n",
    "    def setLabel(self, label, g):\n",
    "        \"\"\"Sets the vertex’s label to label.\"\"\"\n",
    "        g.vertices.pop(self.label, None)\n",
    "        g.vertices[label] = self\n",
    "        self.label = label\n",
    "\n",
    "    def neighboringVertices(self):\n",
    "        \"\"\"Returns the neighboring vertices of this vertex.\"\"\"\n",
    "        vertices = list()\n",
    "        for edge in self.edgeList:\n",
    "            vertices.append(edge.getOtherVertex(self))\n",
    "        return iter(vertices)\n",
    "\n",
    "    def removeEdgeTo(self, toVertex):\n",
    "        \"\"\"Returns True if the edge exists and is removed,\n",
    "        or False otherwise.\"\"\"\n",
    "        edge = LinkedEdge(self, toVertex)\n",
    "        if edge in self.edgeList:\n",
    "            self.edgeList.remove(edge)\n",
    "            return True\n",
    "        else:\n",
    "            return False\n",
    "\n",
    "    def __hash__(self):\n",
    "        \"\"\"Supports hashing on a vertex.\"\"\"\n",
    "        return hash(self.label)"
   ]
  },
  {
   "cell_type": "markdown",
   "metadata": {},
   "source": [
    "### Linked Edge"
   ]
  },
  {
   "cell_type": "code",
   "execution_count": null,
   "metadata": {},
   "outputs": [],
   "source": [
    "class LinkedEdge(object):\n",
    "    def __init__(self, fromVertex, toVertex, weight = None):\n",
    "        self.vertex1 = fromVertex\n",
    "        self.vertex2 = toVertex\n",
    "        self.weight = weight\n",
    "        self.mark = False\n",
    "\n",
    "    def __eq__(self, other):\n",
    "        \"\"\"Two edges are equal if they connect\n",
    "        the same vertices.\"\"\"\n",
    "        if self is other: return True\n",
    "        if type(self) != type(other): return False\n",
    "        return self.vertex1 == other.vertex1 and \\\n",
    "            self.vertex2 == other.vertex2 and \\\n",
    "            self.weight == other.weight"
   ]
  }
 ],
 "metadata": {
  "kernelspec": {
   "display_name": "Python 3",
   "language": "python",
   "name": "python3"
  },
  "language_info": {
   "codemirror_mode": {
    "name": "ipython",
    "version": 3
   },
   "file_extension": ".py",
   "mimetype": "text/x-python",
   "name": "python",
   "nbconvert_exporter": "python",
   "pygments_lexer": "ipython3",
   "version": "3.6.6"
  }
 },
 "nbformat": 4,
 "nbformat_minor": 2
}
