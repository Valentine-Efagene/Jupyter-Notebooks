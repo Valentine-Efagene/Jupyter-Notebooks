{
 "cells": [
  {
   "cell_type": "markdown",
   "metadata": {},
   "source": [
    "Write a function:\n",
    "\n",
    "    def solution(A)\n",
    "\n",
    "that, given an array A of N integers, returns the smallest positive integer (greater than 0) that does not occur in A.\n",
    "\n",
    "For example, given A = [1, 3, 6, 4, 1, 2], the function should return 5.\n",
    "\n",
    "Given A = [1, 2, 3], the function should return 4.\n",
    "\n",
    "Given A = [−1, −3], the function should return 1.\n",
    "\n",
    "Write an efficient algorithm for the following assumptions:\n",
    "\n",
    "        N is an integer within the range [1..100,000];\n",
    "        each element of array A is an integer within the range [−1,000,000..1,000,000].\n",
    "\n"
   ]
  },
  {
   "cell_type": "code",
   "execution_count": 39,
   "metadata": {},
   "outputs": [
    {
     "data": {
      "text/plain": [
       "4"
      ]
     },
     "execution_count": 39,
     "metadata": {},
     "output_type": "execute_result"
    }
   ],
   "source": [
    "#A = [-2, -5, 1, 3, 6, 4, 1, 2]\n",
    "#A = [-1, -3]\n",
    "A = [1, 2, 3]\n",
    "\n",
    "def sol(A):\n",
    "    A = set(filter(lambda x: x > 0, A))\n",
    "    res = 1\n",
    "\n",
    "    for x in range(1, max(A) + 2 if A != set() else res):\n",
    "        if not x in A:\n",
    "            res = x\n",
    "            break\n",
    "        \n",
    "    return res\n",
    "\n",
    "sol(A)"
   ]
  },
  {
   "cell_type": "code",
   "execution_count": 77,
   "metadata": {},
   "outputs": [
    {
     "name": "stdout",
     "output_type": "stream",
     "text": [
      "39\n"
     ]
    },
    {
     "data": {
      "text/plain": [
       "'The quick brown fox jumps over the lazy'"
      ]
     },
     "execution_count": 77,
     "metadata": {},
     "output_type": "execute_result"
    }
   ],
   "source": [
    "def forum(message, K):\n",
    "    total = 0\n",
    "    words = message.split()\n",
    "    \n",
    "    for i in range(len(words)):\n",
    "        inc = len(words[i]) + 1 if i > 0 else len(words[i])\n",
    "        total += inc\n",
    "        \n",
    "        if total <= K:\n",
    "            i += 1\n",
    "        else:\n",
    "            break\n",
    "    \n",
    "    return ' '.join(words[:i])\n",
    "\n",
    "#a = forum(\"Codility We test coders\", 14)\n",
    "#a = forum(\"To crop or not to crop\", 21)\n",
    "#a = forum(\"Why not\", 100)\n",
    "a = forum('The quick brown fox jumps over the lazy dog', 39)\n",
    "print(len(a))\n",
    "a"
   ]
  },
  {
   "cell_type": "code",
   "execution_count": null,
   "metadata": {},
   "outputs": [],
   "source": []
  },
  {
   "cell_type": "code",
   "execution_count": 88,
   "metadata": {},
   "outputs": [
    {
     "data": {
      "text/plain": [
       "3"
      ]
     },
     "execution_count": 88,
     "metadata": {},
     "output_type": "execute_result"
    }
   ],
   "source": [
    "def cars(P, S):\n",
    "    S.sort()\n",
    "    S = S[::-1]\n",
    "    people = sum(P)\n",
    "    i = 0\n",
    "    \n",
    "    for s in S:\n",
    "        people -= s\n",
    "        i += 1\n",
    "        \n",
    "        if (people <= 0):\n",
    "            break\n",
    "    \n",
    "    return i\n",
    "    \n",
    "#P = [1, 4, 1]\n",
    "#S = [1, 5, 1]\n",
    "#P = [2, 3, 4, 2]\n",
    "#S = [2, 5, 7, 2]\n",
    "P = [4, 4, 2, 4]\n",
    "S = [5, 5, 2, 5]\n",
    "cars(P, S)"
   ]
  },
  {
   "cell_type": "code",
   "execution_count": 96,
   "metadata": {},
   "outputs": [
    {
     "data": {
      "text/plain": [
       "([19, 8, 5, 1], 16.5)"
      ]
     },
     "execution_count": 96,
     "metadata": {},
     "output_type": "execute_result"
    }
   ],
   "source": [
    "from math import log, ceil\n",
    "\n",
    "def company(A):\n",
    "    N = sum(A)\n",
    "    A.sort()\n",
    "    A = A[::-1]\n",
    "    filterCount = 0\n",
    "    \n",
    "    for a in A:\n",
    "        \n",
    "    \n",
    "    return A, N / 2\n",
    "    \n",
    "A = [5, 19, 8, 1]    \n",
    "company(A)"
   ]
  },
  {
   "cell_type": "code",
   "execution_count": 112,
   "metadata": {},
   "outputs": [
    {
     "data": {
      "text/plain": [
       "3"
      ]
     },
     "execution_count": 112,
     "metadata": {},
     "output_type": "execute_result"
    }
   ],
   "source": [
    "def solution(A):\n",
    "    sum = summ(A)\n",
    "    counter = 0\n",
    "    targetedSum = int(sum/2)\n",
    "    arr = A\n",
    "    while(sum >=  targetedSum+1):\n",
    "        arr.sort()\n",
    "        arr[len(arr)-1] = arr[len(arr)-1]/2\n",
    "        counter +=1 \n",
    "        sum = int(summ(arr))\n",
    "    return counter\n",
    "\n",
    "def summ(arr):\n",
    "    sum = 0\n",
    "    for i in range(0, len(arr)): \n",
    "        sum = sum + arr[i]\n",
    "    return sum\n",
    "\n",
    "A = [5, 19, 8, 1]    \n",
    "solution(A)  "
   ]
  },
  {
   "cell_type": "code",
   "execution_count": 113,
   "metadata": {},
   "outputs": [
    {
     "data": {
      "text/plain": [
       "3"
      ]
     },
     "execution_count": 113,
     "metadata": {},
     "output_type": "execute_result"
    }
   ],
   "source": [
    "def solution(A):\n",
    "    sum = summ(A)\n",
    "    counter = 0\n",
    "    targetedSum = int(sum/2)\n",
    "    arr = A\n",
    "    while(sum >=  targetedSum+1):\n",
    "        arr.sort()\n",
    "        arr[len(arr)-1] = arr[len(arr)-1]/2\n",
    "        counter +=1 \n",
    "        sum = int(summ(arr))\n",
    "    return counter\n",
    "\n",
    "def summ(arr):\n",
    "    return sum(arr)\n",
    "\n",
    "A = [5, 19, 8, 1]    \n",
    "solution(A)"
   ]
  },
  {
   "cell_type": "code",
   "execution_count": 116,
   "metadata": {},
   "outputs": [
    {
     "data": {
      "text/plain": [
       "3"
      ]
     },
     "execution_count": 116,
     "metadata": {},
     "output_type": "execute_result"
    }
   ],
   "source": [
    "def solution(A):\n",
    "    N = sum(A)\n",
    "    counter = 0\n",
    "    t = int(N/2)\n",
    "    \n",
    "    while(N >=  t + 1):\n",
    "        A.sort()\n",
    "        A[len(A)-1] = A[len(A)-1]/2\n",
    "        counter +=1 \n",
    "        N = int(sum(A))\n",
    "    return counter\n",
    "\n",
    "A = [5, 19, 8, 1]    \n",
    "solution(A)"
   ]
  },
  {
   "cell_type": "code",
   "execution_count": 111,
   "metadata": {},
   "outputs": [
    {
     "data": {
      "text/plain": [
       "33"
      ]
     },
     "execution_count": 111,
     "metadata": {},
     "output_type": "execute_result"
    }
   ],
   "source": []
  },
  {
   "cell_type": "code",
   "execution_count": null,
   "metadata": {},
   "outputs": [],
   "source": []
  }
 ],
 "metadata": {
  "kernelspec": {
   "display_name": "Python 3 (ipykernel)",
   "language": "python",
   "name": "python3"
  },
  "language_info": {
   "codemirror_mode": {
    "name": "ipython",
    "version": 3
   },
   "file_extension": ".py",
   "mimetype": "text/x-python",
   "name": "python",
   "nbconvert_exporter": "python",
   "pygments_lexer": "ipython3",
   "version": "3.9.6"
  }
 },
 "nbformat": 4,
 "nbformat_minor": 2
}
