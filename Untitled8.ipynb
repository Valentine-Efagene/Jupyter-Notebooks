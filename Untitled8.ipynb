{
 "cells": [
  {
   "cell_type": "code",
   "execution_count": 1,
   "id": "8385a5db",
   "metadata": {},
   "outputs": [],
   "source": [
    "import math"
   ]
  },
  {
   "cell_type": "code",
   "execution_count": 2,
   "id": "dc33534c",
   "metadata": {},
   "outputs": [
    {
     "data": {
      "text/plain": [
       "1853020188851840.0"
      ]
     },
     "execution_count": 2,
     "metadata": {},
     "output_type": "execute_result"
    }
   ],
   "source": [
    "a = math.pow(3, 32) -1\n",
    "a"
   ]
  },
  {
   "cell_type": "code",
   "execution_count": 7,
   "id": "be914ca6",
   "metadata": {},
   "outputs": [
    {
     "name": "stdout",
     "output_type": "stream",
     "text": [
      "74 25040813362862.703\n",
      "75 24706935851357.867\n",
      "76 24381844590155.79\n",
      "77 24065197257816.105\n",
      "78 23756669087844.1\n",
      "79 23455951757618.227\n",
      "80 23162752360648.0\n",
      "81 22876792454960.99\n",
      "82 22597807181120.0\n",
      "83 22325544443998.074\n",
      "84 22059764152998.094\n",
      "85 21800237515904.0\n"
     ]
    }
   ],
   "source": [
    "for i in range(74, 86):\n",
    "    print(i, a/i)"
   ]
  },
  {
   "cell_type": "code",
   "execution_count": 11,
   "id": "94f6244d",
   "metadata": {},
   "outputs": [
    {
     "data": {
      "text/plain": [
       "3"
      ]
     },
     "execution_count": 11,
     "metadata": {},
     "output_type": "execute_result"
    }
   ],
   "source": []
  },
  {
   "cell_type": "code",
   "execution_count": null,
   "id": "e600352b",
   "metadata": {},
   "outputs": [],
   "source": []
  }
 ],
 "metadata": {
  "kernelspec": {
   "display_name": "Python 3 (ipykernel)",
   "language": "python",
   "name": "python3"
  },
  "language_info": {
   "codemirror_mode": {
    "name": "ipython",
    "version": 3
   },
   "file_extension": ".py",
   "mimetype": "text/x-python",
   "name": "python",
   "nbconvert_exporter": "python",
   "pygments_lexer": "ipython3",
   "version": "3.9.6"
  }
 },
 "nbformat": 4,
 "nbformat_minor": 5
}
