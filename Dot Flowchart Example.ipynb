{
 "cells": [
  {
   "cell_type": "code",
   "execution_count": 1,
   "metadata": {
    "format": "row"
   },
   "outputs": [
    {
     "name": "stderr",
     "output_type": "stream",
     "text": [
      "UsageError: Cell magic `%%dot` not found.\n"
     ]
    }
   ],
   "source": [
    "%%dot\n",
    "\n",
    "digraph apply {\n",
    "  rankdir=BT; fontname=Helvetica\n",
    "  node[peripheries=0, style=filled, fillcolor=blue, fontcolor=white,fontname=Helvetica,fixedsize=true,width=1.8,height=0.8]\n",
    "  edge[fontname=Helvetica,fontsize=12,fontcolor=blue,labeldistance=1.8]\n",
    "\n",
    "  subgraph cluster_student {\n",
    "    label=\"Student\";\n",
    "    style=filled; fillcolor=grey92\n",
    "    submit [shape=record, style=\"filled,rounded\",label=\"Submit\\nRegistration\\n\"]\n",
    "    letter [shape=box, peripheries=0, label=\"Letter\"]\n",
    "  }\n",
    "  subgraph cluster_admin {\n",
    "    label=\"Admin\"\n",
    "    style=filled; fillcolor=grey92\n",
    "    complete  [shape=diamond, height=1.5, label=\"Application\\nComplete?\"]\n",
    "    admreject [shape=record, label=\"Write Rejection\\nLetter\\n\"]\n",
    "  }\n",
    "  subgraph cluster_registrar {\n",
    "    label=\"Registrar\"\n",
    "    style=filled; fillcolor=grey92\n",
    "    min [shape=diamond, height=1.8, label=\"Minimum\\nStandard\\nMet?\"]\n",
    "  }\n",
    "  subgraph cluster_faculty {\n",
    "    label=\"Faculty\"\n",
    "    style=filled; fillcolor=grey92\n",
    "    {rank=same;\n",
    "    suitable  [shape=diamond, height=1.8,label=\"Suitable for\\nProgram?\\n\"]\n",
    "    facaccept [shape=record,  label=\"Write Acceptance\\nLetter\\n\"]\n",
    "    }\n",
    "  }\n",
    "\n",
    "  submit -> complete\n",
    "  complete -> submit     [headlabel=\"no\"]\n",
    "  complete -> min        [headlabel=\"yes\"]\n",
    "  min -> admreject       [headlabel=\"no\"]\n",
    "  min -> suitable        [headlabel=\"yes\"]\n",
    "  suitable -> admreject  [headlabel=\"no\"]\n",
    "  suitable -> facaccept  [headlabel=\"yes\"]\n",
    "  admreject -> letter\n",
    "  facaccept -> letter\n",
    "}"
   ]
  },
  {
   "cell_type": "code",
   "execution_count": null,
   "metadata": {
    "collapsed": true
   },
   "outputs": [],
   "source": []
  }
 ],
 "metadata": {
  "kernelspec": {
   "display_name": "Python 3",
   "language": "python",
   "name": "python3"
  }
 },
 "nbformat": 4,
 "nbformat_minor": 1
}
