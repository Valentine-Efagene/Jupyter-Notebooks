{
 "cells": [
  {
   "cell_type": "code",
   "execution_count": 2,
   "id": "cf627485-5f04-4f79-a919-b9da164f5d75",
   "metadata": {},
   "outputs": [],
   "source": [
    "import sympy as sp"
   ]
  },
  {
   "cell_type": "markdown",
   "id": "d9157686-7a47-4328-960b-722d99988200",
   "metadata": {},
   "source": [
    "1"
   ]
  },
  {
   "cell_type": "code",
   "execution_count": 7,
   "id": "c3d77f3e-c35e-4fb6-8dea-f5e47abe0f39",
   "metadata": {},
   "outputs": [
    {
     "data": {
      "text/latex": [
       "$\\displaystyle \\left\\{-40, 40\\right\\}$"
      ],
      "text/plain": [
       "FiniteSet(-40, 40)"
      ]
     },
     "execution_count": 7,
     "metadata": {},
     "output_type": "execute_result"
    }
   ],
   "source": [
    "w = sp.symbols('w')\n",
    "eq = sp.Eq(700/(240+w) + 700/(240-w), 6)\n",
    "sp.solveset(eq, w)"
   ]
  },
  {
   "cell_type": "markdown",
   "id": "c6191fc6-ea71-417c-8449-af3ba2b8bb07",
   "metadata": {},
   "source": [
    "2"
   ]
  },
  {
   "cell_type": "code",
   "execution_count": null,
   "id": "2f14e866-11ab-4197-94eb-00f0df5731a6",
   "metadata": {},
   "outputs": [],
   "source": []
  }
 ],
 "metadata": {
  "kernelspec": {
   "display_name": "Python 3 (ipykernel)",
   "language": "python",
   "name": "python3"
  },
  "language_info": {
   "codemirror_mode": {
    "name": "ipython",
    "version": 3
   },
   "file_extension": ".py",
   "mimetype": "text/x-python",
   "name": "python",
   "nbconvert_exporter": "python",
   "pygments_lexer": "ipython3",
   "version": "3.9.6"
  }
 },
 "nbformat": 4,
 "nbformat_minor": 5
}
