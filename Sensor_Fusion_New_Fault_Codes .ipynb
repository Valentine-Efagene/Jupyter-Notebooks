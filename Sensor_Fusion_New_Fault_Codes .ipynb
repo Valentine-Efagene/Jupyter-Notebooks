{
 "cells": [
  {
   "cell_type": "code",
   "execution_count": 65,
   "metadata": {},
   "outputs": [],
   "source": [
    "import re\n",
    "import os\n",
    "import copy\n",
    "from math import log, pow\n",
    "import subprocess\n",
    "import matplotlib.pyplot as plt"
   ]
  },
  {
   "cell_type": "markdown",
   "metadata": {},
   "source": [
    "#### Fault Classes"
   ]
  },
  {
   "cell_type": "markdown",
   "metadata": {},
   "source": [
    "| Fault | Binary | Decimal |\n",
    "| --- | --- | --- |\n",
    "| A | 00 | 0 |\n",
    "| B | 01 | 1 |\n",
    "| C | 10 | 2 |\n",
    "| D | 11 | 3 |"
   ]
  },
  {
   "cell_type": "markdown",
   "metadata": {},
   "source": [
    "#### Fault Code = (variable << 2) + fault_class"
   ]
  },
  {
   "cell_type": "markdown",
   "metadata": {},
   "source": [
    "| Fault | Binary | Decimal |\n",
    "| --- | --- | --- |\n",
    "| A1 | 100 | 4 |\n",
    "| B1 | 101 | 5 |\n",
    "| C1 | 110 | 6 |\n",
    "| D1 | 111 | 7 |"
   ]
  },
  {
   "cell_type": "markdown",
   "metadata": {},
   "source": [
    "#### Current Fault Codes"
   ]
  },
  {
   "cell_type": "markdown",
   "metadata": {},
   "source": [
    "| Fault | Decimal |\n",
    "| --- | --- |\n",
    "| A1 | 4 |\n",
    "| B1 | 5 |\n",
    "| C1 | 6 |\n",
    "| D1 | 7 |\n",
    "| A1B1 | 4-5 |\n",
    "| A1C1 | 4-6 |\n",
    "| A1D1 | 4-7 |\n",
    "| B1C1 | 5-6 |\n",
    "| C1D1 | 6-7 |"
   ]
  },
  {
   "cell_type": "markdown",
   "metadata": {},
   "source": [
    "### Build"
   ]
  },
  {
   "cell_type": "markdown",
   "metadata": {},
   "source": [
    "command = \"gcc -g -std=c++17 -I D:/programs/Cadmium-Simulation-Environment/cadmium/include -I D:/programs/Cadmium-Simulation-Environment/DESTimes/include D:/code/C++/RT-Cadmium-FDD/top_model/main.cpp -o D:/code/C++/RT-Cadmium-FDD/top_model/main\"\n",
    "completed_process = subprocess.run(command, shell=False, capture_output=True, text=True)\n",
    "print(completed_process.returncode)"
   ]
  },
  {
   "cell_type": "markdown",
   "metadata": {},
   "source": [
    "### Run"
   ]
  },
  {
   "cell_type": "code",
   "execution_count": 66,
   "metadata": {},
   "outputs": [],
   "source": [
    "command = \"D:/code/C++/RT-Cadmium-FDD-New-Code/top_model/main.exe\"\n",
    "completed_process = subprocess.run(command, shell=False, capture_output=True, text=True)\n",
    "#print(completed_process.stdout)"
   ]
  },
  {
   "cell_type": "markdown",
   "metadata": {},
   "source": [
    "\n",
    "### Read from file"
   ]
  },
  {
   "cell_type": "code",
   "execution_count": 67,
   "metadata": {},
   "outputs": [],
   "source": [
    "fileName = \"SensorFusion.txt\"\n",
    "    \n",
    "fault_codes = {}\n",
    "    \n",
    "with open(fileName, \"r\") as f:\n",
    "    lines = f.readlines()\n",
    "    \n",
    "with open(fileName, \"r\") as f:\n",
    "    output = f.read()\n",
    "    \n",
    "for line in lines:\n",
    "    if (re.search(\"supervisor\", line) != None):\n",
    "        res = re.findall(\"\\{\\d+[, ]*\\d*[, ]*\\d*\\}\", line)\n",
    "\n",
    "        if len(res) > 0:\n",
    "            str_interest = res[0].replace('}', '').replace('{', '')\n",
    "            faults = str_interest.split(', ')\n",
    "            key = '-' + '-'.join(faults) + '-'\n",
    "            fault_codes[key] = fault_codes.get(key, 0) + 1\n",
    "\n",
    "generators = {'A': 0, 'B': 0, 'C': 0, 'D': 0}\n",
    "\n",
    "for key in generators.keys():\n",
    "    generators[key] = len(re.findall(\"faultGen\" + key, output))"
   ]
  },
  {
   "cell_type": "code",
   "execution_count": 68,
   "metadata": {
    "scrolled": true
   },
   "outputs": [
    {
     "data": {
      "text/plain": [
       "{'-5-': 45,\n",
       " '-7-': 13,\n",
       " '-6-': 9,\n",
       " '-4-': 8,\n",
       " '-4-5-': 4,\n",
       " '-5-6-': 5,\n",
       " '-4-7-': 2,\n",
       " '-4-6-': 2,\n",
       " '-6-7-': 2}"
      ]
     },
     "execution_count": 68,
     "metadata": {},
     "output_type": "execute_result"
    }
   ],
   "source": [
    "fault_codes"
   ]
  },
  {
   "cell_type": "markdown",
   "metadata": {},
   "source": [
    "### ANALYSIS"
   ]
  },
  {
   "cell_type": "markdown",
   "metadata": {},
   "source": [
    "### Premise"
   ]
  },
  {
   "cell_type": "markdown",
   "metadata": {},
   "source": [
    "Fault $A1$: Should have no discarded entry, because it has the highest priority  \n",
    "Fault $B1$: Should have some discarded value, for the case $BD$, which is not available  \n",
    "Fault $C1$: Higher percentage of discarded cases than $C$, because of its lower priority  \n",
    "Fault $D1$: Highest percentage of discarded cases, because it has the lowest priority  "
   ]
  },
  {
   "cell_type": "markdown",
   "metadata": {},
   "source": [
    "Generator $output_{A1} = n({A1}) + n({A1} \\cap {B1}) + n({A1} \\cap {C1}) + n({A1} \\cap {D1}) + discarded_{A1}$  \n",
    "Generator $output_{B1} = n({B1}) + n({A1} \\cap {B1}) + n({B1} \\cap {C1}) + discarded_{B1}$  \n",
    "Generator $output_{C1} = n({C1}) + n({A1} \\cap {C1}) + n({B1} \\cap {C1}) + n({C1} \\cap {D1}) + discarded_{C1}$  \n",
    "Generator $output_{D1} = n({D1}) + n({A1} \\cap {D1}) + n({C1} \\cap {D1}) + discarded_{D1}$  \n",
    "\n",
    "Where $discarded_{D1} \\equiv 0$, because A has the highest priority"
   ]
  },
  {
   "cell_type": "code",
   "execution_count": 69,
   "metadata": {},
   "outputs": [],
   "source": [
    "def sumFromSupervisor(code):\n",
    "    '''\n",
    "    Returns the number of times faults associated with pure fault parameter was output by the supervisor\n",
    "\n",
    "    @param code: int\n",
    "    @return int\n",
    "    '''\n",
    "    sum = 0\n",
    "    \n",
    "    for key, value in fault_codes.items():\n",
    "        if '-' + str(code) + '-' in key:\n",
    "            sum += value;\n",
    "            \n",
    "    return sum;"
   ]
  },
  {
   "cell_type": "code",
   "execution_count": 70,
   "metadata": {},
   "outputs": [
    {
     "data": {
      "text/plain": [
       "0"
      ]
     },
     "execution_count": 70,
     "metadata": {},
     "output_type": "execute_result"
    }
   ],
   "source": [
    "a_discarded = generators['A'] - sumFromSupervisor(4)\n",
    "a_discarded"
   ]
  },
  {
   "cell_type": "code",
   "execution_count": 71,
   "metadata": {},
   "outputs": [
    {
     "data": {
      "text/plain": [
       "1"
      ]
     },
     "execution_count": 71,
     "metadata": {},
     "output_type": "execute_result"
    }
   ],
   "source": [
    "b_discarded = generators['B'] - sumFromSupervisor(5)\n",
    "b_discarded"
   ]
  },
  {
   "cell_type": "code",
   "execution_count": 72,
   "metadata": {},
   "outputs": [
    {
     "data": {
      "text/plain": [
       "2"
      ]
     },
     "execution_count": 72,
     "metadata": {},
     "output_type": "execute_result"
    }
   ],
   "source": [
    "c_discarded = generators['C'] - sumFromSupervisor(6)\n",
    "c_discarded"
   ]
  },
  {
   "cell_type": "code",
   "execution_count": 73,
   "metadata": {},
   "outputs": [
    {
     "data": {
      "text/plain": [
       "20"
      ]
     },
     "execution_count": 73,
     "metadata": {},
     "output_type": "execute_result"
    }
   ],
   "source": [
    "d_discarded = generators['D'] - sumFromSupervisor(7)\n",
    "d_discarded"
   ]
  },
  {
   "cell_type": "code",
   "execution_count": 74,
   "metadata": {},
   "outputs": [],
   "source": [
    "total_discarded = a_discarded + b_discarded + c_discarded + d_discarded"
   ]
  },
  {
   "cell_type": "code",
   "execution_count": 75,
   "metadata": {},
   "outputs": [],
   "source": [
    "total_generated = generators['A'] + generators['B'] + generators['C'] + generators['D']"
   ]
  },
  {
   "cell_type": "code",
   "execution_count": 76,
   "metadata": {},
   "outputs": [],
   "source": [
    "discarded_cases = {'A': a_discarded, 'B': b_discarded, 'C': c_discarded, 'D': d_discarded}\n",
    "discarded_percentage = {'A': a_discarded * 100 / total_generated, 'B': b_discarded * 100 / total_generated, 'C': c_discarded * 100 / total_generated, 'D': d_discarded * 100 / total_generated}"
   ]
  },
  {
   "cell_type": "code",
   "execution_count": 77,
   "metadata": {},
   "outputs": [
    {
     "data": {
      "text/plain": [
       "{'A': 0, 'B': 1, 'C': 2, 'D': 20}"
      ]
     },
     "execution_count": 77,
     "metadata": {},
     "output_type": "execute_result"
    }
   ],
   "source": [
    "discarded_cases"
   ]
  },
  {
   "cell_type": "code",
   "execution_count": 78,
   "metadata": {},
   "outputs": [
    {
     "data": {
      "text/plain": [
       "{'-5-': 45,\n",
       " '-7-': 13,\n",
       " '-6-': 9,\n",
       " '-4-': 8,\n",
       " '-4-5-': 4,\n",
       " '-5-6-': 5,\n",
       " '-4-7-': 2,\n",
       " '-4-6-': 2,\n",
       " '-6-7-': 2}"
      ]
     },
     "execution_count": 78,
     "metadata": {},
     "output_type": "execute_result"
    }
   ],
   "source": [
    "fault_codes"
   ]
  },
  {
   "cell_type": "code",
   "execution_count": 79,
   "metadata": {},
   "outputs": [
    {
     "data": {
      "text/plain": [
       "8"
      ]
     },
     "execution_count": 79,
     "metadata": {},
     "output_type": "execute_result"
    }
   ],
   "source": [
    "a_increment = generators['A'] - fault_codes['-4-5-'] - fault_codes['-4-6-'] - fault_codes['-4-7-'] - a_discarded\n",
    "a_increment"
   ]
  },
  {
   "cell_type": "code",
   "execution_count": 80,
   "metadata": {},
   "outputs": [
    {
     "data": {
      "text/plain": [
       "45"
      ]
     },
     "execution_count": 80,
     "metadata": {},
     "output_type": "execute_result"
    }
   ],
   "source": [
    "b_increment = generators['B'] - fault_codes['-4-5-'] - fault_codes['-5-6-'] - b_discarded\n",
    "b_increment"
   ]
  },
  {
   "cell_type": "code",
   "execution_count": 81,
   "metadata": {},
   "outputs": [
    {
     "data": {
      "text/plain": [
       "9"
      ]
     },
     "execution_count": 81,
     "metadata": {},
     "output_type": "execute_result"
    }
   ],
   "source": [
    "c_increment = generators['C'] - fault_codes['-4-6-'] - fault_codes['-5-6-'] - fault_codes['-6-7-'] - c_discarded\n",
    "c_increment"
   ]
  },
  {
   "cell_type": "code",
   "execution_count": 82,
   "metadata": {},
   "outputs": [
    {
     "data": {
      "text/plain": [
       "13"
      ]
     },
     "execution_count": 82,
     "metadata": {},
     "output_type": "execute_result"
    }
   ],
   "source": [
    "d_increment = generators['D'] - fault_codes['-4-7-'] - fault_codes['-6-7-'] - d_discarded\n",
    "d_increment"
   ]
  },
  {
   "cell_type": "markdown",
   "metadata": {},
   "source": [
    "### Discard Percentage Charts"
   ]
  },
  {
   "cell_type": "code",
   "execution_count": 83,
   "metadata": {},
   "outputs": [
    {
     "data": {
      "image/png": "[encoded data removed]",
      "text/plain": [
       "<Figure size 432x288 with 1 Axes>"
      ]
     },
     "metadata": {
      "needs_background": "light"
     },
     "output_type": "display_data"
    }
   ],
   "source": [
    "plt.title('Discard Percentage')\n",
    "plt.bar(discarded_percentage.keys(), discarded_percentage.values())\n",
    "plt.show()"
   ]
  },
  {
   "cell_type": "code",
   "execution_count": 84,
   "metadata": {},
   "outputs": [
    {
     "data": {
      "image/png": "[encoded data removed]",
      "text/plain": [
       "<Figure size 432x288 with 1 Axes>"
      ]
     },
     "metadata": {},
     "output_type": "display_data"
    }
   ],
   "source": [
    "keys, values = list(discarded_percentage.keys()), list(discarded_percentage.values())\n",
    "legend_keys = copy.copy(keys)\n",
    "\n",
    "for i in range(len(keys)):\n",
    "     legend_keys[i] = str(legend_keys[i]) + \" (%) = \" + str(values[i])\n",
    "\n",
    "# Remove wedgeprops to make pie\n",
    "wedges, texts = plt.pie(values, textprops=dict(color=\"w\"), wedgeprops=dict(width=0.5))\n",
    "plt.legend(wedges, legend_keys,\n",
    "          title=\"Fault Codes\",\n",
    "          loc=\"center left\",\n",
    "          bbox_to_anchor=(1, 0, 0.5, 1))\n",
    "\n",
    "plt.title(\"Discard Percentage\")\n",
    "plt.show()"
   ]
  },
  {
   "cell_type": "markdown",
   "metadata": {},
   "source": [
    "### Generator Output Charts (Possibilities of Faults)"
   ]
  },
  {
   "cell_type": "code",
   "execution_count": 85,
   "metadata": {},
   "outputs": [
    {
     "data": {
      "text/plain": [
       "37"
      ]
     },
     "execution_count": 85,
     "metadata": {},
     "output_type": "execute_result"
    }
   ],
   "source": [
    "generators['D']"
   ]
  },
  {
   "cell_type": "code",
   "execution_count": 86,
   "metadata": {},
   "outputs": [
    {
     "data": {
      "image/png": "[encoded data removed]",
      "text/plain": [
       "<Figure size 432x288 with 1 Axes>"
      ]
     },
     "metadata": {
      "needs_background": "light"
     },
     "output_type": "display_data"
    }
   ],
   "source": [
    "plt.title('Generator Output (Possibilities of Faults)')\n",
    "plt.bar(generators.keys(), generators.values())\n",
    "plt.show()"
   ]
  },
  {
   "cell_type": "code",
   "execution_count": 87,
   "metadata": {
    "scrolled": true
   },
   "outputs": [
    {
     "data": {
      "image/png": "[encoded data removed]",
      "text/plain": [
       "<Figure size 432x288 with 1 Axes>"
      ]
     },
     "metadata": {},
     "output_type": "display_data"
    }
   ],
   "source": [
    "keys, values = list(generators.keys()), list(generators.values())\n",
    "legend_keys = copy.copy(keys)\n",
    "\n",
    "for i in range(len(keys)):\n",
    "     legend_keys[i] = \"n (\" + str(legend_keys[i]) + \") = \" + str(values[i])\n",
    "\n",
    "# Remove wedgeprops to make pie\n",
    "wedges, texts = plt.pie(values, textprops=dict(color=\"w\"), wedgeprops=dict(width=0.5))\n",
    "plt.legend(wedges, legend_keys,\n",
    "          title=\"Fault Codes\",\n",
    "          loc=\"center left\",\n",
    "          bbox_to_anchor=(1, 0, 0.5, 1))\n",
    "\n",
    "plt.title(\"Generator Output Charts (Possibilities of Fault)\")\n",
    "plt.show()"
   ]
  },
  {
   "cell_type": "markdown",
   "metadata": {},
   "source": [
    "### Fault Chart"
   ]
  },
  {
   "cell_type": "code",
   "execution_count": 88,
   "metadata": {},
   "outputs": [
    {
     "data": {
      "image/png": "[encoded data removed]",
      "text/plain": [
       "<Figure size 432x288 with 1 Axes>"
      ]
     },
     "metadata": {
      "needs_background": "light"
     },
     "output_type": "display_data"
    }
   ],
   "source": [
    "chart_data = copy.copy(fault_codes)\n",
    "values = list(chart_data.values())\n",
    "keys = list(chart_data.keys())\n",
    "\n",
    "plt.title('Sensor Fusion')\n",
    "plt.bar(keys, values)\n",
    "plt.show()"
   ]
  },
  {
   "cell_type": "markdown",
   "metadata": {},
   "source": [
    "### Doughnut"
   ]
  },
  {
   "cell_type": "code",
   "execution_count": 89,
   "metadata": {
    "scrolled": true
   },
   "outputs": [
    {
     "data": {
      "image/png": "[encoded data removed]",
      "text/plain": [
       "<Figure size 432x288 with 1 Axes>"
      ]
     },
     "metadata": {},
     "output_type": "display_data"
    }
   ],
   "source": [
    "# Remove wedgeprops to make pie\n",
    "wedges, texts = plt.pie(values, \n",
    "                        textprops=dict(color=\"w\"), \n",
    "                        wedgeprops=dict(width=0.5))\n",
    "\n",
    "legend_keys = copy.copy(keys)\n",
    "\n",
    "for i in range(len(keys)):\n",
    "     legend_keys[i] = str(legend_keys[i]) + \" with frequency \" + str(values[i])\n",
    "        \n",
    "plt.legend(wedges, legend_keys,\n",
    "          title=\"Fault Codes\",\n",
    "          loc=\"center left\",\n",
    "          bbox_to_anchor=(1, 0, 0.5, 1))\n",
    "\n",
    "plt.title(\"Sensor Fusion\")\n",
    "plt.show()"
   ]
  },
  {
   "cell_type": "markdown",
   "metadata": {},
   "source": [
    "### Cumulative"
   ]
  },
  {
   "cell_type": "code",
   "execution_count": 90,
   "metadata": {},
   "outputs": [],
   "source": [
    "fileName = \"D:/code/C++/RT-Cadmium-FDD-New-Code/knowledge_base/_fault_codes_dir/_fault_codes_list.txt\"\n",
    "\n",
    "with open(fileName, \"r\") as f:\n",
    "    lines = f.readlines()\n",
    "    \n",
    "total = {}\n",
    "    \n",
    "for line in lines:\n",
    "    res = re.findall(\"\\d+[-]*\\d*\", line)\n",
    "\n",
    "    if len(res) > 0:\n",
    "        total[res[0]] = str(res[1])"
   ]
  },
  {
   "cell_type": "code",
   "execution_count": 91,
   "metadata": {},
   "outputs": [
    {
     "data": {
      "image/png": "[encoded data removed]",
      "text/plain": [
       "<Figure size 432x288 with 1 Axes>"
      ]
     },
     "metadata": {},
     "output_type": "display_data"
    }
   ],
   "source": [
    "values = list(total.values())\n",
    "keys = list(total.keys())\n",
    "legend_keys = copy.copy(keys)\n",
    "\n",
    "for i in range(len(keys)):\n",
    "     legend_keys[i] = str(legend_keys[i]) + \" with frequency \" + str(values[i])\n",
    "\n",
    "# Remove wedgeprops to make pie\n",
    "wedges, texts = plt.pie(values, textprops=dict(color=\"w\"), wedgeprops=dict(width=0.5))\n",
    "plt.legend(wedges, legend_keys,\n",
    "          title=\"Fault Codes\",\n",
    "          loc=\"center left\",\n",
    "          bbox_to_anchor=(1, 0, 0.5, 1))\n",
    "\n",
    "plt.title(\"Sensor Fusion\")\n",
    "plt.show()"
   ]
  },
  {
   "cell_type": "code",
   "execution_count": 92,
   "metadata": {},
   "outputs": [
    {
     "data": {
      "image/svg+xml": [
       "<?xml version=\"1.0\" encoding=\"UTF-8\" standalone=\"no\"?>\r\n",
       "<!DOCTYPE svg PUBLIC \"-//W3C//DTD SVG 1.1//EN\"\r\n",
       " \"http://www.w3.org/Graphics/SVG/1.1/DTD/svg11.dtd\">\r\n",
       "<!-- Generated by graphviz version 2.38.0 (20140413.2041)\r\n",
       " -->\r\n",
       "<!-- Title: %3 Pages: 1 -->\r\n",
       "<svg width=\"357pt\" height=\"971pt\"\r\n",
       " viewBox=\"0.00 0.00 357.00 971.00\" xmlns=\"http://www.w3.org/2000/svg\" xmlns:xlink=\"http://www.w3.org/1999/xlink\">\r\n",
       "<g id=\"graph0\" class=\"graph\" transform=\"scale(1 1) rotate(0) translate(4 967)\">\r\n",
       "<title>%3</title>\r\n",
       "<polygon fill=\"white\" stroke=\"none\" points=\"-4,4 -4,-967 353,-967 353,4 -4,4\"/>\r\n",
       "<!-- 0 -->\r\n",
       "<g id=\"node1\" class=\"node\"><title>0</title>\r\n",
       "<polygon fill=\"none\" stroke=\"black\" points=\"335,-890 231,-890 231,-854 335,-854 335,-890\"/>\r\n",
       "<text text-anchor=\"middle\" x=\"283\" y=\"-868.3\" font-family=\"Times New Roman,serif\" font-size=\"14.00\">Fault Generator</text>\r\n",
       "</g>\r\n",
       "<!-- 2 -->\r\n",
       "<g id=\"node3\" class=\"node\"><title>2</title>\r\n",
       "<polygon fill=\"none\" stroke=\"black\" points=\"347,-788 219,-788 219,-752 347,-752 347,-788\"/>\r\n",
       "<text text-anchor=\"middle\" x=\"283\" y=\"-766.3\" font-family=\"Times New Roman,serif\" font-size=\"14.00\">Supervisor (Polling)</text>\r\n",
       "</g>\r\n",
       "<!-- 0&#45;&gt;2 -->\r\n",
       "<g id=\"edge1\" class=\"edge\"><title>0&#45;&gt;2</title>\r\n",
       "<path fill=\"none\" stroke=\"black\" d=\"M283,-853.581C283,-838.382 283,-816.067 283,-798.464\"/>\r\n",
       "<polygon fill=\"black\" stroke=\"black\" points=\"283,-788.219 287.5,-798.219 283,-793.219 283,-798.219 283,-798.219 283,-798.219 283,-793.219 278.5,-798.219 283,-788.219 283,-788.219\"/>\r\n",
       "<text text-anchor=\"middle\" x=\"316\" y=\"-824.8\" font-family=\"Times New Roman,serif\" font-size=\"14.00\"> &#160;Possibility</text>\r\n",
       "<text text-anchor=\"middle\" x=\"316\" y=\"-809.8\" font-family=\"Times New Roman,serif\" font-size=\"14.00\">of fault</text>\r\n",
       "</g>\r\n",
       "<!-- 1 -->\r\n",
       "<g id=\"node2\" class=\"node\"><title>1</title>\r\n",
       "<polygon fill=\"none\" stroke=\"black\" points=\"80,-681 0,-681 0,-643 80,-643 80,-681\"/>\r\n",
       "<text text-anchor=\"middle\" x=\"40\" y=\"-665.8\" font-family=\"Times New Roman,serif\" font-size=\"14.00\">Other Fault</text>\r\n",
       "<text text-anchor=\"middle\" x=\"40\" y=\"-650.8\" font-family=\"Times New Roman,serif\" font-size=\"14.00\">Generators</text>\r\n",
       "</g>\r\n",
       "<!-- 5 -->\r\n",
       "<g id=\"node6\" class=\"node\"><title>5</title>\r\n",
       "<polygon fill=\"none\" stroke=\"black\" points=\"161.5,-543 72.5,-543 72.5,-507 161.5,-507 161.5,-543\"/>\r\n",
       "<text text-anchor=\"middle\" x=\"117\" y=\"-521.3\" font-family=\"Times New Roman,serif\" font-size=\"14.00\">Append fault</text>\r\n",
       "</g>\r\n",
       "<!-- 1&#45;&gt;5 -->\r\n",
       "<g id=\"edge2\" class=\"edge\"><title>1&#45;&gt;5</title>\r\n",
       "<path fill=\"none\" stroke=\"black\" d=\"M41.4404,-642.844C43.9036,-621.534 50.5011,-585.943 68,-561 70.8519,-556.935 74.3325,-553.173 78.1102,-549.743\"/>\r\n",
       "<polygon fill=\"black\" stroke=\"black\" points=\"86.1757,-543.174 81.2634,-552.978 82.2987,-546.332 78.4217,-549.489 78.4217,-549.489 78.4217,-549.489 82.2987,-546.332 75.58,-546 86.1757,-543.174 86.1757,-543.174\"/>\r\n",
       "<text text-anchor=\"middle\" x=\"101\" y=\"-579.8\" font-family=\"Times New Roman,serif\" font-size=\"14.00\"> &#160;Possibility</text>\r\n",
       "<text text-anchor=\"middle\" x=\"101\" y=\"-564.8\" font-family=\"Times New Roman,serif\" font-size=\"14.00\">of fault</text>\r\n",
       "</g>\r\n",
       "<!-- 3 -->\r\n",
       "<g id=\"node4\" class=\"node\"><title>3</title>\r\n",
       "<polygon fill=\"none\" stroke=\"black\" points=\"192,-715 98,-662 192,-609 286,-662 192,-715\"/>\r\n",
       "<text text-anchor=\"middle\" x=\"192\" y=\"-673.3\" font-family=\"Times New Roman,serif\" font-size=\"14.00\">Does fault</text>\r\n",
       "<text text-anchor=\"middle\" x=\"192\" y=\"-658.3\" font-family=\"Times New Roman,serif\" font-size=\"14.00\"> exist by itself</text>\r\n",
       "<text text-anchor=\"middle\" x=\"192\" y=\"-643.3\" font-family=\"Times New Roman,serif\" font-size=\"14.00\">?</text>\r\n",
       "</g>\r\n",
       "<!-- 2&#45;&gt;3 -->\r\n",
       "<g id=\"edge3\" class=\"edge\"><title>2&#45;&gt;3</title>\r\n",
       "<path fill=\"none\" stroke=\"black\" d=\"M268.379,-751.969C257.758,-739.597 242.886,-722.274 229.084,-706.197\"/>\r\n",
       "<polygon fill=\"black\" stroke=\"black\" points=\"222.418,-698.432 232.347,-703.089 225.675,-702.226 228.932,-706.02 228.932,-706.02 228.932,-706.02 225.675,-702.226 225.518,-708.951 222.418,-698.432 222.418,-698.432\"/>\r\n",
       "</g>\r\n",
       "<!-- 4 -->\r\n",
       "<g id=\"node5\" class=\"node\"><title>4</title>\r\n",
       "<polygon fill=\"none\" stroke=\"black\" points=\"266,-253 132,-253 132,-200 266,-200 266,-253\"/>\r\n",
       "<text text-anchor=\"middle\" x=\"199\" y=\"-237.8\" font-family=\"Times New Roman,serif\" font-size=\"14.00\">Send trigger signal </text>\r\n",
       "<text text-anchor=\"middle\" x=\"199\" y=\"-222.8\" font-family=\"Times New Roman,serif\" font-size=\"14.00\"> &amp;</text>\r\n",
       "<text text-anchor=\"middle\" x=\"199\" y=\"-207.8\" font-family=\"Times New Roman,serif\" font-size=\"14.00\"> increment frequency</text>\r\n",
       "</g>\r\n",
       "<!-- 3&#45;&gt;4 -->\r\n",
       "<g id=\"edge4\" class=\"edge\"><title>3&#45;&gt;4</title>\r\n",
       "<path fill=\"none\" stroke=\"black\" d=\"M217.946,-623.262C233.389,-597.153 250,-560.947 250,-526 250,-526 250,-526 250,-315.5 250,-295.833 240.347,-276.623 229.44,-261.194\"/>\r\n",
       "<polygon fill=\"black\" stroke=\"black\" points=\"223.305,-253.032 232.911,-258.322 226.309,-257.029 229.314,-261.026 229.314,-261.026 229.314,-261.026 226.309,-257.029 225.717,-263.73 223.305,-253.032 223.305,-253.032\"/>\r\n",
       "<text text-anchor=\"middle\" x=\"261\" y=\"-428.3\" font-family=\"Times New Roman,serif\" font-size=\"14.00\">Yes</text>\r\n",
       "</g>\r\n",
       "<!-- 3&#45;&gt;5 -->\r\n",
       "<g id=\"edge5\" class=\"edge\"><title>3&#45;&gt;5</title>\r\n",
       "<path fill=\"none\" stroke=\"black\" d=\"M169.903,-621.226C157.501,-598.901 142.378,-571.68 131.482,-552.068\"/>\r\n",
       "<polygon fill=\"black\" stroke=\"black\" points=\"126.504,-543.106 135.294,-549.663 128.932,-547.477 131.36,-551.848 131.36,-551.848 131.36,-551.848 128.932,-547.477 127.426,-554.033 126.504,-543.106 126.504,-543.106\"/>\r\n",
       "<text text-anchor=\"middle\" x=\"162\" y=\"-572.3\" font-family=\"Times New Roman,serif\" font-size=\"14.00\">No</text>\r\n",
       "</g>\r\n",
       "<!-- 8 -->\r\n",
       "<g id=\"node9\" class=\"node\"><title>8</title>\r\n",
       "<polygon fill=\"none\" stroke=\"black\" points=\"279,-163 226,-125 279,-87 332,-125 279,-163\"/>\r\n",
       "<text text-anchor=\"middle\" x=\"279\" y=\"-128.8\" font-family=\"Times New Roman,serif\" font-size=\"14.00\">More</text>\r\n",
       "<text text-anchor=\"middle\" x=\"279\" y=\"-113.8\" font-family=\"Times New Roman,serif\" font-size=\"14.00\">faults?</text>\r\n",
       "</g>\r\n",
       "<!-- 4&#45;&gt;8 -->\r\n",
       "<g id=\"edge6\" class=\"edge\"><title>4&#45;&gt;8</title>\r\n",
       "<path fill=\"none\" stroke=\"black\" d=\"M219.602,-199.876C229.953,-187.002 242.592,-171.283 253.545,-157.659\"/>\r\n",
       "<polygon fill=\"black\" stroke=\"black\" points=\"260.112,-149.491 257.353,-160.105 256.979,-153.388 253.846,-157.285 253.846,-157.285 253.846,-157.285 256.979,-153.388 250.339,-154.465 260.112,-149.491 260.112,-149.491\"/>\r\n",
       "</g>\r\n",
       "<!-- 6 -->\r\n",
       "<g id=\"node7\" class=\"node\"><title>6</title>\r\n",
       "<polygon fill=\"none\" stroke=\"black\" points=\"117,-470 43,-432 117,-394 191,-432 117,-470\"/>\r\n",
       "<text text-anchor=\"middle\" x=\"117\" y=\"-435.8\" font-family=\"Times New Roman,serif\" font-size=\"14.00\">Does fault</text>\r\n",
       "<text text-anchor=\"middle\" x=\"117\" y=\"-420.8\" font-family=\"Times New Roman,serif\" font-size=\"14.00\"> exist?</text>\r\n",
       "</g>\r\n",
       "<!-- 5&#45;&gt;6 -->\r\n",
       "<g id=\"edge7\" class=\"edge\"><title>5&#45;&gt;6</title>\r\n",
       "<path fill=\"none\" stroke=\"black\" d=\"M117,-506.884C117,-499.246 117,-489.832 117,-480.312\"/>\r\n",
       "<polygon fill=\"black\" stroke=\"black\" points=\"117,-470.019 121.5,-480.019 117,-475.019 117,-480.019 117,-480.019 117,-480.019 117,-475.019 112.5,-480.019 117,-470.019 117,-470.019\"/>\r\n",
       "</g>\r\n",
       "<!-- 6&#45;&gt;4 -->\r\n",
       "<g id=\"edge8\" class=\"edge\"><title>6&#45;&gt;4</title>\r\n",
       "<path fill=\"none\" stroke=\"black\" d=\"M104.463,-400.42C94.2723,-370.449 84.3565,-324.384 103,-290 109.713,-277.62 120.057,-267.307 131.51,-258.864\"/>\r\n",
       "<polygon fill=\"black\" stroke=\"black\" points=\"140.01,-253.044 134.301,-262.407 135.885,-255.869 131.759,-258.694 131.759,-258.694 131.759,-258.694 135.885,-255.869 129.217,-254.981 140.01,-253.044 140.01,-253.044\"/>\r\n",
       "<text text-anchor=\"middle\" x=\"114\" y=\"-312.8\" font-family=\"Times New Roman,serif\" font-size=\"14.00\">Yes</text>\r\n",
       "</g>\r\n",
       "<!-- 7 -->\r\n",
       "<g id=\"node8\" class=\"node\"><title>7</title>\r\n",
       "<polygon fill=\"none\" stroke=\"black\" points=\"222,-343 134,-343 134,-290 222,-290 222,-343\"/>\r\n",
       "<text text-anchor=\"middle\" x=\"178\" y=\"-327.8\" font-family=\"Times New Roman,serif\" font-size=\"14.00\">Discard fault</text>\r\n",
       "<text text-anchor=\"middle\" x=\"178\" y=\"-312.8\" font-family=\"Times New Roman,serif\" font-size=\"14.00\">with lower</text>\r\n",
       "<text text-anchor=\"middle\" x=\"178\" y=\"-297.8\" font-family=\"Times New Roman,serif\" font-size=\"14.00\">priority</text>\r\n",
       "</g>\r\n",
       "<!-- 6&#45;&gt;7 -->\r\n",
       "<g id=\"edge9\" class=\"edge\"><title>6&#45;&gt;7</title>\r\n",
       "<path fill=\"none\" stroke=\"black\" d=\"M132.709,-401.771C140.854,-386.617 150.855,-368.008 159.385,-352.136\"/>\r\n",
       "<polygon fill=\"black\" stroke=\"black\" points=\"164.213,-343.153 163.443,-354.092 161.846,-347.557 159.479,-351.961 159.479,-351.961 159.479,-351.961 161.846,-347.557 155.515,-349.831 164.213,-343.153 164.213,-343.153\"/>\r\n",
       "<text text-anchor=\"middle\" x=\"162\" y=\"-364.8\" font-family=\"Times New Roman,serif\" font-size=\"14.00\">No</text>\r\n",
       "</g>\r\n",
       "<!-- 7&#45;&gt;4 -->\r\n",
       "<g id=\"edge10\" class=\"edge\"><title>7&#45;&gt;4</title>\r\n",
       "<path fill=\"none\" stroke=\"black\" d=\"M184.187,-289.573C186.174,-281.248 188.41,-271.878 190.531,-262.99\"/>\r\n",
       "<polygon fill=\"black\" stroke=\"black\" points=\"192.857,-253.242 194.913,-264.013 191.696,-258.105 190.536,-262.969 190.536,-262.969 190.536,-262.969 191.696,-258.105 186.159,-261.924 192.857,-253.242 192.857,-253.242\"/>\r\n",
       "</g>\r\n",
       "<!-- 8&#45;&gt;2 -->\r\n",
       "<g id=\"edge11\" class=\"edge\"><title>8&#45;&gt;2</title>\r\n",
       "<path fill=\"none\" stroke=\"black\" d=\"M293.843,-152.566C303.382,-172.118 314,-199.68 314,-225.5 314,-663 314,-663 314,-663 314,-690.973 303.932,-721.49 295.271,-742.566\"/>\r\n",
       "<polygon fill=\"black\" stroke=\"black\" points=\"291.307,-751.821 291.107,-740.857 293.276,-747.225 295.244,-742.629 295.244,-742.629 295.244,-742.629 293.276,-747.225 299.381,-744.4 291.307,-751.821 291.307,-751.821\"/>\r\n",
       "<text text-anchor=\"middle\" x=\"325\" y=\"-428.3\" font-family=\"Times New Roman,serif\" font-size=\"14.00\">Yes</text>\r\n",
       "</g>\r\n",
       "<!-- 9 -->\r\n",
       "<g id=\"node10\" class=\"node\"><title>9</title>\r\n",
       "<ellipse fill=\"none\" stroke=\"black\" cx=\"279\" cy=\"-18\" rx=\"27\" ry=\"18\"/>\r\n",
       "<text text-anchor=\"middle\" x=\"279\" y=\"-14.3\" font-family=\"Times New Roman,serif\" font-size=\"14.00\">end</text>\r\n",
       "</g>\r\n",
       "<!-- 8&#45;&gt;9 -->\r\n",
       "<g id=\"edge12\" class=\"edge\"><title>8&#45;&gt;9</title>\r\n",
       "<path fill=\"none\" stroke=\"black\" d=\"M279,-86.9809C279,-73.5551 279,-58.6458 279,-46.2189\"/>\r\n",
       "<polygon fill=\"black\" stroke=\"black\" points=\"279,-36.037 283.5,-46.037 279,-41.037 279,-46.037 279,-46.037 279,-46.037 279,-41.037 274.5,-46.037 279,-36.037 279,-36.037\"/>\r\n",
       "<text text-anchor=\"middle\" x=\"288\" y=\"-57.8\" font-family=\"Times New Roman,serif\" font-size=\"14.00\">No</text>\r\n",
       "</g>\r\n",
       "<!-- 10 -->\r\n",
       "<g id=\"node11\" class=\"node\"><title>10</title>\r\n",
       "<ellipse fill=\"none\" stroke=\"black\" cx=\"283\" cy=\"-945\" rx=\"27\" ry=\"18\"/>\r\n",
       "<text text-anchor=\"middle\" x=\"283\" y=\"-941.3\" font-family=\"Times New Roman,serif\" font-size=\"14.00\">start</text>\r\n",
       "</g>\r\n",
       "<!-- 10&#45;&gt;0 -->\r\n",
       "<g id=\"edge13\" class=\"edge\"><title>10&#45;&gt;0</title>\r\n",
       "<path fill=\"none\" stroke=\"black\" d=\"M283,-926.813C283,-918.789 283,-909.047 283,-900.069\"/>\r\n",
       "<polygon fill=\"black\" stroke=\"black\" points=\"283,-890.029 287.5,-900.029 283,-895.029 283,-900.029 283,-900.029 283,-900.029 283,-895.029 278.5,-900.029 283,-890.029 283,-890.029\"/>\r\n",
       "</g>\r\n",
       "</g>\r\n",
       "</svg>\r\n"
      ],
      "text/plain": [
       "<graphviz.dot.Digraph at 0x1ae8020e490>"
      ]
     },
     "execution_count": 92,
     "metadata": {},
     "output_type": "execute_result"
    }
   ],
   "source": [
    "from graphviz import Digraph\n",
    "\n",
    "dot = Digraph(node_attr={'shape': 'box'})\n",
    "dot.edge_attr.update(arrowhead='vee', arrowsize='1')\n",
    "\n",
    "dot.node('0', 'Fault Generator')\n",
    "dot.node('1', 'Other Fault\\nGenerators')\n",
    "dot.node('2', 'Supervisor (Polling)')\n",
    "dot.node('3', 'Does fault\\n exist by itself\\n?' ,shape='diamond')\n",
    "dot.node('4', 'Send trigger signal \\n &\\n increment frequency')\n",
    "dot.node('5', 'Append fault')\n",
    "dot.node('6', 'Does fault\\n exist?', shape='diamond')\n",
    "dot.node('7', 'Discard fault\\nwith lower\\npriority')\n",
    "dot.node('8', 'More\\nfaults?', shape='diamond')\n",
    "dot.node('9', 'end', shape='oval')\n",
    "dot.node('10', 'start', shape='oval')\n",
    "\n",
    "dot.edge('0', '2', '  Possibility\\nof fault')\n",
    "dot.edge('1', '5', '  Possibility\\nof fault')\n",
    "dot.edge('2', '3')\n",
    "dot.edge('3', '4', 'Yes')\n",
    "dot.edge('3', '5', 'No')\n",
    "dot.edge('4', '8')\n",
    "dot.edge('5', '6')\n",
    "dot.edge('6', '4', 'Yes')\n",
    "dot.edge('6', '7', 'No')\n",
    "dot.edge('7', '4')\n",
    "dot.edge('8', '2', 'Yes')\n",
    "dot.edge('8', '9', 'No')\n",
    "dot.edge('10', '0')\n",
    "dot"
   ]
  },
  {
   "cell_type": "markdown",
   "metadata": {},
   "source": [
    "### TARGETS"
   ]
  },
  {
   "cell_type": "markdown",
   "metadata": {},
   "source": [
    "### Quick Search"
   ]
  },
  {
   "cell_type": "markdown",
   "metadata": {},
   "source": [
    "Since the pure faults are encoded as powers of 2, searching for a pure fault, even in compound faults is done by simply ANDing the fault code with the pure fault code, and checking if the result equals the pure fault code."
   ]
  },
  {
   "cell_type": "markdown",
   "metadata": {},
   "source": [
    "### Memory Optimization"
   ]
  },
  {
   "cell_type": "markdown",
   "metadata": {},
   "source": [
    "The fault codes are in binary, each pure fault is a power of 2, and fault combinations are formed simply by adding the constituent faults. This means that with four pure faults, you only need a nibble to store all fault combinations."
   ]
  },
  {
   "cell_type": "markdown",
   "metadata": {},
   "source": [
    "### Fault Code Parser"
   ]
  },
  {
   "cell_type": "code",
   "execution_count": 93,
   "metadata": {},
   "outputs": [],
   "source": [
    "fault = 2"
   ]
  },
  {
   "cell_type": "code",
   "execution_count": 94,
   "metadata": {},
   "outputs": [],
   "source": [
    "variable = 1"
   ]
  },
  {
   "cell_type": "code",
   "execution_count": 95,
   "metadata": {},
   "outputs": [],
   "source": [
    "code = (variable << 8) + fault"
   ]
  },
  {
   "cell_type": "code",
   "execution_count": 96,
   "metadata": {},
   "outputs": [
    {
     "data": {
      "text/plain": [
       "258"
      ]
     },
     "execution_count": 96,
     "metadata": {},
     "output_type": "execute_result"
    }
   ],
   "source": [
    "code"
   ]
  },
  {
   "cell_type": "markdown",
   "metadata": {},
   "source": [
    "Reverse"
   ]
  },
  {
   "cell_type": "code",
   "execution_count": 97,
   "metadata": {},
   "outputs": [
    {
     "data": {
      "text/plain": [
       "2"
      ]
     },
     "execution_count": 97,
     "metadata": {},
     "output_type": "execute_result"
    }
   ],
   "source": [
    "fault = code & 15\n",
    "fault"
   ]
  },
  {
   "cell_type": "code",
   "execution_count": 98,
   "metadata": {},
   "outputs": [
    {
     "data": {
      "text/plain": [
       "1"
      ]
     },
     "execution_count": 98,
     "metadata": {},
     "output_type": "execute_result"
    }
   ],
   "source": [
    "variable = code >> 8\n",
    "variable"
   ]
  },
  {
   "cell_type": "code",
   "execution_count": 99,
   "metadata": {},
   "outputs": [],
   "source": [
    "a = [1,\n",
    "2,\n",
    "3,\n",
    "4,\n",
    "5,\n",
    "6,\n",
    "8,\n",
    "9,\n",
    "12]"
   ]
  },
  {
   "cell_type": "code",
   "execution_count": 100,
   "metadata": {},
   "outputs": [
    {
     "data": {
      "text/plain": [
       "[17, 18, 19, 20, 21, 22, 24, 25, 28]"
      ]
     },
     "execution_count": 100,
     "metadata": {},
     "output_type": "execute_result"
    }
   ],
   "source": [
    "b = [x + 16 for x in a]\n",
    "b"
   ]
  },
  {
   "cell_type": "code",
   "execution_count": 101,
   "metadata": {},
   "outputs": [
    {
     "data": {
      "text/plain": [
       "4"
      ]
     },
     "execution_count": 101,
     "metadata": {},
     "output_type": "execute_result"
    }
   ],
   "source": [
    "A1 = (1 << 2) + 0\n",
    "A1"
   ]
  },
  {
   "cell_type": "code",
   "execution_count": 102,
   "metadata": {},
   "outputs": [
    {
     "data": {
      "text/plain": [
       "5"
      ]
     },
     "execution_count": 102,
     "metadata": {},
     "output_type": "execute_result"
    }
   ],
   "source": [
    "B1 = (1 << 2) + 1\n",
    "B1"
   ]
  },
  {
   "cell_type": "code",
   "execution_count": 103,
   "metadata": {},
   "outputs": [
    {
     "data": {
      "text/plain": [
       "6"
      ]
     },
     "execution_count": 103,
     "metadata": {},
     "output_type": "execute_result"
    }
   ],
   "source": [
    "C1 = (1 << 2) + 2\n",
    "C1"
   ]
  },
  {
   "cell_type": "code",
   "execution_count": 104,
   "metadata": {},
   "outputs": [
    {
     "data": {
      "text/plain": [
       "7"
      ]
     },
     "execution_count": 104,
     "metadata": {},
     "output_type": "execute_result"
    }
   ],
   "source": [
    "D1 = (1 << 2) + 3\n",
    "D1"
   ]
  },
  {
   "cell_type": "code",
   "execution_count": 105,
   "metadata": {},
   "outputs": [
    {
     "data": {
      "text/plain": [
       "0"
      ]
     },
     "execution_count": 105,
     "metadata": {},
     "output_type": "execute_result"
    }
   ],
   "source": [
    "s = {'a' : 1, 'b': 2}\n",
    "\n",
    "b = s.get('c', 0)\n",
    "b"
   ]
  },
  {
   "cell_type": "code",
   "execution_count": 106,
   "metadata": {},
   "outputs": [
    {
     "data": {
      "text/plain": [
       "['4']"
      ]
     },
     "execution_count": 106,
     "metadata": {},
     "output_type": "execute_result"
    }
   ],
   "source": [
    "a = \"4\"\n",
    "b = a.split(', ')\n",
    "b"
   ]
  },
  {
   "cell_type": "code",
   "execution_count": 107,
   "metadata": {},
   "outputs": [
    {
     "data": {
      "text/plain": [
       "'3-2-1'"
      ]
     },
     "execution_count": 107,
     "metadata": {},
     "output_type": "execute_result"
    }
   ],
   "source": [
    "test = {'2', '1', '3'}\n",
    "'-'.join(test)"
   ]
  },
  {
   "cell_type": "code",
   "execution_count": 108,
   "metadata": {},
   "outputs": [
    {
     "data": {
      "text/plain": [
       "'2'"
      ]
     },
     "execution_count": 108,
     "metadata": {},
     "output_type": "execute_result"
    }
   ],
   "source": [
    "test = ['2']\n",
    "'-'.join(test)"
   ]
  },
  {
   "cell_type": "code",
   "execution_count": null,
   "metadata": {},
   "outputs": [],
   "source": []
  }
 ],
 "metadata": {
  "kernelspec": {
   "display_name": "Python 3",
   "language": "python",
   "name": "python3"
  },
  "language_info": {
   "codemirror_mode": {
    "name": "ipython",
    "version": 3
   },
   "file_extension": ".py",
   "mimetype": "text/x-python",
   "name": "python",
   "nbconvert_exporter": "python",
   "pygments_lexer": "ipython3",
   "version": "3.8.6rc1"
  }
 },
 "nbformat": 4,
 "nbformat_minor": 4
}
