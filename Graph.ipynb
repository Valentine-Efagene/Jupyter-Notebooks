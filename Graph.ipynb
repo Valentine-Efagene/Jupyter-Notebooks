{
 "cells": [
  {
   "cell_type": "markdown",
   "id": "43f7ecb1",
   "metadata": {},
   "source": [
    "A Graph DS"
   ]
  },
  {
   "cell_type": "code",
   "execution_count": 68,
   "id": "34d242e8",
   "metadata": {},
   "outputs": [
    {
     "name": "stdout",
     "output_type": "stream",
     "text": [
      "Strongly Connected Components:\n",
      "0321\n",
      "465\n",
      "7\n"
     ]
    }
   ],
   "source": [
    "# Kosaraju's algorithm to find strongly connected components in Python\n",
    "\n",
    "from collections import defaultdict\n",
    "\n",
    "class Graph:\n",
    "\n",
    "    def __init__(self, vertex):\n",
    "        self.V = vertex #Number of vertices\n",
    "        self.graph = defaultdict(list)\n",
    "\n",
    "    # Add edge into the graph\n",
    "    def addEdge(self, s, d):\n",
    "        self.graph[s].append(d)\n",
    "        #print(self.graph)\n",
    "        #print(len(self.graph))\n",
    "\n",
    "    # dfs\n",
    "    def dfs(self, d, visitedVertex):\n",
    "        visitedVertex[d] = True\n",
    "        print(d, end='')\n",
    "        for i in self.graph[d]:\n",
    "            if not visitedVertex[i]:\n",
    "                self.dfs(i, visitedVertex)\n",
    "\n",
    "    def fillOrder(self, d, visitedVertex, stack):\n",
    "        visitedVertex[d] = True\n",
    "        for i in self.graph[d]:\n",
    "            if not visitedVertex[i]:\n",
    "                self.fillOrder(i, visitedVertex, stack)\n",
    "        stack = stack.append(d)\n",
    "\n",
    "    # transpose the matrix\n",
    "    def transpose(self):\n",
    "        g = Graph(self.V)\n",
    "\n",
    "        for i in self.graph:\n",
    "            for j in self.graph[i]:\n",
    "                g.addEdge(j, i)\n",
    "        return g\n",
    "\n",
    "    # Print stongly connected components\n",
    "    # Kusaraju's DFS method\n",
    "    def printScc(self):\n",
    "        stack = []\n",
    "        visitedVertex = [False] * (self.V)\n",
    "\n",
    "        for i in range(self.V):\n",
    "            if not visitedVertex[i]:\n",
    "                self.fillOrder(i, visitedVertex, stack)\n",
    "\n",
    "        gr = self.transpose()\n",
    "\n",
    "        visitedVertex = [False] * (self.V)\n",
    "\n",
    "        while stack:\n",
    "            i = stack.pop()\n",
    "            if not visitedVertex[i]:\n",
    "                gr.dfs(i, visitedVertex)\n",
    "                print(\"\")\n",
    "\n",
    "\n",
    "g = Graph(8)\n",
    "g.addEdge(0, 1)\n",
    "g.addEdge(1, 2)\n",
    "g.addEdge(2, 3)\n",
    "g.addEdge(2, 4)\n",
    "g.addEdge(3, 0)\n",
    "g.addEdge(4, 5)\n",
    "g.addEdge(5, 6)\n",
    "g.addEdge(6, 4)\n",
    "g.addEdge(6, 7)\n",
    "\n",
    "print(\"Strongly Connected Components:\")\n",
    "g.printScc()"
   ]
  },
  {
   "cell_type": "code",
   "execution_count": null,
   "id": "0f00fbb2",
   "metadata": {},
   "outputs": [],
   "source": []
  },
  {
   "cell_type": "code",
   "execution_count": 61,
   "id": "650f571b",
   "metadata": {},
   "outputs": [
    {
     "data": {
      "text/plain": [
       "8"
      ]
     },
     "execution_count": 61,
     "metadata": {},
     "output_type": "execute_result"
    }
   ],
   "source": [
    "len(g.graph)"
   ]
  },
  {
   "cell_type": "code",
   "execution_count": 62,
   "id": "4dd73f24",
   "metadata": {},
   "outputs": [
    {
     "data": {
      "text/plain": [
       "0"
      ]
     },
     "execution_count": 62,
     "metadata": {},
     "output_type": "execute_result"
    }
   ],
   "source": [
    "v = defaultdict(list)\n",
    "len(v)"
   ]
  },
  {
   "cell_type": "code",
   "execution_count": 63,
   "id": "b189848e",
   "metadata": {},
   "outputs": [
    {
     "name": "stdout",
     "output_type": "stream",
     "text": [
      "0 Key = 0 value = [1]\n",
      "1 Key = 1 value = [2]\n",
      "2 Key = 2 value = [3, 4]\n",
      "3 Key = 3 value = [0]\n",
      "4 Key = 4 value = [5]\n",
      "5 Key = 5 value = [6]\n",
      "6 Key = 6 value = [4, 7]\n",
      "7 Key = 7 value = []\n"
     ]
    }
   ],
   "source": [
    "i = 0\n",
    "for key, value in g.graph.items():\n",
    "    print(i, 'Key =', key, \"value =\", value)\n",
    "    i += 1"
   ]
  },
  {
   "cell_type": "code",
   "execution_count": 64,
   "id": "1efb3b55",
   "metadata": {},
   "outputs": [
    {
     "name": "stdout",
     "output_type": "stream",
     "text": [
      "12304567"
     ]
    }
   ],
   "source": [
    "g.dfs(1, [False] * g.V)"
   ]
  },
  {
   "cell_type": "code",
   "execution_count": 65,
   "id": "18acc994",
   "metadata": {},
   "outputs": [
    {
     "data": {
      "text/plain": [
       "[False, False, False, False]"
      ]
     },
     "execution_count": 65,
     "metadata": {},
     "output_type": "execute_result"
    }
   ],
   "source": [
    "[False] * 4"
   ]
  },
  {
   "cell_type": "code",
   "execution_count": 66,
   "id": "7fb35596",
   "metadata": {},
   "outputs": [
    {
     "name": "stdout",
     "output_type": "stream",
     "text": [
      "2\n",
      "0\n",
      "1\n",
      "4\n",
      "3\n",
      "3\n"
     ]
    },
    {
     "data": {
      "text/plain": [
       "{'0', '1', '2', '3', '4'}"
      ]
     },
     "execution_count": 66,
     "metadata": {},
     "output_type": "execute_result"
    }
   ],
   "source": [
    "\n",
    "# DFS algorithm\n",
    "def dfs(graph, start, visited=None):\n",
    "    if visited is None:\n",
    "        visited = set()\n",
    "    visited.add(start)\n",
    "\n",
    "    print(start)\n",
    "\n",
    "    for next in graph[start] - visited:\n",
    "        dfs(graph, next, visited)\n",
    "    return visited\n",
    "\n",
    "\n",
    "graph = {'0': set(['1', '2']),\n",
    "         '1': set(['0', '3', '4']),\n",
    "         '2': set(['0']),\n",
    "         '3': set(['1']),\n",
    "         '4': set(['2', '3'])}\n",
    "\n",
    "dfs(graph, '2')"
   ]
  },
  {
   "cell_type": "markdown",
   "id": "5ff95da6",
   "metadata": {},
   "source": [
    "A Graph Node: Creating a graph by making self-away nodes"
   ]
  },
  {
   "cell_type": "code",
   "execution_count": 70,
   "id": "7b51a5ab",
   "metadata": {},
   "outputs": [],
   "source": [
    "class GraphNode:\n",
    "\n",
    "    def __init__(self, value=None, adj=[]):\n",
    "        self.value = value\n",
    "        self.adj = set(adj)\n",
    "        \n",
    "    @staticmethod\n",
    "    def connected(*args):        \n",
    "        nodes = set(args)\n",
    "        \n",
    "        for g in args[0].dfw():\n",
    "            if (g in nodes):\n",
    "                nodes.remove(g)\n",
    "        \n",
    "        return True if len(nodes) == 0 else False\n",
    "\n",
    "    def addEdge(self, *args):\n",
    "        '''\n",
    "        Add an edge from the current node to each of the nodes supplied\n",
    "\n",
    "        Keyword arguments:\n",
    "        args -- nodes to add (Object)\n",
    "        \n",
    "        Return:\n",
    "        generator\n",
    "        '''\n",
    "        for g in args:\n",
    "            self.adj.add(g)\n",
    "\n",
    "    def dfs(self, searchValue, visited=None):\n",
    "        '''\n",
    "        Dept first Search\n",
    "\n",
    "        Keyword arguments:\n",
    "        visited -- nodes already visited (default None) Type Set\n",
    "        \n",
    "        Return:\n",
    "        generator\n",
    "        '''\n",
    "        \n",
    "        if visited is None:\n",
    "            visited = set()\n",
    "\n",
    "        visited.add(self)\n",
    "        # print(self.value)\n",
    "\n",
    "        if self.value == searchValue:\n",
    "            return self\n",
    "\n",
    "        for next in self.adj - visited:\n",
    "            x = next.dfs(searchValue, visited)\n",
    "\n",
    "            if x:\n",
    "                return x\n",
    "            \n",
    "    def dfw(self, visited=None):\n",
    "        '''\n",
    "        Dept first walk\n",
    "        \n",
    "        Example:\n",
    "        for g in g0.dfw():\n",
    "            print(g.value)\n",
    "\n",
    "        Keyword arguments:\n",
    "        visited -- nodes already visited (default None)\n",
    "        \n",
    "        Return:\n",
    "        generator\n",
    "        '''\n",
    "        if visited is None:\n",
    "            visited = set()\n",
    "\n",
    "        visited.add(self)\n",
    "        yield self\n",
    "        \n",
    "        notVisited = self.adj - visited\n",
    "        visited.update(self.adj)\n",
    "\n",
    "        for next in notVisited:\n",
    "            yield from next.dfw(visited)\n",
    "            \n",
    "    def getNodeCount(self):\n",
    "        '''\n",
    "        Get number of nodes in the graph\n",
    "        \n",
    "        Return:\n",
    "        int\n",
    "        '''\n",
    "        n = 0\n",
    "        \n",
    "        for g in self.dfw():\n",
    "            n += 1\n",
    "            \n",
    "        return n\n",
    "    \n",
    "    def getDegree(self):\n",
    "        '''\n",
    "        Degree of this node\n",
    "        \n",
    "        Return:\n",
    "        int\n",
    "        '''\n",
    "        \n",
    "        return len(self.adj)\n",
    "            \n",
    "    def adjMat(self, indices):\n",
    "        '''\n",
    "        Get adjacency matrix\n",
    "        \n",
    "        Example:\n",
    "        g0.adjMat({g0: 0, g1: 1, g2: 2, g3: 3, g4: 4})\n",
    "\n",
    "        Keyword arguments:\n",
    "        indices -- nodes already visited (default None) Type dict {node: index} \n",
    "        Index must start at zero, and increase until all nodes are covered\n",
    "        \n",
    "        Return:\n",
    "        generator\n",
    "        '''\n",
    "        \n",
    "        n = self.getNodeCount()\n",
    "        \n",
    "        if len(indices) != n:\n",
    "            raise Exception(\"Incomplete indices\") \n",
    "  \n",
    "        M = [[0 for x in range(n)] for x in range(n)]\n",
    "\n",
    "        for g in self.dfw():\n",
    "            for x in g.adj:\n",
    "                M[indices[g]][indices[x]] = 1\n",
    "                \n",
    "        return M"
   ]
  },
  {
   "cell_type": "code",
   "execution_count": 71,
   "id": "1ea6681d",
   "metadata": {},
   "outputs": [],
   "source": [
    "g5 = GraphNode(5)\n",
    "g4 = GraphNode(4)\n",
    "g3 = GraphNode(3)\n",
    "g2 = GraphNode(2)\n",
    "g1 = GraphNode(1)\n",
    "g0 = GraphNode(0)\n",
    "\n",
    "# https://www.programiz.com/dsa/graph-dfs\n",
    "g0.addEdge(g1, g2, g3)\n",
    "g1.addEdge(g0, g2)\n",
    "g2.addEdge(g0, g1, g4)\n",
    "g3.addEdge(g0)\n",
    "g4.addEdge(g2)"
   ]
  },
  {
   "cell_type": "code",
   "execution_count": 72,
   "id": "b02adb4a",
   "metadata": {},
   "outputs": [
    {
     "data": {
      "text/plain": [
       "3"
      ]
     },
     "execution_count": 72,
     "metadata": {},
     "output_type": "execute_result"
    }
   ],
   "source": [
    "g0.getDegree()"
   ]
  },
  {
   "cell_type": "code",
   "execution_count": 73,
   "id": "37b365ea",
   "metadata": {},
   "outputs": [
    {
     "data": {
      "text/plain": [
       "False"
      ]
     },
     "execution_count": 73,
     "metadata": {},
     "output_type": "execute_result"
    }
   ],
   "source": [
    "GraphNode.connected(g0, g1, g2, g5)"
   ]
  },
  {
   "cell_type": "code",
   "execution_count": 74,
   "id": "4b6a3542",
   "metadata": {},
   "outputs": [
    {
     "data": {
      "text/plain": [
       "[[0, 1, 1, 1, 0],\n",
       " [1, 0, 1, 0, 0],\n",
       " [1, 1, 0, 0, 1],\n",
       " [1, 0, 0, 0, 0],\n",
       " [0, 0, 1, 0, 0]]"
      ]
     },
     "execution_count": 74,
     "metadata": {},
     "output_type": "execute_result"
    }
   ],
   "source": [
    "g0.adjMat({g0: 0, g1: 1, g2: 2, g3: 3, g4: 4})"
   ]
  },
  {
   "cell_type": "code",
   "execution_count": 212,
   "id": "935a620e",
   "metadata": {},
   "outputs": [
    {
     "name": "stdout",
     "output_type": "stream",
     "text": [
      "0\n",
      "2\n",
      "4\n",
      "3\n",
      "1\n"
     ]
    }
   ],
   "source": [
    "for g in g0.dfw():\n",
    "    print(g.value)"
   ]
  },
  {
   "cell_type": "code",
   "execution_count": null,
   "id": "a2df9444",
   "metadata": {},
   "outputs": [],
   "source": []
  }
 ],
 "metadata": {
  "kernelspec": {
   "display_name": "Python 3 (ipykernel)",
   "language": "python",
   "name": "python3"
  },
  "language_info": {
   "codemirror_mode": {
    "name": "ipython",
    "version": 3
   },
   "file_extension": ".py",
   "mimetype": "text/x-python",
   "name": "python",
   "nbconvert_exporter": "python",
   "pygments_lexer": "ipython3",
   "version": "3.9.6"
  }
 },
 "nbformat": 4,
 "nbformat_minor": 5
}
