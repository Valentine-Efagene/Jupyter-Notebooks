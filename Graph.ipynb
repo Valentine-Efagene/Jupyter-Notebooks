{
 "cells": [
  {
   "cell_type": "code",
   "execution_count": 21,
   "id": "34d242e8",
   "metadata": {},
   "outputs": [
    {
     "name": "stdout",
     "output_type": "stream",
     "text": [
      "Strongly Connected Components:\n",
      "0321\n",
      "465\n",
      "7\n"
     ]
    }
   ],
   "source": [
    "# Kosaraju's algorithm to find strongly connected components in Python\n",
    "\n",
    "\n",
    "from collections import defaultdict\n",
    "\n",
    "class Graph:\n",
    "\n",
    "    def __init__(self, vertex):\n",
    "        self.V = vertex\n",
    "        self.graph = defaultdict(list)\n",
    "\n",
    "    # Add edge into the graph\n",
    "    def add_edge(self, s, d):\n",
    "        self.graph[s].append(d)\n",
    "\n",
    "    # dfs\n",
    "    def dfs(self, d, visited_vertex):\n",
    "        visited_vertex[d] = True\n",
    "        print(d, end='')\n",
    "        for i in self.graph[d]:\n",
    "            if not visited_vertex[i]:\n",
    "                self.dfs(i, visited_vertex)\n",
    "\n",
    "    def fill_order(self, d, visited_vertex, stack):\n",
    "        visited_vertex[d] = True\n",
    "        for i in self.graph[d]:\n",
    "            if not visited_vertex[i]:\n",
    "                self.fill_order(i, visited_vertex, stack)\n",
    "        stack = stack.append(d)\n",
    "\n",
    "    # transpose the matrix\n",
    "    def transpose(self):\n",
    "        g = Graph(self.V)\n",
    "\n",
    "        for i in self.graph:\n",
    "            for j in self.graph[i]:\n",
    "                g.add_edge(j, i)\n",
    "        return g\n",
    "\n",
    "    # Print stongly connected components\n",
    "    def print_scc(self):\n",
    "        stack = []\n",
    "        visited_vertex = [False] * (self.V)\n",
    "\n",
    "        for i in range(self.V):\n",
    "            if not visited_vertex[i]:\n",
    "                self.fill_order(i, visited_vertex, stack)\n",
    "\n",
    "        gr = self.transpose()\n",
    "\n",
    "        visited_vertex = [False] * (self.V)\n",
    "\n",
    "        while stack:\n",
    "            i = stack.pop()\n",
    "            if not visited_vertex[i]:\n",
    "                gr.dfs(i, visited_vertex)\n",
    "                print(\"\")\n",
    "\n",
    "\n",
    "g = Graph(8)\n",
    "g.add_edge(0, 1)\n",
    "g.add_edge(1, 2)\n",
    "g.add_edge(2, 3)\n",
    "g.add_edge(2, 4)\n",
    "g.add_edge(3, 0)\n",
    "g.add_edge(4, 5)\n",
    "g.add_edge(5, 6)\n",
    "g.add_edge(6, 4)\n",
    "g.add_edge(6, 7)\n",
    "\n",
    "print(\"Strongly Connected Components:\")\n",
    "g.print_scc()"
   ]
  },
  {
   "cell_type": "code",
   "execution_count": null,
   "id": "650f571b",
   "metadata": {},
   "outputs": [],
   "source": []
  },
  {
   "cell_type": "code",
   "execution_count": 4,
   "id": "b189848e",
   "metadata": {},
   "outputs": [
    {
     "data": {
      "text/plain": [
       "defaultdict(list,\n",
       "            {0: [1],\n",
       "             1: [2],\n",
       "             2: [3, 4],\n",
       "             3: [0],\n",
       "             4: [5],\n",
       "             5: [6],\n",
       "             6: [4, 7],\n",
       "             7: []})"
      ]
     },
     "execution_count": 4,
     "metadata": {},
     "output_type": "execute_result"
    }
   ],
   "source": [
    "g.graph"
   ]
  },
  {
   "cell_type": "code",
   "execution_count": 9,
   "id": "1efb3b55",
   "metadata": {},
   "outputs": [
    {
     "name": "stdout",
     "output_type": "stream",
     "text": [
      "12304567"
     ]
    }
   ],
   "source": [
    "g.dfs(1, [False] * g.V)"
   ]
  },
  {
   "cell_type": "code",
   "execution_count": 7,
   "id": "18acc994",
   "metadata": {},
   "outputs": [
    {
     "data": {
      "text/plain": [
       "[False, False, False, False]"
      ]
     },
     "execution_count": 7,
     "metadata": {},
     "output_type": "execute_result"
    }
   ],
   "source": [
    "[False] * 4"
   ]
  },
  {
   "cell_type": "code",
   "execution_count": 11,
   "id": "7fb35596",
   "metadata": {},
   "outputs": [
    {
     "name": "stdout",
     "output_type": "stream",
     "text": [
      "2\n",
      "0\n",
      "1\n",
      "4\n",
      "3\n",
      "3\n"
     ]
    },
    {
     "data": {
      "text/plain": [
       "{'0', '1', '2', '3', '4'}"
      ]
     },
     "execution_count": 11,
     "metadata": {},
     "output_type": "execute_result"
    }
   ],
   "source": [
    "\n",
    "# DFS algorithm\n",
    "def dfs(graph, start, visited=None):\n",
    "    if visited is None:\n",
    "        visited = set()\n",
    "    visited.add(start)\n",
    "\n",
    "    print(start)\n",
    "\n",
    "    for next in graph[start] - visited:\n",
    "        dfs(graph, next, visited)\n",
    "    return visited\n",
    "\n",
    "\n",
    "graph = {'0': set(['1', '2']),\n",
    "         '1': set(['0', '3', '4']),\n",
    "         '2': set(['0']),\n",
    "         '3': set(['1']),\n",
    "         '4': set(['2', '3'])}\n",
    "\n",
    "dfs(graph, '2')"
   ]
  },
  {
   "cell_type": "code",
   "execution_count": null,
   "id": "cd48255e",
   "metadata": {},
   "outputs": [],
   "source": []
  },
  {
   "cell_type": "code",
   "execution_count": 123,
   "id": "7b51a5ab",
   "metadata": {},
   "outputs": [],
   "source": [
    "class GraphNode:\n",
    "\n",
    "    def __init__(self, value=None, adj=[]):\n",
    "        self.value = value\n",
    "        self.adj = set(adj)\n",
    "\n",
    "    def addEdge(self, *args):\n",
    "        for g in args:\n",
    "            self.adj.add(g)\n",
    "\n",
    "    def dfs(self, searchValue, visited=None, found=False):\n",
    "        if visited is None:\n",
    "            visited = set()\n",
    "\n",
    "        visited.add(self)\n",
    "\n",
    "        if self.value == searchValue:\n",
    "            return self\n",
    "\n",
    "        for next in self.adj - visited:\n",
    "            return next.dfs(searchValue, visited)"
   ]
  },
  {
   "cell_type": "code",
   "execution_count": 121,
   "id": "1ea6681d",
   "metadata": {},
   "outputs": [],
   "source": [
    "g4 = GraphNode(4)\n",
    "g3 = GraphNode(3)\n",
    "g2 = GraphNode(2)\n",
    "g1 = GraphNode(1)\n",
    "g0 = GraphNode(0)\n",
    "\n",
    "# https://www.programiz.com/dsa/graph-dfs\n",
    "g0.addEdge(g1, g2, g3)\n",
    "g1.addEdge(g0, g2)\n",
    "g2.addEdge(g0, g1, g4)\n",
    "g3.addEdge(g0)\n",
    "g4.addEdge(g2)"
   ]
  },
  {
   "cell_type": "code",
   "execution_count": 122,
   "id": "39191be2",
   "metadata": {},
   "outputs": [],
   "source": [
    "for i in g0.dfs(4):\n",
    "    print(i.value)"
   ]
  },
  {
   "cell_type": "code",
   "execution_count": 125,
   "id": "b02adb4a",
   "metadata": {},
   "outputs": [
    {
     "ename": "StopIteration",
     "evalue": "",
     "output_type": "error",
     "traceback": [
      "\u001b[1;31m---------------------------------------------------------------------------\u001b[0m",
      "\u001b[1;31mStopIteration\u001b[0m                             Traceback (most recent call last)",
      "\u001b[1;32mC:\\Users\\VALENT~1\\AppData\\Local\\Temp/ipykernel_8996/705344964.py\u001b[0m in \u001b[0;36m<module>\u001b[1;34m\u001b[0m\n\u001b[0;32m      1\u001b[0m \u001b[0ma\u001b[0m \u001b[1;33m=\u001b[0m \u001b[0mg0\u001b[0m\u001b[1;33m.\u001b[0m\u001b[0mdfs\u001b[0m\u001b[1;33m(\u001b[0m\u001b[1;36m4\u001b[0m\u001b[1;33m)\u001b[0m\u001b[1;33m\u001b[0m\u001b[1;33m\u001b[0m\u001b[0m\n\u001b[1;32m----> 2\u001b[1;33m \u001b[0mnext\u001b[0m\u001b[1;33m(\u001b[0m\u001b[0ma\u001b[0m\u001b[1;33m)\u001b[0m\u001b[1;33m\u001b[0m\u001b[1;33m\u001b[0m\u001b[0m\n\u001b[0m",
      "\u001b[1;31mStopIteration\u001b[0m: "
     ]
    }
   ],
   "source": [
    "a = g0.dfs(4)\n",
    "next(a)"
   ]
  },
  {
   "cell_type": "code",
   "execution_count": null,
   "id": "4b6a3542",
   "metadata": {},
   "outputs": [],
   "source": []
  }
 ],
 "metadata": {
  "kernelspec": {
   "display_name": "Python 3 (ipykernel)",
   "language": "python",
   "name": "python3"
  },
  "language_info": {
   "codemirror_mode": {
    "name": "ipython",
    "version": 3
   },
   "file_extension": ".py",
   "mimetype": "text/x-python",
   "name": "python",
   "nbconvert_exporter": "python",
   "pygments_lexer": "ipython3",
   "version": "3.9.6"
  }
 },
 "nbformat": 4,
 "nbformat_minor": 5
}
