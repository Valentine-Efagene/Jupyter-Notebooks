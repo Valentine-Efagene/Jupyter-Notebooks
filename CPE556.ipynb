{
 "cells": [
  {
   "cell_type": "markdown",
   "metadata": {},
   "source": [
    "### Imports"
   ]
  },
  {
   "cell_type": "code",
   "execution_count": 1,
   "metadata": {},
   "outputs": [],
   "source": [
    "import numpy as np\n",
    "import math\n",
    "import matplotlib.pyplot as plt\n",
    "import matplotlib as mpl\n",
    "from mpl_toolkits.mplot3d import Axes3D\n",
    "import pandas as pd"
   ]
  },
  {
   "cell_type": "markdown",
   "metadata": {},
   "source": [
    "### Preferences"
   ]
  },
  {
   "cell_type": "code",
   "execution_count": 2,
   "metadata": {},
   "outputs": [],
   "source": [
    "np.set_printoptions(precision=3)"
   ]
  },
  {
   "cell_type": "markdown",
   "metadata": {},
   "source": [
    "### Methods"
   ]
  },
  {
   "cell_type": "code",
   "execution_count": 3,
   "metadata": {},
   "outputs": [],
   "source": [
    "def R(theta):\n",
    "    theta = (np.pi / 180) * theta\n",
    "    R = np.zeros((3, 3))\n",
    "    R[0][0] = np.cos(theta)\n",
    "    R[0][1] = np.sin(theta)\n",
    "    R[0][2] = 0\n",
    "    R[1][0] = -np.sin(theta)\n",
    "    R[1][1] = np.cos(theta)\n",
    "    R[1][2] = 0\n",
    "    R[2][0] = 0\n",
    "    R[2][1] = 0\n",
    "    R[2][2] = 1\n",
    "    return R"
   ]
  },
  {
   "cell_type": "code",
   "execution_count": 4,
   "metadata": {},
   "outputs": [],
   "source": [
    "#T([Tx, Ty])\n",
    "def T(V):\n",
    "    T = np.eye(3)\n",
    "    T[2, :2] = V\n",
    "    return T"
   ]
  },
  {
   "cell_type": "code",
   "execution_count": 5,
   "metadata": {},
   "outputs": [],
   "source": [
    "#S([Sx, Sy])\n",
    "def S(V):\n",
    "    S = np.eye(3)\n",
    "    S[0, 0] = V[0]\n",
    "    S[1, 1] = V[1]\n",
    "    return S"
   ]
  },
  {
   "cell_type": "code",
   "execution_count": 6,
   "metadata": {},
   "outputs": [],
   "source": [
    "def Refy():\n",
    "    R = np.eye(3)\n",
    "    R[0, 0] = -1\n",
    "    return R"
   ]
  },
  {
   "cell_type": "code",
   "execution_count": 7,
   "metadata": {},
   "outputs": [],
   "source": [
    "def Refx():\n",
    "    R = np.eye(3)\n",
    "    R[1, 1] = -1\n",
    "    return R"
   ]
  },
  {
   "cell_type": "code",
   "execution_count": 8,
   "metadata": {},
   "outputs": [],
   "source": [
    "def plot_pairs(a, b):\n",
    "    try:\n",
    "        for row in a:\n",
    "            plt.scatter(row[0],row[1],color='black')\n",
    "    except IndexError:\n",
    "        plt.scatter(a[0],a[1],color='black')\n",
    "        \n",
    "    try: \n",
    "        for row in b:\n",
    "            plt.scatter(row[0],row[1],color='blue')\n",
    "    except IndexError:\n",
    "        plt.scatter(b[0],b[1],color='blue')\n",
    "        \n",
    "    return"
   ]
  },
  {
   "cell_type": "code",
   "execution_count": 9,
   "metadata": {},
   "outputs": [],
   "source": [
    "def plot_points(a):\n",
    "    try:\n",
    "        for row in a:\n",
    "            plt.scatter(row[0],row[1],color='black')\n",
    "    except IndexError:\n",
    "        plt.scatter(a[0],a[1],color='black')\n",
    "        \n",
    "    return"
   ]
  },
  {
   "cell_type": "markdown",
   "metadata": {},
   "source": [
    "## 2D TRANSFORMATIONS"
   ]
  },
  {
   "cell_type": "markdown",
   "metadata": {},
   "source": [
    "### Class Reflection About A Line Example"
   ]
  },
  {
   "cell_type": "code",
   "execution_count": 10,
   "metadata": {},
   "outputs": [
    {
     "name": "stdout",
     "output_type": "stream",
     "text": [
      "T = \n",
      "\n",
      "[[-0.8    0.6    0.   ]\n",
      " [ 0.6    0.8    0.   ]\n",
      " [-2.399  0.8    1.   ]]\n"
     ]
    },
    {
     "data": {
      "text/plain": [
       "[<matplotlib.lines.Line2D at 0x2e9ec2ccba8>]"
      ]
     },
     "execution_count": 10,
     "metadata": {},
     "output_type": "execute_result"
    },
    {
     "data": {
      "image/png": "[encoded data removed]",
      "text/plain": [
       "<Figure size 432x288 with 1 Axes>"
      ]
     },
     "metadata": {
      "needs_background": "light"
     },
     "output_type": "display_data"
    }
   ],
   "source": [
    "t = T([0, -4]) @ R(-71.57) @ Refx() @ R(71.57) @ T([0, 4])\n",
    "a = np.array([[2, 3, 1], \n",
    "              [6, 3, 1], \n",
    "              [4, 8, 1]])\n",
    "\n",
    "L = np.array([[-10, -26, 1],\n",
    "              [10, 34, 1]])\n",
    "\n",
    "b = a @ t\n",
    "L = L @ t\n",
    "print(\"T = \\n\")\n",
    "print(t)\n",
    "\n",
    "ax = plt.axes()\n",
    "ax.axis('equal')\n",
    "ax.set_aspect('equal')\n",
    "plt.xlim(-10, 10)\n",
    "plt.ylim(-10, 10)\n",
    "\n",
    "plt.grid()\n",
    "plt.plot(np.append(a[:, 0], a[0, 0]), np.append(a[:, 1], a[0, 1]), color='green')\n",
    "plt.plot(L[:, 0], L[:, 1])\n",
    "plt.plot(np.append(b[:, 0], b[0, 0]), np.append(b[:, 1], b[0, 1]), color='orange')"
   ]
  },
  {
   "cell_type": "markdown",
   "metadata": {},
   "source": [
    "### Class Circle Example"
   ]
  },
  {
   "cell_type": "code",
   "execution_count": 11,
   "metadata": {},
   "outputs": [
    {
     "name": "stdout",
     "output_type": "stream",
     "text": [
      "T = \n",
      "\n",
      "[[0.9 0.  0. ]\n",
      " [0.  0.6 0. ]\n",
      " [1.  4.  1. ]]\n"
     ]
    },
    {
     "data": {
      "text/plain": [
       "[<matplotlib.lines.Line2D at 0x2e9ec35bd30>]"
      ]
     },
     "execution_count": 11,
     "metadata": {},
     "output_type": "execute_result"
    },
    {
     "data": {
      "image/png": "[encoded data removed]",
      "text/plain": [
       "<Figure size 432x288 with 1 Axes>"
      ]
     },
     "metadata": {
      "needs_background": "light"
     },
     "output_type": "display_data"
    }
   ],
   "source": [
    "t = T([-10, -10]) @ S([0.9, 0.6]) @ T([10, 10])\n",
    "a = np.array([[10, 15, 1], \n",
    "              [15, 10, 1], \n",
    "              [10, 5, 1],\n",
    "              [5, 10, 1]])\n",
    "\n",
    "b = a @ t\n",
    "print(\"T = \\n\")\n",
    "print(t)\n",
    "\n",
    "ax = plt.axes()\n",
    "ax.axis('equal')\n",
    "ax.set_aspect('equal')\n",
    "\n",
    "plt.grid()\n",
    "plt.plot(np.append(a[:, 0], a[0, 0]), np.append(a[:, 1], a[0, 1]), color='green')\n",
    "plt.plot(np.append(b[:, 0], b[0, 0]), np.append(b[:, 1], b[0, 1]), color='orange')"
   ]
  },
  {
   "cell_type": "code",
   "execution_count": 24,
   "metadata": {},
   "outputs": [
    {
     "name": "stdout",
     "output_type": "stream",
     "text": [
      "T = \n",
      "\n",
      "[[  0.707   0.707   0.   ]\n",
      " [ -0.707   0.707   0.   ]\n",
      " [ 13.929 -11.627   1.   ]]\n"
     ]
    }
   ],
   "source": [
    "t = T([-21, -11]) @ R(45) @ T([21, 11])\n",
    "\n",
    "b = a @ t\n",
    "print(\"T = \\n\")\n",
    "print(t)"
   ]
  },
  {
   "cell_type": "markdown",
   "metadata": {},
   "source": [
    "### Class Example: Rotate Line Clockwise By 90"
   ]
  },
  {
   "cell_type": "code",
   "execution_count": 12,
   "metadata": {},
   "outputs": [
    {
     "name": "stdout",
     "output_type": "stream",
     "text": [
      "T = \n",
      "\n",
      "[[ 6.123e-17  1.000e+00  0.000e+00]\n",
      " [-1.000e+00  6.123e-17  0.000e+00]\n",
      " [ 3.500e+00 -4.500e+00  1.000e+00]]\n"
     ]
    },
    {
     "data": {
      "text/plain": [
       "[<matplotlib.lines.Line2D at 0x2e9ec3ce9b0>]"
      ]
     },
     "execution_count": 12,
     "metadata": {},
     "output_type": "execute_result"
    },
    {
     "data": {
      "image/png": "[encoded data removed]",
      "text/plain": [
       "<Figure size 432x288 with 1 Axes>"
      ]
     },
     "metadata": {
      "needs_background": "light"
     },
     "output_type": "display_data"
    }
   ],
   "source": [
    "L = np.array([[-3, 8, 1],\n",
    "              [11, -9, 1]])\n",
    "\n",
    "mx = 0.5 * (L[0, 0] + L[1, 0])\n",
    "my = 0.5 * (L[0, 1] + L[1, 1])\n",
    "\n",
    "t = T([-mx, -my]) @ R(90) @ T([mx, my])\n",
    "\n",
    "L2 = L @ t\n",
    "print(\"T = \\n\")\n",
    "print(t)\n",
    "\n",
    "ax = plt.axes()\n",
    "ax.axis('equal')\n",
    "ax.set_aspect('equal')\n",
    "\n",
    "plt.grid()\n",
    "plt.plot(L[:, 0], L[:, 1])\n",
    "plt.plot(L2[:, 0], L2[:, 1])"
   ]
  },
  {
   "cell_type": "markdown",
   "metadata": {},
   "source": [
    "### Extras"
   ]
  },
  {
   "cell_type": "code",
   "execution_count": 13,
   "metadata": {},
   "outputs": [
    {
     "name": "stdout",
     "output_type": "stream",
     "text": [
      "T = \n",
      "\n",
      "[[  2.   0.   0.]\n",
      " [  0.   2.   0.]\n",
      " [-10. -10.   1.]]\n"
     ]
    },
    {
     "data": {
      "text/plain": [
       "[<matplotlib.lines.Line2D at 0x2e9ec43f320>]"
      ]
     },
     "execution_count": 13,
     "metadata": {},
     "output_type": "execute_result"
    },
    {
     "data": {
      "image/png": "[encoded data removed]",
      "text/plain": [
       "<Figure size 432x288 with 1 Axes>"
      ]
     },
     "metadata": {
      "needs_background": "light"
     },
     "output_type": "display_data"
    }
   ],
   "source": [
    "t = T([-10, -10]) @ S([2, 2]) @ T([10, 10])\n",
    "a = np.array([[15, 15, 1], \n",
    "              [15, 5, 1], \n",
    "              [5, 5, 1],\n",
    "              [5, 15, 1]])\n",
    "\n",
    "b = a @ t\n",
    "print(\"T = \\n\")\n",
    "print(t)\n",
    "\n",
    "ax = plt.axes()\n",
    "ax.axis('equal')\n",
    "ax.set_aspect('equal')\n",
    "plt.xlim(-10, 30)\n",
    "plt.ylim(-10, 30)\n",
    "\n",
    "plt.grid()\n",
    "plt.plot(np.append(a[:, 0], a[0, 0]), np.append(a[:, 1], a[0, 1]))\n",
    "plt.plot(np.append(b[:, 0], b[0, 0]), np.append(b[:, 1], b[0, 1]))"
   ]
  },
  {
   "cell_type": "code",
   "execution_count": 14,
   "metadata": {},
   "outputs": [
    {
     "name": "stdout",
     "output_type": "stream",
     "text": [
      "T = \n",
      "\n",
      "[[  2.   0.   0.]\n",
      " [  0.   2.   0.]\n",
      " [-10. -10.   1.]]\n"
     ]
    },
    {
     "data": {
      "text/plain": [
       "[<matplotlib.lines.Line2D at 0x2e9ec49d550>]"
      ]
     },
     "execution_count": 14,
     "metadata": {},
     "output_type": "execute_result"
    },
    {
     "data": {
      "image/png": "[encoded data removed]",
      "text/plain": [
       "<Figure size 432x288 with 1 Axes>"
      ]
     },
     "metadata": {
      "needs_background": "light"
     },
     "output_type": "display_data"
    }
   ],
   "source": [
    "t = T([-10, -10]) @ S([2, 2]) @ T([10, 10])\n",
    "a = np.array([[10, 15, 1], \n",
    "              [15, 10, 1], \n",
    "              [10, 5, 1],\n",
    "              [5, 10, 1]])\n",
    "\n",
    "b = a @ t\n",
    "print(\"T = \\n\")\n",
    "print(t)\n",
    "\n",
    "ax = plt.axes()\n",
    "ax.axis('equal')\n",
    "ax.set_aspect('equal')\n",
    "plt.xlim(-10, 30)\n",
    "plt.ylim(-10, 30)\n",
    "\n",
    "plt.grid()\n",
    "plt.plot(np.append(a[:, 0], a[0, 0]), np.append(a[:, 1], a[0, 1]), color='green')\n",
    "plt.plot(np.append(b[:, 0], b[0, 0]), np.append(b[:, 1], b[0, 1]), color='orange')"
   ]
  },
  {
   "cell_type": "markdown",
   "metadata": {},
   "source": [
    "## Line Algorithms"
   ]
  },
  {
   "cell_type": "code",
   "execution_count": 15,
   "metadata": {},
   "outputs": [],
   "source": [
    "def DDA(p1, p2):\n",
    "    dx = p2[0] - p1[0]\n",
    "    dy = p2[1] - p1[1]\n",
    "    X = [p1[0]]\n",
    "    Y = [p1[1]]\n",
    "    \n",
    "    if abs(dx) > abs(dy):\n",
    "        step = abs(dx)\n",
    "    else:\n",
    "        step = abs(dy)\n",
    "        \n",
    "    xinc = dx/step\n",
    "    yinc = dy/step\n",
    "    \n",
    "    for i in range(0, step):\n",
    "        X.append(X[i] + xinc)\n",
    "        Y.append(Y[i] + yinc)\n",
    "        \n",
    "    for i in range(0, len(Y)):\n",
    "        Y[i] = round(Y[i])\n",
    "    return X, Y"
   ]
  },
  {
   "cell_type": "code",
   "execution_count": 16,
   "metadata": {},
   "outputs": [
    {
     "name": "stdout",
     "output_type": "stream",
     "text": [
      "     X    Y\n",
      "0  1.0  1.0\n",
      "1  2.0  2.0\n",
      "2  3.0  2.0\n",
      "3  4.0  3.0\n",
      "4  5.0  3.0\n",
      "5  6.0  4.0\n",
      "6  7.0  4.0\n",
      "7  8.0  5.0\n"
     ]
    },
    {
     "data": {
      "text/plain": [
       "[<matplotlib.lines.Line2D at 0x2e9ec49d908>]"
      ]
     },
     "execution_count": 16,
     "metadata": {},
     "output_type": "execute_result"
    },
    {
     "data": {
      "image/png": "[encoded data removed]",
      "text/plain": [
       "<Figure size 432x288 with 1 Axes>"
      ]
     },
     "metadata": {
      "needs_background": "light"
     },
     "output_type": "display_data"
    }
   ],
   "source": [
    "[X, Y] = DDA((1, 1), (8, 5))\n",
    "df = pd.DataFrame(np.column_stack((X, Y)), columns=['X', 'Y'])\n",
    "print(df)\n",
    "plt.scatter(X, Y)\n",
    "plt.plot(X, Y)"
   ]
  },
  {
   "cell_type": "code",
   "execution_count": 17,
   "metadata": {},
   "outputs": [],
   "source": [
    "def bresenham(p1, p2):\n",
    "    dx = p2[0] - p1[0]\n",
    "    dy = p2[1] - p1[1]\n",
    "    X = []\n",
    "    Y = []\n",
    "    p = 2 * dy - dx\n",
    "    y = p1[1]\n",
    "    x = p1[0]\n",
    "    x2 = p2[0]\n",
    "    \n",
    "    while x <= x2:\n",
    "        X.append(x)\n",
    "        Y.append(y)\n",
    "        x += 1\n",
    "        \n",
    "        if p < 0:\n",
    "            p = p + 2 * dy\n",
    "        else:\n",
    "            p = p + 2 * dy - 2 * dx\n",
    "            y += 1\n",
    "    \n",
    "    return X, Y"
   ]
  },
  {
   "cell_type": "code",
   "execution_count": 18,
   "metadata": {},
   "outputs": [
    {
     "name": "stdout",
     "output_type": "stream",
     "text": [
      "   X  Y\n",
      "0  1  1\n",
      "1  2  2\n",
      "2  3  2\n",
      "3  4  3\n",
      "4  5  3\n",
      "5  6  4\n",
      "6  7  4\n",
      "7  8  5\n"
     ]
    },
    {
     "data": {
      "text/plain": [
       "[<matplotlib.lines.Line2D at 0x2e9ec4df6d8>]"
      ]
     },
     "execution_count": 18,
     "metadata": {},
     "output_type": "execute_result"
    },
    {
     "data": {
      "image/png": "[encoded data removed]",
      "text/plain": [
       "<Figure size 432x288 with 1 Axes>"
      ]
     },
     "metadata": {
      "needs_background": "light"
     },
     "output_type": "display_data"
    }
   ],
   "source": [
    "[X, Y] = bresenham((1, 1), (8, 5))\n",
    "df = pd.DataFrame(np.column_stack((X, Y)), columns=['X', 'Y'])\n",
    "print(df)\n",
    "plt.scatter(X, Y)\n",
    "plt.plot(X, Y)"
   ]
  },
  {
   "cell_type": "code",
   "execution_count": 19,
   "metadata": {},
   "outputs": [],
   "source": [
    "def nCr(n, r):\n",
    "    f = math.factorial\n",
    "    return f(n) // f(r) // f(n-r)"
   ]
  },
  {
   "cell_type": "code",
   "execution_count": 20,
   "metadata": {},
   "outputs": [],
   "source": [
    "def bezier(P, U = 0.1, umax = 0.9, step = 0.1):\n",
    "    n = len(P) - 1\n",
    "    Px = []\n",
    "    Py = []           \n",
    "    u = U\n",
    "\n",
    "    while u < umax:\n",
    "        p_x = 0\n",
    "        p_y = 0 \n",
    "\n",
    "        for k in range(0, n+1):\n",
    "            p_x += P[k][0] * nCr(n, k) * pow(u, k) * pow((1-u), n-k)\n",
    "\n",
    "            p_y += P[k][1] * nCr(n, k) * pow(u, k) * pow((1-u), n-k)\n",
    "\n",
    "        Px.append(p_x)\n",
    "        Py.append(p_y)\n",
    "        u += step\n",
    "\n",
    "    return Px, Py"
   ]
  },
  {
   "cell_type": "code",
   "execution_count": 21,
   "metadata": {},
   "outputs": [
    {
     "name": "stdout",
     "output_type": "stream",
     "text": [
      "      X     Y\n",
      "0   3.0  4.98\n",
      "1   4.0  6.52\n",
      "2   5.0  7.62\n",
      "3   6.0  8.28\n",
      "4   7.0  8.50\n",
      "5   8.0  8.28\n",
      "6   9.0  7.62\n",
      "7  10.0  6.52\n",
      "8  11.0  4.98\n"
     ]
    },
    {
     "data": {
      "text/plain": [
       "<matplotlib.collections.PathCollection at 0x2e9ec616c18>"
      ]
     },
     "execution_count": 21,
     "metadata": {},
     "output_type": "execute_result"
    },
    {
     "data": {
      "image/png": "[encoded data removed]",
      "text/plain": [
       "<Figure size 432x288 with 1 Axes>"
      ]
     },
     "metadata": {
      "needs_background": "light"
     },
     "output_type": "display_data"
    }
   ],
   "source": [
    "P = [(2, 3), (7, 14), (12, 3)]\n",
    "Px = []\n",
    "Py = []\n",
    "\n",
    "for i in range(0, len(P)):\n",
    "    Px.append(P[i][0])\n",
    "    Py.append(P[i][1])\n",
    "\n",
    "[X, Y] = bezier(P)\n",
    "df = pd.DataFrame(np.column_stack((X, Y)), columns=['X', 'Y'])\n",
    "print(df)\n",
    "plt.scatter(X, Y)\n",
    "plt.plot(X, Y)\n",
    "\n",
    "plt.plot(Px, Py, color='orange')\n",
    "plt.scatter(Px, Py, color='orange')"
   ]
  },
  {
   "cell_type": "code",
   "execution_count": 22,
   "metadata": {},
   "outputs": [
    {
     "name": "stdout",
     "output_type": "stream",
     "text": [
      "       X      Y\n",
      "0  50.52  18.84\n",
      "1  43.48  32.76\n",
      "2  38.88  42.76\n",
      "3  36.72  48.84\n",
      "4  37.00  51.00\n",
      "5  39.72  49.24\n",
      "6  44.88  43.56\n",
      "7  52.48  33.96\n",
      "8  62.52  20.44\n"
     ]
    },
    {
     "data": {
      "text/plain": [
       "<matplotlib.collections.PathCollection at 0x2e9ed650518>"
      ]
     },
     "execution_count": 22,
     "metadata": {},
     "output_type": "execute_result"
    },
    {
     "data": {
      "image/png": "[encoded data removed]",
      "text/plain": [
       "<Figure size 432x288 with 1 Axes>"
      ]
     },
     "metadata": {
      "needs_background": "light"
     },
     "output_type": "display_data"
    }
   ],
   "source": [
    "P = [(60, 1), (6.5, 100), (75, 3)]\n",
    "Px = []\n",
    "Py = []\n",
    "\n",
    "for i in range(0, len(P)):\n",
    "    Px.append(P[i][0])\n",
    "    Py.append(P[i][1])\n",
    "\n",
    "[X, Y] = bezier(P)\n",
    "df = pd.DataFrame(np.column_stack((X, Y)), columns=['X', 'Y'])\n",
    "print(df)\n",
    "plt.scatter(X, Y)\n",
    "plt.plot(X, Y)\n",
    "\n",
    "plt.plot(Px, Py, color='orange')\n",
    "plt.scatter(Px, Py, color='orange')"
   ]
  },
  {
   "cell_type": "code",
   "execution_count": 23,
   "metadata": {},
   "outputs": [
    {
     "name": "stdout",
     "output_type": "stream",
     "text": [
      "[[ 6.123e-17  1.000e+00  0.000e+00]\n",
      " [-1.000e+00  6.123e-17  0.000e+00]\n",
      " [ 7.000e+00  3.000e+00  1.000e+00]]\n"
     ]
    }
   ],
   "source": [
    "t = T([-2, -5]) @ R(90) @ T([2, 5])\n",
    "print(t)"
   ]
  },
  {
   "cell_type": "code",
   "execution_count": null,
   "metadata": {},
   "outputs": [],
   "source": []
  }
 ],
 "metadata": {
  "kernelspec": {
   "display_name": "Python 3 (ipykernel)",
   "language": "python",
   "name": "python3"
  },
  "language_info": {
   "codemirror_mode": {
    "name": "ipython",
    "version": 3
   },
   "file_extension": ".py",
   "mimetype": "text/x-python",
   "name": "python",
   "nbconvert_exporter": "python",
   "pygments_lexer": "ipython3",
   "version": "3.9.6"
  }
 },
 "nbformat": 4,
 "nbformat_minor": 2
}
