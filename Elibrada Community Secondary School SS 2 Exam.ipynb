{
 "cells": [
  {
   "cell_type": "code",
   "execution_count": 217,
   "id": "d765e00e",
   "metadata": {},
   "outputs": [],
   "source": [
    "import numpy as np\n",
    "import pandas as pd\n",
    "import itertools\n",
    "from scipy import stats"
   ]
  },
  {
   "cell_type": "code",
   "execution_count": 3,
   "id": "7d0c1b97",
   "metadata": {},
   "outputs": [],
   "source": [
    "def mean(data):\n",
    "    '''\n",
    "    Computes the mean of data\n",
    "    \n",
    "    Parameters:\n",
    "    -----------\n",
    "    data: Dictionary of element, frequency pairs\n",
    "    \n",
    "    Returns\n",
    "    -------\n",
    "    float\n",
    "    '''\n",
    "    sum = 0\n",
    "    cumFreq = 0\n",
    "    \n",
    "    for key, value in data.items():\n",
    "        sum += key * value\n",
    "        cumFreq += value\n",
    "        \n",
    "    return sum / cumFreq"
   ]
  },
  {
   "cell_type": "code",
   "execution_count": 200,
   "id": "8e8735f2",
   "metadata": {},
   "outputs": [],
   "source": [
    "def median(data):\n",
    "    '''\n",
    "    Computes the median of data. It relies on numpy's median function\n",
    "    \n",
    "    Parameters\n",
    "    ----------\n",
    "    data: dictionary\n",
    "        Keys -> elements, values -> frequencies\n",
    "        \n",
    "    Returns\n",
    "    -------\n",
    "    float\n",
    "    \n",
    "    Dependencies\n",
    "    ------------\n",
    "    Numpy\n",
    "    '''\n",
    "    from functools import reduce\n",
    "    val = [[key]*value for key, value in data.items()]\n",
    "    flat = reduce(lambda z, y: z + y, val)\n",
    "    flat.sort()\n",
    "    return np.median(flat)"
   ]
  },
  {
   "cell_type": "code",
   "execution_count": 209,
   "id": "1219a501",
   "metadata": {},
   "outputs": [],
   "source": [
    "def mode(data):\n",
    "    '''\n",
    "    Computes the mode of data\n",
    "    \n",
    "    Parameters\n",
    "    ----------\n",
    "    data: dictionary\n",
    "        Keys -> elements, values -> frequencies\n",
    "        \n",
    "    Returns\n",
    "    -------\n",
    "    float\n",
    "    '''\n",
    "    maxFreq = float('-inf')\n",
    "    maxFreq = max(data.values())\n",
    "    mode = []\n",
    "    \n",
    "    for k,v in data.items():\n",
    "        if (v == maxFreq):\n",
    "            mode.append(k)\n",
    "    \n",
    "    return mode"
   ]
  },
  {
   "cell_type": "code",
   "execution_count": 222,
   "id": "11d0f0ca",
   "metadata": {},
   "outputs": [],
   "source": [
    "def running_sum(data):\n",
    "    '''\n",
    "    Generator for the running sum of a list of numbers\n",
    "    Casting to list gives the same result as using \n",
    "    itertools.accumulate(data)\n",
    "    or\n",
    "    np.cumsum(data)\n",
    "    \n",
    "    Parameters\n",
    "    ----------\n",
    "    data: list of numbers\n",
    "    \n",
    "    Yield\n",
    "    -------\n",
    "    number\n",
    "    '''\n",
    "    total = 0\n",
    "    \n",
    "    for item in data:\n",
    "        total += item\n",
    "        yield total"
   ]
  },
  {
   "cell_type": "markdown",
   "id": "4de99240",
   "metadata": {},
   "source": [
    "### Date of Examination"
   ]
  },
  {
   "cell_type": "markdown",
   "id": "5a999862",
   "metadata": {},
   "source": [
    "26th August, 2021"
   ]
  },
  {
   "cell_type": "markdown",
   "id": "d5af1e57",
   "metadata": {},
   "source": [
    "# 1 - 4"
   ]
  },
  {
   "cell_type": "markdown",
   "id": "f17d611f",
   "metadata": {},
   "source": [
    "For the set of numbers given as: 2, 7, 8, 4, 3, 9, 5, 1, 5, 6, calculate the"
   ]
  },
  {
   "cell_type": "markdown",
   "id": "743d8a91",
   "metadata": {},
   "source": [
    "1. Mean"
   ]
  },
  {
   "cell_type": "markdown",
   "id": "917bc61f",
   "metadata": {},
   "source": [
    "a) 8  \n",
    "b) 5  \n",
    "c) 7  \n",
    "d) 3"
   ]
  },
  {
   "cell_type": "markdown",
   "id": "b52dbe7e",
   "metadata": {},
   "source": [
    "2. Mode"
   ]
  },
  {
   "cell_type": "markdown",
   "id": "f380f918",
   "metadata": {},
   "source": [
    "a) 8  \n",
    "b) 5  \n",
    "c) 7  \n",
    "d) 3"
   ]
  },
  {
   "cell_type": "markdown",
   "id": "b7442b8d",
   "metadata": {},
   "source": [
    "3. Median"
   ]
  },
  {
   "cell_type": "markdown",
   "id": "75f74fd3",
   "metadata": {},
   "source": [
    "a) 8  \n",
    "b) 5  \n",
    "c) 7  \n",
    "d) 3"
   ]
  },
  {
   "cell_type": "markdown",
   "id": "2e7c7847",
   "metadata": {},
   "source": [
    "4. Range"
   ]
  },
  {
   "cell_type": "markdown",
   "id": "74f1ba5c",
   "metadata": {},
   "source": [
    "a) 8  \n",
    "b) 5  \n",
    "c) 7  \n",
    "d) 3"
   ]
  },
  {
   "cell_type": "code",
   "execution_count": null,
   "id": "bb28371d",
   "metadata": {},
   "outputs": [],
   "source": []
  },
  {
   "cell_type": "code",
   "execution_count": 7,
   "id": "39a95b21",
   "metadata": {},
   "outputs": [
    {
     "data": {
      "text/html": [
       "<div>\n",
       "<style scoped>\n",
       "    .dataframe tbody tr th:only-of-type {\n",
       "        vertical-align: middle;\n",
       "    }\n",
       "\n",
       "    .dataframe tbody tr th {\n",
       "        vertical-align: top;\n",
       "    }\n",
       "\n",
       "    .dataframe thead th {\n",
       "        text-align: right;\n",
       "    }\n",
       "</style>\n",
       "<table border=\"1\" class=\"dataframe\">\n",
       "  <thead>\n",
       "    <tr style=\"text-align: right;\">\n",
       "      <th></th>\n",
       "      <th>Label</th>\n",
       "      <th>Value</th>\n",
       "    </tr>\n",
       "  </thead>\n",
       "  <tbody>\n",
       "    <tr>\n",
       "      <th>0</th>\n",
       "      <td>Mean</td>\n",
       "      <td>5.0</td>\n",
       "    </tr>\n",
       "    <tr>\n",
       "      <th>1</th>\n",
       "      <td>Mode</td>\n",
       "      <td>5.0</td>\n",
       "    </tr>\n",
       "    <tr>\n",
       "      <th>2</th>\n",
       "      <td>Median</td>\n",
       "      <td>5.0</td>\n",
       "    </tr>\n",
       "    <tr>\n",
       "      <th>3</th>\n",
       "      <td>Range</td>\n",
       "      <td>8.0</td>\n",
       "    </tr>\n",
       "  </tbody>\n",
       "</table>\n",
       "</div>"
      ],
      "text/plain": [
       "    Label  Value\n",
       "0    Mean    5.0\n",
       "1    Mode    5.0\n",
       "2  Median    5.0\n",
       "3   Range    8.0"
      ]
     },
     "execution_count": 7,
     "metadata": {},
     "output_type": "execute_result"
    }
   ],
   "source": [
    "data = [2, 7, 8, 4, 3, 9, 5, 1, 5, 6]\n",
    "_mode = stats.mode(data).mode[0]\n",
    "range = np.max(data) - np.min(data)\n",
    "s = pd.DataFrame({'Label': ['Mean', 'Mode', 'Median', 'Range'],\n",
    "                 'Value': [np.mean(data), _mode, np.median(data), range]})\n",
    "s"
   ]
  },
  {
   "cell_type": "markdown",
   "id": "369bbb90",
   "metadata": {},
   "source": [
    "x | f\n",
    "--- | ---\n",
    "1 | 4\n",
    "2 | 3\n",
    "3 | 2\n",
    "4 | 2\n",
    "5 | 1\n",
    "6 | 1\n",
    "7 | 1\n",
    "8 | 2\n",
    "9 | 4"
   ]
  },
  {
   "cell_type": "markdown",
   "id": "d300247a",
   "metadata": {},
   "source": [
    "# 5 - 7"
   ]
  },
  {
   "cell_type": "markdown",
   "id": "e31966b0",
   "metadata": {},
   "source": [
    "Given the data above, find the "
   ]
  },
  {
   "cell_type": "markdown",
   "id": "13f4bffe",
   "metadata": {},
   "source": [
    "5. Mean"
   ]
  },
  {
   "cell_type": "markdown",
   "id": "2d2eab0d",
   "metadata": {},
   "source": [
    "a) 5.8 or 29/5  \n",
    "b) 3.5 or 7/2  \n",
    "c) 4.7 or 47/10  \n",
    "d) 6"
   ]
  },
  {
   "cell_type": "markdown",
   "id": "043cd629",
   "metadata": {},
   "source": [
    "6. Mode"
   ]
  },
  {
   "cell_type": "markdown",
   "id": "40837635",
   "metadata": {},
   "source": [
    "a) 1  \n",
    "b) 1 and 9  \n",
    "c) 5 and 7  \n",
    "d) 8"
   ]
  },
  {
   "cell_type": "markdown",
   "id": "7896e358",
   "metadata": {},
   "source": [
    "7. Median"
   ]
  },
  {
   "cell_type": "markdown",
   "id": "ef2cbc15",
   "metadata": {},
   "source": [
    "a) 4  \n",
    "b) 5  \n",
    "c) 7  \n",
    "d) 3"
   ]
  },
  {
   "cell_type": "code",
   "execution_count": 182,
   "id": "d69f584c",
   "metadata": {},
   "outputs": [
    {
     "data": {
      "text/html": [
       "<div>\n",
       "<style scoped>\n",
       "    .dataframe tbody tr th:only-of-type {\n",
       "        vertical-align: middle;\n",
       "    }\n",
       "\n",
       "    .dataframe tbody tr th {\n",
       "        vertical-align: top;\n",
       "    }\n",
       "\n",
       "    .dataframe thead th {\n",
       "        text-align: right;\n",
       "    }\n",
       "</style>\n",
       "<table border=\"1\" class=\"dataframe\">\n",
       "  <thead>\n",
       "    <tr style=\"text-align: right;\">\n",
       "      <th></th>\n",
       "      <th>x</th>\n",
       "      <th>f</th>\n",
       "    </tr>\n",
       "  </thead>\n",
       "  <tbody>\n",
       "    <tr>\n",
       "      <th>0</th>\n",
       "      <td>1</td>\n",
       "      <td>4</td>\n",
       "    </tr>\n",
       "    <tr>\n",
       "      <th>1</th>\n",
       "      <td>2</td>\n",
       "      <td>3</td>\n",
       "    </tr>\n",
       "    <tr>\n",
       "      <th>2</th>\n",
       "      <td>3</td>\n",
       "      <td>2</td>\n",
       "    </tr>\n",
       "    <tr>\n",
       "      <th>3</th>\n",
       "      <td>4</td>\n",
       "      <td>2</td>\n",
       "    </tr>\n",
       "    <tr>\n",
       "      <th>4</th>\n",
       "      <td>5</td>\n",
       "      <td>1</td>\n",
       "    </tr>\n",
       "    <tr>\n",
       "      <th>5</th>\n",
       "      <td>6</td>\n",
       "      <td>1</td>\n",
       "    </tr>\n",
       "    <tr>\n",
       "      <th>6</th>\n",
       "      <td>7</td>\n",
       "      <td>1</td>\n",
       "    </tr>\n",
       "    <tr>\n",
       "      <th>7</th>\n",
       "      <td>8</td>\n",
       "      <td>2</td>\n",
       "    </tr>\n",
       "    <tr>\n",
       "      <th>8</th>\n",
       "      <td>9</td>\n",
       "      <td>4</td>\n",
       "    </tr>\n",
       "  </tbody>\n",
       "</table>\n",
       "</div>"
      ],
      "text/plain": [
       "   x  f\n",
       "0  1  4\n",
       "1  2  3\n",
       "2  3  2\n",
       "3  4  2\n",
       "4  5  1\n",
       "5  6  1\n",
       "6  7  1\n",
       "7  8  2\n",
       "8  9  4"
      ]
     },
     "execution_count": 182,
     "metadata": {},
     "output_type": "execute_result"
    }
   ],
   "source": [
    "data = {1: 4, 2: 3, 3: 2, 4:2, 5:1, 6:1, 7:1, 8:2, 9:4}\n",
    "s = pd.DataFrame({'x': data.keys(),\n",
    "                 'f': data.values()})\n",
    "s"
   ]
  },
  {
   "cell_type": "code",
   "execution_count": 183,
   "id": "2cdc2e78",
   "metadata": {},
   "outputs": [
    {
     "data": {
      "text/html": [
       "<div>\n",
       "<style scoped>\n",
       "    .dataframe tbody tr th:only-of-type {\n",
       "        vertical-align: middle;\n",
       "    }\n",
       "\n",
       "    .dataframe tbody tr th {\n",
       "        vertical-align: top;\n",
       "    }\n",
       "\n",
       "    .dataframe thead th {\n",
       "        text-align: right;\n",
       "    }\n",
       "</style>\n",
       "<table border=\"1\" class=\"dataframe\">\n",
       "  <thead>\n",
       "    <tr style=\"text-align: right;\">\n",
       "      <th></th>\n",
       "      <th>Label</th>\n",
       "      <th>Value</th>\n",
       "    </tr>\n",
       "  </thead>\n",
       "  <tbody>\n",
       "    <tr>\n",
       "      <th>0</th>\n",
       "      <td>Mean</td>\n",
       "      <td>4.7</td>\n",
       "    </tr>\n",
       "    <tr>\n",
       "      <th>1</th>\n",
       "      <td>Mode</td>\n",
       "      <td>[1, 9]</td>\n",
       "    </tr>\n",
       "    <tr>\n",
       "      <th>2</th>\n",
       "      <td>Median</td>\n",
       "      <td>4.0</td>\n",
       "    </tr>\n",
       "  </tbody>\n",
       "</table>\n",
       "</div>"
      ],
      "text/plain": [
       "    Label   Value\n",
       "0    Mean     4.7\n",
       "1    Mode  [1, 9]\n",
       "2  Median     4.0"
      ]
     },
     "execution_count": 183,
     "metadata": {},
     "output_type": "execute_result"
    }
   ],
   "source": [
    "data = {1: 4, 2: 3, 3: 2, 4:2, 5:1, 6:1, 7:1, 8:2, 9:4}\n",
    "s = pd.DataFrame({'Label': ['Mean', 'Mode', 'Median'],\n",
    "                 'Value': [mean(data), mode(data), median(data)]})\n",
    "s"
   ]
  },
  {
   "cell_type": "code",
   "execution_count": 184,
   "id": "32571f5b",
   "metadata": {},
   "outputs": [
    {
     "data": {
      "text/plain": [
       "[94, 20]"
      ]
     },
     "execution_count": 184,
     "metadata": {},
     "output_type": "execute_result"
    }
   ],
   "source": [
    "sfx = sum(np.array(list(data.values())) * np.array(list(data.keys())))\n",
    "sf = sum(list(data.values()))\n",
    "[sfx, sf]"
   ]
  },
  {
   "cell_type": "markdown",
   "id": "c87d6f15",
   "metadata": {},
   "source": [
    "# 8 - 11"
   ]
  },
  {
   "cell_type": "markdown",
   "id": "8d8f8c3b",
   "metadata": {},
   "source": [
    "Given the numbers 4, 6, 8, 13, 17, 21, 30 and 35, calculate the"
   ]
  },
  {
   "cell_type": "markdown",
   "id": "94c79a3f",
   "metadata": {},
   "source": [
    "8. mean"
   ]
  },
  {
   "cell_type": "markdown",
   "id": "53624b8b",
   "metadata": {},
   "source": [
    "a) 3  \n",
    "b) 4  \n",
    "c) 7.5  \n",
    "d) 5.3"
   ]
  },
  {
   "cell_type": "markdown",
   "id": "14dc9040",
   "metadata": {},
   "source": [
    "9. mode"
   ]
  },
  {
   "cell_type": "markdown",
   "id": "d30f2b99",
   "metadata": {},
   "source": [
    "a) 8  \n",
    "b) 5  \n",
    "c) 7  \n",
    "d) 3"
   ]
  },
  {
   "cell_type": "markdown",
   "id": "bfee8924",
   "metadata": {},
   "source": [
    "10. median"
   ]
  },
  {
   "cell_type": "markdown",
   "id": "366448d0",
   "metadata": {},
   "source": [
    "a) 2  \n",
    "b) 5.5  \n",
    "c) 3.6  \n",
    "d) 4.9"
   ]
  },
  {
   "cell_type": "markdown",
   "id": "4b64b886",
   "metadata": {},
   "source": [
    "11. range"
   ]
  },
  {
   "cell_type": "markdown",
   "id": "9c0a0134",
   "metadata": {},
   "source": [
    "a) 8  \n",
    "b) 5  \n",
    "c) 7  \n",
    "d) 3"
   ]
  },
  {
   "cell_type": "code",
   "execution_count": 193,
   "id": "d2b36b33",
   "metadata": {},
   "outputs": [
    {
     "data": {
      "text/html": [
       "<div>\n",
       "<style scoped>\n",
       "    .dataframe tbody tr th:only-of-type {\n",
       "        vertical-align: middle;\n",
       "    }\n",
       "\n",
       "    .dataframe tbody tr th {\n",
       "        vertical-align: top;\n",
       "    }\n",
       "\n",
       "    .dataframe thead th {\n",
       "        text-align: right;\n",
       "    }\n",
       "</style>\n",
       "<table border=\"1\" class=\"dataframe\">\n",
       "  <thead>\n",
       "    <tr style=\"text-align: right;\">\n",
       "      <th></th>\n",
       "      <th>Label</th>\n",
       "      <th>Value</th>\n",
       "    </tr>\n",
       "  </thead>\n",
       "  <tbody>\n",
       "    <tr>\n",
       "      <th>0</th>\n",
       "      <td>Mean</td>\n",
       "      <td>5.3</td>\n",
       "    </tr>\n",
       "    <tr>\n",
       "      <th>1</th>\n",
       "      <td>Mode</td>\n",
       "      <td>8.0</td>\n",
       "    </tr>\n",
       "    <tr>\n",
       "      <th>2</th>\n",
       "      <td>Median</td>\n",
       "      <td>5.5</td>\n",
       "    </tr>\n",
       "    <tr>\n",
       "      <th>3</th>\n",
       "      <td>Range</td>\n",
       "      <td>8.0</td>\n",
       "    </tr>\n",
       "  </tbody>\n",
       "</table>\n",
       "</div>"
      ],
      "text/plain": [
       "    Label  Value\n",
       "0    Mean    5.3\n",
       "1    Mode    8.0\n",
       "2  Median    5.5\n",
       "3   Range    8.0"
      ]
     },
     "execution_count": 193,
     "metadata": {},
     "output_type": "execute_result"
    }
   ],
   "source": [
    "data = [4, 6, 8, 9, 3, 8, 1, 2, 5, 7]\n",
    "_mode = stats.mode(data).mode[0]\n",
    "range = np.max(data) - np.min(data)\n",
    "s = pd.DataFrame({'Label': ['Mean', 'Mode', 'Median', 'Range'],\n",
    "                 'Value': [np.mean(data), _mode, np.median(data), range]})\n",
    "s"
   ]
  },
  {
   "cell_type": "markdown",
   "id": "b79096fc",
   "metadata": {},
   "source": [
    "# 12 - 16"
   ]
  },
  {
   "cell_type": "markdown",
   "id": "2cab0c88",
   "metadata": {},
   "source": [
    "If a coin is tossed twice, calculate the probability of getting"
   ]
  },
  {
   "cell_type": "markdown",
   "id": "99e970fd",
   "metadata": {},
   "source": [
    "12. 2 heads"
   ]
  },
  {
   "cell_type": "markdown",
   "id": "b6ed41db",
   "metadata": {},
   "source": [
    "a) 1/6  \n",
    "b) 1/4  \n",
    "c) 2/5  \n",
    "d) 3/6"
   ]
  },
  {
   "cell_type": "markdown",
   "id": "e87f5c09",
   "metadata": {},
   "source": [
    "13. 2 tails"
   ]
  },
  {
   "cell_type": "markdown",
   "id": "90130d90",
   "metadata": {},
   "source": [
    "a) 1/6  \n",
    "b) 1/4  \n",
    "c) 2/5  \n",
    "d) 3/6"
   ]
  },
  {
   "cell_type": "markdown",
   "id": "87d67809",
   "metadata": {},
   "source": [
    "14. A head and a tail"
   ]
  },
  {
   "cell_type": "markdown",
   "id": "0f10f400",
   "metadata": {},
   "source": [
    "a) 1/6  \n",
    "b) 1/4  \n",
    "c) 2/5  \n",
    "d) 3/6"
   ]
  },
  {
   "cell_type": "markdown",
   "id": "9f1d1700",
   "metadata": {},
   "source": [
    "15. A leg"
   ]
  },
  {
   "cell_type": "markdown",
   "id": "8f2337d5",
   "metadata": {},
   "source": [
    "a) 3/7  \n",
    "b) 0  \n",
    "c) 2  \n",
    "d) 1/2"
   ]
  },
  {
   "cell_type": "markdown",
   "id": "c3a11838",
   "metadata": {},
   "source": [
    "16. A head or a tail"
   ]
  },
  {
   "cell_type": "markdown",
   "id": "0720ffd2",
   "metadata": {},
   "source": [
    "a) 8  \n",
    "b) 5  \n",
    "c) 7  \n",
    "d) 3"
   ]
  },
  {
   "cell_type": "markdown",
   "id": "c65e76be",
   "metadata": {},
   "source": [
    "# 17 - 20"
   ]
  },
  {
   "cell_type": "markdown",
   "id": "cd0075b0",
   "metadata": {},
   "source": [
    "There are 2 oranges, 4 mangoes, and 6 bananas. If one fruit is randomly picked, what is the probability of it being"
   ]
  },
  {
   "cell_type": "markdown",
   "id": "43605924",
   "metadata": {},
   "source": [
    "17. an orange"
   ]
  },
  {
   "cell_type": "markdown",
   "id": "9a1f22a4",
   "metadata": {},
   "source": [
    "a) 1/6  \n",
    "b) 2/5  \n",
    "c) 1/4  \n",
    "d) 1/2"
   ]
  },
  {
   "cell_type": "markdown",
   "id": "8ab264ad",
   "metadata": {},
   "source": [
    "18. A banana"
   ]
  },
  {
   "cell_type": "markdown",
   "id": "d11d5dad",
   "metadata": {},
   "source": [
    "a) 3/4  \n",
    "b) 1/2  \n",
    "c) 1/4  \n",
    "d) 3/7"
   ]
  },
  {
   "cell_type": "markdown",
   "id": "12d8b69c",
   "metadata": {},
   "source": [
    "19. An orange or a mango"
   ]
  },
  {
   "cell_type": "markdown",
   "id": "988c766a",
   "metadata": {},
   "source": [
    "a) 3/4  \n",
    "b) 1/6  \n",
    "c) 1/2  \n",
    "d) 1/4"
   ]
  },
  {
   "cell_type": "markdown",
   "id": "de29cba8",
   "metadata": {},
   "source": [
    "20. A pineapple"
   ]
  },
  {
   "cell_type": "markdown",
   "id": "e21eef50",
   "metadata": {},
   "source": [
    "a) 1/12  \n",
    "b) 1/2  \n",
    "c) -1  \n",
    "d) 0"
   ]
  },
  {
   "cell_type": "markdown",
   "id": "d745fc6e",
   "metadata": {},
   "source": [
    " "
   ]
  },
  {
   "cell_type": "markdown",
   "id": "f7f017b5",
   "metadata": {},
   "source": [
    " "
   ]
  },
  {
   "cell_type": "markdown",
   "id": "06aabe2d",
   "metadata": {},
   "source": [
    " "
   ]
  },
  {
   "cell_type": "markdown",
   "id": "b3b799c3",
   "metadata": {},
   "source": [
    " "
   ]
  },
  {
   "cell_type": "markdown",
   "id": "64471d79",
   "metadata": {},
   "source": [
    " "
   ]
  },
  {
   "cell_type": "markdown",
   "id": "686bbf37",
   "metadata": {},
   "source": [
    " "
   ]
  },
  {
   "cell_type": "markdown",
   "id": "327c1af9",
   "metadata": {},
   "source": [
    " "
   ]
  },
  {
   "cell_type": "markdown",
   "id": "2bc289de",
   "metadata": {},
   "source": [
    "### THEORY"
   ]
  },
  {
   "cell_type": "markdown",
   "id": "bfc672ad",
   "metadata": {},
   "source": [
    "# 1"
   ]
  },
  {
   "cell_type": "markdown",
   "id": "5fc29144",
   "metadata": {},
   "source": [
    "A fair die is thrown twice. Calculate the probability of  \n",
    "a. getting two 6s  \n",
    "b. getting a 3 or a 5  \n",
    "c. not getting a 4  "
   ]
  },
  {
   "cell_type": "markdown",
   "id": "9b3bfddf",
   "metadata": {},
   "source": [
    "# 2"
   ]
  },
  {
   "cell_type": "code",
   "execution_count": 167,
   "id": "90532e53",
   "metadata": {},
   "outputs": [
    {
     "data": {
      "text/html": [
       "<div>\n",
       "<style scoped>\n",
       "    .dataframe tbody tr th:only-of-type {\n",
       "        vertical-align: middle;\n",
       "    }\n",
       "\n",
       "    .dataframe tbody tr th {\n",
       "        vertical-align: top;\n",
       "    }\n",
       "\n",
       "    .dataframe thead th {\n",
       "        text-align: right;\n",
       "    }\n",
       "</style>\n",
       "<table border=\"1\" class=\"dataframe\">\n",
       "  <thead>\n",
       "    <tr style=\"text-align: right;\">\n",
       "      <th></th>\n",
       "      <th>x</th>\n",
       "      <th>f</th>\n",
       "      <th>x - _x</th>\n",
       "      <th>(x - _x)^2</th>\n",
       "      <th>f(x - _x)^2</th>\n",
       "    </tr>\n",
       "  </thead>\n",
       "  <tbody>\n",
       "    <tr>\n",
       "      <th>0</th>\n",
       "      <td>2</td>\n",
       "      <td>3</td>\n",
       "      <td>-2.0</td>\n",
       "      <td>4.0</td>\n",
       "      <td>12.0</td>\n",
       "    </tr>\n",
       "    <tr>\n",
       "      <th>1</th>\n",
       "      <td>3</td>\n",
       "      <td>1</td>\n",
       "      <td>-1.0</td>\n",
       "      <td>1.0</td>\n",
       "      <td>1.0</td>\n",
       "    </tr>\n",
       "    <tr>\n",
       "      <th>2</th>\n",
       "      <td>5</td>\n",
       "      <td>2</td>\n",
       "      <td>1.0</td>\n",
       "      <td>1.0</td>\n",
       "      <td>2.0</td>\n",
       "    </tr>\n",
       "    <tr>\n",
       "      <th>3</th>\n",
       "      <td>6</td>\n",
       "      <td>1</td>\n",
       "      <td>2.0</td>\n",
       "      <td>4.0</td>\n",
       "      <td>4.0</td>\n",
       "    </tr>\n",
       "    <tr>\n",
       "      <th>4</th>\n",
       "      <td>7</td>\n",
       "      <td>1</td>\n",
       "      <td>3.0</td>\n",
       "      <td>9.0</td>\n",
       "      <td>9.0</td>\n",
       "    </tr>\n",
       "  </tbody>\n",
       "</table>\n",
       "</div>"
      ],
      "text/plain": [
       "   x  f  x - _x  (x - _x)^2  f(x - _x)^2\n",
       "0  2  3    -2.0         4.0         12.0\n",
       "1  3  1    -1.0         1.0          1.0\n",
       "2  5  2     1.0         1.0          2.0\n",
       "3  6  1     2.0         4.0          4.0\n",
       "4  7  1     3.0         9.0          9.0"
      ]
     },
     "execution_count": 167,
     "metadata": {},
     "output_type": "execute_result"
    }
   ],
   "source": [
    "data = {2:3, 3:1, 5:2, 6:1, 7:1}\n",
    "_x = mean(data)\n",
    "_x = np.float64(_x) # To allow subtracting value from list (next line)\n",
    "diff = list(data.keys()) - _x\n",
    "diff_squared = diff * diff\n",
    "f = list(data.values())\n",
    "f_diff_squared = f * diff_squared\n",
    "s = pd.DataFrame({'x': data.keys(),\n",
    "                  'f': f,\n",
    "                 'x - _x': diff,\n",
    "                  '(x - _x)^2': diff_squared,\n",
    "                  'f(x - _x)^2': f_diff_squared\n",
    "                 })\n",
    "s"
   ]
  },
  {
   "cell_type": "code",
   "execution_count": 92,
   "id": "a6b9f498",
   "metadata": {},
   "outputs": [
    {
     "data": {
      "text/plain": [
       "28.0"
      ]
     },
     "execution_count": 92,
     "metadata": {},
     "output_type": "execute_result"
    }
   ],
   "source": [
    "sum(f_diff_squared)"
   ]
  },
  {
   "cell_type": "markdown",
   "id": "e5965d1d",
   "metadata": {},
   "source": [
    "# 3"
   ]
  },
  {
   "cell_type": "markdown",
   "id": "7b83c9bd",
   "metadata": {},
   "source": [
    "Complete the table below  "
   ]
  },
  {
   "cell_type": "markdown",
   "id": "a7f7c1c1",
   "metadata": {},
   "source": [
    "Class Intervals | $f$ | Class Boundaries | Class Width | Class Mark\n",
    "---|---|---|---|---\n",
    "55-59|3\n",
    "60-64|1\n",
    "65-69|2\n",
    "70-74|1\n",
    "75-79|1"
   ]
  },
  {
   "cell_type": "code",
   "execution_count": 165,
   "id": "ad3b36e6",
   "metadata": {},
   "outputs": [
    {
     "data": {
      "text/html": [
       "<div>\n",
       "<style scoped>\n",
       "    .dataframe tbody tr th:only-of-type {\n",
       "        vertical-align: middle;\n",
       "    }\n",
       "\n",
       "    .dataframe tbody tr th {\n",
       "        vertical-align: top;\n",
       "    }\n",
       "\n",
       "    .dataframe thead th {\n",
       "        text-align: right;\n",
       "    }\n",
       "</style>\n",
       "<table border=\"1\" class=\"dataframe\">\n",
       "  <thead>\n",
       "    <tr style=\"text-align: right;\">\n",
       "      <th></th>\n",
       "      <th>Class Intervals</th>\n",
       "      <th>f</th>\n",
       "      <th>Class boundaries</th>\n",
       "      <th>Class Width</th>\n",
       "      <th>Class Mark</th>\n",
       "    </tr>\n",
       "  </thead>\n",
       "  <tbody>\n",
       "    <tr>\n",
       "      <th>0</th>\n",
       "      <td>1 - 3</td>\n",
       "      <td>4</td>\n",
       "      <td>0.5 - 3.5</td>\n",
       "      <td>3.0</td>\n",
       "      <td>2.0</td>\n",
       "    </tr>\n",
       "    <tr>\n",
       "      <th>1</th>\n",
       "      <td>4 - 6</td>\n",
       "      <td>1</td>\n",
       "      <td>3.5 - 6.5</td>\n",
       "      <td>3.0</td>\n",
       "      <td>5.0</td>\n",
       "    </tr>\n",
       "    <tr>\n",
       "      <th>2</th>\n",
       "      <td>7 - 9</td>\n",
       "      <td>5</td>\n",
       "      <td>6.5 - 9.5</td>\n",
       "      <td>3.0</td>\n",
       "      <td>8.0</td>\n",
       "    </tr>\n",
       "    <tr>\n",
       "      <th>3</th>\n",
       "      <td>10 - 12</td>\n",
       "      <td>3</td>\n",
       "      <td>9.5 - 12.5</td>\n",
       "      <td>3.0</td>\n",
       "      <td>11.0</td>\n",
       "    </tr>\n",
       "    <tr>\n",
       "      <th>4</th>\n",
       "      <td>13 - 15</td>\n",
       "      <td>2</td>\n",
       "      <td>12.5 - 15.5</td>\n",
       "      <td>3.0</td>\n",
       "      <td>14.0</td>\n",
       "    </tr>\n",
       "  </tbody>\n",
       "</table>\n",
       "</div>"
      ],
      "text/plain": [
       "  Class Intervals  f Class boundaries  Class Width  Class Mark\n",
       "0           1 - 3  4        0.5 - 3.5          3.0         2.0\n",
       "1           4 - 6  1        3.5 - 6.5          3.0         5.0\n",
       "2           7 - 9  5        6.5 - 9.5          3.0         8.0\n",
       "3         10 - 12  3       9.5 - 12.5          3.0        11.0\n",
       "4         13 - 15  2      12.5 - 15.5          3.0        14.0"
      ]
     },
     "execution_count": 165,
     "metadata": {},
     "output_type": "execute_result"
    }
   ],
   "source": [
    "class_intervals = [[1,3], [4,6], [7,9], [10,12], [13,15]]\n",
    "f = [4, 1, 5, 3, 2]\n",
    "N = len(class_intervals)\n",
    "p = (class_intervals[1][0] - class_intervals[0][1]) / 2\n",
    "pMatrix = [[[-p, p]] * 5]\n",
    "class_boundaries = np.add(class_intervals, pMatrix)\n",
    "class_boundaries = np.reshape(class_boundaries, (5, 2))\n",
    "width = [i[1] - i[0] for i in class_boundaries]\n",
    "class_mark = [(i[1] + i[0]) / 2 for i in class_boundaries]\n",
    "s = pd.DataFrame({'Class Intervals': [str(i[0])+ \" - \" +(str(i[1])) for i in class_intervals],\n",
    "                  'f': f,\n",
    "                  'Class boundaries': [str(i[0])+ \" - \" +(str(i[1])) for i in class_boundaries],\n",
    "                  'Class Width': width,\n",
    "                 'Class Mark': class_mark,\n",
    "                 })\n",
    "s"
   ]
  },
  {
   "cell_type": "markdown",
   "id": "dd1b3697",
   "metadata": {},
   "source": [
    " "
   ]
  },
  {
   "cell_type": "markdown",
   "id": "8c504dd1",
   "metadata": {},
   "source": [
    " "
   ]
  },
  {
   "cell_type": "markdown",
   "id": "ba02c314",
   "metadata": {},
   "source": [
    " "
   ]
  },
  {
   "cell_type": "markdown",
   "id": "4cd94463",
   "metadata": {},
   "source": [
    " "
   ]
  },
  {
   "cell_type": "markdown",
   "id": "9d8a42c5",
   "metadata": {},
   "source": [
    " "
   ]
  },
  {
   "cell_type": "markdown",
   "id": "44d3b0f3",
   "metadata": {},
   "source": [
    " "
   ]
  },
  {
   "cell_type": "markdown",
   "id": "3774bbc6",
   "metadata": {},
   "source": [
    "Class Intervals | $f$ | Class Boundaries | Class Width| Class Mark \n",
    "---|---|---|---|---\n",
    "55-59|3\n",
    "60-64|1\n",
    "65-69|2\n",
    "70-74|1\n",
    "75-79|1"
   ]
  },
  {
   "cell_type": "code",
   "execution_count": 284,
   "id": "ae51647c",
   "metadata": {},
   "outputs": [
    {
     "data": {
      "text/html": [
       "<div>\n",
       "<style scoped>\n",
       "    .dataframe tbody tr th:only-of-type {\n",
       "        vertical-align: middle;\n",
       "    }\n",
       "\n",
       "    .dataframe tbody tr th {\n",
       "        vertical-align: top;\n",
       "    }\n",
       "\n",
       "    .dataframe thead th {\n",
       "        text-align: right;\n",
       "    }\n",
       "</style>\n",
       "<table border=\"1\" class=\"dataframe\">\n",
       "  <thead>\n",
       "    <tr style=\"text-align: right;\">\n",
       "      <th></th>\n",
       "      <th>Class Intervals</th>\n",
       "      <th>f</th>\n",
       "      <th>Class boundaries</th>\n",
       "      <th>Class Width</th>\n",
       "      <th>Class Mark</th>\n",
       "      <th>Cumulative Freq</th>\n",
       "    </tr>\n",
       "  </thead>\n",
       "  <tbody>\n",
       "    <tr>\n",
       "      <th>0</th>\n",
       "      <td>0 - 2</td>\n",
       "      <td>3</td>\n",
       "      <td>0.0 - 2.0</td>\n",
       "      <td>2.0</td>\n",
       "      <td>1.0</td>\n",
       "      <td>3</td>\n",
       "    </tr>\n",
       "    <tr>\n",
       "      <th>1</th>\n",
       "      <td>2 - 4</td>\n",
       "      <td>2</td>\n",
       "      <td>2.0 - 4.0</td>\n",
       "      <td>2.0</td>\n",
       "      <td>3.0</td>\n",
       "      <td>5</td>\n",
       "    </tr>\n",
       "    <tr>\n",
       "      <th>2</th>\n",
       "      <td>4 - 6</td>\n",
       "      <td>5</td>\n",
       "      <td>4.0 - 6.0</td>\n",
       "      <td>2.0</td>\n",
       "      <td>5.0</td>\n",
       "      <td>10</td>\n",
       "    </tr>\n",
       "    <tr>\n",
       "      <th>3</th>\n",
       "      <td>6 - 8</td>\n",
       "      <td>4</td>\n",
       "      <td>6.0 - 8.0</td>\n",
       "      <td>2.0</td>\n",
       "      <td>7.0</td>\n",
       "      <td>14</td>\n",
       "    </tr>\n",
       "    <tr>\n",
       "      <th>4</th>\n",
       "      <td>8 - 10</td>\n",
       "      <td>1</td>\n",
       "      <td>8.0 - 10.0</td>\n",
       "      <td>2.0</td>\n",
       "      <td>9.0</td>\n",
       "      <td>15</td>\n",
       "    </tr>\n",
       "  </tbody>\n",
       "</table>\n",
       "</div>"
      ],
      "text/plain": [
       "  Class Intervals  f Class boundaries  Class Width  Class Mark  \\\n",
       "0           0 - 2  3        0.0 - 2.0          2.0         1.0   \n",
       "1           2 - 4  2        2.0 - 4.0          2.0         3.0   \n",
       "2           4 - 6  5        4.0 - 6.0          2.0         5.0   \n",
       "3           6 - 8  4        6.0 - 8.0          2.0         7.0   \n",
       "4          8 - 10  1       8.0 - 10.0          2.0         9.0   \n",
       "\n",
       "   Cumulative Freq  \n",
       "0                3  \n",
       "1                5  \n",
       "2               10  \n",
       "3               14  \n",
       "4               15  "
      ]
     },
     "execution_count": 284,
     "metadata": {},
     "output_type": "execute_result"
    }
   ],
   "source": [
    "class_intervals = [[0,2], [2,4], [4,6], [6,8], [8,10]]\n",
    "f = [3, 2, 5, 4, 1]\n",
    "N = len(class_intervals)\n",
    "p = (class_intervals[1][0] - class_intervals[0][1]) / 2\n",
    "pMatrix = [[[-p, p]] * 5]\n",
    "class_boundaries = np.add(class_intervals, pMatrix)\n",
    "class_boundaries = np.reshape(class_boundaries, (5, 2))\n",
    "class_width = [i[1] - i[0] for i in class_boundaries]\n",
    "class_mark = [(i[1] + i[0]) / 2 for i in class_boundaries]\n",
    "cum_freq = np.cumsum(f)\n",
    "s = pd.DataFrame({'Class Intervals': [str(i[0])+ \" - \" +(str(i[1])) for i in class_intervals],\n",
    "                  'f': f,\n",
    "                  'Class boundaries': [str(i[0])+ \" - \" +(str(i[1])) for i in class_boundaries],\n",
    "                  'Class Width': class_width,\n",
    "                 'Class Mark': class_mark,\n",
    "                  'Cumulative Freq': cum_freq\n",
    "                 })\n",
    "s"
   ]
  },
  {
   "cell_type": "markdown",
   "id": "39160ff9",
   "metadata": {},
   "source": [
    "Given the data above,"
   ]
  },
  {
   "cell_type": "markdown",
   "id": "43e3bf54",
   "metadata": {},
   "source": [
    "# 4"
   ]
  },
  {
   "cell_type": "markdown",
   "id": "cf64e114",
   "metadata": {},
   "source": [
    "Draw the  \n",
    "i. histogram  \n",
    "ii. Frequency polygon"
   ]
  },
  {
   "cell_type": "markdown",
   "id": "366b3d5d",
   "metadata": {},
   "source": [
    "# 5"
   ]
  },
  {
   "cell_type": "markdown",
   "id": "1674e67e",
   "metadata": {},
   "source": [
    "find the  \n",
    "a. mode  \n",
    "b. median  \n",
    "using either the graphical method, or formula"
   ]
  },
  {
   "cell_type": "code",
   "execution_count": 208,
   "id": "f63cfb15",
   "metadata": {},
   "outputs": [],
   "source": [
    "import matplotlib.pyplot as plt"
   ]
  },
  {
   "cell_type": "markdown",
   "id": "ab69e14c",
   "metadata": {},
   "source": [
    "Median = 5"
   ]
  },
  {
   "cell_type": "markdown",
   "id": "92eddd1b",
   "metadata": {},
   "source": [
    "L = 4  \n",
    "i = 2  \n",
    "$f_m$ = 5  \n",
    "N = 15  \n",
    "$\\Sigma  \n",
    "f$ = 5"
   ]
  },
  {
   "cell_type": "markdown",
   "id": "dd77c2f1",
   "metadata": {},
   "source": [
    "Mode = 5.5"
   ]
  },
  {
   "cell_type": "code",
   "execution_count": 285,
   "id": "1a98338e",
   "metadata": {},
   "outputs": [
    {
     "data": {
      "image/png": "[encoded data removed]",
      "text/plain": [
       "<Figure size 432x288 with 1 Axes>"
      ]
     },
     "metadata": {
      "needs_background": "light"
     },
     "output_type": "display_data"
    }
   ],
   "source": [
    "#n, bins, patches = plt.hist(x, 50, density=True, facecolor='g', alpha=0.75)\n",
    "x = [i[1] for i in class_intervals]\n",
    "mid_freq = sum(f) / 2\n",
    "plt.plot(x, np.cumsum(f), label='linear')\n",
    "plt.stem(5, mid_freq)\n",
    "plt.stem([i[0] for i in class_intervals], f)\n",
    "plt.stem([i[1] for i in class_intervals], f)\n",
    "plt.stem(5.5, 4)\n",
    "plt.plot([4, 6], [5, 4], label='linear')\n",
    "plt.plot([4, 6], [2, 5], label='linear')\n",
    "plt.bar(class_mark, f, width=class_width, alpha=0.4)\n",
    "plt.xlabel('x label')\n",
    "plt.ylabel('y label')\n",
    "plt.title(\"Simple Plot\")\n",
    "plt.legend()\n",
    "plt.show()"
   ]
  },
  {
   "cell_type": "code",
   "execution_count": 235,
   "id": "acd20c69",
   "metadata": {},
   "outputs": [
    {
     "data": {
      "text/plain": [
       "array([-0.4508284 , -0.38610785, -0.61493367, ..., -1.41830309,\n",
       "       -0.33012729, -0.27677458])"
      ]
     },
     "execution_count": 235,
     "metadata": {},
     "output_type": "execute_result"
    }
   ],
   "source": [
    "np.random.randn(10000)"
   ]
  },
  {
   "cell_type": "code",
   "execution_count": null,
   "id": "61712b68",
   "metadata": {},
   "outputs": [],
   "source": []
  }
 ],
 "metadata": {
  "kernelspec": {
   "display_name": "Python 3 (ipykernel)",
   "language": "python",
   "name": "python3"
  },
  "language_info": {
   "codemirror_mode": {
    "name": "ipython",
    "version": 3
   },
   "file_extension": ".py",
   "mimetype": "text/x-python",
   "name": "python",
   "nbconvert_exporter": "python",
   "pygments_lexer": "ipython3",
   "version": "3.9.6"
  }
 },
 "nbformat": 4,
 "nbformat_minor": 5
}
