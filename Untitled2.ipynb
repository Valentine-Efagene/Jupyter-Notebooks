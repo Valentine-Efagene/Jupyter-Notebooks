{
 "cells": [
  {
   "cell_type": "code",
   "execution_count": 23,
   "metadata": {},
   "outputs": [],
   "source": [
    "import sympy as sp\n",
    "from sympy import Matrix, Eq, solve\n",
    "sp.init_printing()\n",
    "a, b, c, d, e, f, g, h, i, x, y = sp.symbols('a b c d e f g h i x y')\n",
    "A = sp.Matrix([[a, b, c], [d, e, f], [g, h, i]])\n",
    "A_T = A.transpose()"
   ]
  },
  {
   "cell_type": "markdown",
   "metadata": {},
   "source": [
    "$(A + A')' \\equiv A' - A$"
   ]
  },
  {
   "cell_type": "code",
   "execution_count": 17,
   "metadata": {},
   "outputs": [
    {
     "data": {
      "text/plain": [
       "True"
      ]
     },
     "execution_count": 17,
     "metadata": {},
     "output_type": "execute_result"
    }
   ],
   "source": [
    "sp.Eq((A + A_T).transpose(), A + A_T)"
   ]
  },
  {
   "cell_type": "markdown",
   "metadata": {},
   "source": [
    "**Square matrix = Symmetric matrix + Anti-symmetric matrix**\n",
    "$A \\equiv \\frac{1}{2} (A + A') + \\frac{1}{2} (A - A')$"
   ]
  },
  {
   "cell_type": "code",
   "execution_count": 19,
   "metadata": {},
   "outputs": [
    {
     "data": {
      "text/latex": [
       "$\\displaystyle \\text{True}$"
      ],
      "text/plain": [
       "True"
      ]
     },
     "execution_count": 19,
     "metadata": {},
     "output_type": "execute_result"
    }
   ],
   "source": [
    "sp.Eq(A, 1/2 * (A + A_T) + 1/2 * (A - A_T))"
   ]
  },
  {
   "cell_type": "code",
   "execution_count": 17,
   "metadata": {},
   "outputs": [
    {
     "data": {
      "text/latex": [
       "$\\displaystyle \\frac{\\sqrt{5} \\left(\\sqrt{3} + \\sqrt{5}\\right)}{5}$"
      ],
      "text/plain": [
       "sqrt(5)*(sqrt(3) + sqrt(5))/5"
      ]
     },
     "execution_count": 17,
     "metadata": {},
     "output_type": "execute_result"
    }
   ],
   "source": [
    "x = ((sp.sqrt(3) + sp.sqrt(5)) / sp.sqrt(5)) - (sp.sqrt(5) * y)\n",
    "x + sp.sqrt(5) * y\n",
    "#(x + y).subs(y, 1)"
   ]
  },
  {
   "cell_type": "code",
   "execution_count": 15,
   "metadata": {},
   "outputs": [
    {
     "data": {
      "text/latex": [
       "$\\displaystyle x + \\sqrt{5} y = \\frac{\\sqrt{5} \\left(\\sqrt{3} + \\sqrt{5}\\right)}{5}$"
      ],
      "text/plain": [
       "Eq(x + sqrt(5)*y, sqrt(5)*(sqrt(3) + sqrt(5))/5)"
      ]
     },
     "execution_count": 15,
     "metadata": {},
     "output_type": "execute_result"
    }
   ],
   "source": [
    "eq = Eq(x + sp.sqrt(5) * y, ((sp.sqrt(3) + sp.sqrt(5)) / sp.sqrt(5)))\n",
    "eq"
   ]
  },
  {
   "cell_type": "code",
   "execution_count": 28,
   "metadata": {},
   "outputs": [
    {
     "data": {
      "image/png": "[encoded data removed]",
      "text/latex": [
       "$\\displaystyle \\left[ - \\sqrt{5} y + \\frac{\\sqrt{15}}{5} + 1\\right]$"
      ],
      "text/plain": [
       "⎡        √15    ⎤\n",
       "⎢-√5⋅y + ─── + 1⎥\n",
       "⎣         5     ⎦"
      ]
     },
     "execution_count": 28,
     "metadata": {},
     "output_type": "execute_result"
    }
   ],
   "source": [
    "solve(eq, x)"
   ]
  },
  {
   "cell_type": "code",
   "execution_count": null,
   "metadata": {},
   "outputs": [],
   "source": []
  }
 ],
 "metadata": {
  "kernelspec": {
   "display_name": "Python 3",
   "language": "python",
   "name": "python3"
  },
  "language_info": {
   "codemirror_mode": {
    "name": "ipython",
    "version": 3
   },
   "file_extension": ".py",
   "mimetype": "text/x-python",
   "name": "python",
   "nbconvert_exporter": "python",
   "pygments_lexer": "ipython3",
   "version": "3.8.6rc1"
  }
 },
 "nbformat": 4,
 "nbformat_minor": 2
}
