{
 "cells": [
  {
   "cell_type": "code",
   "execution_count": 16,
   "metadata": {},
   "outputs": [
    {
     "ename": "IndentationError",
     "evalue": "unindent does not match any outer indentation level (<tokenize>, line 5)",
     "output_type": "error",
     "traceback": [
      "\u001b[1;36m  File \u001b[1;32m\"<tokenize>\"\u001b[1;36m, line \u001b[1;32m5\u001b[0m\n\u001b[1;33m    env.record_stop('vpython_video.mp4', save_fps=25)\u001b[0m\n\u001b[1;37m    ^\u001b[0m\n\u001b[1;31mIndentationError\u001b[0m\u001b[1;31m:\u001b[0m unindent does not match any outer indentation level\n"
     ]
    }
   ],
   "source": [
    "env.record_start(5)  # Record at 5 fps\n",
    "     for q in qt.q:\n",
    "         time.sleep(1/5)\n",
    "         env.step(puma, q=q)\n",
    "    env.record_stop('vpython_video.mp4', save_fps=25)"
   ]
  },
  {
   "cell_type": "code",
   "execution_count": null,
   "metadata": {},
   "outputs": [],
   "source": [
    "'''import roboticstoolbox as rtb\n",
    "from roboticstoolbox.backends import PyPlot\n",
    "\n",
    "robot = rtb.models.DH.Panda()  # create a robot\n",
    "\n",
    "#pyplot = rtb.backends.PyPlot()  # create a PyPlot backend\n",
    "pyplot = PyPlot.PyPlot()\n",
    "pyplot.add(robot)              # add the robot to the backend\n",
    "robot.q = robot.qz             # set the robot configuration\n",
    "pyplot.step()                  # update the backend and graphical view\n",
    "'''\n",
    "from roboticstoolbox.backends import swift  # instantiate 3D browser-based visualizer\n",
    "from roboticstoolbox.backends import PyPlot\n",
    "from roboticstoolbox.backends import VPython\n",
    "import roboticstoolbox as rtb\n",
    "from spatialmath import SE3\n",
    "\n",
    "robot = rtb.models.DH.Panda()\n",
    "T = SE3(0.7, 0.2, 0.1) * SE3.OA([0, 1, 0], [0, 0, -1])\n",
    "sol = robot.ikine_LM(T)         # solve IK\n",
    "print(sol)\n",
    "\n",
    "q_pickup = sol.q\n",
    "print(robot.fkine(q_pickup))\n",
    "print(robot)\n",
    "qt = rtb.jtraj(robot.qz, q_pickup, 50)\n",
    "# backend = rtb.backends.Swift()   # create a Swift backend Failed\n",
    "backend = swift.Swift()  # Worked,butnotonnotebook\n",
    "#backend = PyPlot.PyPlot()  # Works,butnotonnotebook\n",
    "# backend = VPython.VPython()  # Worked\n",
    "backend.launch()            # activate it\n",
    "backend.add(robot)          # add robot to the 3D scene\n",
    "\n",
    "for qk in qt.q:             # for each joint configuration on trajectory\n",
    "    robot.q = qk          # update the robot state\n",
    "    backend.step()        # update visualization\n"
   ]
  },
  {
   "cell_type": "code",
   "execution_count": null,
   "metadata": {},
   "outputs": [],
   "source": []
  }
 ],
 "metadata": {
  "kernelspec": {
   "display_name": "Python 3 (ipykernel)",
   "language": "python",
   "name": "python3"
  },
  "language_info": {
   "codemirror_mode": {
    "name": "ipython",
    "version": 3
   },
   "file_extension": ".py",
   "mimetype": "text/x-python",
   "name": "python",
   "nbconvert_exporter": "python",
   "pygments_lexer": "ipython3",
   "version": "3.9.6"
  }
 },
 "nbformat": 4,
 "nbformat_minor": 4
}
