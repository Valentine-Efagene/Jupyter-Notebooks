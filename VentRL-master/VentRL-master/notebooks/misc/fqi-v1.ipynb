{
 "cells": [
  {
   "cell_type": "code",
   "execution_count": 1,
   "metadata": {
    "collapsed": false
   },
   "outputs": [
    {
     "name": "stdout",
     "output_type": "stream",
     "text": [
      "Populating the interactive namespace from numpy and matplotlib\n"
     ]
    }
   ],
   "source": [
    "%pylab inline\n",
    "import pandas as pd\n",
    "import time\n",
    "#import numpy as np\n",
    "import pickle\n",
    "import joblib\n",
    "import copy as cp\n",
    "from joblib import Parallel, delayed\n",
    "import os\n",
    "import csv\n",
    "from pandas import *\n",
    "import datetime as dt\n",
    "from datetime import date, datetime, timedelta\n",
    "from sklearn import svm, preprocessing\n",
    "from collections import Counter\n",
    "from sklearn import linear_model as lm\n",
    "import math as math\n",
    "import seaborn as sns\n",
    "from sklearn.preprocessing import StandardScaler\n",
    "from sklearn.metrics import roc_curve, auc, precision_recall_curve\n",
    "from ggplot import *\n",
    "from sklearn.linear_model import SGDRegressor\n",
    "from scipy import stats\n",
    "from scipy.stats import binned_statistic, binned_statistic_dd\n",
    "from sklearn.preprocessing import StandardScaler  \n",
    "from sklearn.neural_network import MLPRegressor, MLPClassifier\n",
    "from sklearn.ensemble import ExtraTreesRegressor, ExtraTreesClassifier\n",
    "\n",
    "plt.style.use('seaborn-white')\n",
    "pandas.set_option('display.max_columns', None)"
   ]
  },
  {
   "cell_type": "code",
   "execution_count": 2,
   "metadata": {
    "collapsed": true
   },
   "outputs": [],
   "source": [
    "feats = ['Admit Type', 'Ethnicity', 'Gender', 'Age', 'Weight', \n",
    "         'Heart Rate', 'Respiratory Rate','$O_2$ saturation pulseoxymetry', 'NI Blood Pressure (Mean)', \n",
    "        '$O_2$ Flow', 'Inspired $O_2$ Fraction', 'Arterial $CO_2$ Pressure', 'Arterial pH', 'Arterial $O_2$ pressure', \n",
    "        'Mean Airway Pressure', 'Ventilator Mode', 'Peak Insp. Pressure', 'Plateau Pressure', 'Minute Volume', \n",
    "        'Tidal Volume', 'PEEP set', 'Creatinine', 'Hematocrit', 'Blood Urea Nitrogen (BUN)',\n",
    "         'Fentanyl (Concentrate)', 'Midazolam (Versed)', 'Propofol','Fentanyl', 'Dexmedetomidine (Precedex)', \n",
    "        'Morphine Sulfate','Hydromorphone (Dilaudid)', 'Lorazepam (Ativan)',\n",
    "        'Duration', 'Intubations']"
   ]
  },
  {
   "cell_type": "code",
   "execution_count": 3,
   "metadata": {
    "collapsed": true
   },
   "outputs": [],
   "source": [
    "with open(\"pickles/preppedBaseFrames2.pkl\",'rb') as f: \n",
    "    allSamples2, hadmsList, currStates, nextStates, actions, rewards = pickle.load(f)\n",
    "\n",
    "allSamples = {}\n",
    "for i in range(len(allSamples2)):\n",
    "    h = allSamples2[i]['hadm']\n",
    "    allSamples[h] = allSamples2[i]"
   ]
  },
  {
   "cell_type": "code",
   "execution_count": 4,
   "metadata": {
    "collapsed": false
   },
   "outputs": [],
   "source": [
    "currStates = np.concatenate(currStates)\n",
    "nextStates = np.concatenate(nextStates)\n",
    "ventActions = np.transpose(actions)[0]\n",
    "inputActions = np.transpose(actions)[9]\n",
    "inputActionsign = (sign(inputActions))\n",
    "hadms = unique(hadmsList)\n",
    "scaler = StandardScaler() \n",
    "scaler.fit(currStates)\n",
    "currStatesScaled = scaler.transform(currStates)\n",
    "nextStatesScaled = scaler.transform(nextStates)"
   ]
  },
  {
   "cell_type": "code",
   "execution_count": 5,
   "metadata": {
    "collapsed": false
   },
   "outputs": [],
   "source": [
    "allsums = ([sum([0.2, 0.5, 0.1, 0.2, 0.1, 0.1, 1, 1] * np.transpose((np.transpose(currStatesScaled)[24:32]))[i]) \n",
    "            for i in range(len(currStates))])\n",
    "bins = np.array([-1000.0, -0.8, -0.4, -0.2, 0, 0.2, 0.4, 0.8, 1000.0])\n",
    "inds = np.digitize(allsums, bins)\n",
    "sedActions = inds\n",
    "#for n in range(179):\n",
    "#    print bins[inds[n]-1], \"<=\", allsums[n], \"<\", bins[inds[n]] "
   ]
  },
  {
   "cell_type": "code",
   "execution_count": 6,
   "metadata": {
    "collapsed": false,
    "scrolled": true
   },
   "outputs": [],
   "source": [
    "#feats[24:32]\n",
    "changepoints = zeros(len(hadmsList))\n",
    "for i in range(1,len(hadmsList)):\n",
    "    if hadmsList[i] != hadmsList[i-1]:\n",
    "        changepoints[i] = 1\n",
    "st = 0\n",
    "for ed in np.concatenate(np.where(changepoints!=0))[0:10]:\n",
    "    sums = ([sum([0.2, 0.5, 0.1, 0.2, 0.1, 0.1, 1, 1] * np.transpose((np.transpose(currStatesScaled)[24:32]))[i]) \n",
    "             for i in range(st,ed)])\n",
    "    st = ed\n",
    "    #print ed, max(sums) - min(sums)\n",
    "    #plot(sums)\n",
    "    #figure()"
   ]
  },
  {
   "cell_type": "code",
   "execution_count": 7,
   "metadata": {
    "collapsed": false
   },
   "outputs": [
    {
     "data": {
      "text/plain": [
       "array([ 179,  366,  460,  507,  877,  989, 1219, 1249, 1278, 1311])"
      ]
     },
     "execution_count": 7,
     "metadata": {},
     "output_type": "execute_result"
    }
   ],
   "source": [
    "np.concatenate(np.where(changepoints!=0))[0:10]"
   ]
  },
  {
   "cell_type": "code",
   "execution_count": 8,
   "metadata": {
    "collapsed": true
   },
   "outputs": [],
   "source": [
    "############ FQI\n",
    "\n",
    "# Hacks:\n",
    "# 1. \"Countersamples\" with negative reward for vent=off in the first 5 hours\n",
    "# 2. Upweight true samples from vent=off so these are often seen\n",
    "# 3. Feature subset 0:24, 34 (excludes sedative dosages) --- explore with REM-style experiments?\n",
    "# 4. Runs with just possible actions [0,1] (vent actions)\n",
    "# 5. Setting discount factor"
   ]
  },
  {
   "cell_type": "code",
   "execution_count": 12,
   "metadata": {
    "collapsed": false
   },
   "outputs": [],
   "source": [
    "counterActions = [(0,0), (0,1), (0,-1)]\n",
    "counterStates = []\n",
    "counterNext = []\n",
    "for h in hadms[:1500]:\n",
    "    for s in range(len(allSamples[h]['currStates'])):\n",
    "        dur =  np.concatenate(allSamples[h]['currStates'][s])[32]\n",
    "        vent =  (allSamples[h]['actions'][s])[0]\n",
    "        if dur > 0 and dur <= 6 and vent == 1:\n",
    "            #print np.concatenate(allSamples[h]['currStates'][s])[32], (allSamples[h]['actions'][s])[0]\n",
    "            counterStates.append(allSamples[h]['currStates'][s])\n",
    "            counterNext.append(allSamples[h]['nextStates'][s])\n",
    "counterRewards = np.ones((len(counterStates),1)) *-1.5\n",
    "counterSamples = np.hstack([scaler.transform(np.concatenate(counterStates)), np.zeros((len(counterStates),1))])\n"
   ]
  },
  {
   "cell_type": "code",
   "execution_count": 13,
   "metadata": {
    "collapsed": true
   },
   "outputs": [],
   "source": [
    "# for 6 actions\n",
    "counterSamples = np.vstack([np.hstack([scaler.transform(np.concatenate(counterStates)), np.ones((len(counterStates),2)) *counterActions[0]]), \n",
    "np.hstack([scaler.transform(np.concatenate(counterStates)), np.ones((len(counterStates),2)) *counterActions[1]]),\n",
    "np.hstack([scaler.transform(np.concatenate(counterStates)), np.ones((len(counterStates),2)) *counterActions[2]])])\n",
    "counterNext = (np.vstack([counterNext, counterNext, counterNext]))\n",
    "counterRewards = np.ones((len(counterStates)*3,1)) *-1.5\n",
    "counterSamples = np.hstack([scaler.transform(np.concatenate(counterStates)), np.zeros((len(counterStates),1))])\n",
    "counteractions = np.zeros(len(counterSamples))"
   ]
  },
  {
   "cell_type": "code",
   "execution_count": 14,
   "metadata": {
    "collapsed": false
   },
   "outputs": [
    {
     "data": {
      "text/plain": [
       "9840"
      ]
     },
     "execution_count": 14,
     "metadata": {},
     "output_type": "execute_result"
    }
   ],
   "source": [
    "len(counterSamples)"
   ]
  },
  {
   "cell_type": "code",
   "execution_count": 15,
   "metadata": {
    "collapsed": false
   },
   "outputs": [
    {
     "name": "stdout",
     "output_type": "stream",
     "text": [
      "205503 68203\n"
     ]
    }
   ],
   "source": [
    "trainPts = hadms[:1500]\n",
    "testPts = hadms[1500:]\n",
    "trainStates = {}; testStates = {}\n",
    "trainnextStates = {}; testnextStates = {}\n",
    "trainActions = {}; testActions = {}\n",
    "trainRewards = {}; testRewards = {}\n",
    "trainSamples = {}; testSamples = {}\n",
    "\n",
    "for h in trainPts:\n",
    "    trainStates[h] = scaler.transform(np.concatenate(allSamples[h]['currStates']))\n",
    "    trainnextStates[h] = scaler.transform(np.concatenate(allSamples[h]['nextStates']))\n",
    "    trainActions[h] = np.transpose([np.transpose(allSamples[h]['actions'])[0], \n",
    "                                    sign(np.transpose(allSamples[h]['actions'])[9])])\n",
    "    trainActions[h] = np.concatenate(sign([np.transpose(allSamples[h]['actions'])[0]]))\n",
    "    trainRewards[h] = allSamples[h]['rewards']\n",
    "    #trainSamples[h] = np.hstack([trainStates[h], trainActions[h]])\n",
    "    trainSamples[h] = np.hstack([(trainStates[h]), np.transpose([(trainActions[h])])])\n",
    "    \n",
    "allTrainStates = np.concatenate([trainStates[h] for h in trainPts])\n",
    "allTrainSamples = np.concatenate([trainSamples[h] for h in trainPts])\n",
    "allTrainNext =  np.concatenate([trainnextStates[h] for h in trainPts])\n",
    "allTrainRewards =  np.concatenate([trainRewards[h] for h in trainPts])\n",
    "allTrainActions = np.concatenate([trainActions[h] for h in trainPts])\n",
    "possibleActions = [0, 1]\n",
    "#possibleActions = unique(np.concatenate([trainActions[h] for h in trainPts]))\n",
    "#possibleActions = unique(np.transpose(np.array(list(possibleActions)))[0])\n",
    "\n",
    "for h in testPts:\n",
    "    testStates[h] = scaler.transform(np.concatenate(allSamples[h]['currStates']))\n",
    "    testnextStates[h] = scaler.transform(np.concatenate(allSamples[h]['nextStates']))\n",
    "    testActions[h] = np.transpose([np.transpose(allSamples[h]['actions'])[0], \n",
    "                                    sign(np.transpose(allSamples[h]['actions'])[9])])\n",
    "    testRewards[h] = allSamples[h]['rewards']\n",
    "    testSamples[h] = np.hstack([testStates[h], testActions[h]])\n",
    "\n",
    "allTestSamples = np.concatenate([testSamples[h] for h in testPts])\n",
    "allTrainStates = np.vstack([allTrainStates, scaler.transform(np.concatenate(counterStates))])\n",
    "allTrainSamples = np.vstack([allTrainSamples, counterSamples])\n",
    "allTrainNext = np.vstack([allTrainNext, scaler.transform(np.concatenate(counterNext))])\n",
    "allTrainRewards = np.concatenate([allTrainRewards, np.concatenate(counterRewards)])\n",
    "allTrainActions =   np.concatenate([allTrainActions, (counteractions)])\n",
    "\n",
    "trainSize = len(allTrainSamples)\n",
    "testSize = len(allTestSamples)\n",
    "print trainSize, testSize"
   ]
  },
  {
   "cell_type": "code",
   "execution_count": 17,
   "metadata": {
    "collapsed": false
   },
   "outputs": [
    {
     "data": {
      "text/plain": [
       "35"
      ]
     },
     "execution_count": 17,
     "metadata": {},
     "output_type": "execute_result"
    }
   ],
   "source": [
    "len(allTrainSamples[0])"
   ]
  },
  {
   "cell_type": "code",
   "execution_count": 18,
   "metadata": {
    "collapsed": false
   },
   "outputs": [],
   "source": [
    "# Get subset of feature space ---- excludes seds\n",
    "allTrainSamples = np.transpose((np.transpose(allTrainSamples)[list(np.concatenate([range(24) + [34]]))]))\n",
    "allTrainNext = np.transpose(np.transpose(allTrainNext)[:24])\n",
    "allTestSamples = np.transpose((np.transpose(allTestSamples)[list(np.concatenate([range(24) + [34]]))]))"
   ]
  },
  {
   "cell_type": "code",
   "execution_count": 19,
   "metadata": {
    "collapsed": false
   },
   "outputs": [],
   "source": [
    "ventoff = list(np.concatenate(np.where(np.transpose(actions[:195663])[0]==0)))\n",
    "#indices = (np.hstack([range(trainSize), ventoff, ventoff, ventoff, ventoff, ventoff]))"
   ]
  },
  {
   "cell_type": "code",
   "execution_count": 24,
   "metadata": {
    "collapsed": false
   },
   "outputs": [],
   "source": [
    "with open(\"pickles/originalSamples.pkl\",'wb') as f: pickle.dump((allTrainSamples, allTrainStates, allTrainNext, allTrainRewards, allTrainActions), f)\n"
   ]
  },
  {
   "cell_type": "code",
   "execution_count": 21,
   "metadata": {
    "collapsed": false,
    "scrolled": true
   },
   "outputs": [
    {
     "name": "stdout",
     "output_type": "stream",
     "text": [
      "Initialization\n",
      "Q-iteration\n",
      "Iter: 0 ; Qdiff: 0.342011675574\n",
      "Iter: 1 ; Qdiff: 0.503777945284\n",
      "Iter: 2 ; Qdiff: 0.591322393054\n",
      "Iter: 3 ; Qdiff: 0.634171305311\n",
      "Iter: 4 ; Qdiff: 0.656991684765\n",
      "Iter: 5 ; Qdiff: 0.667158197309\n",
      "Iter: 6 ; Qdiff: 0.663279988635\n",
      "Iter: 7 ; Qdiff: 0.65328652064\n",
      "Iter: 8 ; Qdiff: 0.6419426635\n",
      "Iter: 9 ; Qdiff: 0.615728105673\n",
      "Iter: 10 ; Qdiff: 0.587485255931\n",
      "Iter: 11 ; Qdiff: 0.548838041938\n",
      "Iter: 12 ; Qdiff: 0.514279118462\n",
      "Iter: 13 ; Qdiff: 0.486093970376\n",
      "Iter: 14 ; Qdiff: 0.452253889927\n",
      "Iter: 15 ; Qdiff: 0.418858169173\n",
      "Iter: 16 ; Qdiff: 0.391958310361\n",
      "Iter: 17 ; Qdiff: 0.357104425528\n",
      "Iter: 18 ; Qdiff: 0.327447812721\n",
      "Iter: 19 ; Qdiff: 0.296675759097\n",
      "Iter: 20 ; Qdiff: 0.271279542422\n",
      "Iter: 21 ; Qdiff: 0.256842542858\n",
      "Iter: 22 ; Qdiff: 0.236271504319\n",
      "Iter: 23 ; Qdiff: 0.21188133527\n",
      "Iter: 24 ; Qdiff: 0.196170969975\n",
      "Iter: 25 ; Qdiff: 0.183238440602\n",
      "Iter: 26 ; Qdiff: 0.168534838419\n",
      "Iter: 27 ; Qdiff: 0.151488460391\n",
      "Iter: 28 ; Qdiff: 0.145886654074\n",
      "Iter: 29 ; Qdiff: 0.130247459977\n",
      "Iter: 30 ; Qdiff: 0.112124840799\n",
      "Iter: 31 ; Qdiff: 0.0987954558195\n",
      "Iter: 32 ; Qdiff: 0.0858600879675\n",
      "Iter: 33 ; Qdiff: 0.073548058255\n",
      "Iter: 34 ; Qdiff: 0.069893443409\n",
      "Iter: 35 ; Qdiff: 0.0604451591566\n",
      "Iter: 36 ; Qdiff: 0.0576537043002\n",
      "Iter: 37 ; Qdiff: 0.0586973054689\n",
      "Iter: 38 ; Qdiff: 0.0511162889296\n",
      "Iter: 39 ; Qdiff: 0.0481604086991\n",
      "Iter: 40 ; Qdiff: 0.0396769553245\n",
      "Iter: 41 ; Qdiff: 0.0364873326256\n",
      "Iter: 42 ; Qdiff: 0.0352908355318\n",
      "Iter: 43 ; Qdiff: 0.0311543195801\n",
      "Iter: 44 ; Qdiff: 0.0343587460332\n",
      "Iter: 45 ; Qdiff: 0.0371873397646\n",
      "Iter: 46 ; Qdiff: 0.0311221070931\n",
      "Iter: 47 ; Qdiff: 0.0285196552306\n",
      "Iter: 48 ; Qdiff: 0.0230992023931\n",
      "Iter: 49 ; Qdiff: 0.021287393024\n",
      "Iter: 50 ; Qdiff: 0.0220081054229\n",
      "Iter: 51 ; Qdiff: 0.0249405306264\n",
      "Iter: 52 ; Qdiff: 0.0262706127354\n",
      "Iter: 53 ; Qdiff: 0.0227319835126\n",
      "Iter: 54 ; Qdiff: 0.0205675237561\n",
      "Iter: 55 ; Qdiff: 0.0198879823496\n",
      "Iter: 56 ; Qdiff: 0.017418378399\n",
      "Iter: 57 ; Qdiff: 0.01788420414\n",
      "Iter: 58 ; Qdiff: 0.0177923293699\n",
      "Iter: 59 ; Qdiff: 0.0178307940838\n",
      "Iter: 60 ; Qdiff: 0.0173334146322\n",
      "Iter: 61 ; Qdiff: 0.0154851782174\n",
      "Iter: 62 ; Qdiff: 0.0187156336376\n",
      "Iter: 63 ; Qdiff: 0.0162268413075\n",
      "Iter: 64 ; Qdiff: 0.015253286465\n",
      "Iter: 65 ; Qdiff: 0.0142746294114\n",
      "Iter: 66 ; Qdiff: 0.0136283108396\n",
      "Iter: 67 ; Qdiff: 0.0139058239837\n",
      "Iter: 68 ; Qdiff: 0.0153304540292\n",
      "Iter: 69 ; Qdiff: 0.0146203561307\n",
      "Iter: 70 ; Qdiff: 0.0136654568561\n",
      "Iter: 71 ; Qdiff: 0.0128962402752\n",
      "Iter: 72 ; Qdiff: 0.0130660959985\n",
      "Iter: 73 ; Qdiff: 0.0139696023288\n",
      "Iter: 74 ; Qdiff: 0.013900293752\n",
      "Iter: 75 ; Qdiff: 0.0114609131771\n",
      "Iter: 76 ; Qdiff: 0.0124458821696\n",
      "Iter: 77 ; Qdiff: 0.0118369216857\n",
      "Iter: 78 ; Qdiff: 0.0118751238737\n",
      "Iter: 79 ; Qdiff: 0.0122172419971\n",
      "Iter: 80 ; Qdiff: 0.0124733059109\n",
      "Iter: 81 ; Qdiff: 0.0134807052745\n",
      "Iter: 82 ; Qdiff: 0.0147471660004\n",
      "Iter: 83 ; Qdiff: 0.0141346651268\n",
      "Iter: 84 ; Qdiff: 0.0149584194034\n",
      "Iter: 85 ; Qdiff: 0.0147927921578\n",
      "Iter: 86 ; Qdiff: 0.0152500730954\n",
      "Iter: 87 ; Qdiff: 0.0136913078997\n",
      "Iter: 88 ; Qdiff: 0.0146072937079\n",
      "Iter: 89 ; Qdiff: 0.0124241799141\n",
      "Iter: 90 ; Qdiff: 0.0115573741871\n",
      "Iter: 91 ; Qdiff: 0.0125590973515\n",
      "Iter: 92 ; Qdiff: 0.0138782304057\n",
      "Iter: 93 ; Qdiff: 0.0145534172531\n",
      "Iter: 94 ; Qdiff: 0.0153510870199\n",
      "Iter: 95 ; Qdiff: 0.0133457557256\n",
      "Iter: 96 ; Qdiff: 0.0114696842174\n",
      "Iter: 97 ; Qdiff: 0.0142890870092\n",
      "Iter: 98 ; Qdiff: 0.015626506069\n",
      "Iter: 99 ; Qdiff: 0.0143624352246\n"
     ]
    }
   ],
   "source": [
    "def fitTree(samples,targets):\n",
    "    clf = ExtraTreesRegressor(n_estimators=50, max_depth=None, min_samples_leaf=50, random_state=1, warm_start=False)\n",
    "    clf.fit(samples, targets)\n",
    "    return clf\n",
    "def fitNN(samples, targets):\n",
    "    clf = MLPRegressor(solver='adam', alpha=1e-5,learning_rate='adaptive',hidden_layer_sizes=(5,2), random_state=None)\n",
    "    clf.fit(samples, targets)\n",
    "    return clf\n",
    "def partialfitNN(clf, samples, targets):\n",
    "    clf.partial_fit(samples, targets)\n",
    "    return clf\n",
    "\n",
    "batchSize = 60000\n",
    "indices = (np.hstack([range(trainSize), ventoff, ventoff, ventoff, ventoff, ventoff]))\n",
    "print 'Initialization'\n",
    "batch = unique(random.choice(indices, batchSize, replace=False))\n",
    "#batch = range(trainSize)\n",
    "#Qtree = fitTree([allTrainSamples[s] for s in batch], [allTrainRewards[s] for s in batch])\n",
    "Qnn = fitNN([allTrainSamples[s] for s in batch], [allTrainRewards[s] for s in batch])\n",
    "gamma = 0.9\n",
    "Q = np.zeros((len(possibleActions), trainSize))\n",
    "#Q = 0.1 * np.random.randn(len(possibleActions), trainSize)\n",
    "Qdist = []\n",
    "\n",
    "print 'Q-iteration'\n",
    "iter = 0 \n",
    "while iter < 100:\n",
    "    batch = random.choice(indices, batchSize, replace=False)     \n",
    "    S = {}\n",
    "    Qold = cp.deepcopy(Q) \n",
    "    anum = 0\n",
    "    for a in possibleActions:\n",
    "        #Q[anum,batch] = Qtree.predict([np.hstack((allTrainNext[s], a)) for s in batch])\n",
    "        Q[anum,batch] = Qnn.predict([np.hstack((allTrainNext[s], [a])) for s in batch])\n",
    "        anum += 1\n",
    "    Qdist.append(np.array(mean(abs(np.matrix(Qold) - np.matrix(Q)))))\n",
    "    \n",
    "    optA = [np.argmax(np.transpose(Q[:,s])) for s in batch]\n",
    "    T = [(allTrainRewards[s] + gamma*max(np.transpose(Q[:,s]))) for s in batch]\n",
    "    #Qtree = fitTree([allTrainSamples[s] for s in batch], T)\n",
    "    Qnn = partialfitNN(Qnn,[allTrainSamples[s] for s in batch], T)\n",
    "    S = {'n': batch, 'T': T, 'optA': optA}\n",
    "    print 'Iter:', iter, '; Qdiff:', Qdist[len(Qdist)-1]    \n",
    "    iter = iter + 1"
   ]
  },
  {
   "cell_type": "code",
   "execution_count": 25,
   "metadata": {
    "collapsed": false
   },
   "outputs": [],
   "source": [
    "#with open(\"pickles/misc16MayTreesubset.pkl\",'rb') as f: \n",
    "#    Qtree, Q, Qold, Qdist, S, optA = pickle.load(f)\n",
    "#with open(\"pickles/misc16MayNNsubset.pkl\",'rb') as f: \n",
    "#    Qnn, nnQ, nnQold, nnQdist, nnS, nnoptA = pickle.load(f)\n",
    "    \n",
    "    \n",
    "def fitCtree(states, actions):\n",
    "    clf = ExtraTreesClassifier(n_estimators=500, max_depth=None, min_samples_leaf=50, class_weight='balanced')\n",
    "    clf.fit(states, actions)\n",
    "    return clf\n",
    "\n",
    "use = range(24)\n",
    "def plotImportances(Q):\n",
    "    optA = [np.argmax(np.transpose(Q[:,s])) for s in range(trainSize)]\n",
    "    policyTree = fitCtree([currStatesScaled[s][use] for s in range(trainSize)], optA) \n",
    "    importances = policyTree.feature_importances_\n",
    "    std = np.std([tree.feature_importances_ for tree in policyTree.estimators_],axis=0)\n",
    "    featImportances = pd.DataFrame(data={\"feats\": [feats[x] for x in use], \"importances\": importances}, \n",
    "                                   index=[feats[x] for x in use])\n",
    "    return importances, featImportances, policyTree\n",
    "\n",
    "imp1, fi1, ptree1 = plotImportances(Q)\n",
    "#imp2, fi2, ptree2 = plotImportances(Qnn)"
   ]
  },
  {
   "cell_type": "code",
   "execution_count": 26,
   "metadata": {
    "collapsed": false
   },
   "outputs": [
    {
     "ename": "NameError",
     "evalue": "name 'imp2' is not defined",
     "output_type": "error",
     "traceback": [
      "\u001b[0;31m---------------------------------------------------------------------------\u001b[0m",
      "\u001b[0;31mNameError\u001b[0m                                 Traceback (most recent call last)",
      "\u001b[0;32m<ipython-input-26-5f5838baa9bf>\u001b[0m in \u001b[0;36m<module>\u001b[0;34m()\u001b[0m\n\u001b[1;32m     10\u001b[0m dpoints=np.transpose(np.hstack([\n\u001b[1;32m     11\u001b[0m             \u001b[0mnp\u001b[0m\u001b[0;34m.\u001b[0m\u001b[0mvstack\u001b[0m\u001b[0;34m(\u001b[0m\u001b[0;34m[\u001b[0m\u001b[0;34m[\u001b[0m\u001b[0;34m'FQI w/ Extra-Trees'\u001b[0m\u001b[0;34m]\u001b[0m\u001b[0;34m*\u001b[0m\u001b[0mlen\u001b[0m\u001b[0;34m(\u001b[0m\u001b[0muse\u001b[0m\u001b[0;34m)\u001b[0m\u001b[0;34m,\u001b[0m \u001b[0;34m[\u001b[0m\u001b[0mfeats\u001b[0m\u001b[0;34m[\u001b[0m\u001b[0mx\u001b[0m\u001b[0;34m]\u001b[0m \u001b[0;32mfor\u001b[0m \u001b[0mx\u001b[0m \u001b[0;32min\u001b[0m \u001b[0muse\u001b[0m\u001b[0;34m]\u001b[0m\u001b[0;34m,\u001b[0m \u001b[0mimp1\u001b[0m\u001b[0;34m]\u001b[0m\u001b[0;34m)\u001b[0m\u001b[0;34m,\u001b[0m\u001b[0;34m\u001b[0m\u001b[0m\n\u001b[0;32m---> 12\u001b[0;31m             \u001b[0mnp\u001b[0m\u001b[0;34m.\u001b[0m\u001b[0mvstack\u001b[0m\u001b[0;34m(\u001b[0m\u001b[0;34m[\u001b[0m\u001b[0;34m[\u001b[0m\u001b[0;34m'Neural Fitted-Q'\u001b[0m\u001b[0;34m]\u001b[0m\u001b[0;34m*\u001b[0m\u001b[0mlen\u001b[0m\u001b[0;34m(\u001b[0m\u001b[0muse\u001b[0m\u001b[0;34m)\u001b[0m\u001b[0;34m,\u001b[0m \u001b[0;34m[\u001b[0m\u001b[0mfeats\u001b[0m\u001b[0;34m[\u001b[0m\u001b[0mx\u001b[0m\u001b[0;34m]\u001b[0m \u001b[0;32mfor\u001b[0m \u001b[0mx\u001b[0m \u001b[0;32min\u001b[0m \u001b[0muse\u001b[0m\u001b[0;34m]\u001b[0m\u001b[0;34m,\u001b[0m \u001b[0mimp2\u001b[0m\u001b[0;34m]\u001b[0m\u001b[0;34m)\u001b[0m\u001b[0;34m\u001b[0m\u001b[0m\n\u001b[0m\u001b[1;32m     13\u001b[0m \u001b[0;34m\u001b[0m\u001b[0m\n\u001b[1;32m     14\u001b[0m         ]))\n",
      "\u001b[0;31mNameError\u001b[0m: name 'imp2' is not defined"
     ]
    },
    {
     "data": {
      "image/png": "[encoded data removed]",
      "text/plain": [
       "<matplotlib.figure.Figure at 0x2b1941839ed0>"
      ]
     },
     "metadata": {},
     "output_type": "display_data"
    }
   ],
   "source": [
    "import matplotlib.cm as cm\n",
    "import operator as o\n",
    "import itertools\n",
    "sns.set(rc={'axes.facecolor':'white', 'figure.facecolor':'white', 'grid.color':'whitesmoke'})\n",
    "\n",
    "fig = plt.figure()\n",
    "ax = plt.subplot()\n",
    "fig.set_size_inches(16,10)\n",
    "\n",
    "dpoints=np.transpose(np.hstack([\n",
    "            np.vstack([['FQI w/ Extra-Trees']*len(use), [feats[x] for x in use], imp1]),\n",
    "            np.vstack([['Neural Fitted-Q']*len(use), [feats[x] for x in use], imp2])\n",
    "\n",
    "        ]))\n",
    "\n",
    "def barplot(ax, dpoints):\n",
    "    '''\n",
    "    Create a barchart for data across different categories with\n",
    "    multiple conditions for each category.\n",
    "    \n",
    "    @param ax: The plotting axes from matplotlib.\n",
    "    @param dpoints: The data set as an (n, 3) numpy array\n",
    "    '''\n",
    "    palette = itertools.cycle(sns.color_palette('Set2'))\n",
    "    palette = itertools.cycle([sns.color_palette('Set2')[0],sns.color_palette('Set2')[4]])\n",
    "\n",
    "    # Aggregate the conditions and the categories according to their\n",
    "    # mean values\n",
    "    conditions = [(c, np.mean(dpoints[dpoints[:,0] == c][:,2].astype(float))) \n",
    "                  for c in np.unique(dpoints[:,0])]\n",
    "    categories = [(c, np.mean(dpoints[dpoints[:,1] == c][:,2].astype(float))) \n",
    "                  for c in np.unique(dpoints[:,1])]\n",
    "    \n",
    "    # sort the conditions, categories and data so that the bars in\n",
    "    # the plot will be ordered by category and condition\n",
    "    conditions = [c[0] for c in sorted(conditions, key=o.itemgetter(1))]\n",
    "    categories = [c[0] for c in sorted(categories, key=o.itemgetter(1))]\n",
    "    \n",
    "    dpoints = np.array(sorted(dpoints, key=lambda x: categories.index(x[1])))\n",
    "\n",
    "    # the space between each set of bars\n",
    "    space = 0.3\n",
    "    n = len(conditions)\n",
    "    width = 0.3\n",
    "    height = (1 - space) / (len(conditions))\n",
    "    \n",
    "    # Create a set of bars at each position\n",
    "    for i,cond in enumerate(conditions):\n",
    "        indeces = range(1, len(categories)+1)\n",
    "        vals = dpoints[dpoints[:,0] == cond][:,2].astype(np.float)\n",
    "        pos = [j - (1 - space) / 2. + i * height for j in indeces]\n",
    "        ax.barh(pos, vals, height=width, label=cond, color=next(palette))\n",
    "    \n",
    "    # Set the x-axis tick labels to be equal to the categories\n",
    "    ax.set_yticks(indeces)\n",
    "    ax.set_yticklabels(categories, size=12)\n",
    "    #plt.setp(plt.xticks()[1], rotation=0)\n",
    "    \n",
    "    # Add the axis labels\n",
    "    ax.set_xlabel(\"Feature Importance\",size=12)\n",
    "    ax.set_ylabel(\"\", size=12)\n",
    "    ax.set_ylim([0, len(categories)+1])\n",
    "    # Add a legend\n",
    "    handles, labels = ax.get_legend_handles_labels()\n",
    "    ax.legend(handles[::-1], labels[::-1], loc='lower right',fontsize=12)\n",
    "        \n",
    "barplot(ax, dpoints)\n",
    "plt.show()"
   ]
  },
  {
   "cell_type": "code",
   "execution_count": null,
   "metadata": {
    "collapsed": true
   },
   "outputs": [],
   "source": [
    "allTestStates = np.concatenate([testStates[h] for h in testPts])\n",
    "allTestActions = np.concatenate([testActions[h] for h in testPts])"
   ]
  },
  {
   "cell_type": "code",
   "execution_count": null,
   "metadata": {
    "collapsed": false
   },
   "outputs": [],
   "source": [
    "def piHosp(h, adim): \n",
    "    pi = np.transpose(testActions[h])[adim]\n",
    "    return pi\n",
    "    \n",
    "def piRL(h, adim, policyTree):\n",
    "    test = np.transpose(np.transpose(testStates[h])[:24])\n",
    "    pi = np.transpose(policyTree.predict_proba(test))[0]\n",
    "    #pi = possibleActions[np.transpose(policyTree.predict(test))]\n",
    "    return pi\n",
    "\n",
    "figure(figsize=[10,10])\n",
    "h=1800\n",
    "h=1509\n",
    "#h=1947\n",
    "#h=2020\n",
    "#h=1996\n",
    "for h in range(1810,1815):\n",
    "    figure()\n",
    "    plot(piHosp(hadms[h], 0),color=sns.color_palette('Set2')[1], linewidth=2)\n",
    "    plot(piRL(hadms[h],0,ptree2),color=sns.color_palette('Set2')[0], linewidth=2)\n",
    "    plot(piRL(hadms[h],0,ptree1),color=sns.color_palette('Set2')[4], linewidth=2)\n",
    "    #plot(np.transpose(clfbb.predict_proba(sclb.transform(samplesb[hadms[h]])))[1], color=sns.color_palette('Set2', 10)[2], linewidth=1, linestyle='-.')\n",
    "\n",
    "    plt.axhline(y=0.5, color=sns.color_palette('Set2',8)[6], linestyle=':')\n",
    "    ylabel('$\\mathcal{Pr } $ (Ventilator Need)', fontsize=14)\n",
    "    xlabel('Admission time (hours)', fontsize=14)\n",
    "    plt.legend(['Vent on/off','NFQ','FQIT','Logistic Regression'], bbox_to_anchor=(0., 0.01, 1., 2), loc=3,fontsize=14 )\n",
    "    title('Admission '+ str(h), fontsize=14)"
   ]
  },
  {
   "cell_type": "code",
   "execution_count": 29,
   "metadata": {
    "collapsed": false
   },
   "outputs": [],
   "source": [
    "## Testing ##\n",
    "\n",
    "def piHosp(h, adim): \n",
    "    pi = np.transpose(testActions[h])[adim]\n",
    "    return pi\n",
    "    \n",
    "def piRL(h, adim, policyTree):\n",
    "    test = np.transpose(np.transpose(testStates[h])[:24])\n",
    "    pi = np.transpose(policyTree.predict(test))\n",
    "    return 1-pi\n",
    "\n",
    "total = {}; vMatches = {}; sMatches = {}\n",
    "frac_vMatches = []; frac_sMatches = []; \n",
    "fqi = True\n",
    "for h in testPts:\n",
    "    total[h] = len(piHosp(h, 0))\n",
    "    vMatches[h] = np.where(piHosp(h, 0) - piRL(h, 0, ptree1) == 0)[0]\n",
    "    sMatches[h] = np.where(abs(piHosp(h, 1) - piRL(h, 1, ptree1)) <= 1)[0]\n",
    "    frac_vMatches.append(100 * len(vMatches[h])/float(total[h])) \n",
    "    frac_sMatches.append(100 * len(sMatches[h])/float(total[h])) \n",
    "    \n",
    "frac_vMatches = np.asarray(frac_vMatches)\n",
    "frac_sMatches = np.asarray(frac_sMatches)"
   ]
  },
  {
   "cell_type": "code",
   "execution_count": 30,
   "metadata": {
    "collapsed": false
   },
   "outputs": [
    {
     "ename": "ValueError",
     "evalue": "zero-size array to reduction operation minimum which has no identity",
     "output_type": "error",
     "traceback": [
      "\u001b[0;31m---------------------------------------------------------------------------\u001b[0m",
      "\u001b[0;31mValueError\u001b[0m                                Traceback (most recent call last)",
      "\u001b[0;32m<ipython-input-30-042ce92b6cce>\u001b[0m in \u001b[0;36m<module>\u001b[0;34m()\u001b[0m\n\u001b[1;32m     30\u001b[0m \u001b[0mfigure\u001b[0m\u001b[0;34m(\u001b[0m\u001b[0mfigsize\u001b[0m\u001b[0;34m=\u001b[0m\u001b[0;34m(\u001b[0m\u001b[0;36m8\u001b[0m\u001b[0;34m,\u001b[0m\u001b[0;36m4\u001b[0m\u001b[0;34m)\u001b[0m\u001b[0;34m)\u001b[0m\u001b[0;34m\u001b[0m\u001b[0m\n\u001b[1;32m     31\u001b[0m \u001b[0mfig\u001b[0m \u001b[0;34m=\u001b[0m \u001b[0mplt\u001b[0m\u001b[0;34m.\u001b[0m\u001b[0msubplot\u001b[0m\u001b[0;34m(\u001b[0m\u001b[0;34m)\u001b[0m\u001b[0;34m\u001b[0m\u001b[0m\n\u001b[0;32m---> 32\u001b[0;31m \u001b[0mviolin_parts\u001b[0m \u001b[0;34m=\u001b[0m \u001b[0mplt\u001b[0m\u001b[0;34m.\u001b[0m\u001b[0mviolinplot\u001b[0m\u001b[0;34m(\u001b[0m\u001b[0mdata\u001b[0m\u001b[0;34m,\u001b[0m \u001b[0mpos\u001b[0m\u001b[0;34m,\u001b[0m \u001b[0mvert\u001b[0m\u001b[0;34m=\u001b[0m\u001b[0mFalse\u001b[0m\u001b[0;34m,\u001b[0m \u001b[0mwidths\u001b[0m\u001b[0;34m=\u001b[0m\u001b[0;36m0.9\u001b[0m\u001b[0;34m,\u001b[0m \u001b[0mshowmeans\u001b[0m\u001b[0;34m=\u001b[0m\u001b[0mTrue\u001b[0m\u001b[0;34m,\u001b[0m \u001b[0mshowextrema\u001b[0m\u001b[0;34m=\u001b[0m\u001b[0mTrue\u001b[0m\u001b[0;34m,\u001b[0m \u001b[0mshowmedians\u001b[0m\u001b[0;34m=\u001b[0m\u001b[0mFalse\u001b[0m\u001b[0;34m)\u001b[0m\u001b[0;34m\u001b[0m\u001b[0m\n\u001b[0m\u001b[1;32m     33\u001b[0m \u001b[0mfig\u001b[0m\u001b[0;34m.\u001b[0m\u001b[0mset_yticklabels\u001b[0m\u001b[0;34m(\u001b[0m\u001b[0;34m[\u001b[0m\u001b[0;34m''\u001b[0m\u001b[0;34m,\u001b[0m\u001b[0;34m'$\\Delta_0$'\u001b[0m\u001b[0;34m,\u001b[0m\u001b[0;34m'$\\Delta_1$'\u001b[0m\u001b[0;34m,\u001b[0m\u001b[0;34m'$\\Delta_2$'\u001b[0m\u001b[0;34m,\u001b[0m\u001b[0;34m'$\\Delta_3$'\u001b[0m\u001b[0;34m,\u001b[0m\u001b[0;34m'$\\Delta_4$'\u001b[0m\u001b[0;34m,\u001b[0m\u001b[0;34m'$\\Delta_5$'\u001b[0m\u001b[0;34m]\u001b[0m\u001b[0;34m,\u001b[0m \u001b[0msize\u001b[0m\u001b[0;34m=\u001b[0m\u001b[0;36m14\u001b[0m\u001b[0;34m)\u001b[0m\u001b[0;34m\u001b[0m\u001b[0m\n\u001b[1;32m     34\u001b[0m \u001b[0mfig\u001b[0m\u001b[0;34m.\u001b[0m\u001b[0mset_xlabel\u001b[0m\u001b[0;34m(\u001b[0m\u001b[0;34m'# Intubations over admission'\u001b[0m\u001b[0;34m,\u001b[0m \u001b[0msize\u001b[0m\u001b[0;34m=\u001b[0m\u001b[0;36m14\u001b[0m\u001b[0;34m)\u001b[0m\u001b[0;34m\u001b[0m\u001b[0m\n",
      "\u001b[0;32m/home/np6/.local/lib/python2.7/site-packages/matplotlib-2.0.0b4_2339.ged8138e-py2.7-linux-x86_64.egg/matplotlib/pyplot.pyc\u001b[0m in \u001b[0;36mviolinplot\u001b[0;34m(dataset, positions, vert, widths, showmeans, showextrema, showmedians, points, bw_method, hold, data)\u001b[0m\n\u001b[1;32m   3382\u001b[0m                             \u001b[0mwidths\u001b[0m\u001b[0;34m=\u001b[0m\u001b[0mwidths\u001b[0m\u001b[0;34m,\u001b[0m \u001b[0mshowmeans\u001b[0m\u001b[0;34m=\u001b[0m\u001b[0mshowmeans\u001b[0m\u001b[0;34m,\u001b[0m\u001b[0;34m\u001b[0m\u001b[0m\n\u001b[1;32m   3383\u001b[0m                             \u001b[0mshowextrema\u001b[0m\u001b[0;34m=\u001b[0m\u001b[0mshowextrema\u001b[0m\u001b[0;34m,\u001b[0m \u001b[0mshowmedians\u001b[0m\u001b[0;34m=\u001b[0m\u001b[0mshowmedians\u001b[0m\u001b[0;34m,\u001b[0m\u001b[0;34m\u001b[0m\u001b[0m\n\u001b[0;32m-> 3384\u001b[0;31m                             points=points, bw_method=bw_method, data=data)\n\u001b[0m\u001b[1;32m   3385\u001b[0m     \u001b[0;32mfinally\u001b[0m\u001b[0;34m:\u001b[0m\u001b[0;34m\u001b[0m\u001b[0m\n\u001b[1;32m   3386\u001b[0m         \u001b[0max\u001b[0m\u001b[0;34m.\u001b[0m\u001b[0mhold\u001b[0m\u001b[0;34m(\u001b[0m\u001b[0mwashold\u001b[0m\u001b[0;34m)\u001b[0m\u001b[0;34m\u001b[0m\u001b[0m\n",
      "\u001b[0;32m/home/np6/.local/lib/python2.7/site-packages/matplotlib-2.0.0b4_2339.ged8138e-py2.7-linux-x86_64.egg/matplotlib/__init__.pyc\u001b[0m in \u001b[0;36minner\u001b[0;34m(ax, *args, **kwargs)\u001b[0m\n\u001b[1;32m   1875\u001b[0m                     warnings.warn(msg % (label_namer, func.__name__),\n\u001b[1;32m   1876\u001b[0m                                   RuntimeWarning, stacklevel=2)\n\u001b[0;32m-> 1877\u001b[0;31m             \u001b[0;32mreturn\u001b[0m \u001b[0mfunc\u001b[0m\u001b[0;34m(\u001b[0m\u001b[0max\u001b[0m\u001b[0;34m,\u001b[0m \u001b[0;34m*\u001b[0m\u001b[0margs\u001b[0m\u001b[0;34m,\u001b[0m \u001b[0;34m**\u001b[0m\u001b[0mkwargs\u001b[0m\u001b[0;34m)\u001b[0m\u001b[0;34m\u001b[0m\u001b[0m\n\u001b[0m\u001b[1;32m   1878\u001b[0m         \u001b[0mpre_doc\u001b[0m \u001b[0;34m=\u001b[0m \u001b[0minner\u001b[0m\u001b[0;34m.\u001b[0m\u001b[0m__doc__\u001b[0m\u001b[0;34m\u001b[0m\u001b[0m\n\u001b[1;32m   1879\u001b[0m         \u001b[0;32mif\u001b[0m \u001b[0mpre_doc\u001b[0m \u001b[0;32mis\u001b[0m \u001b[0mNone\u001b[0m\u001b[0;34m:\u001b[0m\u001b[0;34m\u001b[0m\u001b[0m\n",
      "\u001b[0;32m/home/np6/.local/lib/python2.7/site-packages/matplotlib-2.0.0b4_2339.ged8138e-py2.7-linux-x86_64.egg/matplotlib/axes/_axes.pyc\u001b[0m in \u001b[0;36mviolinplot\u001b[0;34m(self, dataset, positions, vert, widths, showmeans, showextrema, showmedians, points, bw_method)\u001b[0m\n\u001b[1;32m   7532\u001b[0m             \u001b[0;32mreturn\u001b[0m \u001b[0mkde\u001b[0m\u001b[0;34m.\u001b[0m\u001b[0mevaluate\u001b[0m\u001b[0;34m(\u001b[0m\u001b[0mcoords\u001b[0m\u001b[0;34m)\u001b[0m\u001b[0;34m\u001b[0m\u001b[0m\n\u001b[1;32m   7533\u001b[0m \u001b[0;34m\u001b[0m\u001b[0m\n\u001b[0;32m-> 7534\u001b[0;31m         \u001b[0mvpstats\u001b[0m \u001b[0;34m=\u001b[0m \u001b[0mcbook\u001b[0m\u001b[0;34m.\u001b[0m\u001b[0mviolin_stats\u001b[0m\u001b[0;34m(\u001b[0m\u001b[0mdataset\u001b[0m\u001b[0;34m,\u001b[0m \u001b[0m_kde_method\u001b[0m\u001b[0;34m,\u001b[0m \u001b[0mpoints\u001b[0m\u001b[0;34m=\u001b[0m\u001b[0mpoints\u001b[0m\u001b[0;34m)\u001b[0m\u001b[0;34m\u001b[0m\u001b[0m\n\u001b[0m\u001b[1;32m   7535\u001b[0m         return self.violin(vpstats, positions=positions, vert=vert,\n\u001b[1;32m   7536\u001b[0m                            \u001b[0mwidths\u001b[0m\u001b[0;34m=\u001b[0m\u001b[0mwidths\u001b[0m\u001b[0;34m,\u001b[0m \u001b[0mshowmeans\u001b[0m\u001b[0;34m=\u001b[0m\u001b[0mshowmeans\u001b[0m\u001b[0;34m,\u001b[0m\u001b[0;34m\u001b[0m\u001b[0m\n",
      "\u001b[0;32m/home/np6/.local/lib/python2.7/site-packages/matplotlib-2.0.0b4_2339.ged8138e-py2.7-linux-x86_64.egg/matplotlib/cbook.pyc\u001b[0m in \u001b[0;36mviolin_stats\u001b[0;34m(X, method, points)\u001b[0m\n\u001b[1;32m   2249\u001b[0m \u001b[0;34m\u001b[0m\u001b[0m\n\u001b[1;32m   2250\u001b[0m         \u001b[0;31m# Calculate basic stats for the distribution\u001b[0m\u001b[0;34m\u001b[0m\u001b[0;34m\u001b[0m\u001b[0m\n\u001b[0;32m-> 2251\u001b[0;31m         \u001b[0mmin_val\u001b[0m \u001b[0;34m=\u001b[0m \u001b[0mnp\u001b[0m\u001b[0;34m.\u001b[0m\u001b[0mmin\u001b[0m\u001b[0;34m(\u001b[0m\u001b[0mx\u001b[0m\u001b[0;34m)\u001b[0m\u001b[0;34m\u001b[0m\u001b[0m\n\u001b[0m\u001b[1;32m   2252\u001b[0m         \u001b[0mmax_val\u001b[0m \u001b[0;34m=\u001b[0m \u001b[0mnp\u001b[0m\u001b[0;34m.\u001b[0m\u001b[0mmax\u001b[0m\u001b[0;34m(\u001b[0m\u001b[0mx\u001b[0m\u001b[0;34m)\u001b[0m\u001b[0;34m\u001b[0m\u001b[0m\n\u001b[1;32m   2253\u001b[0m \u001b[0;34m\u001b[0m\u001b[0m\n",
      "\u001b[0;32m/tigress/BEE/mimic/usr/np6/miniconda2/lib/python2.7/site-packages/numpy/core/fromnumeric.pyc\u001b[0m in \u001b[0;36mamin\u001b[0;34m(a, axis, out, keepdims)\u001b[0m\n\u001b[1;32m   2350\u001b[0m \u001b[0;34m\u001b[0m\u001b[0m\n\u001b[1;32m   2351\u001b[0m     return _methods._amin(a, axis=axis,\n\u001b[0;32m-> 2352\u001b[0;31m                           out=out, **kwargs)\n\u001b[0m\u001b[1;32m   2353\u001b[0m \u001b[0;34m\u001b[0m\u001b[0m\n\u001b[1;32m   2354\u001b[0m \u001b[0;34m\u001b[0m\u001b[0m\n",
      "\u001b[0;32m/tigress/BEE/mimic/usr/np6/miniconda2/lib/python2.7/site-packages/numpy/core/_methods.pyc\u001b[0m in \u001b[0;36m_amin\u001b[0;34m(a, axis, out, keepdims)\u001b[0m\n\u001b[1;32m     27\u001b[0m \u001b[0;34m\u001b[0m\u001b[0m\n\u001b[1;32m     28\u001b[0m \u001b[0;32mdef\u001b[0m \u001b[0m_amin\u001b[0m\u001b[0;34m(\u001b[0m\u001b[0ma\u001b[0m\u001b[0;34m,\u001b[0m \u001b[0maxis\u001b[0m\u001b[0;34m=\u001b[0m\u001b[0mNone\u001b[0m\u001b[0;34m,\u001b[0m \u001b[0mout\u001b[0m\u001b[0;34m=\u001b[0m\u001b[0mNone\u001b[0m\u001b[0;34m,\u001b[0m \u001b[0mkeepdims\u001b[0m\u001b[0;34m=\u001b[0m\u001b[0mFalse\u001b[0m\u001b[0;34m)\u001b[0m\u001b[0;34m:\u001b[0m\u001b[0;34m\u001b[0m\u001b[0m\n\u001b[0;32m---> 29\u001b[0;31m     \u001b[0;32mreturn\u001b[0m \u001b[0mumr_minimum\u001b[0m\u001b[0;34m(\u001b[0m\u001b[0ma\u001b[0m\u001b[0;34m,\u001b[0m \u001b[0maxis\u001b[0m\u001b[0;34m,\u001b[0m \u001b[0mNone\u001b[0m\u001b[0;34m,\u001b[0m \u001b[0mout\u001b[0m\u001b[0;34m,\u001b[0m \u001b[0mkeepdims\u001b[0m\u001b[0;34m)\u001b[0m\u001b[0;34m\u001b[0m\u001b[0m\n\u001b[0m\u001b[1;32m     30\u001b[0m \u001b[0;34m\u001b[0m\u001b[0m\n\u001b[1;32m     31\u001b[0m \u001b[0;32mdef\u001b[0m \u001b[0m_sum\u001b[0m\u001b[0;34m(\u001b[0m\u001b[0ma\u001b[0m\u001b[0;34m,\u001b[0m \u001b[0maxis\u001b[0m\u001b[0;34m=\u001b[0m\u001b[0mNone\u001b[0m\u001b[0;34m,\u001b[0m \u001b[0mdtype\u001b[0m\u001b[0;34m=\u001b[0m\u001b[0mNone\u001b[0m\u001b[0;34m,\u001b[0m \u001b[0mout\u001b[0m\u001b[0;34m=\u001b[0m\u001b[0mNone\u001b[0m\u001b[0;34m,\u001b[0m \u001b[0mkeepdims\u001b[0m\u001b[0;34m=\u001b[0m\u001b[0mFalse\u001b[0m\u001b[0;34m)\u001b[0m\u001b[0;34m:\u001b[0m\u001b[0;34m\u001b[0m\u001b[0m\n",
      "\u001b[0;31mValueError\u001b[0m: zero-size array to reduction operation minimum which has no identity"
     ]
    },
    {
     "data": {
      "image/png": "[encoded data removed]",
      "text/plain": [
       "<matplotlib.figure.Figure at 0x2b197733c550>"
      ]
     },
     "metadata": {},
     "output_type": "display_data"
    }
   ],
   "source": [
    "bins = stats.mstats.mquantiles(frac_vMatches, [0, 1./5, 2./5, 3./5, 4./5, 1])\n",
    "gamma = 0.9\n",
    "discount = []\n",
    "for i in range(max([len(testSamples[h]) for h in testPts])):\n",
    "    discount.append(gamma**i)\n",
    "\n",
    "bins=[100, 93, 85, 70, 55, 0]    \n",
    "dist0 = np.where(frac_vMatches >= bins[0])[0]\n",
    "dist1 = np.where(np.logical_and((frac_vMatches >= bins[1]), (frac_vMatches < bins[0])))[0]\n",
    "dist2 = np.where(np.logical_and((frac_vMatches >= bins[2]), (frac_vMatches < bins[1])))[0]\n",
    "dist3 = np.where(np.logical_and((frac_vMatches >= bins[3]), (frac_vMatches < bins[2])))[0]\n",
    "dist4 = np.where(np.logical_and((frac_vMatches >= bins[4]), (frac_vMatches < bins[3])))[0]\n",
    "dist5 = np.where(np.logical_and((frac_vMatches >= bins[5]), (frac_vMatches < bins[4])))[0]\n",
    "vdists = [dist0, dist1, dist2, dist3, dist4, dist5]\n",
    "\n",
    "os = 1500; finHr = {}; nd=0\n",
    "for d in vdists:\n",
    "    finHr[nd] = [sum(array(discount[:len(testRewards[hadms[i+os]][::1])]) * testRewards[hadms[i+os]][::-1]) for i in d]\n",
    "    \n",
    "    #finHr[nd] = ([mean(testRewards[hadms[i+os]][:]) for i in d])                   # mean reward \n",
    "    #finHr[nd] =  [testSamples[hadms[i+os]][len(testSamples[hadms[i+os]])-1][30] for i in d]   # num intubations\n",
    "    nd = nd + 1\n",
    "#for i in np.where([finHr[5][l] == 0 for l in range(len(finHr[5]))])[0]: finHr[5][i] = 1 \n",
    "\n",
    "plt.style.use('seaborn-white')\n",
    "#sns.set(rc={'axes.facecolor':'white', 'figure.facecolor':'white', 'grid.color':'lightgrey'})\n",
    "\n",
    "pos = [1, 2, 3, 4, 5, 6]\n",
    "data = [finHr[i] for i in range(0,6)]\n",
    "figure(figsize=(8,4))\n",
    "fig = plt.subplot()\n",
    "violin_parts = plt.violinplot(data, pos, vert=False, widths=0.9, showmeans=True, showextrema=True, showmedians=False)\n",
    "fig.set_yticklabels(['','$\\Delta_0$','$\\Delta_1$','$\\Delta_2$','$\\Delta_3$','$\\Delta_4$','$\\Delta_5$'], size=14)\n",
    "fig.set_xlabel('# Intubations over admission', size=14)\n",
    "fig.set_xlabel('Discounted cumulative reward over admission', size=14)\n",
    "fig.set_ylabel('$\\Delta(\\pi_{FQI}, \\pi_{Hosp})$', size=14)\n",
    "\n",
    "colour0 = sns.color_palette('Set2')[0]\n",
    "colour1 = sns.color_palette('Set2')[1]\n",
    "\n",
    "for pc in violin_parts['bodies']: pc.set_facecolor(colour0); pc.set_edgecolor(colour0)\n",
    "for pc in ['cmeans', 'cmins', 'cmaxes', 'cbars']: violin_parts[pc].set_color(colour0)\n",
    "plt.show()"
   ]
  },
  {
   "cell_type": "code",
   "execution_count": 21,
   "metadata": {
    "collapsed": false
   },
   "outputs": [
    {
     "data": {
      "text/plain": [
       "-11.768204004808789"
      ]
     },
     "execution_count": 21,
     "metadata": {},
     "output_type": "execute_result"
    }
   ],
   "source": [
    "mean(finHr[0])\n"
   ]
  },
  {
   "cell_type": "code",
   "execution_count": 22,
   "metadata": {
    "collapsed": false,
    "scrolled": true
   },
   "outputs": [
    {
     "data": {
      "text/plain": [
       "array([[ 1.,  0.],\n",
       "       [ 1., -1.],\n",
       "       [ 1.,  0.],\n",
       "       [ 1.,  0.],\n",
       "       [ 1.,  0.],\n",
       "       [ 1.,  0.],\n",
       "       [ 1.,  0.],\n",
       "       [ 1.,  0.],\n",
       "       [ 1.,  0.],\n",
       "       [ 1.,  0.],\n",
       "       [ 1.,  0.],\n",
       "       [ 1.,  0.],\n",
       "       [ 1.,  0.],\n",
       "       [ 1.,  0.],\n",
       "       [ 1.,  0.],\n",
       "       [ 1.,  0.],\n",
       "       [ 1.,  0.],\n",
       "       [ 1., -1.],\n",
       "       [ 1.,  0.],\n",
       "       [ 1.,  0.],\n",
       "       [ 1., -1.],\n",
       "       [ 1., -1.],\n",
       "       [ 1.,  1.],\n",
       "       [ 1.,  0.],\n",
       "       [ 1.,  0.],\n",
       "       [ 0., -1.],\n",
       "       [ 0.,  0.],\n",
       "       [ 0.,  0.],\n",
       "       [ 0.,  0.]])"
      ]
     },
     "execution_count": 22,
     "metadata": {},
     "output_type": "execute_result"
    }
   ],
   "source": [
    "testActions[testPts[369]]"
   ]
  },
  {
   "cell_type": "code",
   "execution_count": 23,
   "metadata": {
    "collapsed": false
   },
   "outputs": [
    {
     "data": {
      "text/plain": [
       "-12.718482653047301"
      ]
     },
     "execution_count": 23,
     "metadata": {},
     "output_type": "execute_result"
    }
   ],
   "source": [
    "mean(np.concatenate([finHr[i] for i in finHr.keys()]))"
   ]
  },
  {
   "cell_type": "code",
   "execution_count": 45,
   "metadata": {
    "collapsed": false
   },
   "outputs": [],
   "source": [
    "def fitTree(samples,targets):\n",
    "    clf = ExtraTreesRegressor(n_estimators=50, max_depth=None, min_samples_leaf=50, random_state=1, warm_start=False)\n",
    "    clf.fit(samples, targets)\n",
    "    return clf\n",
    "\n",
    "empirical_piHosp = fitTree([allTrainStates[s] for s in range(195663)], [allTrainActions[s] for s in range(195663)])\n"
   ]
  },
  {
   "cell_type": "code",
   "execution_count": 60,
   "metadata": {
    "collapsed": false
   },
   "outputs": [
    {
     "data": {
      "image/png": "[encoded data removed]",
      "text/plain": [
       "<matplotlib.figure.Figure at 0x2b833b198c50>"
      ]
     },
     "metadata": {},
     "output_type": "display_data"
    }
   ],
   "source": [
    "fig = plt.figure()\n",
    "ax = plt.subplot()\n",
    "fig.set_size_inches(16,10)\n",
    "\n",
    "dpoints=np.transpose(np.hstack([\n",
    "            np.vstack([['Empirical Estimate']*len(feats), [feats[x] for x in range(len(feats))], empirical_piHosp.feature_importances_]),\n",
    "        ]))\n",
    "barplot(ax, dpoints)\n",
    "plt.show()"
   ]
  },
  {
   "cell_type": "code",
   "execution_count": 46,
   "metadata": {
    "collapsed": false
   },
   "outputs": [
    {
     "data": {
      "text/plain": [
       "[<matplotlib.lines.Line2D at 0x2b833dde1910>]"
      ]
     },
     "execution_count": 46,
     "metadata": {},
     "output_type": "execute_result"
    },
    {
     "data": {
      "image/png": "[encoded data removed]",
      "text/plain": [
       "<matplotlib.figure.Figure at 0x2b83472ad550>"
      ]
     },
     "metadata": {},
     "output_type": "display_data"
    }
   ],
   "source": [
    "plot(empirical_piHosp.predict([allTrainStates[s] for s in range(179)]))\n",
    "hold(True)\n",
    "plot([allTrainActions[s] for s in range(179)])"
   ]
  },
  {
   "cell_type": "code",
   "execution_count": 69,
   "metadata": {
    "collapsed": false
   },
   "outputs": [
    {
     "data": {
      "text/plain": [
       "[<matplotlib.lines.Line2D at 0x2b834edfeed0>]"
      ]
     },
     "execution_count": 69,
     "metadata": {},
     "output_type": "execute_result"
    },
    {
     "data": {
      "image/png": "[encoded data removed]",
      "text/plain": [
       "<matplotlib.figure.Figure at 0x2b832867f850>"
      ]
     },
     "metadata": {},
     "output_type": "display_data"
    }
   ],
   "source": [
    "plot(empirical_piHosp.predict(testStates[testPts[2]]))"
   ]
  },
  {
   "cell_type": "code",
   "execution_count": 61,
   "metadata": {
    "collapsed": false
   },
   "outputs": [
    {
     "ename": "ValueError",
     "evalue": "setting an array element with a sequence.",
     "output_type": "error",
     "traceback": [
      "\u001b[0;31m---------------------------------------------------------------------------\u001b[0m",
      "\u001b[0;31mValueError\u001b[0m                                Traceback (most recent call last)",
      "\u001b[0;32m<ipython-input-61-bbf047e63825>\u001b[0m in \u001b[0;36m<module>\u001b[0;34m()\u001b[0m\n\u001b[0;32m----> 1\u001b[0;31m \u001b[0mplot\u001b[0m\u001b[0;34m(\u001b[0m\u001b[0mempirical_piHosp\u001b[0m\u001b[0;34m.\u001b[0m\u001b[0mpredict\u001b[0m\u001b[0;34m(\u001b[0m\u001b[0;34m[\u001b[0m\u001b[0mtestStates\u001b[0m\u001b[0;34m[\u001b[0m\u001b[0mh\u001b[0m\u001b[0;34m]\u001b[0m \u001b[0;32mfor\u001b[0m \u001b[0mh\u001b[0m \u001b[0;32min\u001b[0m \u001b[0mtestPts\u001b[0m\u001b[0;34m]\u001b[0m\u001b[0;34m)\u001b[0m\u001b[0;34m)\u001b[0m\u001b[0;34m\u001b[0m\u001b[0m\n\u001b[0m\u001b[1;32m      2\u001b[0m \u001b[0mhold\u001b[0m\u001b[0;34m(\u001b[0m\u001b[0mTrue\u001b[0m\u001b[0;34m)\u001b[0m\u001b[0;34m\u001b[0m\u001b[0m\n\u001b[1;32m      3\u001b[0m \u001b[0;31m#plot([testAc[s] for s in range(366,460)])\u001b[0m\u001b[0;34m\u001b[0m\u001b[0;34m\u001b[0m\u001b[0m\n",
      "\u001b[0;32m/tigress/BEE/mimic/usr/np6/miniconda2/lib/python2.7/site-packages/sklearn/ensemble/forest.pyc\u001b[0m in \u001b[0;36mpredict\u001b[0;34m(self, X)\u001b[0m\n\u001b[1;32m    683\u001b[0m         \"\"\"\n\u001b[1;32m    684\u001b[0m         \u001b[0;31m# Check data\u001b[0m\u001b[0;34m\u001b[0m\u001b[0;34m\u001b[0m\u001b[0m\n\u001b[0;32m--> 685\u001b[0;31m         \u001b[0mX\u001b[0m \u001b[0;34m=\u001b[0m \u001b[0mself\u001b[0m\u001b[0;34m.\u001b[0m\u001b[0m_validate_X_predict\u001b[0m\u001b[0;34m(\u001b[0m\u001b[0mX\u001b[0m\u001b[0;34m)\u001b[0m\u001b[0;34m\u001b[0m\u001b[0m\n\u001b[0m\u001b[1;32m    686\u001b[0m \u001b[0;34m\u001b[0m\u001b[0m\n\u001b[1;32m    687\u001b[0m         \u001b[0;31m# Assign chunk of trees to jobs\u001b[0m\u001b[0;34m\u001b[0m\u001b[0;34m\u001b[0m\u001b[0m\n",
      "\u001b[0;32m/tigress/BEE/mimic/usr/np6/miniconda2/lib/python2.7/site-packages/sklearn/ensemble/forest.pyc\u001b[0m in \u001b[0;36m_validate_X_predict\u001b[0;34m(self, X)\u001b[0m\n\u001b[1;32m    353\u001b[0m                                  \"call `fit` before exploiting the model.\")\n\u001b[1;32m    354\u001b[0m \u001b[0;34m\u001b[0m\u001b[0m\n\u001b[0;32m--> 355\u001b[0;31m         \u001b[0;32mreturn\u001b[0m \u001b[0mself\u001b[0m\u001b[0;34m.\u001b[0m\u001b[0mestimators_\u001b[0m\u001b[0;34m[\u001b[0m\u001b[0;36m0\u001b[0m\u001b[0;34m]\u001b[0m\u001b[0;34m.\u001b[0m\u001b[0m_validate_X_predict\u001b[0m\u001b[0;34m(\u001b[0m\u001b[0mX\u001b[0m\u001b[0;34m,\u001b[0m \u001b[0mcheck_input\u001b[0m\u001b[0;34m=\u001b[0m\u001b[0mTrue\u001b[0m\u001b[0;34m)\u001b[0m\u001b[0;34m\u001b[0m\u001b[0m\n\u001b[0m\u001b[1;32m    356\u001b[0m \u001b[0;34m\u001b[0m\u001b[0m\n\u001b[1;32m    357\u001b[0m     \u001b[0;34m@\u001b[0m\u001b[0mproperty\u001b[0m\u001b[0;34m\u001b[0m\u001b[0m\n",
      "\u001b[0;32m/tigress/BEE/mimic/usr/np6/miniconda2/lib/python2.7/site-packages/sklearn/tree/tree.pyc\u001b[0m in \u001b[0;36m_validate_X_predict\u001b[0;34m(self, X, check_input)\u001b[0m\n\u001b[1;32m    363\u001b[0m \u001b[0;34m\u001b[0m\u001b[0m\n\u001b[1;32m    364\u001b[0m         \u001b[0;32mif\u001b[0m \u001b[0mcheck_input\u001b[0m\u001b[0;34m:\u001b[0m\u001b[0;34m\u001b[0m\u001b[0m\n\u001b[0;32m--> 365\u001b[0;31m             \u001b[0mX\u001b[0m \u001b[0;34m=\u001b[0m \u001b[0mcheck_array\u001b[0m\u001b[0;34m(\u001b[0m\u001b[0mX\u001b[0m\u001b[0;34m,\u001b[0m \u001b[0mdtype\u001b[0m\u001b[0;34m=\u001b[0m\u001b[0mDTYPE\u001b[0m\u001b[0;34m,\u001b[0m \u001b[0maccept_sparse\u001b[0m\u001b[0;34m=\u001b[0m\u001b[0;34m\"csr\"\u001b[0m\u001b[0;34m)\u001b[0m\u001b[0;34m\u001b[0m\u001b[0m\n\u001b[0m\u001b[1;32m    366\u001b[0m             if issparse(X) and (X.indices.dtype != np.intc or\n\u001b[1;32m    367\u001b[0m                                 X.indptr.dtype != np.intc):\n",
      "\u001b[0;32m/tigress/BEE/mimic/usr/np6/miniconda2/lib/python2.7/site-packages/sklearn/utils/validation.pyc\u001b[0m in \u001b[0;36mcheck_array\u001b[0;34m(array, accept_sparse, dtype, order, copy, force_all_finite, ensure_2d, allow_nd, ensure_min_samples, ensure_min_features, warn_on_dtype, estimator)\u001b[0m\n\u001b[1;32m    380\u001b[0m                                       force_all_finite)\n\u001b[1;32m    381\u001b[0m     \u001b[0;32melse\u001b[0m\u001b[0;34m:\u001b[0m\u001b[0;34m\u001b[0m\u001b[0m\n\u001b[0;32m--> 382\u001b[0;31m         \u001b[0marray\u001b[0m \u001b[0;34m=\u001b[0m \u001b[0mnp\u001b[0m\u001b[0;34m.\u001b[0m\u001b[0marray\u001b[0m\u001b[0;34m(\u001b[0m\u001b[0marray\u001b[0m\u001b[0;34m,\u001b[0m \u001b[0mdtype\u001b[0m\u001b[0;34m=\u001b[0m\u001b[0mdtype\u001b[0m\u001b[0;34m,\u001b[0m \u001b[0morder\u001b[0m\u001b[0;34m=\u001b[0m\u001b[0morder\u001b[0m\u001b[0;34m,\u001b[0m \u001b[0mcopy\u001b[0m\u001b[0;34m=\u001b[0m\u001b[0mcopy\u001b[0m\u001b[0;34m)\u001b[0m\u001b[0;34m\u001b[0m\u001b[0m\n\u001b[0m\u001b[1;32m    383\u001b[0m \u001b[0;34m\u001b[0m\u001b[0m\n\u001b[1;32m    384\u001b[0m         \u001b[0;32mif\u001b[0m \u001b[0mensure_2d\u001b[0m\u001b[0;34m:\u001b[0m\u001b[0;34m\u001b[0m\u001b[0m\n",
      "\u001b[0;31mValueError\u001b[0m: setting an array element with a sequence."
     ]
    }
   ],
   "source": [
    "plot(empirical_piHosp.predict([testStates[h] for h in testPts]))\n",
    "hold(True)\n",
    "#plot([testAc[s] for s in range(366,460)])"
   ]
  },
  {
   "cell_type": "code",
   "execution_count": 28,
   "metadata": {
    "collapsed": false
   },
   "outputs": [
    {
     "ename": "NameError",
     "evalue": "name 'discount' is not defined",
     "output_type": "error",
     "traceback": [
      "\u001b[0;31m---------------------------------------------------------------------------\u001b[0m",
      "\u001b[0;31mNameError\u001b[0m                                 Traceback (most recent call last)",
      "\u001b[0;32m<ipython-input-28-247868eaa689>\u001b[0m in \u001b[0;36m<module>\u001b[0;34m()\u001b[0m\n\u001b[0;32m----> 1\u001b[0;31m \u001b[0mdiscount\u001b[0m\u001b[0;34m\u001b[0m\u001b[0m\n\u001b[0m",
      "\u001b[0;31mNameError\u001b[0m: name 'discount' is not defined"
     ]
    }
   ],
   "source": [
    "discount"
   ]
  },
  {
   "cell_type": "code",
   "execution_count": 39,
   "metadata": {
    "collapsed": false
   },
   "outputs": [
    {
     "ename": "IndexError",
     "evalue": "list assignment index out of range",
     "output_type": "error",
     "traceback": [
      "\u001b[0;31m---------------------------------------------------------------------------\u001b[0m",
      "\u001b[0;31mIndexError\u001b[0m                                Traceback (most recent call last)",
      "\u001b[0;32m<ipython-input-39-f27ef4ad6948>\u001b[0m in \u001b[0;36m<module>\u001b[0;34m()\u001b[0m\n\u001b[1;32m      1\u001b[0m \u001b[0mdiscountedReward\u001b[0m \u001b[0;34m=\u001b[0m \u001b[0;34m[\u001b[0m\u001b[0;34m]\u001b[0m\u001b[0;34m\u001b[0m\u001b[0m\n\u001b[1;32m      2\u001b[0m \u001b[0;32mfor\u001b[0m \u001b[0mi\u001b[0m \u001b[0;32min\u001b[0m \u001b[0mrange\u001b[0m\u001b[0;34m(\u001b[0m\u001b[0;36m530\u001b[0m\u001b[0;34m)\u001b[0m\u001b[0;34m:\u001b[0m\u001b[0;34m\u001b[0m\u001b[0m\n\u001b[0;32m----> 3\u001b[0;31m     \u001b[0mdiscountedReward\u001b[0m\u001b[0;34m[\u001b[0m\u001b[0mi\u001b[0m\u001b[0;34m]\u001b[0m \u001b[0;34m=\u001b[0m \u001b[0marray\u001b[0m\u001b[0;34m(\u001b[0m\u001b[0mdiscount\u001b[0m\u001b[0;34m[\u001b[0m\u001b[0;34m:\u001b[0m\u001b[0mlen\u001b[0m\u001b[0;34m(\u001b[0m\u001b[0mtestRewards\u001b[0m\u001b[0;34m[\u001b[0m\u001b[0mhadms\u001b[0m\u001b[0;34m[\u001b[0m\u001b[0mi\u001b[0m\u001b[0;34m+\u001b[0m\u001b[0mos\u001b[0m\u001b[0;34m]\u001b[0m\u001b[0;34m]\u001b[0m\u001b[0;34m[\u001b[0m\u001b[0;34m:\u001b[0m\u001b[0;34m:\u001b[0m\u001b[0;36m1\u001b[0m\u001b[0;34m]\u001b[0m\u001b[0;34m)\u001b[0m\u001b[0;34m]\u001b[0m\u001b[0;34m)\u001b[0m \u001b[0;34m*\u001b[0m \u001b[0mtestRewards\u001b[0m\u001b[0;34m[\u001b[0m\u001b[0mhadms\u001b[0m\u001b[0;34m[\u001b[0m\u001b[0mi\u001b[0m\u001b[0;34m+\u001b[0m\u001b[0mos\u001b[0m\u001b[0;34m]\u001b[0m\u001b[0;34m]\u001b[0m\u001b[0;34m[\u001b[0m\u001b[0;34m:\u001b[0m\u001b[0;34m:\u001b[0m\u001b[0;34m-\u001b[0m\u001b[0;36m1\u001b[0m\u001b[0;34m]\u001b[0m\u001b[0;34m\u001b[0m\u001b[0m\n\u001b[0m\u001b[1;32m      4\u001b[0m \u001b[0;34m\u001b[0m\u001b[0m\n\u001b[1;32m      5\u001b[0m \u001b[0;34m\u001b[0m\u001b[0m\n",
      "\u001b[0;31mIndexError\u001b[0m: list assignment index out of range"
     ]
    }
   ],
   "source": [
    "discountedReward = []\n",
    "for i in range(530):\n",
    "    discountedReward[i] = array(discount[:len(testRewards[hadms[i+os]][::1])]) * testRewards[hadms[i+os]][::-1]\n",
    "    \n",
    "\n",
    "[array(discount[:len(testRewards[hadms[i+os]][::1])]) * testRewards[hadms[i+os]][::-1] for i in range(530)]"
   ]
  },
  {
   "cell_type": "code",
   "execution_count": null,
   "metadata": {
    "collapsed": true
   },
   "outputs": [],
   "source": [
    "# Importance Sampling\n",
    "\n",
    "for pt in testPts:\n",
    "    \n",
    "    "
   ]
  }
 ],
 "metadata": {
  "anaconda-cloud": {},
  "kernelspec": {
   "display_name": "Python [default]",
   "language": "python",
   "name": "python2"
  },
  "language_info": {
   "codemirror_mode": {
    "name": "ipython",
    "version": 2
   },
   "file_extension": ".py",
   "mimetype": "text/x-python",
   "name": "python",
   "nbconvert_exporter": "python",
   "pygments_lexer": "ipython2",
   "version": "2.7.12"
  }
 },
 "nbformat": 4,
 "nbformat_minor": 1
}
