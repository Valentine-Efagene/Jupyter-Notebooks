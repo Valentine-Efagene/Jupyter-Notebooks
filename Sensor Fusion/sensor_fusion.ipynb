{
 "cells": [
  {
   "cell_type": "code",
   "execution_count": 45,
   "metadata": {},
   "outputs": [],
   "source": [
    "import re\n",
    "import os\n",
    "import copy\n",
    "import matplotlib.pyplot as plt"
   ]
  },
  {
   "cell_type": "markdown",
   "metadata": {},
   "source": [
    "### Build"
   ]
  },
  {
   "cell_type": "markdown",
   "metadata": {},
   "source": [
    "### Run"
   ]
  },
  {
   "cell_type": "markdown",
   "metadata": {},
   "source": [
    "###### Running the cell below will generate the sensorfusion.txt file, which is needed for the rest of the analysis. I have included the file already; so, I made this a markup cell. If you have set up the environment, and wish to run it, please convert to code cell."
   ]
  },
  {
   "cell_type": "markdown",
   "metadata": {},
   "source": [
    "import subprocess\n",
    "command = \"D:/code/C++/RT-Cadmium-FDD/top_model/main.exe\"\n",
    "completed_process = subprocess.run(command, shell=False, capture_output=True, text=True)\n",
    "#print(completed_process.stdout)"
   ]
  },
  {
   "cell_type": "markdown",
   "metadata": {},
   "source": [
    "\n",
    "### Read from file"
   ]
  },
  {
   "cell_type": "code",
   "execution_count": 47,
   "metadata": {},
   "outputs": [
    {
     "ename": "NameError",
     "evalue": "name 'fault_codes' is not defined",
     "output_type": "error",
     "traceback": [
      "\u001b[1;31m---------------------------------------------------------------------------\u001b[0m",
      "\u001b[1;31mNameError\u001b[0m                                 Traceback (most recent call last)",
      "\u001b[1;32m<ipython-input-47-6ea381242b1f>\u001b[0m in \u001b[0;36m<module>\u001b[1;34m\u001b[0m\n\u001b[0;32m     25\u001b[0m     \u001b[0mgenerators\u001b[0m\u001b[1;33m[\u001b[0m\u001b[0mkey\u001b[0m\u001b[1;33m]\u001b[0m \u001b[1;33m=\u001b[0m \u001b[0mlen\u001b[0m\u001b[1;33m(\u001b[0m\u001b[0mre\u001b[0m\u001b[1;33m.\u001b[0m\u001b[0mfindall\u001b[0m\u001b[1;33m(\u001b[0m\u001b[1;34m\"faultGen\"\u001b[0m \u001b[1;33m+\u001b[0m \u001b[0mkey\u001b[0m\u001b[1;33m,\u001b[0m \u001b[0moutput\u001b[0m\u001b[1;33m)\u001b[0m\u001b[1;33m)\u001b[0m\u001b[1;33m\u001b[0m\u001b[1;33m\u001b[0m\u001b[0m\n\u001b[0;32m     26\u001b[0m \u001b[1;33m\u001b[0m\u001b[0m\n\u001b[1;32m---> 27\u001b[1;33m \u001b[0mvalues\u001b[0m \u001b[1;33m=\u001b[0m \u001b[0mlist\u001b[0m\u001b[1;33m(\u001b[0m\u001b[0mfault_codes\u001b[0m\u001b[1;33m.\u001b[0m\u001b[0mvalues\u001b[0m\u001b[1;33m(\u001b[0m\u001b[1;33m)\u001b[0m\u001b[1;33m)\u001b[0m\u001b[1;33m\u001b[0m\u001b[1;33m\u001b[0m\u001b[0m\n\u001b[0m\u001b[0;32m     28\u001b[0m \u001b[0mkeys\u001b[0m \u001b[1;33m=\u001b[0m \u001b[0mlist\u001b[0m\u001b[1;33m(\u001b[0m\u001b[0mfault_codes\u001b[0m\u001b[1;33m.\u001b[0m\u001b[0mkeys\u001b[0m\u001b[1;33m(\u001b[0m\u001b[1;33m)\u001b[0m\u001b[1;33m)\u001b[0m\u001b[1;33m\u001b[0m\u001b[1;33m\u001b[0m\u001b[0m\n",
      "\u001b[1;31mNameError\u001b[0m: name 'fault_codes' is not defined"
     ]
    }
   ],
   "source": [
    "fileName = \"SensorFusion.txt\"\n",
    "\n",
    "with open(fileName, \"r\") as f:\n",
    "    lines = f.readlines()\n",
    "    \n",
    "faults = {\"{1}\": \"A1\", \"{2}\": \"B1\", \"{3}\": \"C1\", \"{4}\": \"D1\", \"{1, 2}\": \"A1B1\", \"{1, 3}\": \"A1C1\", \"{1, 4}\": \"A1D1\", \"{2, 3}\": \"B1C1\", \"{3, 4}\": \"C1D1\", }\n",
    "pure_fault_dict = {'A1': 1, 'B1': 2, 'C1': 3, 'D1': 4}\n",
    "fault_freq = {}\n",
    "\n",
    "for key in faults.values():\n",
    "    fault_freq[key] = 0\n",
    "    \n",
    "for line in lines:\n",
    "    if (re.search(\"supervisor\", line) == None):\n",
    "        continue\n",
    "        \n",
    "    interest = re.findall(\"\\{\\d+[,]*\\s*\\d*\\}\", line)[0]\n",
    "    fault_freq[faults[interest]] += 1\n",
    "    \n",
    "with open(fileName, \"r\") as f:\n",
    "    output = f.read()\n",
    "generators = {'A': 0, 'B': 0, 'C': 0, 'D': 0}\n",
    "\n",
    "for key in generators.keys():\n",
    "    generators[key] = len(re.findall(\"faultGen\" + key, output))\n",
    "    \n",
    "values = list(fault_codes.values())\n",
    "keys = list(fault_codes.keys())"
   ]
  },
  {
   "cell_type": "code",
   "execution_count": 59,
   "metadata": {},
   "outputs": [
    {
     "data": {
      "text/plain": [
       "{'A1': 8,\n",
       " 'B1': 45,\n",
       " 'C1': 9,\n",
       " 'D1': 13,\n",
       " 'A1B1': 4,\n",
       " 'A1C1': 2,\n",
       " 'A1D1': 2,\n",
       " 'B1C1': 5,\n",
       " 'C1D1': 2}"
      ]
     },
     "execution_count": 59,
     "metadata": {},
     "output_type": "execute_result"
    }
   ],
   "source": [
    "generators\n",
    "fault_freq"
   ]
  },
  {
   "cell_type": "code",
   "execution_count": null,
   "metadata": {},
   "outputs": [],
   "source": [
    "def sumFromSupervisor(code):\n",
    "    '''\n",
    "    Returns the number of times faults associated with a particular pure fault (the parameter) were output by the supervisor\n",
    "\n",
    "    @param code: string\n",
    "    @return int\n",
    "    '''\n",
    "    sum = 0\n",
    "    \n",
    "    for key, value in fault_freq.items():\n",
    "        if code in key:\n",
    "            sum += value;\n",
    "            \n",
    "    return sum;"
   ]
  },
  {
   "cell_type": "markdown",
   "metadata": {},
   "source": [
    "### ANALYSIS / VERIFICATION"
   ]
  },
  {
   "cell_type": "markdown",
   "metadata": {},
   "source": [
    "#### Definitions"
   ]
  },
  {
   "cell_type": "markdown",
   "metadata": {},
   "source": [
    "**Pure Fault**: Faults from a single generator.  \n",
    "**Compound Faults**: Faults formed from the combination of pure faults."
   ]
  },
  {
   "cell_type": "markdown",
   "metadata": {},
   "source": [
    "### Premise"
   ]
  },
  {
   "cell_type": "markdown",
   "metadata": {},
   "source": [
    "Fault $A1$: Should have no discarded entry, because it has the highest priority  \n",
    "Fault $B1$: Should have some discarded value, for the case $BD$, which is not available  \n",
    "Fault $C1$: Higher percentage of discarded cases than $C$, because of its lower priority  \n",
    "Fault $D1$: Highest percentage of discarded cases, because it has the lowest priority  "
   ]
  },
  {
   "cell_type": "markdown",
   "metadata": {},
   "source": [
    "Generator $output_{A1} = n({A1}) + n({A1} \\cap {B1}) + n({A1} \\cap {C1}) + n({A1} \\cap {D1}) + discarded_{A1}$  \n",
    "Generator $output_{B1} = n({B1}) + n({A1} \\cap {B1}) + n({B1} \\cap {C1}) + discarded_{B1}$  \n",
    "Generator $output_{C1} = n({C1}) + n({A1} \\cap {C1}) + n({B1} \\cap {C1}) + n({C1} \\cap {D1}) + discarded_{C1}$  \n",
    "Generator $output_{D1} = n({D1}) + n({A1} \\cap {D1}) + n({C1} \\cap {D1}) + discarded_{D1}$  \n",
    "\n",
    "Where $discarded_{D1} \\equiv 0$, because A has the highest priority  "
   ]
  },
  {
   "cell_type": "markdown",
   "metadata": {},
   "source": [
    "The sole reason for the existence of a discarded $B1$ fault is the priority system. It happens at line $226$, time $00:00:05:580$, where fault generators $A1$ and $B1$ send their signals simultaneously, and state $A1$ alone gets set to true, because by the priority system, the external transition function returns immediately after the first loop it hits, which in this case, is the $A1$ loop. If you remove the return statements in the loops of the external transition function, all $B1$ faults are handled, and $discarded_{B1}$ becomes $0$."
   ]
  },
  {
   "cell_type": "markdown",
   "metadata": {},
   "source": [
    "### Discarded"
   ]
  },
  {
   "cell_type": "code",
   "execution_count": 48,
   "metadata": {},
   "outputs": [
    {
     "data": {
      "text/plain": [
       "{'A': 0, 'B': 1, 'C': 2, 'D': 20}"
      ]
     },
     "execution_count": 48,
     "metadata": {},
     "output_type": "execute_result"
    }
   ],
   "source": [
    "discarded = {}\n",
    "discarded['A'] = generators['A'] - sumFromSupervisor(\"A1\")\n",
    "discarded['B'] = generators['B'] - sumFromSupervisor(\"B1\")\n",
    "discarded['C'] = generators['C'] - sumFromSupervisor(\"C1\")\n",
    "discarded['D'] = generators['D'] - sumFromSupervisor(\"D1\")\n",
    "discarded"
   ]
  },
  {
   "cell_type": "code",
   "execution_count": 49,
   "metadata": {},
   "outputs": [
    {
     "data": {
      "image/png": "[encoded data removed]",
      "text/plain": [
       "<Figure size 432x288 with 1 Axes>"
      ]
     },
     "metadata": {
      "needs_background": "light"
     },
     "output_type": "display_data"
    }
   ],
   "source": [
    "#plt.title('Discarded Bar')\n",
    "plt.bar(discarded.keys(), discarded.values())\n",
    "plt.grid()\n",
    "#plt.show()\n",
    "plt.savefig('discarded bar.png', format='png')"
   ]
  },
  {
   "cell_type": "code",
   "execution_count": 50,
   "metadata": {},
   "outputs": [
    {
     "data": {
      "image/png": "[encoded data removed]",
      "text/plain": [
       "<Figure size 432x288 with 1 Axes>"
      ]
     },
     "metadata": {},
     "output_type": "display_data"
    }
   ],
   "source": [
    "keys, values = list(discarded.keys()), list(discarded.values())\n",
    "legend_keys = copy.copy(keys)\n",
    "\n",
    "for i in range(len(keys)):\n",
    "     legend_keys[i] = str(legend_keys[i]) + \" = \" + str(values[i])\n",
    "\n",
    "# Remove wedgeprops to make pie\n",
    "wedges, texts = plt.pie(values, textprops=dict(color=\"w\"), wedgeprops=dict(width=0.5))\n",
    "plt.legend(wedges, legend_keys,\n",
    "          title=\"Fault Codes\",\n",
    "          loc=\"center left\",\n",
    "          bbox_to_anchor=(1, 0, 0.5, 1))\n",
    "\n",
    "#plt.title(\"Discarded Pie\")\n",
    "#plt.show()\n",
    "plt.savefig('discard pie.png', format='png')"
   ]
  },
  {
   "cell_type": "markdown",
   "metadata": {},
   "source": [
    "### Single Run"
   ]
  },
  {
   "cell_type": "code",
   "execution_count": 58,
   "metadata": {},
   "outputs": [
    {
     "data": {
      "image/png": "[encoded data removed]",
      "text/plain": [
       "<Figure size 432x288 with 1 Axes>"
      ]
     },
     "metadata": {
      "needs_background": "light"
     },
     "output_type": "display_data"
    }
   ],
   "source": [
    "chart_data = copy.copy(fault_freq)\n",
    "values = list(chart_data.values())\n",
    "keys = list(chart_data.keys())\n",
    "\n",
    "plt.title('Single-Run')\n",
    "plt.bar(keys, values)\n",
    "plt.grid()\n",
    "plt.show()\n",
    "#plt.savefig('single-run bar.png')"
   ]
  },
  {
   "cell_type": "code",
   "execution_count": 57,
   "metadata": {},
   "outputs": [
    {
     "data": {
      "image/png": "[encoded data removed]",
      "text/plain": [
       "<Figure size 432x288 with 1 Axes>"
      ]
     },
     "metadata": {},
     "output_type": "display_data"
    }
   ],
   "source": [
    "# Remove wedgeprops to make pie\n",
    "wedges, texts = plt.pie(values, \n",
    "                        textprops=dict(color=\"w\"), \n",
    "                        wedgeprops=dict(width=0.5))\n",
    "\n",
    "legend_keys = copy.copy(keys)\n",
    "\n",
    "for i in range(len(keys)):\n",
    "     legend_keys[i] = str(legend_keys[i]) + \" \" + str(values[i]) + \" \" + \"times\"\n",
    "        \n",
    "plt.legend(wedges, legend_keys,\n",
    "          title=\"Fault Codes\",\n",
    "          loc=\"center left\",\n",
    "          bbox_to_anchor=(1, 0, 0.5, 1))\n",
    "\n",
    "plt.title(\"Single-Run\")\n",
    "plt.show()\n",
    "#plt.savefig('single-run pie.png')"
   ]
  },
  {
   "cell_type": "markdown",
   "metadata": {},
   "source": [
    "### Bar Chat"
   ]
  },
  {
   "cell_type": "code",
   "execution_count": 56,
   "metadata": {},
   "outputs": [
    {
     "data": {
      "image/png": "[encoded data removed]",
      "text/plain": [
       "<Figure size 432x288 with 1 Axes>"
      ]
     },
     "metadata": {
      "needs_background": "light"
     },
     "output_type": "display_data"
    }
   ],
   "source": [
    "#plt.title('Sensor Fusion')\n",
    "plt.bar(keys, values)\n",
    "plt.grid()\n",
    "#plt.show()\n",
    "plt.savefig('single-run pie.png')"
   ]
  },
  {
   "cell_type": "markdown",
   "metadata": {},
   "source": [
    "### Doughnut"
   ]
  },
  {
   "cell_type": "code",
   "execution_count": 54,
   "metadata": {},
   "outputs": [
    {
     "data": {
      "image/png": "[encoded data removed]",
      "text/plain": [
       "<Figure size 432x288 with 1 Axes>"
      ]
     },
     "metadata": {},
     "output_type": "display_data"
    }
   ],
   "source": [
    "legend_keys = copy.copy(keys)\n",
    "\n",
    "for i in range(len(keys)):\n",
    "     legend_keys[i] += \" with frequency \" + str(values[i])\n",
    "\n",
    "# Remove wedgeprops to make pie\n",
    "wedges, texts = plt.pie(values, textprops=dict(color=\"w\"), wedgeprops=dict(width=0.5))\n",
    "plt.legend(wedges, legend_keys,\n",
    "          title=\"Fault Codes\",\n",
    "          loc=\"center left\",\n",
    "          bbox_to_anchor=(1, 0, 0.5, 1))\n",
    "\n",
    "plt.title(\"Sensor Fusion\")\n",
    "plt.show()"
   ]
  },
  {
   "cell_type": "markdown",
   "metadata": {},
   "source": [
    "### Internal Transition"
   ]
  },
  {
   "cell_type": "code",
   "execution_count": 55,
   "metadata": {},
   "outputs": [
    {
     "data": {
      "image/svg+xml": [
       "<?xml version=\"1.0\" encoding=\"UTF-8\" standalone=\"no\"?>\r\n",
       "<!DOCTYPE svg PUBLIC \"-//W3C//DTD SVG 1.1//EN\"\r\n",
       " \"http://www.w3.org/Graphics/SVG/1.1/DTD/svg11.dtd\">\r\n",
       "<!-- Generated by graphviz version 2.38.0 (20140413.2041)\r\n",
       " -->\r\n",
       "<!-- Title: %3 Pages: 1 -->\r\n",
       "<svg width=\"135pt\" height=\"262pt\"\r\n",
       " viewBox=\"0.00 0.00 135.00 262.00\" xmlns=\"http://www.w3.org/2000/svg\" xmlns:xlink=\"http://www.w3.org/1999/xlink\">\r\n",
       "<g id=\"graph0\" class=\"graph\" transform=\"scale(1 1) rotate(0) translate(4 258)\">\r\n",
       "<title>%3</title>\r\n",
       "<polygon fill=\"white\" stroke=\"none\" points=\"-4,4 -4,-258 131,-258 131,4 -4,4\"/>\r\n",
       "<!-- S -->\r\n",
       "<g id=\"node1\" class=\"node\"><title>S</title>\r\n",
       "<ellipse fill=\"none\" stroke=\"black\" cx=\"63.5\" cy=\"-236\" rx=\"27.8951\" ry=\"18\"/>\r\n",
       "<text text-anchor=\"middle\" x=\"63.5\" y=\"-232.3\" font-family=\"Times New Roman,serif\" font-size=\"14.00\">Start</text>\r\n",
       "</g>\r\n",
       "<!-- 0 -->\r\n",
       "<g id=\"node2\" class=\"node\"><title>0</title>\r\n",
       "<polygon fill=\"none\" stroke=\"black\" points=\"117,-182 10,-182 10,-146 117,-146 117,-182\"/>\r\n",
       "<text text-anchor=\"middle\" x=\"63.5\" y=\"-160.3\" font-family=\"Times New Roman,serif\" font-size=\"14.00\">state.idle = false</text>\r\n",
       "</g>\r\n",
       "<!-- S&#45;&gt;0 -->\r\n",
       "<g id=\"edge1\" class=\"edge\"><title>S&#45;&gt;0</title>\r\n",
       "<path fill=\"none\" stroke=\"black\" d=\"M63.5,-217.831C63.5,-217.831 63.5,-192.413 63.5,-192.413\"/>\r\n",
       "<polygon fill=\"black\" stroke=\"black\" points=\"63.5,-182.413 68.0001,-192.413 63.5,-187.413 63.5001,-192.413 63.5001,-192.413 63.5001,-192.413 63.5,-187.413 59.0001,-192.413 63.5,-182.413 63.5,-182.413\"/>\r\n",
       "</g>\r\n",
       "<!-- 1 -->\r\n",
       "<g id=\"node3\" class=\"node\"><title>1</title>\r\n",
       "<polygon fill=\"none\" stroke=\"black\" points=\"127,-110 -7.10543e-015,-110 -7.10543e-015,-72 127,-72 127,-110\"/>\r\n",
       "<text text-anchor=\"middle\" x=\"63.5\" y=\"-94.8\" font-family=\"Times New Roman,serif\" font-size=\"14.00\">Reset all fault states</text>\r\n",
       "<text text-anchor=\"middle\" x=\"63.5\" y=\"-79.8\" font-family=\"Times New Roman,serif\" font-size=\"14.00\">to 0</text>\r\n",
       "</g>\r\n",
       "<!-- 0&#45;&gt;1 -->\r\n",
       "<g id=\"edge2\" class=\"edge\"><title>0&#45;&gt;1</title>\r\n",
       "<path fill=\"none\" stroke=\"black\" d=\"M63.5,-145.955C63.5,-145.955 63.5,-120.113 63.5,-120.113\"/>\r\n",
       "<polygon fill=\"black\" stroke=\"black\" points=\"63.5,-110.113 68.0001,-120.113 63.5,-115.113 63.5001,-120.113 63.5001,-120.113 63.5001,-120.113 63.5,-115.113 59.0001,-120.113 63.5,-110.113 63.5,-110.113\"/>\r\n",
       "</g>\r\n",
       "<!-- E -->\r\n",
       "<g id=\"node4\" class=\"node\"><title>E</title>\r\n",
       "<ellipse fill=\"none\" stroke=\"black\" cx=\"63.5\" cy=\"-18\" rx=\"27\" ry=\"18\"/>\r\n",
       "<text text-anchor=\"middle\" x=\"63.5\" y=\"-14.3\" font-family=\"Times New Roman,serif\" font-size=\"14.00\">End</text>\r\n",
       "</g>\r\n",
       "<!-- 1&#45;&gt;E -->\r\n",
       "<g id=\"edge3\" class=\"edge\"><title>1&#45;&gt;E</title>\r\n",
       "<path fill=\"none\" stroke=\"black\" d=\"M63.5,-71.8201C63.5,-71.8201 63.5,-46.2973 63.5,-46.2973\"/>\r\n",
       "<polygon fill=\"black\" stroke=\"black\" points=\"63.5,-36.2973 68.0001,-46.2973 63.5,-41.2973 63.5001,-46.2973 63.5001,-46.2973 63.5001,-46.2973 63.5,-41.2973 59.0001,-46.2974 63.5,-36.2973 63.5,-36.2973\"/>\r\n",
       "</g>\r\n",
       "</g>\r\n",
       "</svg>\r\n"
      ],
      "text/plain": [
       "<graphviz.dot.Digraph at 0x1eef64e97f0>"
      ]
     },
     "execution_count": 55,
     "metadata": {},
     "output_type": "execute_result"
    }
   ],
   "source": [
    "from graphviz import Digraph\n",
    "\n",
    "dot = Digraph(node_attr={'shape': 'box'}, format='png', filename='internal transition.png', graph_attr = {'splines': 'ortho'})\n",
    "dot.edge_attr.update(arrowhead='vee', arrowsize='1')\n",
    "\n",
    "dot.node('S', shape='oval', label='Start')\n",
    "dot.node('0', label='state.idle = false')\n",
    "dot.node('1', label='Reset all fault states\\nto 0')\n",
    "dot.node('E', shape='oval', label='End')\n",
    "\n",
    "dot.edge('S', '0')  \n",
    "dot.edge('0', '1')\n",
    "dot.edge('1', 'E')\n",
    "dot.save()\n",
    "dot.render(view=False)\n",
    "dot"
   ]
  },
  {
   "cell_type": "markdown",
   "metadata": {},
   "source": [
    "### External Transition"
   ]
  },
  {
   "cell_type": "code",
   "execution_count": 26,
   "metadata": {},
   "outputs": [
    {
     "data": {
      "image/svg+xml": [
       "<?xml version=\"1.0\" encoding=\"UTF-8\" standalone=\"no\"?>\r\n",
       "<!DOCTYPE svg PUBLIC \"-//W3C//DTD SVG 1.1//EN\"\r\n",
       " \"http://www.w3.org/Graphics/SVG/1.1/DTD/svg11.dtd\">\r\n",
       "<!-- Generated by graphviz version 2.38.0 (20140413.2041)\r\n",
       " -->\r\n",
       "<!-- Title: %3 Pages: 1 -->\r\n",
       "<svg width=\"220pt\" height=\"322pt\"\r\n",
       " viewBox=\"0.00 0.00 220.00 322.00\" xmlns=\"http://www.w3.org/2000/svg\" xmlns:xlink=\"http://www.w3.org/1999/xlink\">\r\n",
       "<g id=\"graph0\" class=\"graph\" transform=\"scale(1 1) rotate(0) translate(4 318)\">\r\n",
       "<title>%3</title>\r\n",
       "<polygon fill=\"white\" stroke=\"none\" points=\"-4,4 -4,-318 216,-318 216,4 -4,4\"/>\r\n",
       "<!-- S -->\r\n",
       "<g id=\"node1\" class=\"node\"><title>S</title>\r\n",
       "<ellipse fill=\"none\" stroke=\"black\" cx=\"106\" cy=\"-296\" rx=\"27.8951\" ry=\"18\"/>\r\n",
       "<text text-anchor=\"middle\" x=\"106\" y=\"-292.3\" font-family=\"Times New Roman,serif\" font-size=\"14.00\">Start</text>\r\n",
       "</g>\r\n",
       "<!-- 0 -->\r\n",
       "<g id=\"node2\" class=\"node\"><title>0</title>\r\n",
       "<polygon fill=\"none\" stroke=\"black\" points=\"159.5,-242 52.5,-242 52.5,-206 159.5,-206 159.5,-242\"/>\r\n",
       "<text text-anchor=\"middle\" x=\"106\" y=\"-220.3\" font-family=\"Times New Roman,serif\" font-size=\"14.00\">state.idle = false</text>\r\n",
       "</g>\r\n",
       "<!-- S&#45;&gt;0 -->\r\n",
       "<g id=\"edge1\" class=\"edge\"><title>S&#45;&gt;0</title>\r\n",
       "<path fill=\"none\" stroke=\"black\" d=\"M106,-277.831C106,-277.831 106,-252.413 106,-252.413\"/>\r\n",
       "<polygon fill=\"black\" stroke=\"black\" points=\"106,-242.413 110.5,-252.413 106,-247.413 106,-252.413 106,-252.413 106,-252.413 106,-247.413 101.5,-252.413 106,-242.413 106,-242.413\"/>\r\n",
       "</g>\r\n",
       "<!-- 1 -->\r\n",
       "<g id=\"node3\" class=\"node\"><title>1</title>\r\n",
       "<polygon fill=\"none\" stroke=\"black\" points=\"212,-170 0,-170 0,-72 212,-72 212,-170\"/>\r\n",
       "<text text-anchor=\"middle\" x=\"106\" y=\"-154.8\" font-family=\"Times New Roman,serif\" font-size=\"14.00\">Save only the output of the</text>\r\n",
       "<text text-anchor=\"middle\" x=\"106\" y=\"-139.8\" font-family=\"Times New Roman,serif\" font-size=\"14.00\">generator of highest priority</text>\r\n",
       "<text text-anchor=\"middle\" x=\"106\" y=\"-124.8\" font-family=\"Times New Roman,serif\" font-size=\"14.00\">that produced an output</text>\r\n",
       "<text text-anchor=\"middle\" x=\"106\" y=\"-109.8\" font-family=\"Times New Roman,serif\" font-size=\"14.00\">in corresponding state variables,</text>\r\n",
       "<text text-anchor=\"middle\" x=\"106\" y=\"-94.8\" font-family=\"Times New Roman,serif\" font-size=\"14.00\">and ignore any other that</text>\r\n",
       "<text text-anchor=\"middle\" x=\"106\" y=\"-79.8\" font-family=\"Times New Roman,serif\" font-size=\"14.00\">produced an output simultaneously</text>\r\n",
       "</g>\r\n",
       "<!-- 0&#45;&gt;1 -->\r\n",
       "<g id=\"edge2\" class=\"edge\"><title>0&#45;&gt;1</title>\r\n",
       "<path fill=\"none\" stroke=\"black\" d=\"M106,-205.586C106,-205.586 106,-180.195 106,-180.195\"/>\r\n",
       "<polygon fill=\"black\" stroke=\"black\" points=\"106,-170.195 110.5,-180.195 106,-175.195 106,-180.195 106,-180.195 106,-180.195 106,-175.195 101.5,-180.195 106,-170.195 106,-170.195\"/>\r\n",
       "</g>\r\n",
       "<!-- E -->\r\n",
       "<g id=\"node4\" class=\"node\"><title>E</title>\r\n",
       "<ellipse fill=\"none\" stroke=\"black\" cx=\"106\" cy=\"-18\" rx=\"27\" ry=\"18\"/>\r\n",
       "<text text-anchor=\"middle\" x=\"106\" y=\"-14.3\" font-family=\"Times New Roman,serif\" font-size=\"14.00\">End</text>\r\n",
       "</g>\r\n",
       "<!-- 1&#45;&gt;E -->\r\n",
       "<g id=\"edge3\" class=\"edge\"><title>1&#45;&gt;E</title>\r\n",
       "<path fill=\"none\" stroke=\"black\" d=\"M106,-71.9133C106,-71.9133 106,-46.4589 106,-46.4589\"/>\r\n",
       "<polygon fill=\"black\" stroke=\"black\" points=\"106,-36.4589 110.5,-46.4589 106,-41.4589 106,-46.4589 106,-46.4589 106,-46.4589 106,-41.4589 101.5,-46.459 106,-36.4589 106,-36.4589\"/>\r\n",
       "</g>\r\n",
       "</g>\r\n",
       "</svg>\r\n"
      ],
      "text/plain": [
       "<graphviz.dot.Digraph at 0x1eeeafba670>"
      ]
     },
     "execution_count": 26,
     "metadata": {},
     "output_type": "execute_result"
    }
   ],
   "source": [
    "from graphviz import Digraph\n",
    "\n",
    "dot = Digraph(node_attr={'shape': 'box'}, format='png', filename='external transition.png', graph_attr = {'splines': 'ortho'})\n",
    "dot.edge_attr.update(arrowhead='vee', arrowsize='1')\n",
    "\n",
    "dot.node('S', shape='oval', label='Start')\n",
    "dot.node('0', label='state.idle = false')\n",
    "dot.node('1', label='Save only the output of the\\ngenerator of highest priority\\nthat produced an output\\nin corresponding state variables,\\nand ignore any other that\\nproduced an output simultaneously')\n",
    "dot.node('E', shape='oval', label='End')\n",
    "\n",
    "dot.edge('S', '0')  \n",
    "dot.edge('0', '1')\n",
    "dot.edge('1', 'E')\n",
    "dot.save()\n",
    "dot.render(view=False)\n",
    "dot"
   ]
  },
  {
   "cell_type": "markdown",
   "metadata": {},
   "source": [
    "### Output"
   ]
  },
  {
   "cell_type": "code",
   "execution_count": 44,
   "metadata": {
    "scrolled": false
   },
   "outputs": [
    {
     "data": {
      "image/svg+xml": [
       "<?xml version=\"1.0\" encoding=\"UTF-8\" standalone=\"no\"?>\r\n",
       "<!DOCTYPE svg PUBLIC \"-//W3C//DTD SVG 1.1//EN\"\r\n",
       " \"http://www.w3.org/Graphics/SVG/1.1/DTD/svg11.dtd\">\r\n",
       "<!-- Generated by graphviz version 2.38.0 (20140413.2041)\r\n",
       " -->\r\n",
       "<!-- Title: %3 Pages: 1 -->\r\n",
       "<svg width=\"387pt\" height=\"2096pt\"\r\n",
       " viewBox=\"0.00 0.00 386.50 2096.00\" xmlns=\"http://www.w3.org/2000/svg\" xmlns:xlink=\"http://www.w3.org/1999/xlink\">\r\n",
       "<g id=\"graph0\" class=\"graph\" transform=\"scale(1 1) rotate(0) translate(4 2092)\">\r\n",
       "<title>%3</title>\r\n",
       "<polygon fill=\"white\" stroke=\"none\" points=\"-4,4 -4,-2092 382.5,-2092 382.5,4 -4,4\"/>\r\n",
       "<!-- S -->\r\n",
       "<g id=\"node1\" class=\"node\"><title>S</title>\r\n",
       "<ellipse fill=\"none\" stroke=\"black\" cx=\"122\" cy=\"-2070\" rx=\"27.8951\" ry=\"18\"/>\r\n",
       "<text text-anchor=\"middle\" x=\"122\" y=\"-2066.3\" font-family=\"Times New Roman,serif\" font-size=\"14.00\">Start</text>\r\n",
       "</g>\r\n",
       "<!-- 0 -->\r\n",
       "<g id=\"node2\" class=\"node\"><title>0</title>\r\n",
       "<polygon fill=\"none\" stroke=\"black\" points=\"167.5,-2015 76.5,-2015 76.5,-1947 167.5,-1947 167.5,-2015\"/>\r\n",
       "<text text-anchor=\"middle\" x=\"122\" y=\"-1999.8\" font-family=\"Times New Roman,serif\" font-size=\"14.00\">Get first pure</text>\r\n",
       "<text text-anchor=\"middle\" x=\"122\" y=\"-1984.8\" font-family=\"Times New Roman,serif\" font-size=\"14.00\">fault state</text>\r\n",
       "<text text-anchor=\"middle\" x=\"122\" y=\"-1969.8\" font-family=\"Times New Roman,serif\" font-size=\"14.00\">and</text>\r\n",
       "<text text-anchor=\"middle\" x=\"122\" y=\"-1954.8\" font-family=\"Times New Roman,serif\" font-size=\"14.00\">put into key</text>\r\n",
       "</g>\r\n",
       "<!-- S&#45;&gt;0 -->\r\n",
       "<g id=\"edge1\" class=\"edge\"><title>S&#45;&gt;0</title>\r\n",
       "<path fill=\"none\" stroke=\"black\" d=\"M122,-2051.81C122,-2044.1 122,-2034.63 122,-2025.17\"/>\r\n",
       "<polygon fill=\"black\" stroke=\"black\" points=\"122,-2015 126.5,-2025 122,-2020 122,-2025 122,-2025 122,-2025 122,-2020 117.5,-2025 122,-2015 122,-2015\"/>\r\n",
       "</g>\r\n",
       "<!-- 1 -->\r\n",
       "<g id=\"node3\" class=\"node\"><title>1</title>\r\n",
       "<polygon fill=\"none\" stroke=\"black\" points=\"202.5,-1910 41.5,-1910 41.5,-1874 202.5,-1874 202.5,-1910\"/>\r\n",
       "<text text-anchor=\"middle\" x=\"122\" y=\"-1888.3\" font-family=\"Times New Roman,serif\" font-size=\"14.00\">key = &quot;&quot; &amp; fault_key = &quot;&quot;</text>\r\n",
       "</g>\r\n",
       "<!-- 0&#45;&gt;1 -->\r\n",
       "<g id=\"edge2\" class=\"edge\"><title>0&#45;&gt;1</title>\r\n",
       "<path fill=\"none\" stroke=\"black\" d=\"M122,-1946.61C122,-1937.85 122,-1928.51 122,-1920.12\"/>\r\n",
       "<polygon fill=\"black\" stroke=\"black\" points=\"122,-1910.12 126.5,-1920.12 122,-1915.12 122,-1920.12 122,-1920.12 122,-1920.12 122,-1915.12 117.5,-1920.12 122,-1910.12 122,-1910.12\"/>\r\n",
       "</g>\r\n",
       "<!-- 2 -->\r\n",
       "<g id=\"node4\" class=\"node\"><title>2</title>\r\n",
       "<polygon fill=\"none\" stroke=\"black\" points=\"122,-1837 31,-1799 122,-1761 213,-1799 122,-1837\"/>\r\n",
       "<text text-anchor=\"middle\" x=\"122\" y=\"-1802.8\" font-family=\"Times New Roman,serif\" font-size=\"14.00\">Is this</text>\r\n",
       "<text text-anchor=\"middle\" x=\"122\" y=\"-1787.8\" font-family=\"Times New Roman,serif\" font-size=\"14.00\">fault present?</text>\r\n",
       "</g>\r\n",
       "<!-- 1&#45;&gt;2 -->\r\n",
       "<g id=\"edge3\" class=\"edge\"><title>1&#45;&gt;2</title>\r\n",
       "<path fill=\"none\" stroke=\"black\" d=\"M122,-1873.88C122,-1866.25 122,-1856.83 122,-1847.31\"/>\r\n",
       "<polygon fill=\"black\" stroke=\"black\" points=\"122,-1837.02 126.5,-1847.02 122,-1842.02 122,-1847.02 122,-1847.02 122,-1847.02 122,-1842.02 117.5,-1847.02 122,-1837.02 122,-1837.02\"/>\r\n",
       "</g>\r\n",
       "<!-- 3 -->\r\n",
       "<g id=\"node5\" class=\"node\"><title>3</title>\r\n",
       "<polygon fill=\"none\" stroke=\"black\" points=\"103,-1710 17,-1710 17,-1657 103,-1657 103,-1710\"/>\r\n",
       "<text text-anchor=\"middle\" x=\"60\" y=\"-1694.8\" font-family=\"Times New Roman,serif\" font-size=\"14.00\">Print to cout</text>\r\n",
       "<text text-anchor=\"middle\" x=\"60\" y=\"-1679.8\" font-family=\"Times New Roman,serif\" font-size=\"14.00\">that the fault</text>\r\n",
       "<text text-anchor=\"middle\" x=\"60\" y=\"-1664.8\" font-family=\"Times New Roman,serif\" font-size=\"14.00\">is present</text>\r\n",
       "</g>\r\n",
       "<!-- 2&#45;&gt;3 -->\r\n",
       "<g id=\"edge4\" class=\"edge\"><title>2&#45;&gt;3</title>\r\n",
       "<path fill=\"none\" stroke=\"black\" d=\"M105.385,-1767.58C97.1694,-1752.54 87.2215,-1734.33 78.7355,-1718.8\"/>\r\n",
       "<polygon fill=\"black\" stroke=\"black\" points=\"73.9321,-1710 82.6753,-1716.62 76.3291,-1714.39 78.7261,-1718.78 78.7261,-1718.78 78.7261,-1718.78 76.3291,-1714.39 74.7769,-1720.94 73.9321,-1710 73.9321,-1710\"/>\r\n",
       "<text text-anchor=\"middle\" x=\"102\" y=\"-1731.8\" font-family=\"Times New Roman,serif\" font-size=\"14.00\">Yes</text>\r\n",
       "</g>\r\n",
       "<!-- 5 -->\r\n",
       "<g id=\"node7\" class=\"node\"><title>5</title>\r\n",
       "<polygon fill=\"none\" stroke=\"black\" points=\"259,-1710 131,-1710 131,-1657 259,-1657 259,-1710\"/>\r\n",
       "<text text-anchor=\"middle\" x=\"195\" y=\"-1694.8\" font-family=\"Times New Roman,serif\" font-size=\"14.00\">Print to cout</text>\r\n",
       "<text text-anchor=\"middle\" x=\"195\" y=\"-1679.8\" font-family=\"Times New Roman,serif\" font-size=\"14.00\">that a new fault type</text>\r\n",
       "<text text-anchor=\"middle\" x=\"195\" y=\"-1664.8\" font-family=\"Times New Roman,serif\" font-size=\"14.00\">is present</text>\r\n",
       "</g>\r\n",
       "<!-- 2&#45;&gt;5 -->\r\n",
       "<g id=\"edge6\" class=\"edge\"><title>2&#45;&gt;5</title>\r\n",
       "<path fill=\"none\" stroke=\"black\" d=\"M140.799,-1768.77C150.637,-1753.48 162.738,-1734.66 173.009,-1718.69\"/>\r\n",
       "<polygon fill=\"black\" stroke=\"black\" points=\"178.501,-1710.15 176.876,-1721 175.796,-1714.36 173.091,-1718.56 173.091,-1718.56 173.091,-1718.56 175.796,-1714.36 169.306,-1716.13 178.501,-1710.15 178.501,-1710.15\"/>\r\n",
       "<text text-anchor=\"middle\" x=\"174\" y=\"-1731.8\" font-family=\"Times New Roman,serif\" font-size=\"14.00\">No</text>\r\n",
       "</g>\r\n",
       "<!-- 4 -->\r\n",
       "<g id=\"node6\" class=\"node\"><title>4</title>\r\n",
       "<polygon fill=\"none\" stroke=\"black\" points=\"108,-1620 0,-1620 0,-1567 108,-1567 108,-1620\"/>\r\n",
       "<text text-anchor=\"middle\" x=\"54\" y=\"-1604.8\" font-family=\"Times New Roman,serif\" font-size=\"14.00\">Increment the</text>\r\n",
       "<text text-anchor=\"middle\" x=\"54\" y=\"-1589.8\" font-family=\"Times New Roman,serif\" font-size=\"14.00\">frequency of the</text>\r\n",
       "<text text-anchor=\"middle\" x=\"54\" y=\"-1574.8\" font-family=\"Times New Roman,serif\" font-size=\"14.00\">fault</text>\r\n",
       "</g>\r\n",
       "<!-- 3&#45;&gt;4 -->\r\n",
       "<g id=\"edge5\" class=\"edge\"><title>3&#45;&gt;4</title>\r\n",
       "<path fill=\"none\" stroke=\"black\" d=\"M58.2323,-1656.57C57.6707,-1648.34 57.0395,-1639.08 56.4394,-1630.28\"/>\r\n",
       "<polygon fill=\"black\" stroke=\"black\" points=\"55.7551,-1620.24 60.925,-1629.91 56.0953,-1625.23 56.4354,-1630.22 56.4354,-1630.22 56.4354,-1630.22 56.0953,-1625.23 51.9459,-1630.52 55.7551,-1620.24 55.7551,-1620.24\"/>\r\n",
       "</g>\r\n",
       "<!-- 7 -->\r\n",
       "<g id=\"node9\" class=\"node\"><title>7</title>\r\n",
       "<polygon fill=\"none\" stroke=\"black\" points=\"194.5,-1530 87.5,-1530 87.5,-1494 194.5,-1494 194.5,-1530\"/>\r\n",
       "<text text-anchor=\"middle\" x=\"141\" y=\"-1508.3\" font-family=\"Times New Roman,serif\" font-size=\"14.00\">Fault_key = key</text>\r\n",
       "</g>\r\n",
       "<!-- 4&#45;&gt;7 -->\r\n",
       "<g id=\"edge9\" class=\"edge\"><title>4&#45;&gt;7</title>\r\n",
       "<path fill=\"none\" stroke=\"black\" d=\"M82.0062,-1566.91C92.5355,-1557.29 104.458,-1546.39 114.815,-1536.93\"/>\r\n",
       "<polygon fill=\"black\" stroke=\"black\" points=\"122.381,-1530.01 118.035,-1540.08 118.69,-1533.39 114.999,-1536.76 114.999,-1536.76 114.999,-1536.76 118.69,-1533.39 111.964,-1533.44 122.381,-1530.01 122.381,-1530.01\"/>\r\n",
       "</g>\r\n",
       "<!-- 6 -->\r\n",
       "<g id=\"node8\" class=\"node\"><title>6</title>\r\n",
       "<polygon fill=\"none\" stroke=\"black\" points=\"271.5,-1620 126.5,-1620 126.5,-1567 271.5,-1567 271.5,-1620\"/>\r\n",
       "<text text-anchor=\"middle\" x=\"199\" y=\"-1604.8\" font-family=\"Times New Roman,serif\" font-size=\"14.00\">Add new fault</text>\r\n",
       "<text text-anchor=\"middle\" x=\"199\" y=\"-1589.8\" font-family=\"Times New Roman,serif\" font-size=\"14.00\">type to fault</text>\r\n",
       "<text text-anchor=\"middle\" x=\"199\" y=\"-1574.8\" font-family=\"Times New Roman,serif\" font-size=\"14.00\">list with frequency of 1</text>\r\n",
       "</g>\r\n",
       "<!-- 5&#45;&gt;6 -->\r\n",
       "<g id=\"edge7\" class=\"edge\"><title>5&#45;&gt;6</title>\r\n",
       "<path fill=\"none\" stroke=\"black\" d=\"M196.178,-1656.57C196.553,-1648.34 196.974,-1639.08 197.374,-1630.28\"/>\r\n",
       "<polygon fill=\"black\" stroke=\"black\" points=\"197.83,-1620.24 201.871,-1630.44 197.603,-1625.24 197.376,-1630.23 197.376,-1630.23 197.376,-1630.23 197.603,-1625.24 192.88,-1630.03 197.83,-1620.24 197.83,-1620.24\"/>\r\n",
       "</g>\r\n",
       "<!-- 6&#45;&gt;7 -->\r\n",
       "<g id=\"edge8\" class=\"edge\"><title>6&#45;&gt;7</title>\r\n",
       "<path fill=\"none\" stroke=\"black\" d=\"M180.329,-1566.91C173.704,-1557.83 166.251,-1547.61 159.63,-1538.54\"/>\r\n",
       "<polygon fill=\"black\" stroke=\"black\" points=\"153.59,-1530.26 163.119,-1535.68 156.537,-1534.3 159.483,-1538.34 159.483,-1538.34 159.483,-1538.34 156.537,-1534.3 155.848,-1540.99 153.59,-1530.26 153.59,-1530.26\"/>\r\n",
       "</g>\r\n",
       "<!-- 8 -->\r\n",
       "<g id=\"node10\" class=\"node\"><title>8</title>\r\n",
       "<polygon fill=\"none\" stroke=\"black\" points=\"240.5,-1457 41.5,-1457 41.5,-1421 240.5,-1421 240.5,-1457\"/>\r\n",
       "<text text-anchor=\"middle\" x=\"141\" y=\"-1435.3\" font-family=\"Times New Roman,serif\" font-size=\"14.00\">Push fault_key into message bag</text>\r\n",
       "</g>\r\n",
       "<!-- 7&#45;&gt;8 -->\r\n",
       "<g id=\"edge10\" class=\"edge\"><title>7&#45;&gt;8</title>\r\n",
       "<path fill=\"none\" stroke=\"black\" d=\"M141,-1493.81C141,-1485.79 141,-1476.05 141,-1467.07\"/>\r\n",
       "<polygon fill=\"black\" stroke=\"black\" points=\"141,-1457.03 145.5,-1467.03 141,-1462.03 141,-1467.03 141,-1467.03 141,-1467.03 141,-1462.03 136.5,-1467.03 141,-1457.03 141,-1457.03\"/>\r\n",
       "</g>\r\n",
       "<!-- 9 -->\r\n",
       "<g id=\"node11\" class=\"node\"><title>9</title>\r\n",
       "<polygon fill=\"none\" stroke=\"black\" points=\"141,-1384 88,-1346 141,-1308 194,-1346 141,-1384\"/>\r\n",
       "<text text-anchor=\"middle\" x=\"141\" y=\"-1349.8\" font-family=\"Times New Roman,serif\" font-size=\"14.00\">More</text>\r\n",
       "<text text-anchor=\"middle\" x=\"141\" y=\"-1334.8\" font-family=\"Times New Roman,serif\" font-size=\"14.00\">faults?</text>\r\n",
       "</g>\r\n",
       "<!-- 8&#45;&gt;9 -->\r\n",
       "<g id=\"edge11\" class=\"edge\"><title>8&#45;&gt;9</title>\r\n",
       "<path fill=\"none\" stroke=\"black\" d=\"M141,-1420.88C141,-1413.25 141,-1403.83 141,-1394.31\"/>\r\n",
       "<polygon fill=\"black\" stroke=\"black\" points=\"141,-1384.02 145.5,-1394.02 141,-1389.02 141,-1394.02 141,-1394.02 141,-1394.02 141,-1389.02 136.5,-1394.02 141,-1384.02 141,-1384.02\"/>\r\n",
       "</g>\r\n",
       "<!-- 11 -->\r\n",
       "<g id=\"node12\" class=\"node\"><title>11</title>\r\n",
       "<polygon fill=\"none\" stroke=\"black\" points=\"200.5,-1271 81.5,-1271 81.5,-1235 200.5,-1235 200.5,-1271\"/>\r\n",
       "<text text-anchor=\"middle\" x=\"141\" y=\"-1249.3\" font-family=\"Times New Roman,serif\" font-size=\"14.00\">Move to next fault</text>\r\n",
       "</g>\r\n",
       "<!-- 9&#45;&gt;11 -->\r\n",
       "<g id=\"edge12\" class=\"edge\"><title>9&#45;&gt;11</title>\r\n",
       "<path fill=\"none\" stroke=\"black\" d=\"M141,-1307.99C141,-1298.99 141,-1289.54 141,-1281.1\"/>\r\n",
       "<polygon fill=\"black\" stroke=\"black\" points=\"141,-1271.06 145.5,-1281.06 141,-1276.06 141,-1281.06 141,-1281.06 141,-1281.06 141,-1276.06 136.5,-1281.06 141,-1271.06 141,-1271.06\"/>\r\n",
       "</g>\r\n",
       "<!-- 12 -->\r\n",
       "<g id=\"node13\" class=\"node\"><title>12</title>\r\n",
       "<polygon fill=\"none\" stroke=\"black\" points=\"141,-1198 50,-1160 141,-1122 232,-1160 141,-1198\"/>\r\n",
       "<text text-anchor=\"middle\" x=\"141\" y=\"-1163.8\" font-family=\"Times New Roman,serif\" font-size=\"14.00\">Is this</text>\r\n",
       "<text text-anchor=\"middle\" x=\"141\" y=\"-1148.8\" font-family=\"Times New Roman,serif\" font-size=\"14.00\">fault present?</text>\r\n",
       "</g>\r\n",
       "<!-- 11&#45;&gt;12 -->\r\n",
       "<g id=\"edge13\" class=\"edge\"><title>11&#45;&gt;12</title>\r\n",
       "<path fill=\"none\" stroke=\"black\" d=\"M141,-1234.88C141,-1227.25 141,-1217.83 141,-1208.31\"/>\r\n",
       "<polygon fill=\"black\" stroke=\"black\" points=\"141,-1198.02 145.5,-1208.02 141,-1203.02 141,-1208.02 141,-1208.02 141,-1208.02 141,-1203.02 136.5,-1208.02 141,-1198.02 141,-1198.02\"/>\r\n",
       "</g>\r\n",
       "<!-- 13 -->\r\n",
       "<g id=\"node14\" class=\"node\"><title>13</title>\r\n",
       "<polygon fill=\"none\" stroke=\"black\" points=\"142,-1071 56,-1071 56,-1018 142,-1018 142,-1071\"/>\r\n",
       "<text text-anchor=\"middle\" x=\"99\" y=\"-1055.8\" font-family=\"Times New Roman,serif\" font-size=\"14.00\">Print to cout</text>\r\n",
       "<text text-anchor=\"middle\" x=\"99\" y=\"-1040.8\" font-family=\"Times New Roman,serif\" font-size=\"14.00\">that the fault</text>\r\n",
       "<text text-anchor=\"middle\" x=\"99\" y=\"-1025.8\" font-family=\"Times New Roman,serif\" font-size=\"14.00\">is present</text>\r\n",
       "</g>\r\n",
       "<!-- 12&#45;&gt;13 -->\r\n",
       "<g id=\"edge14\" class=\"edge\"><title>12&#45;&gt;13</title>\r\n",
       "<path fill=\"none\" stroke=\"black\" d=\"M129.077,-1126.78C123.796,-1112.51 117.567,-1095.67 112.151,-1081.04\"/>\r\n",
       "<polygon fill=\"black\" stroke=\"black\" points=\"108.553,-1071.32 116.244,-1079.13 110.289,-1076.01 112.024,-1080.7 112.024,-1080.7 112.024,-1080.7 110.289,-1076.01 107.804,-1082.26 108.553,-1071.32 108.553,-1071.32\"/>\r\n",
       "<text text-anchor=\"middle\" x=\"131\" y=\"-1092.8\" font-family=\"Times New Roman,serif\" font-size=\"14.00\">Yes</text>\r\n",
       "</g>\r\n",
       "<!-- 15 -->\r\n",
       "<g id=\"node16\" class=\"node\"><title>15</title>\r\n",
       "<polygon fill=\"none\" stroke=\"black\" points=\"298,-1071 170,-1071 170,-1018 298,-1018 298,-1071\"/>\r\n",
       "<text text-anchor=\"middle\" x=\"234\" y=\"-1055.8\" font-family=\"Times New Roman,serif\" font-size=\"14.00\">Print to cout</text>\r\n",
       "<text text-anchor=\"middle\" x=\"234\" y=\"-1040.8\" font-family=\"Times New Roman,serif\" font-size=\"14.00\">that a new fault type</text>\r\n",
       "<text text-anchor=\"middle\" x=\"234\" y=\"-1025.8\" font-family=\"Times New Roman,serif\" font-size=\"14.00\">is present</text>\r\n",
       "</g>\r\n",
       "<!-- 12&#45;&gt;15 -->\r\n",
       "<g id=\"edge16\" class=\"edge\"><title>12&#45;&gt;15</title>\r\n",
       "<path fill=\"none\" stroke=\"black\" d=\"M163.75,-1131.23C176.69,-1115.44 192.983,-1095.56 206.62,-1078.92\"/>\r\n",
       "<polygon fill=\"black\" stroke=\"black\" points=\"213.075,-1071.04 210.217,-1081.63 209.906,-1074.91 206.737,-1078.77 206.737,-1078.77 206.737,-1078.77 209.906,-1074.91 203.256,-1075.92 213.075,-1071.04 213.075,-1071.04\"/>\r\n",
       "<text text-anchor=\"middle\" x=\"204\" y=\"-1092.8\" font-family=\"Times New Roman,serif\" font-size=\"14.00\">No</text>\r\n",
       "</g>\r\n",
       "<!-- 14 -->\r\n",
       "<g id=\"node15\" class=\"node\"><title>14</title>\r\n",
       "<polygon fill=\"none\" stroke=\"black\" points=\"147,-981 39,-981 39,-928 147,-928 147,-981\"/>\r\n",
       "<text text-anchor=\"middle\" x=\"93\" y=\"-965.8\" font-family=\"Times New Roman,serif\" font-size=\"14.00\">Increment the</text>\r\n",
       "<text text-anchor=\"middle\" x=\"93\" y=\"-950.8\" font-family=\"Times New Roman,serif\" font-size=\"14.00\">frequency of the</text>\r\n",
       "<text text-anchor=\"middle\" x=\"93\" y=\"-935.8\" font-family=\"Times New Roman,serif\" font-size=\"14.00\">fault</text>\r\n",
       "</g>\r\n",
       "<!-- 13&#45;&gt;14 -->\r\n",
       "<g id=\"edge15\" class=\"edge\"><title>13&#45;&gt;14</title>\r\n",
       "<path fill=\"none\" stroke=\"black\" d=\"M97.2323,-1017.57C96.6707,-1009.34 96.0395,-1000.08 95.4394,-991.277\"/>\r\n",
       "<polygon fill=\"black\" stroke=\"black\" points=\"94.7551,-981.242 99.925,-990.912 95.0953,-986.23 95.4354,-991.218 95.4354,-991.218 95.4354,-991.218 95.0953,-986.23 90.9459,-991.525 94.7551,-981.242 94.7551,-981.242\"/>\r\n",
       "</g>\r\n",
       "<!-- 17 -->\r\n",
       "<g id=\"node18\" class=\"node\"><title>17</title>\r\n",
       "<polygon fill=\"none\" stroke=\"black\" points=\"180,-891 109,-853 180,-815 251,-853 180,-891\"/>\r\n",
       "<text text-anchor=\"middle\" x=\"180\" y=\"-856.8\" font-family=\"Times New Roman,serif\" font-size=\"14.00\">Is key C1</text>\r\n",
       "<text text-anchor=\"middle\" x=\"180\" y=\"-841.8\" font-family=\"Times New Roman,serif\" font-size=\"14.00\">or D1?</text>\r\n",
       "</g>\r\n",
       "<!-- 14&#45;&gt;17 -->\r\n",
       "<g id=\"edge18\" class=\"edge\"><title>14&#45;&gt;17</title>\r\n",
       "<path fill=\"none\" stroke=\"black\" d=\"M115.405,-927.876C126.263,-915.458 139.435,-900.393 151.045,-887.115\"/>\r\n",
       "<polygon fill=\"black\" stroke=\"black\" points=\"157.671,-879.537 154.477,-890.027 154.38,-883.301 151.089,-887.065 151.089,-887.065 151.089,-887.065 154.38,-883.301 147.701,-884.103 157.671,-879.537 157.671,-879.537\"/>\r\n",
       "</g>\r\n",
       "<!-- 16 -->\r\n",
       "<g id=\"node17\" class=\"node\"><title>16</title>\r\n",
       "<polygon fill=\"none\" stroke=\"black\" points=\"310.5,-981 165.5,-981 165.5,-928 310.5,-928 310.5,-981\"/>\r\n",
       "<text text-anchor=\"middle\" x=\"238\" y=\"-965.8\" font-family=\"Times New Roman,serif\" font-size=\"14.00\">Add new fault</text>\r\n",
       "<text text-anchor=\"middle\" x=\"238\" y=\"-950.8\" font-family=\"Times New Roman,serif\" font-size=\"14.00\">type to fault</text>\r\n",
       "<text text-anchor=\"middle\" x=\"238\" y=\"-935.8\" font-family=\"Times New Roman,serif\" font-size=\"14.00\">list with frequency of 1</text>\r\n",
       "</g>\r\n",
       "<!-- 15&#45;&gt;16 -->\r\n",
       "<g id=\"edge17\" class=\"edge\"><title>15&#45;&gt;16</title>\r\n",
       "<path fill=\"none\" stroke=\"black\" d=\"M235.178,-1017.57C235.553,-1009.34 235.974,-1000.08 236.374,-991.277\"/>\r\n",
       "<polygon fill=\"black\" stroke=\"black\" points=\"236.83,-981.242 240.871,-991.436 236.603,-986.236 236.376,-991.231 236.376,-991.231 236.376,-991.231 236.603,-986.236 231.88,-991.027 236.83,-981.242 236.83,-981.242\"/>\r\n",
       "</g>\r\n",
       "<!-- 16&#45;&gt;17 -->\r\n",
       "<g id=\"edge19\" class=\"edge\"><title>16&#45;&gt;17</title>\r\n",
       "<path fill=\"none\" stroke=\"black\" d=\"M223.064,-927.876C216.527,-916.663 208.734,-903.293 201.584,-891.028\"/>\r\n",
       "<polygon fill=\"black\" stroke=\"black\" points=\"196.52,-882.34 205.444,-888.713 199.038,-886.66 201.556,-890.979 201.556,-890.979 201.556,-890.979 199.038,-886.66 197.668,-893.246 196.52,-882.34 196.52,-882.34\"/>\r\n",
       "</g>\r\n",
       "<!-- 18 -->\r\n",
       "<g id=\"node19\" class=\"node\"><title>18</title>\r\n",
       "<polygon fill=\"none\" stroke=\"black\" points=\"180,-778 98,-740 180,-702 262,-740 180,-778\"/>\r\n",
       "<text text-anchor=\"middle\" x=\"180\" y=\"-743.8\" font-family=\"Times New Roman,serif\" font-size=\"14.00\">Is fault_key</text>\r\n",
       "<text text-anchor=\"middle\" x=\"180\" y=\"-728.8\" font-family=\"Times New Roman,serif\" font-size=\"14.00\">length &lt; 4?</text>\r\n",
       "</g>\r\n",
       "<!-- 17&#45;&gt;18 -->\r\n",
       "<g id=\"edge20\" class=\"edge\"><title>17&#45;&gt;18</title>\r\n",
       "<path fill=\"none\" stroke=\"black\" d=\"M180,-814.73C180,-806.31 180,-797.26 180,-788.484\"/>\r\n",
       "<polygon fill=\"black\" stroke=\"black\" points=\"180,-778.361 184.5,-788.361 180,-783.361 180,-788.361 180,-788.361 180,-788.361 180,-783.361 175.5,-788.361 180,-778.361 180,-778.361\"/>\r\n",
       "</g>\r\n",
       "<!-- 19 -->\r\n",
       "<g id=\"node20\" class=\"node\"><title>19</title>\r\n",
       "<polygon fill=\"none\" stroke=\"black\" points=\"266.5,-665 93.5,-665 93.5,-629 266.5,-629 266.5,-665\"/>\r\n",
       "<text text-anchor=\"middle\" x=\"180\" y=\"-643.3\" font-family=\"Times New Roman,serif\" font-size=\"14.00\">Fault_key = fault_key + key</text>\r\n",
       "</g>\r\n",
       "<!-- 18&#45;&gt;19 -->\r\n",
       "<g id=\"edge21\" class=\"edge\"><title>18&#45;&gt;19</title>\r\n",
       "<path fill=\"none\" stroke=\"black\" d=\"M180,-701.987C180,-692.991 180,-683.537 180,-675.098\"/>\r\n",
       "<polygon fill=\"black\" stroke=\"black\" points=\"180,-665.063 184.5,-675.063 180,-670.063 180,-675.063 180,-675.063 180,-675.063 180,-670.063 175.5,-675.063 180,-665.063 180,-665.063\"/>\r\n",
       "</g>\r\n",
       "<!-- 20 -->\r\n",
       "<g id=\"node21\" class=\"node\"><title>20</title>\r\n",
       "<polygon fill=\"none\" stroke=\"black\" points=\"279.5,-592 80.5,-592 80.5,-556 279.5,-556 279.5,-592\"/>\r\n",
       "<text text-anchor=\"middle\" x=\"180\" y=\"-570.3\" font-family=\"Times New Roman,serif\" font-size=\"14.00\">Push fault_key into message bag</text>\r\n",
       "</g>\r\n",
       "<!-- 19&#45;&gt;20 -->\r\n",
       "<g id=\"edge22\" class=\"edge\"><title>19&#45;&gt;20</title>\r\n",
       "<path fill=\"none\" stroke=\"black\" d=\"M180,-628.813C180,-620.789 180,-611.047 180,-602.069\"/>\r\n",
       "<polygon fill=\"black\" stroke=\"black\" points=\"180,-592.029 184.5,-602.029 180,-597.029 180,-602.029 180,-602.029 180,-602.029 180,-597.029 175.5,-602.029 180,-592.029 180,-592.029\"/>\r\n",
       "</g>\r\n",
       "<!-- 21 -->\r\n",
       "<g id=\"node22\" class=\"node\"><title>21</title>\r\n",
       "<polygon fill=\"none\" stroke=\"black\" points=\"180,-519 98,-466 180,-413 262,-466 180,-519\"/>\r\n",
       "<text text-anchor=\"middle\" x=\"180\" y=\"-477.3\" font-family=\"Times New Roman,serif\" font-size=\"14.00\">Is fault_key</text>\r\n",
       "<text text-anchor=\"middle\" x=\"180\" y=\"-462.3\" font-family=\"Times New Roman,serif\" font-size=\"14.00\">present in</text>\r\n",
       "<text text-anchor=\"middle\" x=\"180\" y=\"-447.3\" font-family=\"Times New Roman,serif\" font-size=\"14.00\">fault list?</text>\r\n",
       "</g>\r\n",
       "<!-- 20&#45;&gt;21 -->\r\n",
       "<g id=\"edge23\" class=\"edge\"><title>20&#45;&gt;21</title>\r\n",
       "<path fill=\"none\" stroke=\"black\" d=\"M180,-555.969C180,-548.498 180,-539.222 180,-529.505\"/>\r\n",
       "<polygon fill=\"black\" stroke=\"black\" points=\"180,-519.277 184.5,-529.277 180,-524.277 180,-529.277 180,-529.277 180,-529.277 180,-524.277 175.5,-529.277 180,-519.277 180,-519.277\"/>\r\n",
       "</g>\r\n",
       "<!-- 22 -->\r\n",
       "<g id=\"node23\" class=\"node\"><title>22</title>\r\n",
       "<polygon fill=\"none\" stroke=\"black\" points=\"232,-353.5 10,-353.5 10,-317.5 232,-317.5 232,-353.5\"/>\r\n",
       "<text text-anchor=\"middle\" x=\"121\" y=\"-331.8\" font-family=\"Times New Roman,serif\" font-size=\"14.00\">Print to cout that fault_key is present</text>\r\n",
       "</g>\r\n",
       "<!-- 21&#45;&gt;22 -->\r\n",
       "<g id=\"edge24\" class=\"edge\"><title>21&#45;&gt;22</title>\r\n",
       "<path fill=\"none\" stroke=\"black\" d=\"M161.494,-424.694C152.255,-404.573 141.338,-380.796 133.169,-363.003\"/>\r\n",
       "<polygon fill=\"black\" stroke=\"black\" points=\"128.941,-353.795 137.203,-361.005 131.027,-358.339 133.113,-362.882 133.113,-362.882 133.113,-362.882 131.027,-358.339 129.024,-364.76 128.941,-353.795 128.941,-353.795\"/>\r\n",
       "<text text-anchor=\"middle\" x=\"158\" y=\"-383.8\" font-family=\"Times New Roman,serif\" font-size=\"14.00\">Yes</text>\r\n",
       "</g>\r\n",
       "<!-- 24 -->\r\n",
       "<g id=\"node25\" class=\"node\"><title>24</title>\r\n",
       "<polygon fill=\"none\" stroke=\"black\" points=\"378,-362 250,-362 250,-309 378,-309 378,-362\"/>\r\n",
       "<text text-anchor=\"middle\" x=\"314\" y=\"-346.8\" font-family=\"Times New Roman,serif\" font-size=\"14.00\">Print to cout</text>\r\n",
       "<text text-anchor=\"middle\" x=\"314\" y=\"-331.8\" font-family=\"Times New Roman,serif\" font-size=\"14.00\">that a new fault type</text>\r\n",
       "<text text-anchor=\"middle\" x=\"314\" y=\"-316.8\" font-family=\"Times New Roman,serif\" font-size=\"14.00\">is present</text>\r\n",
       "</g>\r\n",
       "<!-- 21&#45;&gt;24 -->\r\n",
       "<g id=\"edge26\" class=\"edge\"><title>21&#45;&gt;24</title>\r\n",
       "<path fill=\"none\" stroke=\"black\" d=\"M212.438,-433.894C232.857,-414.312 259.175,-389.075 279.903,-369.198\"/>\r\n",
       "<polygon fill=\"black\" stroke=\"black\" points=\"287.265,-362.137 283.162,-372.307 283.657,-365.598 280.048,-369.059 280.048,-369.059 280.048,-369.059 283.657,-365.598 276.933,-365.811 287.265,-362.137 287.265,-362.137\"/>\r\n",
       "<text text-anchor=\"middle\" x=\"275\" y=\"-383.8\" font-family=\"Times New Roman,serif\" font-size=\"14.00\">No</text>\r\n",
       "</g>\r\n",
       "<!-- 23 -->\r\n",
       "<g id=\"node24\" class=\"node\"><title>23</title>\r\n",
       "<polygon fill=\"none\" stroke=\"black\" points=\"214.5,-263.5 55.5,-263.5 55.5,-227.5 214.5,-227.5 214.5,-263.5\"/>\r\n",
       "<text text-anchor=\"middle\" x=\"135\" y=\"-241.8\" font-family=\"Times New Roman,serif\" font-size=\"14.00\">Increment fault frequency</text>\r\n",
       "</g>\r\n",
       "<!-- 22&#45;&gt;23 -->\r\n",
       "<g id=\"edge25\" class=\"edge\"><title>22&#45;&gt;23</title>\r\n",
       "<path fill=\"none\" stroke=\"black\" d=\"M123.766,-317.114C125.734,-304.74 128.419,-287.869 130.67,-273.72\"/>\r\n",
       "<polygon fill=\"black\" stroke=\"black\" points=\"132.287,-263.55 135.16,-274.133 131.502,-268.488 130.716,-273.426 130.716,-273.426 130.716,-273.426 131.502,-268.488 126.272,-272.719 132.287,-263.55 132.287,-263.55\"/>\r\n",
       "</g>\r\n",
       "<!-- 26 -->\r\n",
       "<g id=\"node27\" class=\"node\"><title>26</title>\r\n",
       "<polygon fill=\"none\" stroke=\"black\" points=\"292.5,-182 183.5,-182 183.5,-146 292.5,-146 292.5,-182\"/>\r\n",
       "<text text-anchor=\"middle\" x=\"238\" y=\"-160.3\" font-family=\"Times New Roman,serif\" font-size=\"14.00\">Save fault codes</text>\r\n",
       "</g>\r\n",
       "<!-- 23&#45;&gt;26 -->\r\n",
       "<g id=\"edge28\" class=\"edge\"><title>23&#45;&gt;26</title>\r\n",
       "<path fill=\"none\" stroke=\"black\" d=\"M157.096,-227.445C171.895,-216.023 191.566,-200.84 207.805,-188.306\"/>\r\n",
       "<polygon fill=\"black\" stroke=\"black\" points=\"215.94,-182.027 210.774,-191.699 211.982,-185.082 208.024,-188.137 208.024,-188.137 208.024,-188.137 211.982,-185.082 205.275,-184.574 215.94,-182.027 215.94,-182.027\"/>\r\n",
       "</g>\r\n",
       "<!-- 25 -->\r\n",
       "<g id=\"node26\" class=\"node\"><title>25</title>\r\n",
       "<polygon fill=\"none\" stroke=\"black\" points=\"378.5,-272 233.5,-272 233.5,-219 378.5,-219 378.5,-272\"/>\r\n",
       "<text text-anchor=\"middle\" x=\"306\" y=\"-256.8\" font-family=\"Times New Roman,serif\" font-size=\"14.00\">Add new fault</text>\r\n",
       "<text text-anchor=\"middle\" x=\"306\" y=\"-241.8\" font-family=\"Times New Roman,serif\" font-size=\"14.00\">type to fault</text>\r\n",
       "<text text-anchor=\"middle\" x=\"306\" y=\"-226.8\" font-family=\"Times New Roman,serif\" font-size=\"14.00\">list with frequency of 1</text>\r\n",
       "</g>\r\n",
       "<!-- 24&#45;&gt;25 -->\r\n",
       "<g id=\"edge27\" class=\"edge\"><title>24&#45;&gt;25</title>\r\n",
       "<path fill=\"none\" stroke=\"black\" d=\"M311.643,-308.573C310.894,-300.338 310.053,-291.08 309.252,-282.277\"/>\r\n",
       "<polygon fill=\"black\" stroke=\"black\" points=\"308.34,-272.242 313.727,-281.793 308.793,-277.221 309.246,-282.201 309.246,-282.201 309.246,-282.201 308.793,-277.221 304.764,-282.608 308.34,-272.242 308.34,-272.242\"/>\r\n",
       "</g>\r\n",
       "<!-- 25&#45;&gt;26 -->\r\n",
       "<g id=\"edge29\" class=\"edge\"><title>25&#45;&gt;26</title>\r\n",
       "<path fill=\"none\" stroke=\"black\" d=\"M284.11,-218.908C276.182,-209.64 267.244,-199.19 259.363,-189.975\"/>\r\n",
       "<polygon fill=\"black\" stroke=\"black\" points=\"252.76,-182.256 262.68,-186.931 256.01,-186.056 259.26,-189.856 259.26,-189.856 259.26,-189.856 256.01,-186.056 255.841,-192.781 252.76,-182.256 252.76,-182.256\"/>\r\n",
       "</g>\r\n",
       "<!-- 27 -->\r\n",
       "<g id=\"node28\" class=\"node\"><title>27</title>\r\n",
       "<polygon fill=\"none\" stroke=\"black\" points=\"302.5,-109 173.5,-109 173.5,-73 302.5,-73 302.5,-109\"/>\r\n",
       "<text text-anchor=\"middle\" x=\"238\" y=\"-87.3\" font-family=\"Times New Roman,serif\" font-size=\"14.00\">Return message bag</text>\r\n",
       "</g>\r\n",
       "<!-- 26&#45;&gt;27 -->\r\n",
       "<g id=\"edge30\" class=\"edge\"><title>26&#45;&gt;27</title>\r\n",
       "<path fill=\"none\" stroke=\"black\" d=\"M238,-145.813C238,-137.789 238,-128.047 238,-119.069\"/>\r\n",
       "<polygon fill=\"black\" stroke=\"black\" points=\"238,-109.029 242.5,-119.029 238,-114.029 238,-119.029 238,-119.029 238,-119.029 238,-114.029 233.5,-119.029 238,-109.029 238,-109.029\"/>\r\n",
       "</g>\r\n",
       "<!-- E -->\r\n",
       "<g id=\"node29\" class=\"node\"><title>E</title>\r\n",
       "<ellipse fill=\"none\" stroke=\"black\" cx=\"238\" cy=\"-18\" rx=\"27\" ry=\"18\"/>\r\n",
       "<text text-anchor=\"middle\" x=\"238\" y=\"-14.3\" font-family=\"Times New Roman,serif\" font-size=\"14.00\">End</text>\r\n",
       "</g>\r\n",
       "<!-- 27&#45;&gt;E -->\r\n",
       "<g id=\"edge31\" class=\"edge\"><title>27&#45;&gt;E</title>\r\n",
       "<path fill=\"none\" stroke=\"black\" d=\"M238,-72.8129C238,-64.7895 238,-55.0475 238,-46.0691\"/>\r\n",
       "<polygon fill=\"black\" stroke=\"black\" points=\"238,-36.0288 242.5,-46.0288 238,-41.0288 238,-46.0288 238,-46.0288 238,-46.0288 238,-41.0288 233.5,-46.0289 238,-36.0288 238,-36.0288\"/>\r\n",
       "</g>\r\n",
       "</g>\r\n",
       "</svg>\r\n"
      ],
      "text/plain": [
       "<graphviz.dot.Digraph at 0x1eef420e6d0>"
      ]
     },
     "execution_count": 44,
     "metadata": {},
     "output_type": "execute_result"
    }
   ],
   "source": [
    "dot = Digraph(node_attr={'shape': 'box'}, format='png', filename='output.png')\n",
    "dot.edge_attr.update(arrowhead='vee', arrowsize='1')\n",
    "\n",
    "dot.node('S', shape='oval', label='Start')\n",
    "dot.node('0', label='Get first pure\\nfault state\\nand\\nput into key')\n",
    "dot.node('1', label='key = \"\" & fault_key = \"\"')\n",
    "dot.node('2', label='Is this\\nfault present?', shape='diamond')\n",
    "dot.node('3', label='Print to cout\\nthat the fault\\nis present')\n",
    "dot.node('4', label='Increment the\\nfrequency of the\\nfault')\n",
    "dot.node('5', label='Print to cout\\nthat a new fault type\\nis present')\n",
    "dot.node('6', label='Add new fault\\ntype to fault\\nlist with frequency of 1')\n",
    "dot.node('7', label='Fault_key = key')\n",
    "dot.node('8', label='Push fault_key into message bag')\n",
    "dot.node('9', label='More\\nfaults?', shape='diamond')\n",
    "dot.node('11', label='Move to next fault')\n",
    "dot.node('12', label='Is this\\nfault present?', shape='diamond')\n",
    "dot.node('13', label='Print to cout\\nthat the fault\\nis present')\n",
    "dot.node('14', label='Increment the\\nfrequency of the\\nfault')\n",
    "dot.node('15', label='Print to cout\\nthat a new fault type\\nis present')\n",
    "dot.node('16', label='Add new fault\\ntype to fault\\nlist with frequency of 1')\n",
    "dot.node('17', label='Is key C1\\nor D1?', shape='diamond')\n",
    "dot.node('18', label='Is fault_key\\nlength < 4?', shape='diamond')\n",
    "dot.node('19', label='Fault_key = fault_key + key')\n",
    "dot.node('20', label='Push fault_key into message bag')\n",
    "\n",
    "dot.node('21', label='Is fault_key\\npresent in\\nfault list?', shape='diamond')\n",
    "dot.node('22', label='Print to cout that fault_key is present')\n",
    "dot.node('23', label='Increment fault frequency')\n",
    "dot.node('24', label='Print to cout\\nthat a new fault type\\nis present')\n",
    "dot.node('25', label='Add new fault\\ntype to fault\\nlist with frequency of 1')\n",
    "dot.node('26', label='Save fault codes')\n",
    "dot.node('27', label='Return message bag')\n",
    "dot.node('E', shape='oval', label='End')\n",
    "\n",
    "dot.edge('S', '0')  \n",
    "dot.edge('0', '1')\n",
    "dot.edge('1', '2')\n",
    "dot.edge('2', '3', 'Yes')\n",
    "dot.edge('3', '4')\n",
    "dot.edge('2', '5', 'No')\n",
    "dot.edge('5', '6')\n",
    "dot.edge('6', '7')\n",
    "dot.edge('4', '7')\n",
    "dot.edge('7', '8')\n",
    "dot.edge('8', '9')\n",
    "dot.edge('9', '11')\n",
    "dot.edge('11', '12')\n",
    "dot.edge('12', '13', 'Yes')\n",
    "dot.edge('13', '14')\n",
    "dot.edge('12', '15', 'No')\n",
    "dot.edge('15', '16')\n",
    "dot.edge('14', '17')\n",
    "dot.edge('16', '17')\n",
    "dot.edge('17', '18')\n",
    "dot.edge('18', '19')\n",
    "dot.edge('19', '20')\n",
    "dot.edge('20', '21')\n",
    "dot.edge('21', '22', 'Yes')\n",
    "dot.edge('22', '23')\n",
    "dot.edge('21', '24', 'No')\n",
    "dot.edge('24', '25')\n",
    "dot.edge('23', '26')\n",
    "dot.edge('25', '26')\n",
    "dot.edge('26', '27')\n",
    "dot.edge('27', 'E')\n",
    "dot.save()\n",
    "dot.render(view=False)\n",
    "dot"
   ]
  },
  {
   "cell_type": "code",
   "execution_count": null,
   "metadata": {},
   "outputs": [],
   "source": []
  }
 ],
 "metadata": {
  "kernelspec": {
   "display_name": "Python 3 (ipykernel)",
   "language": "python",
   "name": "python3"
  },
  "language_info": {
   "codemirror_mode": {
    "name": "ipython",
    "version": 3
   },
   "file_extension": ".py",
   "mimetype": "text/x-python",
   "name": "python",
   "nbconvert_exporter": "python",
   "pygments_lexer": "ipython3",
   "version": "3.9.6"
  }
 },
 "nbformat": 4,
 "nbformat_minor": 4
}
