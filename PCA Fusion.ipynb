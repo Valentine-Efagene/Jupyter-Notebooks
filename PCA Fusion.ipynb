{
 "cells": [
  {
   "cell_type": "code",
   "execution_count": 18,
   "metadata": {},
   "outputs": [],
   "source": [
    "import numpy as np\n",
    "from numpy import linalg as LA"
   ]
  },
  {
   "cell_type": "code",
   "execution_count": 47,
   "metadata": {},
   "outputs": [],
   "source": [
    "n = 8\n",
    "g = 5"
   ]
  },
  {
   "cell_type": "code",
   "execution_count": 14,
   "metadata": {},
   "outputs": [],
   "source": [
    "X = np.array([[53.2, 52.6, 52.7, 53.2, 52.8, 53.3, 49.7, 53.1],\n",
    "[53.0, 53.1, 52.6, 53.2, 52.8, 53.6, 55.7, 53.5],\n",
    "[53, 53.4, 50.6, 53.5, 52.9, 53.8, 52.7, 52.6],\n",
    "[56, 53, 53.6, 53.7, 52.5, 53.2, 53.3, 52.5],\n",
    "[50, 53.3, 52.8, 53.1, 52.9, 52.6, 52.7, 53.5]])"
   ]
  },
  {
   "cell_type": "code",
   "execution_count": 51,
   "metadata": {},
   "outputs": [],
   "source": [
    "D = np.zeros((n, n, n))"
   ]
  },
  {
   "cell_type": "code",
   "execution_count": 63,
   "metadata": {},
   "outputs": [],
   "source": [
    "for k in range(g):\n",
    "    for i in range(n):\n",
    "        for j in range(n):\n",
    "            D[k][i][j] = np.exp(-1 * np.abs(X[k][i] - X[k][j]))"
   ]
  },
  {
   "cell_type": "code",
   "execution_count": 344,
   "metadata": {},
   "outputs": [],
   "source": [
    "def get(M):\n",
    "    v, T = LA.eig(M)\n",
    "    v = np.round(v, 4)\n",
    "    v.sort()\n",
    "    v = v[::-1]\n",
    "    a = [i/v.sum() for i in v]\n",
    "    return v, np.round(T.T, 4), np.round(a, 4)"
   ]
  },
  {
   "cell_type": "code",
   "execution_count": 347,
   "metadata": {},
   "outputs": [],
   "source": [
    "v, T, a = get(D[0])"
   ]
  },
  {
   "cell_type": "code",
   "execution_count": 348,
   "metadata": {},
   "outputs": [
    {
     "data": {
      "text/plain": [
       "array([ 0.6765,  0.1385,  0.1236,  0.0236,  0.0181,  0.0116,  0.0081,\n",
       "       -0.    ])"
      ]
     },
     "execution_count": 348,
     "metadata": {},
     "output_type": "execute_result"
    }
   ],
   "source": [
    "a"
   ]
  },
  {
   "cell_type": "code",
   "execution_count": 349,
   "metadata": {},
   "outputs": [
    {
     "data": {
      "text/plain": [
       "array([ 5.412 ,  1.1082,  0.9891,  0.1884,  0.1446,  0.0931,  0.0645,\n",
       "       -0.    ])"
      ]
     },
     "execution_count": 349,
     "metadata": {},
     "output_type": "execute_result"
    }
   ],
   "source": [
    "v"
   ]
  },
  {
   "cell_type": "code",
   "execution_count": 350,
   "metadata": {},
   "outputs": [
    {
     "data": {
      "text/plain": [
       "array([0.3971, 0.3397, 0.3628, 0.3971, 0.3761, 0.3717, 0.0229, 0.397 ])"
      ]
     },
     "execution_count": 350,
     "metadata": {},
     "output_type": "execute_result"
    }
   ],
   "source": [
    "T[0]"
   ]
  },
  {
   "cell_type": "code",
   "execution_count": 325,
   "metadata": {},
   "outputs": [
    {
     "data": {
      "text/plain": [
       "array([ 0.3256, -0.4914, -0.4516,  0.3256, -0.3346,  0.3522, -0.2693,\n",
       "        0.1845])"
      ]
     },
     "execution_count": 325,
     "metadata": {},
     "output_type": "execute_result"
    }
   ],
   "source": [
    "T[1]"
   ]
  },
  {
   "cell_type": "code",
   "execution_count": 326,
   "metadata": {},
   "outputs": [
    {
     "data": {
      "text/plain": [
       "array([ 0.0822, -0.1395, -0.1366,  0.0822, -0.1075,  0.091 ,  0.9627,\n",
       "        0.0408])"
      ]
     },
     "execution_count": 326,
     "metadata": {},
     "output_type": "execute_result"
    }
   ],
   "source": [
    "T[2]"
   ]
  },
  {
   "cell_type": "code",
   "execution_count": 327,
   "metadata": {},
   "outputs": [
    {
     "data": {
      "text/plain": [
       "2.149028048763501"
      ]
     },
     "execution_count": 327,
     "metadata": {},
     "output_type": "execute_result"
    }
   ],
   "source": [
    "0.3971 * D[0][0][0] + 0.3397 * D[0][0][1] + 0.3628 * D[0][0][2] + 0.3971 * D[0][0][3] + 0.3761 * D[0][0][4] + 0.3717 * D[0][0][5] + 0.0229 * D[0][0][6] + 0.3970 * D[0][0][7]"
   ]
  },
  {
   "cell_type": "code",
   "execution_count": 328,
   "metadata": {},
   "outputs": [
    {
     "data": {
      "text/plain": [
       "0.3608097155979177"
      ]
     },
     "execution_count": 328,
     "metadata": {},
     "output_type": "execute_result"
    }
   ],
   "source": [
    "0.3256 * D[0][0][0] - 0.4914 * D[0][0][1] - 0.4516 * D[0][0][2] + 0.3256 * D[0][0][3] - 0.3346 * D[0][0][4] + 0.3522 * D[0][0][5] - 0.2693 * D[0][0][6] + 0.1845 * D[0][0][7]"
   ]
  },
  {
   "cell_type": "code",
   "execution_count": 329,
   "metadata": {},
   "outputs": [],
   "source": [
    "def getISDS(D, T, m = 3):\n",
    "    z = np.zeros((n))\n",
    "    y = np.zeros((n, m))\n",
    "\n",
    "    for i in range(n):\n",
    "        for j in range(m):\n",
    "            y[i][j] = T[j] @ D[i][i]\n",
    "    \n",
    "    for i in range(n):\n",
    "        z[i] = np.sum(y[i] * a[0:m])\n",
    "    \n",
    "    return y, z"
   ]
  },
  {
   "cell_type": "code",
   "execution_count": 330,
   "metadata": {
    "scrolled": true
   },
   "outputs": [
    {
     "data": {
      "text/plain": [
       "array([1.51383309, 1.37232702, 0.30661183, 0.98118121, 1.19938272,\n",
       "       1.09354315, 0.        , 0.        ])"
      ]
     },
     "execution_count": 330,
     "metadata": {},
     "output_type": "execute_result"
    }
   ],
   "source": [
    "y, z = getISDS(D, T)\n",
    "z"
   ]
  },
  {
   "cell_type": "code",
   "execution_count": 331,
   "metadata": {},
   "outputs": [
    {
     "data": {
      "text/plain": [
       "array([[ 2.1490e+00,  3.6080e-01,  8.1300e-02],\n",
       "       [ 2.0503e+00, -1.0670e-01,  8.0000e-04],\n",
       "       [ 5.5070e-01, -4.6120e-01, -1.6800e-02],\n",
       "       [ 1.4075e+00, -3.0650e-01,  5.7800e-01],\n",
       "       [ 1.7910e+00, -6.4640e-01,  6.2520e-01],\n",
       "       [ 1.5685e+00, -4.5640e-01,  7.7390e-01],\n",
       "       [ 0.0000e+00,  0.0000e+00,  0.0000e+00],\n",
       "       [ 0.0000e+00,  0.0000e+00,  0.0000e+00]])"
      ]
     },
     "execution_count": 331,
     "metadata": {},
     "output_type": "execute_result"
    }
   ],
   "source": [
    "np.round(y, 4)"
   ]
  },
  {
   "cell_type": "code",
   "execution_count": 332,
   "metadata": {},
   "outputs": [
    {
     "data": {
      "text/plain": [
       "array([1.51383309, 1.37232702, 0.30661183, 0.98118121, 1.19938272,\n",
       "       1.09354315, 0.        , 0.        ])"
      ]
     },
     "execution_count": 332,
     "metadata": {},
     "output_type": "execute_result"
    }
   ],
   "source": [
    "z"
   ]
  },
  {
   "cell_type": "code",
   "execution_count": 333,
   "metadata": {},
   "outputs": [
    {
     "data": {
      "text/plain": [
       "array([0.6765, 0.1385, 0.1236])"
      ]
     },
     "execution_count": 333,
     "metadata": {},
     "output_type": "execute_result"
    }
   ],
   "source": [
    "a[0:3]"
   ]
  },
  {
   "cell_type": "code",
   "execution_count": 339,
   "metadata": {},
   "outputs": [
    {
     "data": {
      "text/plain": [
       "1.3869997419651159"
      ]
     },
     "execution_count": 339,
     "metadata": {},
     "output_type": "execute_result"
    }
   ],
   "source": [
    "a[0] * y[1][0]"
   ]
  },
  {
   "cell_type": "code",
   "execution_count": 338,
   "metadata": {},
   "outputs": [
    {
     "data": {
      "text/plain": [
       "1.3723270234294056"
      ]
     },
     "execution_count": 338,
     "metadata": {},
     "output_type": "execute_result"
    }
   ],
   "source": [
    "a[0] * y[1][0] + a[1] * y[1][1] + a[2] * y[1][2]"
   ]
  },
  {
   "cell_type": "code",
   "execution_count": 336,
   "metadata": {},
   "outputs": [
    {
     "data": {
      "text/plain": [
       "0.3608097155979177"
      ]
     },
     "execution_count": 336,
     "metadata": {},
     "output_type": "execute_result"
    }
   ],
   "source": [
    "y[0][1]"
   ]
  },
  {
   "cell_type": "code",
   "execution_count": 351,
   "metadata": {},
   "outputs": [
    {
     "data": {
      "text/plain": [
       "array([1.33878551, 1.31882331, 0.33059396, 0.78508538, 1.00853296,\n",
       "       0.8320568 , 0.        , 0.        ])"
      ]
     },
     "execution_count": 351,
     "metadata": {},
     "output_type": "execute_result"
    }
   ],
   "source": [
    "v, T, a = get(D[1])\n",
    "y, z = getISDS(D, T)\n",
    "z"
   ]
  },
  {
   "cell_type": "code",
   "execution_count": null,
   "metadata": {},
   "outputs": [],
   "source": []
  }
 ],
 "metadata": {
  "kernelspec": {
   "display_name": "Python 3",
   "language": "python",
   "name": "python3"
  },
  "language_info": {
   "codemirror_mode": {
    "name": "ipython",
    "version": 3
   },
   "file_extension": ".py",
   "mimetype": "text/x-python",
   "name": "python",
   "nbconvert_exporter": "python",
   "pygments_lexer": "ipython3",
   "version": "3.8.6rc1"
  }
 },
 "nbformat": 4,
 "nbformat_minor": 2
}
