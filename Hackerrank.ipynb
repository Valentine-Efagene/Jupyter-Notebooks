{
 "cells": [
  {
   "cell_type": "code",
   "execution_count": 1,
   "metadata": {},
   "outputs": [],
   "source": [
    "class Node:\n",
    "    def __init__(self, data, next = None):\n",
    "        self.data = data\n",
    "        self.next = next\n",
    "\n",
    "class LinkedList:\n",
    "    def __init__(self):\n",
    "        self.head = None\n",
    "        self.tail = None\n",
    "        \n",
    "    # Function to insert a new node\n",
    "    # at the end\n",
    "    def push(self, newNode):        \n",
    "        if (self.head == None):\n",
    "            self.head = newNode\n",
    "        \n",
    "        if (self.tail != None):\n",
    "            self.tail.next = newNode\n",
    "        \n",
    "        self.tail = newNode\n",
    "            \n",
    "    # Utility function to print the\n",
    "    # linked LinkedList\n",
    "    def print(self):\n",
    "        temp = self.head\n",
    "        \n",
    "        while(temp):\n",
    "            print(temp.data, end = ' ')\n",
    "            temp = temp.next"
   ]
  },
  {
   "cell_type": "markdown",
   "metadata": {},
   "source": [
    "## Interview Preparation"
   ]
  },
  {
   "cell_type": "markdown",
   "metadata": {},
   "source": [
    "### 2D DS (HOURGLASS)"
   ]
  },
  {
   "cell_type": "code",
   "execution_count": 2,
   "metadata": {},
   "outputs": [
    {
     "name": "stdout",
     "output_type": "stream",
     "text": [
      "28\n"
     ]
    }
   ],
   "source": [
    "def hourglassSum(arr):\n",
    "    hgSums = [[0,0,0,0], [0,0,0,0], [0,0,0,0], [0,0,0,0]]\n",
    "    for i in range(4):\n",
    "        for j in range(4):\n",
    "            hgSums[i][j] = arr[i][j] + arr[i][j + 1] + arr[i][j + 2] + arr[i + 1][j + 1] + arr[i + 2][j] + arr[i + 2][j + 1] + arr[i + 2][j + 2]\n",
    "    return max([max(row) for row in hgSums])\n",
    "\n",
    "if __name__ == '__main__':\n",
    "    arr = [[-9, -9, -9, 1, 1, 1], \n",
    "           [0, -9, 0, 4, 3, 2], \n",
    "           [-9, -9, -9, 1, 2, 3], \n",
    "           [0, 0, 8, 6, 6, 0], \n",
    "           [0, 0, 0, -2, 0, 0], \n",
    "           [0, 0, 1, 2, 4, 0]];\n",
    "    print(hourglassSum(arr));"
   ]
  },
  {
   "cell_type": "markdown",
   "metadata": {},
   "source": [
    "### Dynamic Array"
   ]
  },
  {
   "cell_type": "code",
   "execution_count": 3,
   "metadata": {},
   "outputs": [
    {
     "name": "stdout",
     "output_type": "stream",
     "text": [
      "7\n",
      "3\n"
     ]
    }
   ],
   "source": [
    "def dynamicArray(n, queries):\n",
    "    o = []\n",
    "    lastAnswer = 0\n",
    "    s = [[None for i in range(0)] for j in range(n)]\n",
    "    for query in queries:\n",
    "        seq = s[(query[1] ^ lastAnswer) % n]\n",
    "        type = query[0]\n",
    "        x = query[1]\n",
    "        y = query[2]\n",
    "        \n",
    "        if type == 1:\n",
    "            seq.append(y)\n",
    "        elif type == 2:\n",
    "            lastAnswer = seq[y % len(seq)]\n",
    "            o.append(lastAnswer)\n",
    "    return o\n",
    "\n",
    "if __name__ == '__main__':\n",
    "    n = 2\n",
    "    queries = [[1, 0, 5],\n",
    "               [1, 1, 7],\n",
    "               [1, 0, 3],\n",
    "               [2, 1, 0],\n",
    "               [2, 1, 1]]\n",
    "    result = dynamicArray(n, queries)\n",
    "    print('\\n'.join(map(str, result)))"
   ]
  },
  {
   "cell_type": "markdown",
   "metadata": {},
   "source": [
    "### Left Rotate"
   ]
  },
  {
   "cell_type": "code",
   "execution_count": 4,
   "metadata": {},
   "outputs": [
    {
     "name": "stdout",
     "output_type": "stream",
     "text": [
      "5 1 2 3 4\n"
     ]
    }
   ],
   "source": [
    "n, d = 5, 4\n",
    "a = [1, 2, 3, 4, 5]\n",
    "b = a.copy()\n",
    "for i in range(n):\n",
    "    a[(i - d) % n] = b[i]\n",
    "del b\n",
    "print(' '.join(map(str, a)))"
   ]
  },
  {
   "cell_type": "markdown",
   "metadata": {},
   "source": [
    "#### Note"
   ]
  },
  {
   "cell_type": "markdown",
   "metadata": {},
   "source": [
    "I used python's special implementation of the modulo of a negative integer"
   ]
  },
  {
   "cell_type": "markdown",
   "metadata": {},
   "source": [
    " ### Sparse Arrays (Matching Strings)\n",
    " Medium"
   ]
  },
  {
   "cell_type": "code",
   "execution_count": 5,
   "metadata": {},
   "outputs": [],
   "source": [
    "def matchingStrings(strings, queries):\n",
    "    results = [0] * len(queries)\n",
    "    for i in range(len(queries)):\n",
    "        results[i] = strings.count(queries[i])\n",
    "    return results"
   ]
  },
  {
   "cell_type": "markdown",
   "metadata": {},
   "source": [
    "### Array Manipulation\n",
    "Hard\n",
    "\n",
    "Copied"
   ]
  },
  {
   "cell_type": "code",
   "execution_count": 6,
   "metadata": {},
   "outputs": [
    {
     "name": "stdout",
     "output_type": "stream",
     "text": [
      "200\n"
     ]
    }
   ],
   "source": [
    "def arrayManipulation(n, queries):\n",
    "    array = [0] * n\n",
    "    for query in queries:\n",
    "        a, b, k = query[0:3]\n",
    "        array[a - 1] += k\n",
    "        if b < len(array):\n",
    "            array[b] -= k\n",
    "    max = a = 0\n",
    "    for i in array:\n",
    "        a += i\n",
    "        if max < a:\n",
    "            max = a\n",
    "    return max\n",
    "\n",
    "n = 10\n",
    "#queries = [[2, 6, 8], [3, 5, 7], [1, 8, 1], [5, 9, 15]]\n",
    "queries = [[1, 2, 100], [2, 5, 100], [3, 4, 100]]\n",
    "print(arrayManipulation(n, queries))"
   ]
  },
  {
   "cell_type": "markdown",
   "metadata": {},
   "source": [
    "### Linked list"
   ]
  },
  {
   "cell_type": "code",
   "execution_count": 44,
   "metadata": {},
   "outputs": [
    {
     "name": "stdout",
     "output_type": "stream",
     "text": [
      "2\n",
      "3\n",
      "4\n",
      "5\n"
     ]
    }
   ],
   "source": [
    "class Node:\n",
    "    def __init__(self, data, next = None):\n",
    "        self.data = data\n",
    "        self.next = next\n",
    "\n",
    "def printLinkedList(head):\n",
    "    if head != None:\n",
    "        print(head.data)\n",
    "        printLinkedList(head.next)\n",
    "    \n",
    "node5 = Node(5, None)\n",
    "node4 = Node(4, node5)\n",
    "node3 = Node(3, node4)\n",
    "node2 = Node(2, node3)\n",
    "node1 = Node(1, node2)\n",
    "node0 = Node(0, node1)\n",
    "printLinkedList(node2)"
   ]
  },
  {
   "cell_type": "code",
   "execution_count": 8,
   "metadata": {},
   "outputs": [
    {
     "name": "stdout",
     "output_type": "stream",
     "text": [
      "0\n",
      "1\n",
      "2\n",
      "3\n",
      "4\n",
      "5\n",
      "100\n"
     ]
    }
   ],
   "source": [
    "class Node:\n",
    "    def __init__(self, data, next = None):\n",
    "        self.data = data\n",
    "        self.next = next\n",
    "\n",
    "def insertNodeAtTail(head, data):\n",
    "    if head == None:\n",
    "        return Node(data, None)\n",
    "    node = head\n",
    "    while node.next:\n",
    "        node = node.next\n",
    "    node.next = Node(data, None)\n",
    "    return head\n",
    "\n",
    "node5 = Node(5, None)\n",
    "node4 = Node(4, node5)\n",
    "node3 = Node(3, node4)\n",
    "node2 = Node(2, node3)\n",
    "node1 = Node(1, node2)\n",
    "node0 = Node(0, node1)\n",
    "printLinkedList(insertNodeAtTail(node0, 100))"
   ]
  },
  {
   "cell_type": "code",
   "execution_count": 9,
   "metadata": {},
   "outputs": [
    {
     "name": "stdout",
     "output_type": "stream",
     "text": [
      "100\n",
      "0\n",
      "1\n",
      "2\n",
      "3\n",
      "4\n",
      "5\n"
     ]
    }
   ],
   "source": [
    "class Node:\n",
    "    def __init__(self, data, next = None):\n",
    "        self.data = data\n",
    "        self.next = next\n",
    "        \n",
    "def insertNodeAtHead(llist, data):\n",
    "    return Node(data, llist)\n",
    "\n",
    "node5 = Node(5, None)\n",
    "node4 = Node(4, node5)\n",
    "node3 = Node(3, node4)\n",
    "node2 = Node(2, node3)\n",
    "node1 = Node(1, node2)\n",
    "node0 = Node(0, node1)\n",
    "printLinkedList(insertNodeAtHead(node0, 100))"
   ]
  },
  {
   "cell_type": "code",
   "execution_count": 10,
   "metadata": {},
   "outputs": [
    {
     "name": "stdout",
     "output_type": "stream",
     "text": [
      "0\n",
      "50\n",
      "1\n",
      "2\n",
      "3\n",
      "4\n",
      "5\n"
     ]
    }
   ],
   "source": [
    "class Node:\n",
    "    def __init__(self, data, next = None):\n",
    "        self.data = data\n",
    "        self.next = next\n",
    "\n",
    "def insertNodeAtPosition(head, data, position):\n",
    "    nodeb4 = None\n",
    "    node = head\n",
    "    for i in range(position):\n",
    "        nodeb4 = node\n",
    "        node = node.next\n",
    "    if nodeb4:\n",
    "        nodeb4.next = Node(data, node)\n",
    "    else:\n",
    "        return Node(data, head)\n",
    "    return head\n",
    "\n",
    "node5 = Node(5, None)\n",
    "node4 = Node(4, node5)\n",
    "node3 = Node(3, node4)\n",
    "node2 = Node(2, node3)\n",
    "node1 = Node(1, node2)\n",
    "node0 = Node(0, node1)\n",
    "printLinkedList(insertNodeAtPosition(node0, 50, 1))"
   ]
  },
  {
   "cell_type": "code",
   "execution_count": 11,
   "metadata": {},
   "outputs": [
    {
     "name": "stdout",
     "output_type": "stream",
     "text": [
      "0\n",
      "1\n",
      "2\n",
      "4\n",
      "5\n"
     ]
    }
   ],
   "source": [
    "class Node:\n",
    "    def __init__(self, data, next = None):\n",
    "        self.data = data\n",
    "        self.next = next\n",
    "\n",
    "def deleteNode(head, position):\n",
    "    if position == 0:\n",
    "        return head.next\n",
    "    \n",
    "    nodeb4 = head\n",
    "    for i in range(position - 1):\n",
    "        nodeb4 = nodeb4.next\n",
    "        \n",
    "    nodeb4.next = nodeb4.next.next\n",
    "    return head\n",
    "\n",
    "node5 = Node(5, None)\n",
    "node4 = Node(4, node5)\n",
    "node3 = Node(3, node4)\n",
    "node2 = Node(2, node3)\n",
    "node1 = Node(1, node2)\n",
    "node0 = Node(0, node1)\n",
    "printLinkedList(deleteNode(node0, 3))"
   ]
  },
  {
   "cell_type": "code",
   "execution_count": 12,
   "metadata": {},
   "outputs": [
    {
     "name": "stdout",
     "output_type": "stream",
     "text": [
      "5\n",
      "4\n",
      "3\n",
      "2\n",
      "1\n",
      "0\n"
     ]
    }
   ],
   "source": [
    "class Node:\n",
    "    def __init__(self, data, next = None):\n",
    "        self.data = data\n",
    "        self.next = next\n",
    "\n",
    "def reversePrint(head):\n",
    "    if not head:\n",
    "        return\n",
    "\n",
    "    nodes = []\n",
    "    node = head\n",
    "    while (node):\n",
    "        nodes.append(node.data)\n",
    "        node = node.next\n",
    "        \n",
    "    print('\\n'.join(map(str, nodes[::-1])))\n",
    "    \n",
    "node5 = Node(5, None)\n",
    "node4 = Node(4, node5)\n",
    "node3 = Node(3, node4)\n",
    "node2 = Node(2, node3)\n",
    "node1 = Node(1, node2)\n",
    "node0 = Node(0, node1)\n",
    "reversePrint(node0)"
   ]
  },
  {
   "cell_type": "code",
   "execution_count": 13,
   "metadata": {},
   "outputs": [
    {
     "name": "stdout",
     "output_type": "stream",
     "text": [
      "5\n",
      "4\n",
      "3\n"
     ]
    }
   ],
   "source": [
    "class Node:\n",
    "    def __init__(self, data, next = None):\n",
    "        self.data = data\n",
    "        self.next = next\n",
    "\n",
    "def reverse(head):\n",
    "    if not head:\n",
    "        return\n",
    "\n",
    "    nodes = []\n",
    "    node = head\n",
    "    while (node):\n",
    "        nodes.append(node)\n",
    "        node = node.next\n",
    "        \n",
    "    i = len(nodes) - 1\n",
    "    \n",
    "    while i > 0:\n",
    "        nodes[i].next = nodes[i - 1]\n",
    "        i -= 1\n",
    "    nodes[0].next = None\n",
    "    head = nodes[-1]\n",
    "    del nodes\n",
    "    return head\n",
    "    \n",
    "node5 = Node(5, None)\n",
    "node4 = Node(4, node5)\n",
    "node3 = Node(3, node4)\n",
    "node2 = Node(2, node3)\n",
    "node1 = Node(1, node2)\n",
    "node0 = Node(0, node1)\n",
    "printLinkedList(reverse(node3))"
   ]
  },
  {
   "cell_type": "code",
   "execution_count": 14,
   "metadata": {},
   "outputs": [],
   "source": [
    "class Node:\n",
    "    def __init__(self, data, next = None):\n",
    "        self.data = data\n",
    "        self.next = next\n",
    "\n",
    "def compare_lists(llist1, llist2):\n",
    "    while llist1:\n",
    "        if not llist1.data == llist2.data:\n",
    "            return 0\n",
    "        \n",
    "        llist1 = llist1.next\n",
    "        llist2 = llist2.next\n",
    "        \n",
    "    return 1"
   ]
  },
  {
   "cell_type": "code",
   "execution_count": 15,
   "metadata": {},
   "outputs": [
    {
     "data": {
      "text/plain": [
       "0"
      ]
     },
     "execution_count": 15,
     "metadata": {},
     "output_type": "execute_result"
    }
   ],
   "source": [
    "class Node:\n",
    "    def __init__(self, data, next = None):\n",
    "        self.data = data\n",
    "        self.next = next\n",
    "\n",
    "def compare_lists(llist1, llist2):\n",
    "    while llist1:\n",
    "        if not llist1.data == llist2.data:\n",
    "            return 0\n",
    "        \n",
    "        llist1 = llist1.next\n",
    "        llist2 = llist2.next\n",
    "        \n",
    "    return 1\n",
    "\n",
    "node5 = Node(5, None)\n",
    "node4 = Node(4, node5)\n",
    "node3 = Node(3, node4)\n",
    "node2 = Node(2, node3)\n",
    "node1 = Node(1, node2)\n",
    "node0 = Node(0, node1)\n",
    "\n",
    "n5 = Node(5, None)\n",
    "n4 = Node(4, n5)\n",
    "n3 = Node(3, n4)\n",
    "n2 = Node(3, n3)\n",
    "n1 = Node(1, n2)\n",
    "n0 = Node(0, n1)\n",
    "\n",
    "compare_lists(node0, n0)"
   ]
  },
  {
   "cell_type": "code",
   "execution_count": 16,
   "metadata": {},
   "outputs": [
    {
     "data": {
      "text/plain": [
       "0"
      ]
     },
     "execution_count": 16,
     "metadata": {},
     "output_type": "execute_result"
    }
   ],
   "source": [
    "class Node:\n",
    "    def __init__(self, data, next = None):\n",
    "        self.data = data\n",
    "        self.next = next\n",
    "\n",
    "def compare_lists(llist1, llist2):\n",
    "    while llist1:\n",
    "        if bool(llist1 == None) ^ bool(llist2 == None):\n",
    "            return 0;\n",
    "        \n",
    "        if not llist1.data == llist2.data:\n",
    "            return 0\n",
    "        \n",
    "        llist1 = llist1.next\n",
    "        llist2 = llist2.next\n",
    "        \n",
    "    return 1\n",
    "\n",
    "node5 = Node(5, None)\n",
    "node4 = Node(4, node5)\n",
    "node3 = Node(3, node4)\n",
    "node2 = Node(2, node3)\n",
    "node1 = Node(1, node2)\n",
    "node0 = Node(0, node1)\n",
    "\n",
    "n5 = Node(5, None)\n",
    "n4 = Node(4, n5)\n",
    "n3 = Node(3, n4)\n",
    "n2 = Node(1, n3)\n",
    "n1 = Node(1, n2)\n",
    "n0 = Node(0, n1)\n",
    "\n",
    "compare_lists(node0, n0)"
   ]
  },
  {
   "cell_type": "markdown",
   "metadata": {},
   "source": [
    "Given the head of a singly linked list, find the data at a given position, counted from the tail."
   ]
  },
  {
   "cell_type": "code",
   "execution_count": 17,
   "metadata": {},
   "outputs": [
    {
     "data": {
      "text/plain": [
       "3"
      ]
     },
     "execution_count": 17,
     "metadata": {},
     "output_type": "execute_result"
    }
   ],
   "source": [
    "class Node:\n",
    "    def __init__(self, data, next = None):\n",
    "        self.data = data\n",
    "        self.next = next\n",
    "        \n",
    "node3 = Node(1)\n",
    "node2 = Node(2, node3)\n",
    "node1 = Node(3, node2)\n",
    "\n",
    "n1 = Node(1)\n",
    "\n",
    "def getNode(head, positionFromTail):\n",
    "    n = 1\n",
    "    node = head\n",
    "    data = [head.data]\n",
    "    \n",
    "    while (node.next != None):\n",
    "        node = node.next\n",
    "        data.append(node.data)\n",
    "        n += 1\n",
    "        \n",
    "    p = n - positionFromTail - 1\n",
    "    return data[p]\n",
    "    \n",
    "getNode(node1, 2)\n",
    "#getNode(n1, 0)"
   ]
  },
  {
   "cell_type": "code",
   "execution_count": 18,
   "metadata": {},
   "outputs": [
    {
     "data": {
      "text/plain": [
       "'cOOl dOg'"
      ]
     },
     "execution_count": 18,
     "metadata": {},
     "output_type": "execute_result"
    }
   ],
   "source": [
    "def transformSentence(sentence):\n",
    "    words = sentence.split(' ')\n",
    "    resultWords = []\n",
    "    \n",
    "    for w in words:\n",
    "        letters = list(w)\n",
    "        \n",
    "        for i in range(1, len(letters)):\n",
    "            if ord(letters[i].lower()) > ord(letters[i - 1].lower()):\n",
    "                letters[i] = letters[i].upper()\n",
    "            elif ord(letters[i].lower()) < ord(letters[i - 1].lower()):\n",
    "                letters[i] = letters[i].lower()\n",
    "                \n",
    "        resultWords.append(''.join(letters))\n",
    "            \n",
    "    return ' '.join(resultWords)\n",
    "    \n",
    "transformSentence(\"coOL dog\")"
   ]
  },
  {
   "cell_type": "markdown",
   "metadata": {},
   "source": [
    "#### Jaggu Playing with Balloons (TODO)"
   ]
  },
  {
   "cell_type": "code",
   "execution_count": 19,
   "metadata": {},
   "outputs": [],
   "source": [
    "def  countSetBits(n):\n",
    "    count = 0\n",
    "    while (n):\n",
    "        count += n & 1\n",
    "        n >>= 1\n",
    "    return count"
   ]
  },
  {
   "cell_type": "code",
   "execution_count": 20,
   "metadata": {},
   "outputs": [],
   "source": [
    "import math\n",
    "\n",
    "def update(pos, M, plus):\n",
    "    N = 10000\n",
    "    \n",
    "    for i in range(1, 50 + 1):\n",
    "        back = pos\n",
    "        \n",
    "        for j in range(1, 1000 + 1):\n",
    "            # Add M water balloons at bucket pos\n",
    "            _in = countSetBits(pos)\n",
    "            k = 0\n",
    "        \n",
    "            while True:\n",
    "                s = pos + math.pow(2, k)\n",
    "            \n",
    "                if countSetBits(s) <= _in:\n",
    "                    _in = countSetBits(s)\n",
    "                    pos = s\n",
    "                \n",
    "                    if (pos > N):\n",
    "                        break\n",
    "                        # Add M water balloons at bucket pos\n",
    "                k += 1\n",
    "            pos -= N\n",
    "        pos = back + plus\n",
    "    \n",
    "        if pos > N:\n",
    "            pos -= N"
   ]
  },
  {
   "cell_type": "markdown",
   "metadata": {},
   "source": [
    "#### Remove Duplicates from Sorted Linked List"
   ]
  },
  {
   "cell_type": "code",
   "execution_count": 21,
   "metadata": {},
   "outputs": [],
   "source": [
    "class Node:\n",
    "    def __init__(self, data, next = None):\n",
    "        self.data = data\n",
    "        self.next = next"
   ]
  },
  {
   "cell_type": "code",
   "execution_count": 22,
   "metadata": {},
   "outputs": [],
   "source": [
    "node6 = Node(4)\n",
    "node5 = Node(4, node6)\n",
    "node4 = Node(3, node5)\n",
    "node3 = Node(3, node4)\n",
    "node2 = Node(2, node3)\n",
    "node1 = Node(1, node2)\n",
    "\n",
    "\n",
    "def removeDuplicates(llist):\n",
    "    temp = llist\n",
    "    \n",
    "    if temp is None:\n",
    "        return llist\n",
    "    \n",
    "    while temp.next is not None:\n",
    "        if temp.data == temp.next.data:\n",
    "            temp.next = temp.next.next\n",
    "        else:\n",
    "            temp = temp.next\n",
    "    return llist"
   ]
  },
  {
   "cell_type": "code",
   "execution_count": 23,
   "metadata": {},
   "outputs": [
    {
     "name": "stdout",
     "output_type": "stream",
     "text": [
      "1\n",
      "2\n",
      "3\n",
      "4\n"
     ]
    }
   ],
   "source": [
    "llist = removeDuplicates(node1)\n",
    "printLinkedList(llist)"
   ]
  },
  {
   "cell_type": "markdown",
   "metadata": {},
   "source": [
    "#### HasCycle (Using the turtoise and the hare / Floyd’s Cycle detection algorithm)"
   ]
  },
  {
   "cell_type": "code",
   "execution_count": 24,
   "metadata": {},
   "outputs": [],
   "source": [
    "def has_cycle(head):\n",
    "    if head == None:\n",
    "        return 0\n",
    "    \n",
    "    slow = head\n",
    "    fast = head\n",
    "    \n",
    "    while fast.next != None and fast.next.next != None:\n",
    "        slow = slow.next\n",
    "        fast = fast.next.next\n",
    "        \n",
    "        if (slow == fast):\n",
    "            return 1\n",
    "    \n",
    "    return 0"
   ]
  },
  {
   "cell_type": "code",
   "execution_count": 25,
   "metadata": {},
   "outputs": [
    {
     "data": {
      "text/plain": [
       "1"
      ]
     },
     "execution_count": 25,
     "metadata": {},
     "output_type": "execute_result"
    }
   ],
   "source": [
    "n1 = Node(1)\n",
    "n2 = Node(2)\n",
    "n3 = Node(3)\n",
    "\n",
    "n1.next = n2\n",
    "n2.next = n3\n",
    "n3.next = n1\n",
    "\n",
    "has_cycle(n1)"
   ]
  },
  {
   "cell_type": "code",
   "execution_count": 26,
   "metadata": {},
   "outputs": [
    {
     "data": {
      "text/plain": [
       "1"
      ]
     },
     "execution_count": 26,
     "metadata": {},
     "output_type": "execute_result"
    }
   ],
   "source": [
    "n1 = Node(1)\n",
    "n2 = Node(2)\n",
    "n3 = Node(3)\n",
    "\n",
    "llist = LinkedList()\n",
    "llist.push(n1)\n",
    "llist.push(n2)\n",
    "llist.push(n3)\n",
    "llist.push(n1)\n",
    "\n",
    "has_cycle(llist.head)"
   ]
  },
  {
   "cell_type": "markdown",
   "metadata": {},
   "source": [
    "Huffman Encoding"
   ]
  },
  {
   "cell_type": "code",
   "execution_count": 27,
   "metadata": {},
   "outputs": [],
   "source": [
    "class TreeNode:\n",
    "    right = None\n",
    "    left = None\n",
    "    parent = None\n",
    "    key = None\n",
    "    \n",
    "    def __init__(self, key, r = None, l = None, p = None):\n",
    "        self.right = r\n",
    "        self.left = l\n",
    "        self.parent = p\n",
    "        self.key = key\n",
    "        \n",
    "    def setLeft(self, l):\n",
    "        self.left = l\n",
    "        \n",
    "        if (l != None):\n",
    "            l.parent = self\n",
    "        \n",
    "    def setRight(self, r):\n",
    "        self.right = r\n",
    "        \n",
    "        if (r != None):\n",
    "            r.parent = self\n",
    "        \n",
    "    def setParent(self, p):\n",
    "        self.parent = p\n",
    "        \n",
    "    def inOrderTreeWalk(self):\n",
    "        if (self != None):\n",
    "            yield from inOrderTreeWalk(self.left)\n",
    "        \n",
    "            if(self.key != None):\n",
    "                yield self.key\n",
    "        \n",
    "            yield from inOrderTreeWalk(self.right)\n",
    "            \n",
    "    def search(self, key):\n",
    "        x = self\n",
    "        \n",
    "        while(x != None and key != x.key):\n",
    "            if (key < x.key):\n",
    "                x = x.left\n",
    "            else:\n",
    "                x = x.right\n",
    "                \n",
    "        return x\n",
    "        \n",
    "    def root(self):\n",
    "        root = self\n",
    "        \n",
    "        while (True):\n",
    "            root = root.parent\n",
    "            \n",
    "            if (root.parent == None):\n",
    "                return root\n",
    "            \n",
    "    def min(self):\n",
    "        x = self\n",
    "        \n",
    "        while(x.left != None):\n",
    "            x = x.left\n",
    "    \n",
    "        return x\n",
    "    \n",
    "    def max(self):\n",
    "        x = self\n",
    "        \n",
    "        while(x.right != None):\n",
    "            x = x.right\n",
    "    \n",
    "        return x\n",
    "    \n",
    "    def successor(self):\n",
    "        x = self\n",
    "        \n",
    "        if(x.right != None):\n",
    "            return x.right.min()\n",
    "        \n",
    "        y = x.parent\n",
    "        \n",
    "        while (y != None and x == y.right):\n",
    "            x = y\n",
    "            y = y.parent\n",
    "            \n",
    "        return y"
   ]
  },
  {
   "cell_type": "markdown",
   "metadata": {},
   "source": [
    "Get counts of each letter"
   ]
  },
  {
   "cell_type": "code",
   "execution_count": 28,
   "metadata": {},
   "outputs": [
    {
     "data": {
      "text/plain": [
       "{'R': 2, 'C': 1, 'D': 1, 'A': 5, 'B': 2}"
      ]
     },
     "execution_count": 28,
     "metadata": {},
     "output_type": "execute_result"
    }
   ],
   "source": [
    "text = \"ABRACADABRA\"\n",
    "letters = set(text)\n",
    "counts = dict.fromkeys(letters, 0)\n",
    "\n",
    "for i in text:\n",
    "    counts[i] = text.count(i)\n",
    "    \n",
    "counts"
   ]
  },
  {
   "cell_type": "code",
   "execution_count": null,
   "metadata": {},
   "outputs": [],
   "source": []
  },
  {
   "cell_type": "code",
   "execution_count": 29,
   "metadata": {},
   "outputs": [
    {
     "data": {
      "text/plain": [
       "'C'"
      ]
     },
     "execution_count": 29,
     "metadata": {},
     "output_type": "execute_result"
    }
   ],
   "source": [
    "min(counts, key=lambda k: counts[k])"
   ]
  },
  {
   "cell_type": "code",
   "execution_count": 30,
   "metadata": {},
   "outputs": [
    {
     "data": {
      "text/plain": [
       "['C', 'D']"
      ]
     },
     "execution_count": 30,
     "metadata": {},
     "output_type": "execute_result"
    }
   ],
   "source": [
    "minKeys = [i  for i in counts if counts[i] == min(counts.values())]\n",
    "minKeys"
   ]
  },
  {
   "cell_type": "code",
   "execution_count": 31,
   "metadata": {},
   "outputs": [
    {
     "data": {
      "text/plain": [
       "{'A', 'B', 'R'}"
      ]
     },
     "execution_count": 31,
     "metadata": {},
     "output_type": "execute_result"
    }
   ],
   "source": [
    "letters -= set(minKeys)\n",
    "letters"
   ]
  },
  {
   "cell_type": "code",
   "execution_count": null,
   "metadata": {},
   "outputs": [],
   "source": []
  },
  {
   "cell_type": "code",
   "execution_count": null,
   "metadata": {},
   "outputs": [],
   "source": []
  },
  {
   "cell_type": "code",
   "execution_count": null,
   "metadata": {},
   "outputs": [],
   "source": []
  },
  {
   "cell_type": "code",
   "execution_count": null,
   "metadata": {},
   "outputs": [],
   "source": []
  },
  {
   "cell_type": "code",
   "execution_count": 32,
   "metadata": {},
   "outputs": [
    {
     "name": "stdout",
     "output_type": "stream",
     "text": [
      "f -> 0\n",
      "c -> 100\n",
      "d -> 101\n",
      "a -> 1100\n",
      "b -> 1101\n",
      "e -> 111\n"
     ]
    }
   ],
   "source": [
    "# A Huffman Tree Node\n",
    "class node:\n",
    "    def __init__(self, freq, symbol, left=None, right=None):\n",
    "        # frequency of symbol\n",
    "        self.freq = freq\n",
    "  \n",
    "        # symbol name (character)\n",
    "        self.symbol = symbol\n",
    "  \n",
    "        # node left of current node\n",
    "        self.left = left\n",
    "  \n",
    "        # node right of current node\n",
    "        self.right = right\n",
    "  \n",
    "        # tree direction (0/1)\n",
    "        self.huff = ''\n",
    "  \n",
    "# utility function to print huffman\n",
    "# codes for all symbols in the newly\n",
    "# created Huffman tree\n",
    "  \n",
    "  \n",
    "def printNodes(node, val=''):\n",
    "    # huffman code for current node\n",
    "    newVal = val + str(node.huff)\n",
    "  \n",
    "    # if node is not an edge node\n",
    "    # then traverse inside it\n",
    "    if(node.left):\n",
    "        printNodes(node.left, newVal)\n",
    "    if(node.right):\n",
    "        printNodes(node.right, newVal)\n",
    "  \n",
    "        # if node is edge node then\n",
    "        # display its huffman code\n",
    "    if(not node.left and not node.right):\n",
    "        print(f\"{node.symbol} -> {newVal}\")\n",
    "  \n",
    "  \n",
    "# characters for huffman tree\n",
    "chars = ['a', 'b', 'c', 'd', 'e', 'f']\n",
    "  \n",
    "# frequency of characters\n",
    "freq = [ 5, 9, 12, 13, 16, 45]\n",
    "  \n",
    "# list containing unused nodes\n",
    "nodes = []\n",
    "  \n",
    "# converting characters and frequencies\n",
    "# into huffman tree nodes\n",
    "for x in range(len(chars)):\n",
    "    nodes.append(node(freq[x], chars[x]))\n",
    "  \n",
    "while len(nodes) > 1:\n",
    "    # sort all the nodes in ascending order\n",
    "    # based on theri frequency\n",
    "    nodes = sorted(nodes, key=lambda x: x.freq)\n",
    "  \n",
    "    # pick 2 smallest nodes\n",
    "    left = nodes[0]\n",
    "    right = nodes[1]\n",
    "  \n",
    "    # assign directional value to these nodes\n",
    "    left.huff = 0\n",
    "    right.huff = 1\n",
    "  \n",
    "    # combine the 2 smallest nodes to create\n",
    "    # new node as their parent\n",
    "    newNode = node(left.freq+right.freq, left.symbol+right.symbol, left, right)\n",
    "  \n",
    "    # remove the 2 nodes and add their\n",
    "    # parent as new node among others\n",
    "    nodes.remove(left)\n",
    "    nodes.remove(right)\n",
    "    nodes.append(newNode)\n",
    "  \n",
    "# Huffman Tree is ready!\n",
    "printNodes(nodes[0])"
   ]
  },
  {
   "cell_type": "code",
   "execution_count": 33,
   "metadata": {},
   "outputs": [],
   "source": [
    "def maxPairs(skillLevel, minDiff, count=0):\n",
    "    if len(skillLevel) < 2 or max(skillLevel) - min(skillLevel) < minDiff:\n",
    "        return count\n",
    "\n",
    "    x = len(skillLevel)\n",
    "\n",
    "    for i in range(x):\n",
    "        for j in range(1, x):\n",
    "            if abs(skillLevel[i] - skillLevel[j]) >= minDiff:\n",
    "                skillLevel.remove(skillLevel[i])\n",
    "                skillLevel.remove(skillLevel[j - 1])\n",
    "                count += 1\n",
    "                break\n",
    "\n",
    "        return maxPairs(skillLevel, minDiff, count)"
   ]
  },
  {
   "cell_type": "code",
   "execution_count": 34,
   "metadata": {},
   "outputs": [
    {
     "data": {
      "text/plain": [
       "2"
      ]
     },
     "execution_count": 34,
     "metadata": {},
     "output_type": "execute_result"
    }
   ],
   "source": [
    "maxPairs([1,2,3,4,5,6], 4)"
   ]
  },
  {
   "cell_type": "code",
   "execution_count": 35,
   "metadata": {},
   "outputs": [],
   "source": [
    "def sub_lists (l):\n",
    "    lists = [[]]\n",
    "    for i in range(len(l) + 1):\n",
    "        for j in range(i):\n",
    "            lists.append(l[j: i])\n",
    "    return lists"
   ]
  },
  {
   "cell_type": "code",
   "execution_count": 36,
   "metadata": {},
   "outputs": [
    {
     "data": {
      "text/plain": [
       "[[],\n",
       " [1],\n",
       " [1, 2],\n",
       " [2],\n",
       " [1, 2, 3],\n",
       " [2, 3],\n",
       " [3],\n",
       " [1, 2, 3, 5],\n",
       " [2, 3, 5],\n",
       " [3, 5],\n",
       " [5],\n",
       " [1, 2, 3, 5, 4],\n",
       " [2, 3, 5, 4],\n",
       " [3, 5, 4],\n",
       " [5, 4],\n",
       " [4]]"
      ]
     },
     "execution_count": 36,
     "metadata": {},
     "output_type": "execute_result"
    }
   ],
   "source": [
    "sub_lists([1, 2, 3, 5, 4])"
   ]
  },
  {
   "cell_type": "code",
   "execution_count": 37,
   "metadata": {},
   "outputs": [],
   "source": [
    "def value(arr):\n",
    "    odd = 0\n",
    "    even = 0\n",
    "\n",
    "    for i in range(0, len(arr)):\n",
    "        if i % 2 == 0:\n",
    "            even += arr[i]\n",
    "        else:\n",
    "            odd += arr[i]\n",
    "\n",
    "    return (even - odd) * (even - odd)\n",
    "\n",
    "\n",
    "def maxSubarrayValue(l):\n",
    "    max = -float('inf')\n",
    "\n",
    "    for i in range(len(l) + 1):\n",
    "        for j in range(i):\n",
    "            v = value(l[j: i])\n",
    "            max = v if v > max else max\n",
    "    return max\n",
    "\n",
    "\n"
   ]
  },
  {
   "cell_type": "code",
   "execution_count": 38,
   "metadata": {},
   "outputs": [
    {
     "name": "stdout",
     "output_type": "stream",
     "text": [
      "81\n"
     ]
    }
   ],
   "source": [
    "if __name__ == '__main__':\n",
    "    print(maxSubarrayValue([-1, 2, 3, 4, -5]))"
   ]
  },
  {
   "cell_type": "code",
   "execution_count": 63,
   "metadata": {},
   "outputs": [],
   "source": [
    "class SinglyLinkedList:\n",
    "    def __init__(self, data = None, next = None):\n",
    "        self.data = data\n",
    "        self.next = next\n",
    "    \n",
    "def mergeLists(a, b):\n",
    "    result = None\n",
    "    if a == None: \n",
    "        return b \n",
    "    if b == None: \n",
    "        return a \n",
    "    if a.data <= b.data:\n",
    "        a.next = mergeLists(a.next, b)\n",
    "        return a\n",
    "    else: \n",
    "        b.next = mergeLists(a, b.next) \n",
    "        return b"
   ]
  },
  {
   "cell_type": "code",
   "execution_count": 64,
   "metadata": {},
   "outputs": [],
   "source": [
    "def mergeListsIter(a, b):\n",
    "    result = SinglyLinkedList()\n",
    "    while a != None or b != None:\n",
    "        if a == None:\n",
    "            result.next = b\n",
    "        elif b == None:\n",
    "            result.next = a\n",
    "        else:\n",
    "            if a.data < b.data:\n",
    "                result.next = a\n",
    "                a = a.next\n",
    "            else:\n",
    "                result.next = b\n",
    "                b = b.next\n",
    "\n",
    "    return result"
   ]
  },
  {
   "cell_type": "code",
   "execution_count": 65,
   "metadata": {},
   "outputs": [],
   "source": [
    "node5 = SinglyLinkedList(5, None)\n",
    "node4 = SinglyLinkedList(4, node5)\n",
    "node3 = SinglyLinkedList(3, node4)\n",
    "\n",
    "node2 = SinglyLinkedList(2, None)\n",
    "node1 = SinglyLinkedList(1, node2)\n",
    "node0 = SinglyLinkedList(0, node1)"
   ]
  },
  {
   "cell_type": "code",
   "execution_count": 66,
   "metadata": {},
   "outputs": [
    {
     "name": "stdout",
     "output_type": "stream",
     "text": [
      "0\n",
      "1\n",
      "2\n"
     ]
    }
   ],
   "source": [
    "printLinkedList(node0)"
   ]
  },
  {
   "cell_type": "code",
   "execution_count": 67,
   "metadata": {},
   "outputs": [
    {
     "name": "stdout",
     "output_type": "stream",
     "text": [
      "3\n",
      "4\n",
      "5\n"
     ]
    }
   ],
   "source": [
    "printLinkedList(node3)"
   ]
  },
  {
   "cell_type": "code",
   "execution_count": null,
   "metadata": {},
   "outputs": [],
   "source": [
    "#merged = mergeLists(node3, node0)\n",
    "merged = mergeListsIter(node3, node0)"
   ]
  },
  {
   "cell_type": "code",
   "execution_count": null,
   "metadata": {},
   "outputs": [],
   "source": [
    "printLinkedList(merged)"
   ]
  },
  {
   "cell_type": "code",
   "execution_count": 4,
   "metadata": {},
   "outputs": [
    {
     "name": "stdout",
     "output_type": "stream",
     "text": [
      "1 2\n",
      "2 3\n",
      "3 4\n"
     ]
    }
   ],
   "source": [
    "#l = [6, 2, 4, 10]\n",
    "l = [4, 2, 1, 3]\n",
    "\n",
    "\n",
    "def min_pair(l):\n",
    "    l.sort()\n",
    "    global_min = float('inf')\n",
    "\n",
    "    for i in range(len(l) - 1):\n",
    "        diff = l[i + 1] - l[i]\n",
    "\n",
    "        if diff < global_min:\n",
    "            global_min = diff\n",
    "\n",
    "    for i in range(len(l) - 1):\n",
    "        if l[i + 1] - l[i] == global_min:\n",
    "            print(l[i], l[i + 1])\n",
    "\n",
    "\n",
    "min_pair(l)\n"
   ]
  },
  {
   "cell_type": "code",
   "execution_count": 10,
   "metadata": {},
   "outputs": [],
   "source": [
    "from math import factorial\n",
    "\n",
    "\n",
    "class Node:\n",
    "    def __init__(self, value):\n",
    "        self.value = value\n",
    "        self.left = None\n",
    "        self.right = None\n",
    "\n",
    "\n",
    "class BST:\n",
    "    def __init__(self):\n",
    "        self.root = None\n",
    "\n",
    "    def count(self, value):\n",
    "        return int(factorial(\n",
    "            2 * value)/(factorial(value + 1) * factorial(value)))\n",
    "\n",
    "\n",
    "def numBST(nodeValues):\n",
    "    # Write your code here\n",
    "    binarySearchTree = BST()\n",
    "    res = []\n",
    "    for n in nodeValues:\n",
    "        res.append(binarySearchTree.count(n))\n",
    "    return res\n"
   ]
  },
  {
   "cell_type": "code",
   "execution_count": 23,
   "metadata": {},
   "outputs": [
    {
     "data": {
      "text/plain": [
       "22591388"
      ]
     },
     "execution_count": 23,
     "metadata": {},
     "output_type": "execute_result"
    }
   ],
   "source": [
    "numBST([100])[0] % 25666077"
   ]
  },
  {
   "cell_type": "markdown",
   "metadata": {},
   "source": [
    "### Coin Change"
   ]
  },
  {
   "cell_type": "code",
   "execution_count": 1,
   "metadata": {},
   "outputs": [
    {
     "data": {
      "text/plain": [
       "3"
      ]
     },
     "execution_count": 1,
     "metadata": {},
     "output_type": "execute_result"
    }
   ],
   "source": [
    "def coin_change(n, c, current, l):\n",
    "    if n == 0:\n",
    "        return 1\n",
    "    if n < 0:\n",
    "        return 0\n",
    "    ncombos = 0\n",
    "    for i in range(current, l):\n",
    "        ncombos += coin_change(n - c[i], c, i, l)\n",
    "    return ncombos\n",
    "\n",
    "coins = [1, 2]\n",
    "amount = 4\n",
    "coin_change(amount, coins, 0, len(coins))"
   ]
  },
  {
   "cell_type": "markdown",
   "metadata": {},
   "source": [
    "Iterative. Best approach. Actually got full marks on Hackerrank"
   ]
  },
  {
   "cell_type": "code",
   "execution_count": 7,
   "metadata": {},
   "outputs": [
    {
     "name": "stdout",
     "output_type": "stream",
     "text": [
      "1 1 0 0 0\n",
      "1 1 1 0 0\n",
      "1 1 1 1 0\n",
      "1 1 1 1 1\n",
      "1 1 2 1 1\n",
      "1 1 2 2 1\n",
      "1 1 2 2 3\n"
     ]
    },
    {
     "data": {
      "text/plain": [
       "3"
      ]
     },
     "execution_count": 7,
     "metadata": {},
     "output_type": "execute_result"
    }
   ],
   "source": [
    "def coin_change(amount, coins):\n",
    "    combinations = [1] + [0]*amount\n",
    "    \n",
    "    for coin in coins:\n",
    "        for i in range(coin, amount + 1):\n",
    "            combinations[i] += combinations[i - coin]\n",
    "            print(*combinations)\n",
    "    return combinations[-1]\n",
    "                \n",
    "coin_change(4, [1, 2])"
   ]
  },
  {
   "cell_type": "code",
   "execution_count": 5,
   "metadata": {},
   "outputs": [
    {
     "data": {
      "text/plain": [
       "3"
      ]
     },
     "execution_count": 5,
     "metadata": {},
     "output_type": "execute_result"
    }
   ],
   "source": [
    "def getWays(amount, coins):\n",
    "    dp = [1] + [0]*amount\n",
    "    for coin in coins:\n",
    "        for i in range(coin, amount+1):\n",
    "            dp[i] += dp[i-coin]\n",
    "    return dp[amount]\n",
    "\n",
    "amount = 4\n",
    "coins = [1, 2]\n",
    "getWays(amount, coins)"
   ]
  },
  {
   "cell_type": "markdown",
   "metadata": {},
   "source": [
    "Lexicographical Order (I passed all the tests and got full score)"
   ]
  },
  {
   "cell_type": "code",
   "execution_count": 2,
   "metadata": {},
   "outputs": [
    {
     "data": {
      "text/plain": [
       "'hcdk'"
      ]
     },
     "execution_count": 2,
     "metadata": {},
     "output_type": "execute_result"
    }
   ],
   "source": [
    "def biggerIsGreater(w):\n",
    "    '''\n",
    "    Arguments:\n",
    "        w(string): input text\n",
    "    '''\n",
    "    n = len(w)\n",
    "    na = \"no answer\"\n",
    "    \n",
    "    if n == 1:\n",
    "        return na\n",
    "    if n == 2:\n",
    "        return w[: n - 2] + w[1]+w[0] if w[1] > w[0] else na\n",
    "    for i in range(n - 2, -1, -1):\n",
    "        if i == n - 2:\n",
    "            if w[i + 1] > w[i]:\n",
    "                return w[: n - 2] + w[i + 1]+w[i]\n",
    "        s = sorted(w[i:])\n",
    "        for j in range(n - i):\n",
    "            if s[j] > w[i]:\n",
    "                key = s[j]\n",
    "                s.remove(s[j])\n",
    "                return w[:i] + key + ''.join(s)\n",
    "    return na\n",
    "    \n",
    "#s = \"abdc\"\n",
    "#s = 'lmno'\n",
    "#s = 'dcba'\n",
    "#s = 'dcbb'\n",
    "#s = 'abcd'\n",
    "#s = 'fedcbabcd'\n",
    "#s = 'hefg'\n",
    "#s = 'dhck'\n",
    "s = 'dkhc' #hcdk\n",
    "biggerIsGreater(s)"
   ]
  },
  {
   "cell_type": "markdown",
   "metadata": {},
   "source": [
    "Modified Fibonacci"
   ]
  },
  {
   "cell_type": "code",
   "execution_count": 8,
   "metadata": {},
   "outputs": [
    {
     "data": {
      "text/plain": [
       "5"
      ]
     },
     "execution_count": 8,
     "metadata": {},
     "output_type": "execute_result"
    }
   ],
   "source": [
    "def fibonacciModified(t1, t2, n, memo = {}):\n",
    "    '''\n",
    "    Arguments:\n",
    "        n (int): Fibonacci index\n",
    "        memo (dictionary): A hashmap for memoization\n",
    "    '''\n",
    "    if (n in memo.keys()):\n",
    "        return memo[n]\n",
    "    if n == 1:\n",
    "        return t1\n",
    "    if n == 2:\n",
    "        return t2\n",
    "    \n",
    "    t = fibonacciModified(t1, t2, n - 1)\n",
    "    temp = t * t + fibonacciModified(t1, t2, n - 2)\n",
    "    memo[n] = temp\n",
    "    return temp\n",
    "\n",
    "fibonacciModified(0, 1, 5)"
   ]
  },
  {
   "cell_type": "code",
   "execution_count": 43,
   "metadata": {},
   "outputs": [
    {
     "data": {
      "text/plain": [
       "'YES'"
      ]
     },
     "execution_count": 43,
     "metadata": {},
     "output_type": "execute_result"
    }
   ],
   "source": [
    "def findNumber(arr, k):\n",
    "    a = sorted(arr)[:]\n",
    "    n = len(a)\n",
    "    \n",
    "    while n > 1:\n",
    "        m = n // 2\n",
    "        if k > a[m]:\n",
    "            a = a[m:]\n",
    "        elif k < a[m]:\n",
    "            a = a[:m]\n",
    "        n = len(a)\n",
    "    if k == a[0]:\n",
    "        return 'YES'\n",
    "    return 'NO'\n",
    "\n",
    "#arr = [5, 3, 6, 2, 1, 7]\n",
    "arr = [1, 2, 3, 4, 5]\n",
    "k =1\n",
    "findNumber(arr, k)"
   ]
  },
  {
   "cell_type": "code",
   "execution_count": null,
   "metadata": {},
   "outputs": [],
   "source": [
    "Arrays.sort(arr);\n",
    "\n",
    "int minimumDifference = Integer.MAX_VALUE;\n",
    "\n",
    "for (int i = 0; i < arr.length - 1; i++) {\n",
    "    int difference = arr[i + 1] - arr[i];\n",
    "    \n",
    "    if (difference < minimumDifference) {\n",
    "        minimumDifference = difference;\n",
    "        \n",
    "        if (minimumDifference == 0) {\n",
    "            return 0;\n",
    "        }\n",
    "    }\n",
    "}\n",
    "\n",
    "return minimumDifference;"
   ]
  },
  {
   "cell_type": "markdown",
   "metadata": {},
   "source": [
    "Minimum Absolute Difference"
   ]
  },
  {
   "cell_type": "code",
   "execution_count": 68,
   "metadata": {},
   "outputs": [
    {
     "name": "stdout",
     "output_type": "stream",
     "text": [
      "-54 -53\n"
     ]
    },
    {
     "data": {
      "text/plain": [
       "1"
      ]
     },
     "execution_count": 68,
     "metadata": {},
     "output_type": "execute_result"
    }
   ],
   "source": [
    "def minimumAbsoluteDifference(arr):\n",
    "    '''\n",
    "    Arguments:\n",
    "        arr(array)\n",
    "    Return:\n",
    "        int\n",
    "    '''\n",
    "    global_min = float('inf')\n",
    "    arr = sorted(arr)\n",
    "    \n",
    "    for i in range(len(arr) - 1):\n",
    "        diff = abs(arr[i + 1] - arr[i])\n",
    "        #global_min = min(abs(arr[i + 1] - arr[i]), global_min)\n",
    "        if diff < global_min:\n",
    "            a, b = arr[i], arr[i + 1]\n",
    "            global_min = diff\n",
    "        \n",
    "    print(a, b)\n",
    "    return global_min\n",
    "\n",
    "arr = [-59, -36, -13, 1, -53, -92, -2, -96, -54, 75]\n",
    "minimumAbsoluteDifference(arr)"
   ]
  },
  {
   "cell_type": "code",
   "execution_count": 69,
   "metadata": {},
   "outputs": [
    {
     "data": {
      "text/plain": [
       "1"
      ]
     },
     "execution_count": 69,
     "metadata": {},
     "output_type": "execute_result"
    }
   ],
   "source": [
    "def minimumAbsoluteDifference(arr):\n",
    "    arr = sorted(arr)\n",
    "    diff = [abs(arr[i + 1] - arr[i]) for i in range(len(arr) - 1)]\n",
    "    return min(diff)\n",
    "\n",
    "minimumAbsoluteDifference(arr)"
   ]
  },
  {
   "cell_type": "markdown",
   "metadata": {},
   "source": [
    "https://www.hackerrank.com/challenges/luck-balance/forum"
   ]
  },
  {
   "cell_type": "code",
   "execution_count": 91,
   "metadata": {},
   "outputs": [
    {
     "data": {
      "text/plain": [
       "29"
      ]
     },
     "execution_count": 91,
     "metadata": {},
     "output_type": "execute_result"
    }
   ],
   "source": [
    "def luckBalance(k, contests):\n",
    "    imp = []\n",
    "    unimp = []    \n",
    "    \n",
    "    for contest in contests:\n",
    "        if contest[1] != 0:\n",
    "            imp.append(contest[0])\n",
    "        else:\n",
    "            unimp.append(contest[0])\n",
    "    \n",
    "    imp = sorted(imp, reverse=True)\n",
    "    return sum(imp[:k]) - sum(imp[k:]) + sum(unimp)\n",
    "\n",
    "n = 6\n",
    "k = 3\n",
    "contests = [[5, 1], [2, 1], [1, 1], [8, 1], [10, 0], [5, 0]]\n",
    "\n",
    "luckBalance(k, contests) \n",
    "    "
   ]
  },
  {
   "cell_type": "code",
   "execution_count": 90,
   "metadata": {},
   "outputs": [
    {
     "data": {
      "text/plain": [
       "29"
      ]
     },
     "execution_count": 90,
     "metadata": {},
     "output_type": "execute_result"
    }
   ],
   "source": [
    "def luckBalance(k, contests):\n",
    "    # sort from greatest luck to least luck\n",
    "    contests.sort(reverse=True)\n",
    "    luck = 0\n",
    "\n",
    "    for contest in contests:\n",
    "        if contest[1] == 0:\n",
    "            luck += contest[0]\n",
    "        elif k > 0:\n",
    "            luck += contest[0]\n",
    "            k -= 1\n",
    "        else:\n",
    "            luck -= contest[0]\n",
    "\n",
    "    return luck\n",
    "\n",
    "n = 6\n",
    "k = 3\n",
    "contests = [[5, 1], [2, 1], [1, 1], [8, 1], [10, 0], [5, 0]]\n",
    "\n",
    "luckBalance(k, contests) "
   ]
  },
  {
   "cell_type": "code",
   "execution_count": 114,
   "metadata": {},
   "outputs": [
    {
     "data": {
      "text/plain": [
       "54"
      ]
     },
     "execution_count": 114,
     "metadata": {},
     "output_type": "execute_result"
    }
   ],
   "source": [
    "def getMinimumCost(k, c):\n",
    "    c = sorted(c, reverse=True)\n",
    "    multiplier = 1\n",
    "    cost = 0\n",
    "    \n",
    "    for i in range(len(c)):\n",
    "        cost += multiplier * c[i]\n",
    "        \n",
    "        if (i + 1) % k == 0 and i != 0:\n",
    "            multiplier += 1\n",
    "            \n",
    "    return cost\n",
    "        \n",
    "k = 3\n",
    "#c = [1, 2, 3, 4]\n",
    "c = [1, 2, 3, 4, 5, 6, 7, 8]\n",
    "getMinimumCost(k, c)"
   ]
  },
  {
   "cell_type": "code",
   "execution_count": null,
   "metadata": {},
   "outputs": [],
   "source": [
    "from math import factorial\n",
    "\n",
    "\n",
    "class Node:\n",
    "    def __init__(self, value):\n",
    "        self.value = value\n",
    "        self.left = None\n",
    "        self.right = None\n",
    "\n",
    "\n",
    "class BST:\n",
    "    def __init__(self):\n",
    "        self.root = None\n",
    "\n",
    "    def count(self, value):\n",
    "        return int(factorial(\n",
    "            2 * value)/(factorial(value + 1) * factorial(value)))\n",
    "\n",
    "\n",
    "def numBST(nodeValues):\n",
    "    # Write your code here\n",
    "    binarySearchTree = BST()\n",
    "    res = []\n",
    "    for n in nodeValues:\n",
    "        res.append(binarySearchTree.count(n) % 100000007)\n",
    "    return res\n",
    "\n",
    "\n",
    "# print(numBST([100]))\n",
    "binarySearchTree = BST()\n",
    "val = binarySearchTree.count(100)\n",
    "i = 1000000\n",
    "while True:\n",
    "    if (val % i) == 25666077:\n",
    "        print(i)\n",
    "        i += 1\n",
    "        break\n"
   ]
  },
  {
   "cell_type": "code",
   "execution_count": null,
   "metadata": {},
   "outputs": [],
   "source": []
  }
 ],
 "metadata": {
  "kernelspec": {
   "display_name": "Python 3 (ipykernel)",
   "language": "python",
   "name": "python3"
  },
  "language_info": {
   "codemirror_mode": {
    "name": "ipython",
    "version": 3
   },
   "file_extension": ".py",
   "mimetype": "text/x-python",
   "name": "python",
   "nbconvert_exporter": "python",
   "pygments_lexer": "ipython3",
   "version": "3.7.9"
  }
 },
 "nbformat": 4,
 "nbformat_minor": 4
}
