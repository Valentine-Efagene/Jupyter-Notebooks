{
 "cells": [
  {
   "cell_type": "markdown",
   "metadata": {},
   "source": [
    "## TRANSFORMERLESS POWER SUPPLY"
   ]
  },
  {
   "cell_type": "code",
   "execution_count": 145,
   "metadata": {},
   "outputs": [],
   "source": [
    "from IPython.display import display_latex\n",
    "import math\n",
    "from decimal import *\n",
    "\n",
    "# Usage: display_full_latex('u_x')\n",
    "def display_full_latex(idx):\n",
    "    if(isinstance(idx, str)):\n",
    "        eqn = '\\\\[' + idx + '\\\\]'\n",
    "        display_latex(eqn, raw=True)\n",
    "    else:\n",
    "        eqn = '\\\\[' + latex(idx) + '\\\\]'\n",
    "        display_latex(eqn, raw=True)\n",
    "    return"
   ]
  },
  {
   "cell_type": "code",
   "execution_count": 153,
   "metadata": {},
   "outputs": [
    {
     "data": {
      "text/latex": [
       "\\[Z = \\frac{ V_{rms} - V_{zener} }{I}\\]"
      ]
     },
     "metadata": {},
     "output_type": "display_data"
    },
    {
     "data": {
      "text/latex": [
       "\\[X_c = \\sqrt(Z^2 - R^2)\\]"
      ]
     },
     "metadata": {},
     "output_type": "display_data"
    },
    {
     "data": {
      "text/latex": [
       "\\[C = \\frac{1}{2\\pi fX_c}\\]"
      ]
     },
     "metadata": {},
     "output_type": "display_data"
    },
    {
     "data": {
      "text/latex": [
       "\\[V_{avg} = 0.637 Vpk\\]"
      ]
     },
     "metadata": {},
     "output_type": "display_data"
    },
    {
     "data": {
      "text/latex": [
       "\\[I = \\frac{V_{avg} - V_{zener}}{Z}\\]"
      ]
     },
     "metadata": {},
     "output_type": "display_data"
    }
   ],
   "source": [
    "display_full_latex('Z = \\\\frac{ V_{rms} - V_{zener} }{I}')\n",
    "display_full_latex('X_c = \\\\sqrt(Z^2 - R^2)')\n",
    "display_full_latex('C = \\\\frac{1}{2\\\\pi fX_c}')\n",
    "display_full_latex('V_{avg} = 0.637 Vpk')\n",
    "display_full_latex('I = \\\\frac{V_{avg} - V_{zener}}{Z}')"
   ]
  },
  {
   "cell_type": "markdown",
   "metadata": {},
   "source": [
    "Where <br>\n",
    "V<sub>ref</sub> is the required imput voltage at the input node of the rectifier, and <br>\n",
    "I<sub>ref</sub> is the desired current.\n",
    "\n",
    "#### Note <br>\n",
    "1.4V for two diode drops should be accounted for if non-ideal"
   ]
  },
  {
   "cell_type": "code",
   "execution_count": 156,
   "metadata": {},
   "outputs": [
    {
     "name": "stdout",
     "output_type": "stream",
     "text": [
      "Vpk =  325.2691193458119\n",
      "Z =  2249.0\n",
      "Xc =  2246.7756897385193\n",
      "C =  1.416740832819122e-06\n",
      "P =  0.51\n"
     ]
    }
   ],
   "source": [
    "V = 230\n",
    "f = 50\n",
    "R = 100\n",
    "Vzener = 5.1\n",
    "I = 0.1\n",
    "\n",
    "Vpk = V * math.sqrt(2)\n",
    "Vavg = 0.637 * Vpk\n",
    "Z = (V - Vzener) / I\n",
    "Xc = math.sqrt(Z*Z - R*R)\n",
    "C = 1 / (2 * math.pi * f * Xc)\n",
    "P = I * Vzener\n",
    "\n",
    "print('Vpk = ', Vpk)\n",
    "print('Z = ', Z)\n",
    "print('Xc = ', Xc)\n",
    "print('C = ', C)\n",
    "print('P = ', P)\n",
    "\n",
    "\n",
    "#print('C = ', Decimal(C).to_eng_string())"
   ]
  },
  {
   "cell_type": "code",
   "execution_count": 154,
   "metadata": {},
   "outputs": [
    {
     "name": "stdout",
     "output_type": "stream",
     "text": [
      "10000.0\n"
     ]
    }
   ],
   "source": [
    "print(0.1 * 100000)"
   ]
  },
  {
   "cell_type": "code",
   "execution_count": null,
   "metadata": {},
   "outputs": [],
   "source": []
  }
 ],
 "metadata": {
  "kernelspec": {
   "display_name": "Python 3",
   "language": "python",
   "name": "python3"
  },
  "language_info": {
   "codemirror_mode": {
    "name": "ipython",
    "version": 3
   },
   "file_extension": ".py",
   "mimetype": "text/x-python",
   "name": "python",
   "nbconvert_exporter": "python",
   "pygments_lexer": "ipython3",
   "version": "3.6.6"
  }
 },
 "nbformat": 4,
 "nbformat_minor": 2
}
