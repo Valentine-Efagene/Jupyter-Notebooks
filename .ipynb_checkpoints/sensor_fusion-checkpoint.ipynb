{
 "cells": [
  {
   "cell_type": "code",
   "execution_count": 164,
   "metadata": {},
   "outputs": [],
   "source": [
    "import re\n",
    "import os\n",
    "import copy\n",
    "from math import log, pow\n",
    "import subprocess\n",
    "import matplotlib.pyplot as plt"
   ]
  },
  {
   "cell_type": "markdown",
   "metadata": {},
   "source": [
    "#### Fault Classes"
   ]
  },
  {
   "cell_type": "markdown",
   "metadata": {},
   "source": [
    "| Fault | Binary | Decimal |\n",
    "| --- | --- | --- |\n",
    "| A | 00 | 0 |\n",
    "| B | 01 | 1 |\n",
    "| C | 10 | 2 |\n",
    "| D | 11 | 3 |"
   ]
  },
  {
   "cell_type": "markdown",
   "metadata": {},
   "source": [
    "#### Fault Code = (variable << 2) + fault_class"
   ]
  },
  {
   "cell_type": "markdown",
   "metadata": {},
   "source": [
    "| Fault | Binary | Decimal |\n",
    "| --- | --- | --- |\n",
    "| A1 | 100 | 4 |\n",
    "| B1 | 101 | 5 |\n",
    "| C1 | 110 | 6 |\n",
    "| D1 | 111 | 7 |"
   ]
  },
  {
   "cell_type": "markdown",
   "metadata": {},
   "source": [
    "### Sample (C1)"
   ]
  },
  {
   "cell_type": "code",
   "execution_count": 165,
   "metadata": {},
   "outputs": [
    {
     "data": {
      "text/plain": [
       "6"
      ]
     },
     "execution_count": 165,
     "metadata": {},
     "output_type": "execute_result"
    }
   ],
   "source": [
    "fault = 2\n",
    "variable = 1\n",
    "code = (variable << 2) + fault\n",
    "code"
   ]
  },
  {
   "cell_type": "markdown",
   "metadata": {},
   "source": [
    "#### Reverse"
   ]
  },
  {
   "cell_type": "code",
   "execution_count": 166,
   "metadata": {},
   "outputs": [
    {
     "data": {
      "text/plain": [
       "2"
      ]
     },
     "execution_count": 166,
     "metadata": {},
     "output_type": "execute_result"
    }
   ],
   "source": [
    "fault = code & 3\n",
    "fault"
   ]
  },
  {
   "cell_type": "code",
   "execution_count": 167,
   "metadata": {},
   "outputs": [
    {
     "data": {
      "text/plain": [
       "1"
      ]
     },
     "execution_count": 167,
     "metadata": {},
     "output_type": "execute_result"
    }
   ],
   "source": [
    "variable = code >> 2\n",
    "variable"
   ]
  },
  {
   "cell_type": "markdown",
   "metadata": {},
   "source": [
    "#### Current Fault Codes"
   ]
  },
  {
   "cell_type": "markdown",
   "metadata": {},
   "source": [
    "| Fault | Decimal |\n",
    "| --- | --- |\n",
    "| A1 | 4 |\n",
    "| B1 | 5 |\n",
    "| C1 | 6 |\n",
    "| D1 | 7 |\n",
    "| A1B1 | 4-5 |\n",
    "| A1C1 | 4-6 |\n",
    "| A1D1 | 4-7 |\n",
    "| B1C1 | 5-6 |\n",
    "| C1D1 | 6-7 |"
   ]
  },
  {
   "cell_type": "markdown",
   "metadata": {},
   "source": [
    "### Run"
   ]
  },
  {
   "cell_type": "code",
   "execution_count": 170,
   "metadata": {},
   "outputs": [],
   "source": [
    "command = \"D:/code/C++/RT-Cadmium-FDD-Updated/top_model/main.exe\"\n",
    "completed_process = subprocess.run(command, shell=False, capture_output=True, text=True)\n",
    "#print(completed_process.stdout)"
   ]
  },
  {
   "cell_type": "markdown",
   "metadata": {},
   "source": [
    "\n",
    "### Read from file"
   ]
  },
  {
   "cell_type": "code",
   "execution_count": 171,
   "metadata": {
    "scrolled": false
   },
   "outputs": [],
   "source": [
    "fault_dict = {}\n",
    "fault_dict['4'] = \"A1\"\n",
    "fault_dict['5'] = \"B1\"\n",
    "fault_dict['6'] = \"C1\"\n",
    "fault_dict['7'] = \"D1\"\n",
    "fault_dict['4, 5'] = \"A1B1\"\n",
    "fault_dict['4, 6'] = \"A1C1\"\n",
    "fault_dict['4, 7'] = \"A1D1\"\n",
    "fault_dict['5, 6'] = \"B1C1\"\n",
    "fault_dict['6, 7'] = \"C1D1\"\n",
    "\n",
    "fault_freq = {}\n",
    "fault_freq[\"A1\"] = 0\n",
    "fault_freq[\"B1\"] = 0\n",
    "fault_freq[\"C1\"] = 0\n",
    "fault_freq[\"D1\"] = 0\n",
    "fault_freq[\"A1B1\"] = 0\n",
    "fault_freq[\"A1C1\"] = 0\n",
    "fault_freq[\"A1D1\"] = 0\n",
    "fault_freq[\"B1C1\"] = 0\n",
    "fault_freq[\"C1D1\"] = 0\n",
    "\n",
    "fileName = \"SensorFusion.txt\"\n",
    "        \n",
    "with open(fileName, \"r\") as f:\n",
    "    lines = f.readlines()\n",
    "    \n",
    "with open(fileName, \"r\") as f:\n",
    "    output = f.read()\n",
    "    \n",
    "for line in lines:\n",
    "    if (re.search(\"supervisor\", line) != None):\n",
    "        res = re.findall(\"\\{.*\\}\", line)\n",
    "\n",
    "        if len(res) > 0:\n",
    "            str_interest = res[0].replace('}', '').replace('{', '')\n",
    "            faults = str_interest.split(', ')\n",
    "            \n",
    "            while (len(faults) != 0):\n",
    "                key = faults.pop(0)\n",
    "                found = False\n",
    "                \n",
    "                for fault in faults:\n",
    "                    s = fault_dict[key] + fault_dict[fault]\n",
    "                    \n",
    "                    if s in fault_freq.keys():\n",
    "                        found = True\n",
    "                        fault_freq[s] += 1\n",
    "                        faults.remove(fault)\n",
    "                        break\n",
    "                        \n",
    "                if (not found):\n",
    "                    fault_freq[fault_dict[key]] += 1\n",
    "\n",
    "generators = {'A': 0, 'B': 0, 'C': 0, 'D': 0}\n",
    "\n",
    "for key in generators.keys():\n",
    "    generators[key] = len(re.findall(\"faultGen\" + key, output))"
   ]
  },
  {
   "cell_type": "markdown",
   "metadata": {},
   "source": [
    "### ANALYSIS / VERIFICATION"
   ]
  },
  {
   "cell_type": "markdown",
   "metadata": {},
   "source": [
    "#### Definitions"
   ]
  },
  {
   "cell_type": "markdown",
   "metadata": {},
   "source": [
    "**Pure Fault**: Faults from a single generator.  \n",
    "**Compound Faults**: Faults formed from the combination of pure faults."
   ]
  },
  {
   "cell_type": "code",
   "execution_count": 172,
   "metadata": {},
   "outputs": [],
   "source": [
    "def sumFromSupervisor(code):\n",
    "    '''\n",
    "    Returns the number of times faults associated with a particular pure fault (the parameter) were output by the supervisor\n",
    "\n",
    "    @param code: string\n",
    "    @return int\n",
    "    '''\n",
    "    sum = 0\n",
    "    \n",
    "    for key, value in fault_freq.items():\n",
    "        if code in key:\n",
    "            sum += value;\n",
    "            \n",
    "    return sum;"
   ]
  },
  {
   "cell_type": "code",
   "execution_count": 173,
   "metadata": {},
   "outputs": [],
   "source": [
    "discarded = {}\n",
    "discarded['A1'] = generators['A'] - sumFromSupervisor(\"A1\")\n",
    "discarded['B1'] = generators['B'] - sumFromSupervisor(\"B1\")\n",
    "discarded['C1'] = generators['C'] - sumFromSupervisor(\"C1\")\n",
    "discarded['D1'] = generators['D'] - sumFromSupervisor(\"D1\")"
   ]
  },
  {
   "cell_type": "code",
   "execution_count": 174,
   "metadata": {},
   "outputs": [
    {
     "data": {
      "text/plain": [
       "1"
      ]
     },
     "execution_count": 174,
     "metadata": {},
     "output_type": "execute_result"
    }
   ],
   "source": [
    "total_discarded = discarded['A1'] + discarded['B1'] + discarded['C1'] + discarded['D1']\n",
    "total_discarded"
   ]
  },
  {
   "cell_type": "code",
   "execution_count": 175,
   "metadata": {},
   "outputs": [
    {
     "data": {
      "text/plain": [
       "128"
      ]
     },
     "execution_count": 175,
     "metadata": {},
     "output_type": "execute_result"
    }
   ],
   "source": [
    "total_generated = generators['A'] + generators['B'] + generators['C'] + generators['D']\n",
    "total_generated"
   ]
  },
  {
   "cell_type": "code",
   "execution_count": 176,
   "metadata": {},
   "outputs": [],
   "source": [
    "discarded_percentage = {'A1': discarded['A1'] * 100 / total_generated, 'B1': discarded['B1'] * 100 / total_generated, 'C1': discarded['C1'] * 100 / total_generated, 'D': discarded['D1'] * 100 / total_generated}"
   ]
  },
  {
   "cell_type": "code",
   "execution_count": 177,
   "metadata": {},
   "outputs": [
    {
     "data": {
      "text/plain": [
       "{'A1': 0, 'B1': 0, 'C1': 0, 'D1': 1}"
      ]
     },
     "execution_count": 177,
     "metadata": {},
     "output_type": "execute_result"
    }
   ],
   "source": [
    "discarded"
   ]
  },
  {
   "cell_type": "code",
   "execution_count": 178,
   "metadata": {},
   "outputs": [
    {
     "data": {
      "text/plain": [
       "{'A1': 7,\n",
       " 'B1': 44,\n",
       " 'C1': 10,\n",
       " 'D1': 32,\n",
       " 'A1B1': 5,\n",
       " 'A1C1': 2,\n",
       " 'A1D1': 2,\n",
       " 'B1C1': 6,\n",
       " 'C1D1': 2}"
      ]
     },
     "execution_count": 178,
     "metadata": {},
     "output_type": "execute_result"
    }
   ],
   "source": [
    "fault_freq"
   ]
  },
  {
   "cell_type": "markdown",
   "metadata": {},
   "source": [
    "### Discard Charts"
   ]
  },
  {
   "cell_type": "code",
   "execution_count": 179,
   "metadata": {},
   "outputs": [
    {
     "data": {
      "image/png": "[encoded data removed]",
      "text/plain": [
       "<Figure size 432x288 with 1 Axes>"
      ]
     },
     "metadata": {
      "needs_background": "light"
     },
     "output_type": "display_data"
    }
   ],
   "source": [
    "#plt.title('Discarded Bar')\n",
    "plt.bar(discarded.keys(), discarded.values())\n",
    "plt.grid()\n",
    "#plt.show()\n",
    "plt.savefig('discarded bar.png', format='png')"
   ]
  },
  {
   "cell_type": "code",
   "execution_count": 180,
   "metadata": {},
   "outputs": [
    {
     "data": {
      "image/png": "[encoded data removed]",
      "text/plain": [
       "<Figure size 432x288 with 1 Axes>"
      ]
     },
     "metadata": {},
     "output_type": "display_data"
    }
   ],
   "source": [
    "keys, values = list(discarded.keys()), list(discarded.values())\n",
    "legend_keys = copy.copy(keys)\n",
    "\n",
    "for i in range(len(keys)):\n",
    "     legend_keys[i] = str(legend_keys[i]) + \" = \" + str(values[i])\n",
    "\n",
    "# Remove wedgeprops to make pie\n",
    "wedges, texts = plt.pie(values, textprops=dict(color=\"w\"), wedgeprops=dict(width=0.5))\n",
    "plt.legend(wedges, legend_keys,\n",
    "          title=\"Fault Codes\",\n",
    "          loc=\"center left\",\n",
    "          bbox_to_anchor=(1, 0, 0.5, 1))\n",
    "\n",
    "#plt.title(\"Discarded Pie\")\n",
    "#plt.show()\n",
    "plt.savefig('discard pie.png', format='png')"
   ]
  },
  {
   "cell_type": "markdown",
   "metadata": {},
   "source": [
    "### Discard Percentage Charts"
   ]
  },
  {
   "cell_type": "code",
   "execution_count": 181,
   "metadata": {},
   "outputs": [
    {
     "data": {
      "image/png": "[encoded data removed]",
      "text/plain": [
       "<Figure size 432x288 with 1 Axes>"
      ]
     },
     "metadata": {
      "needs_background": "light"
     },
     "output_type": "display_data"
    }
   ],
   "source": [
    "#plt.title('Discard Percentage')\n",
    "plt.bar(discarded_percentage.keys(), discarded_percentage.values())\n",
    "plt.grid()\n",
    "#plt.show()\n",
    "plt.savefig('sensorfusion.png', format='png')"
   ]
  },
  {
   "cell_type": "markdown",
   "metadata": {},
   "source": [
    "### Toggle Time vs Frequency of Generators"
   ]
  },
  {
   "cell_type": "code",
   "execution_count": 183,
   "metadata": {},
   "outputs": [],
   "source": [
    "toggle_times = {'A': 620, 'B': 180, 'C': 490, 'D': 270}"
   ]
  },
  {
   "cell_type": "markdown",
   "metadata": {},
   "source": [
    "#### Premise"
   ]
  },
  {
   "cell_type": "markdown",
   "metadata": {},
   "source": [
    "$faults\\,generated \\propto \\frac{1}{toggle\\,time}$\n",
    "\n",
    "$\\therefore B > D > C > A$"
   ]
  },
  {
   "cell_type": "markdown",
   "metadata": {},
   "source": [
    "### Generator Output Charts (Possibilities of Faults)"
   ]
  },
  {
   "cell_type": "code",
   "execution_count": 184,
   "metadata": {},
   "outputs": [
    {
     "data": {
      "image/png": "[encoded data removed]",
      "text/plain": [
       "<Figure size 432x288 with 1 Axes>"
      ]
     },
     "metadata": {
      "needs_background": "light"
     },
     "output_type": "display_data"
    }
   ],
   "source": [
    "#plt.title('Generator Output (Possibilities of Faults)')\n",
    "plt.bar(generators.keys(), generators.values())\n",
    "plt.grid()\n",
    "#plt.show()\n",
    "plt.savefig('generator output bar.png')"
   ]
  },
  {
   "cell_type": "code",
   "execution_count": 185,
   "metadata": {
    "scrolled": true
   },
   "outputs": [
    {
     "data": {
      "image/png": "[encoded data removed]",
      "text/plain": [
       "<Figure size 432x288 with 1 Axes>"
      ]
     },
     "metadata": {},
     "output_type": "display_data"
    }
   ],
   "source": [
    "keys, values = list(generators.keys()), list(generators.values())\n",
    "legend_keys = copy.copy(keys)\n",
    "\n",
    "for i in range(len(keys)):\n",
    "     legend_keys[i] = \"n (\" + str(legend_keys[i]) + \") = \" + str(values[i])\n",
    "\n",
    "# Remove wedgeprops to make pie\n",
    "wedges, texts = plt.pie(values, textprops=dict(color=\"w\"), wedgeprops=dict(width=0.5))\n",
    "plt.legend(wedges, legend_keys,\n",
    "          title=\"Fault Codes\",\n",
    "          loc=\"center left\",\n",
    "          bbox_to_anchor=(1, 0, 0.5, 1))\n",
    "\n",
    "#plt.title(\"Generator Output Charts (Possibilities of Fault)\")\n",
    "#plt.show()\n",
    "plt.savefig('generator output pie.png')"
   ]
  },
  {
   "cell_type": "markdown",
   "metadata": {},
   "source": [
    "### Single-Run Fault Charts"
   ]
  },
  {
   "cell_type": "code",
   "execution_count": 254,
   "metadata": {},
   "outputs": [
    {
     "data": {
      "image/png": "[encoded data removed]",
      "text/plain": [
       "<Figure size 432x288 with 1 Axes>"
      ]
     },
     "metadata": {
      "needs_background": "light"
     },
     "output_type": "display_data"
    }
   ],
   "source": [
    "chart_data = copy.copy(fault_freq)\n",
    "values = list(chart_data.values())\n",
    "keys = list(chart_data.keys())\n",
    "\n",
    "#plt.title('Single-Run')\n",
    "plt.bar(keys, values)\n",
    "plt.grid()\n",
    "#plt.show()\n",
    "plt.savefig('single-run bar.png')"
   ]
  },
  {
   "cell_type": "code",
   "execution_count": 187,
   "metadata": {
    "scrolled": true
   },
   "outputs": [
    {
     "data": {
      "image/png": "[encoded data removed]",
      "text/plain": [
       "<Figure size 432x288 with 1 Axes>"
      ]
     },
     "metadata": {},
     "output_type": "display_data"
    }
   ],
   "source": [
    "# Remove wedgeprops to make pie\n",
    "wedges, texts = plt.pie(values, \n",
    "                        textprops=dict(color=\"w\"), \n",
    "                        wedgeprops=dict(width=0.5))\n",
    "\n",
    "legend_keys = copy.copy(keys)\n",
    "\n",
    "for i in range(len(keys)):\n",
    "     legend_keys[i] = str(legend_keys[i]) + \" \" + str(values[i]) + \" \" + \"times\"\n",
    "        \n",
    "plt.legend(wedges, legend_keys,\n",
    "          title=\"Fault Codes\",\n",
    "          loc=\"center left\",\n",
    "          bbox_to_anchor=(1, 0, 0.5, 1))\n",
    "\n",
    "plt.title(\"Single-Run\")\n",
    "plt.show()\n",
    "#plt.savefig('single-run pie.png')"
   ]
  }
 ],
 "metadata": {
  "kernelspec": {
   "display_name": "Python 3",
   "language": "python",
   "name": "python3"
  },
  "language_info": {
   "codemirror_mode": {
    "name": "ipython",
    "version": 3
   },
   "file_extension": ".py",
   "mimetype": "text/x-python",
   "name": "python",
   "nbconvert_exporter": "python",
   "pygments_lexer": "ipython3",
   "version": "3.8.6rc1"
  }
 },
 "nbformat": 4,
 "nbformat_minor": 4
}
