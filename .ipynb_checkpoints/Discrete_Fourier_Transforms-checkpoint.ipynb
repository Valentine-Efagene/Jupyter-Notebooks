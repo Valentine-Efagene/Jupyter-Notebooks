{
 "cells": [
  {
   "cell_type": "markdown",
   "metadata": {},
   "source": [
    "## 3 Oct 2019"
   ]
  },
  {
   "cell_type": "markdown",
   "metadata": {},
   "source": [
    "<strong>RULES</strong><br>\n",
    "<strong>Date:</strong> Level 2 heading ## <br>\n",
    "<strong>Example Heading:</strong> Level 3 heading ###<br>\n",
    "<strong>Method Heading:</strong> Level 4 heading ####"
   ]
  },
  {
   "cell_type": "markdown",
   "metadata": {},
   "source": [
    "### References"
   ]
  },
  {
   "cell_type": "markdown",
   "metadata": {},
   "source": [
    "1. [Taan_S_Elali]_Discrete_Systems_and_Digital_Signal(z-lib.org)"
   ]
  },
  {
   "cell_type": "markdown",
   "metadata": {},
   "source": [
    "### Imports"
   ]
  },
  {
   "cell_type": "code",
   "execution_count": 99,
   "metadata": {},
   "outputs": [],
   "source": [
    "import numpy as np\n",
    "from sympy import oo\n",
    "import math\n",
    "import sympy as sp\n",
    "import matplotlib.pyplot as plt\n",
    "import matplotlib as mpl\n",
    "from mpl_toolkits.mplot3d import Axes3D\n",
    "from IPython.display import display\n",
    "from IPython.display import display_latex\n",
    "from sympy import latex\n",
    "import math\n",
    "from scipy import signal"
   ]
  },
  {
   "cell_type": "markdown",
   "metadata": {},
   "source": [
    "### Setup"
   ]
  },
  {
   "cell_type": "code",
   "execution_count": 100,
   "metadata": {},
   "outputs": [],
   "source": [
    "sp.init_printing(use_latex = True)\n",
    "    \n",
    "z, f, i = sp.symbols('z f i')\n",
    "x, k = sp.symbols('x k')\n",
    "theta = sp.Symbol('theta')"
   ]
  },
  {
   "cell_type": "code",
   "execution_count": 101,
   "metadata": {},
   "outputs": [],
   "source": [
    "# Usage: display_equation('u_x', x)\n",
    "def display_equation(idx, symObj):\n",
    "    if(isinstance(idx, str)):\n",
    "        eqn = '\\\\[' + idx + ' = ' + latex(symObj) + '\\\\]'\n",
    "        display_latex(eqn, raw=True)\n",
    "    else:\n",
    "        eqn = '\\\\[' + latex(idx) + ' = ' + latex(symObj) + '\\\\]'\n",
    "        display_latex(eqn, raw=True)\n",
    "    return"
   ]
  },
  {
   "cell_type": "code",
   "execution_count": 102,
   "metadata": {},
   "outputs": [],
   "source": [
    "# Usage: display_full_latex('u_x')\n",
    "def display_full_latex(idx):\n",
    "    if(isinstance(idx, str)):\n",
    "        eqn = '\\\\[' + idx + '\\\\]'\n",
    "        display_latex(eqn, raw=True)\n",
    "    else:\n",
    "        eqn = '\\\\[' + latex(idx) + '\\\\]'\n",
    "        display_latex(eqn, raw=True)\n",
    "    return"
   ]
  },
  {
   "cell_type": "code",
   "execution_count": 103,
   "metadata": {},
   "outputs": [],
   "source": [
    "def sum_of_GP(a, r):\n",
    "    return sp.simplify(a/(1-r))"
   ]
  },
  {
   "cell_type": "code",
   "execution_count": 104,
   "metadata": {},
   "outputs": [],
   "source": [
    "def display_ztrans(f, k, limits = (-4, 4)):\n",
    "    F = sp.summation(f/z**k, ( k, -oo, oo ))\n",
    "    display_equation('f(k)', f)\n",
    "    display_equation('F(k)_{\\infty}', F)\n",
    "\n",
    "    F = sp.summation(f/z**k, (k, limits[0], limits[1]))\n",
    "    display_equation('F(k)_{'+ str(limits[0]) + ',' + str(limits[1]) + '}', F)\n",
    "    return"
   ]
  },
  {
   "cell_type": "code",
   "execution_count": 105,
   "metadata": {},
   "outputs": [],
   "source": [
    "# Credit: https://www.dsprelated.com/showcode/244.php\n",
    "import numpy as np\n",
    "import matplotlib.pyplot as plt\n",
    "from  matplotlib import patches\n",
    "from matplotlib.figure import Figure\n",
    "from matplotlib import rcParams\n",
    "    \n",
    "def zplane(b,a,filename=None):\n",
    "    \"\"\"Plot the complex z-plane given a transfer function.\n",
    "    \"\"\"\n",
    "\n",
    "    # get a figure/plot\n",
    "    ax = plt.subplot(111)\n",
    "\n",
    "    # create the unit circle\n",
    "    uc = patches.Circle((0,0), radius=1, fill=False,\n",
    "                        color='black', ls='dashed')\n",
    "    ax.add_patch(uc)\n",
    "\n",
    "    # The coefficients are less than 1, normalize the coeficients\n",
    "    if np.max(b) > 1:\n",
    "        kn = np.max(b)\n",
    "        b = b/float(kn)\n",
    "    else:\n",
    "        kn = 1\n",
    "\n",
    "    if np.max(a) > 1:\n",
    "        kd = np.max(a)\n",
    "        a = a/float(kd)\n",
    "    else:\n",
    "        kd = 1\n",
    "        \n",
    "    # Get the poles and zeros\n",
    "    p = np.roots(a)\n",
    "    z = np.roots(b)\n",
    "    k = kn/float(kd)\n",
    "    \n",
    "    # Plot the zeros and set marker properties    \n",
    "    t1 = plt.plot(z.real, z.imag, 'go', ms=10)\n",
    "    plt.setp( t1, markersize=10.0, markeredgewidth=1.0,\n",
    "              markeredgecolor='k', markerfacecolor='g')\n",
    "\n",
    "    # Plot the poles and set marker properties\n",
    "    t2 = plt.plot(p.real, p.imag, 'rx', ms=10)\n",
    "    plt.setp( t2, markersize=12.0, markeredgewidth=3.0,\n",
    "              markeredgecolor='b', markerfacecolor='b')\n",
    "\n",
    "    ax.spines['left'].set_position('center')\n",
    "    ax.spines['bottom'].set_position('center')\n",
    "    ax.spines['right'].set_visible(False)\n",
    "    ax.spines['top'].set_visible(False)\n",
    "\n",
    "    # set the ticks\n",
    "    r = 1.5; plt.axis('scaled'); plt.axis([-r, r, -r, r])\n",
    "    ticks = [-1, -.5, .5, 1]; plt.xticks(ticks); plt.yticks(ticks)\n",
    "\n",
    "    if filename is None:\n",
    "        plt.show()\n",
    "    else:\n",
    "        plt.savefig(filename)\n",
    "    \n",
    "\n",
    "    return z, p, k"
   ]
  },
  {
   "cell_type": "markdown",
   "metadata": {},
   "source": [
    "### Discrete Fourier Transform"
   ]
  },
  {
   "cell_type": "code",
   "execution_count": 106,
   "metadata": {},
   "outputs": [
    {
     "data": {
      "text/latex": [
       "\\[X(\\theta) = \\sum_{-\\infty}^{\\infty} x[n]e^{j(\\theta)n}\\]"
      ]
     },
     "metadata": {},
     "output_type": "display_data"
    }
   ],
   "source": [
    "display_full_latex('X(\\\\theta) = \\sum_{-\\infty}^{\\infty} x[n]e^{j(\\\\theta)n}')"
   ]
  },
  {
   "cell_type": "markdown",
   "metadata": {},
   "source": [
    "### [1] Example 3.8"
   ]
  },
  {
   "cell_type": "code",
   "execution_count": 107,
   "metadata": {},
   "outputs": [
    {
     "data": {
      "text/latex": [
       "\\[x(n) = 0.5^{n} \\theta\\left(n\\right)\\]"
      ]
     },
     "metadata": {},
     "output_type": "display_data"
    },
    {
     "data": {
      "text/latex": [
       "\\[X(\\theta) = \\frac{e^{\\theta}}{e^{\\theta} - 0.5}\\]"
      ]
     },
     "metadata": {},
     "output_type": "display_data"
    },
    {
     "data": {
      "image/png": "[encoded data removed]",
      "text/plain": [
       "<Figure size 432x288 with 1 Axes>"
      ]
     },
     "metadata": {
      "needs_background": "light"
     },
     "output_type": "display_data"
    },
    {
     "data": {
      "image/png": "[encoded data removed]",
      "text/plain": [
       "<Figure size 432x288 with 1 Axes>"
      ]
     },
     "metadata": {
      "needs_background": "light"
     },
     "output_type": "display_data"
    },
    {
     "data": {
      "text/plain": [
       "<sympy.plotting.plot.Plot at 0x1b06fe883c8>"
      ]
     },
     "execution_count": 107,
     "metadata": {},
     "output_type": "execute_result"
    }
   ],
   "source": [
    "# Symbolic\n",
    "n = sp.Symbol('n')\n",
    "fs = (0.5 ** n) * sp.Heaviside(n)\n",
    "# or\n",
    "#f = sp.Piecewise((0, n < 0), (f1, n >= 0))\n",
    "\n",
    "display_equation('x(n)', fs)\n",
    "q = sum_of_GP(1, 0.5 * sp.exp(-theta))\n",
    "display_equation('X(\\\\theta)', q)\n",
    "\n",
    "# Numeric\n",
    "max = 20\n",
    "t = np.arange(0, max, 1)\n",
    "f = np.power(0.5, t)\n",
    "plt.stem(t, f)\n",
    "plt.xlabel('t')\n",
    "plt.ylabel('Magnitude')\n",
    "plt.title('Time Domain')\n",
    "\n",
    "# Symbolic\n",
    "sp.plot(fs, (n, -10, 10))"
   ]
  },
  {
   "cell_type": "code",
   "execution_count": null,
   "metadata": {},
   "outputs": [],
   "source": []
  },
  {
   "cell_type": "code",
   "execution_count": null,
   "metadata": {},
   "outputs": [],
   "source": []
  }
 ],
 "metadata": {
  "kernelspec": {
   "display_name": "Python 3",
   "language": "python",
   "name": "python3"
  },
  "language_info": {
   "codemirror_mode": {
    "name": "ipython",
    "version": 3
   },
   "file_extension": ".py",
   "mimetype": "text/x-python",
   "name": "python",
   "nbconvert_exporter": "python",
   "pygments_lexer": "ipython3",
   "version": "3.6.6"
  }
 },
 "nbformat": 4,
 "nbformat_minor": 2
}
