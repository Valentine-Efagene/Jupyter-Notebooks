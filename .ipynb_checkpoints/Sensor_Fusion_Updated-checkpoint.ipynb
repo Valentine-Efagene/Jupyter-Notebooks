{
 "cells": [
  {
   "cell_type": "code",
   "execution_count": 2,
   "metadata": {},
   "outputs": [],
   "source": [
    "import re\n",
    "import os\n",
    "import copy\n",
    "from math import log, pow\n",
    "import subprocess\n",
    "import matplotlib.pyplot as plt"
   ]
  },
  {
   "cell_type": "markdown",
   "metadata": {},
   "source": [
    "#### Fault Classes"
   ]
  },
  {
   "cell_type": "markdown",
   "metadata": {},
   "source": [
    "| Fault | Binary | Decimal |\n",
    "| --- | --- | --- |\n",
    "| A | 00 | 0 |\n",
    "| B | 01 | 1 |\n",
    "| C | 10 | 2 |\n",
    "| D | 11 | 3 |"
   ]
  },
  {
   "cell_type": "markdown",
   "metadata": {},
   "source": [
    "#### Fault Code = (variable << 2) + fault_class"
   ]
  },
  {
   "cell_type": "markdown",
   "metadata": {},
   "source": [
    "| Fault | Binary | Decimal |\n",
    "| --- | --- | --- |\n",
    "| A1 | 100 | 4 |\n",
    "| B1 | 101 | 5 |\n",
    "| C1 | 110 | 6 |\n",
    "| D1 | 111 | 7 |"
   ]
  },
  {
   "cell_type": "markdown",
   "metadata": {},
   "source": [
    "### Sample (C1)"
   ]
  },
  {
   "cell_type": "code",
   "execution_count": 17,
   "metadata": {},
   "outputs": [
    {
     "data": {
      "text/plain": [
       "6"
      ]
     },
     "execution_count": 17,
     "metadata": {},
     "output_type": "execute_result"
    }
   ],
   "source": [
    "fault = 2\n",
    "variable = 1\n",
    "code = (variable << 2) + fault\n",
    "code"
   ]
  },
  {
   "cell_type": "markdown",
   "metadata": {},
   "source": [
    "#### Reverse"
   ]
  },
  {
   "cell_type": "code",
   "execution_count": 18,
   "metadata": {},
   "outputs": [
    {
     "data": {
      "text/plain": [
       "2"
      ]
     },
     "execution_count": 18,
     "metadata": {},
     "output_type": "execute_result"
    }
   ],
   "source": [
    "fault = code & 3\n",
    "fault"
   ]
  },
  {
   "cell_type": "code",
   "execution_count": 19,
   "metadata": {},
   "outputs": [
    {
     "data": {
      "text/plain": [
       "1"
      ]
     },
     "execution_count": 19,
     "metadata": {},
     "output_type": "execute_result"
    }
   ],
   "source": [
    "variable = code >> 2\n",
    "variable"
   ]
  },
  {
   "cell_type": "markdown",
   "metadata": {},
   "source": [
    "#### Current Fault Codes"
   ]
  },
  {
   "cell_type": "markdown",
   "metadata": {},
   "source": [
    "| Fault | Decimal |\n",
    "| --- | --- |\n",
    "| A1 | 4 |\n",
    "| B1 | 5 |\n",
    "| C1 | 6 |\n",
    "| D1 | 7 |\n",
    "| A1B1 | 4-5 |\n",
    "| A1C1 | 4-6 |\n",
    "| A1D1 | 4-7 |\n",
    "| B1C1 | 5-6 |\n",
    "| C1D1 | 6-7 |"
   ]
  },
  {
   "cell_type": "markdown",
   "metadata": {},
   "source": [
    "#### Flow Chart"
   ]
  },
  {
   "cell_type": "code",
   "execution_count": 20,
   "metadata": {},
   "outputs": [
    {
     "data": {
      "text/plain": [
       "'sensorfusion'"
      ]
     },
     "execution_count": 20,
     "metadata": {},
     "output_type": "execute_result"
    }
   ],
   "source": [
    "from graphviz import Digraph\n",
    "\n",
    "dot = Digraph(node_attr={'shape': 'box'}, format='png', filename='sensorfusion')\n",
    "dot.edge_attr.update(arrowhead='vee', arrowsize='1')\n",
    "\n",
    "dot.node('0', 'start', shape='oval')\n",
    "dot.node('0', 'Fault Generator')\n",
    "dot.node('1', 'Other Faults')\n",
    "dot.node('2', 'Supervisor (Polling)')\n",
    "dot.node('3', 'All faults\\n processed\\n?' ,shape='diamond')\n",
    "dot.node('4', 'Send trigger signal \\n &\\n increment frequency')\n",
    "dot.node('5', 'Append fault')\n",
    "dot.node('6', 'Does fault\\n exist?', shape='diamond')\n",
    "dot.node('7', 'Remove and delay fault\\nwith lower\\npriority')\n",
    "dot.node('8', 'Time\\nOut?', shape='diamond')\n",
    "dot.node('9', 'end', shape='oval')\n",
    "dot.node('10', 'start', shape='oval')\n",
    "dot.node('11', 'Delayed Faults')\n",
    "\n",
    "dot.edge('2', '1')\n",
    "dot.edge('0', '2', '  Possibility\\nof fault')\n",
    "dot.edge('1', '5', '  Possibility\\nof fault')\n",
    "dot.edge('2', '3')\n",
    "dot.edge('3', '6', 'Yes')\n",
    "dot.edge('3', '5', 'No')\n",
    "dot.edge('4', '8')\n",
    "dot.edge('5', '6')\n",
    "dot.edge('6', '4', 'Yes')\n",
    "dot.edge('6', '7', 'No')\n",
    "dot.edge('7', '3')\n",
    "dot.edge('8', '2', 'No')\n",
    "dot.edge('8', '9', 'Yes')\n",
    "dot.edge('10', '0')\n",
    "dot.edge('11', '1')\n",
    "dot.save()\n",
    "#dot.render(view=True)"
   ]
  },
  {
   "cell_type": "code",
   "execution_count": null,
   "metadata": {},
   "outputs": [],
   "source": [
    "from graphviz import Digraph\n",
    "\n",
    "dot = Digraph(node_attr={'shape': 'box'}, format='png', filename='sensorfusion')\n",
    "dot.edge_attr.update(arrowhead='vee', arrowsize='1')\n",
    "\n",
    "dot.node('0', 'Fault Generator')\n",
    "dot.node('1', 'Other Faults')\n",
    "dot.node('2', 'Supervisor (Polling)')\n",
    "dot.node('3', 'All faults\\n processed\\n?' ,shape='diamond')\n",
    "dot.node('4', 'Send trigger signal \\n &\\n increment frequency')\n",
    "dot.node('5', 'Append fault')\n",
    "dot.node('6', 'Does fault\\n exist?', shape='diamond')\n",
    "dot.node('7', 'Remove and delay fault\\nwith lower\\npriority')\n",
    "dot.node('8', 'Time\\nOut?', shape='diamond')\n",
    "dot.node('9', 'end', shape='oval')\n",
    "dot.node('10', 'start', shape='oval')\n",
    "dot.node('11', 'Delayed Faults')\n",
    "\n",
    "dot.edge('2', '1')\n",
    "dot.edge('0', '2', '  Possibility\\nof fault')\n",
    "dot.edge('1', '5', '  Possibility\\nof fault')\n",
    "dot.edge('2', '3')\n",
    "dot.edge('3', '6', 'Yes')\n",
    "dot.edge('3', '5', 'No')\n",
    "dot.edge('4', '8')\n",
    "dot.edge('5', '6')\n",
    "dot.edge('6', '4', 'Yes')\n",
    "dot.edge('6', '7', 'No')\n",
    "dot.edge('7', '3')\n",
    "dot.edge('8', '2', 'No')\n",
    "dot.edge('8', '9', 'Yes')\n",
    "dot.edge('10', '0')\n",
    "dot.edge('11', '1')\n",
    "dot.save()\n",
    "#dot.render(view=True)"
   ]
  },
  {
   "cell_type": "code",
   "execution_count": null,
   "metadata": {},
   "outputs": [],
   "source": []
  },
  {
   "cell_type": "markdown",
   "metadata": {},
   "source": [
    "### Run"
   ]
  },
  {
   "cell_type": "code",
   "execution_count": 19,
   "metadata": {},
   "outputs": [],
   "source": [
    "command = \"D:/code/C++/RT-Cadmium-FDD-Updated/top_model/main.exe\"\n",
    "completed_process = subprocess.run(command, shell=False, capture_output=True, text=True)\n",
    "#print(completed_process.stdout)"
   ]
  },
  {
   "cell_type": "markdown",
   "metadata": {},
   "source": [
    "\n",
    "### Read from file"
   ]
  },
  {
   "cell_type": "markdown",
   "metadata": {},
   "source": [
    "fault_dict = {}\n",
    "fault_dict[\"A1\"] = 4\n",
    "fault_dict[\"B1\"] = 5\n",
    "fault_dict[\"C1\"] = 6\n",
    "fault_dict[\"D1\"] = 7\n",
    "fault_dict[\"A1B1\"] = -45\n",
    "fault_dict[\"A1C1\"] = -46\n",
    "fault_dict[\"A1D1\"] = -47\n",
    "fault_dict[\"B1C1\"] = -56\n",
    "fault_dict[\"C1D1\"] = -67"
   ]
  },
  {
   "cell_type": "code",
   "execution_count": 56,
   "metadata": {},
   "outputs": [],
   "source": [
    "fault_dict = {}\n",
    "fault_dict[4] = \"A1\"\n",
    "fault_dict[5] = \"B1\"\n",
    "fault_dict[6] = \"C1\"\n",
    "fault_dict[7] = \"D1\"\n",
    "fault_dict[-45] = \"A1B1\"\n",
    "fault_dict[-46] = \"A1C1\"\n",
    "fault_dict[-47] = \"A1D1\"\n",
    "fault_dict[-56] = \"B1C1\"\n",
    "fault_dict[-67] = \"C1D1\"\n",
    "\n",
    "fault_freq = {}\n",
    "fault_freq[\"A1\"] = 0\n",
    "fault_freq[\"B1\"] = 0\n",
    "fault_freq[\"C1\"] = 0\n",
    "fault_freq[\"D1\"] = 0\n",
    "fault_freq[\"A1B1\"] = 0\n",
    "fault_freq[\"A1C1\"] = 0\n",
    "fault_freq[\"A1D1\"] = 0\n",
    "fault_freq[\"B1C1\"] = 0\n",
    "fault_freq[\"C1D1\"] = 0\n",
    "\n",
    "fileName = \"SensorFusion.txt\"\n",
    "        \n",
    "with open(fileName, \"r\") as f:\n",
    "    lines = f.readlines()\n",
    "    \n",
    "with open(fileName, \"r\") as f:\n",
    "    output = f.read()\n",
    "    \n",
    "for line in lines:\n",
    "    if (re.search(\"supervisor\", line) != None):\n",
    "        res = re.findall(\"\\{[-]*\\d+[, ]*\\d*[, ]*[-]*\\d*\\}\", line)\n",
    "\n",
    "        if len(res) > 0:\n",
    "            str_interest = res[0].replace('}', '').replace('{', '')\n",
    "            faults = str_interest.split(', ')\n",
    "            \n",
    "            for fault in faults:\n",
    "                fault_freq[fault_dict[int(fault)]] = fault_freq[fault_dict[int(fault)]] + 1\n",
    "\n",
    "generators = {'A': 0, 'B': 0, 'C': 0, 'D': 0}\n",
    "\n",
    "for key in generators.keys():\n",
    "    generators[key] = len(re.findall(\"faultGen\" + key, output))"
   ]
  },
  {
   "cell_type": "code",
   "execution_count": 50,
   "metadata": {
    "scrolled": true
   },
   "outputs": [
    {
     "data": {
      "text/plain": [
       "{'A1': 7,\n",
       " 'B1': 44,\n",
       " 'C1': 10,\n",
       " 'D1': 32,\n",
       " 'A1B1': 5,\n",
       " 'A1C1': 2,\n",
       " 'A1D1': 2,\n",
       " 'B1C1': 6,\n",
       " 'C1D1': 2}"
      ]
     },
     "execution_count": 50,
     "metadata": {},
     "output_type": "execute_result"
    }
   ],
   "source": [
    "fault_freq"
   ]
  },
  {
   "cell_type": "markdown",
   "metadata": {},
   "source": [
    "### ANALYSIS / VERIFICATION"
   ]
  },
  {
   "cell_type": "markdown",
   "metadata": {},
   "source": [
    "#### Definitions"
   ]
  },
  {
   "cell_type": "markdown",
   "metadata": {},
   "source": [
    "**Pure Fault**: Faults from a single generator.  \n",
    "**Compound Faults**: Faults formed from the combination of pure faults."
   ]
  },
  {
   "cell_type": "markdown",
   "metadata": {},
   "source": [
    "### Premise"
   ]
  },
  {
   "cell_type": "markdown",
   "metadata": {},
   "source": [
    "Fault $A1$: Should have no discarded entry, because it has the highest priority  \n",
    "Fault $B1$: Should have some discarded value, for the case $BD$, which is not available  \n",
    "Fault $C1$: Higher percentage of discarded cases than $C$, because of its lower priority  \n",
    "Fault $D1$: Highest percentage of discarded cases, because it has the lowest priority  "
   ]
  },
  {
   "cell_type": "markdown",
   "metadata": {},
   "source": [
    "Generator $output_{A1} = n({A1}) + n({A1} \\cap {B1}) + n({A1} \\cap {C1}) + n({A1} \\cap {D1}) + discarded_{A1}$  \n",
    "Generator $output_{B1} = n({B1}) + n({A1} \\cap {B1}) + n({B1} \\cap {C1}) + discarded_{B1}$  \n",
    "Generator $output_{C1} = n({C1}) + n({A1} \\cap {C1}) + n({B1} \\cap {C1}) + n({C1} \\cap {D1}) + discarded_{C1}$  \n",
    "Generator $output_{D1} = n({D1}) + n({A1} \\cap {D1}) + n({C1} \\cap {D1}) + discarded_{D1}$  \n",
    "\n",
    "Where $discarded_{A1} \\equiv 0$, because A has the highest priority, and $discarded_{B1} = 0$ because B1 has a fault code combination with the others in the right order, using the priority system."
   ]
  },
  {
   "cell_type": "code",
   "execution_count": 51,
   "metadata": {},
   "outputs": [],
   "source": [
    "def sumFromSupervisor(code):\n",
    "    '''\n",
    "    Returns the number of times faults associated with a particular pure fault (the parameter) were output by the supervisor\n",
    "\n",
    "    @param code: string\n",
    "    @return int\n",
    "    '''\n",
    "    sum = 0\n",
    "    \n",
    "    for key, value in fault_freq.items():\n",
    "        if code in key:\n",
    "            sum += value;\n",
    "            \n",
    "    return sum;"
   ]
  },
  {
   "cell_type": "code",
   "execution_count": 57,
   "metadata": {},
   "outputs": [
    {
     "data": {
      "text/plain": [
       "0"
      ]
     },
     "execution_count": 57,
     "metadata": {},
     "output_type": "execute_result"
    }
   ],
   "source": [
    "a_discarded = generators['A'] - sumFromSupervisor(\"A1\")\n",
    "a_discarded"
   ]
  },
  {
   "cell_type": "code",
   "execution_count": 58,
   "metadata": {},
   "outputs": [
    {
     "data": {
      "text/plain": [
       "0"
      ]
     },
     "execution_count": 58,
     "metadata": {},
     "output_type": "execute_result"
    }
   ],
   "source": [
    "b_discarded = generators['B'] - sumFromSupervisor(\"B1\")\n",
    "b_discarded"
   ]
  },
  {
   "cell_type": "code",
   "execution_count": 59,
   "metadata": {},
   "outputs": [
    {
     "data": {
      "text/plain": [
       "0"
      ]
     },
     "execution_count": 59,
     "metadata": {},
     "output_type": "execute_result"
    }
   ],
   "source": [
    "c_discarded = generators['C'] - sumFromSupervisor(\"C1\")\n",
    "c_discarded"
   ]
  },
  {
   "cell_type": "code",
   "execution_count": 60,
   "metadata": {},
   "outputs": [
    {
     "data": {
      "text/plain": [
       "1"
      ]
     },
     "execution_count": 60,
     "metadata": {},
     "output_type": "execute_result"
    }
   ],
   "source": [
    "d_discarded = generators['D'] - sumFromSupervisor(\"D1\")\n",
    "d_discarded"
   ]
  },
  {
   "cell_type": "code",
   "execution_count": 61,
   "metadata": {},
   "outputs": [
    {
     "data": {
      "text/plain": [
       "1"
      ]
     },
     "execution_count": 61,
     "metadata": {},
     "output_type": "execute_result"
    }
   ],
   "source": [
    "total_discarded = a_discarded + b_discarded + c_discarded + d_discarded\n",
    "total_discarded"
   ]
  },
  {
   "cell_type": "code",
   "execution_count": 40,
   "metadata": {},
   "outputs": [
    {
     "data": {
      "text/plain": [
       "128"
      ]
     },
     "execution_count": 40,
     "metadata": {},
     "output_type": "execute_result"
    }
   ],
   "source": [
    "total_generated = generators['A'] + generators['B'] + generators['C'] + generators['D']\n",
    "total_generated"
   ]
  },
  {
   "cell_type": "code",
   "execution_count": 41,
   "metadata": {},
   "outputs": [],
   "source": [
    "discarded = {'A': a_discarded, 'B': b_discarded, 'C': c_discarded, 'D': d_discarded}\n",
    "discarded_percentage = {'A': a_discarded * 100 / total_generated, 'B': b_discarded * 100 / total_generated, 'C': c_discarded * 100 / total_generated, 'D': d_discarded * 100 / total_generated}"
   ]
  },
  {
   "cell_type": "code",
   "execution_count": 43,
   "metadata": {},
   "outputs": [
    {
     "data": {
      "text/plain": [
       "{'A': 0, 'B': 0, 'C': 0, 'D': 1}"
      ]
     },
     "execution_count": 43,
     "metadata": {},
     "output_type": "execute_result"
    }
   ],
   "source": [
    "discarded"
   ]
  },
  {
   "cell_type": "code",
   "execution_count": null,
   "metadata": {},
   "outputs": [],
   "source": [
    "fault_codes"
   ]
  },
  {
   "cell_type": "code",
   "execution_count": null,
   "metadata": {},
   "outputs": [],
   "source": [
    "a_increment = generators['A'] - fault_codes['-4-5-'] - fault_codes['-4-6-'] - fault_codes['-4-7-'] - a_discarded\n",
    "a_increment"
   ]
  },
  {
   "cell_type": "code",
   "execution_count": null,
   "metadata": {},
   "outputs": [],
   "source": [
    "b_increment = generators['B'] - fault_codes['-4-5-'] - fault_codes['-5-6-'] - b_discarded\n",
    "b_increment"
   ]
  },
  {
   "cell_type": "code",
   "execution_count": null,
   "metadata": {},
   "outputs": [],
   "source": [
    "c_increment = generators['C'] - fault_codes['-4-6-'] - fault_codes['-5-6-'] - fault_codes['-6-7-'] - c_discarded\n",
    "c_increment"
   ]
  },
  {
   "cell_type": "code",
   "execution_count": null,
   "metadata": {},
   "outputs": [],
   "source": [
    "d_increment = generators['D'] - fault_codes['-4-7-'] - fault_codes['-6-7-'] - d_discarded\n",
    "d_increment"
   ]
  },
  {
   "cell_type": "markdown",
   "metadata": {},
   "source": [
    "### Discard Charts"
   ]
  },
  {
   "cell_type": "code",
   "execution_count": 62,
   "metadata": {},
   "outputs": [
    {
     "data": {
      "image/png": "[encoded data removed]",
      "text/plain": [
       "<Figure size 432x288 with 1 Axes>"
      ]
     },
     "metadata": {
      "needs_background": "light"
     },
     "output_type": "display_data"
    }
   ],
   "source": [
    "#plt.title('Discarded Bar')\n",
    "plt.bar(discarded.keys(), discarded.values())\n",
    "#plt.show()\n",
    "plt.savefig('discarded bar.png', format='png')"
   ]
  },
  {
   "cell_type": "code",
   "execution_count": 64,
   "metadata": {},
   "outputs": [
    {
     "data": {
      "image/png": "[encoded data removed]",
      "text/plain": [
       "<Figure size 432x288 with 1 Axes>"
      ]
     },
     "metadata": {},
     "output_type": "display_data"
    }
   ],
   "source": [
    "keys, values = list(discarded.keys()), list(discarded.values())\n",
    "legend_keys = copy.copy(keys)\n",
    "\n",
    "for i in range(len(keys)):\n",
    "     legend_keys[i] = str(legend_keys[i]) + \" = \" + str(values[i])\n",
    "\n",
    "# Remove wedgeprops to make pie\n",
    "wedges, texts = plt.pie(values, textprops=dict(color=\"w\"), wedgeprops=dict(width=0.5))\n",
    "plt.legend(wedges, legend_keys,\n",
    "          title=\"Fault Codes\",\n",
    "          loc=\"center left\",\n",
    "          bbox_to_anchor=(1, 0, 0.5, 1))\n",
    "\n",
    "#plt.title(\"Discarded Pie\")\n",
    "#plt.show()\n",
    "plt.savefig('discard pie.png', format='png')"
   ]
  },
  {
   "cell_type": "markdown",
   "metadata": {},
   "source": [
    "### Discard Percentage Charts"
   ]
  },
  {
   "cell_type": "code",
   "execution_count": 65,
   "metadata": {},
   "outputs": [
    {
     "data": {
      "image/png": "[encoded data removed]",
      "text/plain": [
       "<Figure size 432x288 with 1 Axes>"
      ]
     },
     "metadata": {
      "needs_background": "light"
     },
     "output_type": "display_data"
    }
   ],
   "source": [
    "#plt.title('Discard Percentage')\n",
    "plt.bar(discarded_percentage.keys(), discarded_percentage.values())\n",
    "#plt.show()\n",
    "plt.savefig('sensorfusion.png', format='png')"
   ]
  },
  {
   "cell_type": "code",
   "execution_count": 66,
   "metadata": {},
   "outputs": [
    {
     "name": "stderr",
     "output_type": "stream",
     "text": [
      "<ipython-input-66-2f4f67baf377>:8: MatplotlibDeprecationWarning: normalize=None does not normalize if the sum is less than 1 but this behavior is deprecated since 3.3 until two minor releases later. After the deprecation period the default value will be normalize=True. To prevent normalization pass normalize=False \n",
      "  wedges, texts = plt.pie(values, textprops=dict(color=\"w\"), wedgeprops=dict(width=0.5))\n"
     ]
    },
    {
     "data": {
      "image/png": "[encoded data removed]",
      "text/plain": [
       "<Figure size 432x288 with 1 Axes>"
      ]
     },
     "metadata": {},
     "output_type": "display_data"
    },
    {
     "data": {
      "text/plain": [
       "<Figure size 432x288 with 0 Axes>"
      ]
     },
     "metadata": {},
     "output_type": "display_data"
    }
   ],
   "source": [
    "keys, values = list(discarded_percentage.keys()), list(discarded_percentage.values())\n",
    "legend_keys = copy.copy(keys)\n",
    "\n",
    "for i in range(len(keys)):\n",
    "     legend_keys[i] = str(legend_keys[i]) + \" (%) = \" + str(values[i])\n",
    "\n",
    "# Remove wedgeprops to make pie\n",
    "wedges, texts = plt.pie(values, textprops=dict(color=\"w\"), wedgeprops=dict(width=0.5))\n",
    "plt.legend(wedges, legend_keys,\n",
    "          title=\"Fault Codes\",\n",
    "          loc=\"center left\",\n",
    "          bbox_to_anchor=(1, 0, 0.5, 1))\n",
    "\n",
    "#plt.title(\"Discard Percentage\")\n",
    "plt.show()\n",
    "plt.savefig('discard percntage pie.png')"
   ]
  },
  {
   "cell_type": "markdown",
   "metadata": {},
   "source": [
    "### Toggle Time vs Frequency of Generators"
   ]
  },
  {
   "cell_type": "code",
   "execution_count": 67,
   "metadata": {},
   "outputs": [],
   "source": [
    "toggle_times = {'A': 620, 'B': 180, 'C': 490, 'D': 270}"
   ]
  },
  {
   "cell_type": "markdown",
   "metadata": {},
   "source": [
    "#### Premise"
   ]
  },
  {
   "cell_type": "markdown",
   "metadata": {},
   "source": [
    "$faults\\,generated \\propto \\frac{1}{toggle\\,time}$\n",
    "\n",
    "$\\therefore B > D > C > A$"
   ]
  },
  {
   "cell_type": "markdown",
   "metadata": {},
   "source": [
    "### Generator Output Charts (Possibilities of Faults)"
   ]
  },
  {
   "cell_type": "code",
   "execution_count": 68,
   "metadata": {},
   "outputs": [
    {
     "data": {
      "text/plain": [
       "16"
      ]
     },
     "execution_count": 68,
     "metadata": {},
     "output_type": "execute_result"
    }
   ],
   "source": [
    "generators['A']"
   ]
  },
  {
   "cell_type": "code",
   "execution_count": 69,
   "metadata": {},
   "outputs": [
    {
     "data": {
      "image/png": "[encoded data removed]",
      "text/plain": [
       "<Figure size 432x288 with 1 Axes>"
      ]
     },
     "metadata": {
      "needs_background": "light"
     },
     "output_type": "display_data"
    }
   ],
   "source": [
    "#plt.title('Generator Output (Possibilities of Faults)')\n",
    "plt.bar(generators.keys(), generators.values())\n",
    "#plt.show()\n",
    "plt.savefig('generator output bar.png')"
   ]
  },
  {
   "cell_type": "code",
   "execution_count": 70,
   "metadata": {
    "scrolled": true
   },
   "outputs": [
    {
     "data": {
      "image/png": "[encoded data removed]",
      "text/plain": [
       "<Figure size 432x288 with 1 Axes>"
      ]
     },
     "metadata": {},
     "output_type": "display_data"
    }
   ],
   "source": [
    "keys, values = list(generators.keys()), list(generators.values())\n",
    "legend_keys = copy.copy(keys)\n",
    "\n",
    "for i in range(len(keys)):\n",
    "     legend_keys[i] = \"n (\" + str(legend_keys[i]) + \") = \" + str(values[i])\n",
    "\n",
    "# Remove wedgeprops to make pie\n",
    "wedges, texts = plt.pie(values, textprops=dict(color=\"w\"), wedgeprops=dict(width=0.5))\n",
    "plt.legend(wedges, legend_keys,\n",
    "          title=\"Fault Codes\",\n",
    "          loc=\"center left\",\n",
    "          bbox_to_anchor=(1, 0, 0.5, 1))\n",
    "\n",
    "#plt.title(\"Generator Output Charts (Possibilities of Fault)\")\n",
    "#plt.show()\n",
    "plt.savefig('generator output pie.png')"
   ]
  },
  {
   "cell_type": "markdown",
   "metadata": {},
   "source": [
    "### Single-Run Fault Charts"
   ]
  },
  {
   "cell_type": "code",
   "execution_count": 30,
   "metadata": {},
   "outputs": [
    {
     "data": {
      "image/png": "[encoded data removed]",
      "text/plain": [
       "<Figure size 432x288 with 1 Axes>"
      ]
     },
     "metadata": {
      "needs_background": "light"
     },
     "output_type": "display_data"
    }
   ],
   "source": [
    "chart_data = copy.copy(fault_freq)\n",
    "values = list(chart_data.values())\n",
    "keys = list(chart_data.keys())\n",
    "\n",
    "plt.title('Single-Run')\n",
    "plt.bar(keys, values)\n",
    "plt.show()\n",
    "#plt.savefig('single-run bar.png')"
   ]
  },
  {
   "cell_type": "code",
   "execution_count": 31,
   "metadata": {
    "scrolled": true
   },
   "outputs": [
    {
     "data": {
      "image/png": "[encoded data removed]",
      "text/plain": [
       "<Figure size 432x288 with 1 Axes>"
      ]
     },
     "metadata": {},
     "output_type": "display_data"
    }
   ],
   "source": [
    "# Remove wedgeprops to make pie\n",
    "wedges, texts = plt.pie(values, \n",
    "                        textprops=dict(color=\"w\"), \n",
    "                        wedgeprops=dict(width=0.5))\n",
    "\n",
    "legend_keys = copy.copy(keys)\n",
    "\n",
    "for i in range(len(keys)):\n",
    "     legend_keys[i] = str(legend_keys[i]) + \" \" + str(values[i]) + \" \" + \"times\"\n",
    "        \n",
    "plt.legend(wedges, legend_keys,\n",
    "          title=\"Fault Codes\",\n",
    "          loc=\"center left\",\n",
    "          bbox_to_anchor=(1, 0, 0.5, 1))\n",
    "\n",
    "plt.title(\"Single-Run\")\n",
    "plt.show()\n",
    "#plt.savefig('single-run pie.png')"
   ]
  },
  {
   "cell_type": "markdown",
   "metadata": {},
   "source": [
    "### Cumulative Faults Chart"
   ]
  },
  {
   "cell_type": "code",
   "execution_count": null,
   "metadata": {},
   "outputs": [],
   "source": [
    "fileName = \"D:/code/C++/RT-Cadmium-FDD-New-Code/knowledge_base/_fault_codes_dir/_fault_codes_list.txt\"\n",
    "\n",
    "with open(fileName, \"r\") as f:\n",
    "    lines = f.readlines()\n",
    "    \n",
    "total = {}\n",
    "    \n",
    "for line in lines:\n",
    "    res = re.findall(\"\\d+[-]*\\d*\", line)\n",
    "\n",
    "    if len(res) > 0:\n",
    "        total[res[0]] = str(res[1])"
   ]
  },
  {
   "cell_type": "code",
   "execution_count": null,
   "metadata": {},
   "outputs": [],
   "source": [
    "values = list(total.values())\n",
    "keys = list(total.keys())\n",
    "\n",
    "#plt.title('Cummulative')\n",
    "plt.bar(keys, values)\n",
    "#plt.show()\n",
    "plt.savefig('single-run bar.png')"
   ]
  },
  {
   "cell_type": "code",
   "execution_count": null,
   "metadata": {},
   "outputs": [],
   "source": [
    "values = list(total.values())\n",
    "keys = list(total.keys())\n",
    "legend_keys = copy.copy(keys)\n",
    "\n",
    "for i in range(len(keys)):\n",
    "     legend_keys[i] = str(legend_keys[i]) + \" \" + str(values[i]) + \" \" + 'times'\n",
    "\n",
    "# Remove wedgeprops to make pie\n",
    "wedges, texts = plt.pie(values, textprops=dict(color=\"w\"), wedgeprops=dict(width=0.5))\n",
    "plt.legend(wedges, legend_keys,\n",
    "          title=\"Fault Codes\",\n",
    "          loc=\"center left\",\n",
    "          bbox_to_anchor=(1, 0, 0.5, 1))\n",
    "\n",
    "#plt.title(\"Cumulative\")\n",
    "#plt.show()\n",
    "plt.savefig('cumulative pie.png')"
   ]
  },
  {
   "cell_type": "code",
   "execution_count": null,
   "metadata": {},
   "outputs": [],
   "source": []
  }
 ],
 "metadata": {
  "kernelspec": {
   "display_name": "Python 3",
   "language": "python",
   "name": "python3"
  },
  "language_info": {
   "codemirror_mode": {
    "name": "ipython",
    "version": 3
   },
   "file_extension": ".py",
   "mimetype": "text/x-python",
   "name": "python",
   "nbconvert_exporter": "python",
   "pygments_lexer": "ipython3",
   "version": "3.8.6rc1"
  }
 },
 "nbformat": 4,
 "nbformat_minor": 4
}
