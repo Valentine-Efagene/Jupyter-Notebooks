{
 "cells": [
  {
   "cell_type": "markdown",
   "metadata": {},
   "source": [
    "# References"
   ]
  },
  {
   "cell_type": "markdown",
   "metadata": {},
   "source": [
    "1. [H.K._Dass]_Advanced_Engineering_Mathematics(z-lib.org) (21st Revised Edition)"
   ]
  },
  {
   "cell_type": "markdown",
   "metadata": {},
   "source": [
    "## Imports"
   ]
  },
  {
   "cell_type": "code",
   "execution_count": 7,
   "metadata": {},
   "outputs": [],
   "source": [
    "import numpy as np\n",
    "import math\n",
    "import sympy\n",
    "import sympy as sp\n",
    "from sympy import Eq, IndexedBase, symbols, Idx, Indexed, Sum, S\n",
    "from sympy.functions.special.tensor_functions import KroneckerDelta\n",
    "import matplotlib.pyplot as plt\n",
    "from sympy.physics.vector import ReferenceFrame\n",
    "import matplotlib as mpl\n",
    "from mpl_toolkits.mplot3d import Axes3D\n",
    "from IPython.display import display\n",
    "from IPython.display import display_latex\n",
    "from sympy import latex\n",
    "from sympy import Array, Matrix, transpose, zeros"
   ]
  },
  {
   "cell_type": "markdown",
   "metadata": {},
   "source": [
    "## Setup"
   ]
  },
  {
   "cell_type": "code",
   "execution_count": 8,
   "metadata": {},
   "outputs": [],
   "source": [
    "sympy.init_printing()\n",
    "np.set_printoptions(precision=3)"
   ]
  },
  {
   "cell_type": "markdown",
   "metadata": {},
   "source": [
    "## $LaTeX$ Cheat Sheet"
   ]
  },
  {
   "cell_type": "markdown",
   "metadata": {},
   "source": [
    "### Symbols"
   ]
  },
  {
   "cell_type": "markdown",
   "metadata": {},
   "source": [
    "$\\mathbb{R}$  \n",
    "$\\bar{R}$  \n",
    "$\\overline{R}$  \n",
    "$\\therefore$  \n",
    "$\\because$  \n",
    "$\\Rightarrow$  \n",
    "$\\rightarrow$  \n",
    "$\\implies$  \n",
    "$\\iff$  \n",
    "$\\leftrightarrow$  \n",
    "$\\Leftrightarrow$  \n",
    "$\\equiv$  \n",
    "$\\subset$  \n",
    "$\\supset$  \n",
    "$\\wedge$  \n",
    "$\\parallel$  \n",
    "$\\oplus$  \n",
    "$\\top$  \n",
    "$\\bot$  \n",
    "$\\forall$  \n",
    "$\\exists$  \n",
    "$\\exists!$  "
   ]
  },
  {
   "cell_type": "markdown",
   "metadata": {},
   "source": [
    "## Functions"
   ]
  },
  {
   "cell_type": "code",
   "execution_count": 9,
   "metadata": {},
   "outputs": [],
   "source": [
    "# Usage: display_equation('u_x', x)\n",
    "def display_equation(idx, symObj):\n",
    "    if(isinstance(idx, str)):\n",
    "        eqn = '\\\\[' + idx + ' = ' + latex(symObj) + '\\\\]'\n",
    "        display_latex(eqn, raw=True)\n",
    "    else:\n",
    "        eqn = '\\\\[' + latex(idx) + ' = ' + latex(symObj) + '\\\\]'\n",
    "        display_latex(eqn, raw=True)\n",
    "    return"
   ]
  },
  {
   "cell_type": "code",
   "execution_count": 10,
   "metadata": {},
   "outputs": [],
   "source": [
    "# Usage: display_full_latex('u_x')\n",
    "def display_full_latex(idx):\n",
    "    if(isinstance(idx, str)):\n",
    "        eqn = '\\\\[' + idx + '\\\\]'\n",
    "        display_latex(eqn, raw=True)\n",
    "    else:\n",
    "        eqn = '\\\\[' + latex(idx) + '\\\\]'\n",
    "        display_latex(eqn, raw=True)\n",
    "    return"
   ]
  },
  {
   "cell_type": "code",
   "execution_count": 11,
   "metadata": {},
   "outputs": [],
   "source": [
    "def vplot2d(O, a, origin_label='O', tip_label='P'):\n",
    "    dx = a[0][0] - O[0][0]\n",
    "    dy = a[1][0] - O[1][0]\n",
    "\n",
    "    head_length = 0.3\n",
    "    vec_ab = [dx,dy]\n",
    "\n",
    "    vec_ab_magnitude = math.sqrt(dx**2+dy**2)\n",
    "\n",
    "    dx = dx / vec_ab_magnitude\n",
    "    dy = dy / vec_ab_magnitude\n",
    "\n",
    "    vec_ab_magnitude = vec_ab_magnitude - head_length\n",
    "\n",
    "    ax = plt.axes()\n",
    "    ax.set_aspect('equal', 'box')\n",
    "    #ax.axis([-range, range, -range, range]) Sub for xlim and ylim\n",
    "\n",
    "    ax.arrow(O[0][0], O[1][0], vec_ab_magnitude*dx, vec_ab_magnitude*dy, head_width=0.1, head_length=head_length, fc='lightblue', ec='black')\n",
    "    plt.scatter(O[0][0],O[1][0],color='black')\n",
    "    plt.scatter(a[0][0],a[1][0],color='black')\n",
    "\n",
    "    ax.annotate(origin_label, (O[0][0]-0.4,O[1][0]),fontsize=14)\n",
    "    ax.annotate(tip_label, (a[0][0]+0.3,a[1][0]),fontsize=14)\n",
    "    return"
   ]
  },
  {
   "cell_type": "markdown",
   "metadata": {},
   "source": [
    "### Coordinate Transformation"
   ]
  },
  {
   "cell_type": "code",
   "execution_count": 12,
   "metadata": {},
   "outputs": [],
   "source": [
    "x_prime, y_prime, z_prime = sympy.symbols('x\\' y\\' z\\'')\n",
    "l_1, l_2, l_3, m_1, m_2, m_3, n_1, n_2, n_3 = sympy.symbols('l_1 l_2 l_3 m_1, m_2 m_3 n_1 n_2 n_3')\n",
    "x, y, z = sympy.symbols('x y z')"
   ]
  },
  {
   "cell_type": "code",
   "execution_count": 13,
   "metadata": {},
   "outputs": [
    {
     "data": {
      "text/latex": [
       "\\[x' = l_{1} x + m_{1} y + n_{1} z\\]"
      ]
     },
     "metadata": {},
     "output_type": "display_data"
    },
    {
     "data": {
      "text/latex": [
       "\\[y' = l_{2} x + m_{2} y + n_{2} z\\]"
      ]
     },
     "metadata": {},
     "output_type": "display_data"
    },
    {
     "data": {
      "text/latex": [
       "\\[z' = l_{3} x + m_{3} y + n_{3} z\\]"
      ]
     },
     "metadata": {},
     "output_type": "display_data"
    }
   ],
   "source": [
    "x_prime, y_prime, z_prime = sp.symbols('x\\' y\\' z\\'')\n",
    "l_1, l_2, l_3, m_1, m_2, m_3, n_1, n_2, n_3 = sp.symbols('l_1 l_2 l_3 m_1, m_2 m_3 n_1 n_2 n_3')\n",
    "x, y, z = sp.symbols('x y z')\n",
    "\n",
    "# Equation 1\n",
    "x_prime = l_1 * x + m_1 * y + n_1 * z\n",
    "y_prime = l_2 * x + m_2 * y + n_2 * z\n",
    "z_prime = l_3 * x + m_3 * y + n_3 * z\n",
    "\n",
    "display_equation('x\\'', x_prime)\n",
    "display_equation('y\\'', y_prime)\n",
    "display_equation('z\\'', z_prime)"
   ]
  },
  {
   "cell_type": "code",
   "execution_count": 114,
   "metadata": {},
   "outputs": [
    {
     "data": {
      "text/latex": [
       "\\[x' = l_{1} x' + m_{1} y' + n_{1} z'\\]"
      ]
     },
     "metadata": {},
     "output_type": "display_data"
    },
    {
     "data": {
      "text/latex": [
       "\\[y' = l_{2} x' + m_{2} y' + n_{2} z'\\]"
      ]
     },
     "metadata": {},
     "output_type": "display_data"
    },
    {
     "data": {
      "text/latex": [
       "\\[z' = l_{3} x' + m_{3} y' + n_{3} z'\\]"
      ]
     },
     "metadata": {},
     "output_type": "display_data"
    }
   ],
   "source": [
    "# Redefining the primes so equation 1 doesn't get substituted in\n",
    "x_prime, y_prime, z_prime = sp.symbols('x\\' y\\' z\\'', Integer=True)\n",
    "\n",
    "x = l_1 * x_prime + m_1 * y_prime + n_1 * z_prime\n",
    "y = l_2 * x_prime + m_2 * y_prime + n_2 * z_prime\n",
    "z = l_3 * x_prime + m_3 * y_prime + n_3 * z_prime\n",
    "\n",
    "display_equation('x\\'', x)\n",
    "display_equation('y\\'', y)\n",
    "display_equation('z\\'', z)"
   ]
  },
  {
   "cell_type": "markdown",
   "metadata": {},
   "source": [
    "|  | $x$ | $y$ | $z$ |\n",
    "|---|---|---|---|\n",
    "| $x'$ | $l_1$ | $m_1$ | $n_1$ |\n",
    "| $y'$ | $l_2$ | $m_2$ | $n_2$ |\n",
    "| $z'$ | $l_3$ | $m_3$ | $n_3$ |"
   ]
  },
  {
   "cell_type": "markdown",
   "metadata": {},
   "source": [
    "### OR"
   ]
  },
  {
   "cell_type": "markdown",
   "metadata": {},
   "source": [
    "$\\bar{x_1} = l_{11}x_1 + l_{21}x_2 + l_{31}x_3$  \n",
    "$\\bar{x_2} = l_{13}x_1 + l_{22}x_2 + l_{32}x_3$  \n",
    "$\\bar{x_3} = l_{13}x_1 + l_{23}x_2 + l_{33}x_3$  \n",
    "\n",
    "$x_1 = l_{11}\\bar{x_1} + l_{12}\\bar{x_2} + l_{13}\\bar{x_3}$  \n",
    "$x_2 = l_{21}\\bar{x_1} + l_{22}\\bar{x_2} + l_{23}\\bar{x_3}$  \n",
    "$x_3 = l_{31}\\bar{x_1} + l_{32}\\bar{x_2} + l_{33}\\bar{x_3}$  "
   ]
  },
  {
   "cell_type": "markdown",
   "metadata": {},
   "source": [
    "### With column by row indexing"
   ]
  },
  {
   "cell_type": "markdown",
   "metadata": {},
   "source": [
    "|  | $x_1$ | $x_2$ | $x_3$ |\n",
    "|---|---|---|---|\n",
    "| $\\bar{x_1}$ | $l_{11}$ | $l_{21}$ | $l_{31}$ |\n",
    "| $\\bar{x_2}$ | $l_{12}$ | $l_{22}$ | $l_{32}$ |\n",
    "| $\\bar{x_3}$ | $l_{13}$ | $l_{23}$ | $l_{33}$ |"
   ]
  },
  {
   "cell_type": "markdown",
   "metadata": {},
   "source": [
    "$\\bar{x_j} = l_{ji}x_i$  \n",
    "$x_i = l_{ji}\\bar{x_j}$  \n",
    "Where  \n",
    "$i$ = column  \n",
    "$j$ = row "
   ]
  },
  {
   "cell_type": "markdown",
   "metadata": {},
   "source": [
    "#### With row by column indexing (More common matrix indexing, used here)"
   ]
  },
  {
   "cell_type": "markdown",
   "metadata": {},
   "source": [
    "|  | $\\bar{x_1}$ | $\\bar{x_2}$ | $\\bar{x_3}$ |\n",
    "|---|---|---|---|\n",
    "| $x_1$ | $l_{11}$ | $l_{12}$ | $l_{13}$ |\n",
    "| $x_2$ | $l_{21}$ | $l_{22}$ | $l_{23}$ |\n",
    "| $x_3$ | $l_{31}$ | $l_{32}$ | $l_{33}$ |"
   ]
  },
  {
   "cell_type": "markdown",
   "metadata": {},
   "source": [
    "$x_i = l_{ij}\\bar{x_j}$  \n",
    "$\\bar{x_j} = l_{ij}x_i$  \n",
    "Where  \n",
    "$i$ = row  \n",
    "$j$ = column "
   ]
  },
  {
   "cell_type": "markdown",
   "metadata": {},
   "source": [
    "#### Relation between the Direction Cosines of Three Mutually Perpendicular Straight Lines"
   ]
  },
  {
   "cell_type": "markdown",
   "metadata": {},
   "source": [
    "1. The dot product between any two is 0.\n",
    "2. The dot product of any vector on itself is 1."
   ]
  },
  {
   "cell_type": "markdown",
   "metadata": {},
   "source": [
    "In Einstein summation notation"
   ]
  },
  {
   "cell_type": "code",
   "execution_count": 135,
   "metadata": {},
   "outputs": [
    {
     "data": {
      "text/latex": [
       "\\[I_{ij}I_{kj} = \\begin{cases} 1 & \\text{for}\\: i = k \\\\0 & \\text{otherwise} \\end{cases}\\]"
      ]
     },
     "metadata": {},
     "output_type": "display_data"
    },
    {
     "data": {
      "text/latex": [
       "\\[\\delta_{kj} = \\begin{cases} 1 & \\text{for}\\: i = k \\\\0 & \\text{otherwise} \\end{cases}\\]"
      ]
     },
     "metadata": {},
     "output_type": "display_data"
    },
    {
     "data": {
      "text/latex": [
       "\\[\\therefore\\]"
      ]
     },
     "metadata": {},
     "output_type": "display_data"
    },
    {
     "data": {
      "text/latex": [
       "\\[I_{ij}I_{kj} = \\delta_{i k}\\]"
      ]
     },
     "metadata": {},
     "output_type": "display_data"
    }
   ],
   "source": [
    "i, k = sympy.symbols('i k')\n",
    "display_equation('I_{ij}I_{kj}', sp.Piecewise((1, sp.Eq(i, k)), (0, sp.Ne(i, k))))\n",
    "display_equation('\\delta_{kj}', sp.Piecewise((1, sp.Eq(i, k)), (0, sp.Ne(i, k))))\n",
    "display_full_latex('\\\\therefore')\n",
    "display_equation('I_{ij}I_{kj}', KroneckerDelta(i, k))"
   ]
  },
  {
   "cell_type": "code",
   "execution_count": 181,
   "metadata": {},
   "outputs": [
    {
     "data": {
      "text/latex": [
       "\\[\\bar{x_j} = {I}_{i,j} {x}_{i}\\]"
      ]
     },
     "metadata": {},
     "output_type": "display_data"
    },
    {
     "data": {
      "text/latex": [
       "\\[l_{jk}\\bar{x_j} = {I}_{i,j} {l}_{j,k} {x}_{i}\\]"
      ]
     },
     "metadata": {},
     "output_type": "display_data"
    },
    {
     "data": {
      "text/latex": [
       "\\[l_{jk}\\bar{x_j} = {I}_{i,j} {l}_{j,k} {x}_{i}\\]"
      ]
     },
     "metadata": {},
     "output_type": "display_data"
    },
    {
     "data": {
      "text/latex": [
       "\\[l_{jk}\\bar{x_j} = {I}_{k,j} {l}_{j,k} {x}_{k}\\]"
      ]
     },
     "metadata": {},
     "output_type": "display_data"
    }
   ],
   "source": [
    "i, j, k = sp.symbols('i j k')\n",
    "l = sp.IndexedBase('l')\n",
    "sp.x_bar_j = l[i, j] * x[i]\n",
    "display_equation('\\\\bar{x_j}', x_bar_j)\n",
    "f = x_bar_j * l[j, k]\n",
    "display_equation('l_{jk}\\\\bar{x_j}', f)\n",
    "f = f.subs(l[i, j] * l[j, k], KroneckerDelta(i, k))\n",
    "display_equation('l_{jk}\\\\bar{x_j}', f)\n",
    "f = f.subs(i, k)\n",
    "display_equation('l_{jk}\\\\bar{x_j}', f)"
   ]
  },
  {
   "cell_type": "markdown",
   "metadata": {},
   "source": [
    "$\\implies x_k = l_{jk}\\bar{x_j}$"
   ]
  },
  {
   "cell_type": "markdown",
   "metadata": {},
   "source": [
    "Note: $I_{ij}I_{kj}$ is actually the dot product of the ith row by the kth row, while $I_{ij}I_{jk}$ is the product of the jth row & the jth column. In other words, \n",
    "* $I_{ij}I_{kj}$ is the dot product of two $\\parallel$ vectors, divided by the product of the norms of the vectors.\n",
    "* $I_{ij}I_{jk}$ is the dot product of two $\\bot$ vectors, divided by the product of the norms of the vectors."
   ]
  },
  {
   "cell_type": "markdown",
   "metadata": {},
   "source": [
    "$v_i = l_iv \\tag{1a}$\n",
    "$\\bar{v_j} = v\\bar{l_j} \\tag{1b}$\n",
    "\n",
    "$\\bar{l_j} = l_{ij}l_i \\tag{2a}$\n",
    "$l_i = l_{ij}\\bar{l_j} \\tag{2b}$"
   ]
  },
  {
   "cell_type": "code",
   "execution_count": 233,
   "metadata": {},
   "outputs": [
    {
     "data": {
      "text/latex": [
       "\\[\\bar{v_j} = \\bar{l_j} v\\]"
      ]
     },
     "metadata": {},
     "output_type": "display_data"
    },
    {
     "name": "stdout",
     "output_type": "stream",
     "text": [
      "Substitute eq 2a\n"
     ]
    },
    {
     "data": {
      "text/latex": [
       "\\[\\bar{v_j} = l_{i} l_{ij} v\\]"
      ]
     },
     "metadata": {},
     "output_type": "display_data"
    },
    {
     "name": "stdout",
     "output_type": "stream",
     "text": [
      "Substitute eq 1a\n"
     ]
    },
    {
     "data": {
      "text/latex": [
       "\\[\\bar{v_j} = l_{ij} v_{i}\\]"
      ]
     },
     "metadata": {},
     "output_type": "display_data"
    }
   ],
   "source": [
    "i, j, v_i, v_j, v_bar_i, v_bar_j, l_bar_i, l_bar_j = sp.symbols('i j v_i v_j \\\\bar{v_i} \\\\bar{v_j} \\\\bar{l_i} \\\\bar{l_j}')\n",
    "l_i, l_j = sp.symbols('l_i l_j')\n",
    "v, l = sp.symbols('v l')\n",
    "l_ij = sp.symbols('l_{ij}')\n",
    "\n",
    "f = v * l_bar_j # From eq 1b\n",
    "display_equation('\\\\bar{v_j}', f)\n",
    "print('Substitute eq 2a')\n",
    "f = f.subs(l_bar_j, l_ij * l_i) # From eq 2a\n",
    "display_equation('\\\\bar{v_j}', f)\n",
    "print('Substitute eq 1a')\n",
    "f = f.subs(v, v_i / l_i) # From eq 1a\n",
    "display_equation('\\\\bar{v_j}', f)"
   ]
  },
  {
   "cell_type": "markdown",
   "metadata": {},
   "source": [
    "### Rank of a Tensor"
   ]
  },
  {
   "cell_type": "markdown",
   "metadata": {},
   "source": [
    "| Tensor | Symbol | Rank |\n",
    "|---|---|---|\n",
    "| Scalar | $A$ | zero |\n",
    "| Contravariant Tensor | $B^i$ | 1 |\n",
    "| Covariant Tensor | $C_k$ | 1 |\n",
    "| Covariant Tensor | $D_{ij}$ | 2 |\n",
    "| Mixed Tensor | $E^{il}_{jkl}$ | 3 |\n",
    "\n",
    "In an n-dimensional space, the number of components of a tensor of rank $r$ is $n^r$."
   ]
  },
  {
   "cell_type": "markdown",
   "metadata": {},
   "source": [
    "**First Order**  \n",
    "$a_i = l_{ij}\\bar{a}_j$  \n",
    "$\\bar{a}_p = l_{ip}a_i$\n",
    "\n",
    "**Second Order**  \n",
    "$\\bar{a}_{pq} = l_{ip}l_{jp}a_{ij}$  \n",
    "\n",
    "**Any Order**  \n",
    "$\\bar{a}_{pqrs}... = l_{ip}l_{jp}l_{kr}l_{ls}...a_{ijkl}$"
   ]
  },
  {
   "cell_type": "markdown",
   "metadata": {},
   "source": [
    "#### Indexed variables"
   ]
  },
  {
   "cell_type": "code",
   "execution_count": 382,
   "metadata": {},
   "outputs": [
    {
     "data": {
      "text/latex": [
       "$\\displaystyle {A}_{Idx\\left(k, \\left( 0, \\  n\\right)\\right),Idx\\left(j, \\left( 1, \\  n\\right)\\right)} {a}_{Idx\\left(i, \\left( 1, \\  n\\right)\\right),Idx\\left(j, \\left( 1, \\  n\\right)\\right)} = \\Delta \\delta_{Idx\\left(i, \\left( 1, \\  n\\right)\\right) Idx\\left(k, \\left( 0, \\  n\\right)\\right)}$"
      ],
      "text/plain": [
       "Eq(A[k, j]*a[i, j], \\Delta*KroneckerDelta(i, k))"
      ]
     },
     "metadata": {},
     "output_type": "display_data"
    },
    {
     "name": "stdout",
     "output_type": "stream",
     "text": [
      "Using k = i\n"
     ]
    },
    {
     "data": {
      "text/latex": [
       "$\\displaystyle {A}_{Idx\\left(i, \\left( 1, \\  n\\right)\\right),Idx\\left(j, \\left( 1, \\  n\\right)\\right)} {a}_{Idx\\left(i, \\left( 1, \\  n\\right)\\right),Idx\\left(j, \\left( 1, \\  n\\right)\\right)} = \\Delta$"
      ],
      "text/plain": [
       "Eq(A[i, j]*a[i, j], \\Delta)"
      ]
     },
     "metadata": {},
     "output_type": "display_data"
    }
   ],
   "source": [
    "Delta = symbols('\\\\Delta')\n",
    "n, m = symbols('n m', integer=True)\n",
    "i = Idx('i', (1, n))\n",
    "j = Idx('j', (1, n))\n",
    "k = Idx('k', (0, n))\n",
    "A = IndexedBase('A', shape=(m, n))\n",
    "a = IndexedBase('a', shape=(m, n))\n",
    "e = Eq(a[i,j] *  A[k,j], Delta * KroneckerDelta(i, k))\n",
    "display(e)\n",
    "print('Using k = i')\n",
    "display(e.subs(k, i))"
   ]
  },
  {
   "cell_type": "code",
   "execution_count": 344,
   "metadata": {},
   "outputs": [],
   "source": [
    "a, b, c, d, e, f = symbols('a:f')\n",
    "u1, u2, u3, v1, v2, v3 = symbols('u_1 u_2 u_3 v_1 v_2 v_3')\n",
    "E = ReferenceFrame('E')\n",
    "u = u1 * E.x + u2 * E.y + u3 * E.z\n",
    "v = v1 * E.x + v2 * E.y + v3 * E.z"
   ]
  },
  {
   "cell_type": "markdown",
   "metadata": {},
   "source": [
    "#### Dot Product"
   ]
  },
  {
   "cell_type": "code",
   "execution_count": 345,
   "metadata": {},
   "outputs": [
    {
     "data": {
      "text/latex": [
       "$\\displaystyle u_{1} v_{1} + u_{2} v_{2} + u_{3} v_{3}$"
      ],
      "text/plain": [
       "u_1*v_1 + u_2*v_2 + u_3*v_3"
      ]
     },
     "execution_count": 345,
     "metadata": {},
     "output_type": "execute_result"
    }
   ],
   "source": [
    "u & v"
   ]
  },
  {
   "cell_type": "markdown",
   "metadata": {},
   "source": [
    "#### Cross Product"
   ]
  },
  {
   "cell_type": "code",
   "execution_count": 346,
   "metadata": {},
   "outputs": [
    {
     "data": {
      "text/latex": [
       "$\\displaystyle (u_{2} v_{3} - u_{3} v_{2})\\mathbf{\\hat{e}_x} + (- u_{1} v_{3} + u_{3} v_{1})\\mathbf{\\hat{e}_y} + (u_{1} v_{2} - u_{2} v_{1})\\mathbf{\\hat{e}_z}$"
      ],
      "text/plain": [
       "(u_2*v_3 - u_3*v_2)*E.x + (-u_1*v_3 + u_3*v_1)*E.y + (u_1*v_2 - u_2*v_1)*E.z"
      ]
     },
     "execution_count": 346,
     "metadata": {},
     "output_type": "execute_result"
    }
   ],
   "source": [
    "u ^ v"
   ]
  },
  {
   "cell_type": "markdown",
   "metadata": {},
   "source": [
    "#### The Three Scalar Invariants of a Second Order Tensor"
   ]
  },
  {
   "cell_type": "code",
   "execution_count": 367,
   "metadata": {},
   "outputs": [],
   "source": [
    "n = 3\n",
    "i = Idx('i', (1, n))\n",
    "j = Idx('j', (1, n))\n",
    "p = Idx('p', (1, n))\n",
    "q = Idx('q', (1, n))\n",
    "a = IndexedBase('a', shape=(n, n))"
   ]
  },
  {
   "cell_type": "markdown",
   "metadata": {},
   "source": [
    "1. $a_{ii}$"
   ]
  },
  {
   "cell_type": "code",
   "execution_count": 368,
   "metadata": {},
   "outputs": [
    {
     "data": {
      "text/latex": [
       "$\\displaystyle {a}_{1,1} + {a}_{2,2} + {a}_{3,3}$"
      ],
      "text/plain": [
       "a[1, 1] + a[2, 2] + a[3, 3]"
      ]
     },
     "execution_count": 368,
     "metadata": {},
     "output_type": "execute_result"
    }
   ],
   "source": [
    "Sum(a[i,i], (i, 1, n)).doit()"
   ]
  },
  {
   "cell_type": "markdown",
   "metadata": {},
   "source": [
    "2. $\\frac{1}{2} (a_{ii}a_{jj} - a_{ij}a_{ji})$"
   ]
  },
  {
   "cell_type": "code",
   "execution_count": 380,
   "metadata": {},
   "outputs": [
    {
     "data": {
      "text/latex": [
       "$\\displaystyle {a}_{1,1}^{2} - {a}_{1,2} {a}_{2,1} - {a}_{1,3} {a}_{3,1} + {a}_{2,2}^{2} - {a}_{2,3} {a}_{3,2} + {a}_{3,3}^{2}$"
      ],
      "text/plain": [
       "a[1, 1]**2 - a[1, 2]*a[2, 1] - a[1, 3]*a[3, 1] + a[2, 2]**2 - a[2, 3]*a[3, 2] + a[3, 3]**2"
      ]
     },
     "execution_count": 380,
     "metadata": {},
     "output_type": "execute_result"
    }
   ],
   "source": [
    "S('1/2') * Sum(a[i,i] * a[i,i] - a[i,j] * a[j,i] , (i, 1, n), (j, 1, n)).doit()"
   ]
  },
  {
   "cell_type": "markdown",
   "metadata": {},
   "source": [
    "3. $|a_{ij}|$"
   ]
  },
  {
   "cell_type": "markdown",
   "metadata": {},
   "source": [
    "#### Singular Tensor  \n",
    "$|a_{ij}| = 0$"
   ]
  },
  {
   "cell_type": "markdown",
   "metadata": {},
   "source": [
    "#### Tensor Product"
   ]
  },
  {
   "cell_type": "code",
   "execution_count": 27,
   "metadata": {},
   "outputs": [],
   "source": [
    "from sympy.abc import x,y,z,t\n",
    "n = 3\n",
    "a = IndexedBase('a', shape=(n))\n",
    "b = IndexedBase('b', shape=(n))"
   ]
  },
  {
   "cell_type": "code",
   "execution_count": 68,
   "metadata": {},
   "outputs": [
    {
     "data": {
      "text/latex": [
       "$\\displaystyle \\left[\\begin{matrix}{a}_{1}\\\\{a}_{2}\\end{matrix}\\right]$"
      ],
      "text/plain": [
       "⎡a[1]⎤\n",
       "⎢    ⎥\n",
       "⎣a[2]⎦"
      ]
     },
     "metadata": {},
     "output_type": "display_data"
    },
    {
     "data": {
      "text/latex": [
       "$\\displaystyle \\left[\\begin{matrix}{b}_{1}\\\\{b}_{2}\\end{matrix}\\right]$"
      ],
      "text/plain": [
       "⎡b[1]⎤\n",
       "⎢    ⎥\n",
       "⎣b[2]⎦"
      ]
     },
     "metadata": {},
     "output_type": "display_data"
    },
    {
     "data": {
      "text/latex": [
       "$\\displaystyle \\left[\\begin{matrix}{a}_{1} {b}_{1}\\\\{a}_{1} {b}_{2}\\\\{a}_{2} {b}_{1}\\\\{a}_{2} {b}_{2}\\end{matrix}\\right]$"
      ],
      "text/plain": [
       "⎡a[1]⋅b[1]⎤\n",
       "⎢         ⎥\n",
       "⎢a[1]⋅b[2]⎥\n",
       "⎢         ⎥\n",
       "⎢a[2]⋅b[1]⎥\n",
       "⎢         ⎥\n",
       "⎣a[2]⋅b[2]⎦"
      ]
     },
     "execution_count": 68,
     "metadata": {},
     "output_type": "execute_result"
    }
   ],
   "source": [
    "from sympy.physics.quantum import TensorProduct\n",
    "n = 2\n",
    "A = zeros(1, n)\n",
    "B = zeros(1, n)\n",
    "#A = Array([a[1], a[2]])\n",
    "#B = Array([b[1], b[2]])\n",
    "#display(A.rank())\n",
    "#display(B.rank())\n",
    "#tensorproduct(A, B).rank()\n",
    "\n",
    "for i in range(n):\n",
    "    A[i] = a[i + 1]\n",
    "    B[i] = b[i + 1]\n",
    "\n",
    "display(A.T)\n",
    "display(B.T)\n",
    "TensorProduct(A.T, B.T)"
   ]
  },
  {
   "cell_type": "code",
   "execution_count": 14,
   "metadata": {},
   "outputs": [
    {
     "data": {
      "text/plain": [
       "array([[1, 2],\n",
       "       [3, 5]])"
      ]
     },
     "execution_count": 14,
     "metadata": {},
     "output_type": "execute_result"
    }
   ],
   "source": [
    "A = np.array([[1, 2],[3, 5]])\n",
    "B = np.array([[1, 2],[3, 5]])\n",
    "C = np.array([[1, 2],[3, 5]])"
   ]
  },
  {
   "cell_type": "code",
   "execution_count": 15,
   "metadata": {},
   "outputs": [
    {
     "data": {
      "text/plain": [
       "array([[1, 2],\n",
       "       [3, 5]])"
      ]
     },
     "execution_count": 15,
     "metadata": {},
     "output_type": "execute_result"
    }
   ],
   "source": [
    "Matrix(A)\n",
    "A"
   ]
  },
  {
   "cell_type": "code",
   "execution_count": null,
   "metadata": {},
   "outputs": [],
   "source": []
  },
  {
   "cell_type": "code",
   "execution_count": null,
   "metadata": {},
   "outputs": [],
   "source": []
  }
 ],
 "metadata": {
  "kernelspec": {
   "display_name": "Python 3",
   "language": "python",
   "name": "python3"
  },
  "language_info": {
   "codemirror_mode": {
    "name": "ipython",
    "version": 3
   },
   "file_extension": ".py",
   "mimetype": "text/x-python",
   "name": "python",
   "nbconvert_exporter": "python",
   "pygments_lexer": "ipython3",
   "version": "3.8.6rc1"
  }
 },
 "nbformat": 4,
 "nbformat_minor": 2
}
