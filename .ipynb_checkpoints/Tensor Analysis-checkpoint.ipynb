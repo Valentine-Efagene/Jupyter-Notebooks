{
 "cells": [
  {
   "cell_type": "markdown",
   "metadata": {},
   "source": [
    "# References"
   ]
  },
  {
   "cell_type": "markdown",
   "metadata": {},
   "source": [
    "1. Joseph C. Kolecki, (September 2002) An Introduction to Tensors for Students of Physics and Engineering National Aeronautics and Space Administration, Glenn Research Center, Cleveland, Ohio 44135\n",
    "2. Daniel A Fleisch - A student's guide to vectors and tensors (2012, Cambridge University Press)\n",
    "3. [H.K._Dass]_Advanced_Engineering_Mathematics(z-lib.org) (21st Revised Edition)\n",
    "4. K.A. Stroud, Dexter J. Booth, Advanced Engineering Mathematics"
   ]
  },
  {
   "cell_type": "markdown",
   "metadata": {},
   "source": [
    "## Imports"
   ]
  },
  {
   "cell_type": "code",
   "execution_count": 5,
   "metadata": {},
   "outputs": [],
   "source": [
    "import numpy as np\n",
    "import math\n",
    "import sympy\n",
    "import sympy as sp\n",
    "from sympy import Eq, IndexedBase, symbols, Idx, Indexed, Sum, S, N\n",
    "from sympy.functions.special.tensor_functions import KroneckerDelta\n",
    "from sympy.vector import Vector, CoordSys3D, AxisOrienter, BodyOrienter, Del, curl, divergence, gradient, is_conservative, is_solenoidal, scalar_potential, Point, scalar_potential_difference, Del, express, matrix_to_vector\n",
    "import matplotlib.pyplot as plt\n",
    "from sympy.physics.vector import ReferenceFrame\n",
    "import matplotlib as mpl\n",
    "from mpl_toolkits.mplot3d import Axes3D\n",
    "from IPython.display import display\n",
    "from IPython.display import display_latex\n",
    "from sympy import latex\n",
    "from sympy import Array, Matrix, transpose, zeros, diff, Function, Derivative, cos, sin, sqrt, solve, linsolve, acos, atan, asin\n",
    "\n",
    "from sympy import symbols\n",
    "from sympy.plotting import plot"
   ]
  },
  {
   "cell_type": "markdown",
   "metadata": {},
   "source": [
    "## Setup"
   ]
  },
  {
   "cell_type": "code",
   "execution_count": 2,
   "metadata": {},
   "outputs": [],
   "source": [
    "sympy.init_printing()\n",
    "np.set_printoptions(precision=3)"
   ]
  },
  {
   "cell_type": "code",
   "execution_count": 3,
   "metadata": {},
   "outputs": [],
   "source": [
    "a, b, c, d, e, f, g, h, i, j, k, l, m, n, o, p, q, r, s, t, u, v, w, x, y, z = sympy.symbols('a:z')\n",
    "a_1, a_2, a_3, b_1, b_2, b_3, c_1, c_2, c_3, d_1, d_2, d_3 = symbols('a_1 a_2 a_3 b_1 b_2 b_3 c_1 c_2 c_3 d_1 d_2 d_3')\n",
    "u_1, u_2, u_3, v_1, v_2, v_3, h_1, h_2, h_3 = symbols('u_1 u_2 u_3 v_1 v_2 v_3 h_1 h_2 h_3')\n",
    "alpha, beta, gamma, theta, phi, rho, omega = sympy.symbols('alpha beta gamma theta phi rho omega')\n",
    "Alpha, Beta, Gamma, Theta, Phi, Rho, Omega = sympy.symbols('Alpha Beta Gamma Theta Phi Rho Omega')"
   ]
  },
  {
   "cell_type": "markdown",
   "metadata": {},
   "source": [
    "## $LaTeX$ Cheat Sheet"
   ]
  },
  {
   "cell_type": "markdown",
   "metadata": {},
   "source": [
    "### Symbols"
   ]
  },
  {
   "cell_type": "markdown",
   "metadata": {},
   "source": [
    "$\\mathbb{R}$  \n",
    "$\\bar{R}$  \n",
    "$\\frac{\\partial^2 R}{\\partial t}$  \n",
    "$\\overline{R}$  \n",
    "$\\vec{R}$  \n",
    "$\\hat{x}$  \n",
    "$\\widehat{x}$  \n",
    "$\\therefore$  \n",
    "$\\because$  \n",
    "$\\Rightarrow$  \n",
    "$\\rightarrow$  \n",
    "$\\implies$  \n",
    "$\\iff$  \n",
    "$\\leftrightarrow$  \n",
    "$\\Leftrightarrow$  \n",
    "$\\equiv$  \n",
    "$\\subset$  \n",
    "$\\supset$  \n",
    "$\\wedge$  \n",
    "$\\parallel$  \n",
    "$\\oplus$  \n",
    "$\\ominus$  \n",
    "$\\otimes$  \n",
    "$\\times$  \n",
    "$\\top$  \n",
    "$\\bot$  \n",
    "$\\forall$  \n",
    "$\\exists$  \n",
    "$\\exists!$  "
   ]
  },
  {
   "cell_type": "markdown",
   "metadata": {},
   "source": [
    "## Functions"
   ]
  },
  {
   "cell_type": "code",
   "execution_count": 9,
   "metadata": {},
   "outputs": [],
   "source": [
    "# Usage: display_equation('u_x', x)\n",
    "def display_equation(idx, symObj):\n",
    "    if(isinstance(idx, str)):\n",
    "        eqn = '\\\\[' + idx + ' = ' + latex(symObj) + '\\\\]'\n",
    "        display_latex(eqn, raw=True)\n",
    "    else:\n",
    "        eqn = '\\\\[' + latex(idx) + ' = ' + latex(symObj) + '\\\\]'\n",
    "        display_latex(eqn, raw=True)\n",
    "    return"
   ]
  },
  {
   "cell_type": "code",
   "execution_count": 10,
   "metadata": {},
   "outputs": [],
   "source": [
    "# Usage: display_full_latex('u_x')\n",
    "def display_full_latex(idx):\n",
    "    if(isinstance(idx, str)):\n",
    "        eqn = '\\\\[' + idx + '\\\\]'\n",
    "        display_latex(eqn, raw=True)\n",
    "    else:\n",
    "        eqn = '\\\\[' + latex(idx) + '\\\\]'\n",
    "        display_latex(eqn, raw=True)\n",
    "    return"
   ]
  },
  {
   "cell_type": "code",
   "execution_count": 187,
   "metadata": {},
   "outputs": [],
   "source": [
    "def vplot2d(O, a, origin_label='O', tip_label='P'):\n",
    "    dx = a[0][0] - O[0][0]\n",
    "    dy = a[1][0] - O[1][0]\n",
    "\n",
    "    head_length = 0.3\n",
    "    vec_ab = [dx,dy]\n",
    "\n",
    "    vec_ab_magnitude = math.sqrt(dx**2+dy**2)\n",
    "\n",
    "    dx = dx / vec_ab_magnitude\n",
    "    dy = dy / vec_ab_magnitude\n",
    "\n",
    "    vec_ab_magnitude = vec_ab_magnitude - head_length\n",
    "\n",
    "    ax = plt.axes()\n",
    "    ax.set_aspect('equal', 'box')\n",
    "    #ax.axis([-range, range, -range, range]) Sub for xlim and ylim\n",
    "\n",
    "    ax.arrow(O[0][0], O[1][0], vec_ab_magnitude*dx, vec_ab_magnitude*dy, head_width=0.1, head_length=head_length, fc='lightblue', ec='black')\n",
    "    plt.scatter(O[0][0],O[1][0],color='black')\n",
    "    plt.scatter(a[0][0],a[1][0],color='black')\n",
    "\n",
    "    ax.annotate(origin_label, (O[0][0]-0.4,O[1][0]),fontsize=14)\n",
    "    ax.annotate(tip_label, (a[0][0]+0.3,a[1][0]),fontsize=14)\n",
    "    return"
   ]
  },
  {
   "cell_type": "code",
   "execution_count": 235,
   "metadata": {},
   "outputs": [],
   "source": [
    "def rotation(theta):\n",
    "    R = zeros(3, 3)\n",
    "    R[0,0] = cos(theta)\n",
    "    R[0,1] = -sin(theta)\n",
    "    R[0,2] = 0\n",
    "    R[1,0] = sin(theta)\n",
    "    R[1,1] = cos(theta)\n",
    "    R[1,2] = 0\n",
    "    R[2,0] = 0\n",
    "    R[2,1] = 0\n",
    "    R[2,2] = 1\n",
    "    return R\n",
    "    return R"
   ]
  },
  {
   "cell_type": "code",
   "execution_count": 348,
   "metadata": {},
   "outputs": [],
   "source": [
    "def inRadians(theta):\n",
    "    return (sympy.pi / 180) * theta\n",
    "\n",
    "def inDegrees(theta):\n",
    "    return theta * (180 / sympy.pi)"
   ]
  },
  {
   "cell_type": "markdown",
   "metadata": {},
   "source": [
    "### Coordinate Transformation"
   ]
  },
  {
   "cell_type": "code",
   "execution_count": 12,
   "metadata": {},
   "outputs": [],
   "source": [
    "x_prime, y_prime, z_prime = sympy.symbols('x\\' y\\' z\\'')\n",
    "l_1, l_2, l_3, m_1, m_2, m_3, n_1, n_2, n_3 = sympy.symbols('l_1 l_2 l_3 m_1, m_2 m_3 n_1 n_2 n_3')\n",
    "x, y, z = sympy.symbols('x y z')"
   ]
  },
  {
   "cell_type": "code",
   "execution_count": 13,
   "metadata": {},
   "outputs": [
    {
     "data": {
      "text/latex": [
       "\\[x' = l_{1} x + m_{1} y + n_{1} z\\]"
      ]
     },
     "metadata": {},
     "output_type": "display_data"
    },
    {
     "data": {
      "text/latex": [
       "\\[y' = l_{2} x + m_{2} y + n_{2} z\\]"
      ]
     },
     "metadata": {},
     "output_type": "display_data"
    },
    {
     "data": {
      "text/latex": [
       "\\[z' = l_{3} x + m_{3} y + n_{3} z\\]"
      ]
     },
     "metadata": {},
     "output_type": "display_data"
    }
   ],
   "source": [
    "x_prime, y_prime, z_prime = sp.symbols('x\\' y\\' z\\'')\n",
    "l_1, l_2, l_3, m_1, m_2, m_3, n_1, n_2, n_3 = sp.symbols('l_1 l_2 l_3 m_1, m_2 m_3 n_1 n_2 n_3')\n",
    "x, y, z = sp.symbols('x y z')\n",
    "\n",
    "# Equation 1\n",
    "x_prime = l_1 * x + m_1 * y + n_1 * z\n",
    "y_prime = l_2 * x + m_2 * y + n_2 * z\n",
    "z_prime = l_3 * x + m_3 * y + n_3 * z\n",
    "\n",
    "display_equation('x\\'', x_prime)\n",
    "display_equation('y\\'', y_prime)\n",
    "display_equation('z\\'', z_prime)"
   ]
  },
  {
   "cell_type": "code",
   "execution_count": 114,
   "metadata": {},
   "outputs": [
    {
     "data": {
      "text/latex": [
       "\\[x' = l_{1} x' + m_{1} y' + n_{1} z'\\]"
      ]
     },
     "metadata": {},
     "output_type": "display_data"
    },
    {
     "data": {
      "text/latex": [
       "\\[y' = l_{2} x' + m_{2} y' + n_{2} z'\\]"
      ]
     },
     "metadata": {},
     "output_type": "display_data"
    },
    {
     "data": {
      "text/latex": [
       "\\[z' = l_{3} x' + m_{3} y' + n_{3} z'\\]"
      ]
     },
     "metadata": {},
     "output_type": "display_data"
    }
   ],
   "source": [
    "# Redefining the primes so equation 1 doesn't get substituted in\n",
    "x_prime, y_prime, z_prime = sp.symbols('x\\' y\\' z\\'', Integer=True)\n",
    "\n",
    "x = l_1 * x_prime + m_1 * y_prime + n_1 * z_prime\n",
    "y = l_2 * x_prime + m_2 * y_prime + n_2 * z_prime\n",
    "z = l_3 * x_prime + m_3 * y_prime + n_3 * z_prime\n",
    "\n",
    "display_equation('x\\'', x)\n",
    "display_equation('y\\'', y)\n",
    "display_equation('z\\'', z)"
   ]
  },
  {
   "cell_type": "markdown",
   "metadata": {},
   "source": [
    "|  | $x$ | $y$ | $z$ |\n",
    "|---|---|---|---|\n",
    "| $x'$ | $l_1$ | $m_1$ | $n_1$ |\n",
    "| $y'$ | $l_2$ | $m_2$ | $n_2$ |\n",
    "| $z'$ | $l_3$ | $m_3$ | $n_3$ |"
   ]
  },
  {
   "cell_type": "markdown",
   "metadata": {},
   "source": [
    "### OR"
   ]
  },
  {
   "cell_type": "markdown",
   "metadata": {},
   "source": [
    "$\\bar{x_1} = l_{11}x_1 + l_{21}x_2 + l_{31}x_3$  \n",
    "$\\bar{x_2} = l_{13}x_1 + l_{22}x_2 + l_{32}x_3$  \n",
    "$\\bar{x_3} = l_{13}x_1 + l_{23}x_2 + l_{33}x_3$  \n",
    "\n",
    "$x_1 = l_{11}\\bar{x_1} + l_{12}\\bar{x_2} + l_{13}\\bar{x_3}$  \n",
    "$x_2 = l_{21}\\bar{x_1} + l_{22}\\bar{x_2} + l_{23}\\bar{x_3}$  \n",
    "$x_3 = l_{31}\\bar{x_1} + l_{32}\\bar{x_2} + l_{33}\\bar{x_3}$  "
   ]
  },
  {
   "cell_type": "markdown",
   "metadata": {},
   "source": [
    "### With column by row indexing"
   ]
  },
  {
   "cell_type": "markdown",
   "metadata": {},
   "source": [
    "|  | $x_1$ | $x_2$ | $x_3$ |\n",
    "|---|---|---|---|\n",
    "| $\\bar{x_1}$ | $l_{11}$ | $l_{21}$ | $l_{31}$ |\n",
    "| $\\bar{x_2}$ | $l_{12}$ | $l_{22}$ | $l_{32}$ |\n",
    "| $\\bar{x_3}$ | $l_{13}$ | $l_{23}$ | $l_{33}$ |"
   ]
  },
  {
   "cell_type": "markdown",
   "metadata": {},
   "source": [
    "$\\bar{x_j} = l_{ji}x_i$  \n",
    "$x_i = l_{ji}\\bar{x_j}$  \n",
    "Where  \n",
    "$i$ = column  \n",
    "$j$ = row "
   ]
  },
  {
   "cell_type": "markdown",
   "metadata": {},
   "source": [
    "#### With row by column indexing (More common matrix indexing, used here)"
   ]
  },
  {
   "cell_type": "markdown",
   "metadata": {},
   "source": [
    "|  | $\\bar{x_1}$ | $\\bar{x_2}$ | $\\bar{x_3}$ |\n",
    "|---|---|---|---|\n",
    "| $x_1$ | $l_{11}$ | $l_{12}$ | $l_{13}$ |\n",
    "| $x_2$ | $l_{21}$ | $l_{22}$ | $l_{23}$ |\n",
    "| $x_3$ | $l_{31}$ | $l_{32}$ | $l_{33}$ |"
   ]
  },
  {
   "cell_type": "markdown",
   "metadata": {},
   "source": [
    "$x_i = l_{ij}\\bar{x_j}$  \n",
    "$\\bar{x_j} = l_{ij}x_i$  \n",
    "Where  \n",
    "$i$ = row  \n",
    "$j$ = column "
   ]
  },
  {
   "cell_type": "markdown",
   "metadata": {},
   "source": [
    "#### Relation between the Direction Cosines of Three Mutually Perpendicular Straight Lines"
   ]
  },
  {
   "cell_type": "markdown",
   "metadata": {},
   "source": [
    "1. The dot product between any two is 0.\n",
    "2. The dot product of any vector on itself is 1."
   ]
  },
  {
   "cell_type": "markdown",
   "metadata": {},
   "source": [
    "In Einstein summation notation"
   ]
  },
  {
   "cell_type": "code",
   "execution_count": 135,
   "metadata": {},
   "outputs": [
    {
     "data": {
      "text/latex": [
       "\\[I_{ij}I_{kj} = \\begin{cases} 1 & \\text{for}\\: i = k \\\\0 & \\text{otherwise} \\end{cases}\\]"
      ]
     },
     "metadata": {},
     "output_type": "display_data"
    },
    {
     "data": {
      "text/latex": [
       "\\[\\delta_{kj} = \\begin{cases} 1 & \\text{for}\\: i = k \\\\0 & \\text{otherwise} \\end{cases}\\]"
      ]
     },
     "metadata": {},
     "output_type": "display_data"
    },
    {
     "data": {
      "text/latex": [
       "\\[\\therefore\\]"
      ]
     },
     "metadata": {},
     "output_type": "display_data"
    },
    {
     "data": {
      "text/latex": [
       "\\[I_{ij}I_{kj} = \\delta_{i k}\\]"
      ]
     },
     "metadata": {},
     "output_type": "display_data"
    }
   ],
   "source": [
    "i, k = sympy.symbols('i k')\n",
    "display_equation('I_{ij}I_{kj}', sp.Piecewise((1, sp.Eq(i, k)), (0, sp.Ne(i, k))))\n",
    "display_equation('\\delta_{kj}', sp.Piecewise((1, sp.Eq(i, k)), (0, sp.Ne(i, k))))\n",
    "display_full_latex('\\\\therefore')\n",
    "display_equation('I_{ij}I_{kj}', KroneckerDelta(i, k))"
   ]
  },
  {
   "cell_type": "code",
   "execution_count": 181,
   "metadata": {},
   "outputs": [
    {
     "data": {
      "text/latex": [
       "\\[\\bar{x_j} = {I}_{i,j} {x}_{i}\\]"
      ]
     },
     "metadata": {},
     "output_type": "display_data"
    },
    {
     "data": {
      "text/latex": [
       "\\[l_{jk}\\bar{x_j} = {I}_{i,j} {l}_{j,k} {x}_{i}\\]"
      ]
     },
     "metadata": {},
     "output_type": "display_data"
    },
    {
     "data": {
      "text/latex": [
       "\\[l_{jk}\\bar{x_j} = {I}_{i,j} {l}_{j,k} {x}_{i}\\]"
      ]
     },
     "metadata": {},
     "output_type": "display_data"
    },
    {
     "data": {
      "text/latex": [
       "\\[l_{jk}\\bar{x_j} = {I}_{k,j} {l}_{j,k} {x}_{k}\\]"
      ]
     },
     "metadata": {},
     "output_type": "display_data"
    }
   ],
   "source": [
    "i, j, k = sp.symbols('i j k')\n",
    "l = sp.IndexedBase('l')\n",
    "sp.x_bar_j = l[i, j] * x[i]\n",
    "display_equation('\\\\bar{x_j}', x_bar_j)\n",
    "f = x_bar_j * l[j, k]\n",
    "display_equation('l_{jk}\\\\bar{x_j}', f)\n",
    "f = f.subs(l[i, j] * l[j, k], KroneckerDelta(i, k))\n",
    "display_equation('l_{jk}\\\\bar{x_j}', f)\n",
    "f = f.subs(i, k)\n",
    "display_equation('l_{jk}\\\\bar{x_j}', f)"
   ]
  },
  {
   "cell_type": "markdown",
   "metadata": {},
   "source": [
    "$\\implies x_k = l_{jk}\\bar{x_j}$"
   ]
  },
  {
   "cell_type": "markdown",
   "metadata": {},
   "source": [
    "Note: $I_{ij}I_{kj}$ is actually the dot product of the ith row by the kth row, while $I_{ij}I_{jk}$ is the product of the jth row & the jth column. In other words, \n",
    "* $I_{ij}I_{kj}$ is the dot product of two $\\parallel$ vectors, divided by the product of the norms of the vectors.\n",
    "* $I_{ij}I_{jk}$ is the dot product of two $\\bot$ vectors, divided by the product of the norms of the vectors."
   ]
  },
  {
   "cell_type": "markdown",
   "metadata": {},
   "source": [
    "$v_i = l_iv \\tag{1a}$\n",
    "$\\bar{v_j} = v\\bar{l_j} \\tag{1b}$\n",
    "\n",
    "$\\bar{l_j} = l_{ij}l_i \\tag{2a}$\n",
    "$l_i = l_{ij}\\bar{l_j} \\tag{2b}$"
   ]
  },
  {
   "cell_type": "code",
   "execution_count": 233,
   "metadata": {},
   "outputs": [
    {
     "data": {
      "text/latex": [
       "\\[\\bar{v_j} = \\bar{l_j} v\\]"
      ]
     },
     "metadata": {},
     "output_type": "display_data"
    },
    {
     "name": "stdout",
     "output_type": "stream",
     "text": [
      "Substitute eq 2a\n"
     ]
    },
    {
     "data": {
      "text/latex": [
       "\\[\\bar{v_j} = l_{i} l_{ij} v\\]"
      ]
     },
     "metadata": {},
     "output_type": "display_data"
    },
    {
     "name": "stdout",
     "output_type": "stream",
     "text": [
      "Substitute eq 1a\n"
     ]
    },
    {
     "data": {
      "text/latex": [
       "\\[\\bar{v_j} = l_{ij} v_{i}\\]"
      ]
     },
     "metadata": {},
     "output_type": "display_data"
    }
   ],
   "source": [
    "i, j, v_i, v_j, v_bar_i, v_bar_j, l_bar_i, l_bar_j = sp.symbols('i j v_i v_j \\\\bar{v_i} \\\\bar{v_j} \\\\bar{l_i} \\\\bar{l_j}')\n",
    "l_i, l_j = sp.symbols('l_i l_j')\n",
    "v, l = sp.symbols('v l')\n",
    "l_ij = sp.symbols('l_{ij}')\n",
    "\n",
    "f = v * l_bar_j # From eq 1b\n",
    "display_equation('\\\\bar{v_j}', f)\n",
    "print('Substitute eq 2a')\n",
    "f = f.subs(l_bar_j, l_ij * l_i) # From eq 2a\n",
    "display_equation('\\\\bar{v_j}', f)\n",
    "print('Substitute eq 1a')\n",
    "f = f.subs(v, v_i / l_i) # From eq 1a\n",
    "display_equation('\\\\bar{v_j}', f)"
   ]
  },
  {
   "cell_type": "markdown",
   "metadata": {},
   "source": [
    "### Rank of a Tensor"
   ]
  },
  {
   "cell_type": "markdown",
   "metadata": {},
   "source": [
    "| Tensor | Symbol | Rank |\n",
    "|---|---|---|\n",
    "| Scalar | $A$ | zero |\n",
    "| Contravariant Tensor | $B^i$ | 1 |\n",
    "| Covariant Tensor | $C_k$ | 1 |\n",
    "| Covariant Tensor | $D_{ij}$ | 2 |\n",
    "| Mixed Tensor | $E^{il}_{jkl}$ | 3 |\n",
    "\n",
    "In an n-dimensional space, the number of components of a tensor of rank $r$ is $n^r$."
   ]
  },
  {
   "cell_type": "markdown",
   "metadata": {},
   "source": [
    "**First Order**  \n",
    "$a_i = l_{ij}\\bar{a}_j$  \n",
    "$\\bar{a}_p = l_{ip}a_i$\n",
    "\n",
    "**Second Order**  \n",
    "$\\bar{a}_{pq} = l_{ip}l_{jp}a_{ij}$  \n",
    "\n",
    "**Any Order**  \n",
    "$\\bar{a}_{pqrs}... = l_{ip}l_{jp}l_{kr}l_{ls}...a_{ijkl}$"
   ]
  },
  {
   "cell_type": "markdown",
   "metadata": {},
   "source": [
    "#### Indexed variables"
   ]
  },
  {
   "cell_type": "code",
   "execution_count": 382,
   "metadata": {},
   "outputs": [
    {
     "data": {
      "text/latex": [
       "$\\displaystyle {A}_{Idx\\left(k, \\left( 0, \\  n\\right)\\right),Idx\\left(j, \\left( 1, \\  n\\right)\\right)} {a}_{Idx\\left(i, \\left( 1, \\  n\\right)\\right),Idx\\left(j, \\left( 1, \\  n\\right)\\right)} = \\Delta \\delta_{Idx\\left(i, \\left( 1, \\  n\\right)\\right) Idx\\left(k, \\left( 0, \\  n\\right)\\right)}$"
      ],
      "text/plain": [
       "Eq(A[k, j]*a[i, j], \\Delta*KroneckerDelta(i, k))"
      ]
     },
     "metadata": {},
     "output_type": "display_data"
    },
    {
     "name": "stdout",
     "output_type": "stream",
     "text": [
      "Using k = i\n"
     ]
    },
    {
     "data": {
      "text/latex": [
       "$\\displaystyle {A}_{Idx\\left(i, \\left( 1, \\  n\\right)\\right),Idx\\left(j, \\left( 1, \\  n\\right)\\right)} {a}_{Idx\\left(i, \\left( 1, \\  n\\right)\\right),Idx\\left(j, \\left( 1, \\  n\\right)\\right)} = \\Delta$"
      ],
      "text/plain": [
       "Eq(A[i, j]*a[i, j], \\Delta)"
      ]
     },
     "metadata": {},
     "output_type": "display_data"
    }
   ],
   "source": [
    "Delta = symbols('\\\\Delta')\n",
    "n, m = symbols('n m', integer=True)\n",
    "i = Idx('i', (1, n))\n",
    "j = Idx('j', (1, n))\n",
    "k = Idx('k', (0, n))\n",
    "A = IndexedBase('A', shape=(m, n))\n",
    "a = IndexedBase('a', shape=(m, n))\n",
    "e = Eq(a[i,j] *  A[k,j], Delta * KroneckerDelta(i, k))\n",
    "display(e)\n",
    "print('Using k = i')\n",
    "display(e.subs(k, i))"
   ]
  },
  {
   "cell_type": "code",
   "execution_count": 344,
   "metadata": {},
   "outputs": [],
   "source": [
    "a, b, c, d, e, f = symbols('a:f')\n",
    "u1, u2, u3, v1, v2, v3 = symbols('u_1 u_2 u_3 v_1 v_2 v_3')\n",
    "E = ReferenceFrame('E')\n",
    "u = u1 * E.x + u2 * E.y + u3 * E.z\n",
    "v = v1 * E.x + v2 * E.y + v3 * E.z"
   ]
  },
  {
   "cell_type": "markdown",
   "metadata": {},
   "source": [
    "#### Dot Product"
   ]
  },
  {
   "cell_type": "code",
   "execution_count": 345,
   "metadata": {},
   "outputs": [
    {
     "data": {
      "text/latex": [
       "$\\displaystyle u_{1} v_{1} + u_{2} v_{2} + u_{3} v_{3}$"
      ],
      "text/plain": [
       "u_1*v_1 + u_2*v_2 + u_3*v_3"
      ]
     },
     "execution_count": 345,
     "metadata": {},
     "output_type": "execute_result"
    }
   ],
   "source": [
    "u & v"
   ]
  },
  {
   "cell_type": "markdown",
   "metadata": {},
   "source": [
    "#### Cross Product"
   ]
  },
  {
   "cell_type": "code",
   "execution_count": 346,
   "metadata": {},
   "outputs": [
    {
     "data": {
      "text/latex": [
       "$\\displaystyle (u_{2} v_{3} - u_{3} v_{2})\\mathbf{\\hat{e}_x} + (- u_{1} v_{3} + u_{3} v_{1})\\mathbf{\\hat{e}_y} + (u_{1} v_{2} - u_{2} v_{1})\\mathbf{\\hat{e}_z}$"
      ],
      "text/plain": [
       "(u_2*v_3 - u_3*v_2)*E.x + (-u_1*v_3 + u_3*v_1)*E.y + (u_1*v_2 - u_2*v_1)*E.z"
      ]
     },
     "execution_count": 346,
     "metadata": {},
     "output_type": "execute_result"
    }
   ],
   "source": [
    "u ^ v"
   ]
  },
  {
   "cell_type": "markdown",
   "metadata": {},
   "source": [
    "#### The Three Scalar Invariants of a Second Order Tensor"
   ]
  },
  {
   "cell_type": "code",
   "execution_count": 367,
   "metadata": {},
   "outputs": [],
   "source": [
    "n = 3\n",
    "i = Idx('i', (1, n))\n",
    "j = Idx('j', (1, n))\n",
    "p = Idx('p', (1, n))\n",
    "q = Idx('q', (1, n))\n",
    "a = IndexedBase('a', shape=(n, n))"
   ]
  },
  {
   "cell_type": "markdown",
   "metadata": {},
   "source": [
    "1. $a_{ii}$"
   ]
  },
  {
   "cell_type": "code",
   "execution_count": 368,
   "metadata": {},
   "outputs": [
    {
     "data": {
      "text/latex": [
       "$\\displaystyle {a}_{1,1} + {a}_{2,2} + {a}_{3,3}$"
      ],
      "text/plain": [
       "a[1, 1] + a[2, 2] + a[3, 3]"
      ]
     },
     "execution_count": 368,
     "metadata": {},
     "output_type": "execute_result"
    }
   ],
   "source": [
    "Sum(a[i,i], (i, 1, n)).doit()"
   ]
  },
  {
   "cell_type": "markdown",
   "metadata": {},
   "source": [
    "2. $\\frac{1}{2} (a_{ii}a_{jj} - a_{ij}a_{ji})$"
   ]
  },
  {
   "cell_type": "code",
   "execution_count": 380,
   "metadata": {},
   "outputs": [
    {
     "data": {
      "text/latex": [
       "$\\displaystyle {a}_{1,1}^{2} - {a}_{1,2} {a}_{2,1} - {a}_{1,3} {a}_{3,1} + {a}_{2,2}^{2} - {a}_{2,3} {a}_{3,2} + {a}_{3,3}^{2}$"
      ],
      "text/plain": [
       "a[1, 1]**2 - a[1, 2]*a[2, 1] - a[1, 3]*a[3, 1] + a[2, 2]**2 - a[2, 3]*a[3, 2] + a[3, 3]**2"
      ]
     },
     "execution_count": 380,
     "metadata": {},
     "output_type": "execute_result"
    }
   ],
   "source": [
    "S('1/2') * Sum(a[i,i] * a[i,i] - a[i,j] * a[j,i] , (i, 1, n), (j, 1, n)).doit()"
   ]
  },
  {
   "cell_type": "markdown",
   "metadata": {},
   "source": [
    "3. $|a_{ij}|$"
   ]
  },
  {
   "cell_type": "markdown",
   "metadata": {},
   "source": [
    "#### Singular Tensor  \n",
    "$|a_{ij}| = 0$"
   ]
  },
  {
   "cell_type": "markdown",
   "metadata": {},
   "source": [
    "#### Tensor Product"
   ]
  },
  {
   "cell_type": "code",
   "execution_count": 27,
   "metadata": {},
   "outputs": [],
   "source": [
    "from sympy.abc import x,y,z,t\n",
    "n = 3\n",
    "a = IndexedBase('a', shape=(n))\n",
    "b = IndexedBase('b', shape=(n))"
   ]
  },
  {
   "cell_type": "code",
   "execution_count": 68,
   "metadata": {},
   "outputs": [
    {
     "data": {
      "text/latex": [
       "$\\displaystyle \\left[\\begin{matrix}{a}_{1}\\\\{a}_{2}\\end{matrix}\\right]$"
      ],
      "text/plain": [
       "⎡a[1]⎤\n",
       "⎢    ⎥\n",
       "⎣a[2]⎦"
      ]
     },
     "metadata": {},
     "output_type": "display_data"
    },
    {
     "data": {
      "text/latex": [
       "$\\displaystyle \\left[\\begin{matrix}{b}_{1}\\\\{b}_{2}\\end{matrix}\\right]$"
      ],
      "text/plain": [
       "⎡b[1]⎤\n",
       "⎢    ⎥\n",
       "⎣b[2]⎦"
      ]
     },
     "metadata": {},
     "output_type": "display_data"
    },
    {
     "data": {
      "text/latex": [
       "$\\displaystyle \\left[\\begin{matrix}{a}_{1} {b}_{1}\\\\{a}_{1} {b}_{2}\\\\{a}_{2} {b}_{1}\\\\{a}_{2} {b}_{2}\\end{matrix}\\right]$"
      ],
      "text/plain": [
       "⎡a[1]⋅b[1]⎤\n",
       "⎢         ⎥\n",
       "⎢a[1]⋅b[2]⎥\n",
       "⎢         ⎥\n",
       "⎢a[2]⋅b[1]⎥\n",
       "⎢         ⎥\n",
       "⎣a[2]⋅b[2]⎦"
      ]
     },
     "execution_count": 68,
     "metadata": {},
     "output_type": "execute_result"
    }
   ],
   "source": [
    "from sympy.physics.quantum import TensorProduct\n",
    "n = 2\n",
    "A = zeros(1, n)\n",
    "B = zeros(1, n)\n",
    "#A = Array([a[1], a[2]])\n",
    "#B = Array([b[1], b[2]])\n",
    "#display(A.rank())\n",
    "#display(B.rank())\n",
    "#tensorproduct(A, B).rank()\n",
    "\n",
    "for i in range(n):\n",
    "    A[i] = a[i + 1]\n",
    "    B[i] = b[i + 1]\n",
    "\n",
    "display(A.T)\n",
    "display(B.T)\n",
    "TensorProduct(A.T, B.T)"
   ]
  },
  {
   "cell_type": "code",
   "execution_count": 22,
   "metadata": {},
   "outputs": [],
   "source": [
    "P = np.array([[2, 4],[5, 6]])\n",
    "B = np.array([[1, 2],[3, 5]])\n",
    "C = np.array([[1, 2],[3, 5]])"
   ]
  },
  {
   "cell_type": "code",
   "execution_count": 23,
   "metadata": {},
   "outputs": [
    {
     "data": {
      "text/plain": [
       "array([[2, 4],\n",
       "       [5, 6]])"
      ]
     },
     "execution_count": 23,
     "metadata": {},
     "output_type": "execute_result"
    }
   ],
   "source": [
    "3*P - 2*P"
   ]
  },
  {
   "cell_type": "code",
   "execution_count": 24,
   "metadata": {},
   "outputs": [
    {
     "data": {
      "text/plain": [
       "array([10, 13, 10])"
      ]
     },
     "execution_count": 24,
     "metadata": {},
     "output_type": "execute_result"
    }
   ],
   "source": [
    "A = np.array([[2, 3, 1],[4, 2, 1], [3, 1, 1]])\n",
    "B = np.array([2, 1, 3]).T\n",
    "A@B"
   ]
  },
  {
   "cell_type": "code",
   "execution_count": 5,
   "metadata": {},
   "outputs": [],
   "source": [
    "E = CoordSys3D('E')\n",
    "U = u_1 * E.i + u_2 * E.j + u_3 * E.k\n",
    "V = v_1 * E.i + v_2 * E.j + v_3 * E.k\n",
    "H = h_1 * E.i + h_2 * E.j + h_3 * E.k"
   ]
  },
  {
   "cell_type": "code",
   "execution_count": 37,
   "metadata": {},
   "outputs": [
    {
     "data": {
      "image/png": "[encoded data removed]",
      "text/latex": [
       "$\\displaystyle (u_{1} v_{1})(\\mathbf{\\hat{i}_{E}}{|}\\mathbf{\\hat{i}_{E}}) + (u_{1} v_{2})(\\mathbf{\\hat{i}_{E}}{|}\\mathbf{\\hat{j}_{E}}) + (u_{1} v_{3})(\\mathbf{\\hat{i}_{E}}{|}\\mathbf{\\hat{k}_{E}}) + (u_{2} v_{1})(\\mathbf{\\hat{j}_{E}}{|}\\mathbf{\\hat{i}_{E}}) + (u_{2} v_{2})(\\mathbf{\\hat{j}_{E}}{|}\\mathbf{\\hat{j}_{E}}) + (u_{2} v_{3})(\\mathbf{\\hat{j}_{E}}{|}\\mathbf{\\hat{k}_{E}}) + (u_{3} v_{1})(\\mathbf{\\hat{k}_{E}}{|}\\mathbf{\\hat{i}_{E}}) + (u_{3} v_{2})(\\mathbf{\\hat{k}_{E}}{|}\\mathbf{\\hat{j}_{E}}) + (u_{3} v_{3})(\\mathbf{\\hat{k}_{E}}{|}\\mathbf{\\hat{k}_{E}})$"
      ],
      "text/plain": [
       "u_1*v_1*(E.i|E.i) + u_1*v_2*(E.i|E.j) + u_1*v_3*(E.i|E.k) + u_2*v_1*(E.j|E.i) + u_2*v_2*(E.j|E.j) + u_2*v_3*(E.j|E.k) + u_3*v_1*(E.k|E.i) + u_3*v_2*(E.k|E.j) + u_3*v_3*(E.k|E.k)"
      ]
     },
     "execution_count": 37,
     "metadata": {},
     "output_type": "execute_result"
    }
   ],
   "source": [
    "U.outer(V)"
   ]
  },
  {
   "cell_type": "code",
   "execution_count": 34,
   "metadata": {},
   "outputs": [
    {
     "data": {
      "image/png": "[encoded data removed]",
      "text/latex": [
       "$\\displaystyle (u_{1} \\left(h_{1} v_{1} + h_{2} v_{2} + h_{3} v_{3}\\right))\\mathbf{\\hat{i}_{E}} + (u_{2} \\left(h_{1} v_{1} + h_{2} v_{2} + h_{3} v_{3}\\right))\\mathbf{\\hat{j}_{E}} + (u_{3} \\left(h_{1} v_{1} + h_{2} v_{2} + h_{3} v_{3}\\right))\\mathbf{\\hat{k}_{E}}$"
      ],
      "text/plain": [
       "(u_1*(h_1*v_1 + h_2*v_2 + h_3*v_3))*E.i + (u_2*(h_1*v_1 + h_2*v_2 + h_3*v_3))*E.j + (u_3*(h_1*v_1 + h_2*v_2 + h_3*v_3))*E.k"
      ]
     },
     "execution_count": 34,
     "metadata": {},
     "output_type": "execute_result"
    }
   ],
   "source": [
    "R = dyad & H\n",
    "R.simplify()"
   ]
  },
  {
   "cell_type": "code",
   "execution_count": 35,
   "metadata": {},
   "outputs": [
    {
     "data": {
      "image/png": "[encoded data removed]",
      "text/latex": [
       "$\\displaystyle h_{1} v_{1} + h_{2} v_{2} + h_{3} v_{3}$"
      ],
      "text/plain": [
       "h₁⋅v₁ + h₂⋅v₂ + h₃⋅v₃"
      ]
     },
     "execution_count": 35,
     "metadata": {},
     "output_type": "execute_result"
    }
   ],
   "source": [
    "V & H"
   ]
  },
  {
   "cell_type": "code",
   "execution_count": 36,
   "metadata": {},
   "outputs": [
    {
     "data": {
      "image/png": "[encoded data removed]",
      "text/latex": [
       "$\\displaystyle (u_{1} \\left(h_{1} v_{1} + h_{2} v_{2} + h_{3} v_{3}\\right))\\mathbf{\\hat{i}_{E}} + (u_{2} \\left(h_{1} v_{1} + h_{2} v_{2} + h_{3} v_{3}\\right))\\mathbf{\\hat{j}_{E}} + (u_{3} \\left(h_{1} v_{1} + h_{2} v_{2} + h_{3} v_{3}\\right))\\mathbf{\\hat{k}_{E}}$"
      ],
      "text/plain": [
       "(u_1*(h_1*v_1 + h_2*v_2 + h_3*v_3))*E.i + (u_2*(h_1*v_1 + h_2*v_2 + h_3*v_3))*E.j + (u_3*(h_1*v_1 + h_2*v_2 + h_3*v_3))*E.k"
      ]
     },
     "execution_count": 36,
     "metadata": {},
     "output_type": "execute_result"
    }
   ],
   "source": [
    "U * (V & H)"
   ]
  },
  {
   "cell_type": "code",
   "execution_count": 6,
   "metadata": {},
   "outputs": [
    {
     "data": {
      "image/png": "[encoded data removed]",
      "text/latex": [
       "$\\displaystyle (\\mathbf{{x}_{E}})\\mathbf{\\hat{i}_{E}} + (\\mathbf{{y}_{E}})\\mathbf{\\hat{j}_{E}} + (\\mathbf{{z}_{E}})\\mathbf{\\hat{k}_{E}}$"
      ],
      "text/plain": [
       "E.x*E.i + E.y*E.j + E.z*E.k"
      ]
     },
     "execution_count": 6,
     "metadata": {},
     "output_type": "execute_result"
    }
   ],
   "source": [
    "u, v, w = sympy.symbols('u v w')\n",
    "#E.x = Function('x')(u, v, w)\n",
    "#E.y = Function('y')(u, v, w)\n",
    "#E.z = Function('z')(u, v, w)\n",
    "x, y, z = [E.x, E.y, E.z]\n",
    "r = x * E.i + y * E.j + z * E.k\n",
    "#r = E.x * E.i + E.y * E.j + E.z * E.k\n",
    "r"
   ]
  },
  {
   "cell_type": "code",
   "execution_count": 87,
   "metadata": {},
   "outputs": [],
   "source": [
    "u, v = [x, y] # Assumed\n",
    "#u, v = [x, x] # Assumed\n",
    "#u, v = [y, x] # Assumed All three to prove a point from [2]\n",
    "#u = Function('u')(x, y, z)\n",
    "#v = Function('v')(x, y, z)\n",
    "#w = Function('w')(x, y, z)"
   ]
  },
  {
   "cell_type": "code",
   "execution_count": 88,
   "metadata": {},
   "outputs": [
    {
     "data": {
      "image/png": "[encoded data removed]",
      "text/latex": [
       "$\\displaystyle (\\frac{d}{d \\mathbf{{x}_{E}}} \\mathbf{{x}_{E}})\\mathbf{\\hat{i}_{E}} + (\\frac{d}{d \\mathbf{{y}_{E}}} \\mathbf{{x}_{E}})\\mathbf{\\hat{j}_{E}} + (\\frac{d}{d \\mathbf{{z}_{E}}} \\mathbf{{x}_{E}})\\mathbf{\\hat{k}_{E}}$"
      ],
      "text/plain": [
       "(Derivative(E.x, E.x))*E.i + (Derivative(E.x, E.y))*E.j + (Derivative(E.x, E.z))*E.k"
      ]
     },
     "execution_count": 88,
     "metadata": {},
     "output_type": "execute_result"
    }
   ],
   "source": [
    "delop = Del()\n",
    "a = delop(u)\n",
    "a"
   ]
  },
  {
   "cell_type": "code",
   "execution_count": 89,
   "metadata": {},
   "outputs": [
    {
     "data": {
      "image/png": "[encoded data removed]",
      "text/latex": [
       "$\\displaystyle \\mathbf{\\hat{i}_{E}}$"
      ],
      "text/plain": [
       "E.i"
      ]
     },
     "execution_count": 89,
     "metadata": {},
     "output_type": "execute_result"
    }
   ],
   "source": [
    "diff(r, u)"
   ]
  },
  {
   "cell_type": "code",
   "execution_count": 90,
   "metadata": {},
   "outputs": [
    {
     "data": {
      "image/png": "[encoded data removed]",
      "text/latex": [
       "$\\displaystyle \\frac{d}{d \\mathbf{{x}_{E}}} \\mathbf{{x}_{E}}$"
      ],
      "text/plain": [
       " d       \n",
       "────(x_E)\n",
       "dx_E     "
      ]
     },
     "execution_count": 90,
     "metadata": {},
     "output_type": "execute_result"
    }
   ],
   "source": [
    "res = diff(r, u).doit() & delop(u)\n",
    "res"
   ]
  },
  {
   "cell_type": "code",
   "execution_count": 91,
   "metadata": {},
   "outputs": [
    {
     "data": {
      "image/png": "[encoded data removed]",
      "text/latex": [
       "$\\displaystyle 1$"
      ],
      "text/plain": [
       "1"
      ]
     },
     "execution_count": 91,
     "metadata": {},
     "output_type": "execute_result"
    }
   ],
   "source": [
    "res.doit()"
   ]
  },
  {
   "cell_type": "code",
   "execution_count": 92,
   "metadata": {},
   "outputs": [
    {
     "data": {
      "image/png": "[encoded data removed]",
      "text/latex": [
       "$\\displaystyle \\frac{d}{d \\mathbf{{x}_{E}}} \\mathbf{{y}_{E}}$"
      ],
      "text/plain": [
       " d       \n",
       "────(y_E)\n",
       "dx_E     "
      ]
     },
     "execution_count": 92,
     "metadata": {},
     "output_type": "execute_result"
    }
   ],
   "source": [
    "res = diff(r, u).doit() & delop(v)\n",
    "res"
   ]
  },
  {
   "cell_type": "code",
   "execution_count": 93,
   "metadata": {},
   "outputs": [
    {
     "data": {
      "image/png": "[encoded data removed]",
      "text/latex": [
       "$\\displaystyle 0$"
      ],
      "text/plain": [
       "0"
      ]
     },
     "execution_count": 93,
     "metadata": {},
     "output_type": "execute_result"
    }
   ],
   "source": [
    "res.doit()"
   ]
  },
  {
   "cell_type": "code",
   "execution_count": null,
   "metadata": {},
   "outputs": [],
   "source": []
  },
  {
   "cell_type": "code",
   "execution_count": null,
   "metadata": {},
   "outputs": [],
   "source": []
  },
  {
   "cell_type": "code",
   "execution_count": 147,
   "metadata": {},
   "outputs": [],
   "source": [
    "x, y, xd, xdd, yd, ydd = sympy.symbols('x y \\dot{x} \\ddot{x} \\dot{y} \\ddot{y}')\n",
    "x1, x2, xp1, xp2 = sympy.symbols('x_1 x_2 x^{\\prime}_1 x^{\\prime}_2')\n",
    "Ap1, Ap2 = sympy.symbols('A^{\\prime1} A^{\\prime2}')\n",
    "r, theta = sympy.symbols('r theta')"
   ]
  },
  {
   "cell_type": "code",
   "execution_count": 140,
   "metadata": {},
   "outputs": [],
   "source": [
    "x1 = x\n",
    "x2 = y\n",
    "xp1 = r\n",
    "xp2 = theta\n",
    "x = r*cos(theta)\n",
    "y = r*sin(theta)"
   ]
  },
  {
   "cell_type": "code",
   "execution_count": 149,
   "metadata": {},
   "outputs": [
    {
     "data": {
      "image/png": "[encoded data removed]",
      "text/latex": [
       "$\\displaystyle \\left[ \\pi - \\operatorname{asin}{\\left(\\frac{x}{r} \\right)}, \\  \\operatorname{asin}{\\left(\\frac{x}{r} \\right)}\\right]$"
      ],
      "text/plain": [
       "⎡        ⎛x⎞      ⎛x⎞⎤\n",
       "⎢π - asin⎜─⎟, asin⎜─⎟⎥\n",
       "⎣        ⎝r⎠      ⎝r⎠⎦"
      ]
     },
     "execution_count": 149,
     "metadata": {},
     "output_type": "execute_result"
    }
   ],
   "source": [
    "eq = Eq(r * sin(theta), x)\n",
    "solve(eq, theta)"
   ]
  },
  {
   "cell_type": "code",
   "execution_count": null,
   "metadata": {},
   "outputs": [],
   "source": []
  },
  {
   "cell_type": "code",
   "execution_count": null,
   "metadata": {},
   "outputs": [],
   "source": []
  },
  {
   "cell_type": "code",
   "execution_count": 260,
   "metadata": {},
   "outputs": [],
   "source": []
  },
  {
   "cell_type": "code",
   "execution_count": 369,
   "metadata": {},
   "outputs": [
    {
     "data": {
      "text/latex": [
       "$\\displaystyle \\left[\\begin{matrix}\\cos{\\left(\\alpha \\right)} & - \\sin{\\left(\\alpha \\right)} & 0\\\\\\sin{\\left(\\alpha \\right)} & \\cos{\\left(\\alpha \\right)} & 0\\\\0 & 0 & 1\\end{matrix}\\right]$"
      ],
      "text/plain": [
       "⎡cos(α)  -sin(α)  0⎤\n",
       "⎢                  ⎥\n",
       "⎢sin(α)  cos(α)   0⎥\n",
       "⎢                  ⎥\n",
       "⎣  0        0     1⎦"
      ]
     },
     "execution_count": 369,
     "metadata": {},
     "output_type": "execute_result"
    }
   ],
   "source": [
    "E = CoordSys3D('E')\n",
    "Ap = sympy.symbols('A^\\prime')\n",
    "EA = E.orient_new_axis('E_A', theta, E.k)\n",
    "EAp = EA.orient_new_axis('EA^\\prime', alpha, EA.k)\n",
    "A = EA.i + EA.j + EA.k\n",
    "A = express(A, E)\n",
    "Ap = EAp.i + EAp.j + EAp.k\n",
    "Ap = express(Ap, E)\n",
    "EA.rotation_matrix(EAp)\n",
    "\n",
    "#EA.position_wrt(E)\n",
    "#EA.to_matrix(E)\n",
    "#EA.origin.express_coordinates(E)\n",
    "#type(EA.origin)\n",
    "#A.__dir__()\n",
    "\n",
    "#EA.rotation_matrix(E)"
   ]
  },
  {
   "cell_type": "code",
   "execution_count": 370,
   "metadata": {},
   "outputs": [
    {
     "data": {
      "image/png": "[encoded data removed]",
      "text/latex": [
       "$\\displaystyle (-5.8)\\mathbf{\\hat{i}_{N}} + (-0.098)\\mathbf{\\hat{j}_{N}}$"
      ],
      "text/plain": [
       "(-5.8)*N.i + (-0.098)*N.j"
      ]
     },
     "execution_count": 370,
     "metadata": {},
     "output_type": "execute_result"
    }
   ],
   "source": [
    "N = CoordSys3D('N')\n",
    "A = 5 * N.i + 3 * N.j\n",
    "ang = inRadians(150)\n",
    "Rot = rotation(ang)\n",
    "res = Rot @ A.to_matrix(N)\n",
    "res = res.evalf(2)\n",
    "matrix_to_vector(res, N)"
   ]
  },
  {
   "cell_type": "code",
   "execution_count": 447,
   "metadata": {},
   "outputs": [],
   "source": [
    "E = CoordSys3D(E)\n",
    "etra1, etra2, eco1, eco2 = sympy.symbols('\\vec{E}^1 \\vec{E}^2 \\vec{E}_1 \\vec{E}_2')\n",
    "A, Atra1, Atra2, Ax, Ay = sympy.symbols('\\vec{A} A^1 A^2 A_x A_y')\n",
    "\n",
    "eco1 = E.i + 3 * E.j\n",
    "eco2 = 4 * E.i\n",
    "A = 7 * E.i + 2 * E.j\n",
    "eqns = [Atra1 * eco1.components[E.i] + Atra2 * eco2.components[E.i] - A.components[E.i], Atra1 * eco1.components[E.j] + Atra2 * 0 - A.components[E.j] ]\n",
    "m = sympy.linear_eq_to_matrix(eqns, [Atra1, Atra2])\n",
    "res = linsolve(eqns, Atra1, Atra2)\n",
    "(Atra1, Atra2) = next(iter(res))\n",
    "angle = acos((eco1 & eco2) / (eco1.magnitude() * eco2.magnitude()))\n",
    "angle = inDegrees(angle)\n",
    "angle = angle.evalf()\n",
    "t = 90 - angle\n",
    "etra1mag = 1/(eco1.magnitude() * cos(inRadians(t))).evalf()\n",
    "etra2mag = 1/(eco2.magnitude() * cos(inRadians(t))).evalf()\n",
    "etra1 = etra1mag * E.j\n",
    "etra2 = etra2mag * cos(t) * E.i + etra2mag * sin(t) * E.j\n",
    "A_angle = atan(A.components[E.j] / A.components[E.i])\n",
    "eco1A_ang = acos((eco1 & A) / (eco1.magnitude() * A.magnitude()))\n",
    "eco2A_ang = acos((eco2 & A) / (eco2.magnitude() * A.magnitude()))\n",
    "l1 = A.magnitude() * cos(eco1A_ang)\n",
    "Acon1 = l1/(cos(t) * etra1mag)\n",
    "Acon1 = Acon1.evalf()\n",
    "l2 = A.magnitude() * cos(eco2A_ang)\n",
    "Acon2 = l2/(cos(t) * etra2mag).evalf()"
   ]
  },
  {
   "cell_type": "code",
   "execution_count": 414,
   "metadata": {},
   "outputs": [
    {
     "data": {
      "image/png": "[encoded data removed]",
      "text/latex": [
       "$\\displaystyle \\left( \\frac{2}{3}, \\  \\frac{19}{12}\\right)$"
      ],
      "text/plain": [
       "⎛     19⎞\n",
       "⎜2/3, ──⎟\n",
       "⎝     12⎠"
      ]
     },
     "execution_count": 414,
     "metadata": {},
     "output_type": "execute_result"
    }
   ],
   "source": [
    "Atra1, Atra2"
   ]
  },
  {
   "cell_type": "code",
   "execution_count": 400,
   "metadata": {},
   "outputs": [
    {
     "data": {
      "text/latex": [
       "$\\displaystyle \\left( \\left[\\begin{matrix}1 & 4\\\\3 & 0\\end{matrix}\\right], \\  \\left[\\begin{matrix}7\\\\2\\end{matrix}\\right]\\right)$"
      ],
      "text/plain": [
       "⎛⎡1  4⎤  ⎡7⎤⎞\n",
       "⎜⎢    ⎥, ⎢ ⎥⎟\n",
       "⎝⎣3  0⎦  ⎣2⎦⎠"
      ]
     },
     "execution_count": 400,
     "metadata": {},
     "output_type": "execute_result"
    }
   ],
   "source": [
    "m"
   ]
  },
  {
   "cell_type": "code",
   "execution_count": 401,
   "metadata": {},
   "outputs": [
    {
     "data": {
      "image/png": "[encoded data removed]",
      "text/latex": [
       "$\\displaystyle 18.434948822922$"
      ],
      "text/plain": [
       "18.4349488229220"
      ]
     },
     "execution_count": 401,
     "metadata": {},
     "output_type": "execute_result"
    }
   ],
   "source": [
    "\n",
    "t"
   ]
  },
  {
   "cell_type": "code",
   "execution_count": 402,
   "metadata": {},
   "outputs": [
    {
     "data": {
      "image/png": "[encoded data removed]",
      "text/latex": [
       "$\\displaystyle 0.333333333333333$"
      ],
      "text/plain": [
       "0.333333333333333"
      ]
     },
     "execution_count": 402,
     "metadata": {},
     "output_type": "execute_result"
    }
   ],
   "source": [
    "etra1mag"
   ]
  },
  {
   "cell_type": "code",
   "execution_count": 403,
   "metadata": {},
   "outputs": [
    {
     "data": {
      "image/png": "[encoded data removed]",
      "text/latex": [
       "$\\displaystyle 0.263523138347365$"
      ],
      "text/plain": [
       "0.263523138347365"
      ]
     },
     "execution_count": 403,
     "metadata": {},
     "output_type": "execute_result"
    }
   ],
   "source": [
    "etra2mag"
   ]
  },
  {
   "cell_type": "code",
   "execution_count": 404,
   "metadata": {},
   "outputs": [
    {
     "data": {
      "image/png": "[encoded data removed]",
      "text/latex": [
       "$\\displaystyle 0.278299659005111$"
      ],
      "text/plain": [
       "0.278299659005111"
      ]
     },
     "execution_count": 404,
     "metadata": {},
     "output_type": "execute_result"
    }
   ],
   "source": [
    "#l = A.magnitude() * cos(A_angle)\n",
    "A_angle.evalf()"
   ]
  },
  {
   "cell_type": "code",
   "execution_count": 405,
   "metadata": {},
   "outputs": [
    {
     "data": {
      "image/png": "[encoded data removed]",
      "text/latex": [
       "$\\displaystyle 55.6196552761551$"
      ],
      "text/plain": [
       "55.6196552761551"
      ]
     },
     "execution_count": 405,
     "metadata": {},
     "output_type": "execute_result"
    }
   ],
   "source": [
    "inDegrees(e1A_ang).evalf()"
   ]
  },
  {
   "cell_type": "code",
   "execution_count": 429,
   "metadata": {},
   "outputs": [
    {
     "data": {
      "image/png": "[encoded data removed]",
      "text/latex": [
       "$\\displaystyle 13.4745157527787$"
      ],
      "text/plain": [
       "13.4745157527787"
      ]
     },
     "execution_count": 429,
     "metadata": {},
     "output_type": "execute_result"
    }
   ],
   "source": [
    "Acon1"
   ]
  },
  {
   "cell_type": "code",
   "execution_count": 430,
   "metadata": {},
   "outputs": [
    {
     "data": {
      "image/png": "[encoded data removed]",
      "text/latex": [
       "$\\displaystyle 29.0220339290619$"
      ],
      "text/plain": [
       "29.0220339290619"
      ]
     },
     "execution_count": 430,
     "metadata": {},
     "output_type": "execute_result"
    }
   ],
   "source": [
    "Acon2"
   ]
  },
  {
   "cell_type": "code",
   "execution_count": 433,
   "metadata": {},
   "outputs": [
    {
     "data": {
      "image/png": "[encoded data removed]",
      "text/latex": [
       "$\\displaystyle \\left( 4.11096095821889, \\  7\\right)$"
      ],
      "text/plain": [
       "(4.11096095821889, 7)"
      ]
     },
     "execution_count": 433,
     "metadata": {},
     "output_type": "execute_result"
    }
   ],
   "source": [
    "l1.evalf(), l2"
   ]
  },
  {
   "cell_type": "code",
   "execution_count": 442,
   "metadata": {},
   "outputs": [
    {
     "data": {
      "image/png": "[encoded data removed]",
      "text/latex": [
       "$\\displaystyle (0.241196051838062)\\mathbf{\\hat{i}_{E}} + (-0.106155117738974)\\mathbf{\\hat{j}_{E}}$"
      ],
      "text/plain": [
       "0.241196051838062*E.i + (-0.106155117738974)*E.j"
      ]
     },
     "execution_count": 442,
     "metadata": {},
     "output_type": "execute_result"
    }
   ],
   "source": [
    "etra2"
   ]
  },
  {
   "cell_type": "code",
   "execution_count": 448,
   "metadata": {},
   "outputs": [
    {
     "data": {
      "image/png": "[encoded data removed]",
      "text/latex": [
       "$\\displaystyle \\left( 13, \\  28\\right)$"
      ],
      "text/plain": [
       "(13, 28)"
      ]
     },
     "execution_count": 448,
     "metadata": {},
     "output_type": "execute_result"
    }
   ],
   "source": [
    "A & eco1, A & eco2"
   ]
  },
  {
   "cell_type": "code",
   "execution_count": 445,
   "metadata": {},
   "outputs": [
    {
     "data": {
      "image/png": "[encoded data removed]",
      "text/latex": [
       "$\\displaystyle \\left( 0.666666666666667, \\  1.47606212738848\\right)$"
      ],
      "text/plain": [
       "(0.666666666666667, 1.47606212738848)"
      ]
     },
     "execution_count": 445,
     "metadata": {},
     "output_type": "execute_result"
    }
   ],
   "source": [
    "A & etra1, A & etra2"
   ]
  },
  {
   "cell_type": "code",
   "execution_count": null,
   "metadata": {},
   "outputs": [],
   "source": []
  },
  {
   "cell_type": "code",
   "execution_count": null,
   "metadata": {},
   "outputs": [],
   "source": []
  },
  {
   "cell_type": "code",
   "execution_count": 60,
   "metadata": {},
   "outputs": [
    {
     "data": {
      "image/png": "[encoded data removed]",
      "text/plain": [
       "<Figure size 432x288 with 1 Axes>"
      ]
     },
     "metadata": {
      "needs_background": "light"
     },
     "output_type": "display_data"
    }
   ],
   "source": [
    "x, y = symbols('x y')\n",
    "u = [4, 8, 16, 32]\n",
    "v = [-16, -12, -8, -4, 0, 4, 8]\n",
    "\n",
    "curves = None\n",
    "\n",
    "for i in range(len(u) - 1):\n",
    "    pu = plot(u[i]/x, show=False, xlim=(0, 4), ylim=(0, 20)) #label=str(u[i]), legend=True\n",
    "    \n",
    "    if (curves == None):\n",
    "        curves = pu\n",
    "    else:\n",
    "        curves.append(pu[0])\n",
    "    \n",
    "for i in range(len(v) - 1):\n",
    "    pv = plot(x**2 - v[i], show=False, xlim=(0, 4), ylim=(0, 20)) #label=str(v[i]), legend=True\n",
    "    \n",
    "    if (curves == None):\n",
    "        curves = pv\n",
    "    else:\n",
    "        curves.append(pv[0])\n",
    "    \n",
    "curves.show()"
   ]
  },
  {
   "cell_type": "code",
   "execution_count": null,
   "metadata": {},
   "outputs": [],
   "source": []
  }
 ],
 "metadata": {
  "kernelspec": {
   "display_name": "Python 3",
   "language": "python",
   "name": "python3"
  },
  "language_info": {
   "codemirror_mode": {
    "name": "ipython",
    "version": 3
   },
   "file_extension": ".py",
   "mimetype": "text/x-python",
   "name": "python",
   "nbconvert_exporter": "python",
   "pygments_lexer": "ipython3",
   "version": "3.8.6rc1"
  }
 },
 "nbformat": 4,
 "nbformat_minor": 2
}
