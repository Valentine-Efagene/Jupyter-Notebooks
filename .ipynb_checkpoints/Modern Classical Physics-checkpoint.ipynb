{
 "cells": [
  {
   "cell_type": "code",
   "execution_count": 178,
   "metadata": {},
   "outputs": [],
   "source": [
    "import numpy as np\n",
    "import math\n",
    "import sympy\n",
    "import sympy as sp\n",
    "from sympy import latex, Eq, IndexedBase, symbols, Idx, Indexed, Sum, S, diff, Array, tensorproduct\n",
    "from sympy.functions.special.tensor_functions import KroneckerDelta\n",
    "import matplotlib.pyplot as plt\n",
    "from sympy.vector import Vector, CoordSys3D, AxisOrienter, BodyOrienter, Del, curl, divergence, gradient, is_conservative, is_solenoidal, scalar_potential, Point, scalar_potential_difference\n",
    "from sympy.physics.vector import ReferenceFrame\n",
    "from sympy.vector import express\n",
    "import matplotlib as mpl\n",
    "from mpl_toolkits.mplot3d import Axes3D\n",
    "from IPython.display import display, display_latex"
   ]
  },
  {
   "cell_type": "code",
   "execution_count": 179,
   "metadata": {},
   "outputs": [],
   "source": [
    "a, b, c, d, e, f, g, h, i, j, k, l, m, n, o, p, q, r, s, t, u, v, w, x, y, z = sympy.symbols('a:z')\n",
    "a_1, a_2, a_3, b_1, b_2, b_3, c_1, c_2, c_3, d_1, d_2, d_3 = symbols('a_1 a_2 a_3 b_1 b_2 b_3 c_1 c_2 c_3 d_1 d_2 d_3')\n",
    "alpha, beta, gamma, theta, phi, rho, omega = sympy.symbols('alpha beta gamma theta phi rho omega')\n",
    "Alpha, Beta, Gamma, Theta, Phi, Rho, Omega = sympy.symbols('Alpha Beta Gamma Theta Phi Rho Omega')"
   ]
  },
  {
   "cell_type": "markdown",
   "metadata": {},
   "source": [
    "## Setup"
   ]
  },
  {
   "cell_type": "code",
   "execution_count": 4,
   "metadata": {},
   "outputs": [],
   "source": [
    "sympy.init_printing()\n",
    "np.set_printoptions(precision=3)"
   ]
  },
  {
   "cell_type": "markdown",
   "metadata": {},
   "source": [
    "### Symbols"
   ]
  },
  {
   "cell_type": "markdown",
   "metadata": {},
   "source": [
    "Cross product: ^  \n",
    "Dot product: &  \n",
    "Outer product: |"
   ]
  },
  {
   "cell_type": "code",
   "execution_count": 69,
   "metadata": {},
   "outputs": [
    {
     "data": {
      "image/png": "[encoded data removed]",
      "text/latex": [
       "$\\displaystyle u_{1}\\mathbf{\\hat{e}_x} + u_{2}\\mathbf{\\hat{e}_y} + u_{3}\\mathbf{\\hat{e}_z}$"
      ],
      "text/plain": [
       "u₁ e_x + u₂ e_y + u₃ e_z"
      ]
     },
     "execution_count": 69,
     "metadata": {},
     "output_type": "execute_result"
    }
   ],
   "source": [
    "a, b, c, d, e, f = symbols('a:f')\n",
    "u1, u2, u3, v1, v2, v3 = symbols('u_1 u_2 u_3 v_1 v_2 v_3')\n",
    "E = ReferenceFrame('E')\n",
    "u = u1 * E.x + u2 * E.y + u3 * E.z\n",
    "v = v1 * E.x + v2 * E.y + v3 * E.z\n",
    "u"
   ]
  },
  {
   "cell_type": "markdown",
   "metadata": {},
   "source": [
    "#### Dot Product"
   ]
  },
  {
   "cell_type": "code",
   "execution_count": 70,
   "metadata": {},
   "outputs": [
    {
     "data": {
      "image/png": "[encoded data removed]",
      "text/latex": [
       "$\\displaystyle u_{1} v_{1} + u_{2} v_{2} + u_{3} v_{3}$"
      ],
      "text/plain": [
       "u₁⋅v₁ + u₂⋅v₂ + u₃⋅v₃"
      ]
     },
     "execution_count": 70,
     "metadata": {},
     "output_type": "execute_result"
    }
   ],
   "source": [
    "u & v"
   ]
  },
  {
   "cell_type": "markdown",
   "metadata": {},
   "source": [
    "#### Cross Product"
   ]
  },
  {
   "cell_type": "code",
   "execution_count": 73,
   "metadata": {},
   "outputs": [
    {
     "data": {
      "image/png": "[encoded data removed]",
      "text/latex": [
       "$\\displaystyle (u_{2} v_{3} - u_{3} v_{2})\\mathbf{\\hat{e}_x} + (- u_{1} v_{3} + u_{3} v_{1})\\mathbf{\\hat{e}_y} + (u_{1} v_{2} - u_{2} v_{1})\\mathbf{\\hat{e}_z}$"
      ],
      "text/plain": [
       "(u₂⋅v₃ - u₃⋅v₂) e_x + (-u₁⋅v₃ + u₃⋅v₁) e_y + (u₁⋅v₂ - u₂⋅v₁) e_z"
      ]
     },
     "execution_count": 73,
     "metadata": {},
     "output_type": "execute_result"
    }
   ],
   "source": [
    "u ^ v"
   ]
  },
  {
   "cell_type": "markdown",
   "metadata": {},
   "source": [
    "### Normalize"
   ]
  },
  {
   "cell_type": "code",
   "execution_count": 76,
   "metadata": {},
   "outputs": [
    {
     "data": {
      "image/png": "[encoded data removed]",
      "text/latex": [
       "$\\displaystyle \\frac{u_{1}}{\\sqrt{u_{1}^{2} + u_{2}^{2} + u_{3}^{2}}}\\mathbf{\\hat{e}_x} + \\frac{u_{2}}{\\sqrt{u_{1}^{2} + u_{2}^{2} + u_{3}^{2}}}\\mathbf{\\hat{e}_y} + \\frac{u_{3}}{\\sqrt{u_{1}^{2} + u_{2}^{2} + u_{3}^{2}}}\\mathbf{\\hat{e}_z}$"
      ],
      "text/plain": [
       "         u₁                         u₂                         u₃\n",
       "──────────────────── e_x + ──────────────────── e_y + ──────────────────── e_z\n",
       "   _________________          _________________          _________________\n",
       "  ╱   2     2     2          ╱   2     2     2          ╱   2     2     2\n",
       "╲╱  u₁  + u₂  + u₃         ╲╱  u₁  + u₂  + u₃         ╲╱  u₁  + u₂  + u₃"
      ]
     },
     "execution_count": 76,
     "metadata": {},
     "output_type": "execute_result"
    }
   ],
   "source": [
    "u.normalize()"
   ]
  },
  {
   "cell_type": "markdown",
   "metadata": {},
   "source": [
    "### Magnitude"
   ]
  },
  {
   "cell_type": "code",
   "execution_count": 77,
   "metadata": {},
   "outputs": [
    {
     "data": {
      "image/png": "[encoded data removed]",
      "text/latex": [
       "$\\displaystyle \\sqrt{u_{1}^{2} + u_{2}^{2} + u_{3}^{2}}$"
      ],
      "text/plain": [
       "   _________________\n",
       "  ╱   2     2     2 \n",
       "╲╱  u₁  + u₂  + u₃  "
      ]
     },
     "execution_count": 77,
     "metadata": {},
     "output_type": "execute_result"
    }
   ],
   "source": [
    "u.magnitude()"
   ]
  },
  {
   "cell_type": "code",
   "execution_count": 23,
   "metadata": {},
   "outputs": [],
   "source": [
    "N = CoordSys3D('N')"
   ]
  },
  {
   "cell_type": "code",
   "execution_count": 25,
   "metadata": {},
   "outputs": [
    {
     "data": {
      "image/png": "[encoded data removed]",
      "text/latex": [
       "$\\displaystyle (2)\\mathbf{\\hat{i}_{N}} + \\mathbf{\\hat{j}_{N}}$"
      ],
      "text/plain": [
       "2*N.i + N.j"
      ]
     },
     "execution_count": 25,
     "metadata": {},
     "output_type": "execute_result"
    }
   ],
   "source": [
    "v = 2 * N.i + N.j\n",
    "v"
   ]
  },
  {
   "cell_type": "code",
   "execution_count": 27,
   "metadata": {},
   "outputs": [
    {
     "data": {
      "image/png": "[encoded data removed]",
      "text/latex": [
       "$\\displaystyle \\mathbf{\\hat{0}}$"
      ],
      "text/plain": [
       "0"
      ]
     },
     "execution_count": 27,
     "metadata": {},
     "output_type": "execute_result"
    }
   ],
   "source": [
    "Vector.zero"
   ]
  },
  {
   "cell_type": "code",
   "execution_count": 28,
   "metadata": {},
   "outputs": [
    {
     "data": {
      "image/png": "[encoded data removed]",
      "text/latex": [
       "$\\displaystyle Point\\left(N.origin, \\mathbf{\\hat{0}}\\right)$"
      ],
      "text/plain": [
       "N.origin"
      ]
     },
     "execution_count": 28,
     "metadata": {},
     "output_type": "execute_result"
    }
   ],
   "source": [
    "N.origin"
   ]
  },
  {
   "cell_type": "code",
   "execution_count": 40,
   "metadata": {},
   "outputs": [
    {
     "data": {
      "image/png": "[encoded data removed]",
      "text/latex": [
       "$\\displaystyle Point\\left(P, (a)\\mathbf{\\hat{i}_{N}} + (b)\\mathbf{\\hat{j}_{N}} + (c)\\mathbf{\\hat{k}_{N}}, Point\\left(N.origin, \\mathbf{\\hat{0}}\\right)\\right)$"
      ],
      "text/plain": [
       "P"
      ]
     },
     "execution_count": 40,
     "metadata": {},
     "output_type": "execute_result"
    }
   ],
   "source": [
    "P = N.origin.locate_new('P', a*N.i + b*N.j + c*N.k)\n",
    "Q = P.locate_new('Q', -b*N.j)\n",
    "P"
   ]
  },
  {
   "cell_type": "code",
   "execution_count": 41,
   "metadata": {},
   "outputs": [
    {
     "data": {
      "image/png": "[encoded data removed]",
      "text/latex": [
       "$\\displaystyle (b)\\mathbf{\\hat{j}_{N}}$"
      ],
      "text/plain": [
       "b*N.j"
      ]
     },
     "execution_count": 41,
     "metadata": {},
     "output_type": "execute_result"
    }
   ],
   "source": [
    "P.position_wrt(Q)"
   ]
  },
  {
   "cell_type": "code",
   "execution_count": 45,
   "metadata": {},
   "outputs": [
    {
     "data": {
      "image/png": "[encoded data removed]",
      "text/latex": [
       "$\\displaystyle \\left( a, \\  0, \\  c\\right)$"
      ],
      "text/plain": [
       "(a, 0, c)"
      ]
     },
     "execution_count": 45,
     "metadata": {},
     "output_type": "execute_result"
    }
   ],
   "source": [
    "Q.express_coordinates(N)"
   ]
  },
  {
   "cell_type": "markdown",
   "metadata": {},
   "source": [
    "#### Dyadics"
   ]
  },
  {
   "cell_type": "code",
   "execution_count": 46,
   "metadata": {},
   "outputs": [
    {
     "data": {
      "image/png": "[encoded data removed]",
      "text/latex": [
       "$\\displaystyle (\\mathbf{\\hat{i}_{N}}{|}\\mathbf{\\hat{k}_{N}})$"
      ],
      "text/plain": [
       "(N_i|N_k)"
      ]
     },
     "execution_count": 46,
     "metadata": {},
     "output_type": "execute_result"
    }
   ],
   "source": [
    "dyad = N.i.outer(N.k)\n",
    "dyad"
   ]
  },
  {
   "cell_type": "code",
   "execution_count": 60,
   "metadata": {},
   "outputs": [
    {
     "data": {
      "text/latex": [
       "$\\displaystyle CoordSys3D\\left(B, \\left( \\left[\\begin{matrix}\\cos{\\left(\\theta \\right)} & \\sin{\\left(\\theta \\right)} & 0\\\\- \\sin{\\left(\\theta \\right)} & \\cos{\\left(\\theta \\right)} & 0\\\\0 & 0 & 1\\end{matrix}\\right], \\  \\mathbf{\\hat{0}}\\right), CoordSys3D\\left(A, \\left( \\left[\\begin{matrix}1 & 0 & 0\\\\0 & 1 & 0\\\\0 & 0 & 1\\end{matrix}\\right], \\  \\mathbf{\\hat{0}}\\right)\\right)\\right)$"
      ],
      "text/plain": [
       "B"
      ]
     },
     "execution_count": 60,
     "metadata": {},
     "output_type": "execute_result"
    }
   ],
   "source": [
    "A = CoordSys3D('A')\n",
    "B = A.orient_new_axis('B', theta, A.k)\n",
    "B"
   ]
  },
  {
   "cell_type": "code",
   "execution_count": 70,
   "metadata": {},
   "outputs": [
    {
     "data": {
      "text/latex": [
       "$\\displaystyle CoordSys3D\\left(B, \\left( \\left[\\begin{matrix}\\cos{\\left(\\theta \\right)} & \\sin{\\left(\\theta \\right)} & 0\\\\- \\sin{\\left(\\theta \\right)} & \\cos{\\left(\\theta \\right)} & 0\\\\0 & 0 & 1\\end{matrix}\\right], \\  \\mathbf{\\hat{0}}\\right), CoordSys3D\\left(A, \\left( \\left[\\begin{matrix}1 & 0 & 0\\\\0 & 1 & 0\\\\0 & 0 & 1\\end{matrix}\\right], \\  \\mathbf{\\hat{0}}\\right)\\right)\\right)$"
      ],
      "text/plain": [
       "B"
      ]
     },
     "execution_count": 70,
     "metadata": {},
     "output_type": "execute_result"
    }
   ],
   "source": [
    "axis_orienter = AxisOrienter(theta, A.k)\n",
    "B = A.orient_new('B', axis_orienter)\n",
    "B"
   ]
  },
  {
   "cell_type": "markdown",
   "metadata": {},
   "source": [
    "#### Chain Rotations"
   ]
  },
  {
   "cell_type": "code",
   "execution_count": 105,
   "metadata": {},
   "outputs": [
    {
     "data": {
      "text/latex": [
       "$\\displaystyle CoordSys3D\\left(B, \\left( \\left[\\begin{matrix}\\cos{\\left(b \\right)} \\cos{\\left(c \\right)} & \\sin{\\left(a \\right)} \\sin{\\left(b \\right)} \\cos{\\left(c \\right)} + \\sin{\\left(c \\right)} \\cos{\\left(a \\right)} & \\sin{\\left(a \\right)} \\sin{\\left(c \\right)} - \\sin{\\left(b \\right)} \\cos{\\left(a \\right)} \\cos{\\left(c \\right)}\\\\- \\sin{\\left(c \\right)} \\cos{\\left(b \\right)} & - \\sin{\\left(a \\right)} \\sin{\\left(b \\right)} \\sin{\\left(c \\right)} + \\cos{\\left(a \\right)} \\cos{\\left(c \\right)} & \\sin{\\left(a \\right)} \\cos{\\left(c \\right)} + \\sin{\\left(b \\right)} \\sin{\\left(c \\right)} \\cos{\\left(a \\right)}\\\\\\sin{\\left(b \\right)} & - \\sin{\\left(a \\right)} \\cos{\\left(b \\right)} & \\cos{\\left(a \\right)} \\cos{\\left(b \\right)}\\end{matrix}\\right], \\  \\mathbf{\\hat{0}}\\right), CoordSys3D\\left(A, \\left( \\left[\\begin{matrix}1 & 0 & 0\\\\0 & 1 & 0\\\\0 & 0 & 1\\end{matrix}\\right], \\  \\mathbf{\\hat{0}}\\right)\\right)\\right)$"
      ],
      "text/plain": [
       "B"
      ]
     },
     "execution_count": 105,
     "metadata": {},
     "output_type": "execute_result"
    }
   ],
   "source": [
    "A = CoordSys3D('A')\n",
    "body_orienter = BodyOrienter(a, b, c, 'XYZ')\n",
    "B = A.orient_new('B', (axis_orienter, body_orienter)).subs(theta, 0)\n",
    "B"
   ]
  },
  {
   "cell_type": "markdown",
   "metadata": {},
   "source": [
    "#### Use Multiple Orienters"
   ]
  },
  {
   "cell_type": "code",
   "execution_count": 84,
   "metadata": {},
   "outputs": [
    {
     "data": {
      "text/latex": [
       "$\\displaystyle CoordSys3D\\left(C, \\left( \\left[\\begin{matrix}- \\sin{\\left(c \\right)} \\sin{\\left(\\theta \\right)} \\cos{\\left(b \\right)} + \\cos{\\left(b \\right)} \\cos{\\left(c \\right)} \\cos{\\left(\\theta \\right)} & \\left(- \\sin{\\left(a \\right)} \\sin{\\left(b \\right)} \\sin{\\left(c \\right)} + \\cos{\\left(a \\right)} \\cos{\\left(c \\right)}\\right) \\sin{\\left(\\theta \\right)} + \\left(\\sin{\\left(a \\right)} \\sin{\\left(b \\right)} \\cos{\\left(c \\right)} + \\sin{\\left(c \\right)} \\cos{\\left(a \\right)}\\right) \\cos{\\left(\\theta \\right)} & \\left(\\sin{\\left(a \\right)} \\sin{\\left(c \\right)} - \\sin{\\left(b \\right)} \\cos{\\left(a \\right)} \\cos{\\left(c \\right)}\\right) \\cos{\\left(\\theta \\right)} + \\left(\\sin{\\left(a \\right)} \\cos{\\left(c \\right)} + \\sin{\\left(b \\right)} \\sin{\\left(c \\right)} \\cos{\\left(a \\right)}\\right) \\sin{\\left(\\theta \\right)}\\\\- \\sin{\\left(c \\right)} \\cos{\\left(b \\right)} \\cos{\\left(\\theta \\right)} - \\sin{\\left(\\theta \\right)} \\cos{\\left(b \\right)} \\cos{\\left(c \\right)} & \\left(- \\sin{\\left(a \\right)} \\sin{\\left(b \\right)} \\sin{\\left(c \\right)} + \\cos{\\left(a \\right)} \\cos{\\left(c \\right)}\\right) \\cos{\\left(\\theta \\right)} - \\left(\\sin{\\left(a \\right)} \\sin{\\left(b \\right)} \\cos{\\left(c \\right)} + \\sin{\\left(c \\right)} \\cos{\\left(a \\right)}\\right) \\sin{\\left(\\theta \\right)} & - \\left(\\sin{\\left(a \\right)} \\sin{\\left(c \\right)} - \\sin{\\left(b \\right)} \\cos{\\left(a \\right)} \\cos{\\left(c \\right)}\\right) \\sin{\\left(\\theta \\right)} + \\left(\\sin{\\left(a \\right)} \\cos{\\left(c \\right)} + \\sin{\\left(b \\right)} \\sin{\\left(c \\right)} \\cos{\\left(a \\right)}\\right) \\cos{\\left(\\theta \\right)}\\\\\\sin{\\left(b \\right)} & - \\sin{\\left(a \\right)} \\cos{\\left(b \\right)} & \\cos{\\left(a \\right)} \\cos{\\left(b \\right)}\\end{matrix}\\right], \\  \\mathbf{\\hat{0}}\\right), CoordSys3D\\left(A, \\left( \\left[\\begin{matrix}1 & 0 & 0\\\\0 & 1 & 0\\\\0 & 0 & 1\\end{matrix}\\right], \\  \\mathbf{\\hat{0}}\\right)\\right)\\right)$"
      ],
      "text/plain": [
       "C"
      ]
     },
     "execution_count": 84,
     "metadata": {},
     "output_type": "execute_result"
    }
   ],
   "source": [
    "C = A.orient_new('C', (axis_orienter, body_orienter))\n",
    "C"
   ]
  },
  {
   "cell_type": "markdown",
   "metadata": {},
   "source": [
    "#### Get Rotation Matrix W.R.T"
   ]
  },
  {
   "cell_type": "code",
   "execution_count": 85,
   "metadata": {},
   "outputs": [
    {
     "data": {
      "text/latex": [
       "$\\displaystyle \\left[\\begin{matrix}- \\sin{\\left(c \\right)} \\sin{\\left(\\theta \\right)} \\cos{\\left(b \\right)} + \\cos{\\left(b \\right)} \\cos{\\left(c \\right)} \\cos{\\left(\\theta \\right)} & \\left(- \\sin{\\left(a \\right)} \\sin{\\left(b \\right)} \\sin{\\left(c \\right)} + \\cos{\\left(a \\right)} \\cos{\\left(c \\right)}\\right) \\sin{\\left(\\theta \\right)} + \\left(\\sin{\\left(a \\right)} \\sin{\\left(b \\right)} \\cos{\\left(c \\right)} + \\sin{\\left(c \\right)} \\cos{\\left(a \\right)}\\right) \\cos{\\left(\\theta \\right)} & \\left(\\sin{\\left(a \\right)} \\sin{\\left(c \\right)} - \\sin{\\left(b \\right)} \\cos{\\left(a \\right)} \\cos{\\left(c \\right)}\\right) \\cos{\\left(\\theta \\right)} + \\left(\\sin{\\left(a \\right)} \\cos{\\left(c \\right)} + \\sin{\\left(b \\right)} \\sin{\\left(c \\right)} \\cos{\\left(a \\right)}\\right) \\sin{\\left(\\theta \\right)}\\\\- \\sin{\\left(c \\right)} \\cos{\\left(b \\right)} \\cos{\\left(\\theta \\right)} - \\sin{\\left(\\theta \\right)} \\cos{\\left(b \\right)} \\cos{\\left(c \\right)} & \\left(- \\sin{\\left(a \\right)} \\sin{\\left(b \\right)} \\sin{\\left(c \\right)} + \\cos{\\left(a \\right)} \\cos{\\left(c \\right)}\\right) \\cos{\\left(\\theta \\right)} - \\left(\\sin{\\left(a \\right)} \\sin{\\left(b \\right)} \\cos{\\left(c \\right)} + \\sin{\\left(c \\right)} \\cos{\\left(a \\right)}\\right) \\sin{\\left(\\theta \\right)} & - \\left(\\sin{\\left(a \\right)} \\sin{\\left(c \\right)} - \\sin{\\left(b \\right)} \\cos{\\left(a \\right)} \\cos{\\left(c \\right)}\\right) \\sin{\\left(\\theta \\right)} + \\left(\\sin{\\left(a \\right)} \\cos{\\left(c \\right)} + \\sin{\\left(b \\right)} \\sin{\\left(c \\right)} \\cos{\\left(a \\right)}\\right) \\cos{\\left(\\theta \\right)}\\\\\\sin{\\left(b \\right)} & - \\sin{\\left(a \\right)} \\cos{\\left(b \\right)} & \\cos{\\left(a \\right)} \\cos{\\left(b \\right)}\\end{matrix}\\right]$"
      ],
      "text/plain": [
       "⎡-sin(c)⋅sin(θ)⋅cos(b) + cos(b)⋅cos(c)⋅cos(θ)  (-sin(a)⋅sin(b)⋅sin(c) + cos(a)\n",
       "⎢                                                                             \n",
       "⎢-sin(c)⋅cos(b)⋅cos(θ) - sin(θ)⋅cos(b)⋅cos(c)  (-sin(a)⋅sin(b)⋅sin(c) + cos(a)\n",
       "⎢                                                                             \n",
       "⎣                   sin(b)                                                    \n",
       "\n",
       "⋅cos(c))⋅sin(θ) + (sin(a)⋅sin(b)⋅cos(c) + sin(c)⋅cos(a))⋅cos(θ)  (sin(a)⋅sin(c\n",
       "                                                                              \n",
       "⋅cos(c))⋅cos(θ) - (sin(a)⋅sin(b)⋅cos(c) + sin(c)⋅cos(a))⋅sin(θ)  -(sin(a)⋅sin(\n",
       "                                                                              \n",
       "         -sin(a)⋅cos(b)                                                       \n",
       "\n",
       ") - sin(b)⋅cos(a)⋅cos(c))⋅cos(θ) + (sin(a)⋅cos(c) + sin(b)⋅sin(c)⋅cos(a))⋅sin(\n",
       "                                                                              \n",
       "c) - sin(b)⋅cos(a)⋅cos(c))⋅sin(θ) + (sin(a)⋅cos(c) + sin(b)⋅sin(c)⋅cos(a))⋅cos\n",
       "                                                                              \n",
       "                           cos(a)⋅cos(b)                                      \n",
       "\n",
       "θ) ⎤\n",
       "   ⎥\n",
       "(θ)⎥\n",
       "   ⎥\n",
       "   ⎦"
      ]
     },
     "execution_count": 85,
     "metadata": {},
     "output_type": "execute_result"
    }
   ],
   "source": [
    "B.rotation_matrix(A)"
   ]
  },
  {
   "cell_type": "markdown",
   "metadata": {},
   "source": [
    "#### Rotate and Translate"
   ]
  },
  {
   "cell_type": "code",
   "execution_count": 87,
   "metadata": {},
   "outputs": [
    {
     "data": {
      "image/png": "[encoded data removed]",
      "text/latex": [
       "$\\displaystyle (2)\\mathbf{\\hat{j}_{A}}$"
      ],
      "text/plain": [
       "2*A.j"
      ]
     },
     "execution_count": 87,
     "metadata": {},
     "output_type": "execute_result"
    }
   ],
   "source": [
    "C = A.orient_new_axis('C', a, A.k, location=2*A.j)\n",
    "C.position_wrt(A)"
   ]
  },
  {
   "cell_type": "markdown",
   "metadata": {},
   "source": [
    "#### Express : Vector instances can be expressed in user defined systems using express."
   ]
  },
  {
   "cell_type": "code",
   "execution_count": 92,
   "metadata": {},
   "outputs": [
    {
     "data": {
      "image/png": "[encoded data removed]",
      "text/latex": [
       "$\\displaystyle (\\sin{\\left(a \\right)} + \\cos{\\left(a \\right)})\\mathbf{\\hat{i}_{M}} + (- \\sin{\\left(a \\right)} + \\cos{\\left(a \\right)})\\mathbf{\\hat{j}_{M}} + \\mathbf{\\hat{k}_{M}}$"
      ],
      "text/plain": [
       "(sin(a) + cos(a))*M.i + (-sin(a) + cos(a))*M.j + M.k"
      ]
     },
     "execution_count": 92,
     "metadata": {},
     "output_type": "execute_result"
    }
   ],
   "source": [
    "M = N.orient_new_axis('M', a, N.k)\n",
    "v1 = N.i + N.j + N.k\n",
    "express(v1, M)"
   ]
  },
  {
   "cell_type": "code",
   "execution_count": 93,
   "metadata": {},
   "outputs": [
    {
     "data": {
      "text/latex": [
       "$\\displaystyle \\left[\\begin{matrix}\\sin{\\left(a \\right)} + \\cos{\\left(a \\right)}\\\\- \\sin{\\left(a \\right)} + \\cos{\\left(a \\right)}\\\\1\\end{matrix}\\right]$"
      ],
      "text/plain": [
       "⎡sin(a) + cos(a) ⎤\n",
       "⎢                ⎥\n",
       "⎢-sin(a) + cos(a)⎥\n",
       "⎢                ⎥\n",
       "⎣       1        ⎦"
      ]
     },
     "execution_count": 93,
     "metadata": {},
     "output_type": "execute_result"
    }
   ],
   "source": [
    "v = N.i + N.j + N.k\n",
    "v.to_matrix(M)"
   ]
  },
  {
   "cell_type": "markdown",
   "metadata": {},
   "source": [
    "### Scalar and Vector Fields and Base Scalar"
   ]
  },
  {
   "cell_type": "markdown",
   "metadata": {},
   "source": [
    "potential field = $2x^2y$"
   ]
  },
  {
   "cell_type": "code",
   "execution_count": 107,
   "metadata": {},
   "outputs": [
    {
     "data": {
      "image/png": "[encoded data removed]",
      "text/latex": [
       "$\\displaystyle 2 \\mathbf{{x}_{R}}^{2} \\mathbf{{y}_{R}}$"
      ],
      "text/plain": [
       "     2    \n",
       "2⋅R_x ⋅R_y"
      ]
     },
     "execution_count": 107,
     "metadata": {},
     "output_type": "execute_result"
    }
   ],
   "source": [
    "R = CoordSys3D('R')\n",
    "electric_potential = 2*R.x**2 * R.y\n",
    "electric_potential"
   ]
  },
  {
   "cell_type": "code",
   "execution_count": 110,
   "metadata": {},
   "outputs": [
    {
     "data": {
      "image/png": "[encoded data removed]",
      "text/latex": [
       "$\\displaystyle 4 \\mathbf{{x}_{R}} \\mathbf{{y}_{R}}$"
      ],
      "text/plain": [
       "4⋅R_x⋅R_y"
      ]
     },
     "execution_count": 110,
     "metadata": {},
     "output_type": "execute_result"
    }
   ],
   "source": [
    "diff(electric_potential, R.x)"
   ]
  },
  {
   "cell_type": "code",
   "execution_count": 114,
   "metadata": {},
   "outputs": [
    {
     "data": {
      "image/png": "[encoded data removed]",
      "text/latex": [
       "$\\displaystyle (\\mathbf{{x}_{R}}^{2})\\mathbf{\\hat{i}_{R}} + (2 \\mathbf{{x}_{R}} \\mathbf{{z}_{R}})\\mathbf{\\hat{k}_{R}}$"
      ],
      "text/plain": [
       "R.x**2*R.i + 2*R.x*R.z*R.k"
      ]
     },
     "execution_count": 114,
     "metadata": {},
     "output_type": "execute_result"
    }
   ],
   "source": [
    "v = R.x**2*R.i + 2*R.x*R.z*R.k\n",
    "v"
   ]
  },
  {
   "cell_type": "markdown",
   "metadata": {},
   "source": [
    "#### Gradient"
   ]
  },
  {
   "cell_type": "code",
   "execution_count": 147,
   "metadata": {},
   "outputs": [
    {
     "data": {
      "image/png": "[encoded data removed]",
      "text/latex": [
       "$\\displaystyle (\\frac{\\partial}{\\partial \\mathbf{{x}_{C}}} \\mathbf{{x}_{C}} \\mathbf{{y}_{C}} \\mathbf{{z}_{C}})\\mathbf{\\hat{i}_{C}} + (\\frac{\\partial}{\\partial \\mathbf{{y}_{C}}} \\mathbf{{x}_{C}} \\mathbf{{y}_{C}} \\mathbf{{z}_{C}})\\mathbf{\\hat{j}_{C}} + (\\frac{\\partial}{\\partial \\mathbf{{z}_{C}}} \\mathbf{{x}_{C}} \\mathbf{{y}_{C}} \\mathbf{{z}_{C}})\\mathbf{\\hat{k}_{C}}$"
      ],
      "text/plain": [
       "(Derivative(C.x*C.y*C.z, C.x))*C.i + (Derivative(C.x*C.y*C.z, C.y))*C.j + (Derivative(C.x*C.y*C.z, C.z))*C.k"
      ]
     },
     "execution_count": 147,
     "metadata": {},
     "output_type": "execute_result"
    }
   ],
   "source": [
    "C = CoordSys3D('C')\n",
    "delop = Del()\n",
    "gradient_field = delop(C.x*C.y*C.z)\n",
    "gradient_field"
   ]
  },
  {
   "cell_type": "code",
   "execution_count": 148,
   "metadata": {},
   "outputs": [
    {
     "data": {
      "image/png": "[encoded data removed]",
      "text/latex": [
       "$\\displaystyle (\\mathbf{{y}_{C}} \\mathbf{{z}_{C}})\\mathbf{\\hat{i}_{C}} + (\\mathbf{{x}_{C}} \\mathbf{{z}_{C}})\\mathbf{\\hat{j}_{C}} + (\\mathbf{{x}_{C}} \\mathbf{{y}_{C}})\\mathbf{\\hat{k}_{C}}$"
      ],
      "text/plain": [
       "C.y*C.z*C.i + C.x*C.z*C.j + C.x*C.y*C.k"
      ]
     },
     "execution_count": 148,
     "metadata": {},
     "output_type": "execute_result"
    }
   ],
   "source": [
    "gradient_field.doit()"
   ]
  },
  {
   "cell_type": "code",
   "execution_count": 150,
   "metadata": {},
   "outputs": [
    {
     "data": {
      "image/png": "[encoded data removed]",
      "text/latex": [
       "$\\displaystyle (\\mathbf{{y}_{C}} \\mathbf{{z}_{C}})\\mathbf{\\hat{i}_{C}} + (\\mathbf{{x}_{C}} \\mathbf{{z}_{C}})\\mathbf{\\hat{j}_{C}} + (\\mathbf{{x}_{C}} \\mathbf{{y}_{C}})\\mathbf{\\hat{k}_{C}}$"
      ],
      "text/plain": [
       "C.y*C.z*C.i + C.x*C.z*C.j + C.x*C.y*C.k"
      ]
     },
     "execution_count": 150,
     "metadata": {},
     "output_type": "execute_result"
    }
   ],
   "source": [
    "gradient(C.x*C.y*C.z)"
   ]
  },
  {
   "cell_type": "code",
   "execution_count": 151,
   "metadata": {},
   "outputs": [
    {
     "data": {
      "image/png": "[encoded data removed]",
      "text/latex": [
       "$\\displaystyle (\\mathbf{{y}_{C}} \\mathbf{{z}_{C}})\\mathbf{\\hat{i}_{C}} + (\\mathbf{{x}_{C}} \\mathbf{{z}_{C}})\\mathbf{\\hat{j}_{C}} + (\\mathbf{{x}_{C}} \\mathbf{{y}_{C}})\\mathbf{\\hat{k}_{C}}$"
      ],
      "text/plain": [
       "C.y*C.z*C.i + C.x*C.z*C.j + C.x*C.y*C.k"
      ]
     },
     "execution_count": 151,
     "metadata": {},
     "output_type": "execute_result"
    }
   ],
   "source": [
    "delop.gradient(C.x*C.y*C.z).doit()"
   ]
  },
  {
   "cell_type": "markdown",
   "metadata": {},
   "source": [
    "#### Curl"
   ]
  },
  {
   "cell_type": "markdown",
   "metadata": {},
   "source": [
    "##### Method 1"
   ]
  },
  {
   "cell_type": "code",
   "execution_count": 132,
   "metadata": {},
   "outputs": [
    {
     "data": {
      "image/png": "[encoded data removed]",
      "text/latex": [
       "$\\displaystyle (\\frac{d}{d \\mathbf{{y}_{C}}} 0 - \\frac{d}{d \\mathbf{{z}_{C}}} 0)\\mathbf{\\hat{i}_{C}} + (- \\frac{d}{d \\mathbf{{x}_{C}}} 0 + \\frac{\\partial}{\\partial \\mathbf{{z}_{C}}} \\mathbf{{x}_{C}} \\mathbf{{y}_{C}} \\mathbf{{z}_{C}})\\mathbf{\\hat{j}_{C}} + (\\frac{d}{d \\mathbf{{x}_{C}}} 0 - \\frac{\\partial}{\\partial \\mathbf{{y}_{C}}} \\mathbf{{x}_{C}} \\mathbf{{y}_{C}} \\mathbf{{z}_{C}})\\mathbf{\\hat{k}_{C}}$"
      ],
      "text/plain": [
       "(Derivative(0, C.y) - Derivative(0, C.z))*C.i + (-Derivative(0, C.x) + Derivative(C.x*C.y*C.z, C.z))*C.j + (Derivative(0, C.x) - Derivative(C.x*C.y*C.z, C.y))*C.k"
      ]
     },
     "execution_count": 132,
     "metadata": {},
     "output_type": "execute_result"
    }
   ],
   "source": [
    "delop = Del()\n",
    "delop.cross(C.x*C.y*C.z*C.i)"
   ]
  },
  {
   "cell_type": "code",
   "execution_count": 136,
   "metadata": {},
   "outputs": [
    {
     "data": {
      "image/png": "[encoded data removed]",
      "text/latex": [
       "$\\displaystyle (\\mathbf{{x}_{C}} \\mathbf{{y}_{C}})\\mathbf{\\hat{j}_{C}} + (- \\mathbf{{x}_{C}} \\mathbf{{z}_{C}})\\mathbf{\\hat{k}_{C}}$"
      ],
      "text/plain": [
       "C.x*C.y*C.j + (-C.x*C.z)*C.k"
      ]
     },
     "execution_count": 136,
     "metadata": {},
     "output_type": "execute_result"
    }
   ],
   "source": [
    "delop.cross(C.x*C.y*C.z*C.i).doit()"
   ]
  },
  {
   "cell_type": "markdown",
   "metadata": {},
   "source": [
    "##### Method 2"
   ]
  },
  {
   "cell_type": "code",
   "execution_count": 138,
   "metadata": {},
   "outputs": [
    {
     "data": {
      "image/png": "[encoded data removed]",
      "text/latex": [
       "$\\displaystyle (\\mathbf{{x}_{C}} \\mathbf{{y}_{C}})\\mathbf{\\hat{j}_{C}} + (- \\mathbf{{x}_{C}} \\mathbf{{z}_{C}})\\mathbf{\\hat{k}_{C}}$"
      ],
      "text/plain": [
       "C.x*C.y*C.j + (-C.x*C.z)*C.k"
      ]
     },
     "execution_count": 138,
     "metadata": {},
     "output_type": "execute_result"
    }
   ],
   "source": [
    "curl(C.x*C.y*C.z*C.i)"
   ]
  },
  {
   "cell_type": "markdown",
   "metadata": {},
   "source": [
    "#### Divergence"
   ]
  },
  {
   "cell_type": "code",
   "execution_count": 152,
   "metadata": {},
   "outputs": [
    {
     "data": {
      "image/png": "[encoded data removed]",
      "text/latex": [
       "$\\displaystyle \\mathbf{{x}_{C}} \\mathbf{{y}_{C}} + \\mathbf{{x}_{C}} \\mathbf{{z}_{C}} + \\mathbf{{y}_{C}} \\mathbf{{z}_{C}}$"
      ],
      "text/plain": [
       "C_x⋅C_y + C_x⋅C_z + C_y⋅C_z"
      ]
     },
     "execution_count": 152,
     "metadata": {},
     "output_type": "execute_result"
    }
   ],
   "source": [
    "divergence(C.x*C.y*C.z*(C.i + C.j + C.k))"
   ]
  },
  {
   "cell_type": "code",
   "execution_count": 154,
   "metadata": {},
   "outputs": [
    {
     "data": {
      "image/png": "[encoded data removed]",
      "text/latex": [
       "$\\displaystyle \\mathbf{{x}_{C}} \\mathbf{{y}_{C}} + \\mathbf{{x}_{C}} \\mathbf{{z}_{C}} + \\mathbf{{y}_{C}} \\mathbf{{z}_{C}}$"
      ],
      "text/plain": [
       "C_x⋅C_y + C_x⋅C_z + C_y⋅C_z"
      ]
     },
     "execution_count": 154,
     "metadata": {},
     "output_type": "execute_result"
    }
   ],
   "source": [
    "delop.dot(C.x*C.y*C.z*(C.i + C.j + C.k)).doit()"
   ]
  },
  {
   "cell_type": "markdown",
   "metadata": {},
   "source": [
    "#### Directional Derivative"
   ]
  },
  {
   "cell_type": "code",
   "execution_count": 156,
   "metadata": {},
   "outputs": [
    {
     "data": {
      "image/png": "[encoded data removed]",
      "text/latex": [
       "$\\displaystyle \\mathbf{{x}_{C}} \\mathbf{{y}_{C}} + 4 \\mathbf{{x}_{C}} \\mathbf{{z}_{C}} + 3 \\mathbf{{y}_{C}} \\mathbf{{z}_{C}}$"
      ],
      "text/plain": [
       "C_x⋅C_y + 4⋅C_x⋅C_z + 3⋅C_y⋅C_z"
      ]
     },
     "execution_count": 156,
     "metadata": {},
     "output_type": "execute_result"
    }
   ],
   "source": [
    "from sympy.vector import directional_derivative\n",
    "directional_derivative(C.x*C.y*C.z, 3*C.i + 4*C.j + C.k)"
   ]
  },
  {
   "cell_type": "markdown",
   "metadata": {},
   "source": [
    "#### Conservative Field\n",
    "* Curl = 0 \n",
    "* Irrotational \n",
    "* Conservation of Energy\n",
    "* Gradient of some scalar field"
   ]
  },
  {
   "cell_type": "code",
   "execution_count": 159,
   "metadata": {},
   "outputs": [
    {
     "data": {
      "text/plain": [
       "True"
      ]
     },
     "execution_count": 159,
     "metadata": {},
     "output_type": "execute_result"
    }
   ],
   "source": [
    "R = CoordSys3D('R')\n",
    "field = R.y*R.z*R.i + R.x*R.z*R.j + R.x*R.y*R.k\n",
    "is_conservative(field)"
   ]
  },
  {
   "cell_type": "code",
   "execution_count": 160,
   "metadata": {},
   "outputs": [
    {
     "data": {
      "image/png": "[encoded data removed]",
      "text/latex": [
       "$\\displaystyle \\mathbf{\\hat{0}}$"
      ],
      "text/plain": [
       "0"
      ]
     },
     "execution_count": 160,
     "metadata": {},
     "output_type": "execute_result"
    }
   ],
   "source": [
    "curl(field)"
   ]
  },
  {
   "cell_type": "markdown",
   "metadata": {},
   "source": [
    "#### Solenoidal Field\n",
    "* Div = 0"
   ]
  },
  {
   "cell_type": "code",
   "execution_count": 164,
   "metadata": {},
   "outputs": [
    {
     "data": {
      "text/plain": [
       "True"
      ]
     },
     "execution_count": 164,
     "metadata": {},
     "output_type": "execute_result"
    }
   ],
   "source": [
    "R = CoordSys3D('R')\n",
    "field = R.y*R.z*R.i + R.x*R.z*R.j + R.x*R.y*R.k\n",
    "is_solenoidal(field)"
   ]
  },
  {
   "cell_type": "code",
   "execution_count": 165,
   "metadata": {},
   "outputs": [
    {
     "data": {
      "image/png": "[encoded data removed]",
      "text/latex": [
       "$\\displaystyle 0$"
      ],
      "text/plain": [
       "0"
      ]
     },
     "execution_count": 165,
     "metadata": {},
     "output_type": "execute_result"
    }
   ],
   "source": [
    "divergence(field)"
   ]
  },
  {
   "cell_type": "markdown",
   "metadata": {},
   "source": [
    "#### Scalar Potential Functions"
   ]
  },
  {
   "cell_type": "code",
   "execution_count": 169,
   "metadata": {},
   "outputs": [
    {
     "data": {
      "image/png": "[encoded data removed]",
      "text/latex": [
       "$\\displaystyle 2 \\mathbf{{x}_{R}}^{2} \\mathbf{{y}_{R}} \\mathbf{{z}_{R}}$"
      ],
      "text/plain": [
       "     2        \n",
       "2⋅R_x ⋅R_y⋅R_z"
      ]
     },
     "execution_count": 169,
     "metadata": {},
     "output_type": "execute_result"
    }
   ],
   "source": [
    "R = CoordSys3D('R')\n",
    "conservative_field = 4*R.x*R.y*R.z*R.i + 2*R.x**2*R.z*R.j + 2*R.x**2*R.y*R.k\n",
    "scalar_potential(conservative_field, R)"
   ]
  },
  {
   "cell_type": "code",
   "execution_count": 172,
   "metadata": {},
   "outputs": [
    {
     "data": {
      "image/png": "[encoded data removed]",
      "text/latex": [
       "$\\displaystyle 4$"
      ],
      "text/plain": [
       "4"
      ]
     },
     "execution_count": 172,
     "metadata": {},
     "output_type": "execute_result"
    }
   ],
   "source": [
    "R = CoordSys3D('R')\n",
    "P = R.origin.locate_new('P', 1*R.i + 2*R.j + 3*R.k)\n",
    "vectfield = 4*R.x*R.y*R.i + 2*R.x**2*R.j\n",
    "scalar_potential_difference(vectfield, R, R.origin, P)"
   ]
  },
  {
   "cell_type": "code",
   "execution_count": null,
   "metadata": {},
   "outputs": [],
   "source": []
  },
  {
   "cell_type": "code",
   "execution_count": null,
   "metadata": {},
   "outputs": [],
   "source": []
  },
  {
   "cell_type": "code",
   "execution_count": null,
   "metadata": {},
   "outputs": [],
   "source": []
  },
  {
   "cell_type": "code",
   "execution_count": null,
   "metadata": {},
   "outputs": [],
   "source": []
  },
  {
   "cell_type": "code",
   "execution_count": null,
   "metadata": {},
   "outputs": [],
   "source": []
  },
  {
   "cell_type": "code",
   "execution_count": null,
   "metadata": {},
   "outputs": [],
   "source": []
  },
  {
   "cell_type": "code",
   "execution_count": null,
   "metadata": {},
   "outputs": [],
   "source": []
  },
  {
   "cell_type": "code",
   "execution_count": null,
   "metadata": {},
   "outputs": [],
   "source": []
  },
  {
   "cell_type": "code",
   "execution_count": null,
   "metadata": {},
   "outputs": [],
   "source": []
  },
  {
   "cell_type": "markdown",
   "metadata": {},
   "source": [
    "## CHAPTER 1"
   ]
  },
  {
   "cell_type": "code",
   "execution_count": 157,
   "metadata": {},
   "outputs": [],
   "source": [
    "#E = ReferenceFrame('E')\n",
    "E = CoordSys3D('E')"
   ]
  },
  {
   "cell_type": "code",
   "execution_count": 158,
   "metadata": {},
   "outputs": [],
   "source": [
    "A = a_1*E.i + a_2*E.j + a_3 * E.k\n",
    "B = b_1*E.i + b_2*E.j + b_3 * E.k"
   ]
  },
  {
   "cell_type": "code",
   "execution_count": 159,
   "metadata": {},
   "outputs": [
    {
     "data": {
      "image/png": "[encoded data removed]",
      "text/latex": [
       "$\\displaystyle (a_{1})\\mathbf{\\hat{i}_{E}} + (a_{2})\\mathbf{\\hat{j}_{E}} + (a_{3})\\mathbf{\\hat{k}_{E}}$"
      ],
      "text/plain": [
       "a_1*E.i + a_2*E.j + a_3*E.k"
      ]
     },
     "execution_count": 159,
     "metadata": {},
     "output_type": "execute_result"
    }
   ],
   "source": [
    "A"
   ]
  },
  {
   "cell_type": "code",
   "execution_count": 160,
   "metadata": {},
   "outputs": [
    {
     "data": {
      "image/png": "[encoded data removed]",
      "text/latex": [
       "$\\displaystyle (b_{1})\\mathbf{\\hat{i}_{E}} + (b_{2})\\mathbf{\\hat{j}_{E}} + (b_{3})\\mathbf{\\hat{k}_{E}}$"
      ],
      "text/plain": [
       "b_1*E.i + b_2*E.j + b_3*E.k"
      ]
     },
     "execution_count": 160,
     "metadata": {},
     "output_type": "execute_result"
    }
   ],
   "source": [
    "B"
   ]
  },
  {
   "cell_type": "code",
   "execution_count": 161,
   "metadata": {},
   "outputs": [
    {
     "data": {
      "image/png": "[encoded data removed]",
      "text/latex": [
       "$\\displaystyle a_{1} b_{1} + a_{2} b_{2} + a_{3} b_{3}$"
      ],
      "text/plain": [
       "a₁⋅b₁ + a₂⋅b₂ + a₃⋅b₃"
      ]
     },
     "execution_count": 161,
     "metadata": {},
     "output_type": "execute_result"
    }
   ],
   "source": [
    "A & B"
   ]
  },
  {
   "cell_type": "markdown",
   "metadata": {},
   "source": [
    "### Dot/Inner Product Using Vector Lengths"
   ]
  },
  {
   "cell_type": "markdown",
   "metadata": {},
   "source": [
    "$A.B \\equiv \\frac{1}{4} [(A + B)^2 - (A - B)^2]$"
   ]
  },
  {
   "cell_type": "code",
   "execution_count": 162,
   "metadata": {},
   "outputs": [
    {
     "data": {
      "image/png": "[encoded data removed]",
      "text/latex": [
       "$\\displaystyle 1.0 a_{1} b_{1} + 1.0 a_{2} b_{2} + 1.0 a_{3} b_{3}$"
      ],
      "text/plain": [
       "1.0⋅a₁⋅b₁ + 1.0⋅a₂⋅b₂ + 1.0⋅a₃⋅b₃"
      ]
     },
     "execution_count": 162,
     "metadata": {},
     "output_type": "execute_result"
    }
   ],
   "source": [
    "1/4*((A + B).magnitude()**2 - (A - B).magnitude()**2).simplify()"
   ]
  },
  {
   "cell_type": "markdown",
   "metadata": {},
   "source": [
    "### Metric Tensor"
   ]
  },
  {
   "cell_type": "markdown",
   "metadata": {},
   "source": [
    "$g(A, B) \\equiv A.B$"
   ]
  },
  {
   "cell_type": "markdown",
   "metadata": {},
   "source": [
    "### Tensor Product $\\otimes$\n",
    "* Every second rank tensor can be expressed as a sum of tensor products"
   ]
  },
  {
   "cell_type": "markdown",
   "metadata": {},
   "source": [
    "### Contraction"
   ]
  },
  {
   "cell_type": "markdown",
   "metadata": {},
   "source": [
    "* $contraction(A \\otimes B) \\equiv A.B$\n",
    "* Reduces the rank of a tensor by 2\n",
    "*  If $T = A \\otimes B + C \\otimes D + ..., contraction(T) = A.B + C.D + ...$\n",
    "* If T is a rank 3 tensor $A \\otimes B \\otimes C + E \\otimes F \\otimes G + . . . $, $1 \\& 3contraction(A \\otimes B \\otimes C + E \\otimes F \\otimes G + . . .) \\equiv (A . C)B + (E . G)F + . . . .$"
   ]
  },
  {
   "cell_type": "markdown",
   "metadata": {},
   "source": [
    "### Exercise 1.1"
   ]
  },
  {
   "cell_type": "markdown",
   "metadata": {},
   "source": [
    "Knowledge:\n",
    "* $\\frac{dp}{dt} = F$ = m$a$\n",
    "* Lorentz force $F$ = q$(E + v \\times B)$\n",
    "* Lorentz force $F$ = q$E$ (Assumming no magnetic field)\n",
    "* E = m$v^2$"
   ]
  },
  {
   "cell_type": "code",
   "execution_count": 163,
   "metadata": {},
   "outputs": [],
   "source": [
    "m, q, t, v, B, E, F = sympy.symbols('m q t v B E F')"
   ]
  },
  {
   "cell_type": "code",
   "execution_count": 164,
   "metadata": {},
   "outputs": [],
   "source": [
    "Energy = m * v**2"
   ]
  },
  {
   "cell_type": "code",
   "execution_count": 165,
   "metadata": {},
   "outputs": [
    {
     "data": {
      "image/png": "[encoded data removed]",
      "text/latex": [
       "$\\displaystyle \\frac{m v^{2}}{t}$"
      ],
      "text/plain": [
       "   2\n",
       "m⋅v \n",
       "────\n",
       " t  "
      ]
     },
     "execution_count": 165,
     "metadata": {},
     "output_type": "execute_result"
    }
   ],
   "source": [
    "rate = Energy / t\n",
    "rate"
   ]
  },
  {
   "cell_type": "code",
   "execution_count": 166,
   "metadata": {},
   "outputs": [
    {
     "data": {
      "image/png": "[encoded data removed]",
      "text/latex": [
       "$\\displaystyle F v$"
      ],
      "text/plain": [
       "F⋅v"
      ]
     },
     "execution_count": 166,
     "metadata": {},
     "output_type": "execute_result"
    }
   ],
   "source": [
    "rate = rate.subs(m*v/t, F)\n",
    "rate"
   ]
  },
  {
   "cell_type": "code",
   "execution_count": 167,
   "metadata": {},
   "outputs": [
    {
     "data": {
      "image/png": "[encoded data removed]",
      "text/latex": [
       "$\\displaystyle E q v$"
      ],
      "text/plain": [
       "E⋅q⋅v"
      ]
     },
     "execution_count": 167,
     "metadata": {},
     "output_type": "execute_result"
    }
   ],
   "source": [
    "rate = rate.subs(F, q*E)\n",
    "rate"
   ]
  },
  {
   "cell_type": "markdown",
   "metadata": {},
   "source": [
    "### Exercise 1.2"
   ]
  },
  {
   "cell_type": "code",
   "execution_count": null,
   "metadata": {},
   "outputs": [],
   "source": []
  },
  {
   "cell_type": "code",
   "execution_count": null,
   "metadata": {},
   "outputs": [],
   "source": []
  },
  {
   "cell_type": "code",
   "execution_count": null,
   "metadata": {},
   "outputs": [],
   "source": []
  },
  {
   "cell_type": "code",
   "execution_count": null,
   "metadata": {},
   "outputs": [],
   "source": []
  },
  {
   "cell_type": "markdown",
   "metadata": {},
   "source": [
    "### 1.5 Component Representation of Tensor Algebra"
   ]
  },
  {
   "cell_type": "code",
   "execution_count": 168,
   "metadata": {},
   "outputs": [],
   "source": [
    "p, R = sympy.symbols('\\overline{p} R')"
   ]
  },
  {
   "cell_type": "code",
   "execution_count": 169,
   "metadata": {},
   "outputs": [],
   "source": [
    "a = sympy.Matrix([1, 2, 3])"
   ]
  },
  {
   "cell_type": "code",
   "execution_count": null,
   "metadata": {},
   "outputs": [],
   "source": []
  },
  {
   "cell_type": "code",
   "execution_count": null,
   "metadata": {},
   "outputs": [],
   "source": []
  },
  {
   "cell_type": "markdown",
   "metadata": {},
   "source": [
    "### Exercise 1.6"
   ]
  },
  {
   "cell_type": "code",
   "execution_count": 215,
   "metadata": {},
   "outputs": [
    {
     "data": {
      "text/latex": [
       "$\\displaystyle \\left[\\begin{matrix}\\cos{\\left(\\phi \\right)} & \\sin{\\left(\\phi \\right)} & 0\\\\- \\sin{\\left(\\phi \\right)} & \\cos{\\left(\\phi \\right)} & 0\\\\0 & 0 & 1\\end{matrix}\\right]$"
      ],
      "text/plain": [
       "⎡cos(φ)   sin(φ)  0⎤\n",
       "⎢                  ⎥\n",
       "⎢-sin(φ)  cos(φ)  0⎥\n",
       "⎢                  ⎥\n",
       "⎣   0       0     1⎦"
      ]
     },
     "execution_count": 215,
     "metadata": {},
     "output_type": "execute_result"
    }
   ],
   "source": [
    "E = CoordSys3D('E')\n",
    "E_ = E.orient_new_axis('\\overline{E}', phi, E.k)\n",
    "# A = E.i + E.j + E.k # To create an actual vector object that supports to_matrix([CoordSys3D]) to get the transformation matrix\n",
    "#A.to_matrix(E)\n",
    "#E_.position_wrt(E)\n",
    "#E_.origin.express_coordinates(E)\n",
    "#type(E_.origin)\n",
    "\n",
    "E_.rotation_matrix(E) # Immutable sparse matrix"
   ]
  },
  {
   "cell_type": "code",
   "execution_count": null,
   "metadata": {},
   "outputs": [],
   "source": []
  }
 ],
 "metadata": {
  "kernelspec": {
   "display_name": "Python 3",
   "language": "python",
   "name": "python3"
  },
  "language_info": {
   "codemirror_mode": {
    "name": "ipython",
    "version": 3
   },
   "file_extension": ".py",
   "mimetype": "text/x-python",
   "name": "python",
   "nbconvert_exporter": "python",
   "pygments_lexer": "ipython3",
   "version": "3.8.6rc1"
  }
 },
 "nbformat": 4,
 "nbformat_minor": 2
}
