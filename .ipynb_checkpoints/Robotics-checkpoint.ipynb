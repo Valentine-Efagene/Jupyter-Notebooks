{
 "cells": [
  {
   "cell_type": "code",
   "execution_count": 126,
   "id": "45cd4005",
   "metadata": {},
   "outputs": [],
   "source": [
    "'''import numpy as np\n",
    "import math\n",
    "import sympy\n",
    "import sympy as sp\n",
    "from sympy import Eq, IndexedBase, symbols, Idx, Indexed, Sum, S, N\n",
    "from sympy.functions.special.tensor_functions import KroneckerDelta\n",
    "from sympy.vector import Vector, CoordSys3D, AxisOrienter, BodyOrienter, Del, curl, divergence, gradient, is_conservative, is_solenoidal, scalar_potential, Point, scalar_potential_difference, Del, express, matrix_to_vector\n",
    "import matplotlib.pyplot as plt\n",
    "from sympy.physics.vector import ReferenceFrame\n",
    "import matplotlib as mpl\n",
    "from mpl_toolkits.mplot3d import Axes3D\n",
    "from IPython.display import display\n",
    "from IPython.display import display_latex\n",
    "from sympy import latex\n",
    "from sympy import Array, Matrix, transpose, zeros, diff, Function, Derivative, cos, sin, sqrt, solve, linsolve, acos, atan, asin\n",
    "from sympy import symbols\n",
    "from sympy.plotting import plot'''\n",
    "from numpy import log, log2\n",
    "from scipy.linalg import logm, expm\n",
    "\n",
    "from spatialmath import SO2, SE2\n",
    "from spatialmath.base import rotx, rot2, det, simplify, skew, vex, trot2, transl2, trplot2\n",
    "from spatialmath.base import transl, trplot\n",
    "import spatialmath.base.symbolic as sym"
   ]
  },
  {
   "cell_type": "code",
   "execution_count": 84,
   "id": "8a239744",
   "metadata": {},
   "outputs": [],
   "source": [
    "np.set_printoptions(formatter={'float': lambda x: \"{0: 0.4f}\".format(x)})"
   ]
  },
  {
   "cell_type": "markdown",
   "id": "ded778fb",
   "metadata": {},
   "source": [
    "Given  \n",
    "$^A\\xi_B$,  \n",
    "A is the reference frame  \n",
    "B is the target frame  \n",
    "\n",
    "$^AP = ^A\\xi_B \\cdot ^BP$"
   ]
  },
  {
   "cell_type": "markdown",
   "id": "3071d991",
   "metadata": {},
   "source": [
    "We use the operator ⊕ to indicate\n",
    "composition of relative poses"
   ]
  },
  {
   "cell_type": "markdown",
   "id": "79875422",
   "metadata": {},
   "source": [
    "$^AP = (^A\\xi_B \\oplus ^B\\xi_C) \\bullet ^CP$"
   ]
  },
  {
   "cell_type": "code",
   "execution_count": 85,
   "id": "e4304902",
   "metadata": {},
   "outputs": [
    {
     "data": {
      "text/latex": [
       "$\\displaystyle 1.0$"
      ],
      "text/plain": [
       "1.00000000000000"
      ]
     },
     "execution_count": 85,
     "metadata": {},
     "output_type": "execute_result"
    }
   ],
   "source": [
    "R = rot2(0.2)\n",
    "d = det(R)\n",
    "d"
   ]
  },
  {
   "cell_type": "code",
   "execution_count": 86,
   "id": "091f690d",
   "metadata": {},
   "outputs": [
    {
     "data": {
      "text/plain": [
       "array([[cos(theta), -sin(theta)],\n",
       "       [sin(theta), cos(theta)]], dtype=object)"
      ]
     },
     "execution_count": 86,
     "metadata": {},
     "output_type": "execute_result"
    }
   ],
   "source": [
    "theta = sym.symbol('theta')\n",
    "R = rot2(theta)\n",
    "R"
   ]
  },
  {
   "cell_type": "code",
   "execution_count": 87,
   "id": "1528fa4e",
   "metadata": {},
   "outputs": [
    {
     "data": {
      "text/latex": [
       "$\\displaystyle \\left[\\begin{matrix}\\cos^{2}{\\left(\\theta \\right)} & \\sin^{2}{\\left(\\theta \\right)}\\\\\\sin^{2}{\\left(\\theta \\right)} & \\cos^{2}{\\left(\\theta \\right)}\\end{matrix}\\right]$"
      ],
      "text/plain": [
       "[[cos(theta)**2, sin(theta)**2], [sin(theta)**2, cos(theta)**2]]"
      ]
     },
     "execution_count": 87,
     "metadata": {},
     "output_type": "execute_result"
    }
   ],
   "source": [
    "simplify(R * R)"
   ]
  },
  {
   "cell_type": "code",
   "execution_count": 88,
   "id": "54603503",
   "metadata": {},
   "outputs": [
    {
     "data": {
      "text/latex": [
       "$\\displaystyle 1$"
      ],
      "text/plain": [
       "1"
      ]
     },
     "execution_count": 88,
     "metadata": {},
     "output_type": "execute_result"
    }
   ],
   "source": [
    "simplify(det(R))"
   ]
  },
  {
   "cell_type": "markdown",
   "id": "a3081983",
   "metadata": {},
   "source": [
    "Matrix Exponential"
   ]
  },
  {
   "cell_type": "code",
   "execution_count": 89,
   "id": "12ab9db1",
   "metadata": {},
   "outputs": [
    {
     "data": {
      "text/plain": [
       "array([[ 0.9553, -0.2955],\n",
       "       [ 0.2955,  0.9553]])"
      ]
     },
     "execution_count": 89,
     "metadata": {},
     "output_type": "execute_result"
    }
   ],
   "source": [
    "R = rot2(0.3)\n",
    "R"
   ]
  },
  {
   "cell_type": "code",
   "execution_count": 98,
   "id": "f9b9d634",
   "metadata": {},
   "outputs": [],
   "source": [
    "R = rot2(0.3)\n",
    "S = logm(R)"
   ]
  },
  {
   "cell_type": "code",
   "execution_count": 99,
   "id": "32dbdda8",
   "metadata": {},
   "outputs": [],
   "source": [
    "k = skew(2)"
   ]
  },
  {
   "cell_type": "code",
   "execution_count": 100,
   "id": "21734229",
   "metadata": {},
   "outputs": [
    {
     "data": {
      "text/plain": [
       "array([ 0.3000])"
      ]
     },
     "execution_count": 100,
     "metadata": {},
     "output_type": "execute_result"
    }
   ],
   "source": [
    "vex(S)"
   ]
  },
  {
   "cell_type": "code",
   "execution_count": 103,
   "id": "72b02341",
   "metadata": {},
   "outputs": [
    {
     "data": {
      "text/plain": [
       "array([[ 0.9553, -0.2955],\n",
       "       [ 0.2955,  0.9553]])"
      ]
     },
     "execution_count": 103,
     "metadata": {},
     "output_type": "execute_result"
    }
   ],
   "source": [
    "expm(S)"
   ]
  },
  {
   "cell_type": "markdown",
   "id": "fda58f28",
   "metadata": {},
   "source": [
    "$R = e^{[\\theta]_x} \\exists SO(2)$"
   ]
  },
  {
   "cell_type": "code",
   "execution_count": 104,
   "id": "59c7c77a",
   "metadata": {},
   "outputs": [
    {
     "data": {
      "text/plain": [
       "array([[ 0.9553, -0.2955],\n",
       "       [ 0.2955,  0.9553]])"
      ]
     },
     "execution_count": 104,
     "metadata": {},
     "output_type": "execute_result"
    }
   ],
   "source": [
    "R = rot2(0.3)\n",
    "R = expm(skew(0.3))\n",
    "R"
   ]
  },
  {
   "cell_type": "markdown",
   "id": "788e981a",
   "metadata": {},
   "source": [
    "Pose in 2-Dimensions"
   ]
  },
  {
   "cell_type": "markdown",
   "id": "98191b72",
   "metadata": {},
   "source": [
    "Homogeneous Transformation Matrix"
   ]
  },
  {
   "cell_type": "markdown",
   "id": "1a49032a",
   "metadata": {},
   "source": [
    "$^AP = (^AR_B)$"
   ]
  },
  {
   "cell_type": "code",
   "execution_count": 113,
   "id": "e51ffd53",
   "metadata": {},
   "outputs": [
    {
     "data": {
      "text/plain": [
       "array([[ 0.8660, -0.0000,  0.0000],\n",
       "       [ 0.0000,  0.8660,  0.0000],\n",
       "       [ 0.0000,  0.0000,  1.0000]])"
      ]
     },
     "execution_count": 113,
     "metadata": {},
     "output_type": "execute_result"
    }
   ],
   "source": [
    "T1 = transl2(1, 2) * trot2(30, 'deg')\n",
    "T1"
   ]
  },
  {
   "cell_type": "code",
   "execution_count": 132,
   "id": "f41e09a4",
   "metadata": {},
   "outputs": [
    {
     "data": {
      "text/plain": [
       "<Axes3DSubplot:xlabel='X', ylabel='Y'>"
      ]
     },
     "execution_count": 132,
     "metadata": {},
     "output_type": "execute_result"
    },
    {
     "data": {
      "image/png": "[encoded data removed]",
      "text/plain": [
       "<Figure size 432x288 with 1 Axes>"
      ]
     },
     "metadata": {
      "needs_background": "light"
     },
     "output_type": "display_data"
    }
   ],
   "source": [
    "trplot( transl(1,2,3), frame='A', rviz=True, width=1, dims=[0, 10, 0, 10, 0, 10])"
   ]
  },
  {
   "cell_type": "code",
   "execution_count": 135,
   "id": "c270d5c0",
   "metadata": {},
   "outputs": [
    {
     "ename": "ValueError",
     "evalue": "argument is not valid SE(2) matrix",
     "output_type": "error",
     "traceback": [
      "\u001b[1;31m---------------------------------------------------------------------------\u001b[0m",
      "\u001b[1;31mValueError\u001b[0m                                Traceback (most recent call last)",
      "\u001b[1;32mC:\\Users\\VALENT~1\\AppData\\Local\\Temp/ipykernel_14648/2747480762.py\u001b[0m in \u001b[0;36m<module>\u001b[1;34m\u001b[0m\n\u001b[1;32m----> 1\u001b[1;33m \u001b[0mtrplot2\u001b[0m\u001b[1;33m(\u001b[0m \u001b[0mtransl2\u001b[0m\u001b[1;33m(\u001b[0m\u001b[1;36m1\u001b[0m\u001b[1;33m,\u001b[0m\u001b[1;36m2\u001b[0m\u001b[1;33m)\u001b[0m \u001b[1;33m*\u001b[0m \u001b[0mtrot2\u001b[0m\u001b[1;33m(\u001b[0m\u001b[1;36m30\u001b[0m\u001b[1;33m,\u001b[0m \u001b[1;34m'deg'\u001b[0m\u001b[1;33m)\u001b[0m\u001b[1;33m,\u001b[0m \u001b[0mdims\u001b[0m\u001b[1;33m=\u001b[0m\u001b[1;33m[\u001b[0m\u001b[1;36m0\u001b[0m\u001b[1;33m,\u001b[0m \u001b[1;36m5\u001b[0m\u001b[1;33m,\u001b[0m \u001b[1;36m0\u001b[0m\u001b[1;33m,\u001b[0m \u001b[1;36m5\u001b[0m\u001b[1;33m]\u001b[0m\u001b[1;33m)\u001b[0m\u001b[1;33m\u001b[0m\u001b[1;33m\u001b[0m\u001b[0m\n\u001b[0m",
      "\u001b[1;32md:\\programs\\python\\python39\\lib\\site-packages\\spatialmath\\base\\transforms2d.py\u001b[0m in \u001b[0;36mtrplot2\u001b[1;34m(T, color, frame, axislabel, axissubscript, textcolor, labels, length, arrow, rviz, ax, block, dims, wtl, width, d1, d2, **kwargs)\u001b[0m\n\u001b[0;32m    826\u001b[0m         \u001b[0mT\u001b[0m \u001b[1;33m=\u001b[0m \u001b[0mbase\u001b[0m\u001b[1;33m.\u001b[0m\u001b[0mr2t\u001b[0m\u001b[1;33m(\u001b[0m\u001b[0mT\u001b[0m\u001b[1;33m)\u001b[0m\u001b[1;33m\u001b[0m\u001b[1;33m\u001b[0m\u001b[0m\n\u001b[0;32m    827\u001b[0m     \u001b[1;32melif\u001b[0m \u001b[1;32mnot\u001b[0m \u001b[0mishom2\u001b[0m\u001b[1;33m(\u001b[0m\u001b[0mT\u001b[0m\u001b[1;33m,\u001b[0m \u001b[0mcheck\u001b[0m\u001b[1;33m=\u001b[0m\u001b[1;32mTrue\u001b[0m\u001b[1;33m)\u001b[0m\u001b[1;33m:\u001b[0m\u001b[1;33m\u001b[0m\u001b[1;33m\u001b[0m\u001b[0m\n\u001b[1;32m--> 828\u001b[1;33m         \u001b[1;32mraise\u001b[0m \u001b[0mValueError\u001b[0m\u001b[1;33m(\u001b[0m\u001b[1;34m\"argument is not valid SE(2) matrix\"\u001b[0m\u001b[1;33m)\u001b[0m\u001b[1;33m\u001b[0m\u001b[1;33m\u001b[0m\u001b[0m\n\u001b[0m\u001b[0;32m    829\u001b[0m \u001b[1;33m\u001b[0m\u001b[0m\n\u001b[0;32m    830\u001b[0m     \u001b[0max\u001b[0m \u001b[1;33m=\u001b[0m \u001b[0mbase\u001b[0m\u001b[1;33m.\u001b[0m\u001b[0maxes_logic\u001b[0m\u001b[1;33m(\u001b[0m\u001b[0max\u001b[0m\u001b[1;33m,\u001b[0m \u001b[1;36m2\u001b[0m\u001b[1;33m)\u001b[0m\u001b[1;33m\u001b[0m\u001b[1;33m\u001b[0m\u001b[0m\n",
      "\u001b[1;31mValueError\u001b[0m: argument is not valid SE(2) matrix"
     ]
    }
   ],
   "source": [
    "trplot2( transl2(1,2) * trot2(30, 'deg'), frame='A', rviz=True, width=1, dims=[0, 5, 0, 5])"
   ]
  },
  {
   "cell_type": "code",
   "execution_count": 136,
   "id": "0a90ba63",
   "metadata": {},
   "outputs": [
    {
     "data": {
      "text/plain": [
       "array([[ 0.8660, -0.0000,  0.0000],\n",
       "       [ 0.0000,  0.8660,  0.0000],\n",
       "       [ 0.0000,  0.0000,  1.0000]])"
      ]
     },
     "execution_count": 136,
     "metadata": {},
     "output_type": "execute_result"
    }
   ],
   "source": [
    "transl2(1,2) * trot2(30, 'deg')"
   ]
  },
  {
   "cell_type": "code",
   "execution_count": null,
   "id": "69862b77",
   "metadata": {},
   "outputs": [],
   "source": []
  }
 ],
 "metadata": {
  "kernelspec": {
   "display_name": "Python 3 (ipykernel)",
   "language": "python",
   "name": "python3"
  },
  "language_info": {
   "codemirror_mode": {
    "name": "ipython",
    "version": 3
   },
   "file_extension": ".py",
   "mimetype": "text/x-python",
   "name": "python",
   "nbconvert_exporter": "python",
   "pygments_lexer": "ipython3",
   "version": "3.9.6"
  }
 },
 "nbformat": 4,
 "nbformat_minor": 5
}
