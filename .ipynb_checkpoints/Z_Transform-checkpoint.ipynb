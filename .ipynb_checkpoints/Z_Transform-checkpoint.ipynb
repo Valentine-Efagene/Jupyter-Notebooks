{
 "cells": [
  {
   "cell_type": "markdown",
   "metadata": {},
   "source": [
    "## 20 Sept 2019"
   ]
  },
  {
   "cell_type": "markdown",
   "metadata": {},
   "source": [
    "<strong>RULES</strong><br>\n",
    "<strong>Date:</strong> Level 2 heading ## <br>\n",
    "<strong>Example Heading:</strong> Level 3 heading ###<br>\n",
    "<strong>Method Heading:</strong> Level 4 heading ####"
   ]
  },
  {
   "cell_type": "markdown",
   "metadata": {},
   "source": [
    "### References"
   ]
  },
  {
   "cell_type": "markdown",
   "metadata": {},
   "source": [
    "1. [Forester_W._Isen;_J._Moura]_DSP_for_MATLAB_and_La Volume II(z-lib.org)\n",
    "2. H. K. Dass, Advanced Engineering Mathematics\n",
    "3. [Forester_W._Isen;_J._Moura]_DSP_for_MATLAB_and_La Volume I(z-lib.org)\n",
    "4. [John_G_Proakis;_Dimitris_G_Manolakis]_Digital_Sig(z-lib.org)"
   ]
  },
  {
   "cell_type": "markdown",
   "metadata": {},
   "source": [
    "### Imports"
   ]
  },
  {
   "cell_type": "code",
   "execution_count": 1,
   "metadata": {},
   "outputs": [],
   "source": [
    "import numpy as np\n",
    "from sympy import oo\n",
    "import math\n",
    "import sympy as sp\n",
    "import matplotlib.pyplot as plt\n",
    "import matplotlib as mpl\n",
    "from mpl_toolkits.mplot3d import Axes3D\n",
    "from IPython.display import display\n",
    "from IPython.display import display_latex\n",
    "from sympy import latex\n",
    "import math\n",
    "from scipy import signal\n",
    "from datetime import datetime"
   ]
  },
  {
   "cell_type": "markdown",
   "metadata": {},
   "source": [
    "### Setup"
   ]
  },
  {
   "cell_type": "code",
   "execution_count": 2,
   "metadata": {},
   "outputs": [],
   "source": [
    "sp.init_printing(use_latex = True)\n",
    "    \n",
    "z, f, i = sp.symbols('z f i')\n",
    "x, k = sp.symbols('x k')"
   ]
  },
  {
   "cell_type": "markdown",
   "metadata": {},
   "source": [
    "### Methods"
   ]
  },
  {
   "cell_type": "code",
   "execution_count": 3,
   "metadata": {},
   "outputs": [],
   "source": [
    "# Usage: display_equation('u_x', x)\n",
    "def display_equation(idx, symObj):\n",
    "    if(isinstance(idx, str)):\n",
    "        eqn = '\\\\[' + idx + ' = ' + latex(symObj) + '\\\\]'\n",
    "        display_latex(eqn, raw=True)\n",
    "    else:\n",
    "        eqn = '\\\\[' + latex(idx) + ' = ' + latex(symObj) + '\\\\]'\n",
    "        display_latex(eqn, raw=True)\n",
    "    return"
   ]
  },
  {
   "cell_type": "code",
   "execution_count": 4,
   "metadata": {},
   "outputs": [],
   "source": [
    "# Usage: display_full_latex('u_x')\n",
    "def display_full_latex(idx):\n",
    "    if(isinstance(idx, str)):\n",
    "        eqn = '\\\\[' + idx + '\\\\]'\n",
    "        display_latex(eqn, raw=True)\n",
    "    else:\n",
    "        eqn = '\\\\[' + latex(idx) + '\\\\]'\n",
    "        display_latex(eqn, raw=True)\n",
    "    return"
   ]
  },
  {
   "cell_type": "code",
   "execution_count": 5,
   "metadata": {},
   "outputs": [],
   "source": [
    "# Usage: display_full_latex('u_x')\n",
    "def display_full_latex(idx):\n",
    "    if(isinstance(idx, str)):\n",
    "        eqn = '\\\\[' + idx + '\\\\]'\n",
    "        display_latex(eqn, raw=True)\n",
    "    else:\n",
    "        eqn = '\\\\[' + latex(idx) + '\\\\]'\n",
    "        display_latex(eqn, raw=True)\n",
    "    return"
   ]
  },
  {
   "cell_type": "code",
   "execution_count": 6,
   "metadata": {},
   "outputs": [],
   "source": [
    "def ztrans(a, b):\n",
    "    F = sp.summation(f/z**k, ( k, a, b ))\n",
    "    return F"
   ]
  },
  {
   "cell_type": "code",
   "execution_count": 7,
   "metadata": {},
   "outputs": [],
   "source": [
    "def display_ztrans(f, k, limits = (-4, 4)):\n",
    "    F = sp.summation(f/z**k, ( k, -oo, oo ))\n",
    "    display_equation('f(k)', f)\n",
    "    display_equation('F(k)_{\\infty}', F)\n",
    "\n",
    "    F = sp.summation(f/z**k, (k, limits[0], limits[1]))\n",
    "    display_equation('F(k)_{'+ str(limits[0]) + ',' + str(limits[1]) + '}', F)\n",
    "    return"
   ]
  },
  {
   "cell_type": "code",
   "execution_count": 8,
   "metadata": {},
   "outputs": [],
   "source": [
    "def sum_of_GP(a, r):\n",
    "    return sp.simplify(a/(1-r))"
   ]
  },
  {
   "cell_type": "code",
   "execution_count": 9,
   "metadata": {},
   "outputs": [],
   "source": [
    "# Credit: https://www.dsprelated.com/showcode/244.php\n",
    "import numpy as np\n",
    "import matplotlib.pyplot as plt\n",
    "from  matplotlib import patches\n",
    "from matplotlib.figure import Figure\n",
    "from matplotlib import rcParams\n",
    "    \n",
    "def zplane(b,a,filename=None):\n",
    "    \"\"\"Plot the complex z-plane given a transfer function.\n",
    "    \"\"\"\n",
    "\n",
    "    # get a figure/plot\n",
    "    ax = plt.subplot(111)\n",
    "\n",
    "    # create the unit circle\n",
    "    uc = patches.Circle((0,0), radius=1, fill=False,\n",
    "                        color='black', ls='dashed')\n",
    "    ax.add_patch(uc)\n",
    "\n",
    "    # The coefficients are less than 1, normalize the coeficients\n",
    "    if np.max(b) > 1:\n",
    "        kn = np.max(b)\n",
    "        b = b/float(kn)\n",
    "    else:\n",
    "        kn = 1\n",
    "\n",
    "    if np.max(a) > 1:\n",
    "        kd = np.max(a)\n",
    "        a = a/float(kd)\n",
    "    else:\n",
    "        kd = 1\n",
    "        \n",
    "    # Get the poles and zeros\n",
    "    p = np.roots(a)\n",
    "    z = np.roots(b)\n",
    "    k = kn/float(kd)\n",
    "    \n",
    "    # Plot the zeros and set marker properties    \n",
    "    t1 = plt.plot(z.real, z.imag, 'go', ms=10)\n",
    "    plt.setp( t1, markersize=10.0, markeredgewidth=1.0,\n",
    "              markeredgecolor='k', markerfacecolor='g')\n",
    "\n",
    "    # Plot the poles and set marker properties\n",
    "    t2 = plt.plot(p.real, p.imag, 'rx', ms=10)\n",
    "    plt.setp( t2, markersize=12.0, markeredgewidth=3.0,\n",
    "              markeredgecolor='b', markerfacecolor='b')\n",
    "\n",
    "    ax.spines['left'].set_position('center')\n",
    "    ax.spines['bottom'].set_position('center')\n",
    "    ax.spines['right'].set_visible(False)\n",
    "    ax.spines['top'].set_visible(False)\n",
    "\n",
    "    # set the ticks\n",
    "    r = 1.5; plt.axis('scaled'); plt.axis([-r, r, -r, r])\n",
    "    ticks = [-1, -.5, .5, 1]; plt.xticks(ticks); plt.yticks(ticks)\n",
    "\n",
    "    if filename is None:\n",
    "        plt.show()\n",
    "    else:\n",
    "        plt.savefig(filename)\n",
    "    \n",
    "\n",
    "    return z, p, k"
   ]
  },
  {
   "cell_type": "markdown",
   "metadata": {},
   "source": [
    "### Z Transform"
   ]
  },
  {
   "cell_type": "code",
   "execution_count": 10,
   "metadata": {},
   "outputs": [
    {
     "data": {
      "text/latex": [
       "\\[X(z) = \\sum_{-\\infty}^{\\infty} x[n]z^{-n}\\]"
      ]
     },
     "metadata": {},
     "output_type": "display_data"
    }
   ],
   "source": [
    "display_full_latex('X(z) = \\sum_{-\\infty}^{\\infty} x[n]z^{-n}')"
   ]
  },
  {
   "cell_type": "markdown",
   "metadata": {},
   "source": [
    "### Tests"
   ]
  },
  {
   "cell_type": "markdown",
   "metadata": {},
   "source": [
    "#### Convert Symbolic to Numeric"
   ]
  },
  {
   "cell_type": "code",
   "execution_count": 11,
   "metadata": {},
   "outputs": [
    {
     "data": {
      "image/png": "[encoded data removed]",
      "text/latex": [
       "$$4$$"
      ],
      "text/plain": [
       "4"
      ]
     },
     "execution_count": 11,
     "metadata": {},
     "output_type": "execute_result"
    }
   ],
   "source": [
    "f = x**2\n",
    "f = sp.lambdify(x, f, 'numpy')\n",
    "f(2)"
   ]
  },
  {
   "cell_type": "code",
   "execution_count": 12,
   "metadata": {},
   "outputs": [
    {
     "data": {
      "text/latex": [
       "\\[f(x) = \\sum_{k=-\\infty}^{\\infty} 3^{k}\\]"
      ]
     },
     "metadata": {},
     "output_type": "display_data"
    }
   ],
   "source": [
    "display_equation('f(x)', sp.summation(3**k, ( k, -oo, oo )))"
   ]
  },
  {
   "cell_type": "code",
   "execution_count": 13,
   "metadata": {},
   "outputs": [
    {
     "data": {
      "text/latex": [
       "\\[F(z) = \\sum_{k=-\\infty}^{\\infty} 3^{k} z^{- k}\\]"
      ]
     },
     "metadata": {},
     "output_type": "display_data"
    }
   ],
   "source": [
    "display_equation('F(z)', sp.summation(3**k/z**k, ( k, -oo, oo )))"
   ]
  },
  {
   "cell_type": "markdown",
   "metadata": {},
   "source": [
    "#### Partial Fractions"
   ]
  },
  {
   "cell_type": "code",
   "execution_count": 14,
   "metadata": {},
   "outputs": [
    {
     "data": {
      "text/latex": [
       "\\[f(x) = \\frac{1}{x^{2} + x - 6}\\]"
      ]
     },
     "metadata": {},
     "output_type": "display_data"
    },
    {
     "data": {
      "text/latex": [
       "\\[f(x)_{canonical} = - \\frac{1}{5 \\left(x + 3\\right)} + \\frac{1}{5 \\left(x - 2\\right)}\\]"
      ]
     },
     "metadata": {},
     "output_type": "display_data"
    }
   ],
   "source": [
    "f = 1/(x**2 + x - 6)\n",
    "display_equation('f(x)', f)\n",
    "f = sp.apart(f)\n",
    "display_equation('f(x)_{canonical}', f)"
   ]
  },
  {
   "cell_type": "markdown",
   "metadata": {},
   "source": [
    "#### Piecewise"
   ]
  },
  {
   "cell_type": "code",
   "execution_count": 15,
   "metadata": {},
   "outputs": [
    {
     "data": {
      "text/latex": [
       "\\[f(k) = \\begin{cases} 5^{k} & \\text{for}\\: k < 0 \\\\3^{k} & \\text{otherwise} \\end{cases}\\]"
      ]
     },
     "metadata": {},
     "output_type": "display_data"
    }
   ],
   "source": [
    "f1 = 5**k\n",
    "f2 = 3**k\n",
    "f = sp.Piecewise((f1, k < 0), (f2, k >= 0))\n",
    "display_equation('f(k)', f)"
   ]
  },
  {
   "cell_type": "markdown",
   "metadata": {},
   "source": [
    "## 21 Sept 2019"
   ]
  },
  {
   "cell_type": "markdown",
   "metadata": {},
   "source": [
    "#### Positive Time / Causal"
   ]
  },
  {
   "cell_type": "code",
   "execution_count": 16,
   "metadata": {},
   "outputs": [
    {
     "data": {
      "text/latex": [
       "\\[f(k) = k^{2} \\theta\\left(k\\right)\\]"
      ]
     },
     "metadata": {},
     "output_type": "display_data"
    },
    {
     "data": {
      "image/png": "[encoded data removed]",
      "text/plain": [
       "<Figure size 432x288 with 1 Axes>"
      ]
     },
     "metadata": {
      "needs_background": "light"
     },
     "output_type": "display_data"
    },
    {
     "data": {
      "text/plain": [
       "<sympy.plotting.plot.Plot at 0x228d43de940>"
      ]
     },
     "execution_count": 16,
     "metadata": {},
     "output_type": "execute_result"
    }
   ],
   "source": [
    "f1 = k **2\n",
    "f2 = 3**k\n",
    "f = f1 * sp.Heaviside(k)\n",
    "# or\n",
    "#f = sp.Piecewise((0, k < 0), (f1, k >= 0))\n",
    "display_equation('f(k)', f)\n",
    "sp.plot(f, (k, -10, 10))"
   ]
  },
  {
   "cell_type": "markdown",
   "metadata": {},
   "source": [
    "#### Stem Plot"
   ]
  },
  {
   "cell_type": "code",
   "execution_count": 17,
   "metadata": {},
   "outputs": [
    {
     "data": {
      "image/png": "[encoded data removed]",
      "text/plain": [
       "<Figure size 432x288 with 1 Axes>"
      ]
     },
     "metadata": {
      "needs_background": "light"
     },
     "output_type": "display_data"
    }
   ],
   "source": [
    "x = np.linspace(0.1, 2 * np.pi, 41)\n",
    "y = np.sin(x)\n",
    "\n",
    "plt.stem(x, y)\n",
    "plt.show()"
   ]
  },
  {
   "cell_type": "markdown",
   "metadata": {},
   "source": [
    "#### zplane Plot"
   ]
  },
  {
   "cell_type": "code",
   "execution_count": 18,
   "metadata": {},
   "outputs": [
    {
     "data": {
      "image/png": "[encoded data removed]",
      "text/plain": [
       "<Figure size 432x288 with 1 Axes>"
      ]
     },
     "metadata": {
      "needs_background": "light"
     },
     "output_type": "display_data"
    },
    {
     "data": {
      "text/plain": [
       "(array([-1.,  0.,  0.]), array([-0.5+0.8660254j, -0.5-0.8660254j]), 1.0)"
      ]
     },
     "execution_count": 18,
     "metadata": {},
     "output_type": "execute_result"
    }
   ],
   "source": [
    "b = np.array([1, 1, 0, 0])\n",
    "a = np.array([1, 1, 1])\n",
    "zplane(b,a)"
   ]
  },
  {
   "cell_type": "markdown",
   "metadata": {},
   "source": [
    "### Filter"
   ]
  },
  {
   "cell_type": "code",
   "execution_count": 19,
   "metadata": {},
   "outputs": [
    {
     "data": {
      "text/latex": [
       "\\[F(z) = \\frac{1 + \\frac{1}{z^{2}}}{1 - \\frac{1.2}{z} + \\frac{0.81}{z^{2}}}\\]"
      ]
     },
     "metadata": {},
     "output_type": "display_data"
    },
    {
     "data": {
      "text/plain": [
       "array([[1., 1., 1., 1., 1., 1., 1., 1.]])"
      ]
     },
     "execution_count": 19,
     "metadata": {},
     "output_type": "execute_result"
    }
   ],
   "source": [
    "g = (1 + z**-2)/(1-1.2*z**-1+0.81*z**-2)\n",
    "display_equation('F(z)', g)\n",
    "b = np.array([1,1])\n",
    "a = np.array([1,-1.2,0.81])\n",
    "x = np.ones((1, 8))\n",
    "# Response\n",
    "y = signal.lfilter(b, a, x)\n",
    "# Reverse\n",
    "signal.lfilter(a, b, y)"
   ]
  },
  {
   "cell_type": "markdown",
   "metadata": {},
   "source": [
    "### [1] Example 2.2"
   ]
  },
  {
   "cell_type": "code",
   "execution_count": 20,
   "metadata": {},
   "outputs": [
    {
     "data": {
      "image/png": "[encoded data removed]",
      "text/plain": [
       "<Figure size 432x288 with 1 Axes>"
      ]
     },
     "metadata": {
      "needs_background": "light"
     },
     "output_type": "display_data"
    }
   ],
   "source": [
    "radFreq = np.arange(0, 2*np.pi, 2*np.pi/499)\n",
    "g = np.exp(1j*radFreq)\n",
    "Zxform= 1/(1-0.7*g**(-1))\n",
    "\n",
    "plt.plot(radFreq/np.pi,abs(Zxform))\n",
    "plt.title('Graph')\n",
    "plt.xlabel('Frequency, Units of π')\n",
    "plt.ylabel('H(x)')\n",
    "plt.grid(True)\n",
    "plt.show()"
   ]
  },
  {
   "cell_type": "markdown",
   "metadata": {},
   "source": [
    "### [2] Chapter 19, Example 5"
   ]
  },
  {
   "cell_type": "code",
   "execution_count": 21,
   "metadata": {},
   "outputs": [
    {
     "data": {
      "text/latex": [
       "\\[f(k) = 3^{- k}\\]"
      ]
     },
     "metadata": {},
     "output_type": "display_data"
    },
    {
     "data": {
      "text/latex": [
       "\\[F(k)_{\\infty} = \\sum_{k=-\\infty}^{\\infty} 3^{- k} z^{- k}\\]"
      ]
     },
     "metadata": {},
     "output_type": "display_data"
    },
    {
     "data": {
      "text/latex": [
       "\\[F(k)_{-4,3} = 81 z^{4} + 27 z^{3} + 9 z^{2} + 3 z + 1 + \\frac{1}{3 z} + \\frac{1}{9 z^{2}} + \\frac{1}{27 z^{3}}\\]"
      ]
     },
     "metadata": {},
     "output_type": "display_data"
    }
   ],
   "source": [
    "f = 3**(-k)\n",
    "display_ztrans(f, k, (-4, 3))"
   ]
  },
  {
   "cell_type": "markdown",
   "metadata": {},
   "source": [
    "### [2] Example 9"
   ]
  },
  {
   "cell_type": "code",
   "execution_count": 22,
   "metadata": {},
   "outputs": [
    {
     "data": {
      "text/latex": [
       "\\[f(k) = \\begin{cases} 5^{k} & \\text{for}\\: k < 0 \\\\3^{k} & \\text{otherwise} \\end{cases}\\]"
      ]
     },
     "metadata": {},
     "output_type": "display_data"
    },
    {
     "data": {
      "text/latex": [
       "\\[F(k)_{\\infty} = \\sum_{k=-\\infty}^{\\infty} \\begin{cases} 5^{k} z^{- k} & \\text{for}\\: k < 0 \\\\3^{k} z^{- k} & \\text{otherwise} \\end{cases}\\]"
      ]
     },
     "metadata": {},
     "output_type": "display_data"
    },
    {
     "data": {
      "text/latex": [
       "\\[F(k)_{-3,3} = \\frac{z^{3}}{125} + \\frac{z^{2}}{25} + \\frac{z}{5} + 1 + \\frac{3}{z} + \\frac{9}{z^{2}} + \\frac{27}{z^{3}}\\]"
      ]
     },
     "metadata": {},
     "output_type": "display_data"
    }
   ],
   "source": [
    "f1 = 5**k\n",
    "f2 = 3**k\n",
    "f = sp.Piecewise((f1, k < 0), (f2, k >= 0))\n",
    "display_ztrans(f, k, (-3, 3))"
   ]
  },
  {
   "cell_type": "code",
   "execution_count": 23,
   "metadata": {},
   "outputs": [
    {
     "data": {
      "text/latex": [
       "\\[F(z) = - \\frac{2 z}{z^{2} - 8 z + 15}\\]"
      ]
     },
     "metadata": {},
     "output_type": "display_data"
    }
   ],
   "source": [
    "p = sum_of_GP(z/5, z/5)\n",
    "q = sum_of_GP(1, 3/z)\n",
    "display_equation('F(z)', sp.ratsimp(q + p))"
   ]
  },
  {
   "cell_type": "markdown",
   "metadata": {},
   "source": [
    "## 28 Sept, 2019"
   ]
  },
  {
   "cell_type": "markdown",
   "metadata": {},
   "source": [
    "### [3] Folding formula"
   ]
  },
  {
   "cell_type": "markdown",
   "metadata": {},
   "source": [
    "fperceived = [ f - fsampling * NINT( f / fsampling ) ]"
   ]
  },
  {
   "cell_type": "markdown",
   "metadata": {},
   "source": [
    "## 9 Oct, 2019"
   ]
  },
  {
   "cell_type": "markdown",
   "metadata": {},
   "source": [
    "### [3] Section 4.3"
   ]
  },
  {
   "cell_type": "markdown",
   "metadata": {},
   "source": [
    "### Equations"
   ]
  },
  {
   "cell_type": "code",
   "execution_count": 24,
   "metadata": {},
   "outputs": [
    {
     "data": {
      "text/latex": [
       "\\[F \\rightarrow analog\\]"
      ]
     },
     "metadata": {},
     "output_type": "display_data"
    },
    {
     "data": {
      "text/latex": [
       "\\[f \\rightarrow discrete\\]"
      ]
     },
     "metadata": {},
     "output_type": "display_data"
    },
    {
     "data": {
      "text/latex": [
       "\\[Nyquist frequency = F_s\\]"
      ]
     },
     "metadata": {},
     "output_type": "display_data"
    },
    {
     "data": {
      "text/latex": [
       "\\[Folding frequency = \\frac{F_s}{2}\\]"
      ]
     },
     "metadata": {},
     "output_type": "display_data"
    },
    {
     "data": {
      "text/latex": [
       "\\[F_{max} = \\frac{F_s}{2}\\]"
      ]
     },
     "metadata": {},
     "output_type": "display_data"
    },
    {
     "data": {
      "text/latex": [
       "\\[T = \\frac{1}{F_s}\\]"
      ]
     },
     "metadata": {},
     "output_type": "display_data"
    },
    {
     "data": {
      "text/latex": [
       "\\[f = \\frac{F}{F_s}\\]"
      ]
     },
     "metadata": {},
     "output_type": "display_data"
    },
    {
     "data": {
      "text/latex": [
       "\\[f_k = \\frac{k}{N}\\]"
      ]
     },
     "metadata": {},
     "output_type": "display_data"
    },
    {
     "data": {
      "text/latex": [
       "\\[F_k = F_0 + kF_s, k = \\pm 1, \\pm 2, ...\\]"
      ]
     },
     "metadata": {},
     "output_type": "display_data"
    },
    {
     "data": {
      "text/latex": [
       "\\[x_a(t) = Asin(2\\pi Ft + \\theta)\\]"
      ]
     },
     "metadata": {},
     "output_type": "display_data"
    },
    {
     "data": {
      "text/latex": [
       "\\[x(n) = Asin(\\frac{2\\pi nk}{N} + \\theta)\\]"
      ]
     },
     "metadata": {},
     "output_type": "display_data"
    },
    {
     "data": {
      "text/latex": [
       "\\[x(n) = Asin(2\\pi fn + \\theta)\\]"
      ]
     },
     "metadata": {},
     "output_type": "display_data"
    },
    {
     "data": {
      "text/latex": [
       "\\[x(n) = x_a (nT) = Acos(2\\pi \\frac{F_0 + kF_s}{F_s} n + \\theta)\\]"
      ]
     },
     "metadata": {},
     "output_type": "display_data"
    },
    {
     "data": {
      "text/latex": [
       "\\[t = nT\\]"
      ]
     },
     "metadata": {},
     "output_type": "display_data"
    },
    {
     "data": {
      "text/latex": [
       "\\[\\Omega = 2\\pi F\\]"
      ]
     },
     "metadata": {},
     "output_type": "display_data"
    },
    {
     "data": {
      "text/latex": [
       "\\[\\omega = 2\\pi f\\]"
      ]
     },
     "metadata": {},
     "output_type": "display_data"
    },
    {
     "data": {
      "text/latex": [
       "\\[\\omega = \\Omega T\\]"
      ]
     },
     "metadata": {},
     "output_type": "display_data"
    },
    {
     "data": {
      "text/latex": [
       "\\[x_q(n) = Q[x(n)]\\]"
      ]
     },
     "metadata": {},
     "output_type": "display_data"
    },
    {
     "data": {
      "text/latex": [
       "\\[e_q(n) = x_q(n) - x(n)\\]"
      ]
     },
     "metadata": {},
     "output_type": "display_data"
    },
    {
     "data": {
      "text/latex": [
       "\\[Interpolation function, g(t) = \\frac{sin2\\pi Bt}{2\\pi Bt}\\]"
      ]
     },
     "metadata": {},
     "output_type": "display_data"
    },
    {
     "data": {
      "text/latex": [
       "\\[x_a(t) = \\sum^\\infty _{n = - \\infty} x_a(\\frac{n}{F_s}).g(t - \\frac{n}{F_s})\\]"
      ]
     },
     "metadata": {},
     "output_type": "display_data"
    },
    {
     "data": {
      "text/latex": [
       "\\[\\Delta = \\frac{x_{max} - x_{min}}{L-1}, where L = Number of quantization levels\\]"
      ]
     },
     "metadata": {},
     "output_type": "display_data"
    },
    {
     "data": {
      "text/latex": [
       "\\[-\\frac{\\Delta}{2} \\leq e_q(n) \\leq \\frac{\\Delta}{2}\\]"
      ]
     },
     "metadata": {},
     "output_type": "display_data"
    },
    {
     "data": {
      "text/latex": [
       "\\[b \\geq log_2 L\\]"
      ]
     },
     "metadata": {},
     "output_type": "display_data"
    },
    {
     "data": {
      "text/latex": [
       "\\[SQNR = \\frac{3}{2}.2^{2b}\\]"
      ]
     },
     "metadata": {},
     "output_type": "display_data"
    },
    {
     "data": {
      "text/latex": [
       "\\[SQNR(dB) = 10log_{10}SQNR = 1.76 + 6.02b\\]"
      ]
     },
     "metadata": {},
     "output_type": "display_data"
    }
   ],
   "source": [
    "display_full_latex('F \\\\rightarrow analog')\n",
    "display_full_latex('f \\\\rightarrow discrete')\n",
    "display_full_latex('Nyquist frequency = F_s')\n",
    "display_full_latex('Folding frequency = \\\\frac{F_s}{2}')\n",
    "display_full_latex('F_{max} = \\\\frac{F_s}{2}')\n",
    "display_full_latex('T = \\\\frac{1}{F_s}')\n",
    "display_full_latex('f = \\\\frac{F}{F_s}')\n",
    "display_full_latex('f_k = \\\\frac{k}{N}')\n",
    "display_full_latex('F_k = F_0 + kF_s, k = \\\\pm 1, \\\\pm 2, ...')\n",
    "display_full_latex('x_a(t) = Asin(2\\\\pi Ft + \\\\theta)')\n",
    "display_full_latex('x(n) = Asin(\\\\frac{2\\\\pi nk}{N} + \\\\theta)')\n",
    "display_full_latex('x(n) = Asin(2\\\\pi fn + \\\\theta)')\n",
    "display_full_latex('x(n) = x_a (nT) = Acos(2\\\\pi \\\\frac{F_0 + kF_s}{F_s} n + \\\\theta)')\n",
    "display_full_latex('t = nT')\n",
    "display_full_latex('\\\\Omega = 2\\\\pi F')\n",
    "display_full_latex('\\\\omega = 2\\\\pi f')\n",
    "display_full_latex('\\\\omega = \\\\Omega T')\n",
    "display_full_latex('x_q(n) = Q[x(n)]')\n",
    "display_full_latex('e_q(n) = x_q(n) - x(n)')\n",
    "display_full_latex('Interpolation function, g(t) = \\\\frac{sin2\\\\pi Bt}{2\\\\pi Bt}')\n",
    "display_full_latex('x_a(t) = \\\\sum^\\\\infty _{n = - \\\\infty} x_a(\\\\frac{n}{F_s}).g(t - \\\\frac{n}{F_s})')\n",
    "display_full_latex('\\\\Delta = \\\\frac{x_{max} - x_{min}}{L-1}, where L = Number of quantization levels')\n",
    "display_full_latex('-\\\\frac{\\\\Delta}{2} \\\\leq e_q(n) \\\\leq \\\\frac{\\\\Delta}{2}')\n",
    "display_full_latex('b \\\\geq log_2 L')\n",
    "display_full_latex('SQNR = \\\\frac{3}{2}.2^{2b}')\n",
    "display_full_latex('SQNR(dB) = 10log_{10}SQNR = 1.76 + 6.02b')"
   ]
  },
  {
   "cell_type": "code",
   "execution_count": 25,
   "metadata": {
    "scrolled": true
   },
   "outputs": [
    {
     "data": {
      "text/latex": [
       "\\[x_a(t) = 0.9^t\\]"
      ]
     },
     "metadata": {},
     "output_type": "display_data"
    },
    {
     "data": {
      "text/latex": [
       "\\[x(n) = 0.9^n\\]"
      ]
     },
     "metadata": {},
     "output_type": "display_data"
    },
    {
     "data": {
      "image/png": "[encoded data removed]",
      "text/plain": [
       "<Figure size 432x288 with 1 Axes>"
      ]
     },
     "metadata": {
      "needs_background": "light"
     },
     "output_type": "display_data"
    }
   ],
   "source": [
    "x = np.arange(0, 10, 1)\n",
    "y = np.power(0.9, x) * np.heaviside(np.power(0.9, x), 1)\n",
    "\n",
    "display_full_latex('x_a(t) = 0.9^t')\n",
    "display_full_latex('x(n) = 0.9^n')\n",
    "\n",
    "plt.stem(x, y)\n",
    "plt.plot(x, y, 'g-')\n",
    "plt.xticks(np.arange(0, 10, 1))\n",
    "plt.yticks(np.arange(0, 1.2, 0.1))\n",
    "plt.xlabel('n')\n",
    "plt.ylabel('x(n)')\n",
    "plt.grid(True)\n",
    "plt.show()"
   ]
  },
  {
   "cell_type": "markdown",
   "metadata": {},
   "source": [
    "## 14 Oct, 2019"
   ]
  },
  {
   "cell_type": "code",
   "execution_count": 26,
   "metadata": {},
   "outputs": [
    {
     "data": {
      "text/latex": [
       "\\[u_r(n) = \\begin{cases} 0 & \\text{for}\\: n < 0 \\\\n & \\text{otherwise} \\end{cases}\\]"
      ]
     },
     "metadata": {},
     "output_type": "display_data"
    },
    {
     "data": {
      "image/png": "[encoded data removed]",
      "text/plain": [
       "<Figure size 432x288 with 1 Axes>"
      ]
     },
     "metadata": {
      "needs_background": "light"
     },
     "output_type": "display_data"
    }
   ],
   "source": [
    "n = sp.symbols('n')\n",
    "\n",
    "x = np.arange(0, 10, 1)\n",
    "y = x * np.heaviside(x, 1)\n",
    "\n",
    "f = sp.Piecewise((0, n < 0), (n, n >= 0))\n",
    "display_equation('u_r(n)', f)\n",
    "\n",
    "plt.stem(x, y)\n",
    "plt.plot(x, y, 'g-')\n",
    "plt.xticks(np.arange(0, 10, 1))\n",
    "plt.yticks(np.arange(0, 10, 1))\n",
    "plt.xlabel('n')\n",
    "plt.ylabel('x(n)')\n",
    "plt.grid(True)\n",
    "plt.show()"
   ]
  },
  {
   "cell_type": "code",
   "execution_count": 27,
   "metadata": {},
   "outputs": [
    {
     "data": {
      "text/latex": [
       "\\[E = \\sum^\\infty _{n = -\\infty} x|(n)|^2\\]"
      ]
     },
     "metadata": {},
     "output_type": "display_data"
    },
    {
     "data": {
      "text/latex": [
       "\\[P = \\lim_{N \\rightarrow \\infty} \\frac{1}{2N + 1} \\sum^ N _{n = -N} x|(n)|^2\\]"
      ]
     },
     "metadata": {},
     "output_type": "display_data"
    }
   ],
   "source": [
    "display_full_latex('E = \\\\sum^\\\\infty _{n = -\\\\infty} x|(n)|^2')\n",
    "display_full_latex('P = \\\\lim_{N \\\\rightarrow \\\\infty} \\\\frac{1}{2N + 1} \\\\sum^ N _{n = -N} x|(n)|^2')"
   ]
  },
  {
   "cell_type": "markdown",
   "metadata": {},
   "source": [
    "## 9 Oct, 2019"
   ]
  },
  {
   "cell_type": "markdown",
   "metadata": {},
   "source": [
    "#### General form of the input-output relationships"
   ]
  },
  {
   "cell_type": "code",
   "execution_count": 28,
   "metadata": {},
   "outputs": [
    {
     "data": {
      "text/latex": [
       "\\[y(n) = -\\sum^N _{k = 1}a_k y(n-k) + \\sum^M _{k = 0}b_k x(n-k)\\]"
      ]
     },
     "metadata": {},
     "output_type": "display_data"
    }
   ],
   "source": [
    "display_full_latex('y(n) = -\\\\sum^N _{k = 1}a_k y(n-k) + \\\\sum^M _{k = 0}b_k x(n-k)')"
   ]
  },
  {
   "cell_type": "markdown",
   "metadata": {},
   "source": [
    "### [4] Example 3.2"
   ]
  },
  {
   "cell_type": "code",
   "execution_count": 29,
   "metadata": {},
   "outputs": [
    {
     "name": "stdout",
     "output_type": "stream",
     "text": [
      "[ 1  4  8  8  3 -2 -1]\n"
     ]
    },
    {
     "name": "stderr",
     "output_type": "stream",
     "text": [
      "c:\\program files (x86)\\microsoft visual studio\\shared\\python36_64\\lib\\site-packages\\matplotlib\\figure.py:445: UserWarning: Matplotlib is currently using module://ipykernel.pylab.backend_inline, which is a non-GUI backend, so cannot show the figure.\n",
      "  % get_backend())\n"
     ]
    },
    {
     "data": {
      "image/png": "[encoded data removed]",
      "text/plain": [
       "<Figure size 432x288 with 3 Axes>"
      ]
     },
     "metadata": {
      "needs_background": "light"
     },
     "output_type": "display_data"
    }
   ],
   "source": [
    "h = np.array([1, 2, 1, -1])\n",
    "x = np.array([1, 2, 3, 1])\n",
    "y = np.convolve(h, x, mode='full')\n",
    "#y = signal.convolve(h, x, mode='full', method='auto')\n",
    "print(y)\n",
    "\n",
    "fig, (ax_orig, ax_h, ax_x) = plt.subplots(3, 1, sharex=True)\n",
    "ax_orig.plot(h)\n",
    "ax_orig.set_title('Impulse Response')\n",
    "ax_orig.margins(0, 0.1)\n",
    "ax_h.plot(x)\n",
    "ax_h.set_title('Input Signal')\n",
    "ax_h.margins(0, 0.1)\n",
    "ax_x.plot(y)\n",
    "ax_x.set_title('Output')\n",
    "ax_x.margins(0, 0.1)\n",
    "fig.tight_layout()\n",
    "fig.show()"
   ]
  },
  {
   "cell_type": "markdown",
   "metadata": {},
   "source": [
    "### Sum of an AP with common ratio r and first term a, starting from the zeroth term"
   ]
  },
  {
   "cell_type": "code",
   "execution_count": 30,
   "metadata": {},
   "outputs": [
    {
     "data": {
      "text/latex": [
       "\\[S_n = a \\left(\\begin{cases} n + 1 & \\text{for}\\: r = 1 \\\\\\frac{- r^{n + 1} + 1}{- r + 1} & \\text{otherwise} \\end{cases}\\right)\\]"
      ]
     },
     "metadata": {},
     "output_type": "display_data"
    }
   ],
   "source": [
    "a, r = sp.symbols('a r')\n",
    "\n",
    "s = sp.summation(a*r**k, ( k, 0, n ))\n",
    "display_equation('S_n', s)"
   ]
  },
  {
   "cell_type": "markdown",
   "metadata": {},
   "source": [
    "### Sum of positive powers of a"
   ]
  },
  {
   "cell_type": "code",
   "execution_count": 31,
   "metadata": {},
   "outputs": [
    {
     "data": {
      "text/latex": [
       "\\[S_n = \\begin{cases} n + 1 & \\text{for}\\: a = 1 \\\\\\frac{- a^{n + 1} + 1}{- a + 1} & \\text{otherwise} \\end{cases}\\]"
      ]
     },
     "metadata": {},
     "output_type": "display_data"
    }
   ],
   "source": [
    "a = sp.symbols('a')\n",
    "\n",
    "s = sp.summation(a**k, ( k, 0, n ))\n",
    "display_equation('S_n', s)"
   ]
  },
  {
   "cell_type": "markdown",
   "metadata": {},
   "source": [
    "### [3] 4.12.3 Single Pole IIR"
   ]
  },
  {
   "cell_type": "code",
   "execution_count": 32,
   "metadata": {},
   "outputs": [
    {
     "data": {
      "text/plain": [
       "<StemContainer object of 3 artists>"
      ]
     },
     "execution_count": 32,
     "metadata": {},
     "output_type": "execute_result"
    },
    {
     "data": {
      "image/png": "[encoded data removed]",
      "text/plain": [
       "<Figure size 432x288 with 1 Axes>"
      ]
     },
     "metadata": {
      "needs_background": "light"
     },
     "output_type": "display_data"
    }
   ],
   "source": [
    "SR = 24\n",
    "b = 1\n",
    "p = 0.8\n",
    "y = np.zeros((1, SR)).ravel()\n",
    "x = np.zeros((1, SR + 1)).ravel()\n",
    "x[0] = 1\n",
    "y[0] = b * x[0]\n",
    "\n",
    "for n in range(1, SR):\n",
    "    y[n] = b * x[n] + p * y[n - 1]\n",
    "    \n",
    "plt.stem(y)"
   ]
  },
  {
   "cell_type": "markdown",
   "metadata": {},
   "source": [
    "### Copying the method above for [4] 4.1 Averaging"
   ]
  },
  {
   "cell_type": "code",
   "execution_count": 44,
   "metadata": {},
   "outputs": [
    {
     "name": "stdout",
     "output_type": "stream",
     "text": [
      "5.5 \n",
      "\n"
     ]
    }
   ],
   "source": [
    "x = np.array([1, 2, 3, 4, 5, 6, 7, 8, 9, 10])\n",
    "y[0] = b * x[0]\n",
    "\n",
    "for n in range(1, len(x)):\n",
    "    y[n] = (n/(n + 1)) * y[n - 1] + (1/(n + 1)) * x[n]\n",
    "    \n",
    "print(y[n], '\\n')"
   ]
  },
  {
   "cell_type": "markdown",
   "metadata": {},
   "source": [
    "### My Recursive Averaging Implementation"
   ]
  },
  {
   "cell_type": "code",
   "execution_count": 86,
   "metadata": {},
   "outputs": [],
   "source": [
    "def avg(x, n):\n",
    "    if (n < 0):\n",
    "        return 0\n",
    "    else:\n",
    "        return (n/(n + 1)) * avg(x, n - 1) + (1/(n + 1)) * x[n]"
   ]
  },
  {
   "cell_type": "code",
   "execution_count": 87,
   "metadata": {},
   "outputs": [
    {
     "name": "stdout",
     "output_type": "stream",
     "text": [
      "5.5\n"
     ]
    }
   ],
   "source": [
    "x = np.array([1, 2, 3, 4, 5, 6, 7, 8, 9, 10])\n",
    "average = avg(x, len(x) - 1)\n",
    "print(average)"
   ]
  },
  {
   "cell_type": "markdown",
   "metadata": {},
   "source": [
    "### Performance Comparism"
   ]
  },
  {
   "cell_type": "code",
   "execution_count": 88,
   "metadata": {},
   "outputs": [
    {
     "name": "stdout",
     "output_type": "stream",
     "text": [
      "Running time using my recursive average function: \n",
      " 9.268700000006903e-05 \n",
      "\n",
      "Running time using python sum function: \n",
      " 1.242499999989377e-05\n",
      "Running time using loop python function: \n",
      " 1.2827000000470435e-05\n"
     ]
    }
   ],
   "source": [
    "from timeit import timeit\n",
    "\n",
    "code_rec = '''\n",
    "import numpy as np\n",
    "\n",
    "def avg(x, n):\n",
    "    if (n < 0):\n",
    "        return 0\n",
    "    else:\n",
    "        return (n/(n + 1)) * avg(x, n - 1) + (1/(n + 1)) * x[n]\n",
    "        \n",
    "x = np.array([1, 2, 3, 4, 5, 6, 7, 8, 9, 10])\n",
    "average = avg(x, len(x) - 1)\n",
    "'''\n",
    "\n",
    "code_py = '''\n",
    "import numpy as np\n",
    "\n",
    "x = np.array([1, 2, 3, 4, 5, 6, 7, 8, 9, 10])\n",
    "average = sum(x, len(x) - 1) / len(x)\n",
    "'''\n",
    "\n",
    "code_loop = '''\n",
    "import numpy as np\n",
    "\n",
    "x = np.array([1, 2, 3, 4, 5, 6, 7, 8, 9, 10])\n",
    "sum = 0\n",
    "\n",
    "for i in x:\n",
    "    sum += i\n",
    "    \n",
    "average = sum/len(x)\n",
    "'''\n",
    "\n",
    "running_time_rec = timeit(code_rec, number = 100) / 100\n",
    "running_time_py = timeit(code_py, number = 100) / 100\n",
    "running_time_loop = timeit(code_loop, number = 100) / 100\n",
    "\n",
    "print(\"Running time using my recursive average function: \\n\",running_time_rec, '\\n')\n",
    "print(\"Running time using python sum function: \\n\",running_time_py)\n",
    "print(\"Running time using loop python function: \\n\",running_time_loop)"
   ]
  },
  {
   "cell_type": "code",
   "execution_count": null,
   "metadata": {},
   "outputs": [],
   "source": []
  }
 ],
 "metadata": {
  "kernelspec": {
   "display_name": "Python 3",
   "language": "python",
   "name": "python3"
  },
  "language_info": {
   "codemirror_mode": {
    "name": "ipython",
    "version": 3
   },
   "file_extension": ".py",
   "mimetype": "text/x-python",
   "name": "python",
   "nbconvert_exporter": "python",
   "pygments_lexer": "ipython3",
   "version": "3.6.6"
  }
 },
 "nbformat": 4,
 "nbformat_minor": 2
}
