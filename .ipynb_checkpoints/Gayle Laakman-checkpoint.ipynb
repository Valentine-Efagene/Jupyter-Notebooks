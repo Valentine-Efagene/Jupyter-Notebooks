{
 "cells": [
  {
   "cell_type": "markdown",
   "metadata": {},
   "source": [
    "1.1 Implement an algorithm to determine if a string has all unique characters. What if you can not use additional data structures?"
   ]
  },
  {
   "cell_type": "markdown",
   "metadata": {},
   "source": [
    "Using a boolean array O(n)"
   ]
  },
  {
   "cell_type": "code",
   "execution_count": 30,
   "metadata": {},
   "outputs": [
    {
     "name": "stdout",
     "output_type": "stream",
     "text": [
      "True\n"
     ]
    }
   ],
   "source": [
    "def isUnique(str):\n",
    "    char_set = [False] * 256\n",
    "    \n",
    "    for i in range(len(str)):\n",
    "        val = ord(str[i])\n",
    "        \n",
    "        if char_set[val]:\n",
    "            return False\n",
    "        \n",
    "        char_set[val] = True;\n",
    "        \n",
    "    return True;\n",
    "        \n",
    "print(isUnique(\"Helo\"))"
   ]
  },
  {
   "cell_type": "markdown",
   "metadata": {},
   "source": [
    "Using a bit vector O(n). <br> More space efficient <br>\n",
    "Assumption: lowercase only"
   ]
  },
  {
   "cell_type": "code",
   "execution_count": 39,
   "metadata": {},
   "outputs": [
    {
     "name": "stdout",
     "output_type": "stream",
     "text": [
      "False\n"
     ]
    }
   ],
   "source": [
    "def isUnique(str):\n",
    "    checker = 0\n",
    "    \n",
    "    for i in range(len(str)):\n",
    "        val = ord(str[i]) - ord('a')\n",
    "        \n",
    "        if (checker & (1 << val)) > 0:\n",
    "            return False\n",
    "        \n",
    "        checker |= (1 << val);\n",
    "        \n",
    "    return True;\n",
    "        \n",
    "print(isUnique(\"hello\"))"
   ]
  },
  {
   "cell_type": "markdown",
   "metadata": {},
   "source": [
    "1.2 Write code to reverse a C-Style String. (C-String means that “abcd” is represented as five characters, including the null character.)"
   ]
  },
  {
   "cell_type": "code",
   "execution_count": 93,
   "metadata": {},
   "outputs": [
    {
     "name": "stdout",
     "output_type": "stream",
     "text": [
      "nitnelaV\u0000\n",
      "Length =  7\n"
     ]
    }
   ],
   "source": [
    "def reverse(str):\n",
    "    tmp = str[-2]\n",
    "    \n",
    "    for i in range(-3, -len(str) - 1, -1):\n",
    "        tmp += str[i]\n",
    "        \n",
    "    tmp += '\\0'\n",
    "    return tmp\n",
    "\n",
    "str = \"abcdef\"\n",
    "str += '\\0'\n",
    "print(reverse(str))\n",
    "print(\"Length = \", len(str))"
   ]
  },
  {
   "cell_type": "markdown",
   "metadata": {},
   "source": [
    "Extra: Normal string reversal"
   ]
  },
  {
   "cell_type": "code",
   "execution_count": 97,
   "metadata": {},
   "outputs": [
    {
     "name": "stdout",
     "output_type": "stream",
     "text": [
      "olleH\n"
     ]
    }
   ],
   "source": [
    "str = \"Hello\"\n",
    "reversed = str[::-1]\n",
    "print(reversed)"
   ]
  },
  {
   "cell_type": "markdown",
   "metadata": {},
   "source": [
    "1.3 Design an algorithm and write code to remove the duplicate characters in a string without using any additional buffer. NOTE: One or two additional variables are fine. An extra copy of the array is not."
   ]
  },
  {
   "cell_type": "markdown",
   "metadata": {},
   "source": [
    "Her approach:\n",
    "Move through all the elements of the list, and for each <br>\n",
    "element, check that it has not occured before before. If it has, <br> don't increment the index, so you can place the next <br>\n",
    "element right there. When you have all unique characters, <br>\n",
    "append a null byte to terminate the string.\n",
    "\n",
    "Complexity: O(n<sup>2</sup>)"
   ]
  },
  {
   "cell_type": "code",
   "execution_count": 130,
   "metadata": {},
   "outputs": [
    {
     "name": "stdout",
     "output_type": "stream",
     "text": [
      "helo\u0000\n"
     ]
    }
   ],
   "source": [
    "def removeDuplicates(str):\n",
    "    if (str == None):\n",
    "        return\n",
    "    \n",
    "    length = len(str)\n",
    "    \n",
    "    if (length < 2):\n",
    "        return\n",
    "    \n",
    "    tail = 1\n",
    "    \n",
    "    for i in range(1, length):\n",
    "        j = 0\n",
    "        \n",
    "        while(j < tail):\n",
    "            j += 1\n",
    "            if(str[i] == str[j]):\n",
    "                break\n",
    "            \n",
    "        if (j == tail):\n",
    "            str[tail] = str[i]\n",
    "            tail += 1\n",
    "                \n",
    "    str[tail] = '\\0'\n",
    "    return ''.join(str)\n",
    "\n",
    "print(removeDuplicates(list(\"hello\")))"
   ]
  },
  {
   "cell_type": "code",
   "execution_count": null,
   "metadata": {},
   "outputs": [],
   "source": []
  }
 ],
 "metadata": {
  "kernelspec": {
   "display_name": "Python 3",
   "language": "python",
   "name": "python3"
  },
  "language_info": {
   "codemirror_mode": {
    "name": "ipython",
    "version": 3
   },
   "file_extension": ".py",
   "mimetype": "text/x-python",
   "name": "python",
   "nbconvert_exporter": "python",
   "pygments_lexer": "ipython3",
   "version": "3.6.6"
  }
 },
 "nbformat": 4,
 "nbformat_minor": 2
}
