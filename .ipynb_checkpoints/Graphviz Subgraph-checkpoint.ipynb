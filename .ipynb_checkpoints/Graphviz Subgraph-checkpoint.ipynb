{
 "cells": [
  {
   "cell_type": "code",
   "execution_count": null,
   "metadata": {},
   "outputs": [],
   "source": [
    "# cluster.py - http://www.graphviz.org/content/cluster\n",
    "\n",
    "from graphviz import Digraph\n",
    "\n",
    "dot = Digraph(node_attr={'shape': 'box', 'style':'rounded'}, format='png', filename='sensorfusion', graph_attr = {'splines': 'ortho'})\n",
    "dot.edge_attr.update(arrowhead='vee', arrowsize='1')\n",
    "\n",
    "# NOTE: the subgraph name needs to begin with 'cluster' (all lowercase)\n",
    "#       so that Graphviz recognizes it as a special cluster subgraph\n",
    "\n",
    "with dot.subgraph(name='cluster_0') as t_ext:\n",
    "    t_ext.attr(color='black', style='rounded')\n",
    "    t_ext.node_attr.update(style='rounded', color='black', shape='box')\n",
    "    dot.node('t_ext0', label='Receive generator signals')\n",
    "    dot.node('t_ext1', label='Update states with\\ngenerator signals')\n",
    "    t_ext.edge('t_ext0', 't_ext1')\n",
    "    t_ext.attr(label='t_ext')\n",
    "    \n",
    "with dot.subgraph(name='cluster_2') as t_int:\n",
    "    t_int.attr(color='black', style='rounded')\n",
    "    t_int.node_attr.update(style='rounded', color='black', shape='box')\n",
    "    t_int.node('t_int0', 'Reset State')\n",
    "    t_int.attr(label='t_int')\n",
    "    \n",
    "with dot.subgraph(name='cluster_3') as ta:\n",
    "    ta.attr(color='black', style='rounded')\n",
    "    ta.node_attr.update(style='rounded', color='black', shape='box')\n",
    "    ta.node('ta')\n",
    "    ta.attr(label='t_int')\n",
    "    \n",
    "with dot.subgraph(name='cluster_4') as o:\n",
    "    o.attr(color='black', style='rounded')\n",
    "    o.node_attr.update(style='rounded', color='black', shape='box')\n",
    "    o.edges([('O0', 'O1'), ('O1', 'O2')])\n",
    "    o.attr(label='output')\n",
    "\n",
    "dot.node('S', shape='circle', label='', color='black', style='filled')\n",
    "dot.node('G', label='Generators')\n",
    "dot.node('O0', label='')\n",
    "dot.node('0', label='Initialize state')\n",
    "dot.node('E', shape='doublecircle', label='', style='filled', color='black')\n",
    "\n",
    "dot.edge('S', '0')\n",
    "dot.edge('0', 't_ext0')\n",
    "#dot.edge('1', 'E')\n",
    "dot.edge('G', 't_ext0')\n",
    "dot.edge('O2', 'ta')\n",
    "dot.edge('t_ext1', 'O0')\n",
    "\n",
    "dot.edge('t_int0', 't_ext0')\n",
    "\n",
    "dot.edge('ta', 't_int0')\n",
    "dot\n",
    "#g.view()"
   ]
  }
 ],
 "metadata": {
  "kernelspec": {
   "display_name": "Python 3",
   "language": "python",
   "name": "python3"
  },
  "language_info": {
   "codemirror_mode": {
    "name": "ipython",
    "version": 3
   },
   "file_extension": ".py",
   "mimetype": "text/x-python",
   "name": "python",
   "nbconvert_exporter": "python",
   "pygments_lexer": "ipython3",
   "version": "3.8.6rc1"
  }
 },
 "nbformat": 4,
 "nbformat_minor": 4
}
