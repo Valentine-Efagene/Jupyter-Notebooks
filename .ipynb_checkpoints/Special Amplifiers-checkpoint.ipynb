{
 "cells": [
  {
   "cell_type": "code",
   "execution_count": 1,
   "metadata": {},
   "outputs": [],
   "source": [
    "import math"
   ]
  },
  {
   "cell_type": "code",
   "execution_count": 2,
   "metadata": {},
   "outputs": [],
   "source": [
    "from IPython.display import display_latex\n",
    "import math\n",
    "from decimal import *\n",
    "\n",
    "# Usage: display_full_latex('u_x')\n",
    "def display_full_latex(idx):\n",
    "    if(isinstance(idx, str)):\n",
    "        eqn = '\\\\[' + idx + '\\\\]'\n",
    "        display_latex(eqn, raw=True)\n",
    "    else:\n",
    "        eqn = '\\\\[' + latex(idx) + '\\\\]'\n",
    "        display_latex(eqn, raw=True)\n",
    "    return"
   ]
  },
  {
   "cell_type": "markdown",
   "metadata": {},
   "source": [
    "# Log Amplifier"
   ]
  },
  {
   "attachments": {
    "image.png": {
     "image/png": "[encoded data removed]"
    }
   },
   "cell_type": "markdown",
   "metadata": {},
   "source": [
    "![image.png](attachment:image.png)"
   ]
  },
  {
   "cell_type": "code",
   "execution_count": 5,
   "metadata": {},
   "outputs": [
    {
     "data": {
      "text/latex": [
       "\\[V_{out} = -(0.025)ln(\\frac{V_{in}}{I_R R_1})\\]"
      ]
     },
     "metadata": {},
     "output_type": "display_data"
    }
   ],
   "source": [
    "display_full_latex('V_{out} = -(0.025)ln(\\\\frac{V_{in}}{I_R R_1})')"
   ]
  },
  {
   "cell_type": "code",
   "execution_count": 41,
   "metadata": {},
   "outputs": [
    {
     "name": "stdout",
     "output_type": "stream",
     "text": [
      "-0.14978661367769955\n",
      "-0.15992324138040367\n"
     ]
    }
   ],
   "source": [
    "Vin1 = 2\n",
    "R = 100000\n",
    "I = 50 * math.pow(10, -9)\n",
    "Vo1 = -0.025 * math.log(Vin1 / (I * R))\n",
    "print(Vo1)\n",
    "\n",
    "Vin2 = 3\n",
    "R = 100000\n",
    "I = 50 * math.pow(10, -9)\n",
    "Vo2 = -0.025 * math.log(Vin2 / (I * R))\n",
    "print(Vo2)"
   ]
  },
  {
   "cell_type": "code",
   "execution_count": 14,
   "metadata": {},
   "outputs": [
    {
     "name": "stdout",
     "output_type": "stream",
     "text": [
      "0.005\n"
     ]
    }
   ],
   "source": [
    "k2 = I * R\n",
    "print(k2)"
   ]
  },
  {
   "cell_type": "code",
   "execution_count": 63,
   "metadata": {},
   "outputs": [
    {
     "data": {
      "text/latex": [
       "\\[V_{o1} = K_1ln(\\frac{V_{in1}}{K_2})\\]"
      ]
     },
     "metadata": {},
     "output_type": "display_data"
    },
    {
     "data": {
      "text/latex": [
       "\\[V_{o2} = K_1ln(\\frac{V_{in2}}{K_2})\\]"
      ]
     },
     "metadata": {},
     "output_type": "display_data"
    },
    {
     "data": {
      "text/latex": [
       "\\[\\frac{V_{o1}}{V_{o2}} = \\frac{ln(\\frac{V_{in1}}{K_2})}{ln(\\frac{V_{in2}}{K_2})}\\]"
      ]
     },
     "metadata": {},
     "output_type": "display_data"
    },
    {
     "data": {
      "text/latex": [
       "\\[\\frac{V_{o1}}{V_{o2}} = \\frac{lnV_{in1} - lnK_2}{lnV_{in2} - lnK_2}\\]"
      ]
     },
     "metadata": {},
     "output_type": "display_data"
    },
    {
     "data": {
      "text/latex": [
       "\\[lnK_2 = \\frac{V_{o2}lnV_{in1} - V_{o1}lnV_{in2}}{V_{o2} - V_{o1}}\\]"
      ]
     },
     "metadata": {},
     "output_type": "display_data"
    },
    {
     "data": {
      "text/latex": [
       "\\[K_2 = e^{(\\frac{V_{o2}ln(V_{in1}) - V_{o1}ln(V_{in2})}{V_{o2} - V_{o1}})}\\]"
      ]
     },
     "metadata": {},
     "output_type": "display_data"
    },
    {
     "data": {
      "text/latex": [
       "\\[K_1 = \\frac{V_{o1}}{ln(\\frac{V_{in1}}{K_2})}\\]"
      ]
     },
     "metadata": {},
     "output_type": "display_data"
    }
   ],
   "source": [
    "display_full_latex('V_{o1} = K_1ln(\\\\frac{V_{in1}}{K_2})')\n",
    "display_full_latex('V_{o2} = K_1ln(\\\\frac{V_{in2}}{K_2})')\n",
    "display_full_latex('\\\\frac{V_{o1}}{V_{o2}} = \\\\frac{ln(\\\\frac{V_{in1}}{K_2})}{ln(\\\\frac{V_{in2}}{K_2})}')\n",
    "display_full_latex('\\\\frac{V_{o1}}{V_{o2}} = \\\\frac{lnV_{in1} - lnK_2}{lnV_{in2} - lnK_2}')\n",
    "display_full_latex('lnK_2 = \\\\frac{V_{o2}lnV_{in1} - V_{o1}lnV_{in2}}{V_{o2} - V_{o1}}')\n",
    "display_full_latex('K_2 = e^{(\\\\frac{V_{o2}ln(V_{in1}) - V_{o1}ln(V_{in2})}{V_{o2} - V_{o1}})}')\n",
    "display_full_latex('K_1 = \\\\frac{V_{o1}}{ln(\\\\frac{V_{in1}}{K_2})}')"
   ]
  },
  {
   "cell_type": "code",
   "execution_count": 43,
   "metadata": {},
   "outputs": [
    {
     "name": "stdout",
     "output_type": "stream",
     "text": [
      "0.005000000000000042\n"
     ]
    }
   ],
   "source": [
    "K2 = math.exp( ( Vo2 * math.log(Vin1) - Vo1 * math.log(Vin2) ) / ( Vo2 - Vo1 ) )\n",
    "print(K2)"
   ]
  },
  {
   "cell_type": "code",
   "execution_count": 54,
   "metadata": {},
   "outputs": [],
   "source": [
    "def getK2(Vin1, Vin2, Vo1, Vo2):\n",
    "    K2 = math.exp( ( Vo2 * math.log(Vin1) - Vo1 * math.log(Vin2) ) / ( Vo2 - Vo1 ) )\n",
    "    return K2\n",
    "\n",
    "def getK1(Vin1, Vo1, K2):\n",
    "    K1 = Vo1 / (math.log(Vin1 / K2))\n",
    "    return K1"
   ]
  },
  {
   "cell_type": "code",
   "execution_count": 56,
   "metadata": {},
   "outputs": [
    {
     "name": "stdout",
     "output_type": "stream",
     "text": [
      "K2 =  4.1923674812759503e-13\n",
      "K1 =  -0.02712933808614077\n"
     ]
    }
   ],
   "source": [
    "K2 = getK2(2, 3, -0.792, -0.803)\n",
    "K1 = getK1(2, -0.792, K2)\n",
    "print('K2 = ', K2)\n",
    "print('K1 = ', K1)"
   ]
  },
  {
   "cell_type": "code",
   "execution_count": 62,
   "metadata": {},
   "outputs": [
    {
     "name": "stdout",
     "output_type": "stream",
     "text": [
      "-0.7543907515902681\n"
     ]
    }
   ],
   "source": [
    "print(K1 * math.log(0.5 / K2))"
   ]
  },
  {
   "cell_type": "code",
   "execution_count": null,
   "metadata": {},
   "outputs": [],
   "source": []
  }
 ],
 "metadata": {
  "kernelspec": {
   "display_name": "Python 3",
   "language": "python",
   "name": "python3"
  },
  "language_info": {
   "codemirror_mode": {
    "name": "ipython",
    "version": 3
   },
   "file_extension": ".py",
   "mimetype": "text/x-python",
   "name": "python",
   "nbconvert_exporter": "python",
   "pygments_lexer": "ipython3",
   "version": "3.6.6"
  }
 },
 "nbformat": 4,
 "nbformat_minor": 2
}
