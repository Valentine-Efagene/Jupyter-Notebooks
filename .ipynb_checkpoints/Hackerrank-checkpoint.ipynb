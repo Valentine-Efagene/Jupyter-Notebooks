{
 "cells": [
  {
   "cell_type": "code",
   "execution_count": 79,
   "metadata": {},
   "outputs": [],
   "source": [
    "class Node:\n",
    "    def __init__(self, data, next = None):\n",
    "        self.data = data\n",
    "        self.next = next\n",
    "\n",
    "class LinkedList:\n",
    "    def __init__(self):\n",
    "        self.head = None\n",
    "        self.tail = None\n",
    "        \n",
    "    # Function to insert a new node\n",
    "    # at the end\n",
    "    def push(self, newNode):        \n",
    "        if (self.head == None):\n",
    "            self.head = newNode\n",
    "        \n",
    "        if (self.tail != None):\n",
    "            self.tail.next = newNode\n",
    "        \n",
    "        self.tail = newNode\n",
    "            \n",
    "    # Utility function to print the\n",
    "    # linked LinkedList\n",
    "    def print(self):\n",
    "        temp = self.head\n",
    "        \n",
    "        while(temp):\n",
    "            print(temp.data, end = ' ')\n",
    "            temp = temp.next"
   ]
  },
  {
   "cell_type": "markdown",
   "metadata": {},
   "source": [
    "## Interview Preparation"
   ]
  },
  {
   "cell_type": "markdown",
   "metadata": {},
   "source": [
    "### 2D DS (HOURGLASS)"
   ]
  },
  {
   "cell_type": "code",
   "execution_count": 47,
   "metadata": {},
   "outputs": [],
   "source": [
    "def hourglassSum(arr):\n",
    "    hgSums = [[0,0,0,0], [0,0,0,0], [0,0,0,0], [0,0,0,0]]\n",
    "    for i in range(4):\n",
    "        for j in range(4):\n",
    "            hgSums[i][j] = arr[i][j] + arr[i][j + 1] + arr[i][j + 2] + arr[i + 1][j + 1] + arr[i + 2][j] + arr[i + 2][j + 1] + arr[i + 2][j + 2]\n",
    "    return max([max(row) for row in hgSums])\n",
    "\n",
    "if __name__ == '__main__':\n",
    "    arr = [[-9, -9, -9, 1, 1, 1], \n",
    "           [0, -9, 0, 4, 3, 2], \n",
    "           [-9, -9, -9, 1, 2, 3], \n",
    "           [0, 0, 8, 6, 6, 0], \n",
    "           [0, 0, 0, -2, 0, 0], \n",
    "           [0, 0, 1, 2, 4, 0]];\n",
    "    print(hourglassSum(arr));"
   ]
  },
  {
   "cell_type": "markdown",
   "metadata": {},
   "source": [
    "### Dynamic Array"
   ]
  },
  {
   "cell_type": "code",
   "execution_count": null,
   "metadata": {},
   "outputs": [],
   "source": [
    "def dynamicArray(n, queries):\n",
    "    o = []\n",
    "    lastAnswer = 0\n",
    "    s = [[None for i in range(0)] for j in range(n)]\n",
    "    for query in queries:\n",
    "        seq = s[(query[1] ^ lastAnswer) % n]\n",
    "        type = query[0]\n",
    "        x = query[1]\n",
    "        y = query[2]\n",
    "        \n",
    "        if type == 1:\n",
    "            seq.append(y)\n",
    "        elif type == 2:\n",
    "            lastAnswer = seq[y % len(seq)]\n",
    "            o.append(lastAnswer)\n",
    "    return o\n",
    "\n",
    "if __name__ == '__main__':\n",
    "    n = 2\n",
    "    queries = [[1, 0, 5],\n",
    "               [1, 1, 7],\n",
    "               [1, 0, 3],\n",
    "               [2, 1, 0],\n",
    "               [2, 1, 1]]\n",
    "    result = dynamicArray(n, queries)\n",
    "    print('\\n'.join(map(str, result)))"
   ]
  },
  {
   "cell_type": "markdown",
   "metadata": {},
   "source": [
    "### Left Rotate"
   ]
  },
  {
   "cell_type": "code",
   "execution_count": 1,
   "metadata": {},
   "outputs": [
    {
     "name": "stdout",
     "output_type": "stream",
     "text": [
      "5 1 2 3 4\n"
     ]
    }
   ],
   "source": [
    "n, d = 5, 4\n",
    "a = [1, 2, 3, 4, 5]\n",
    "b = a.copy()\n",
    "for i in range(n):\n",
    "    a[(i - d) % n] = b[i]\n",
    "del b\n",
    "print(' '.join(map(str, a)))"
   ]
  },
  {
   "cell_type": "markdown",
   "metadata": {},
   "source": [
    "#### Note"
   ]
  },
  {
   "cell_type": "markdown",
   "metadata": {},
   "source": [
    "I used python's special implementation of the modulo of a negative integer"
   ]
  },
  {
   "cell_type": "markdown",
   "metadata": {},
   "source": [
    " ### Sparse Arrays (Matching Strings)\n",
    " Medium"
   ]
  },
  {
   "cell_type": "code",
   "execution_count": 3,
   "metadata": {},
   "outputs": [],
   "source": [
    "def matchingStrings(strings, queries):\n",
    "    results = [0] * len(queries)\n",
    "    for i in range(len(queries)):\n",
    "        results[i] = strings.count(queries[i])\n",
    "    return results"
   ]
  },
  {
   "cell_type": "markdown",
   "metadata": {},
   "source": [
    "### Array Manipulation\n",
    "Hard\n",
    "\n",
    "Copied"
   ]
  },
  {
   "cell_type": "code",
   "execution_count": null,
   "metadata": {},
   "outputs": [],
   "source": [
    "def arrayManipulation(n, queries):\n",
    "    array = [0] * n\n",
    "    for query in queries:\n",
    "        a, b, k = query[0:3]\n",
    "        array[a - 1] += k\n",
    "        if b < len(array):\n",
    "            array[b] -= k\n",
    "    max = a = 0\n",
    "    for i in array:\n",
    "        a += i\n",
    "        if max < a:\n",
    "            max = a\n",
    "    return max\n",
    "\n",
    "n = 10\n",
    "#queries = [[2, 6, 8], [3, 5, 7], [1, 8, 1], [5, 9, 15]]\n",
    "queries = [[1, 2, 100], [2, 5, 100], [3, 4, 100]]\n",
    "print(arrayManipulation(n, queries))"
   ]
  },
  {
   "cell_type": "markdown",
   "metadata": {},
   "source": [
    "### Linked list"
   ]
  },
  {
   "cell_type": "code",
   "execution_count": 2,
   "metadata": {},
   "outputs": [
    {
     "name": "stdout",
     "output_type": "stream",
     "text": [
      "2\n",
      "3\n",
      "4\n",
      "5\n"
     ]
    }
   ],
   "source": [
    "class Node:\n",
    "    def __init__(self, data, next = None):\n",
    "        self.data = data\n",
    "        self.next = next\n",
    "\n",
    "def printLinkedList(head):\n",
    "    if head == None:\n",
    "        pass\n",
    "    else:\n",
    "        print(head.data)\n",
    "        printLinkedList(head.next)\n",
    "    \n",
    "node5 = Node(5, None)\n",
    "node4 = Node(4, node5)\n",
    "node3 = Node(3, node4)\n",
    "node2 = Node(2, node3)\n",
    "node1 = Node(1, node2)\n",
    "node0 = Node(0, node1)\n",
    "printLinkedList(node2)"
   ]
  },
  {
   "cell_type": "code",
   "execution_count": 10,
   "metadata": {},
   "outputs": [
    {
     "name": "stdout",
     "output_type": "stream",
     "text": [
      "0\n",
      "1\n",
      "2\n",
      "3\n",
      "4\n",
      "5\n",
      "100\n"
     ]
    }
   ],
   "source": [
    "class Node:\n",
    "    def __init__(self, data, next = None):\n",
    "        self.data = data\n",
    "        self.next = next\n",
    "\n",
    "def insertNodeAtTail(head, data):\n",
    "    if head == None:\n",
    "        return Node(data, None)\n",
    "    node = head\n",
    "    while node.next:\n",
    "        node = node.next\n",
    "    node.next = Node(data, None)\n",
    "    return head\n",
    "\n",
    "node5 = Node(5, None)\n",
    "node4 = Node(4, node5)\n",
    "node3 = Node(3, node4)\n",
    "node2 = Node(2, node3)\n",
    "node1 = Node(1, node2)\n",
    "node0 = Node(0, node1)\n",
    "printLinkedList(insertNodeAtTail(node0, 100))"
   ]
  },
  {
   "cell_type": "code",
   "execution_count": 11,
   "metadata": {},
   "outputs": [
    {
     "name": "stdout",
     "output_type": "stream",
     "text": [
      "100\n",
      "0\n",
      "1\n",
      "2\n",
      "3\n",
      "4\n",
      "5\n"
     ]
    }
   ],
   "source": [
    "class Node:\n",
    "    def __init__(self, data, next = None):\n",
    "        self.data = data\n",
    "        self.next = next\n",
    "        \n",
    "def insertNodeAtHead(llist, data):\n",
    "    return Node(data, llist)\n",
    "\n",
    "node5 = Node(5, None)\n",
    "node4 = Node(4, node5)\n",
    "node3 = Node(3, node4)\n",
    "node2 = Node(2, node3)\n",
    "node1 = Node(1, node2)\n",
    "node0 = Node(0, node1)\n",
    "printLinkedList(insertNodeAtHead(node0, 100))"
   ]
  },
  {
   "cell_type": "code",
   "execution_count": 16,
   "metadata": {},
   "outputs": [
    {
     "name": "stdout",
     "output_type": "stream",
     "text": [
      "0\n",
      "50\n",
      "1\n",
      "2\n",
      "3\n",
      "4\n",
      "5\n"
     ]
    }
   ],
   "source": [
    "class Node:\n",
    "    def __init__(self, data, next = None):\n",
    "        self.data = data\n",
    "        self.next = next\n",
    "\n",
    "def insertNodeAtPosition(head, data, position):\n",
    "    nodeb4 = None\n",
    "    node = head\n",
    "    for i in range(position):\n",
    "        nodeb4 = node\n",
    "        node = node.next\n",
    "    if nodeb4:\n",
    "        nodeb4.next = Node(data, node)\n",
    "    else:\n",
    "        return Node(data, head)\n",
    "    return head\n",
    "\n",
    "node5 = Node(5, None)\n",
    "node4 = Node(4, node5)\n",
    "node3 = Node(3, node4)\n",
    "node2 = Node(2, node3)\n",
    "node1 = Node(1, node2)\n",
    "node0 = Node(0, node1)\n",
    "printLinkedList(insertNodeAtPosition(node0, 50, 1))"
   ]
  },
  {
   "cell_type": "code",
   "execution_count": 17,
   "metadata": {},
   "outputs": [
    {
     "name": "stdout",
     "output_type": "stream",
     "text": [
      "0\n",
      "1\n",
      "2\n",
      "4\n",
      "5\n"
     ]
    }
   ],
   "source": [
    "class Node:\n",
    "    def __init__(self, data, next = None):\n",
    "        self.data = data\n",
    "        self.next = next\n",
    "\n",
    "def deleteNode(head, position):\n",
    "    if position == 0:\n",
    "        return head.next\n",
    "    \n",
    "    nodeb4 = head\n",
    "    for i in range(position - 1):\n",
    "        nodeb4 = nodeb4.next\n",
    "        \n",
    "    nodeb4.next = nodeb4.next.next\n",
    "    return head\n",
    "\n",
    "node5 = Node(5, None)\n",
    "node4 = Node(4, node5)\n",
    "node3 = Node(3, node4)\n",
    "node2 = Node(2, node3)\n",
    "node1 = Node(1, node2)\n",
    "node0 = Node(0, node1)\n",
    "printLinkedList(deleteNode(node0, 3))"
   ]
  },
  {
   "cell_type": "code",
   "execution_count": 19,
   "metadata": {},
   "outputs": [
    {
     "name": "stdout",
     "output_type": "stream",
     "text": [
      "5\n",
      "4\n",
      "3\n",
      "2\n",
      "1\n",
      "0\n"
     ]
    }
   ],
   "source": [
    "class Node:\n",
    "    def __init__(self, data, next = None):\n",
    "        self.data = data\n",
    "        self.next = next\n",
    "\n",
    "def reversePrint(head):\n",
    "    if not head:\n",
    "        return\n",
    "\n",
    "    nodes = []\n",
    "    node = head\n",
    "    while (node):\n",
    "        nodes.append(node.data)\n",
    "        node = node.next\n",
    "        \n",
    "    print('\\n'.join(map(str, nodes[::-1])))\n",
    "    \n",
    "node5 = Node(5, None)\n",
    "node4 = Node(4, node5)\n",
    "node3 = Node(3, node4)\n",
    "node2 = Node(2, node3)\n",
    "node1 = Node(1, node2)\n",
    "node0 = Node(0, node1)\n",
    "reversePrint(node0)"
   ]
  },
  {
   "cell_type": "code",
   "execution_count": 20,
   "metadata": {},
   "outputs": [
    {
     "name": "stdout",
     "output_type": "stream",
     "text": [
      "5\n",
      "4\n",
      "3\n"
     ]
    }
   ],
   "source": [
    "class Node:\n",
    "    def __init__(self, data, next = None):\n",
    "        self.data = data\n",
    "        self.next = next\n",
    "\n",
    "def reverse(head):\n",
    "    if not head:\n",
    "        return\n",
    "\n",
    "    nodes = []\n",
    "    node = head\n",
    "    while (node):\n",
    "        nodes.append(node)\n",
    "        node = node.next\n",
    "        \n",
    "    i = len(nodes) - 1\n",
    "    \n",
    "    while i > 0:\n",
    "        nodes[i].next = nodes[i - 1]\n",
    "        i -= 1\n",
    "    nodes[0].next = None\n",
    "    head = nodes[-1]\n",
    "    del nodes\n",
    "    return head\n",
    "    \n",
    "node5 = Node(5, None)\n",
    "node4 = Node(4, node5)\n",
    "node3 = Node(3, node4)\n",
    "node2 = Node(2, node3)\n",
    "node1 = Node(1, node2)\n",
    "node0 = Node(0, node1)\n",
    "printLinkedList(reverse(node3))"
   ]
  },
  {
   "cell_type": "code",
   "execution_count": 21,
   "metadata": {},
   "outputs": [],
   "source": [
    "class Node:\n",
    "    def __init__(self, data, next = None):\n",
    "        self.data = data\n",
    "        self.next = next\n",
    "\n",
    "def compare_lists(llist1, llist2):\n",
    "    while llist1:\n",
    "        if not llist1.data == llist2.data:\n",
    "            return 0\n",
    "        \n",
    "        llist1 = llist1.next\n",
    "        llist2 = llist2.next\n",
    "        \n",
    "    return 1"
   ]
  },
  {
   "cell_type": "code",
   "execution_count": 22,
   "metadata": {},
   "outputs": [
    {
     "data": {
      "text/plain": [
       "0"
      ]
     },
     "execution_count": 22,
     "metadata": {},
     "output_type": "execute_result"
    }
   ],
   "source": [
    "class Node:\n",
    "    def __init__(self, data, next = None):\n",
    "        self.data = data\n",
    "        self.next = next\n",
    "\n",
    "def compare_lists(llist1, llist2):\n",
    "    while llist1:\n",
    "        if not llist1.data == llist2.data:\n",
    "            return 0\n",
    "        \n",
    "        llist1 = llist1.next\n",
    "        llist2 = llist2.next\n",
    "        \n",
    "    return 1\n",
    "\n",
    "node5 = Node(5, None)\n",
    "node4 = Node(4, node5)\n",
    "node3 = Node(3, node4)\n",
    "node2 = Node(2, node3)\n",
    "node1 = Node(1, node2)\n",
    "node0 = Node(0, node1)\n",
    "\n",
    "n5 = Node(5, None)\n",
    "n4 = Node(4, n5)\n",
    "n3 = Node(3, n4)\n",
    "n2 = Node(3, n3)\n",
    "n1 = Node(1, n2)\n",
    "n0 = Node(0, n1)\n",
    "\n",
    "compare_lists(node0, n0)"
   ]
  },
  {
   "cell_type": "code",
   "execution_count": 23,
   "metadata": {},
   "outputs": [
    {
     "data": {
      "text/plain": [
       "0"
      ]
     },
     "execution_count": 23,
     "metadata": {},
     "output_type": "execute_result"
    }
   ],
   "source": [
    "class Node:\n",
    "    def __init__(self, data, next = None):\n",
    "        self.data = data\n",
    "        self.next = next\n",
    "\n",
    "def compare_lists(llist1, llist2):\n",
    "    while llist1:\n",
    "        if bool(llist1 == None) ^ bool(llist2 == None):\n",
    "            return 0;\n",
    "        \n",
    "        if not llist1.data == llist2.data:\n",
    "            return 0\n",
    "        \n",
    "        llist1 = llist1.next\n",
    "        llist2 = llist2.next\n",
    "        \n",
    "    return 1\n",
    "\n",
    "node5 = Node(5, None)\n",
    "node4 = Node(4, node5)\n",
    "node3 = Node(3, node4)\n",
    "node2 = Node(2, node3)\n",
    "node1 = Node(1, node2)\n",
    "node0 = Node(0, node1)\n",
    "\n",
    "n5 = Node(5, None)\n",
    "n4 = Node(4, n5)\n",
    "n3 = Node(3, n4)\n",
    "n2 = Node(1, n3)\n",
    "n1 = Node(1, n2)\n",
    "n0 = Node(0, n1)\n",
    "\n",
    "compare_lists(node0, n0)"
   ]
  },
  {
   "cell_type": "markdown",
   "metadata": {},
   "source": [
    "Given the head of a singly linked list, find the data at a given position, counted from the tail."
   ]
  },
  {
   "cell_type": "code",
   "execution_count": 28,
   "metadata": {},
   "outputs": [
    {
     "data": {
      "text/plain": [
       "3"
      ]
     },
     "execution_count": 28,
     "metadata": {},
     "output_type": "execute_result"
    }
   ],
   "source": [
    "class Node:\n",
    "    def __init__(self, data, next = None):\n",
    "        self.data = data\n",
    "        self.next = next\n",
    "        \n",
    "node3 = Node(1)\n",
    "node2 = Node(2, node3)\n",
    "node1 = Node(3, node2)\n",
    "\n",
    "n1 = Node(1)\n",
    "\n",
    "def getNode(head, positionFromTail):\n",
    "    n = 1\n",
    "    node = head\n",
    "    data = [head.data]\n",
    "    \n",
    "    while (node.next != None):\n",
    "        node = node.next\n",
    "        data.append(node.data)\n",
    "        n += 1\n",
    "        \n",
    "    p = n - positionFromTail - 1\n",
    "    return data[p]\n",
    "    \n",
    "getNode(node1, 2)\n",
    "#getNode(n1, 0)"
   ]
  },
  {
   "cell_type": "code",
   "execution_count": 1,
   "metadata": {},
   "outputs": [
    {
     "data": {
      "text/plain": [
       "'cOOl dOg'"
      ]
     },
     "execution_count": 1,
     "metadata": {},
     "output_type": "execute_result"
    }
   ],
   "source": [
    "def transformSentence(sentence):\n",
    "    words = sentence.split(' ')\n",
    "    resultWords = []\n",
    "    \n",
    "    for w in words:\n",
    "        letters = list(w)\n",
    "        \n",
    "        for i in range(1, len(letters)):\n",
    "            if ord(letters[i].lower()) > ord(letters[i - 1].lower()):\n",
    "                letters[i] = letters[i].upper()\n",
    "            elif ord(letters[i].lower()) < ord(letters[i - 1].lower()):\n",
    "                letters[i] = letters[i].lower()\n",
    "                \n",
    "        resultWords.append(''.join(letters))\n",
    "            \n",
    "    return ' '.join(resultWords)\n",
    "    \n",
    "transformSentence(\"coOL dog\")"
   ]
  },
  {
   "cell_type": "markdown",
   "metadata": {},
   "source": [
    "#### Jaggu Playing with Balloons (TODO)"
   ]
  },
  {
   "cell_type": "code",
   "execution_count": 2,
   "metadata": {},
   "outputs": [],
   "source": [
    "def  countSetBits(n):\n",
    "    count = 0\n",
    "    while (n):\n",
    "        count += n & 1\n",
    "        n >>= 1\n",
    "    return count"
   ]
  },
  {
   "cell_type": "code",
   "execution_count": 10,
   "metadata": {},
   "outputs": [],
   "source": [
    "import math\n",
    "\n",
    "def update(pos, M, plus):\n",
    "    N = 10000\n",
    "    \n",
    "    for i in range(1, 50 + 1):\n",
    "        back = pos\n",
    "        \n",
    "        for j in range(1, 1000 + 1):\n",
    "            # Add M water balloons at bucket pos\n",
    "            _in = countSetBits(pos)\n",
    "            k = 0\n",
    "        \n",
    "            while True:\n",
    "                s = pos + math.pow(2, k)\n",
    "            \n",
    "                if countSetBits(s) <= _in:\n",
    "                    _in = countSetBits(s)\n",
    "                    pos = s\n",
    "                \n",
    "                    if (pos > N):\n",
    "                        break\n",
    "                        # Add M water balloons at bucket pos\n",
    "                k += 1\n",
    "            pos -= N\n",
    "        pos = back + plus\n",
    "    \n",
    "        if pos > N:\n",
    "            pos -= N"
   ]
  },
  {
   "cell_type": "markdown",
   "metadata": {},
   "source": [
    "#### Remove Duplicates from Sorted Linked List"
   ]
  },
  {
   "cell_type": "code",
   "execution_count": 22,
   "metadata": {},
   "outputs": [],
   "source": [
    "class Node:\n",
    "    def __init__(self, data, next = None):\n",
    "        self.data = data\n",
    "        self.next = next"
   ]
  },
  {
   "cell_type": "code",
   "execution_count": 23,
   "metadata": {},
   "outputs": [],
   "source": [
    "node6 = Node(4)\n",
    "node5 = Node(4, node6)\n",
    "node4 = Node(3, node5)\n",
    "node3 = Node(3, node4)\n",
    "node2 = Node(2, node3)\n",
    "node1 = Node(1, node2)\n",
    "\n",
    "\n",
    "def removeDuplicates(llist):\n",
    "    temp = llist\n",
    "    \n",
    "    if temp is None:\n",
    "        return llist\n",
    "    \n",
    "    while temp.next is not None:\n",
    "        if temp.data == temp.next.data:\n",
    "            temp.next = temp.next.next\n",
    "        else:\n",
    "            temp = temp.next\n",
    "    return llist"
   ]
  },
  {
   "cell_type": "code",
   "execution_count": 24,
   "metadata": {},
   "outputs": [
    {
     "name": "stdout",
     "output_type": "stream",
     "text": [
      "1\n",
      "2\n",
      "3\n",
      "4\n"
     ]
    }
   ],
   "source": [
    "llist = removeDuplicates(node1)\n",
    "printLinkedList(llist)"
   ]
  },
  {
   "cell_type": "markdown",
   "metadata": {},
   "source": [
    "#### HasCycle (Using the turtoise and the hare / Floyd’s Cycle detection algorithm)"
   ]
  },
  {
   "cell_type": "code",
   "execution_count": 106,
   "metadata": {},
   "outputs": [],
   "source": [
    "def has_cycle(head):\n",
    "    if head == None:\n",
    "        return 0\n",
    "    \n",
    "    slow = head\n",
    "    fast = head\n",
    "    \n",
    "    while fast.next != None and fast.next.next != None:\n",
    "        slow = slow.next\n",
    "        fast = fast.next.next\n",
    "        \n",
    "        if (slow == fast):\n",
    "            return 1\n",
    "    \n",
    "    return 0"
   ]
  },
  {
   "cell_type": "code",
   "execution_count": 107,
   "metadata": {},
   "outputs": [
    {
     "data": {
      "text/plain": [
       "1"
      ]
     },
     "execution_count": 107,
     "metadata": {},
     "output_type": "execute_result"
    }
   ],
   "source": [
    "n1 = Node(1)\n",
    "n2 = Node(2)\n",
    "n3 = Node(3)\n",
    "\n",
    "n1.next = n2\n",
    "n2.next = n3\n",
    "n3.next = n1\n",
    "\n",
    "has_cycle(n1)"
   ]
  },
  {
   "cell_type": "code",
   "execution_count": 108,
   "metadata": {},
   "outputs": [
    {
     "data": {
      "text/plain": [
       "1"
      ]
     },
     "execution_count": 108,
     "metadata": {},
     "output_type": "execute_result"
    }
   ],
   "source": [
    "n1 = Node(1)\n",
    "n2 = Node(2)\n",
    "n3 = Node(3)\n",
    "\n",
    "llist = LinkedList()\n",
    "llist.push(n1)\n",
    "llist.push(n2)\n",
    "llist.push(n3)\n",
    "llist.push(n1)\n",
    "\n",
    "has_cycle(llist.head)"
   ]
  },
  {
   "cell_type": "code",
   "execution_count": null,
   "metadata": {},
   "outputs": [],
   "source": []
  },
  {
   "cell_type": "code",
   "execution_count": null,
   "metadata": {},
   "outputs": [],
   "source": []
  }
 ],
 "metadata": {
  "kernelspec": {
   "display_name": "Python 3 (ipykernel)",
   "language": "python",
   "name": "python3"
  },
  "language_info": {
   "codemirror_mode": {
    "name": "ipython",
    "version": 3
   },
   "file_extension": ".py",
   "mimetype": "text/x-python",
   "name": "python",
   "nbconvert_exporter": "python",
   "pygments_lexer": "ipython3",
   "version": "3.9.6"
  }
 },
 "nbformat": 4,
 "nbformat_minor": 2
}
