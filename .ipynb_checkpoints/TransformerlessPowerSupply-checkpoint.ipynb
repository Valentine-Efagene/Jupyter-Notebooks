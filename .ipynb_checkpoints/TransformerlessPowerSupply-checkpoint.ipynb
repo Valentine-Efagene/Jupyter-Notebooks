{
 "cells": [
  {
   "cell_type": "markdown",
   "metadata": {},
   "source": [
    "## TRANSFORMERLESS POWER SUPPLY"
   ]
  },
  {
   "cell_type": "code",
   "execution_count": 97,
   "metadata": {},
   "outputs": [],
   "source": [
    "from IPython.display import display_latex\n",
    "import math\n",
    "from decimal import *\n",
    "\n",
    "# Usage: display_full_latex('u_x')\n",
    "def display_full_latex(idx):\n",
    "    if(isinstance(idx, str)):\n",
    "        eqn = '\\\\[' + idx + '\\\\]'\n",
    "        display_latex(eqn, raw=True)\n",
    "    else:\n",
    "        eqn = '\\\\[' + latex(idx) + '\\\\]'\n",
    "        display_latex(eqn, raw=True)\n",
    "    return"
   ]
  },
  {
   "cell_type": "code",
   "execution_count": 107,
   "metadata": {},
   "outputs": [
    {
     "data": {
      "text/latex": [
       "\\[Z = \\frac{ V_{rms} - V_{ref} }{I}\\]"
      ]
     },
     "metadata": {},
     "output_type": "display_data"
    },
    {
     "data": {
      "text/latex": [
       "\\[X_c = \\sqrt(Z^2 - R^2)\\]"
      ]
     },
     "metadata": {},
     "output_type": "display_data"
    },
    {
     "data": {
      "text/latex": [
       "\\[C = \\frac{1}{2\\pi fX_c}\\]"
      ]
     },
     "metadata": {},
     "output_type": "display_data"
    },
    {
     "data": {
      "text/latex": [
       "\\[V_{avg} = 0.637 Vpk\\]"
      ]
     },
     "metadata": {},
     "output_type": "display_data"
    },
    {
     "data": {
      "text/latex": [
       "\\[I = \\frac{V_{avg} - V_{zener}}{Z}\\]"
      ]
     },
     "metadata": {},
     "output_type": "display_data"
    }
   ],
   "source": [
    "display_full_latex('Z = \\\\frac{ V_{rms} - V_{ref} }{I}')\n",
    "display_full_latex('X_c = \\\\sqrt(Z^2 - R^2)')\n",
    "display_full_latex('C = \\\\frac{1}{2\\\\pi fX_c}')\n",
    "display_full_latex('V_{avg} = 0.637 Vpk')\n",
    "display_full_latex('I = \\\\frac{V_{avg} - V_{zener}}{Z}')"
   ]
  },
  {
   "cell_type": "markdown",
   "metadata": {},
   "source": [
    "Where <br>\n",
    "V<sub>ref</sub> is the required imput voltage at the input node of the rectifier, and <br>\n",
    "I<sub>ref</sub> is the desired current."
   ]
  },
  {
   "cell_type": "code",
   "execution_count": 143,
   "metadata": {},
   "outputs": [
    {
     "name": "stdout",
     "output_type": "stream",
     "text": [
      "Vpk =  325.2691193458119\n",
      "Z =  28068.948475455858\n",
      "Xc =  28068.77034210433\n",
      "C =  1.1340357354604613e-07\n"
     ]
    }
   ],
   "source": [
    "V = 230\n",
    "f = 50\n",
    "R = 100\n",
    "Vzener = 5.1\n",
    "I = 0.72\n",
    "\n",
    "Vpk = V * math.sqrt(2)\n",
    "Vavg = 0.637 * Vpk\n",
    "Z = R * (Vavg - Vzener) / I\n",
    "Xc = math.sqrt(Z*Z - R*R)\n",
    "C = 1 / (2 * math.pi * f * Xc)\n",
    "\n",
    "print('Vpk = ', Vpk)\n",
    "print('Z = ', Z)\n",
    "print('Xc = ', Xc)\n",
    "print('C = ', C)\n",
    "#print('I = ', I)\n",
    "\n",
    "\n",
    "\n",
    "#print('C = ', Decimal(C).to_eng_string())"
   ]
  },
  {
   "cell_type": "code",
   "execution_count": null,
   "metadata": {},
   "outputs": [],
   "source": []
  },
  {
   "cell_type": "code",
   "execution_count": 140,
   "metadata": {},
   "outputs": [
    {
     "name": "stdout",
     "output_type": "stream",
     "text": [
      "I =  0.0007850108715966421\n",
      "Ipk =  0.0011101730212222957\n",
      "Idc =  0.0007071802145186024\n"
     ]
    }
   ],
   "source": [
    "V = 9\n",
    "f = 50\n",
    "R = 100\n",
    "C = math.pow(10, -6)\n",
    "I = (V - 1.4 - 5.1) / (math.sqrt(R*R + math.pow(1/(2 * math.pi * f * C), 2)))\n",
    "print('I = ', I)\n",
    "print('Ipk = ', I * math.sqrt(2))\n",
    "print('Idc = ', I * 0.637 * math.sqrt(2))"
   ]
  },
  {
   "cell_type": "code",
   "execution_count": 141,
   "metadata": {},
   "outputs": [
    {
     "name": "stdout",
     "output_type": "stream",
     "text": [
      "I =  2.286\n",
      "Ipk =  3.2328922035848957\n",
      "Idc =  2.0593523336835786\n"
     ]
    }
   ],
   "source": [
    "V = 230\n",
    "f = 50\n",
    "RL = 100\n",
    "C = math.pow(10, -6)\n",
    "I = (V - 1.4) / (RL)\n",
    "print('I = ', I)\n",
    "print('Ipk = ', I * math.sqrt(2))\n",
    "print('Idc = ', I * 0.637 * math.sqrt(2))"
   ]
  },
  {
   "cell_type": "code",
   "execution_count": null,
   "metadata": {},
   "outputs": [],
   "source": []
  }
 ],
 "metadata": {
  "kernelspec": {
   "display_name": "Python 3",
   "language": "python",
   "name": "python3"
  },
  "language_info": {
   "codemirror_mode": {
    "name": "ipython",
    "version": 3
   },
   "file_extension": ".py",
   "mimetype": "text/x-python",
   "name": "python",
   "nbconvert_exporter": "python",
   "pygments_lexer": "ipython3",
   "version": "3.6.6"
  }
 },
 "nbformat": 4,
 "nbformat_minor": 2
}
