{
 "cells": [
  {
   "cell_type": "markdown",
   "metadata": {},
   "source": [
    "### Imports"
   ]
  },
  {
   "cell_type": "code",
   "execution_count": 11,
   "metadata": {},
   "outputs": [],
   "source": [
    "import numpy as np\n",
    "import math\n",
    "import matplotlib.pyplot as plt\n",
    "import matplotlib as mpl\n",
    "from mpl_toolkits.mplot3d import Axes3D\n",
    "import pandas as pd"
   ]
  },
  {
   "cell_type": "markdown",
   "metadata": {},
   "source": [
    "### Preferences"
   ]
  },
  {
   "cell_type": "code",
   "execution_count": 12,
   "metadata": {},
   "outputs": [],
   "source": [
    "np.set_printoptions(precision=3)"
   ]
  },
  {
   "cell_type": "markdown",
   "metadata": {},
   "source": [
    "### Methods"
   ]
  },
  {
   "cell_type": "code",
   "execution_count": 92,
   "metadata": {},
   "outputs": [],
   "source": [
    "def R(theta):\n",
    "    theta = (np.pi / 180) * theta\n",
    "    R = np.zeros((3, 3))\n",
    "    R[0][0] = np.cos(theta)\n",
    "    R[0][1] = np.sin(theta)\n",
    "    R[0][2] = 0\n",
    "    R[1][0] = -np.sin(theta)\n",
    "    R[1][1] = np.cos(theta)\n",
    "    R[1][2] = 0\n",
    "    R[2][0] = 0\n",
    "    R[2][1] = 0\n",
    "    R[2][2] = 1\n",
    "    return R"
   ]
  },
  {
   "cell_type": "code",
   "execution_count": 93,
   "metadata": {},
   "outputs": [],
   "source": [
    "#T([Tx, Ty])\n",
    "def T(V):\n",
    "    T = np.eye(3)\n",
    "    T[2, :2] = V\n",
    "    return T"
   ]
  },
  {
   "cell_type": "code",
   "execution_count": 94,
   "metadata": {},
   "outputs": [],
   "source": [
    "#S([Sx, Sy])\n",
    "def S(V):\n",
    "    S = np.eye(3)\n",
    "    S[0, 0] = V[0]\n",
    "    S[1, 1] = V[1]\n",
    "    return S"
   ]
  },
  {
   "cell_type": "code",
   "execution_count": 95,
   "metadata": {},
   "outputs": [],
   "source": [
    "def Refx():\n",
    "    R = np.eye(3)\n",
    "    R[0, 0] = -1\n",
    "    return R"
   ]
  },
  {
   "cell_type": "code",
   "execution_count": 96,
   "metadata": {},
   "outputs": [],
   "source": [
    "def Refy():\n",
    "    R = np.eye(3)\n",
    "    R[1, 1] = -1\n",
    "    return R"
   ]
  },
  {
   "cell_type": "code",
   "execution_count": 97,
   "metadata": {},
   "outputs": [],
   "source": [
    "def plot_pairs(a, b):\n",
    "    try:\n",
    "        for row in a:\n",
    "            plt.scatter(row[0],row[1],color='black')\n",
    "    except IndexError:\n",
    "        plt.scatter(a[0],a[1],color='black')\n",
    "        \n",
    "    try: \n",
    "        for row in b:\n",
    "            plt.scatter(row[0],row[1],color='blue')\n",
    "    except IndexError:\n",
    "        plt.scatter(b[0],b[1],color='blue')\n",
    "        \n",
    "    return"
   ]
  },
  {
   "cell_type": "code",
   "execution_count": 104,
   "metadata": {},
   "outputs": [],
   "source": [
    "def plot_points(a):\n",
    "    try:\n",
    "        for row in a:\n",
    "            plt.scatter(row[0],row[1],color='black')\n",
    "    except IndexError:\n",
    "        plt.scatter(a[0],a[1],color='black')\n",
    "        \n",
    "    return"
   ]
  },
  {
   "cell_type": "markdown",
   "metadata": {},
   "source": [
    "## 2D TRANSFORMATIONS"
   ]
  },
  {
   "cell_type": "markdown",
   "metadata": {},
   "source": [
    "### Class Reflection About A Line Example"
   ]
  },
  {
   "cell_type": "code",
   "execution_count": 115,
   "metadata": {},
   "outputs": [
    {
     "name": "stdout",
     "output_type": "stream",
     "text": [
      "T = \n",
      "\n",
      "[[-0.8    0.6    0.   ]\n",
      " [ 0.6    0.8    0.   ]\n",
      " [-2.399  0.8    1.   ]]\n"
     ]
    },
    {
     "data": {
      "text/plain": [
       "[<matplotlib.lines.Line2D at 0x1af1f4b6b38>]"
      ]
     },
     "execution_count": 115,
     "metadata": {},
     "output_type": "execute_result"
    },
    {
     "data": {
      "image/png": "[encoded data removed]",
      "text/plain": [
       "<Figure size 432x288 with 1 Axes>"
      ]
     },
     "metadata": {
      "needs_background": "light"
     },
     "output_type": "display_data"
    }
   ],
   "source": [
    "t = T([0, -4]) @ R(-71.57) @ Refy() @ R(71.57) @ T([0, 4])\n",
    "a = np.array([[2, 3, 1], \n",
    "              [6, 3, 1], \n",
    "              [4, 8, 1]])\n",
    "\n",
    "L = np.array([[-10, -26, 1],\n",
    "              [10, 34, 1]])\n",
    "\n",
    "b = a @ t\n",
    "L = L @ t\n",
    "print(\"T = \\n\")\n",
    "print(t)\n",
    "\n",
    "ax = plt.axes()\n",
    "ax.axis('equal')\n",
    "ax.set_aspect('equal')\n",
    "plt.xlim(-10, 10)\n",
    "plt.ylim(0, 10)\n",
    "\n",
    "plt.grid()\n",
    "plt.plot(np.append(a[:, 0], a[0, 0]), np.append(a[:, 1], a[0, 1]), color='green')\n",
    "plt.plot(L[:, 0], L[:, 1])\n",
    "plt.plot(np.append(b[:, 0], b[0, 0]), np.append(b[:, 1], b[0, 1]), color='orange')"
   ]
  },
  {
   "cell_type": "markdown",
   "metadata": {},
   "source": [
    "### Class Circle Example"
   ]
  },
  {
   "cell_type": "code",
   "execution_count": 109,
   "metadata": {},
   "outputs": [
    {
     "name": "stdout",
     "output_type": "stream",
     "text": [
      "T = \n",
      "\n",
      "[[0.9 0.  0. ]\n",
      " [0.  0.6 0. ]\n",
      " [1.  4.  1. ]]\n"
     ]
    },
    {
     "data": {
      "text/plain": [
       "[<matplotlib.lines.Line2D at 0x1af1f236160>]"
      ]
     },
     "execution_count": 109,
     "metadata": {},
     "output_type": "execute_result"
    },
    {
     "data": {
      "image/png": "[encoded data removed]",
      "text/plain": [
       "<Figure size 432x288 with 1 Axes>"
      ]
     },
     "metadata": {
      "needs_background": "light"
     },
     "output_type": "display_data"
    }
   ],
   "source": [
    "t = T([-10, -10]) @ S([0.9, 0.6]) @ T([10, 10])\n",
    "a = np.array([[10, 15, 1], \n",
    "              [15, 10, 1], \n",
    "              [10, 5, 1],\n",
    "              [5, 10, 1]])\n",
    "\n",
    "b = a @ t\n",
    "print(\"T = \\n\")\n",
    "print(t)\n",
    "\n",
    "ax = plt.axes()\n",
    "ax.axis('equal')\n",
    "ax.set_aspect('equal')\n",
    "\n",
    "plt.grid()\n",
    "plt.plot(np.append(a[:, 0], a[0, 0]), np.append(a[:, 1], a[0, 1]), color='green')\n",
    "plt.plot(np.append(b[:, 0], b[0, 0]), np.append(b[:, 1], b[0, 1]), color='orange')"
   ]
  },
  {
   "cell_type": "markdown",
   "metadata": {},
   "source": [
    "### Class Example: Rotate Line Clockwise By 90"
   ]
  },
  {
   "cell_type": "code",
   "execution_count": 108,
   "metadata": {},
   "outputs": [
    {
     "name": "stdout",
     "output_type": "stream",
     "text": [
      "T = \n",
      "\n",
      "[[ 6.123e-17  1.000e+00  0.000e+00]\n",
      " [-1.000e+00  6.123e-17  0.000e+00]\n",
      " [ 3.500e+00 -4.500e+00  1.000e+00]]\n"
     ]
    },
    {
     "data": {
      "text/plain": [
       "[<matplotlib.lines.Line2D at 0x1af1f1b4fd0>]"
      ]
     },
     "execution_count": 108,
     "metadata": {},
     "output_type": "execute_result"
    },
    {
     "data": {
      "image/png": "[encoded data removed]",
      "text/plain": [
       "<Figure size 432x288 with 1 Axes>"
      ]
     },
     "metadata": {
      "needs_background": "light"
     },
     "output_type": "display_data"
    }
   ],
   "source": [
    "L = np.array([[-3, 8, 1],\n",
    "              [11, -9, 1]])\n",
    "\n",
    "mx = 0.5 * (L[0, 0] + L[1, 0])\n",
    "my = 0.5 * (L[0, 1] + L[1, 1])\n",
    "\n",
    "t = T([-mx, -my]) @ R(90) @ T([mx, my])\n",
    "\n",
    "L2 = L @ t\n",
    "print(\"T = \\n\")\n",
    "print(t)\n",
    "\n",
    "ax = plt.axes()\n",
    "ax.axis('equal')\n",
    "ax.set_aspect('equal')\n",
    "\n",
    "plt.grid()\n",
    "plt.plot(L[:, 0], L[:, 1])\n",
    "plt.plot(L2[:, 0], L2[:, 1])"
   ]
  },
  {
   "cell_type": "markdown",
   "metadata": {},
   "source": [
    "### Extras"
   ]
  },
  {
   "cell_type": "code",
   "execution_count": 114,
   "metadata": {},
   "outputs": [
    {
     "name": "stdout",
     "output_type": "stream",
     "text": [
      "T = \n",
      "\n",
      "[[  2.   0.   0.]\n",
      " [  0.   2.   0.]\n",
      " [-10. -10.   1.]]\n"
     ]
    },
    {
     "data": {
      "text/plain": [
       "[<matplotlib.lines.Line2D at 0x1af1f4397b8>]"
      ]
     },
     "execution_count": 114,
     "metadata": {},
     "output_type": "execute_result"
    },
    {
     "data": {
      "image/png": "[encoded data removed]",
      "text/plain": [
       "<Figure size 432x288 with 1 Axes>"
      ]
     },
     "metadata": {
      "needs_background": "light"
     },
     "output_type": "display_data"
    }
   ],
   "source": [
    "t = T([-10, -10]) @ S([2, 2]) @ T([10, 10])\n",
    "a = np.array([[15, 15, 1], \n",
    "              [15, 5, 1], \n",
    "              [5, 5, 1],\n",
    "              [5, 15, 1]])\n",
    "\n",
    "b = a @ t\n",
    "print(\"T = \\n\")\n",
    "print(t)\n",
    "\n",
    "ax = plt.axes()\n",
    "ax.axis('equal')\n",
    "ax.set_aspect('equal')\n",
    "plt.xlim(-10, 30)\n",
    "plt.ylim(-10, 30)\n",
    "\n",
    "plt.grid()\n",
    "plt.plot(np.append(a[:, 0], a[0, 0]), np.append(a[:, 1], a[0, 1]))\n",
    "plt.plot(np.append(b[:, 0], b[0, 0]), np.append(b[:, 1], b[0, 1]))"
   ]
  },
  {
   "cell_type": "code",
   "execution_count": 116,
   "metadata": {},
   "outputs": [
    {
     "name": "stdout",
     "output_type": "stream",
     "text": [
      "T = \n",
      "\n",
      "[[  2.   0.   0.]\n",
      " [  0.   2.   0.]\n",
      " [-10. -10.   1.]]\n"
     ]
    },
    {
     "data": {
      "text/plain": [
       "[<matplotlib.lines.Line2D at 0x1af1f500080>]"
      ]
     },
     "execution_count": 116,
     "metadata": {},
     "output_type": "execute_result"
    },
    {
     "data": {
      "image/png": "[encoded data removed]",
      "text/plain": [
       "<Figure size 432x288 with 1 Axes>"
      ]
     },
     "metadata": {
      "needs_background": "light"
     },
     "output_type": "display_data"
    }
   ],
   "source": [
    "t = T([-10, -10]) @ S([2, 2]) @ T([10, 10])\n",
    "a = np.array([[10, 15, 1], \n",
    "              [15, 10, 1], \n",
    "              [10, 5, 1],\n",
    "              [5, 10, 1]])\n",
    "\n",
    "b = a @ t\n",
    "print(\"T = \\n\")\n",
    "print(t)\n",
    "\n",
    "ax = plt.axes()\n",
    "ax.axis('equal')\n",
    "ax.set_aspect('equal')\n",
    "plt.xlim(-10, 30)\n",
    "plt.ylim(-10, 30)\n",
    "\n",
    "plt.grid()\n",
    "plt.plot(np.append(a[:, 0], a[0, 0]), np.append(a[:, 1], a[0, 1]), color='green')\n",
    "plt.plot(np.append(b[:, 0], b[0, 0]), np.append(b[:, 1], b[0, 1]), color='orange')"
   ]
  },
  {
   "cell_type": "markdown",
   "metadata": {},
   "source": [
    "## Line Algorithms"
   ]
  },
  {
   "cell_type": "code",
   "execution_count": 7,
   "metadata": {},
   "outputs": [],
   "source": [
    "def DDA(p1, p2):\n",
    "    dx = p2[0] - p1[0]\n",
    "    dy = p2[1] - p1[1]\n",
    "    X = [p1[0]]\n",
    "    Y = [p1[1]]\n",
    "    \n",
    "    if abs(dx) > abs(dy):\n",
    "        step = abs(dx)\n",
    "    else:\n",
    "        step = abs(dy)\n",
    "        \n",
    "    xmc = dx/step\n",
    "    ymc = dy/step\n",
    "    \n",
    "    for i in range(0, step):\n",
    "        X.append(X[i] + xmc)\n",
    "        Y.append(Y[i] + ymc)\n",
    "        \n",
    "    for i in range(0, len(Y)):\n",
    "        Y[i] = round(Y[i])\n",
    "    return X, Y"
   ]
  },
  {
   "cell_type": "code",
   "execution_count": 26,
   "metadata": {},
   "outputs": [
    {
     "name": "stdout",
     "output_type": "stream",
     "text": [
      "     X    Y\n",
      "0  1.0  1.0\n",
      "1  2.0  2.0\n",
      "2  3.0  2.0\n",
      "3  4.0  3.0\n",
      "4  5.0  3.0\n",
      "5  6.0  4.0\n",
      "6  7.0  4.0\n",
      "7  8.0  5.0\n"
     ]
    },
    {
     "data": {
      "text/plain": [
       "[<matplotlib.lines.Line2D at 0x25e20c78978>]"
      ]
     },
     "execution_count": 26,
     "metadata": {},
     "output_type": "execute_result"
    },
    {
     "data": {
      "image/png": "[encoded data removed]",
      "text/plain": [
       "<Figure size 432x288 with 1 Axes>"
      ]
     },
     "metadata": {
      "needs_background": "light"
     },
     "output_type": "display_data"
    }
   ],
   "source": [
    "[X, Y] = DDA((1, 1), (8, 5))\n",
    "df = pd.DataFrame(np.column_stack((X, Y)), columns=['X', 'Y'])\n",
    "print(df)\n",
    "plt.scatter(X, Y)\n",
    "plt.plot(X, Y)"
   ]
  },
  {
   "cell_type": "code",
   "execution_count": 9,
   "metadata": {},
   "outputs": [],
   "source": [
    "def bresenham(p1, p2):\n",
    "    dx = p2[0] - p1[0]\n",
    "    dy = p2[1] - p1[1]\n",
    "    X = []\n",
    "    Y = []\n",
    "    p = 2 * dy - dx\n",
    "    y = p1[1]\n",
    "    x = p1[0]\n",
    "    x2 = p2[0]\n",
    "    \n",
    "    while x <= x2:\n",
    "        X.append(x)\n",
    "        Y.append(y)\n",
    "        x += 1\n",
    "        \n",
    "        if p < 0:\n",
    "            p = p + 2 * dy\n",
    "        else:\n",
    "            p = p + 2 * dy - 2 * dx\n",
    "            y += 1\n",
    "    \n",
    "    return X, Y"
   ]
  },
  {
   "cell_type": "code",
   "execution_count": 27,
   "metadata": {},
   "outputs": [
    {
     "name": "stdout",
     "output_type": "stream",
     "text": [
      "   X  Y\n",
      "0  1  1\n",
      "1  2  2\n",
      "2  3  2\n",
      "3  4  3\n",
      "4  5  3\n",
      "5  6  4\n",
      "6  7  4\n",
      "7  8  5\n"
     ]
    },
    {
     "data": {
      "text/plain": [
       "[<matplotlib.lines.Line2D at 0x25e21c46eb8>]"
      ]
     },
     "execution_count": 27,
     "metadata": {},
     "output_type": "execute_result"
    },
    {
     "data": {
      "image/png": "[encoded data removed]",
      "text/plain": [
       "<Figure size 432x288 with 1 Axes>"
      ]
     },
     "metadata": {
      "needs_background": "light"
     },
     "output_type": "display_data"
    }
   ],
   "source": [
    "[X, Y] = bresenham((1, 1), (8, 5))\n",
    "df = pd.DataFrame(np.column_stack((X, Y)), columns=['X', 'Y'])\n",
    "print(df)\n",
    "plt.scatter(X, Y)\n",
    "plt.plot(X, Y)"
   ]
  },
  {
   "cell_type": "code",
   "execution_count": 31,
   "metadata": {},
   "outputs": [],
   "source": [
    "def nCr(n, r):\n",
    "    f = math.factorial\n",
    "    return f(n) // f(r) // f(n-r)"
   ]
  },
  {
   "cell_type": "code",
   "execution_count": 62,
   "metadata": {},
   "outputs": [],
   "source": [
    "def bezier(P, U = 0.1, umax = 0.9, step = 0.1):\n",
    "    n = len(P) - 1\n",
    "    Px = []\n",
    "    Py = []           \n",
    "    u = U\n",
    "\n",
    "    while u < umax:\n",
    "        p_x = 0\n",
    "        p_y = 0 \n",
    "\n",
    "        for k in range(0, n+1):\n",
    "            p_x += P[k][0] * nCr(n, k) * pow(u, k) * pow((1-u), n-k)\n",
    "\n",
    "            p_y += P[k][1] * nCr(n, k) * pow(u, k) * pow((1-u), n-k)\n",
    "\n",
    "        Px.append(p_x)\n",
    "        Py.append(p_y)\n",
    "        u += step\n",
    "\n",
    "    return Px, Py"
   ]
  },
  {
   "cell_type": "code",
   "execution_count": 75,
   "metadata": {},
   "outputs": [
    {
     "name": "stdout",
     "output_type": "stream",
     "text": [
      "      X     Y\n",
      "0   3.0  4.98\n",
      "1   4.0  6.52\n",
      "2   5.0  7.62\n",
      "3   6.0  8.28\n",
      "4   7.0  8.50\n",
      "5   8.0  8.28\n",
      "6   9.0  7.62\n",
      "7  10.0  6.52\n",
      "8  11.0  4.98\n"
     ]
    },
    {
     "data": {
      "text/plain": [
       "<matplotlib.collections.PathCollection at 0x25e23287860>"
      ]
     },
     "execution_count": 75,
     "metadata": {},
     "output_type": "execute_result"
    },
    {
     "data": {
      "image/png": "[encoded data removed]",
      "text/plain": [
       "<Figure size 432x288 with 1 Axes>"
      ]
     },
     "metadata": {
      "needs_background": "light"
     },
     "output_type": "display_data"
    }
   ],
   "source": [
    "P = [(2, 3), (7, 14), (12, 3)]\n",
    "Px = []\n",
    "Py = []\n",
    "\n",
    "for i in range(0, len(P)):\n",
    "    Px.append(P[i][0])\n",
    "    Py.append(P[i][1])\n",
    "\n",
    "[X, Y] = bezier(P)\n",
    "df = pd.DataFrame(np.column_stack((X, Y)), columns=['X', 'Y'])\n",
    "print(df)\n",
    "plt.scatter(X, Y)\n",
    "plt.plot(X, Y)\n",
    "\n",
    "plt.plot(Px, Py, color='orange')\n",
    "plt.scatter(Px, Py, color='orange')"
   ]
  },
  {
   "cell_type": "code",
   "execution_count": null,
   "metadata": {},
   "outputs": [],
   "source": []
  }
 ],
 "metadata": {
  "kernelspec": {
   "display_name": "Python 3",
   "language": "python",
   "name": "python3"
  },
  "language_info": {
   "codemirror_mode": {
    "name": "ipython",
    "version": 3
   },
   "file_extension": ".py",
   "mimetype": "text/x-python",
   "name": "python",
   "nbconvert_exporter": "python",
   "pygments_lexer": "ipython3",
   "version": "3.6.6"
  }
 },
 "nbformat": 4,
 "nbformat_minor": 2
}
