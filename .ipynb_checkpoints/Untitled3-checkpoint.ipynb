{
 "cells": [
  {
   "cell_type": "code",
   "execution_count": 22,
   "metadata": {},
   "outputs": [],
   "source": [
    "class Node:\n",
    "    def __init__(self, data, next = None):\n",
    "        self.data = data\n",
    "        self.next = next\n",
    "\n",
    "def printLinkedList(head):\n",
    "    '''Recursive'''\n",
    "    if head == None:\n",
    "        pass\n",
    "    else:\n",
    "        print(head.data)\n",
    "        printLinkedList(head.next)"
   ]
  },
  {
   "cell_type": "code",
   "execution_count": 86,
   "metadata": {},
   "outputs": [
    {
     "name": "stdout",
     "output_type": "stream",
     "text": [
      "2\n",
      "3\n",
      "4\n",
      "5\n"
     ]
    }
   ],
   "source": [
    "node5 = Node(5, None)\n",
    "node4 = Node(4, node5)\n",
    "node3 = Node(3, node4)\n",
    "node2 = Node(2, node3)\n",
    "node1 = Node(1, node2)\n",
    "node0 = Node(0, node1)\n",
    "printLinkedList(node2)"
   ]
  },
  {
   "cell_type": "code",
   "execution_count": 109,
   "metadata": {},
   "outputs": [
    {
     "data": {
      "text/plain": [
       "0"
      ]
     },
     "execution_count": 109,
     "metadata": {},
     "output_type": "execute_result"
    }
   ],
   "source": [
    "class Node:\n",
    "    def __init__(self, data, next = None):\n",
    "        self.data = data\n",
    "        self.next = next\n",
    "\n",
    "def compare_lists(llist1, llist2):\n",
    "    while llist1:\n",
    "        if bool(llist1 == None) ^ bool(llist2 == None):\n",
    "            return 0;\n",
    "        \n",
    "        if not llist1.data == llist2.data:\n",
    "            return 0\n",
    "        \n",
    "        llist1 = llist1.next\n",
    "        llist2 = llist2.next\n",
    "        \n",
    "    return 1\n",
    "\n",
    "node5 = Node(5, None)\n",
    "node4 = Node(4, node5)\n",
    "node3 = Node(3, node4)\n",
    "node2 = Node(2, node3)\n",
    "node1 = Node(1, node2)\n",
    "node0 = Node(0, node1)\n",
    "\n",
    "n5 = Node(5, None)\n",
    "n4 = Node(4, n5)\n",
    "n3 = Node(3, n4)\n",
    "n2 = Node(1, n3)\n",
    "n1 = Node(1, n2)\n",
    "n0 = Node(0, n1)\n",
    "\n",
    "compare_lists(node0, n0)"
   ]
  },
  {
   "cell_type": "code",
   "execution_count": 100,
   "metadata": {},
   "outputs": [
    {
     "data": {
      "text/plain": [
       "False"
      ]
     },
     "execution_count": 100,
     "metadata": {},
     "output_type": "execute_result"
    }
   ],
   "source": [
    "node4 == n4"
   ]
  },
  {
   "cell_type": "code",
   "execution_count": 119,
   "metadata": {},
   "outputs": [
    {
     "data": {
      "text/plain": [
       "2"
      ]
     },
     "execution_count": 119,
     "metadata": {},
     "output_type": "execute_result"
    }
   ],
   "source": [
    "def getMiddle(head):\n",
    "    if (head == None): \n",
    "        return head \n",
    "    slow = head \n",
    "    fast = head \n",
    "    while (fast.next != None and fast.next.next != None): \n",
    "        slow = slow.next\n",
    "        fast = fast.next.next\n",
    "    return slow \n",
    "    \n",
    "node5 = Node(5, None)\n",
    "node4 = Node(4, node5)\n",
    "node3 = Node(3, node4)\n",
    "node2 = Node(2, node3)\n",
    "node1 = Node(1, node2)\n",
    "node0 = Node(0, node1)\n",
    "getMiddle(node0).data"
   ]
  },
  {
   "cell_type": "code",
   "execution_count": 122,
   "metadata": {},
   "outputs": [],
   "source": [
    "def sortedMerge(a, b): \n",
    "    result = None\n",
    "    if a == None: \n",
    "        return b \n",
    "    if b == None: \n",
    "        return a \n",
    "    if a.data <= b.data:\n",
    "        result = a \n",
    "        result.next = sortedMerge(a.next, b) \n",
    "    else: \n",
    "        result = b \n",
    "        result.next = sortedMerge(a, b.next) \n",
    "    return result \n",
    "      \n",
    "def mergeSort(h):\n",
    "    if h == None or h.next == None: \n",
    "        return h \n",
    "    middle = getMiddle(h) \n",
    "    nexttomiddle = middle.next\n",
    "    middle.next = None\n",
    "    left = mergeSort(h) \n",
    "    right = mergeSort(nexttomiddle) \n",
    "    sortedlist = sortedMerge(left, right) \n",
    "    return sortedlist "
   ]
  },
  {
   "cell_type": "code",
   "execution_count": 126,
   "metadata": {},
   "outputs": [
    {
     "name": "stdout",
     "output_type": "stream",
     "text": [
      "0\n",
      "7\n",
      "1\n",
      "3\n",
      "8\n",
      "6\n",
      "3\n",
      "2\n",
      "4\n",
      "5\n",
      "10\n",
      "5\n"
     ]
    }
   ],
   "source": [
    "node5 = Node(5, None)\n",
    "node4 = Node(4, node5)\n",
    "node3 = Node(2, node4)\n",
    "node2 = Node(3, node3)\n",
    "node1 = Node(6, node2)\n",
    "node0 = Node(8, node1)\n",
    "\n",
    "n5 = Node(5, None)\n",
    "n4 = Node(10, n5)\n",
    "n3 = Node(3, n4)\n",
    "n2 = Node(1, n3)\n",
    "n1 = Node(7, n2)\n",
    "n0 = Node(0, n1)\n",
    "\n",
    "#n5.next = node0\n",
    "#printLinkedList(mergeSort(n0))\n",
    "printLinkedList(sortedMerge(n0, node0))"
   ]
  },
  {
   "cell_type": "code",
   "execution_count": 129,
   "metadata": {},
   "outputs": [
    {
     "name": "stdout",
     "output_type": "stream",
     "text": [
      "0\n",
      "1\n",
      "2\n",
      "3\n",
      "4\n",
      "5\n",
      "6\n",
      "7\n",
      "8\n",
      "9\n",
      "10\n",
      "11\n"
     ]
    }
   ],
   "source": [
    "def mergeLists(a, b):\n",
    "    result = None\n",
    "    if a == None: \n",
    "        return b \n",
    "    if b == None: \n",
    "        return a \n",
    "    if a.data <= b.data:\n",
    "        a.next = mergeLists(a.next, b)\n",
    "        return a\n",
    "    else: \n",
    "        b.next = mergeLists(a, b.next) \n",
    "        return b\n",
    "        \n",
    "node5 = Node(10, None)\n",
    "node4 = Node(8, node5)\n",
    "node3 = Node(6, node4)\n",
    "node2 = Node(4, node3)\n",
    "node1 = Node(2, node2)\n",
    "node0 = Node(0, node1)\n",
    "\n",
    "n5 = Node(11, None)\n",
    "n4 = Node(9, n5)\n",
    "n3 = Node(7, n4)\n",
    "n2 = Node(5, n3)\n",
    "n1 = Node(3, n2)\n",
    "n0 = Node(1, n1)\n",
    "printLinkedList(sortedMerge(n0, node0))"
   ]
  },
  {
   "cell_type": "code",
   "execution_count": null,
   "metadata": {},
   "outputs": [],
   "source": []
  }
 ],
 "metadata": {
  "kernelspec": {
   "display_name": "Python 3",
   "language": "python",
   "name": "python3"
  },
  "language_info": {
   "codemirror_mode": {
    "name": "ipython",
    "version": 3
   },
   "file_extension": ".py",
   "mimetype": "text/x-python",
   "name": "python",
   "nbconvert_exporter": "python",
   "pygments_lexer": "ipython3",
   "version": "3.6.6"
  }
 },
 "nbformat": 4,
 "nbformat_minor": 2
}
