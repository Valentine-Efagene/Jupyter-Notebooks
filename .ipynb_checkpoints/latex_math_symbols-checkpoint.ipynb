{
 "cells": [
  {
   "cell_type": "markdown",
   "metadata": {},
   "source": [
    "$\\mathbb{R}$  \n",
    "$\\bar{R}$  \n",
    "$\\frac{\\partial^2 R}{\\partial t}$  \n",
    "$\\overline{R}$  \n",
    "$\\vec{R}$  \n",
    "$\\hat{x}$  \n",
    "$\\widehat{x}$  \n",
    "$\\therefore$  \n",
    "$\\because$  \n",
    "$\\Rightarrow$  \n",
    "$\\rightarrow$  \n",
    "$\\implies$  \n",
    "$\\iff$  \n",
    "$\\leftrightarrow$  \n",
    "$\\Leftrightarrow$  \n",
    "$\\equiv$  \n",
    "$\\subset$  \n",
    "$\\supset$  \n",
    "$\\wedge$  \n",
    "$\\parallel$  \n",
    "$\\oplus$  \n",
    "$\\ominus$  \n",
    "$\\otimes$  \n",
    "$\\times$  \n",
    "$\\top$  \n",
    "$\\bot$  \n",
    "$\\forall$  \n",
    "$\\exists$  \n",
    "$\\exists!$  "
   ]
  },
  {
   "cell_type": "code",
   "execution_count": null,
   "metadata": {},
   "outputs": [],
   "source": []
  }
 ],
 "metadata": {
  "kernelspec": {
   "display_name": "Python 3",
   "language": "python",
   "name": "python3"
  },
  "language_info": {
   "codemirror_mode": {
    "name": "ipython",
    "version": 3
   },
   "file_extension": ".py",
   "mimetype": "text/x-python",
   "name": "python",
   "nbconvert_exporter": "python",
   "pygments_lexer": "ipython3",
   "version": "3.8.6rc1"
  }
 },
 "nbformat": 4,
 "nbformat_minor": 2
}
