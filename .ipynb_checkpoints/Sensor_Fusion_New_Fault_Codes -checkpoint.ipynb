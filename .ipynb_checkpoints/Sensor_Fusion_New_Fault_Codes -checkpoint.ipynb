{
 "cells": [
  {
   "cell_type": "code",
   "execution_count": 2,
   "metadata": {},
   "outputs": [],
   "source": [
    "import re\n",
    "import os\n",
    "import copy\n",
    "from math import log, pow\n",
    "import subprocess\n",
    "import matplotlib.pyplot as plt"
   ]
  },
  {
   "cell_type": "markdown",
   "metadata": {},
   "source": [
    "#### Fault Classes"
   ]
  },
  {
   "cell_type": "markdown",
   "metadata": {},
   "source": [
    "| Fault | Binary | Decimal |\n",
    "| --- | --- | --- |\n",
    "| A | 00 | 0 |\n",
    "| B | 01 | 1 |\n",
    "| C | 10 | 2 |\n",
    "| D | 11 | 3 |"
   ]
  },
  {
   "cell_type": "markdown",
   "metadata": {},
   "source": [
    "#### Fault Code = (variable << 2) + fault_class"
   ]
  },
  {
   "cell_type": "markdown",
   "metadata": {},
   "source": [
    "| Fault | Binary | Decimal |\n",
    "| --- | --- | --- |\n",
    "| A1 | 100 | 4 |\n",
    "| B1 | 101 | 5 |\n",
    "| C1 | 110 | 6 |\n",
    "| D1 | 111 | 7 |"
   ]
  },
  {
   "cell_type": "markdown",
   "metadata": {},
   "source": [
    "### Sample (C1)"
   ]
  },
  {
   "cell_type": "code",
   "execution_count": 134,
   "metadata": {},
   "outputs": [
    {
     "data": {
      "text/plain": [
       "6"
      ]
     },
     "execution_count": 134,
     "metadata": {},
     "output_type": "execute_result"
    }
   ],
   "source": [
    "fault = 2\n",
    "variable = 1\n",
    "code = (variable << 2) + fault\n",
    "code"
   ]
  },
  {
   "cell_type": "markdown",
   "metadata": {},
   "source": [
    "#### Reverse"
   ]
  },
  {
   "cell_type": "code",
   "execution_count": 135,
   "metadata": {},
   "outputs": [
    {
     "data": {
      "text/plain": [
       "2"
      ]
     },
     "execution_count": 135,
     "metadata": {},
     "output_type": "execute_result"
    }
   ],
   "source": [
    "fault = code & 3\n",
    "fault"
   ]
  },
  {
   "cell_type": "code",
   "execution_count": 136,
   "metadata": {},
   "outputs": [
    {
     "data": {
      "text/plain": [
       "1"
      ]
     },
     "execution_count": 136,
     "metadata": {},
     "output_type": "execute_result"
    }
   ],
   "source": [
    "variable = code >> 2\n",
    "variable"
   ]
  },
  {
   "cell_type": "markdown",
   "metadata": {},
   "source": [
    "#### Current Fault Codes"
   ]
  },
  {
   "cell_type": "markdown",
   "metadata": {},
   "source": [
    "| Fault | Decimal |\n",
    "| --- | --- |\n",
    "| A1 | 4 |\n",
    "| B1 | 5 |\n",
    "| C1 | 6 |\n",
    "| D1 | 7 |\n",
    "| A1B1 | 4-5 |\n",
    "| A1C1 | 4-6 |\n",
    "| A1D1 | 4-7 |\n",
    "| B1C1 | 5-6 |\n",
    "| C1D1 | 6-7 |"
   ]
  },
  {
   "cell_type": "markdown",
   "metadata": {},
   "source": [
    "#### Flow Chart"
   ]
  },
  {
   "cell_type": "code",
   "execution_count": 137,
   "metadata": {},
   "outputs": [
    {
     "data": {
      "text/plain": [
       "'sensorfusion'"
      ]
     },
     "execution_count": 137,
     "metadata": {},
     "output_type": "execute_result"
    }
   ],
   "source": [
    "from graphviz import Digraph\n",
    "\n",
    "dot = Digraph(node_attr={'shape': 'box'}, format='png', filename='sensorfusion')\n",
    "dot.edge_attr.update(arrowhead='vee', arrowsize='1')\n",
    "\n",
    "dot.node('0', 'Fault Generator')\n",
    "dot.node('1', 'Other Faults')\n",
    "dot.node('2', 'Supervisor (Polling)')\n",
    "dot.node('3', 'All faults\\n processed\\n?' ,shape='diamond')\n",
    "dot.node('4', 'Send trigger signal \\n &\\n increment frequency')\n",
    "dot.node('5', 'Append fault')\n",
    "dot.node('6', 'Does fault\\n exist?', shape='diamond')\n",
    "dot.node('7', 'Remove and delay fault\\nwith lower\\npriority')\n",
    "dot.node('8', 'Time\\nOut?', shape='diamond')\n",
    "dot.node('9', 'end', shape='oval')\n",
    "dot.node('10', 'start', shape='oval')\n",
    "dot.node('11', 'Delayed Faults')\n",
    "\n",
    "dot.edge('2', '1')\n",
    "dot.edge('0', '2', '  Possibility\\nof fault')\n",
    "dot.edge('1', '5', '  Possibility\\nof fault')\n",
    "dot.edge('2', '3')\n",
    "dot.edge('3', '6', 'Yes')\n",
    "dot.edge('3', '5', 'No')\n",
    "dot.edge('4', '8')\n",
    "dot.edge('5', '6')\n",
    "dot.edge('6', '4', 'Yes')\n",
    "dot.edge('6', '7', 'No')\n",
    "dot.edge('7', '3')\n",
    "dot.edge('8', '2', 'No')\n",
    "dot.edge('8', '9', 'Yes')\n",
    "dot.edge('10', '0')\n",
    "dot.edge('11', '1')\n",
    "dot.save()\n",
    "#dot.render(view=True)"
   ]
  },
  {
   "cell_type": "code",
   "execution_count": null,
   "metadata": {},
   "outputs": [],
   "source": []
  },
  {
   "cell_type": "code",
   "execution_count": null,
   "metadata": {},
   "outputs": [],
   "source": []
  },
  {
   "cell_type": "markdown",
   "metadata": {},
   "source": [
    "### Run"
   ]
  },
  {
   "cell_type": "code",
   "execution_count": 3,
   "metadata": {},
   "outputs": [],
   "source": [
    "command = \"D:/code/C++/RT-Cadmium-FDD-New-Code/top_model/main.exe\"\n",
    "completed_process = subprocess.run(command, shell=False, capture_output=True, text=True)\n",
    "#print(completed_process.stdout)"
   ]
  },
  {
   "cell_type": "markdown",
   "metadata": {},
   "source": [
    "\n",
    "### Read from file"
   ]
  },
  {
   "cell_type": "code",
   "execution_count": 4,
   "metadata": {},
   "outputs": [],
   "source": [
    "fileName = \"SensorFusion.txt\"\n",
    "    \n",
    "fault_codes = {}\n",
    "    \n",
    "with open(fileName, \"r\") as f:\n",
    "    lines = f.readlines()\n",
    "    \n",
    "with open(fileName, \"r\") as f:\n",
    "    output = f.read()\n",
    "    \n",
    "for line in lines:\n",
    "    if (re.search(\"supervisor\", line) != None):\n",
    "        res = re.findall(\"\\{\\d+[, ]*\\d*[, ]*\\d*\\}\", line)\n",
    "\n",
    "        if len(res) > 0:\n",
    "            str_interest = res[0].replace('}', '').replace('{', '')\n",
    "            faults = str_interest.split(', ')\n",
    "            key = '-' + '-'.join(faults) + '-'\n",
    "            fault_codes[key] = fault_codes.get(key, 0) + 1\n",
    "\n",
    "generators = {'A': 0, 'B': 0, 'C': 0, 'D': 0}\n",
    "\n",
    "for key in generators.keys():\n",
    "    generators[key] = len(re.findall(\"faultGen\" + key, output))"
   ]
  },
  {
   "cell_type": "code",
   "execution_count": 5,
   "metadata": {
    "scrolled": true
   },
   "outputs": [
    {
     "data": {
      "text/plain": [
       "{'-5-': 43, '-6-': 11, '-4-': 9, '-4-5-': 5, '-5-6-': 7, '-4-6-': 2}"
      ]
     },
     "execution_count": 5,
     "metadata": {},
     "output_type": "execute_result"
    }
   ],
   "source": [
    "fault_codes"
   ]
  },
  {
   "cell_type": "markdown",
   "metadata": {},
   "source": [
    "### ANALYSIS / VERIFICATION"
   ]
  },
  {
   "cell_type": "markdown",
   "metadata": {},
   "source": [
    "#### Definitions"
   ]
  },
  {
   "cell_type": "markdown",
   "metadata": {},
   "source": [
    "**Pure Fault**: Faults from a single generator.  \n",
    "**Compound Faults**: Faults formed from the combination of pure faults."
   ]
  },
  {
   "cell_type": "markdown",
   "metadata": {},
   "source": [
    "### Premise"
   ]
  },
  {
   "cell_type": "markdown",
   "metadata": {},
   "source": [
    "Fault $A1$: Should have no discarded entry, because it has the highest priority  \n",
    "Fault $B1$: Should have some discarded value, for the case $BD$, which is not available  \n",
    "Fault $C1$: Higher percentage of discarded cases than $C$, because of its lower priority  \n",
    "Fault $D1$: Highest percentage of discarded cases, because it has the lowest priority  "
   ]
  },
  {
   "cell_type": "markdown",
   "metadata": {},
   "source": [
    "Generator $output_{A1} = n({A1}) + n({A1} \\cap {B1}) + n({A1} \\cap {C1}) + n({A1} \\cap {D1}) + discarded_{A1}$  \n",
    "Generator $output_{B1} = n({B1}) + n({A1} \\cap {B1}) + n({B1} \\cap {C1}) + discarded_{B1}$  \n",
    "Generator $output_{C1} = n({C1}) + n({A1} \\cap {C1}) + n({B1} \\cap {C1}) + n({C1} \\cap {D1}) + discarded_{C1}$  \n",
    "Generator $output_{D1} = n({D1}) + n({A1} \\cap {D1}) + n({C1} \\cap {D1}) + discarded_{D1}$  \n",
    "\n",
    "Where $discarded_{A1} \\equiv 0$, because A has the highest priority, and $discarded_{B1} = 0$ because B1 has a fault code combination with the others in the right order, using the priority system."
   ]
  },
  {
   "cell_type": "code",
   "execution_count": 6,
   "metadata": {},
   "outputs": [],
   "source": [
    "def sumFromSupervisor(code):\n",
    "    '''\n",
    "    Returns the number of times faults associated with a particular pure fault (the parameter) were output by the supervisor\n",
    "\n",
    "    @param code: int\n",
    "    @return int\n",
    "    '''\n",
    "    sum = 0\n",
    "    \n",
    "    for key, value in fault_codes.items():\n",
    "        if '-' + str(code) + '-' in key:\n",
    "            sum += value;\n",
    "            \n",
    "    return sum;"
   ]
  },
  {
   "cell_type": "code",
   "execution_count": 7,
   "metadata": {},
   "outputs": [
    {
     "data": {
      "text/plain": [
       "0"
      ]
     },
     "execution_count": 7,
     "metadata": {},
     "output_type": "execute_result"
    }
   ],
   "source": [
    "a_discarded = generators['A'] - sumFromSupervisor(4)\n",
    "a_discarded"
   ]
  },
  {
   "cell_type": "code",
   "execution_count": 8,
   "metadata": {},
   "outputs": [
    {
     "data": {
      "text/plain": [
       "0"
      ]
     },
     "execution_count": 8,
     "metadata": {},
     "output_type": "execute_result"
    }
   ],
   "source": [
    "b_discarded = generators['B'] - sumFromSupervisor(5)\n",
    "b_discarded"
   ]
  },
  {
   "cell_type": "code",
   "execution_count": 9,
   "metadata": {},
   "outputs": [
    {
     "data": {
      "text/plain": [
       "0"
      ]
     },
     "execution_count": 9,
     "metadata": {},
     "output_type": "execute_result"
    }
   ],
   "source": [
    "c_discarded = generators['C'] - sumFromSupervisor(6)\n",
    "c_discarded"
   ]
  },
  {
   "cell_type": "code",
   "execution_count": 10,
   "metadata": {},
   "outputs": [
    {
     "data": {
      "text/plain": [
       "0"
      ]
     },
     "execution_count": 10,
     "metadata": {},
     "output_type": "execute_result"
    }
   ],
   "source": [
    "d_discarded = generators['D'] - sumFromSupervisor(7)\n",
    "d_discarded"
   ]
  },
  {
   "cell_type": "code",
   "execution_count": 11,
   "metadata": {},
   "outputs": [
    {
     "data": {
      "text/plain": [
       "0"
      ]
     },
     "execution_count": 11,
     "metadata": {},
     "output_type": "execute_result"
    }
   ],
   "source": [
    "total_discarded = a_discarded + b_discarded + c_discarded + d_discarded\n",
    "total_discarded"
   ]
  },
  {
   "cell_type": "code",
   "execution_count": 12,
   "metadata": {},
   "outputs": [
    {
     "data": {
      "text/plain": [
       "91"
      ]
     },
     "execution_count": 12,
     "metadata": {},
     "output_type": "execute_result"
    }
   ],
   "source": [
    "total_generated = generators['A'] + generators['B'] + generators['C'] + generators['D']\n",
    "total_generated"
   ]
  },
  {
   "cell_type": "code",
   "execution_count": 13,
   "metadata": {},
   "outputs": [],
   "source": [
    "discarded = {'A': a_discarded, 'B': b_discarded, 'C': c_discarded, 'D': d_discarded}\n",
    "discarded_percentage = {'A': a_discarded * 100 / total_generated, 'B': b_discarded * 100 / total_generated, 'C': c_discarded * 100 / total_generated, 'D': d_discarded * 100 / total_generated}"
   ]
  },
  {
   "cell_type": "code",
   "execution_count": 14,
   "metadata": {},
   "outputs": [
    {
     "ename": "NameError",
     "evalue": "name 'discarded_cases' is not defined",
     "output_type": "error",
     "traceback": [
      "\u001b[1;31m---------------------------------------------------------------------------\u001b[0m",
      "\u001b[1;31mNameError\u001b[0m                                 Traceback (most recent call last)",
      "\u001b[1;32m<ipython-input-14-cc5e39b71ca7>\u001b[0m in \u001b[0;36m<module>\u001b[1;34m\u001b[0m\n\u001b[1;32m----> 1\u001b[1;33m \u001b[0mdiscarded_cases\u001b[0m\u001b[1;33m\u001b[0m\u001b[1;33m\u001b[0m\u001b[0m\n\u001b[0m",
      "\u001b[1;31mNameError\u001b[0m: name 'discarded_cases' is not defined"
     ]
    }
   ],
   "source": [
    "discarded_cases"
   ]
  },
  {
   "cell_type": "code",
   "execution_count": null,
   "metadata": {},
   "outputs": [],
   "source": [
    "fault_codes"
   ]
  },
  {
   "cell_type": "code",
   "execution_count": null,
   "metadata": {},
   "outputs": [],
   "source": [
    "a_increment = generators['A'] - fault_codes['-4-5-'] - fault_codes['-4-6-'] - fault_codes['-4-7-'] - a_discarded\n",
    "a_increment"
   ]
  },
  {
   "cell_type": "code",
   "execution_count": null,
   "metadata": {},
   "outputs": [],
   "source": [
    "b_increment = generators['B'] - fault_codes['-4-5-'] - fault_codes['-5-6-'] - b_discarded\n",
    "b_increment"
   ]
  },
  {
   "cell_type": "code",
   "execution_count": null,
   "metadata": {},
   "outputs": [],
   "source": [
    "c_increment = generators['C'] - fault_codes['-4-6-'] - fault_codes['-5-6-'] - fault_codes['-6-7-'] - c_discarded\n",
    "c_increment"
   ]
  },
  {
   "cell_type": "code",
   "execution_count": null,
   "metadata": {},
   "outputs": [],
   "source": [
    "d_increment = generators['D'] - fault_codes['-4-7-'] - fault_codes['-6-7-'] - d_discarded\n",
    "d_increment"
   ]
  },
  {
   "cell_type": "markdown",
   "metadata": {},
   "source": [
    "### Discard Charts"
   ]
  },
  {
   "cell_type": "code",
   "execution_count": null,
   "metadata": {},
   "outputs": [],
   "source": [
    "#plt.title('Discarded Bar')\n",
    "plt.bar(discarded.keys(), discarded.values())\n",
    "#plt.show()\n",
    "plt.savefig('discarded bar.png', format='png')"
   ]
  },
  {
   "cell_type": "code",
   "execution_count": null,
   "metadata": {},
   "outputs": [],
   "source": [
    "keys, values = list(discarded.keys()), list(discarded.values())\n",
    "legend_keys = copy.copy(keys)\n",
    "\n",
    "for i in range(len(keys)):\n",
    "     legend_keys[i] = str(legend_keys[i]) + \" = \" + str(values[i])\n",
    "\n",
    "# Remove wedgeprops to make pie\n",
    "wedges, texts = plt.pie(values, textprops=dict(color=\"w\"), wedgeprops=dict(width=0.5))\n",
    "plt.legend(wedges, legend_keys,\n",
    "          title=\"Fault Codes\",\n",
    "          loc=\"center left\",\n",
    "          bbox_to_anchor=(1, 0, 0.5, 1))\n",
    "\n",
    "#plt.title(\"Discarded Pie\")\n",
    "#plt.show()\n",
    "plt.savefig('discard pie.png', format='png')"
   ]
  },
  {
   "cell_type": "markdown",
   "metadata": {},
   "source": [
    "### Discard Percentage Charts"
   ]
  },
  {
   "cell_type": "code",
   "execution_count": null,
   "metadata": {},
   "outputs": [],
   "source": [
    "#plt.title('Discard Percentage')\n",
    "plt.bar(discarded_percentage.keys(), discarded_percentage.values())\n",
    "#plt.show()\n",
    "plt.savefig('sensorfusion.png', format='png')"
   ]
  },
  {
   "cell_type": "code",
   "execution_count": null,
   "metadata": {},
   "outputs": [],
   "source": [
    "keys, values = list(discarded_percentage.keys()), list(discarded_percentage.values())\n",
    "legend_keys = copy.copy(keys)\n",
    "\n",
    "for i in range(len(keys)):\n",
    "     legend_keys[i] = str(legend_keys[i]) + \" (%) = \" + str(values[i])\n",
    "\n",
    "# Remove wedgeprops to make pie\n",
    "wedges, texts = plt.pie(values, textprops=dict(color=\"w\"), wedgeprops=dict(width=0.5))\n",
    "plt.legend(wedges, legend_keys,\n",
    "          title=\"Fault Codes\",\n",
    "          loc=\"center left\",\n",
    "          bbox_to_anchor=(1, 0, 0.5, 1))\n",
    "\n",
    "#plt.title(\"Discard Percentage\")\n",
    "plt.show()\n",
    "plt.savefig('discard percntage pie.png')"
   ]
  },
  {
   "cell_type": "markdown",
   "metadata": {},
   "source": [
    "### Toggle Time vs Frequency of Generators"
   ]
  },
  {
   "cell_type": "code",
   "execution_count": null,
   "metadata": {},
   "outputs": [],
   "source": [
    "toggle_times = {'A': 620, 'B': 180, 'C': 490, 'D': 270}"
   ]
  },
  {
   "cell_type": "markdown",
   "metadata": {},
   "source": [
    "#### Premise"
   ]
  },
  {
   "cell_type": "markdown",
   "metadata": {},
   "source": [
    "$faults\\,generated \\propto \\frac{1}{toggle\\,time}$\n",
    "\n",
    "$\\therefore B > D > C > A$"
   ]
  },
  {
   "cell_type": "markdown",
   "metadata": {},
   "source": [
    "### Generator Output Charts (Possibilities of Faults)"
   ]
  },
  {
   "cell_type": "code",
   "execution_count": null,
   "metadata": {},
   "outputs": [],
   "source": [
    "generators['A']"
   ]
  },
  {
   "cell_type": "code",
   "execution_count": 15,
   "metadata": {},
   "outputs": [
    {
     "data": {
      "image/png": "[encoded data removed]",
      "text/plain": [
       "<Figure size 432x288 with 1 Axes>"
      ]
     },
     "metadata": {
      "needs_background": "light"
     },
     "output_type": "display_data"
    }
   ],
   "source": [
    "#plt.title('Generator Output (Possibilities of Faults)')\n",
    "plt.bar(generators.keys(), generators.values())\n",
    "#plt.show()\n",
    "plt.savefig('generator output bar.png')"
   ]
  },
  {
   "cell_type": "code",
   "execution_count": null,
   "metadata": {
    "scrolled": true
   },
   "outputs": [],
   "source": [
    "keys, values = list(generators.keys()), list(generators.values())\n",
    "legend_keys = copy.copy(keys)\n",
    "\n",
    "for i in range(len(keys)):\n",
    "     legend_keys[i] = \"n (\" + str(legend_keys[i]) + \") = \" + str(values[i])\n",
    "\n",
    "# Remove wedgeprops to make pie\n",
    "wedges, texts = plt.pie(values, textprops=dict(color=\"w\"), wedgeprops=dict(width=0.5))\n",
    "plt.legend(wedges, legend_keys,\n",
    "          title=\"Fault Codes\",\n",
    "          loc=\"center left\",\n",
    "          bbox_to_anchor=(1, 0, 0.5, 1))\n",
    "\n",
    "#plt.title(\"Generator Output Charts (Possibilities of Fault)\")\n",
    "#plt.show()\n",
    "plt.savefig('generator output pie.png')"
   ]
  },
  {
   "cell_type": "markdown",
   "metadata": {},
   "source": [
    "### Single-Run Fault Charts"
   ]
  },
  {
   "cell_type": "code",
   "execution_count": null,
   "metadata": {},
   "outputs": [],
   "source": [
    "chart_data = copy.copy(fault_codes)\n",
    "values = list(chart_data.values())\n",
    "keys = list(chart_data.keys())\n",
    "\n",
    "#plt.title('Single-Run')\n",
    "plt.bar(keys, values)\n",
    "#plt.show()\n",
    "plt.savefig('single-run bar.png')"
   ]
  },
  {
   "cell_type": "code",
   "execution_count": null,
   "metadata": {
    "scrolled": true
   },
   "outputs": [],
   "source": [
    "# Remove wedgeprops to make pie\n",
    "wedges, texts = plt.pie(values, \n",
    "                        textprops=dict(color=\"w\"), \n",
    "                        wedgeprops=dict(width=0.5))\n",
    "\n",
    "legend_keys = copy.copy(keys)\n",
    "\n",
    "for i in range(len(keys)):\n",
    "     legend_keys[i] = str(legend_keys[i]) + \" \" + str(values[i]) + \" \" + \"times\"\n",
    "        \n",
    "plt.legend(wedges, legend_keys,\n",
    "          title=\"Fault Codes\",\n",
    "          loc=\"center left\",\n",
    "          bbox_to_anchor=(1, 0, 0.5, 1))\n",
    "\n",
    "#plt.title(\"Single-Run\")\n",
    "#plt.show()\n",
    "plt.savefig('single-run pie.png')"
   ]
  },
  {
   "cell_type": "markdown",
   "metadata": {},
   "source": [
    "### Cumulative Faults Chart"
   ]
  },
  {
   "cell_type": "code",
   "execution_count": null,
   "metadata": {},
   "outputs": [],
   "source": [
    "fileName = \"D:/code/C++/RT-Cadmium-FDD-New-Code/knowledge_base/_fault_codes_dir/_fault_codes_list.txt\"\n",
    "\n",
    "with open(fileName, \"r\") as f:\n",
    "    lines = f.readlines()\n",
    "    \n",
    "total = {}\n",
    "    \n",
    "for line in lines:\n",
    "    res = re.findall(\"\\d+[-]*\\d*\", line)\n",
    "\n",
    "    if len(res) > 0:\n",
    "        total[res[0]] = str(res[1])"
   ]
  },
  {
   "cell_type": "code",
   "execution_count": null,
   "metadata": {},
   "outputs": [],
   "source": [
    "values = list(total.values())\n",
    "keys = list(total.keys())\n",
    "\n",
    "#plt.title('Cummulative')\n",
    "plt.bar(keys, values)\n",
    "#plt.show()\n",
    "plt.savefig('single-run bar.png')"
   ]
  },
  {
   "cell_type": "code",
   "execution_count": null,
   "metadata": {},
   "outputs": [],
   "source": [
    "values = list(total.values())\n",
    "keys = list(total.keys())\n",
    "legend_keys = copy.copy(keys)\n",
    "\n",
    "for i in range(len(keys)):\n",
    "     legend_keys[i] = str(legend_keys[i]) + \" \" + str(values[i]) + \" \" + 'times'\n",
    "\n",
    "# Remove wedgeprops to make pie\n",
    "wedges, texts = plt.pie(values, textprops=dict(color=\"w\"), wedgeprops=dict(width=0.5))\n",
    "plt.legend(wedges, legend_keys,\n",
    "          title=\"Fault Codes\",\n",
    "          loc=\"center left\",\n",
    "          bbox_to_anchor=(1, 0, 0.5, 1))\n",
    "\n",
    "#plt.title(\"Cumulative\")\n",
    "#plt.show()\n",
    "plt.savefig('cumulative pie.png')"
   ]
  },
  {
   "cell_type": "code",
   "execution_count": null,
   "metadata": {},
   "outputs": [],
   "source": []
  }
 ],
 "metadata": {
  "kernelspec": {
   "display_name": "Python 3",
   "language": "python",
   "name": "python3"
  },
  "language_info": {
   "codemirror_mode": {
    "name": "ipython",
    "version": 3
   },
   "file_extension": ".py",
   "mimetype": "text/x-python",
   "name": "python",
   "nbconvert_exporter": "python",
   "pygments_lexer": "ipython3",
   "version": "3.8.6rc1"
  }
 },
 "nbformat": 4,
 "nbformat_minor": 4
}
